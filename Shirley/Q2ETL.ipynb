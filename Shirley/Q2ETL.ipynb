{
 "cells": [
  {
   "attachments": {},
   "cell_type": "markdown",
   "metadata": {},
   "source": [
    "\n",
    "# Question 2: Age Groups of Business Owners Across 4 years\n",
    "-   What ages are most business owners and how has the average age of business owners changed over time? Increase? Decrease? Drastic changes?\n"
   ]
  },
  {
   "attachments": {},
   "cell_type": "markdown",
   "metadata": {},
   "source": [
    "--------------------"
   ]
  },
  {
   "cell_type": "code",
   "execution_count": 28,
   "metadata": {},
   "outputs": [],
   "source": [
    "import pandas as pd\n",
    "from matplotlib import pyplot as plt\n",
    "import seaborn as sns\n",
    "import plotly.express as px\n",
    "import numpy as np\n",
    "import random\n",
    "import requests\n",
    "from IPython.display import display\n",
    "\n",
    "pd.options.display.max_columns = None\n",
    "pd.options.display.max_rows = None\n",
    "\n",
    "\n"
   ]
  },
  {
   "attachments": {},
   "cell_type": "markdown",
   "metadata": {},
   "source": [
    "### Extraction:\n",
    "-   URLS for different years to acquire the number of business owners that belong to each age group for api call"
   ]
  },
  {
   "cell_type": "code",
   "execution_count": 29,
   "metadata": {},
   "outputs": [],
   "source": [
    "\n",
    "url2018 = \"https://api.census.gov/data/2018/abscbo?get=GEO_ID,NAME,NAICS2017,NAICS2017_LABEL,QDESC,QDESC_LABEL,OWNCHAR,OWNCHAR_LABEL,YEAR,OWNPDEMP&for=us:*&QDESC_LABEL=OWNRAGE\"\n",
    "url2019 = \"https://api.census.gov/data/2019/abscbo?get=GEO_ID,NAME,NAICS2017,NAICS2017_LABEL,QDESC,QDESC_LABEL,OWNCHAR,OWNCHAR_LABEL,YEAR,OWNPDEMP&for=us:*&QDESC_LABEL=OWNRAGE\"\n",
    "url2020 = \"https://api.census.gov/data/2020/abscbo?get=GEO_ID,NAME,NAICS2017,NAICS2017_LABEL,QDESC,QDESC_LABEL,OWNCHAR,OWNCHAR_LABEL,YEAR,OWNPDEMP&for=us:*&QDESC_LABEL=OWNRAGE\"\n",
    "url2017 = \"https://api.census.gov/data/2017/abscbo?get=GEO_ID,NAME,NAICS2017,NAICS2017_LABEL,QDESC,QDESC_LABEL,OWNCHAR,OWNCHAR_LABEL,YEAR,OWNPDEMP&for=us:*&QDESC_LABEL=OWNRAGE\"\n",
    "\n",
    "key =\"&key=7325759f1ae7120e7f55c22ccd6fe9de386a7a0c\"\n"
   ]
  },
  {
   "attachments": {},
   "cell_type": "markdown",
   "metadata": {},
   "source": [
    "-   Function that returns the data frame of the url's api call\n"
   ]
  },
  {
   "cell_type": "code",
   "execution_count": 30,
   "metadata": {},
   "outputs": [],
   "source": [
    "\n",
    "#returns a dataframe after you pass in a string url that's valid hopefully\n",
    "def getDF(apiurl):\n",
    "    response = requests.get(apiurl)\n",
    "\n",
    "    col = response.json()[0] # header row\n",
    "\n",
    "    test = pd.DataFrame(data = response.json(),columns = col) #makes data frame with the header row as column names\n",
    "    test.drop(0,axis = 0,inplace=True) #it came with the header row that I dropped\n",
    "    return test\n"
   ]
  },
  {
   "attachments": {},
   "cell_type": "markdown",
   "metadata": {},
   "source": [
    "-   Calls API to get the dataframe for each year and adds to a dictionary with key as year and value as the dataframe to access each through a loop\n"
   ]
  },
  {
   "cell_type": "code",
   "execution_count": 31,
   "metadata": {},
   "outputs": [],
   "source": [
    "#makes a dictionary of urls for looping\n",
    "myurldict = {2017:url2017, 2018:url2018, 2019:url2019, 2020:url2020}\n",
    "dfs = {} #stores the 4 dataframes in here matching the year\n",
    "for keys in myurldict:\n",
    "    #make the api with the key\n",
    "    apiurl = myurldict[keys] + key\n",
    "    #get the dataframe for this api call\n",
    "    df=getDF(apiurl)\n",
    "    #add this dataframe to our dictionary with the year as its key\n",
    "    dfs[keys] = df"
   ]
  },
  {
   "attachments": {},
   "cell_type": "markdown",
   "metadata": {},
   "source": [
    "--------------------------"
   ]
  },
  {
   "attachments": {},
   "cell_type": "markdown",
   "metadata": {},
   "source": [
    "### Transform: \n",
    "1. Simple filters for rows and columns we do not want and changing our data types\n",
    "\n",
    "    **These steps require no order to be done in**\n",
    "-   Filter out the NAICS2017_LABEL for 'Total for all sectors' in order to get the total counts for each age group and get rid of any counts that may be duplicated by a break out label\n",
    "-   Filter out the columns we want such as 'OWNPDEMP' for the number of business owners, the 'YEAR', the 'OWNCHAR_LABEL' which are the age groups such as 'Under 25' '25-34', etc., and the NAICS2017_LABEL to know that we are dealing with totals of all business owners\n",
    "-   Filter rows of the OWNCHAR_LABEL with unhelpful categories such as 'Item not reported' and 'Total reporting'\n",
    "-   Change the OWNPDEMP which is the number of business owners to type int 64 so it can be plotted\n",
    "-   Save these dataframes now that they've been cleaned and filtered\n"
   ]
  },
  {
   "cell_type": "code",
   "execution_count": 32,
   "metadata": {},
   "outputs": [],
   "source": [
    "#makes a dictionary of urls for looping\n",
    "myurldict = {2017:url2017, 2018:url2018, 2019:url2019, 2020:url2020}\n",
    "\n",
    "\n",
    "#loop through each of the 4 urls\n",
    "for keys in dfs:\n",
    "    #filter for totals so there isn't double counting from break out labels\n",
    "    df = dfs[keys]\n",
    "    filter= df['NAICS2017_LABEL'] == 'Total for all sectors'\n",
    "    df = df[filter]\n",
    "    #filter the columns we need such as owner age groups, year, number of business owners, and the label\n",
    "    df = df[['NAICS2017_LABEL','OWNCHAR_LABEL','YEAR',\"OWNPDEMP\"]]\n",
    "    \n",
    "    #filter out weird category names such as item not reported and total reporting\n",
    "    filter = df['OWNCHAR_LABEL'] != 'Item not reported' \n",
    "    df = df[filter]\n",
    "    filter = df['OWNCHAR_LABEL'] != 'Total reporting'\n",
    "    df = df[filter]\n",
    "    \n",
    "    #change the number of busines owners column to an int 64 to be able to plot\n",
    "    df['OWNPDEMP'] = df['OWNPDEMP'].astype('int64')\n",
    "    \n",
    "    #replace this dataframe with our filtered dataframe to our dictionary with the year as its key\n",
    "    dfs[keys] = df\n",
    "    \n",
    "\n"
   ]
  },
  {
   "attachments": {},
   "cell_type": "markdown",
   "metadata": {},
   "source": [
    "2. Now that our data is clean, we can pivot the dataframe\n",
    "-   Pivotting each dataframe\n",
    "-   We pivot the dataframes so that each OWNCHAR_LABEL can hve its own column with the number of business owners(OWNPDEMP) will be the values in each column for the column headers\n",
    "-   We decide to make Year the index since it is what identifies our row uniquely\n",
    "-   Save these pivotted dfs in a new dictionary with the year as the key"
   ]
  },
  {
   "cell_type": "code",
   "execution_count": 33,
   "metadata": {},
   "outputs": [
    {
     "data": {
      "text/html": [
       "<div>\n",
       "<style scoped>\n",
       "    .dataframe tbody tr th:only-of-type {\n",
       "        vertical-align: middle;\n",
       "    }\n",
       "\n",
       "    .dataframe tbody tr th {\n",
       "        vertical-align: top;\n",
       "    }\n",
       "\n",
       "    .dataframe thead th {\n",
       "        text-align: right;\n",
       "    }\n",
       "</style>\n",
       "<table border=\"1\" class=\"dataframe\">\n",
       "  <thead>\n",
       "    <tr style=\"text-align: right;\">\n",
       "      <th></th>\n",
       "      <th>NAICS2017_LABEL</th>\n",
       "      <th>OWNCHAR_LABEL</th>\n",
       "      <th>YEAR</th>\n",
       "      <th>OWNPDEMP</th>\n",
       "    </tr>\n",
       "  </thead>\n",
       "  <tbody>\n",
       "    <tr>\n",
       "      <th>145</th>\n",
       "      <td>Total for all sectors</td>\n",
       "      <td>Under 25</td>\n",
       "      <td>2017</td>\n",
       "      <td>20903</td>\n",
       "    </tr>\n",
       "    <tr>\n",
       "      <th>146</th>\n",
       "      <td>Total for all sectors</td>\n",
       "      <td>25 to 34</td>\n",
       "      <td>2017</td>\n",
       "      <td>247936</td>\n",
       "    </tr>\n",
       "    <tr>\n",
       "      <th>147</th>\n",
       "      <td>Total for all sectors</td>\n",
       "      <td>35 to 44</td>\n",
       "      <td>2017</td>\n",
       "      <td>773007</td>\n",
       "    </tr>\n",
       "    <tr>\n",
       "      <th>148</th>\n",
       "      <td>Total for all sectors</td>\n",
       "      <td>45 to 54</td>\n",
       "      <td>2017</td>\n",
       "      <td>1285352</td>\n",
       "    </tr>\n",
       "    <tr>\n",
       "      <th>149</th>\n",
       "      <td>Total for all sectors</td>\n",
       "      <td>55 to 64</td>\n",
       "      <td>2017</td>\n",
       "      <td>1450875</td>\n",
       "    </tr>\n",
       "    <tr>\n",
       "      <th>150</th>\n",
       "      <td>Total for all sectors</td>\n",
       "      <td>65 or over</td>\n",
       "      <td>2017</td>\n",
       "      <td>951665</td>\n",
       "    </tr>\n",
       "  </tbody>\n",
       "</table>\n",
       "</div>"
      ],
      "text/plain": [
       "           NAICS2017_LABEL OWNCHAR_LABEL  YEAR  OWNPDEMP\n",
       "145  Total for all sectors      Under 25  2017     20903\n",
       "146  Total for all sectors      25 to 34  2017    247936\n",
       "147  Total for all sectors      35 to 44  2017    773007\n",
       "148  Total for all sectors      45 to 54  2017   1285352\n",
       "149  Total for all sectors      55 to 64  2017   1450875\n",
       "150  Total for all sectors    65 or over  2017    951665"
      ]
     },
     "metadata": {},
     "output_type": "display_data"
    },
    {
     "data": {
      "text/html": [
       "<div>\n",
       "<style scoped>\n",
       "    .dataframe tbody tr th:only-of-type {\n",
       "        vertical-align: middle;\n",
       "    }\n",
       "\n",
       "    .dataframe tbody tr th {\n",
       "        vertical-align: top;\n",
       "    }\n",
       "\n",
       "    .dataframe thead th {\n",
       "        text-align: right;\n",
       "    }\n",
       "</style>\n",
       "<table border=\"1\" class=\"dataframe\">\n",
       "  <thead>\n",
       "    <tr style=\"text-align: right;\">\n",
       "      <th>OWNCHAR_LABEL</th>\n",
       "      <th>25 to 34</th>\n",
       "      <th>35 to 44</th>\n",
       "      <th>45 to 54</th>\n",
       "      <th>55 to 64</th>\n",
       "      <th>65 or over</th>\n",
       "      <th>Under 25</th>\n",
       "    </tr>\n",
       "    <tr>\n",
       "      <th>YEAR</th>\n",
       "      <th></th>\n",
       "      <th></th>\n",
       "      <th></th>\n",
       "      <th></th>\n",
       "      <th></th>\n",
       "      <th></th>\n",
       "    </tr>\n",
       "  </thead>\n",
       "  <tbody>\n",
       "    <tr>\n",
       "      <th>2017</th>\n",
       "      <td>247936</td>\n",
       "      <td>773007</td>\n",
       "      <td>1285352</td>\n",
       "      <td>1450875</td>\n",
       "      <td>951665</td>\n",
       "      <td>20903</td>\n",
       "    </tr>\n",
       "  </tbody>\n",
       "</table>\n",
       "</div>"
      ],
      "text/plain": [
       "OWNCHAR_LABEL  25 to 34  35 to 44  45 to 54  55 to 64  65 or over  Under 25\n",
       "YEAR                                                                       \n",
       "2017             247936    773007   1285352   1450875      951665     20903"
      ]
     },
     "metadata": {},
     "output_type": "display_data"
    }
   ],
   "source": [
    "display(dfs[2017])\n",
    "#dictionary for pivotted dfs\n",
    "pivotdfs = {}\n",
    "\n",
    "#loop through the dataframes and pivot each one and save this back to the dictionary\n",
    "for keys in dfs:\n",
    "    #access each df\n",
    "    df = dfs[keys]\n",
    "    #pivot the df so that the age groups are now their individual columns with the number of business owners as the values\n",
    "    pivotdf = df.pivot(index = 'YEAR',columns = 'OWNCHAR_LABEL',values='OWNPDEMP')\n",
    "    pivotdf.reset_index\n",
    "    #save these pivvoted dfs in dictionary\n",
    "    pivotdfs[keys] = pivotdf\n",
    "\n",
    "display(pivotdfs[2017])\n",
    "    \n"
   ]
  },
  {
   "cell_type": "code",
   "execution_count": 34,
   "metadata": {},
   "outputs": [
    {
     "data": {
      "text/plain": [
       "Index(['25 to 34', '35 to 44', '45 to 54', '55 to 64', '65 or over',\n",
       "       'Under 25'],\n",
       "      dtype='object', name='OWNCHAR_LABEL')"
      ]
     },
     "execution_count": 34,
     "metadata": {},
     "output_type": "execute_result"
    }
   ],
   "source": [
    "\n",
    "\n",
    "pivotdfs[2017].columns\n"
   ]
  },
  {
   "attachments": {},
   "cell_type": "markdown",
   "metadata": {},
   "source": [
    "3. Concat each pivotted data frame on top of one another so that we now have only 1 dataframe to work with for visualizations later\n",
    "-   Make an empty dataframe to populate with dataframe concats\n",
    "-   Loop through each dataframe and concat it to the new dataframe we made\n"
   ]
  },
  {
   "cell_type": "code",
   "execution_count": 35,
   "metadata": {},
   "outputs": [
    {
     "data": {
      "text/html": [
       "<div>\n",
       "<style scoped>\n",
       "    .dataframe tbody tr th:only-of-type {\n",
       "        vertical-align: middle;\n",
       "    }\n",
       "\n",
       "    .dataframe tbody tr th {\n",
       "        vertical-align: top;\n",
       "    }\n",
       "\n",
       "    .dataframe thead th {\n",
       "        text-align: right;\n",
       "    }\n",
       "</style>\n",
       "<table border=\"1\" class=\"dataframe\">\n",
       "  <thead>\n",
       "    <tr style=\"text-align: right;\">\n",
       "      <th>OWNCHAR_LABEL</th>\n",
       "      <th>25 to 34</th>\n",
       "      <th>35 to 44</th>\n",
       "      <th>45 to 54</th>\n",
       "      <th>55 to 64</th>\n",
       "      <th>65 or over</th>\n",
       "      <th>Under 25</th>\n",
       "    </tr>\n",
       "    <tr>\n",
       "      <th>YEAR</th>\n",
       "      <th></th>\n",
       "      <th></th>\n",
       "      <th></th>\n",
       "      <th></th>\n",
       "      <th></th>\n",
       "      <th></th>\n",
       "    </tr>\n",
       "  </thead>\n",
       "  <tbody>\n",
       "    <tr>\n",
       "      <th>2017</th>\n",
       "      <td>247936</td>\n",
       "      <td>773007</td>\n",
       "      <td>1285352</td>\n",
       "      <td>1450875</td>\n",
       "      <td>951665</td>\n",
       "      <td>20903</td>\n",
       "    </tr>\n",
       "    <tr>\n",
       "      <th>2018</th>\n",
       "      <td>220886</td>\n",
       "      <td>692737</td>\n",
       "      <td>1094449</td>\n",
       "      <td>1249570</td>\n",
       "      <td>840871</td>\n",
       "      <td>15627</td>\n",
       "    </tr>\n",
       "    <tr>\n",
       "      <th>2019</th>\n",
       "      <td>209246</td>\n",
       "      <td>692067</td>\n",
       "      <td>1017944</td>\n",
       "      <td>1185044</td>\n",
       "      <td>823130</td>\n",
       "      <td>14926</td>\n",
       "    </tr>\n",
       "    <tr>\n",
       "      <th>2020</th>\n",
       "      <td>189780</td>\n",
       "      <td>618526</td>\n",
       "      <td>902631</td>\n",
       "      <td>1046247</td>\n",
       "      <td>753075</td>\n",
       "      <td>12135</td>\n",
       "    </tr>\n",
       "  </tbody>\n",
       "</table>\n",
       "</div>"
      ],
      "text/plain": [
       "OWNCHAR_LABEL  25 to 34  35 to 44  45 to 54  55 to 64  65 or over  Under 25\n",
       "YEAR                                                                       \n",
       "2017             247936    773007   1285352   1450875      951665     20903\n",
       "2018             220886    692737   1094449   1249570      840871     15627\n",
       "2019             209246    692067   1017944   1185044      823130     14926\n",
       "2020             189780    618526    902631   1046247      753075     12135"
      ]
     },
     "metadata": {},
     "output_type": "display_data"
    }
   ],
   "source": [
    "#empty df for concat loop\n",
    "newdf = pd.DataFrame()\n",
    "\n",
    "#llop through the pivotted dfs and concat them together\n",
    "for keys in pivotdfs:\n",
    "    newdf = pd.concat([newdf,pivotdfs[keys]])\n",
    "\n",
    "display(newdf)\n"
   ]
  },
  {
   "attachments": {},
   "cell_type": "markdown",
   "metadata": {},
   "source": [
    "--------------------------"
   ]
  },
  {
   "cell_type": "markdown",
   "metadata": {},
   "source": [
    "### LOAD : Line chart for each age group for the number of business owners in that age group across 2017-2020\n"
   ]
  },
  {
   "attachments": {},
   "cell_type": "markdown",
   "metadata": {},
   "source": [
    "-   Line graph with plotly\n",
    "\n"
   ]
  },
  {
   "cell_type": "code",
   "execution_count": 36,
   "metadata": {},
   "outputs": [
    {
     "name": "stdout",
     "output_type": "stream",
     "text": [
      "['25 to 34', '35 to 44', '45 to 54', '55 to 64', '65 or over', 'Under 25']\n"
     ]
    },
    {
     "data": {
      "application/vnd.plotly.v1+json": {
       "config": {
        "plotlyServerURL": "https://plot.ly"
       },
       "data": [
        {
         "hovertemplate": "variable=25 to 34<br>YEAR=%{x}<br>value=%{y}<extra></extra>",
         "legendgroup": "25 to 34",
         "line": {
          "color": "#636efa",
          "dash": "solid"
         },
         "marker": {
          "symbol": "circle"
         },
         "mode": "lines+markers",
         "name": "25 to 34",
         "orientation": "v",
         "showlegend": true,
         "type": "scatter",
         "x": [
          "2017",
          "2018",
          "2019",
          "2020"
         ],
         "xaxis": "x",
         "y": [
          247936,
          220886,
          209246,
          189780
         ],
         "yaxis": "y"
        },
        {
         "hovertemplate": "variable=35 to 44<br>YEAR=%{x}<br>value=%{y}<extra></extra>",
         "legendgroup": "35 to 44",
         "line": {
          "color": "#EF553B",
          "dash": "solid"
         },
         "marker": {
          "symbol": "circle"
         },
         "mode": "lines+markers",
         "name": "35 to 44",
         "orientation": "v",
         "showlegend": true,
         "type": "scatter",
         "x": [
          "2017",
          "2018",
          "2019",
          "2020"
         ],
         "xaxis": "x",
         "y": [
          773007,
          692737,
          692067,
          618526
         ],
         "yaxis": "y"
        },
        {
         "hovertemplate": "variable=45 to 54<br>YEAR=%{x}<br>value=%{y}<extra></extra>",
         "legendgroup": "45 to 54",
         "line": {
          "color": "#00cc96",
          "dash": "solid"
         },
         "marker": {
          "symbol": "circle"
         },
         "mode": "lines+markers",
         "name": "45 to 54",
         "orientation": "v",
         "showlegend": true,
         "type": "scatter",
         "x": [
          "2017",
          "2018",
          "2019",
          "2020"
         ],
         "xaxis": "x",
         "y": [
          1285352,
          1094449,
          1017944,
          902631
         ],
         "yaxis": "y"
        },
        {
         "hovertemplate": "variable=55 to 64<br>YEAR=%{x}<br>value=%{y}<extra></extra>",
         "legendgroup": "55 to 64",
         "line": {
          "color": "#ab63fa",
          "dash": "solid"
         },
         "marker": {
          "symbol": "circle"
         },
         "mode": "lines+markers",
         "name": "55 to 64",
         "orientation": "v",
         "showlegend": true,
         "type": "scatter",
         "x": [
          "2017",
          "2018",
          "2019",
          "2020"
         ],
         "xaxis": "x",
         "y": [
          1450875,
          1249570,
          1185044,
          1046247
         ],
         "yaxis": "y"
        },
        {
         "hovertemplate": "variable=65 or over<br>YEAR=%{x}<br>value=%{y}<extra></extra>",
         "legendgroup": "65 or over",
         "line": {
          "color": "#FFA15A",
          "dash": "solid"
         },
         "marker": {
          "symbol": "circle"
         },
         "mode": "lines+markers",
         "name": "65 or over",
         "orientation": "v",
         "showlegend": true,
         "type": "scatter",
         "x": [
          "2017",
          "2018",
          "2019",
          "2020"
         ],
         "xaxis": "x",
         "y": [
          951665,
          840871,
          823130,
          753075
         ],
         "yaxis": "y"
        },
        {
         "hovertemplate": "variable=Under 25<br>YEAR=%{x}<br>value=%{y}<extra></extra>",
         "legendgroup": "Under 25",
         "line": {
          "color": "#19d3f3",
          "dash": "solid"
         },
         "marker": {
          "symbol": "circle"
         },
         "mode": "lines+markers",
         "name": "Under 25",
         "orientation": "v",
         "showlegend": true,
         "type": "scatter",
         "x": [
          "2017",
          "2018",
          "2019",
          "2020"
         ],
         "xaxis": "x",
         "y": [
          20903,
          15627,
          14926,
          12135
         ],
         "yaxis": "y"
        }
       ],
       "layout": {
        "legend": {
         "title": {
          "text": "Age groups"
         },
         "tracegroupgap": 0
        },
        "margin": {
         "t": 60
        },
        "template": {
         "data": {
          "bar": [
           {
            "error_x": {
             "color": "#2a3f5f"
            },
            "error_y": {
             "color": "#2a3f5f"
            },
            "marker": {
             "line": {
              "color": "#E5ECF6",
              "width": 0.5
             },
             "pattern": {
              "fillmode": "overlay",
              "size": 10,
              "solidity": 0.2
             }
            },
            "type": "bar"
           }
          ],
          "barpolar": [
           {
            "marker": {
             "line": {
              "color": "#E5ECF6",
              "width": 0.5
             },
             "pattern": {
              "fillmode": "overlay",
              "size": 10,
              "solidity": 0.2
             }
            },
            "type": "barpolar"
           }
          ],
          "carpet": [
           {
            "aaxis": {
             "endlinecolor": "#2a3f5f",
             "gridcolor": "white",
             "linecolor": "white",
             "minorgridcolor": "white",
             "startlinecolor": "#2a3f5f"
            },
            "baxis": {
             "endlinecolor": "#2a3f5f",
             "gridcolor": "white",
             "linecolor": "white",
             "minorgridcolor": "white",
             "startlinecolor": "#2a3f5f"
            },
            "type": "carpet"
           }
          ],
          "choropleth": [
           {
            "colorbar": {
             "outlinewidth": 0,
             "ticks": ""
            },
            "type": "choropleth"
           }
          ],
          "contour": [
           {
            "colorbar": {
             "outlinewidth": 0,
             "ticks": ""
            },
            "colorscale": [
             [
              0,
              "#0d0887"
             ],
             [
              0.1111111111111111,
              "#46039f"
             ],
             [
              0.2222222222222222,
              "#7201a8"
             ],
             [
              0.3333333333333333,
              "#9c179e"
             ],
             [
              0.4444444444444444,
              "#bd3786"
             ],
             [
              0.5555555555555556,
              "#d8576b"
             ],
             [
              0.6666666666666666,
              "#ed7953"
             ],
             [
              0.7777777777777778,
              "#fb9f3a"
             ],
             [
              0.8888888888888888,
              "#fdca26"
             ],
             [
              1,
              "#f0f921"
             ]
            ],
            "type": "contour"
           }
          ],
          "contourcarpet": [
           {
            "colorbar": {
             "outlinewidth": 0,
             "ticks": ""
            },
            "type": "contourcarpet"
           }
          ],
          "heatmap": [
           {
            "colorbar": {
             "outlinewidth": 0,
             "ticks": ""
            },
            "colorscale": [
             [
              0,
              "#0d0887"
             ],
             [
              0.1111111111111111,
              "#46039f"
             ],
             [
              0.2222222222222222,
              "#7201a8"
             ],
             [
              0.3333333333333333,
              "#9c179e"
             ],
             [
              0.4444444444444444,
              "#bd3786"
             ],
             [
              0.5555555555555556,
              "#d8576b"
             ],
             [
              0.6666666666666666,
              "#ed7953"
             ],
             [
              0.7777777777777778,
              "#fb9f3a"
             ],
             [
              0.8888888888888888,
              "#fdca26"
             ],
             [
              1,
              "#f0f921"
             ]
            ],
            "type": "heatmap"
           }
          ],
          "heatmapgl": [
           {
            "colorbar": {
             "outlinewidth": 0,
             "ticks": ""
            },
            "colorscale": [
             [
              0,
              "#0d0887"
             ],
             [
              0.1111111111111111,
              "#46039f"
             ],
             [
              0.2222222222222222,
              "#7201a8"
             ],
             [
              0.3333333333333333,
              "#9c179e"
             ],
             [
              0.4444444444444444,
              "#bd3786"
             ],
             [
              0.5555555555555556,
              "#d8576b"
             ],
             [
              0.6666666666666666,
              "#ed7953"
             ],
             [
              0.7777777777777778,
              "#fb9f3a"
             ],
             [
              0.8888888888888888,
              "#fdca26"
             ],
             [
              1,
              "#f0f921"
             ]
            ],
            "type": "heatmapgl"
           }
          ],
          "histogram": [
           {
            "marker": {
             "pattern": {
              "fillmode": "overlay",
              "size": 10,
              "solidity": 0.2
             }
            },
            "type": "histogram"
           }
          ],
          "histogram2d": [
           {
            "colorbar": {
             "outlinewidth": 0,
             "ticks": ""
            },
            "colorscale": [
             [
              0,
              "#0d0887"
             ],
             [
              0.1111111111111111,
              "#46039f"
             ],
             [
              0.2222222222222222,
              "#7201a8"
             ],
             [
              0.3333333333333333,
              "#9c179e"
             ],
             [
              0.4444444444444444,
              "#bd3786"
             ],
             [
              0.5555555555555556,
              "#d8576b"
             ],
             [
              0.6666666666666666,
              "#ed7953"
             ],
             [
              0.7777777777777778,
              "#fb9f3a"
             ],
             [
              0.8888888888888888,
              "#fdca26"
             ],
             [
              1,
              "#f0f921"
             ]
            ],
            "type": "histogram2d"
           }
          ],
          "histogram2dcontour": [
           {
            "colorbar": {
             "outlinewidth": 0,
             "ticks": ""
            },
            "colorscale": [
             [
              0,
              "#0d0887"
             ],
             [
              0.1111111111111111,
              "#46039f"
             ],
             [
              0.2222222222222222,
              "#7201a8"
             ],
             [
              0.3333333333333333,
              "#9c179e"
             ],
             [
              0.4444444444444444,
              "#bd3786"
             ],
             [
              0.5555555555555556,
              "#d8576b"
             ],
             [
              0.6666666666666666,
              "#ed7953"
             ],
             [
              0.7777777777777778,
              "#fb9f3a"
             ],
             [
              0.8888888888888888,
              "#fdca26"
             ],
             [
              1,
              "#f0f921"
             ]
            ],
            "type": "histogram2dcontour"
           }
          ],
          "mesh3d": [
           {
            "colorbar": {
             "outlinewidth": 0,
             "ticks": ""
            },
            "type": "mesh3d"
           }
          ],
          "parcoords": [
           {
            "line": {
             "colorbar": {
              "outlinewidth": 0,
              "ticks": ""
             }
            },
            "type": "parcoords"
           }
          ],
          "pie": [
           {
            "automargin": true,
            "type": "pie"
           }
          ],
          "scatter": [
           {
            "fillpattern": {
             "fillmode": "overlay",
             "size": 10,
             "solidity": 0.2
            },
            "type": "scatter"
           }
          ],
          "scatter3d": [
           {
            "line": {
             "colorbar": {
              "outlinewidth": 0,
              "ticks": ""
             }
            },
            "marker": {
             "colorbar": {
              "outlinewidth": 0,
              "ticks": ""
             }
            },
            "type": "scatter3d"
           }
          ],
          "scattercarpet": [
           {
            "marker": {
             "colorbar": {
              "outlinewidth": 0,
              "ticks": ""
             }
            },
            "type": "scattercarpet"
           }
          ],
          "scattergeo": [
           {
            "marker": {
             "colorbar": {
              "outlinewidth": 0,
              "ticks": ""
             }
            },
            "type": "scattergeo"
           }
          ],
          "scattergl": [
           {
            "marker": {
             "colorbar": {
              "outlinewidth": 0,
              "ticks": ""
             }
            },
            "type": "scattergl"
           }
          ],
          "scattermapbox": [
           {
            "marker": {
             "colorbar": {
              "outlinewidth": 0,
              "ticks": ""
             }
            },
            "type": "scattermapbox"
           }
          ],
          "scatterpolar": [
           {
            "marker": {
             "colorbar": {
              "outlinewidth": 0,
              "ticks": ""
             }
            },
            "type": "scatterpolar"
           }
          ],
          "scatterpolargl": [
           {
            "marker": {
             "colorbar": {
              "outlinewidth": 0,
              "ticks": ""
             }
            },
            "type": "scatterpolargl"
           }
          ],
          "scatterternary": [
           {
            "marker": {
             "colorbar": {
              "outlinewidth": 0,
              "ticks": ""
             }
            },
            "type": "scatterternary"
           }
          ],
          "surface": [
           {
            "colorbar": {
             "outlinewidth": 0,
             "ticks": ""
            },
            "colorscale": [
             [
              0,
              "#0d0887"
             ],
             [
              0.1111111111111111,
              "#46039f"
             ],
             [
              0.2222222222222222,
              "#7201a8"
             ],
             [
              0.3333333333333333,
              "#9c179e"
             ],
             [
              0.4444444444444444,
              "#bd3786"
             ],
             [
              0.5555555555555556,
              "#d8576b"
             ],
             [
              0.6666666666666666,
              "#ed7953"
             ],
             [
              0.7777777777777778,
              "#fb9f3a"
             ],
             [
              0.8888888888888888,
              "#fdca26"
             ],
             [
              1,
              "#f0f921"
             ]
            ],
            "type": "surface"
           }
          ],
          "table": [
           {
            "cells": {
             "fill": {
              "color": "#EBF0F8"
             },
             "line": {
              "color": "white"
             }
            },
            "header": {
             "fill": {
              "color": "#C8D4E3"
             },
             "line": {
              "color": "white"
             }
            },
            "type": "table"
           }
          ]
         },
         "layout": {
          "annotationdefaults": {
           "arrowcolor": "#2a3f5f",
           "arrowhead": 0,
           "arrowwidth": 1
          },
          "autotypenumbers": "strict",
          "coloraxis": {
           "colorbar": {
            "outlinewidth": 0,
            "ticks": ""
           }
          },
          "colorscale": {
           "diverging": [
            [
             0,
             "#8e0152"
            ],
            [
             0.1,
             "#c51b7d"
            ],
            [
             0.2,
             "#de77ae"
            ],
            [
             0.3,
             "#f1b6da"
            ],
            [
             0.4,
             "#fde0ef"
            ],
            [
             0.5,
             "#f7f7f7"
            ],
            [
             0.6,
             "#e6f5d0"
            ],
            [
             0.7,
             "#b8e186"
            ],
            [
             0.8,
             "#7fbc41"
            ],
            [
             0.9,
             "#4d9221"
            ],
            [
             1,
             "#276419"
            ]
           ],
           "sequential": [
            [
             0,
             "#0d0887"
            ],
            [
             0.1111111111111111,
             "#46039f"
            ],
            [
             0.2222222222222222,
             "#7201a8"
            ],
            [
             0.3333333333333333,
             "#9c179e"
            ],
            [
             0.4444444444444444,
             "#bd3786"
            ],
            [
             0.5555555555555556,
             "#d8576b"
            ],
            [
             0.6666666666666666,
             "#ed7953"
            ],
            [
             0.7777777777777778,
             "#fb9f3a"
            ],
            [
             0.8888888888888888,
             "#fdca26"
            ],
            [
             1,
             "#f0f921"
            ]
           ],
           "sequentialminus": [
            [
             0,
             "#0d0887"
            ],
            [
             0.1111111111111111,
             "#46039f"
            ],
            [
             0.2222222222222222,
             "#7201a8"
            ],
            [
             0.3333333333333333,
             "#9c179e"
            ],
            [
             0.4444444444444444,
             "#bd3786"
            ],
            [
             0.5555555555555556,
             "#d8576b"
            ],
            [
             0.6666666666666666,
             "#ed7953"
            ],
            [
             0.7777777777777778,
             "#fb9f3a"
            ],
            [
             0.8888888888888888,
             "#fdca26"
            ],
            [
             1,
             "#f0f921"
            ]
           ]
          },
          "colorway": [
           "#636efa",
           "#EF553B",
           "#00cc96",
           "#ab63fa",
           "#FFA15A",
           "#19d3f3",
           "#FF6692",
           "#B6E880",
           "#FF97FF",
           "#FECB52"
          ],
          "font": {
           "color": "#2a3f5f"
          },
          "geo": {
           "bgcolor": "white",
           "lakecolor": "white",
           "landcolor": "#E5ECF6",
           "showlakes": true,
           "showland": true,
           "subunitcolor": "white"
          },
          "hoverlabel": {
           "align": "left"
          },
          "hovermode": "closest",
          "mapbox": {
           "style": "light"
          },
          "paper_bgcolor": "white",
          "plot_bgcolor": "#E5ECF6",
          "polar": {
           "angularaxis": {
            "gridcolor": "white",
            "linecolor": "white",
            "ticks": ""
           },
           "bgcolor": "#E5ECF6",
           "radialaxis": {
            "gridcolor": "white",
            "linecolor": "white",
            "ticks": ""
           }
          },
          "scene": {
           "xaxis": {
            "backgroundcolor": "#E5ECF6",
            "gridcolor": "white",
            "gridwidth": 2,
            "linecolor": "white",
            "showbackground": true,
            "ticks": "",
            "zerolinecolor": "white"
           },
           "yaxis": {
            "backgroundcolor": "#E5ECF6",
            "gridcolor": "white",
            "gridwidth": 2,
            "linecolor": "white",
            "showbackground": true,
            "ticks": "",
            "zerolinecolor": "white"
           },
           "zaxis": {
            "backgroundcolor": "#E5ECF6",
            "gridcolor": "white",
            "gridwidth": 2,
            "linecolor": "white",
            "showbackground": true,
            "ticks": "",
            "zerolinecolor": "white"
           }
          },
          "shapedefaults": {
           "line": {
            "color": "#2a3f5f"
           }
          },
          "ternary": {
           "aaxis": {
            "gridcolor": "white",
            "linecolor": "white",
            "ticks": ""
           },
           "baxis": {
            "gridcolor": "white",
            "linecolor": "white",
            "ticks": ""
           },
           "bgcolor": "#E5ECF6",
           "caxis": {
            "gridcolor": "white",
            "linecolor": "white",
            "ticks": ""
           }
          },
          "title": {
           "x": 0.05
          },
          "xaxis": {
           "automargin": true,
           "gridcolor": "white",
           "linecolor": "white",
           "ticks": "",
           "title": {
            "standoff": 15
           },
           "zerolinecolor": "white",
           "zerolinewidth": 2
          },
          "yaxis": {
           "automargin": true,
           "gridcolor": "white",
           "linecolor": "white",
           "ticks": "",
           "title": {
            "standoff": 15
           },
           "zerolinecolor": "white",
           "zerolinewidth": 2
          }
         }
        },
        "title": {
         "text": "Ages of Business Owners Over 4 Years in the US"
        },
        "xaxis": {
         "anchor": "y",
         "domain": [
          0,
          1
         ],
         "title": {
          "text": "Years"
         }
        },
        "yaxis": {
         "anchor": "x",
         "domain": [
          0,
          1
         ],
         "title": {
          "text": "Number of Business Owners"
         }
        }
       }
      }
     },
     "metadata": {},
     "output_type": "display_data"
    }
   ],
   "source": [
    "cols = [x for x in newdf.columns]\n",
    "print(cols)\n",
    "\n",
    "fig = px.line(newdf, x=newdf.index, y=cols,markers=True)\n",
    "\n",
    "fig.update_layout(title='Ages of Business Owners Over 4 Years in the US',\n",
    "                   xaxis_title='Years',\n",
    "                   yaxis_title='Number of Business Owners',\n",
    "                   legend_title=\"Age groups\")\n",
    "\n",
    "fig.show()\n"
   ]
  },
  {
   "attachments": {},
   "cell_type": "markdown",
   "metadata": {},
   "source": [
    "-   Line graph with Matplotlib"
   ]
  },
  {
   "cell_type": "code",
   "execution_count": 37,
   "metadata": {},
   "outputs": [
    {
     "data": {
      "image/png": "[encoded data removed]",
      "text/plain": [
       "<Figure size 640x480 with 1 Axes>"
      ]
     },
     "metadata": {},
     "output_type": "display_data"
    }
   ],
   "source": [
    "\n",
    "plt.plot(newdf.index,newdf[cols])\n",
    "plt.legend(cols,loc='upper right')\n",
    "plt.xlabel(\"Years\")\n",
    "plt.ylabel(\"Number of Business Owners\")\n",
    "plt.title(\"Ages of Business Owners Over 4 Years in the US\")\n",
    "\n",
    "\n",
    "plt.show()\n",
    "\n",
    "\n"
   ]
  }
 ],
 "metadata": {
  "kernelspec": {
   "display_name": "base",
   "language": "python",
   "name": "python3"
  },
  "language_info": {
   "codemirror_mode": {
    "name": "ipython",
    "version": 3
   },
   "file_extension": ".py",
   "mimetype": "text/x-python",
   "name": "python",
   "nbconvert_exporter": "python",
   "pygments_lexer": "ipython3",
   "version": "3.8.16"
  },
  "orig_nbformat": 4
 },
 "nbformat": 4,
 "nbformat_minor": 2
}
