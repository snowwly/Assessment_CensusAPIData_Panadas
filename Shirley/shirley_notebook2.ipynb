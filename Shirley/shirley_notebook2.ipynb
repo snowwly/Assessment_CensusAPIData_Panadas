{
 "cells": [
  {
   "cell_type": "code",
   "execution_count": 494,
   "metadata": {},
   "outputs": [],
   "source": [
    "import pandas as pd\n",
    "from matplotlib import pyplot as plt\n",
    "import seaborn as sns\n",
    "import plotly.express as px\n",
    "import numpy as np\n",
    "import random\n",
    "import requests\n"
   ]
  },
  {
   "cell_type": "code",
   "execution_count": 495,
   "metadata": {},
   "outputs": [],
   "source": [
    "#returns a dataframe after you pass in a string url that's valid hopefully\n",
    "pd.options.display.max_columns = None\n",
    "pd.options.display.max_rows = None\n",
    "\n",
    "def getDF(apiurl):\n",
    "    response = requests.get(apiurl)\n",
    "\n",
    "    col = response.json()[0] # header row\n",
    "\n",
    "    test = pd.DataFrame(data = response.json(),columns = col) #makes data frame with the header row as column names\n",
    "    test.drop(0,axis = 0,inplace=True) #it came with the header row that I dropped\n",
    "    return test"
   ]
  },
  {
   "cell_type": "code",
   "execution_count": 496,
   "metadata": {},
   "outputs": [],
   "source": [
    "urlUS= \"https://api.census.gov/data/2018/abscbo?get=GEO_ID,NAME,NAICS2017,NAICS2017_LABEL,OWNER_RACE_LABEL,OWNER_SEX_LABEL,QDESC,QDESC_LABEL,OWNCHAR,OWNCHAR_LABEL,YEAR,OWNPDEMP&for=us:*&QDESC_LABEL=\"\n",
    "label = \"REASONOWN\"\n",
    "key =\"&key=7325759f1ae7120e7f55c22ccd6fe9de386a7a0c\"\n",
    "\n",
    "fullurlUS= urlUS + label + key\n",
    "\n",
    "\n",
    "df = getDF(fullurlUS)\n"
   ]
  },
  {
   "cell_type": "code",
   "execution_count": 497,
   "metadata": {},
   "outputs": [
    {
     "data": {
      "text/html": [
       "<div>\n",
       "<style scoped>\n",
       "    .dataframe tbody tr th:only-of-type {\n",
       "        vertical-align: middle;\n",
       "    }\n",
       "\n",
       "    .dataframe tbody tr th {\n",
       "        vertical-align: top;\n",
       "    }\n",
       "\n",
       "    .dataframe thead th {\n",
       "        text-align: right;\n",
       "    }\n",
       "</style>\n",
       "<table border=\"1\" class=\"dataframe\">\n",
       "  <thead>\n",
       "    <tr style=\"text-align: right;\">\n",
       "      <th></th>\n",
       "      <th>NAICS2017_LABEL</th>\n",
       "      <th>OWNPDEMP</th>\n",
       "      <th>OWNCHAR_LABEL</th>\n",
       "    </tr>\n",
       "  </thead>\n",
       "  <tbody>\n",
       "    <tr>\n",
       "      <th>3</th>\n",
       "      <td>Total for all sectors</td>\n",
       "      <td>2542285</td>\n",
       "      <td>Wanted to be my own boss</td>\n",
       "    </tr>\n",
       "    <tr>\n",
       "      <th>6</th>\n",
       "      <td>Total for all sectors</td>\n",
       "      <td>2184862</td>\n",
       "      <td>Flexible hours</td>\n",
       "    </tr>\n",
       "    <tr>\n",
       "      <th>9</th>\n",
       "      <td>Total for all sectors</td>\n",
       "      <td>2305516</td>\n",
       "      <td>Balance work and family</td>\n",
       "    </tr>\n",
       "    <tr>\n",
       "      <th>12</th>\n",
       "      <td>Total for all sectors</td>\n",
       "      <td>2534674</td>\n",
       "      <td>Greater income</td>\n",
       "    </tr>\n",
       "    <tr>\n",
       "      <th>15</th>\n",
       "      <td>Total for all sectors</td>\n",
       "      <td>2212856</td>\n",
       "      <td>Best avenue for ideas</td>\n",
       "    </tr>\n",
       "    <tr>\n",
       "      <th>18</th>\n",
       "      <td>Total for all sectors</td>\n",
       "      <td>307603</td>\n",
       "      <td>Couldn't find a job</td>\n",
       "    </tr>\n",
       "    <tr>\n",
       "      <th>21</th>\n",
       "      <td>Total for all sectors</td>\n",
       "      <td>1314042</td>\n",
       "      <td>Work for self</td>\n",
       "    </tr>\n",
       "    <tr>\n",
       "      <th>24</th>\n",
       "      <td>Total for all sectors</td>\n",
       "      <td>1848131</td>\n",
       "      <td>Start my own business</td>\n",
       "    </tr>\n",
       "    <tr>\n",
       "      <th>27</th>\n",
       "      <td>Total for all sectors</td>\n",
       "      <td>1143338</td>\n",
       "      <td>Friend or family role model</td>\n",
       "    </tr>\n",
       "    <tr>\n",
       "      <th>30</th>\n",
       "      <td>Total for all sectors</td>\n",
       "      <td>381983</td>\n",
       "      <td>Other</td>\n",
       "    </tr>\n",
       "    <tr>\n",
       "      <th>33</th>\n",
       "      <td>Total for all sectors</td>\n",
       "      <td>752938</td>\n",
       "      <td>Carry on family business</td>\n",
       "    </tr>\n",
       "    <tr>\n",
       "      <th>36</th>\n",
       "      <td>Total for all sectors</td>\n",
       "      <td>989638</td>\n",
       "      <td>Help my community</td>\n",
       "    </tr>\n",
       "    <tr>\n",
       "      <th>41</th>\n",
       "      <td>Agriculture, forestry, fishing and hunting</td>\n",
       "      <td>9917</td>\n",
       "      <td>Wanted to be my own boss</td>\n",
       "    </tr>\n",
       "    <tr>\n",
       "      <th>44</th>\n",
       "      <td>Agriculture, forestry, fishing and hunting</td>\n",
       "      <td>8791</td>\n",
       "      <td>Flexible hours</td>\n",
       "    </tr>\n",
       "    <tr>\n",
       "      <th>47</th>\n",
       "      <td>Agriculture, forestry, fishing and hunting</td>\n",
       "      <td>9549</td>\n",
       "      <td>Balance work and family</td>\n",
       "    </tr>\n",
       "    <tr>\n",
       "      <th>50</th>\n",
       "      <td>Agriculture, forestry, fishing and hunting</td>\n",
       "      <td>10819</td>\n",
       "      <td>Greater income</td>\n",
       "    </tr>\n",
       "    <tr>\n",
       "      <th>53</th>\n",
       "      <td>Agriculture, forestry, fishing and hunting</td>\n",
       "      <td>9012</td>\n",
       "      <td>Best avenue for ideas</td>\n",
       "    </tr>\n",
       "    <tr>\n",
       "      <th>56</th>\n",
       "      <td>Agriculture, forestry, fishing and hunting</td>\n",
       "      <td>991</td>\n",
       "      <td>Couldn't find a job</td>\n",
       "    </tr>\n",
       "    <tr>\n",
       "      <th>59</th>\n",
       "      <td>Agriculture, forestry, fishing and hunting</td>\n",
       "      <td>5256</td>\n",
       "      <td>Work for self</td>\n",
       "    </tr>\n",
       "    <tr>\n",
       "      <th>62</th>\n",
       "      <td>Agriculture, forestry, fishing and hunting</td>\n",
       "      <td>6956</td>\n",
       "      <td>Start my own business</td>\n",
       "    </tr>\n",
       "    <tr>\n",
       "      <th>65</th>\n",
       "      <td>Agriculture, forestry, fishing and hunting</td>\n",
       "      <td>5709</td>\n",
       "      <td>Friend or family role model</td>\n",
       "    </tr>\n",
       "    <tr>\n",
       "      <th>68</th>\n",
       "      <td>Agriculture, forestry, fishing and hunting</td>\n",
       "      <td>1748</td>\n",
       "      <td>Other</td>\n",
       "    </tr>\n",
       "    <tr>\n",
       "      <th>71</th>\n",
       "      <td>Agriculture, forestry, fishing and hunting</td>\n",
       "      <td>5589</td>\n",
       "      <td>Carry on family business</td>\n",
       "    </tr>\n",
       "    <tr>\n",
       "      <th>74</th>\n",
       "      <td>Agriculture, forestry, fishing and hunting</td>\n",
       "      <td>3262</td>\n",
       "      <td>Help my community</td>\n",
       "    </tr>\n",
       "    <tr>\n",
       "      <th>79</th>\n",
       "      <td>Mining, quarrying, and oil and gas extraction</td>\n",
       "      <td>6328</td>\n",
       "      <td>Wanted to be my own boss</td>\n",
       "    </tr>\n",
       "    <tr>\n",
       "      <th>82</th>\n",
       "      <td>Mining, quarrying, and oil and gas extraction</td>\n",
       "      <td>4892</td>\n",
       "      <td>Flexible hours</td>\n",
       "    </tr>\n",
       "    <tr>\n",
       "      <th>85</th>\n",
       "      <td>Mining, quarrying, and oil and gas extraction</td>\n",
       "      <td>6172</td>\n",
       "      <td>Balance work and family</td>\n",
       "    </tr>\n",
       "    <tr>\n",
       "      <th>88</th>\n",
       "      <td>Mining, quarrying, and oil and gas extraction</td>\n",
       "      <td>7647</td>\n",
       "      <td>Greater income</td>\n",
       "    </tr>\n",
       "    <tr>\n",
       "      <th>91</th>\n",
       "      <td>Mining, quarrying, and oil and gas extraction</td>\n",
       "      <td>5334</td>\n",
       "      <td>Best avenue for ideas</td>\n",
       "    </tr>\n",
       "    <tr>\n",
       "      <th>94</th>\n",
       "      <td>Mining, quarrying, and oil and gas extraction</td>\n",
       "      <td>769</td>\n",
       "      <td>Couldn't find a job</td>\n",
       "    </tr>\n",
       "    <tr>\n",
       "      <th>97</th>\n",
       "      <td>Mining, quarrying, and oil and gas extraction</td>\n",
       "      <td>3532</td>\n",
       "      <td>Work for self</td>\n",
       "    </tr>\n",
       "    <tr>\n",
       "      <th>100</th>\n",
       "      <td>Mining, quarrying, and oil and gas extraction</td>\n",
       "      <td>5047</td>\n",
       "      <td>Start my own business</td>\n",
       "    </tr>\n",
       "    <tr>\n",
       "      <th>103</th>\n",
       "      <td>Mining, quarrying, and oil and gas extraction</td>\n",
       "      <td>3162</td>\n",
       "      <td>Friend or family role model</td>\n",
       "    </tr>\n",
       "    <tr>\n",
       "      <th>106</th>\n",
       "      <td>Mining, quarrying, and oil and gas extraction</td>\n",
       "      <td>773</td>\n",
       "      <td>Other</td>\n",
       "    </tr>\n",
       "    <tr>\n",
       "      <th>109</th>\n",
       "      <td>Mining, quarrying, and oil and gas extraction</td>\n",
       "      <td>3123</td>\n",
       "      <td>Carry on family business</td>\n",
       "    </tr>\n",
       "    <tr>\n",
       "      <th>112</th>\n",
       "      <td>Mining, quarrying, and oil and gas extraction</td>\n",
       "      <td>1828</td>\n",
       "      <td>Help my community</td>\n",
       "    </tr>\n",
       "    <tr>\n",
       "      <th>117</th>\n",
       "      <td>Utilities</td>\n",
       "      <td>979</td>\n",
       "      <td>Wanted to be my own boss</td>\n",
       "    </tr>\n",
       "    <tr>\n",
       "      <th>120</th>\n",
       "      <td>Utilities</td>\n",
       "      <td>889</td>\n",
       "      <td>Flexible hours</td>\n",
       "    </tr>\n",
       "    <tr>\n",
       "      <th>123</th>\n",
       "      <td>Utilities</td>\n",
       "      <td>913</td>\n",
       "      <td>Balance work and family</td>\n",
       "    </tr>\n",
       "    <tr>\n",
       "      <th>126</th>\n",
       "      <td>Utilities</td>\n",
       "      <td>1000</td>\n",
       "      <td>Greater income</td>\n",
       "    </tr>\n",
       "    <tr>\n",
       "      <th>129</th>\n",
       "      <td>Utilities</td>\n",
       "      <td>786</td>\n",
       "      <td>Best avenue for ideas</td>\n",
       "    </tr>\n",
       "    <tr>\n",
       "      <th>132</th>\n",
       "      <td>Utilities</td>\n",
       "      <td>161</td>\n",
       "      <td>Couldn't find a job</td>\n",
       "    </tr>\n",
       "    <tr>\n",
       "      <th>135</th>\n",
       "      <td>Utilities</td>\n",
       "      <td>590</td>\n",
       "      <td>Work for self</td>\n",
       "    </tr>\n",
       "    <tr>\n",
       "      <th>138</th>\n",
       "      <td>Utilities</td>\n",
       "      <td>793</td>\n",
       "      <td>Start my own business</td>\n",
       "    </tr>\n",
       "    <tr>\n",
       "      <th>141</th>\n",
       "      <td>Utilities</td>\n",
       "      <td>499</td>\n",
       "      <td>Friend or family role model</td>\n",
       "    </tr>\n",
       "    <tr>\n",
       "      <th>144</th>\n",
       "      <td>Utilities</td>\n",
       "      <td>169</td>\n",
       "      <td>Other</td>\n",
       "    </tr>\n",
       "    <tr>\n",
       "      <th>147</th>\n",
       "      <td>Utilities</td>\n",
       "      <td>477</td>\n",
       "      <td>Carry on family business</td>\n",
       "    </tr>\n",
       "    <tr>\n",
       "      <th>150</th>\n",
       "      <td>Utilities</td>\n",
       "      <td>329</td>\n",
       "      <td>Help my community</td>\n",
       "    </tr>\n",
       "    <tr>\n",
       "      <th>155</th>\n",
       "      <td>Construction</td>\n",
       "      <td>344989</td>\n",
       "      <td>Wanted to be my own boss</td>\n",
       "    </tr>\n",
       "    <tr>\n",
       "      <th>158</th>\n",
       "      <td>Construction</td>\n",
       "      <td>287047</td>\n",
       "      <td>Flexible hours</td>\n",
       "    </tr>\n",
       "    <tr>\n",
       "      <th>161</th>\n",
       "      <td>Construction</td>\n",
       "      <td>319860</td>\n",
       "      <td>Balance work and family</td>\n",
       "    </tr>\n",
       "    <tr>\n",
       "      <th>164</th>\n",
       "      <td>Construction</td>\n",
       "      <td>359871</td>\n",
       "      <td>Greater income</td>\n",
       "    </tr>\n",
       "    <tr>\n",
       "      <th>167</th>\n",
       "      <td>Construction</td>\n",
       "      <td>299981</td>\n",
       "      <td>Best avenue for ideas</td>\n",
       "    </tr>\n",
       "    <tr>\n",
       "      <th>170</th>\n",
       "      <td>Construction</td>\n",
       "      <td>43503</td>\n",
       "      <td>Couldn't find a job</td>\n",
       "    </tr>\n",
       "    <tr>\n",
       "      <th>173</th>\n",
       "      <td>Construction</td>\n",
       "      <td>182473</td>\n",
       "      <td>Work for self</td>\n",
       "    </tr>\n",
       "    <tr>\n",
       "      <th>176</th>\n",
       "      <td>Construction</td>\n",
       "      <td>262341</td>\n",
       "      <td>Start my own business</td>\n",
       "    </tr>\n",
       "    <tr>\n",
       "      <th>179</th>\n",
       "      <td>Construction</td>\n",
       "      <td>155671</td>\n",
       "      <td>Friend or family role model</td>\n",
       "    </tr>\n",
       "    <tr>\n",
       "      <th>182</th>\n",
       "      <td>Construction</td>\n",
       "      <td>50039</td>\n",
       "      <td>Other</td>\n",
       "    </tr>\n",
       "    <tr>\n",
       "      <th>185</th>\n",
       "      <td>Construction</td>\n",
       "      <td>115024</td>\n",
       "      <td>Carry on family business</td>\n",
       "    </tr>\n",
       "    <tr>\n",
       "      <th>188</th>\n",
       "      <td>Construction</td>\n",
       "      <td>107162</td>\n",
       "      <td>Help my community</td>\n",
       "    </tr>\n",
       "    <tr>\n",
       "      <th>193</th>\n",
       "      <td>Manufacturing</td>\n",
       "      <td>102866</td>\n",
       "      <td>Wanted to be my own boss</td>\n",
       "    </tr>\n",
       "    <tr>\n",
       "      <th>196</th>\n",
       "      <td>Manufacturing</td>\n",
       "      <td>80794</td>\n",
       "      <td>Flexible hours</td>\n",
       "    </tr>\n",
       "    <tr>\n",
       "      <th>199</th>\n",
       "      <td>Manufacturing</td>\n",
       "      <td>88664</td>\n",
       "      <td>Balance work and family</td>\n",
       "    </tr>\n",
       "    <tr>\n",
       "      <th>202</th>\n",
       "      <td>Manufacturing</td>\n",
       "      <td>105081</td>\n",
       "      <td>Greater income</td>\n",
       "    </tr>\n",
       "    <tr>\n",
       "      <th>205</th>\n",
       "      <td>Manufacturing</td>\n",
       "      <td>92940</td>\n",
       "      <td>Best avenue for ideas</td>\n",
       "    </tr>\n",
       "    <tr>\n",
       "      <th>208</th>\n",
       "      <td>Manufacturing</td>\n",
       "      <td>11700</td>\n",
       "      <td>Couldn't find a job</td>\n",
       "    </tr>\n",
       "    <tr>\n",
       "      <th>211</th>\n",
       "      <td>Manufacturing</td>\n",
       "      <td>53664</td>\n",
       "      <td>Work for self</td>\n",
       "    </tr>\n",
       "    <tr>\n",
       "      <th>214</th>\n",
       "      <td>Manufacturing</td>\n",
       "      <td>74318</td>\n",
       "      <td>Start my own business</td>\n",
       "    </tr>\n",
       "    <tr>\n",
       "      <th>217</th>\n",
       "      <td>Manufacturing</td>\n",
       "      <td>53660</td>\n",
       "      <td>Friend or family role model</td>\n",
       "    </tr>\n",
       "    <tr>\n",
       "      <th>220</th>\n",
       "      <td>Manufacturing</td>\n",
       "      <td>15784</td>\n",
       "      <td>Other</td>\n",
       "    </tr>\n",
       "    <tr>\n",
       "      <th>223</th>\n",
       "      <td>Manufacturing</td>\n",
       "      <td>50581</td>\n",
       "      <td>Carry on family business</td>\n",
       "    </tr>\n",
       "    <tr>\n",
       "      <th>226</th>\n",
       "      <td>Manufacturing</td>\n",
       "      <td>33302</td>\n",
       "      <td>Help my community</td>\n",
       "    </tr>\n",
       "    <tr>\n",
       "      <th>231</th>\n",
       "      <td>Wholesale trade</td>\n",
       "      <td>137224</td>\n",
       "      <td>Wanted to be my own boss</td>\n",
       "    </tr>\n",
       "    <tr>\n",
       "      <th>234</th>\n",
       "      <td>Wholesale trade</td>\n",
       "      <td>112272</td>\n",
       "      <td>Flexible hours</td>\n",
       "    </tr>\n",
       "    <tr>\n",
       "      <th>237</th>\n",
       "      <td>Wholesale trade</td>\n",
       "      <td>119402</td>\n",
       "      <td>Balance work and family</td>\n",
       "    </tr>\n",
       "    <tr>\n",
       "      <th>240</th>\n",
       "      <td>Wholesale trade</td>\n",
       "      <td>145891</td>\n",
       "      <td>Greater income</td>\n",
       "    </tr>\n",
       "    <tr>\n",
       "      <th>243</th>\n",
       "      <td>Wholesale trade</td>\n",
       "      <td>118699</td>\n",
       "      <td>Best avenue for ideas</td>\n",
       "    </tr>\n",
       "    <tr>\n",
       "      <th>246</th>\n",
       "      <td>Wholesale trade</td>\n",
       "      <td>18160</td>\n",
       "      <td>Couldn't find a job</td>\n",
       "    </tr>\n",
       "    <tr>\n",
       "      <th>249</th>\n",
       "      <td>Wholesale trade</td>\n",
       "      <td>72613</td>\n",
       "      <td>Work for self</td>\n",
       "    </tr>\n",
       "    <tr>\n",
       "      <th>252</th>\n",
       "      <td>Wholesale trade</td>\n",
       "      <td>100704</td>\n",
       "      <td>Start my own business</td>\n",
       "    </tr>\n",
       "    <tr>\n",
       "      <th>255</th>\n",
       "      <td>Wholesale trade</td>\n",
       "      <td>72822</td>\n",
       "      <td>Friend or family role model</td>\n",
       "    </tr>\n",
       "    <tr>\n",
       "      <th>258</th>\n",
       "      <td>Wholesale trade</td>\n",
       "      <td>18789</td>\n",
       "      <td>Other</td>\n",
       "    </tr>\n",
       "    <tr>\n",
       "      <th>261</th>\n",
       "      <td>Wholesale trade</td>\n",
       "      <td>63602</td>\n",
       "      <td>Carry on family business</td>\n",
       "    </tr>\n",
       "    <tr>\n",
       "      <th>264</th>\n",
       "      <td>Wholesale trade</td>\n",
       "      <td>43228</td>\n",
       "      <td>Help my community</td>\n",
       "    </tr>\n",
       "    <tr>\n",
       "      <th>269</th>\n",
       "      <td>Retail trade</td>\n",
       "      <td>267959</td>\n",
       "      <td>Wanted to be my own boss</td>\n",
       "    </tr>\n",
       "    <tr>\n",
       "      <th>272</th>\n",
       "      <td>Retail trade</td>\n",
       "      <td>217008</td>\n",
       "      <td>Flexible hours</td>\n",
       "    </tr>\n",
       "    <tr>\n",
       "      <th>275</th>\n",
       "      <td>Retail trade</td>\n",
       "      <td>239252</td>\n",
       "      <td>Balance work and family</td>\n",
       "    </tr>\n",
       "    <tr>\n",
       "      <th>278</th>\n",
       "      <td>Retail trade</td>\n",
       "      <td>258020</td>\n",
       "      <td>Greater income</td>\n",
       "    </tr>\n",
       "    <tr>\n",
       "      <th>281</th>\n",
       "      <td>Retail trade</td>\n",
       "      <td>227982</td>\n",
       "      <td>Best avenue for ideas</td>\n",
       "    </tr>\n",
       "    <tr>\n",
       "      <th>284</th>\n",
       "      <td>Retail trade</td>\n",
       "      <td>39515</td>\n",
       "      <td>Couldn't find a job</td>\n",
       "    </tr>\n",
       "    <tr>\n",
       "      <th>287</th>\n",
       "      <td>Retail trade</td>\n",
       "      <td>143659</td>\n",
       "      <td>Work for self</td>\n",
       "    </tr>\n",
       "    <tr>\n",
       "      <th>290</th>\n",
       "      <td>Retail trade</td>\n",
       "      <td>213305</td>\n",
       "      <td>Start my own business</td>\n",
       "    </tr>\n",
       "    <tr>\n",
       "      <th>293</th>\n",
       "      <td>Retail trade</td>\n",
       "      <td>146693</td>\n",
       "      <td>Friend or family role model</td>\n",
       "    </tr>\n",
       "    <tr>\n",
       "      <th>296</th>\n",
       "      <td>Retail trade</td>\n",
       "      <td>46387</td>\n",
       "      <td>Other</td>\n",
       "    </tr>\n",
       "    <tr>\n",
       "      <th>299</th>\n",
       "      <td>Retail trade</td>\n",
       "      <td>111193</td>\n",
       "      <td>Carry on family business</td>\n",
       "    </tr>\n",
       "    <tr>\n",
       "      <th>302</th>\n",
       "      <td>Retail trade</td>\n",
       "      <td>120902</td>\n",
       "      <td>Help my community</td>\n",
       "    </tr>\n",
       "    <tr>\n",
       "      <th>307</th>\n",
       "      <td>Transportation and warehousing</td>\n",
       "      <td>67425</td>\n",
       "      <td>Wanted to be my own boss</td>\n",
       "    </tr>\n",
       "    <tr>\n",
       "      <th>310</th>\n",
       "      <td>Transportation and warehousing</td>\n",
       "      <td>56507</td>\n",
       "      <td>Flexible hours</td>\n",
       "    </tr>\n",
       "    <tr>\n",
       "      <th>313</th>\n",
       "      <td>Transportation and warehousing</td>\n",
       "      <td>60457</td>\n",
       "      <td>Balance work and family</td>\n",
       "    </tr>\n",
       "    <tr>\n",
       "      <th>316</th>\n",
       "      <td>Transportation and warehousing</td>\n",
       "      <td>71609</td>\n",
       "      <td>Greater income</td>\n",
       "    </tr>\n",
       "    <tr>\n",
       "      <th>319</th>\n",
       "      <td>Transportation and warehousing</td>\n",
       "      <td>55670</td>\n",
       "      <td>Best avenue for ideas</td>\n",
       "    </tr>\n",
       "    <tr>\n",
       "      <th>322</th>\n",
       "      <td>Transportation and warehousing</td>\n",
       "      <td>10177</td>\n",
       "      <td>Couldn't find a job</td>\n",
       "    </tr>\n",
       "    <tr>\n",
       "      <th>325</th>\n",
       "      <td>Transportation and warehousing</td>\n",
       "      <td>35851</td>\n",
       "      <td>Work for self</td>\n",
       "    </tr>\n",
       "    <tr>\n",
       "      <th>328</th>\n",
       "      <td>Transportation and warehousing</td>\n",
       "      <td>53086</td>\n",
       "      <td>Start my own business</td>\n",
       "    </tr>\n",
       "    <tr>\n",
       "      <th>331</th>\n",
       "      <td>Transportation and warehousing</td>\n",
       "      <td>33386</td>\n",
       "      <td>Friend or family role model</td>\n",
       "    </tr>\n",
       "    <tr>\n",
       "      <th>334</th>\n",
       "      <td>Transportation and warehousing</td>\n",
       "      <td>10091</td>\n",
       "      <td>Other</td>\n",
       "    </tr>\n",
       "    <tr>\n",
       "      <th>337</th>\n",
       "      <td>Transportation and warehousing</td>\n",
       "      <td>25816</td>\n",
       "      <td>Carry on family business</td>\n",
       "    </tr>\n",
       "    <tr>\n",
       "      <th>340</th>\n",
       "      <td>Transportation and warehousing</td>\n",
       "      <td>21695</td>\n",
       "      <td>Help my community</td>\n",
       "    </tr>\n",
       "    <tr>\n",
       "      <th>344</th>\n",
       "      <td>Information</td>\n",
       "      <td>18075</td>\n",
       "      <td>Start my own business</td>\n",
       "    </tr>\n",
       "    <tr>\n",
       "      <th>347</th>\n",
       "      <td>Information</td>\n",
       "      <td>10714</td>\n",
       "      <td>Friend or family role model</td>\n",
       "    </tr>\n",
       "    <tr>\n",
       "      <th>350</th>\n",
       "      <td>Information</td>\n",
       "      <td>4635</td>\n",
       "      <td>Other</td>\n",
       "    </tr>\n",
       "    <tr>\n",
       "      <th>353</th>\n",
       "      <td>Information</td>\n",
       "      <td>4702</td>\n",
       "      <td>Carry on family business</td>\n",
       "    </tr>\n",
       "    <tr>\n",
       "      <th>356</th>\n",
       "      <td>Information</td>\n",
       "      <td>8866</td>\n",
       "      <td>Help my community</td>\n",
       "    </tr>\n",
       "    <tr>\n",
       "      <th>361</th>\n",
       "      <td>Information</td>\n",
       "      <td>26970</td>\n",
       "      <td>Wanted to be my own boss</td>\n",
       "    </tr>\n",
       "    <tr>\n",
       "      <th>364</th>\n",
       "      <td>Information</td>\n",
       "      <td>22995</td>\n",
       "      <td>Flexible hours</td>\n",
       "    </tr>\n",
       "    <tr>\n",
       "      <th>367</th>\n",
       "      <td>Information</td>\n",
       "      <td>22646</td>\n",
       "      <td>Balance work and family</td>\n",
       "    </tr>\n",
       "    <tr>\n",
       "      <th>370</th>\n",
       "      <td>Information</td>\n",
       "      <td>26899</td>\n",
       "      <td>Greater income</td>\n",
       "    </tr>\n",
       "    <tr>\n",
       "      <th>373</th>\n",
       "      <td>Information</td>\n",
       "      <td>27101</td>\n",
       "      <td>Best avenue for ideas</td>\n",
       "    </tr>\n",
       "    <tr>\n",
       "      <th>376</th>\n",
       "      <td>Information</td>\n",
       "      <td>2443</td>\n",
       "      <td>Couldn't find a job</td>\n",
       "    </tr>\n",
       "    <tr>\n",
       "      <th>379</th>\n",
       "      <td>Information</td>\n",
       "      <td>12698</td>\n",
       "      <td>Work for self</td>\n",
       "    </tr>\n",
       "    <tr>\n",
       "      <th>383</th>\n",
       "      <td>Finance and insurance</td>\n",
       "      <td>126131</td>\n",
       "      <td>Wanted to be my own boss</td>\n",
       "    </tr>\n",
       "    <tr>\n",
       "      <th>386</th>\n",
       "      <td>Finance and insurance</td>\n",
       "      <td>114029</td>\n",
       "      <td>Flexible hours</td>\n",
       "    </tr>\n",
       "    <tr>\n",
       "      <th>389</th>\n",
       "      <td>Finance and insurance</td>\n",
       "      <td>117429</td>\n",
       "      <td>Balance work and family</td>\n",
       "    </tr>\n",
       "    <tr>\n",
       "      <th>392</th>\n",
       "      <td>Finance and insurance</td>\n",
       "      <td>130943</td>\n",
       "      <td>Greater income</td>\n",
       "    </tr>\n",
       "    <tr>\n",
       "      <th>395</th>\n",
       "      <td>Finance and insurance</td>\n",
       "      <td>102820</td>\n",
       "      <td>Best avenue for ideas</td>\n",
       "    </tr>\n",
       "    <tr>\n",
       "      <th>398</th>\n",
       "      <td>Finance and insurance</td>\n",
       "      <td>10641</td>\n",
       "      <td>Couldn't find a job</td>\n",
       "    </tr>\n",
       "    <tr>\n",
       "      <th>401</th>\n",
       "      <td>Finance and insurance</td>\n",
       "      <td>64195</td>\n",
       "      <td>Work for self</td>\n",
       "    </tr>\n",
       "    <tr>\n",
       "      <th>404</th>\n",
       "      <td>Finance and insurance</td>\n",
       "      <td>85086</td>\n",
       "      <td>Start my own business</td>\n",
       "    </tr>\n",
       "    <tr>\n",
       "      <th>407</th>\n",
       "      <td>Finance and insurance</td>\n",
       "      <td>59328</td>\n",
       "      <td>Friend or family role model</td>\n",
       "    </tr>\n",
       "    <tr>\n",
       "      <th>410</th>\n",
       "      <td>Finance and insurance</td>\n",
       "      <td>15902</td>\n",
       "      <td>Other</td>\n",
       "    </tr>\n",
       "    <tr>\n",
       "      <th>413</th>\n",
       "      <td>Finance and insurance</td>\n",
       "      <td>34104</td>\n",
       "      <td>Carry on family business</td>\n",
       "    </tr>\n",
       "    <tr>\n",
       "      <th>416</th>\n",
       "      <td>Finance and insurance</td>\n",
       "      <td>51233</td>\n",
       "      <td>Help my community</td>\n",
       "    </tr>\n",
       "    <tr>\n",
       "      <th>421</th>\n",
       "      <td>Real estate and rental and leasing</td>\n",
       "      <td>136572</td>\n",
       "      <td>Wanted to be my own boss</td>\n",
       "    </tr>\n",
       "    <tr>\n",
       "      <th>424</th>\n",
       "      <td>Real estate and rental and leasing</td>\n",
       "      <td>126786</td>\n",
       "      <td>Flexible hours</td>\n",
       "    </tr>\n",
       "    <tr>\n",
       "      <th>427</th>\n",
       "      <td>Real estate and rental and leasing</td>\n",
       "      <td>124643</td>\n",
       "      <td>Balance work and family</td>\n",
       "    </tr>\n",
       "    <tr>\n",
       "      <th>430</th>\n",
       "      <td>Real estate and rental and leasing</td>\n",
       "      <td>148098</td>\n",
       "      <td>Greater income</td>\n",
       "    </tr>\n",
       "    <tr>\n",
       "      <th>433</th>\n",
       "      <td>Real estate and rental and leasing</td>\n",
       "      <td>110954</td>\n",
       "      <td>Best avenue for ideas</td>\n",
       "    </tr>\n",
       "    <tr>\n",
       "      <th>436</th>\n",
       "      <td>Real estate and rental and leasing</td>\n",
       "      <td>14848</td>\n",
       "      <td>Couldn't find a job</td>\n",
       "    </tr>\n",
       "    <tr>\n",
       "      <th>439</th>\n",
       "      <td>Real estate and rental and leasing</td>\n",
       "      <td>75946</td>\n",
       "      <td>Work for self</td>\n",
       "    </tr>\n",
       "    <tr>\n",
       "      <th>442</th>\n",
       "      <td>Real estate and rental and leasing</td>\n",
       "      <td>98078</td>\n",
       "      <td>Start my own business</td>\n",
       "    </tr>\n",
       "    <tr>\n",
       "      <th>445</th>\n",
       "      <td>Real estate and rental and leasing</td>\n",
       "      <td>71610</td>\n",
       "      <td>Friend or family role model</td>\n",
       "    </tr>\n",
       "    <tr>\n",
       "      <th>448</th>\n",
       "      <td>Real estate and rental and leasing</td>\n",
       "      <td>23005</td>\n",
       "      <td>Other</td>\n",
       "    </tr>\n",
       "    <tr>\n",
       "      <th>451</th>\n",
       "      <td>Real estate and rental and leasing</td>\n",
       "      <td>52074</td>\n",
       "      <td>Carry on family business</td>\n",
       "    </tr>\n",
       "    <tr>\n",
       "      <th>454</th>\n",
       "      <td>Real estate and rental and leasing</td>\n",
       "      <td>51795</td>\n",
       "      <td>Help my community</td>\n",
       "    </tr>\n",
       "    <tr>\n",
       "      <th>459</th>\n",
       "      <td>Professional, scientific, and technical services</td>\n",
       "      <td>424047</td>\n",
       "      <td>Wanted to be my own boss</td>\n",
       "    </tr>\n",
       "    <tr>\n",
       "      <th>462</th>\n",
       "      <td>Professional, scientific, and technical services</td>\n",
       "      <td>379718</td>\n",
       "      <td>Flexible hours</td>\n",
       "    </tr>\n",
       "    <tr>\n",
       "      <th>465</th>\n",
       "      <td>Professional, scientific, and technical services</td>\n",
       "      <td>379325</td>\n",
       "      <td>Balance work and family</td>\n",
       "    </tr>\n",
       "    <tr>\n",
       "      <th>468</th>\n",
       "      <td>Professional, scientific, and technical services</td>\n",
       "      <td>405068</td>\n",
       "      <td>Greater income</td>\n",
       "    </tr>\n",
       "    <tr>\n",
       "      <th>471</th>\n",
       "      <td>Professional, scientific, and technical services</td>\n",
       "      <td>378993</td>\n",
       "      <td>Best avenue for ideas</td>\n",
       "    </tr>\n",
       "    <tr>\n",
       "      <th>474</th>\n",
       "      <td>Professional, scientific, and technical services</td>\n",
       "      <td>37164</td>\n",
       "      <td>Couldn't find a job</td>\n",
       "    </tr>\n",
       "    <tr>\n",
       "      <th>477</th>\n",
       "      <td>Professional, scientific, and technical services</td>\n",
       "      <td>200139</td>\n",
       "      <td>Work for self</td>\n",
       "    </tr>\n",
       "    <tr>\n",
       "      <th>480</th>\n",
       "      <td>Professional, scientific, and technical services</td>\n",
       "      <td>266159</td>\n",
       "      <td>Start my own business</td>\n",
       "    </tr>\n",
       "    <tr>\n",
       "      <th>483</th>\n",
       "      <td>Professional, scientific, and technical services</td>\n",
       "      <td>140239</td>\n",
       "      <td>Friend or family role model</td>\n",
       "    </tr>\n",
       "    <tr>\n",
       "      <th>486</th>\n",
       "      <td>Professional, scientific, and technical services</td>\n",
       "      <td>48764</td>\n",
       "      <td>Other</td>\n",
       "    </tr>\n",
       "    <tr>\n",
       "      <th>489</th>\n",
       "      <td>Professional, scientific, and technical services</td>\n",
       "      <td>54830</td>\n",
       "      <td>Carry on family business</td>\n",
       "    </tr>\n",
       "    <tr>\n",
       "      <th>492</th>\n",
       "      <td>Professional, scientific, and technical services</td>\n",
       "      <td>123871</td>\n",
       "      <td>Help my community</td>\n",
       "    </tr>\n",
       "    <tr>\n",
       "      <th>496</th>\n",
       "      <td>Management of companies and enterprises</td>\n",
       "      <td>3895</td>\n",
       "      <td>Carry on family business</td>\n",
       "    </tr>\n",
       "    <tr>\n",
       "      <th>499</th>\n",
       "      <td>Management of companies and enterprises</td>\n",
       "      <td>2740</td>\n",
       "      <td>Help my community</td>\n",
       "    </tr>\n",
       "    <tr>\n",
       "      <th>504</th>\n",
       "      <td>Management of companies and enterprises</td>\n",
       "      <td>5710</td>\n",
       "      <td>Wanted to be my own boss</td>\n",
       "    </tr>\n",
       "    <tr>\n",
       "      <th>507</th>\n",
       "      <td>Management of companies and enterprises</td>\n",
       "      <td>3678</td>\n",
       "      <td>Flexible hours</td>\n",
       "    </tr>\n",
       "    <tr>\n",
       "      <th>510</th>\n",
       "      <td>Management of companies and enterprises</td>\n",
       "      <td>4284</td>\n",
       "      <td>Balance work and family</td>\n",
       "    </tr>\n",
       "    <tr>\n",
       "      <th>513</th>\n",
       "      <td>Management of companies and enterprises</td>\n",
       "      <td>6012</td>\n",
       "      <td>Greater income</td>\n",
       "    </tr>\n",
       "    <tr>\n",
       "      <th>516</th>\n",
       "      <td>Management of companies and enterprises</td>\n",
       "      <td>4925</td>\n",
       "      <td>Best avenue for ideas</td>\n",
       "    </tr>\n",
       "    <tr>\n",
       "      <th>519</th>\n",
       "      <td>Management of companies and enterprises</td>\n",
       "      <td>620</td>\n",
       "      <td>Couldn't find a job</td>\n",
       "    </tr>\n",
       "    <tr>\n",
       "      <th>522</th>\n",
       "      <td>Management of companies and enterprises</td>\n",
       "      <td>2725</td>\n",
       "      <td>Work for self</td>\n",
       "    </tr>\n",
       "    <tr>\n",
       "      <th>525</th>\n",
       "      <td>Management of companies and enterprises</td>\n",
       "      <td>4214</td>\n",
       "      <td>Start my own business</td>\n",
       "    </tr>\n",
       "    <tr>\n",
       "      <th>528</th>\n",
       "      <td>Management of companies and enterprises</td>\n",
       "      <td>3820</td>\n",
       "      <td>Friend or family role model</td>\n",
       "    </tr>\n",
       "    <tr>\n",
       "      <th>531</th>\n",
       "      <td>Management of companies and enterprises</td>\n",
       "      <td>759</td>\n",
       "      <td>Other</td>\n",
       "    </tr>\n",
       "    <tr>\n",
       "      <th>535</th>\n",
       "      <td>Administrative and support and waste managemen...</td>\n",
       "      <td>157823</td>\n",
       "      <td>Wanted to be my own boss</td>\n",
       "    </tr>\n",
       "    <tr>\n",
       "      <th>538</th>\n",
       "      <td>Administrative and support and waste managemen...</td>\n",
       "      <td>139506</td>\n",
       "      <td>Flexible hours</td>\n",
       "    </tr>\n",
       "    <tr>\n",
       "      <th>541</th>\n",
       "      <td>Administrative and support and waste managemen...</td>\n",
       "      <td>145728</td>\n",
       "      <td>Balance work and family</td>\n",
       "    </tr>\n",
       "    <tr>\n",
       "      <th>544</th>\n",
       "      <td>Administrative and support and waste managemen...</td>\n",
       "      <td>158977</td>\n",
       "      <td>Greater income</td>\n",
       "    </tr>\n",
       "    <tr>\n",
       "      <th>547</th>\n",
       "      <td>Administrative and support and waste managemen...</td>\n",
       "      <td>130290</td>\n",
       "      <td>Best avenue for ideas</td>\n",
       "    </tr>\n",
       "    <tr>\n",
       "      <th>550</th>\n",
       "      <td>Administrative and support and waste managemen...</td>\n",
       "      <td>18578</td>\n",
       "      <td>Couldn't find a job</td>\n",
       "    </tr>\n",
       "    <tr>\n",
       "      <th>553</th>\n",
       "      <td>Administrative and support and waste managemen...</td>\n",
       "      <td>82224</td>\n",
       "      <td>Work for self</td>\n",
       "    </tr>\n",
       "    <tr>\n",
       "      <th>556</th>\n",
       "      <td>Administrative and support and waste managemen...</td>\n",
       "      <td>116772</td>\n",
       "      <td>Start my own business</td>\n",
       "    </tr>\n",
       "    <tr>\n",
       "      <th>559</th>\n",
       "      <td>Administrative and support and waste managemen...</td>\n",
       "      <td>68044</td>\n",
       "      <td>Friend or family role model</td>\n",
       "    </tr>\n",
       "    <tr>\n",
       "      <th>562</th>\n",
       "      <td>Administrative and support and waste managemen...</td>\n",
       "      <td>23060</td>\n",
       "      <td>Other</td>\n",
       "    </tr>\n",
       "    <tr>\n",
       "      <th>565</th>\n",
       "      <td>Administrative and support and waste managemen...</td>\n",
       "      <td>37625</td>\n",
       "      <td>Carry on family business</td>\n",
       "    </tr>\n",
       "    <tr>\n",
       "      <th>568</th>\n",
       "      <td>Administrative and support and waste managemen...</td>\n",
       "      <td>52441</td>\n",
       "      <td>Help my community</td>\n",
       "    </tr>\n",
       "    <tr>\n",
       "      <th>573</th>\n",
       "      <td>Educational services</td>\n",
       "      <td>27017</td>\n",
       "      <td>Wanted to be my own boss</td>\n",
       "    </tr>\n",
       "    <tr>\n",
       "      <th>576</th>\n",
       "      <td>Educational services</td>\n",
       "      <td>25918</td>\n",
       "      <td>Flexible hours</td>\n",
       "    </tr>\n",
       "    <tr>\n",
       "      <th>579</th>\n",
       "      <td>Educational services</td>\n",
       "      <td>25990</td>\n",
       "      <td>Balance work and family</td>\n",
       "    </tr>\n",
       "    <tr>\n",
       "      <th>582</th>\n",
       "      <td>Educational services</td>\n",
       "      <td>24862</td>\n",
       "      <td>Greater income</td>\n",
       "    </tr>\n",
       "    <tr>\n",
       "      <th>585</th>\n",
       "      <td>Educational services</td>\n",
       "      <td>29056</td>\n",
       "      <td>Best avenue for ideas</td>\n",
       "    </tr>\n",
       "    <tr>\n",
       "      <th>588</th>\n",
       "      <td>Educational services</td>\n",
       "      <td>2514</td>\n",
       "      <td>Couldn't find a job</td>\n",
       "    </tr>\n",
       "    <tr>\n",
       "      <th>591</th>\n",
       "      <td>Educational services</td>\n",
       "      <td>13427</td>\n",
       "      <td>Work for self</td>\n",
       "    </tr>\n",
       "    <tr>\n",
       "      <th>594</th>\n",
       "      <td>Educational services</td>\n",
       "      <td>19183</td>\n",
       "      <td>Start my own business</td>\n",
       "    </tr>\n",
       "    <tr>\n",
       "      <th>597</th>\n",
       "      <td>Educational services</td>\n",
       "      <td>11754</td>\n",
       "      <td>Friend or family role model</td>\n",
       "    </tr>\n",
       "    <tr>\n",
       "      <th>600</th>\n",
       "      <td>Educational services</td>\n",
       "      <td>6406</td>\n",
       "      <td>Other</td>\n",
       "    </tr>\n",
       "    <tr>\n",
       "      <th>603</th>\n",
       "      <td>Educational services</td>\n",
       "      <td>5367</td>\n",
       "      <td>Carry on family business</td>\n",
       "    </tr>\n",
       "    <tr>\n",
       "      <th>606</th>\n",
       "      <td>Educational services</td>\n",
       "      <td>17979</td>\n",
       "      <td>Help my community</td>\n",
       "    </tr>\n",
       "    <tr>\n",
       "      <th>611</th>\n",
       "      <td>Health care and social assistance</td>\n",
       "      <td>282117</td>\n",
       "      <td>Wanted to be my own boss</td>\n",
       "    </tr>\n",
       "    <tr>\n",
       "      <th>614</th>\n",
       "      <td>Health care and social assistance</td>\n",
       "      <td>253464</td>\n",
       "      <td>Flexible hours</td>\n",
       "    </tr>\n",
       "    <tr>\n",
       "      <th>617</th>\n",
       "      <td>Health care and social assistance</td>\n",
       "      <td>270468</td>\n",
       "      <td>Balance work and family</td>\n",
       "    </tr>\n",
       "    <tr>\n",
       "      <th>620</th>\n",
       "      <td>Health care and social assistance</td>\n",
       "      <td>264840</td>\n",
       "      <td>Greater income</td>\n",
       "    </tr>\n",
       "    <tr>\n",
       "      <th>623</th>\n",
       "      <td>Health care and social assistance</td>\n",
       "      <td>268191</td>\n",
       "      <td>Best avenue for ideas</td>\n",
       "    </tr>\n",
       "    <tr>\n",
       "      <th>626</th>\n",
       "      <td>Health care and social assistance</td>\n",
       "      <td>28336</td>\n",
       "      <td>Couldn't find a job</td>\n",
       "    </tr>\n",
       "    <tr>\n",
       "      <th>629</th>\n",
       "      <td>Health care and social assistance</td>\n",
       "      <td>142675</td>\n",
       "      <td>Work for self</td>\n",
       "    </tr>\n",
       "    <tr>\n",
       "      <th>632</th>\n",
       "      <td>Health care and social assistance</td>\n",
       "      <td>183470</td>\n",
       "      <td>Start my own business</td>\n",
       "    </tr>\n",
       "    <tr>\n",
       "      <th>635</th>\n",
       "      <td>Health care and social assistance</td>\n",
       "      <td>98386</td>\n",
       "      <td>Friend or family role model</td>\n",
       "    </tr>\n",
       "    <tr>\n",
       "      <th>638</th>\n",
       "      <td>Health care and social assistance</td>\n",
       "      <td>44659</td>\n",
       "      <td>Other</td>\n",
       "    </tr>\n",
       "    <tr>\n",
       "      <th>641</th>\n",
       "      <td>Health care and social assistance</td>\n",
       "      <td>43766</td>\n",
       "      <td>Carry on family business</td>\n",
       "    </tr>\n",
       "    <tr>\n",
       "      <th>644</th>\n",
       "      <td>Health care and social assistance</td>\n",
       "      <td>164329</td>\n",
       "      <td>Help my community</td>\n",
       "    </tr>\n",
       "    <tr>\n",
       "      <th>649</th>\n",
       "      <td>Arts, entertainment, and recreation</td>\n",
       "      <td>43850</td>\n",
       "      <td>Wanted to be my own boss</td>\n",
       "    </tr>\n",
       "    <tr>\n",
       "      <th>652</th>\n",
       "      <td>Arts, entertainment, and recreation</td>\n",
       "      <td>40228</td>\n",
       "      <td>Flexible hours</td>\n",
       "    </tr>\n",
       "    <tr>\n",
       "      <th>655</th>\n",
       "      <td>Arts, entertainment, and recreation</td>\n",
       "      <td>37927</td>\n",
       "      <td>Balance work and family</td>\n",
       "    </tr>\n",
       "    <tr>\n",
       "      <th>658</th>\n",
       "      <td>Arts, entertainment, and recreation</td>\n",
       "      <td>40979</td>\n",
       "      <td>Greater income</td>\n",
       "    </tr>\n",
       "    <tr>\n",
       "      <th>661</th>\n",
       "      <td>Arts, entertainment, and recreation</td>\n",
       "      <td>41007</td>\n",
       "      <td>Best avenue for ideas</td>\n",
       "    </tr>\n",
       "    <tr>\n",
       "      <th>664</th>\n",
       "      <td>Arts, entertainment, and recreation</td>\n",
       "      <td>4448</td>\n",
       "      <td>Couldn't find a job</td>\n",
       "    </tr>\n",
       "    <tr>\n",
       "      <th>667</th>\n",
       "      <td>Arts, entertainment, and recreation</td>\n",
       "      <td>22042</td>\n",
       "      <td>Work for self</td>\n",
       "    </tr>\n",
       "    <tr>\n",
       "      <th>670</th>\n",
       "      <td>Arts, entertainment, and recreation</td>\n",
       "      <td>29980</td>\n",
       "      <td>Start my own business</td>\n",
       "    </tr>\n",
       "    <tr>\n",
       "      <th>673</th>\n",
       "      <td>Arts, entertainment, and recreation</td>\n",
       "      <td>18043</td>\n",
       "      <td>Friend or family role model</td>\n",
       "    </tr>\n",
       "    <tr>\n",
       "      <th>676</th>\n",
       "      <td>Arts, entertainment, and recreation</td>\n",
       "      <td>8163</td>\n",
       "      <td>Other</td>\n",
       "    </tr>\n",
       "    <tr>\n",
       "      <th>679</th>\n",
       "      <td>Arts, entertainment, and recreation</td>\n",
       "      <td>10580</td>\n",
       "      <td>Carry on family business</td>\n",
       "    </tr>\n",
       "    <tr>\n",
       "      <th>682</th>\n",
       "      <td>Arts, entertainment, and recreation</td>\n",
       "      <td>18726</td>\n",
       "      <td>Help my community</td>\n",
       "    </tr>\n",
       "    <tr>\n",
       "      <th>687</th>\n",
       "      <td>Accommodation and food services</td>\n",
       "      <td>217539</td>\n",
       "      <td>Wanted to be my own boss</td>\n",
       "    </tr>\n",
       "    <tr>\n",
       "      <th>690</th>\n",
       "      <td>Accommodation and food services</td>\n",
       "      <td>179016</td>\n",
       "      <td>Flexible hours</td>\n",
       "    </tr>\n",
       "    <tr>\n",
       "      <th>693</th>\n",
       "      <td>Accommodation and food services</td>\n",
       "      <td>189302</td>\n",
       "      <td>Balance work and family</td>\n",
       "    </tr>\n",
       "    <tr>\n",
       "      <th>696</th>\n",
       "      <td>Accommodation and food services</td>\n",
       "      <td>217657</td>\n",
       "      <td>Greater income</td>\n",
       "    </tr>\n",
       "    <tr>\n",
       "      <th>699</th>\n",
       "      <td>Accommodation and food services</td>\n",
       "      <td>176850</td>\n",
       "      <td>Best avenue for ideas</td>\n",
       "    </tr>\n",
       "    <tr>\n",
       "      <th>702</th>\n",
       "      <td>Accommodation and food services</td>\n",
       "      <td>42601</td>\n",
       "      <td>Couldn't find a job</td>\n",
       "    </tr>\n",
       "    <tr>\n",
       "      <th>705</th>\n",
       "      <td>Accommodation and food services</td>\n",
       "      <td>118796</td>\n",
       "      <td>Work for self</td>\n",
       "    </tr>\n",
       "    <tr>\n",
       "      <th>708</th>\n",
       "      <td>Accommodation and food services</td>\n",
       "      <td>186227</td>\n",
       "      <td>Start my own business</td>\n",
       "    </tr>\n",
       "    <tr>\n",
       "      <th>711</th>\n",
       "      <td>Accommodation and food services</td>\n",
       "      <td>123323</td>\n",
       "      <td>Friend or family role model</td>\n",
       "    </tr>\n",
       "    <tr>\n",
       "      <th>714</th>\n",
       "      <td>Accommodation and food services</td>\n",
       "      <td>37342</td>\n",
       "      <td>Other</td>\n",
       "    </tr>\n",
       "    <tr>\n",
       "      <th>717</th>\n",
       "      <td>Accommodation and food services</td>\n",
       "      <td>86454</td>\n",
       "      <td>Carry on family business</td>\n",
       "    </tr>\n",
       "    <tr>\n",
       "      <th>720</th>\n",
       "      <td>Accommodation and food services</td>\n",
       "      <td>106602</td>\n",
       "      <td>Help my community</td>\n",
       "    </tr>\n",
       "    <tr>\n",
       "      <th>725</th>\n",
       "      <td>Other services (except public administration)</td>\n",
       "      <td>164771</td>\n",
       "      <td>Wanted to be my own boss</td>\n",
       "    </tr>\n",
       "    <tr>\n",
       "      <th>728</th>\n",
       "      <td>Other services (except public administration)</td>\n",
       "      <td>135703</td>\n",
       "      <td>Flexible hours</td>\n",
       "    </tr>\n",
       "    <tr>\n",
       "      <th>731</th>\n",
       "      <td>Other services (except public administration)</td>\n",
       "      <td>147890</td>\n",
       "      <td>Balance work and family</td>\n",
       "    </tr>\n",
       "    <tr>\n",
       "      <th>734</th>\n",
       "      <td>Other services (except public administration)</td>\n",
       "      <td>159967</td>\n",
       "      <td>Greater income</td>\n",
       "    </tr>\n",
       "    <tr>\n",
       "      <th>737</th>\n",
       "      <td>Other services (except public administration)</td>\n",
       "      <td>139918</td>\n",
       "      <td>Best avenue for ideas</td>\n",
       "    </tr>\n",
       "    <tr>\n",
       "      <th>740</th>\n",
       "      <td>Other services (except public administration)</td>\n",
       "      <td>21313</td>\n",
       "      <td>Couldn't find a job</td>\n",
       "    </tr>\n",
       "    <tr>\n",
       "      <th>743</th>\n",
       "      <td>Other services (except public administration)</td>\n",
       "      <td>85918</td>\n",
       "      <td>Work for self</td>\n",
       "    </tr>\n",
       "    <tr>\n",
       "      <th>746</th>\n",
       "      <td>Other services (except public administration)</td>\n",
       "      <td>130108</td>\n",
       "      <td>Start my own business</td>\n",
       "    </tr>\n",
       "    <tr>\n",
       "      <th>749</th>\n",
       "      <td>Other services (except public administration)</td>\n",
       "      <td>72349</td>\n",
       "      <td>Friend or family role model</td>\n",
       "    </tr>\n",
       "    <tr>\n",
       "      <th>752</th>\n",
       "      <td>Other services (except public administration)</td>\n",
       "      <td>26558</td>\n",
       "      <td>Other</td>\n",
       "    </tr>\n",
       "    <tr>\n",
       "      <th>755</th>\n",
       "      <td>Other services (except public administration)</td>\n",
       "      <td>48430</td>\n",
       "      <td>Carry on family business</td>\n",
       "    </tr>\n",
       "    <tr>\n",
       "      <th>758</th>\n",
       "      <td>Other services (except public administration)</td>\n",
       "      <td>63955</td>\n",
       "      <td>Help my community</td>\n",
       "    </tr>\n",
       "    <tr>\n",
       "      <th>763</th>\n",
       "      <td>Industries not classified</td>\n",
       "      <td>5696</td>\n",
       "      <td>Wanted to be my own boss</td>\n",
       "    </tr>\n",
       "    <tr>\n",
       "      <th>766</th>\n",
       "      <td>Industries not classified</td>\n",
       "      <td>5042</td>\n",
       "      <td>Flexible hours</td>\n",
       "    </tr>\n",
       "    <tr>\n",
       "      <th>769</th>\n",
       "      <td>Industries not classified</td>\n",
       "      <td>5732</td>\n",
       "      <td>Balance work and family</td>\n",
       "    </tr>\n",
       "    <tr>\n",
       "      <th>772</th>\n",
       "      <td>Industries not classified</td>\n",
       "      <td>4405</td>\n",
       "      <td>Greater income</td>\n",
       "    </tr>\n",
       "    <tr>\n",
       "      <th>775</th>\n",
       "      <td>Industries not classified</td>\n",
       "      <td>4320</td>\n",
       "      <td>Best avenue for ideas</td>\n",
       "    </tr>\n",
       "    <tr>\n",
       "      <th>778</th>\n",
       "      <td>Industries not classified</td>\n",
       "      <td>765</td>\n",
       "      <td>Couldn't find a job</td>\n",
       "    </tr>\n",
       "    <tr>\n",
       "      <th>781</th>\n",
       "      <td>Industries not classified</td>\n",
       "      <td>3018</td>\n",
       "      <td>Work for self</td>\n",
       "    </tr>\n",
       "    <tr>\n",
       "      <th>784</th>\n",
       "      <td>Industries not classified</td>\n",
       "      <td>3951</td>\n",
       "      <td>Start my own business</td>\n",
       "    </tr>\n",
       "    <tr>\n",
       "      <th>787</th>\n",
       "      <td>Industries not classified</td>\n",
       "      <td>3530</td>\n",
       "      <td>Friend or family role model</td>\n",
       "    </tr>\n",
       "    <tr>\n",
       "      <th>790</th>\n",
       "      <td>Industries not classified</td>\n",
       "      <td>1030</td>\n",
       "      <td>Other</td>\n",
       "    </tr>\n",
       "    <tr>\n",
       "      <th>793</th>\n",
       "      <td>Industries not classified</td>\n",
       "      <td>5152</td>\n",
       "      <td>Carry on family business</td>\n",
       "    </tr>\n",
       "    <tr>\n",
       "      <th>796</th>\n",
       "      <td>Industries not classified</td>\n",
       "      <td>2062</td>\n",
       "      <td>Help my community</td>\n",
       "    </tr>\n",
       "  </tbody>\n",
       "</table>\n",
       "</div>"
      ],
      "text/plain": [
       "                                       NAICS2017_LABEL OWNPDEMP  \\\n",
       "3                                Total for all sectors  2542285   \n",
       "6                                Total for all sectors  2184862   \n",
       "9                                Total for all sectors  2305516   \n",
       "12                               Total for all sectors  2534674   \n",
       "15                               Total for all sectors  2212856   \n",
       "18                               Total for all sectors   307603   \n",
       "21                               Total for all sectors  1314042   \n",
       "24                               Total for all sectors  1848131   \n",
       "27                               Total for all sectors  1143338   \n",
       "30                               Total for all sectors   381983   \n",
       "33                               Total for all sectors   752938   \n",
       "36                               Total for all sectors   989638   \n",
       "41          Agriculture, forestry, fishing and hunting     9917   \n",
       "44          Agriculture, forestry, fishing and hunting     8791   \n",
       "47          Agriculture, forestry, fishing and hunting     9549   \n",
       "50          Agriculture, forestry, fishing and hunting    10819   \n",
       "53          Agriculture, forestry, fishing and hunting     9012   \n",
       "56          Agriculture, forestry, fishing and hunting      991   \n",
       "59          Agriculture, forestry, fishing and hunting     5256   \n",
       "62          Agriculture, forestry, fishing and hunting     6956   \n",
       "65          Agriculture, forestry, fishing and hunting     5709   \n",
       "68          Agriculture, forestry, fishing and hunting     1748   \n",
       "71          Agriculture, forestry, fishing and hunting     5589   \n",
       "74          Agriculture, forestry, fishing and hunting     3262   \n",
       "79       Mining, quarrying, and oil and gas extraction     6328   \n",
       "82       Mining, quarrying, and oil and gas extraction     4892   \n",
       "85       Mining, quarrying, and oil and gas extraction     6172   \n",
       "88       Mining, quarrying, and oil and gas extraction     7647   \n",
       "91       Mining, quarrying, and oil and gas extraction     5334   \n",
       "94       Mining, quarrying, and oil and gas extraction      769   \n",
       "97       Mining, quarrying, and oil and gas extraction     3532   \n",
       "100      Mining, quarrying, and oil and gas extraction     5047   \n",
       "103      Mining, quarrying, and oil and gas extraction     3162   \n",
       "106      Mining, quarrying, and oil and gas extraction      773   \n",
       "109      Mining, quarrying, and oil and gas extraction     3123   \n",
       "112      Mining, quarrying, and oil and gas extraction     1828   \n",
       "117                                          Utilities      979   \n",
       "120                                          Utilities      889   \n",
       "123                                          Utilities      913   \n",
       "126                                          Utilities     1000   \n",
       "129                                          Utilities      786   \n",
       "132                                          Utilities      161   \n",
       "135                                          Utilities      590   \n",
       "138                                          Utilities      793   \n",
       "141                                          Utilities      499   \n",
       "144                                          Utilities      169   \n",
       "147                                          Utilities      477   \n",
       "150                                          Utilities      329   \n",
       "155                                       Construction   344989   \n",
       "158                                       Construction   287047   \n",
       "161                                       Construction   319860   \n",
       "164                                       Construction   359871   \n",
       "167                                       Construction   299981   \n",
       "170                                       Construction    43503   \n",
       "173                                       Construction   182473   \n",
       "176                                       Construction   262341   \n",
       "179                                       Construction   155671   \n",
       "182                                       Construction    50039   \n",
       "185                                       Construction   115024   \n",
       "188                                       Construction   107162   \n",
       "193                                      Manufacturing   102866   \n",
       "196                                      Manufacturing    80794   \n",
       "199                                      Manufacturing    88664   \n",
       "202                                      Manufacturing   105081   \n",
       "205                                      Manufacturing    92940   \n",
       "208                                      Manufacturing    11700   \n",
       "211                                      Manufacturing    53664   \n",
       "214                                      Manufacturing    74318   \n",
       "217                                      Manufacturing    53660   \n",
       "220                                      Manufacturing    15784   \n",
       "223                                      Manufacturing    50581   \n",
       "226                                      Manufacturing    33302   \n",
       "231                                    Wholesale trade   137224   \n",
       "234                                    Wholesale trade   112272   \n",
       "237                                    Wholesale trade   119402   \n",
       "240                                    Wholesale trade   145891   \n",
       "243                                    Wholesale trade   118699   \n",
       "246                                    Wholesale trade    18160   \n",
       "249                                    Wholesale trade    72613   \n",
       "252                                    Wholesale trade   100704   \n",
       "255                                    Wholesale trade    72822   \n",
       "258                                    Wholesale trade    18789   \n",
       "261                                    Wholesale trade    63602   \n",
       "264                                    Wholesale trade    43228   \n",
       "269                                       Retail trade   267959   \n",
       "272                                       Retail trade   217008   \n",
       "275                                       Retail trade   239252   \n",
       "278                                       Retail trade   258020   \n",
       "281                                       Retail trade   227982   \n",
       "284                                       Retail trade    39515   \n",
       "287                                       Retail trade   143659   \n",
       "290                                       Retail trade   213305   \n",
       "293                                       Retail trade   146693   \n",
       "296                                       Retail trade    46387   \n",
       "299                                       Retail trade   111193   \n",
       "302                                       Retail trade   120902   \n",
       "307                     Transportation and warehousing    67425   \n",
       "310                     Transportation and warehousing    56507   \n",
       "313                     Transportation and warehousing    60457   \n",
       "316                     Transportation and warehousing    71609   \n",
       "319                     Transportation and warehousing    55670   \n",
       "322                     Transportation and warehousing    10177   \n",
       "325                     Transportation and warehousing    35851   \n",
       "328                     Transportation and warehousing    53086   \n",
       "331                     Transportation and warehousing    33386   \n",
       "334                     Transportation and warehousing    10091   \n",
       "337                     Transportation and warehousing    25816   \n",
       "340                     Transportation and warehousing    21695   \n",
       "344                                        Information    18075   \n",
       "347                                        Information    10714   \n",
       "350                                        Information     4635   \n",
       "353                                        Information     4702   \n",
       "356                                        Information     8866   \n",
       "361                                        Information    26970   \n",
       "364                                        Information    22995   \n",
       "367                                        Information    22646   \n",
       "370                                        Information    26899   \n",
       "373                                        Information    27101   \n",
       "376                                        Information     2443   \n",
       "379                                        Information    12698   \n",
       "383                              Finance and insurance   126131   \n",
       "386                              Finance and insurance   114029   \n",
       "389                              Finance and insurance   117429   \n",
       "392                              Finance and insurance   130943   \n",
       "395                              Finance and insurance   102820   \n",
       "398                              Finance and insurance    10641   \n",
       "401                              Finance and insurance    64195   \n",
       "404                              Finance and insurance    85086   \n",
       "407                              Finance and insurance    59328   \n",
       "410                              Finance and insurance    15902   \n",
       "413                              Finance and insurance    34104   \n",
       "416                              Finance and insurance    51233   \n",
       "421                 Real estate and rental and leasing   136572   \n",
       "424                 Real estate and rental and leasing   126786   \n",
       "427                 Real estate and rental and leasing   124643   \n",
       "430                 Real estate and rental and leasing   148098   \n",
       "433                 Real estate and rental and leasing   110954   \n",
       "436                 Real estate and rental and leasing    14848   \n",
       "439                 Real estate and rental and leasing    75946   \n",
       "442                 Real estate and rental and leasing    98078   \n",
       "445                 Real estate and rental and leasing    71610   \n",
       "448                 Real estate and rental and leasing    23005   \n",
       "451                 Real estate and rental and leasing    52074   \n",
       "454                 Real estate and rental and leasing    51795   \n",
       "459   Professional, scientific, and technical services   424047   \n",
       "462   Professional, scientific, and technical services   379718   \n",
       "465   Professional, scientific, and technical services   379325   \n",
       "468   Professional, scientific, and technical services   405068   \n",
       "471   Professional, scientific, and technical services   378993   \n",
       "474   Professional, scientific, and technical services    37164   \n",
       "477   Professional, scientific, and technical services   200139   \n",
       "480   Professional, scientific, and technical services   266159   \n",
       "483   Professional, scientific, and technical services   140239   \n",
       "486   Professional, scientific, and technical services    48764   \n",
       "489   Professional, scientific, and technical services    54830   \n",
       "492   Professional, scientific, and technical services   123871   \n",
       "496            Management of companies and enterprises     3895   \n",
       "499            Management of companies and enterprises     2740   \n",
       "504            Management of companies and enterprises     5710   \n",
       "507            Management of companies and enterprises     3678   \n",
       "510            Management of companies and enterprises     4284   \n",
       "513            Management of companies and enterprises     6012   \n",
       "516            Management of companies and enterprises     4925   \n",
       "519            Management of companies and enterprises      620   \n",
       "522            Management of companies and enterprises     2725   \n",
       "525            Management of companies and enterprises     4214   \n",
       "528            Management of companies and enterprises     3820   \n",
       "531            Management of companies and enterprises      759   \n",
       "535  Administrative and support and waste managemen...   157823   \n",
       "538  Administrative and support and waste managemen...   139506   \n",
       "541  Administrative and support and waste managemen...   145728   \n",
       "544  Administrative and support and waste managemen...   158977   \n",
       "547  Administrative and support and waste managemen...   130290   \n",
       "550  Administrative and support and waste managemen...    18578   \n",
       "553  Administrative and support and waste managemen...    82224   \n",
       "556  Administrative and support and waste managemen...   116772   \n",
       "559  Administrative and support and waste managemen...    68044   \n",
       "562  Administrative and support and waste managemen...    23060   \n",
       "565  Administrative and support and waste managemen...    37625   \n",
       "568  Administrative and support and waste managemen...    52441   \n",
       "573                               Educational services    27017   \n",
       "576                               Educational services    25918   \n",
       "579                               Educational services    25990   \n",
       "582                               Educational services    24862   \n",
       "585                               Educational services    29056   \n",
       "588                               Educational services     2514   \n",
       "591                               Educational services    13427   \n",
       "594                               Educational services    19183   \n",
       "597                               Educational services    11754   \n",
       "600                               Educational services     6406   \n",
       "603                               Educational services     5367   \n",
       "606                               Educational services    17979   \n",
       "611                  Health care and social assistance   282117   \n",
       "614                  Health care and social assistance   253464   \n",
       "617                  Health care and social assistance   270468   \n",
       "620                  Health care and social assistance   264840   \n",
       "623                  Health care and social assistance   268191   \n",
       "626                  Health care and social assistance    28336   \n",
       "629                  Health care and social assistance   142675   \n",
       "632                  Health care and social assistance   183470   \n",
       "635                  Health care and social assistance    98386   \n",
       "638                  Health care and social assistance    44659   \n",
       "641                  Health care and social assistance    43766   \n",
       "644                  Health care and social assistance   164329   \n",
       "649                Arts, entertainment, and recreation    43850   \n",
       "652                Arts, entertainment, and recreation    40228   \n",
       "655                Arts, entertainment, and recreation    37927   \n",
       "658                Arts, entertainment, and recreation    40979   \n",
       "661                Arts, entertainment, and recreation    41007   \n",
       "664                Arts, entertainment, and recreation     4448   \n",
       "667                Arts, entertainment, and recreation    22042   \n",
       "670                Arts, entertainment, and recreation    29980   \n",
       "673                Arts, entertainment, and recreation    18043   \n",
       "676                Arts, entertainment, and recreation     8163   \n",
       "679                Arts, entertainment, and recreation    10580   \n",
       "682                Arts, entertainment, and recreation    18726   \n",
       "687                    Accommodation and food services   217539   \n",
       "690                    Accommodation and food services   179016   \n",
       "693                    Accommodation and food services   189302   \n",
       "696                    Accommodation and food services   217657   \n",
       "699                    Accommodation and food services   176850   \n",
       "702                    Accommodation and food services    42601   \n",
       "705                    Accommodation and food services   118796   \n",
       "708                    Accommodation and food services   186227   \n",
       "711                    Accommodation and food services   123323   \n",
       "714                    Accommodation and food services    37342   \n",
       "717                    Accommodation and food services    86454   \n",
       "720                    Accommodation and food services   106602   \n",
       "725      Other services (except public administration)   164771   \n",
       "728      Other services (except public administration)   135703   \n",
       "731      Other services (except public administration)   147890   \n",
       "734      Other services (except public administration)   159967   \n",
       "737      Other services (except public administration)   139918   \n",
       "740      Other services (except public administration)    21313   \n",
       "743      Other services (except public administration)    85918   \n",
       "746      Other services (except public administration)   130108   \n",
       "749      Other services (except public administration)    72349   \n",
       "752      Other services (except public administration)    26558   \n",
       "755      Other services (except public administration)    48430   \n",
       "758      Other services (except public administration)    63955   \n",
       "763                          Industries not classified     5696   \n",
       "766                          Industries not classified     5042   \n",
       "769                          Industries not classified     5732   \n",
       "772                          Industries not classified     4405   \n",
       "775                          Industries not classified     4320   \n",
       "778                          Industries not classified      765   \n",
       "781                          Industries not classified     3018   \n",
       "784                          Industries not classified     3951   \n",
       "787                          Industries not classified     3530   \n",
       "790                          Industries not classified     1030   \n",
       "793                          Industries not classified     5152   \n",
       "796                          Industries not classified     2062   \n",
       "\n",
       "                   OWNCHAR_LABEL  \n",
       "3       Wanted to be my own boss  \n",
       "6                 Flexible hours  \n",
       "9        Balance work and family  \n",
       "12                Greater income  \n",
       "15         Best avenue for ideas  \n",
       "18           Couldn't find a job  \n",
       "21                 Work for self  \n",
       "24         Start my own business  \n",
       "27   Friend or family role model  \n",
       "30                         Other  \n",
       "33      Carry on family business  \n",
       "36             Help my community  \n",
       "41      Wanted to be my own boss  \n",
       "44                Flexible hours  \n",
       "47       Balance work and family  \n",
       "50                Greater income  \n",
       "53         Best avenue for ideas  \n",
       "56           Couldn't find a job  \n",
       "59                 Work for self  \n",
       "62         Start my own business  \n",
       "65   Friend or family role model  \n",
       "68                         Other  \n",
       "71      Carry on family business  \n",
       "74             Help my community  \n",
       "79      Wanted to be my own boss  \n",
       "82                Flexible hours  \n",
       "85       Balance work and family  \n",
       "88                Greater income  \n",
       "91         Best avenue for ideas  \n",
       "94           Couldn't find a job  \n",
       "97                 Work for self  \n",
       "100        Start my own business  \n",
       "103  Friend or family role model  \n",
       "106                        Other  \n",
       "109     Carry on family business  \n",
       "112            Help my community  \n",
       "117     Wanted to be my own boss  \n",
       "120               Flexible hours  \n",
       "123      Balance work and family  \n",
       "126               Greater income  \n",
       "129        Best avenue for ideas  \n",
       "132          Couldn't find a job  \n",
       "135                Work for self  \n",
       "138        Start my own business  \n",
       "141  Friend or family role model  \n",
       "144                        Other  \n",
       "147     Carry on family business  \n",
       "150            Help my community  \n",
       "155     Wanted to be my own boss  \n",
       "158               Flexible hours  \n",
       "161      Balance work and family  \n",
       "164               Greater income  \n",
       "167        Best avenue for ideas  \n",
       "170          Couldn't find a job  \n",
       "173                Work for self  \n",
       "176        Start my own business  \n",
       "179  Friend or family role model  \n",
       "182                        Other  \n",
       "185     Carry on family business  \n",
       "188            Help my community  \n",
       "193     Wanted to be my own boss  \n",
       "196               Flexible hours  \n",
       "199      Balance work and family  \n",
       "202               Greater income  \n",
       "205        Best avenue for ideas  \n",
       "208          Couldn't find a job  \n",
       "211                Work for self  \n",
       "214        Start my own business  \n",
       "217  Friend or family role model  \n",
       "220                        Other  \n",
       "223     Carry on family business  \n",
       "226            Help my community  \n",
       "231     Wanted to be my own boss  \n",
       "234               Flexible hours  \n",
       "237      Balance work and family  \n",
       "240               Greater income  \n",
       "243        Best avenue for ideas  \n",
       "246          Couldn't find a job  \n",
       "249                Work for self  \n",
       "252        Start my own business  \n",
       "255  Friend or family role model  \n",
       "258                        Other  \n",
       "261     Carry on family business  \n",
       "264            Help my community  \n",
       "269     Wanted to be my own boss  \n",
       "272               Flexible hours  \n",
       "275      Balance work and family  \n",
       "278               Greater income  \n",
       "281        Best avenue for ideas  \n",
       "284          Couldn't find a job  \n",
       "287                Work for self  \n",
       "290        Start my own business  \n",
       "293  Friend or family role model  \n",
       "296                        Other  \n",
       "299     Carry on family business  \n",
       "302            Help my community  \n",
       "307     Wanted to be my own boss  \n",
       "310               Flexible hours  \n",
       "313      Balance work and family  \n",
       "316               Greater income  \n",
       "319        Best avenue for ideas  \n",
       "322          Couldn't find a job  \n",
       "325                Work for self  \n",
       "328        Start my own business  \n",
       "331  Friend or family role model  \n",
       "334                        Other  \n",
       "337     Carry on family business  \n",
       "340            Help my community  \n",
       "344        Start my own business  \n",
       "347  Friend or family role model  \n",
       "350                        Other  \n",
       "353     Carry on family business  \n",
       "356            Help my community  \n",
       "361     Wanted to be my own boss  \n",
       "364               Flexible hours  \n",
       "367      Balance work and family  \n",
       "370               Greater income  \n",
       "373        Best avenue for ideas  \n",
       "376          Couldn't find a job  \n",
       "379                Work for self  \n",
       "383     Wanted to be my own boss  \n",
       "386               Flexible hours  \n",
       "389      Balance work and family  \n",
       "392               Greater income  \n",
       "395        Best avenue for ideas  \n",
       "398          Couldn't find a job  \n",
       "401                Work for self  \n",
       "404        Start my own business  \n",
       "407  Friend or family role model  \n",
       "410                        Other  \n",
       "413     Carry on family business  \n",
       "416            Help my community  \n",
       "421     Wanted to be my own boss  \n",
       "424               Flexible hours  \n",
       "427      Balance work and family  \n",
       "430               Greater income  \n",
       "433        Best avenue for ideas  \n",
       "436          Couldn't find a job  \n",
       "439                Work for self  \n",
       "442        Start my own business  \n",
       "445  Friend or family role model  \n",
       "448                        Other  \n",
       "451     Carry on family business  \n",
       "454            Help my community  \n",
       "459     Wanted to be my own boss  \n",
       "462               Flexible hours  \n",
       "465      Balance work and family  \n",
       "468               Greater income  \n",
       "471        Best avenue for ideas  \n",
       "474          Couldn't find a job  \n",
       "477                Work for self  \n",
       "480        Start my own business  \n",
       "483  Friend or family role model  \n",
       "486                        Other  \n",
       "489     Carry on family business  \n",
       "492            Help my community  \n",
       "496     Carry on family business  \n",
       "499            Help my community  \n",
       "504     Wanted to be my own boss  \n",
       "507               Flexible hours  \n",
       "510      Balance work and family  \n",
       "513               Greater income  \n",
       "516        Best avenue for ideas  \n",
       "519          Couldn't find a job  \n",
       "522                Work for self  \n",
       "525        Start my own business  \n",
       "528  Friend or family role model  \n",
       "531                        Other  \n",
       "535     Wanted to be my own boss  \n",
       "538               Flexible hours  \n",
       "541      Balance work and family  \n",
       "544               Greater income  \n",
       "547        Best avenue for ideas  \n",
       "550          Couldn't find a job  \n",
       "553                Work for self  \n",
       "556        Start my own business  \n",
       "559  Friend or family role model  \n",
       "562                        Other  \n",
       "565     Carry on family business  \n",
       "568            Help my community  \n",
       "573     Wanted to be my own boss  \n",
       "576               Flexible hours  \n",
       "579      Balance work and family  \n",
       "582               Greater income  \n",
       "585        Best avenue for ideas  \n",
       "588          Couldn't find a job  \n",
       "591                Work for self  \n",
       "594        Start my own business  \n",
       "597  Friend or family role model  \n",
       "600                        Other  \n",
       "603     Carry on family business  \n",
       "606            Help my community  \n",
       "611     Wanted to be my own boss  \n",
       "614               Flexible hours  \n",
       "617      Balance work and family  \n",
       "620               Greater income  \n",
       "623        Best avenue for ideas  \n",
       "626          Couldn't find a job  \n",
       "629                Work for self  \n",
       "632        Start my own business  \n",
       "635  Friend or family role model  \n",
       "638                        Other  \n",
       "641     Carry on family business  \n",
       "644            Help my community  \n",
       "649     Wanted to be my own boss  \n",
       "652               Flexible hours  \n",
       "655      Balance work and family  \n",
       "658               Greater income  \n",
       "661        Best avenue for ideas  \n",
       "664          Couldn't find a job  \n",
       "667                Work for self  \n",
       "670        Start my own business  \n",
       "673  Friend or family role model  \n",
       "676                        Other  \n",
       "679     Carry on family business  \n",
       "682            Help my community  \n",
       "687     Wanted to be my own boss  \n",
       "690               Flexible hours  \n",
       "693      Balance work and family  \n",
       "696               Greater income  \n",
       "699        Best avenue for ideas  \n",
       "702          Couldn't find a job  \n",
       "705                Work for self  \n",
       "708        Start my own business  \n",
       "711  Friend or family role model  \n",
       "714                        Other  \n",
       "717     Carry on family business  \n",
       "720            Help my community  \n",
       "725     Wanted to be my own boss  \n",
       "728               Flexible hours  \n",
       "731      Balance work and family  \n",
       "734               Greater income  \n",
       "737        Best avenue for ideas  \n",
       "740          Couldn't find a job  \n",
       "743                Work for self  \n",
       "746        Start my own business  \n",
       "749  Friend or family role model  \n",
       "752                        Other  \n",
       "755     Carry on family business  \n",
       "758            Help my community  \n",
       "763     Wanted to be my own boss  \n",
       "766               Flexible hours  \n",
       "769      Balance work and family  \n",
       "772               Greater income  \n",
       "775        Best avenue for ideas  \n",
       "778          Couldn't find a job  \n",
       "781                Work for self  \n",
       "784        Start my own business  \n",
       "787  Friend or family role model  \n",
       "790                        Other  \n",
       "793     Carry on family business  \n",
       "796            Help my community  "
      ]
     },
     "execution_count": 497,
     "metadata": {},
     "output_type": "execute_result"
    }
   ],
   "source": [
    "#Get the industry, employee number and reason for business ownership\n",
    "df = df[['NAICS2017_LABEL','OWNPDEMP','OWNCHAR_LABEL']]\n",
    "df\n",
    "\n",
    "#filter out only the reason:Very important answers because there's too many!\n",
    "def filterVeryImportant(x):\n",
    "    if 'Very important'.lower() in x.lower():\n",
    "        return True\n",
    "    else:\n",
    "        return False\n",
    "    \n",
    "    \n",
    "my_filter = df['OWNCHAR_LABEL'].map(lambda x: filterVeryImportant(x))\n",
    "\n",
    "df = df[my_filter]\n",
    "df\n",
    "\n",
    "#Split out the very important from the answer:very important because its redundant\n",
    "def changemywords(x):\n",
    "    l = x.split(\":\")\n",
    "    return l[0]\n",
    "df['OWNCHAR_LABEL'] = df['OWNCHAR_LABEL'].map(lambda x:changemywords(x))\n",
    "df\n",
    "# df.info()\n"
   ]
  },
  {
   "cell_type": "code",
   "execution_count": 498,
   "metadata": {},
   "outputs": [
    {
     "data": {
      "text/html": [
       "<div>\n",
       "<style scoped>\n",
       "    .dataframe tbody tr th:only-of-type {\n",
       "        vertical-align: middle;\n",
       "    }\n",
       "\n",
       "    .dataframe tbody tr th {\n",
       "        vertical-align: top;\n",
       "    }\n",
       "\n",
       "    .dataframe thead th {\n",
       "        text-align: right;\n",
       "    }\n",
       "</style>\n",
       "<table border=\"1\" class=\"dataframe\">\n",
       "  <thead>\n",
       "    <tr style=\"text-align: right;\">\n",
       "      <th></th>\n",
       "      <th>NAICS2017_LABEL</th>\n",
       "      <th>OWNPDEMP</th>\n",
       "      <th>OWNCHAR_LABEL</th>\n",
       "    </tr>\n",
       "  </thead>\n",
       "  <tbody>\n",
       "    <tr>\n",
       "      <th>3</th>\n",
       "      <td>Total for all sectors</td>\n",
       "      <td>2542285</td>\n",
       "      <td>Wanted to be my own boss</td>\n",
       "    </tr>\n",
       "    <tr>\n",
       "      <th>6</th>\n",
       "      <td>Total for all sectors</td>\n",
       "      <td>2184862</td>\n",
       "      <td>Flexible hours</td>\n",
       "    </tr>\n",
       "    <tr>\n",
       "      <th>9</th>\n",
       "      <td>Total for all sectors</td>\n",
       "      <td>2305516</td>\n",
       "      <td>Balance work and family</td>\n",
       "    </tr>\n",
       "    <tr>\n",
       "      <th>12</th>\n",
       "      <td>Total for all sectors</td>\n",
       "      <td>2534674</td>\n",
       "      <td>Greater income</td>\n",
       "    </tr>\n",
       "    <tr>\n",
       "      <th>15</th>\n",
       "      <td>Total for all sectors</td>\n",
       "      <td>2212856</td>\n",
       "      <td>Best avenue for ideas</td>\n",
       "    </tr>\n",
       "    <tr>\n",
       "      <th>18</th>\n",
       "      <td>Total for all sectors</td>\n",
       "      <td>307603</td>\n",
       "      <td>Couldn't find a job</td>\n",
       "    </tr>\n",
       "    <tr>\n",
       "      <th>21</th>\n",
       "      <td>Total for all sectors</td>\n",
       "      <td>1314042</td>\n",
       "      <td>Work for self</td>\n",
       "    </tr>\n",
       "    <tr>\n",
       "      <th>24</th>\n",
       "      <td>Total for all sectors</td>\n",
       "      <td>1848131</td>\n",
       "      <td>Start my own business</td>\n",
       "    </tr>\n",
       "    <tr>\n",
       "      <th>27</th>\n",
       "      <td>Total for all sectors</td>\n",
       "      <td>1143338</td>\n",
       "      <td>Friend or family role model</td>\n",
       "    </tr>\n",
       "    <tr>\n",
       "      <th>30</th>\n",
       "      <td>Total for all sectors</td>\n",
       "      <td>381983</td>\n",
       "      <td>Other</td>\n",
       "    </tr>\n",
       "    <tr>\n",
       "      <th>33</th>\n",
       "      <td>Total for all sectors</td>\n",
       "      <td>752938</td>\n",
       "      <td>Carry on family business</td>\n",
       "    </tr>\n",
       "    <tr>\n",
       "      <th>36</th>\n",
       "      <td>Total for all sectors</td>\n",
       "      <td>989638</td>\n",
       "      <td>Help my community</td>\n",
       "    </tr>\n",
       "    <tr>\n",
       "      <th>41</th>\n",
       "      <td>Agriculture, forestry, fishing and hunting</td>\n",
       "      <td>9917</td>\n",
       "      <td>Wanted to be my own boss</td>\n",
       "    </tr>\n",
       "    <tr>\n",
       "      <th>44</th>\n",
       "      <td>Agriculture, forestry, fishing and hunting</td>\n",
       "      <td>8791</td>\n",
       "      <td>Flexible hours</td>\n",
       "    </tr>\n",
       "    <tr>\n",
       "      <th>47</th>\n",
       "      <td>Agriculture, forestry, fishing and hunting</td>\n",
       "      <td>9549</td>\n",
       "      <td>Balance work and family</td>\n",
       "    </tr>\n",
       "    <tr>\n",
       "      <th>50</th>\n",
       "      <td>Agriculture, forestry, fishing and hunting</td>\n",
       "      <td>10819</td>\n",
       "      <td>Greater income</td>\n",
       "    </tr>\n",
       "    <tr>\n",
       "      <th>53</th>\n",
       "      <td>Agriculture, forestry, fishing and hunting</td>\n",
       "      <td>9012</td>\n",
       "      <td>Best avenue for ideas</td>\n",
       "    </tr>\n",
       "    <tr>\n",
       "      <th>56</th>\n",
       "      <td>Agriculture, forestry, fishing and hunting</td>\n",
       "      <td>991</td>\n",
       "      <td>Couldn't find a job</td>\n",
       "    </tr>\n",
       "    <tr>\n",
       "      <th>59</th>\n",
       "      <td>Agriculture, forestry, fishing and hunting</td>\n",
       "      <td>5256</td>\n",
       "      <td>Work for self</td>\n",
       "    </tr>\n",
       "    <tr>\n",
       "      <th>62</th>\n",
       "      <td>Agriculture, forestry, fishing and hunting</td>\n",
       "      <td>6956</td>\n",
       "      <td>Start my own business</td>\n",
       "    </tr>\n",
       "    <tr>\n",
       "      <th>65</th>\n",
       "      <td>Agriculture, forestry, fishing and hunting</td>\n",
       "      <td>5709</td>\n",
       "      <td>Friend or family role model</td>\n",
       "    </tr>\n",
       "    <tr>\n",
       "      <th>68</th>\n",
       "      <td>Agriculture, forestry, fishing and hunting</td>\n",
       "      <td>1748</td>\n",
       "      <td>Other</td>\n",
       "    </tr>\n",
       "    <tr>\n",
       "      <th>71</th>\n",
       "      <td>Agriculture, forestry, fishing and hunting</td>\n",
       "      <td>5589</td>\n",
       "      <td>Carry on family business</td>\n",
       "    </tr>\n",
       "    <tr>\n",
       "      <th>74</th>\n",
       "      <td>Agriculture, forestry, fishing and hunting</td>\n",
       "      <td>3262</td>\n",
       "      <td>Help my community</td>\n",
       "    </tr>\n",
       "    <tr>\n",
       "      <th>79</th>\n",
       "      <td>Mining, quarrying, and oil and gas extraction</td>\n",
       "      <td>6328</td>\n",
       "      <td>Wanted to be my own boss</td>\n",
       "    </tr>\n",
       "    <tr>\n",
       "      <th>82</th>\n",
       "      <td>Mining, quarrying, and oil and gas extraction</td>\n",
       "      <td>4892</td>\n",
       "      <td>Flexible hours</td>\n",
       "    </tr>\n",
       "    <tr>\n",
       "      <th>85</th>\n",
       "      <td>Mining, quarrying, and oil and gas extraction</td>\n",
       "      <td>6172</td>\n",
       "      <td>Balance work and family</td>\n",
       "    </tr>\n",
       "    <tr>\n",
       "      <th>88</th>\n",
       "      <td>Mining, quarrying, and oil and gas extraction</td>\n",
       "      <td>7647</td>\n",
       "      <td>Greater income</td>\n",
       "    </tr>\n",
       "    <tr>\n",
       "      <th>91</th>\n",
       "      <td>Mining, quarrying, and oil and gas extraction</td>\n",
       "      <td>5334</td>\n",
       "      <td>Best avenue for ideas</td>\n",
       "    </tr>\n",
       "    <tr>\n",
       "      <th>94</th>\n",
       "      <td>Mining, quarrying, and oil and gas extraction</td>\n",
       "      <td>769</td>\n",
       "      <td>Couldn't find a job</td>\n",
       "    </tr>\n",
       "    <tr>\n",
       "      <th>97</th>\n",
       "      <td>Mining, quarrying, and oil and gas extraction</td>\n",
       "      <td>3532</td>\n",
       "      <td>Work for self</td>\n",
       "    </tr>\n",
       "    <tr>\n",
       "      <th>100</th>\n",
       "      <td>Mining, quarrying, and oil and gas extraction</td>\n",
       "      <td>5047</td>\n",
       "      <td>Start my own business</td>\n",
       "    </tr>\n",
       "    <tr>\n",
       "      <th>103</th>\n",
       "      <td>Mining, quarrying, and oil and gas extraction</td>\n",
       "      <td>3162</td>\n",
       "      <td>Friend or family role model</td>\n",
       "    </tr>\n",
       "    <tr>\n",
       "      <th>106</th>\n",
       "      <td>Mining, quarrying, and oil and gas extraction</td>\n",
       "      <td>773</td>\n",
       "      <td>Other</td>\n",
       "    </tr>\n",
       "    <tr>\n",
       "      <th>109</th>\n",
       "      <td>Mining, quarrying, and oil and gas extraction</td>\n",
       "      <td>3123</td>\n",
       "      <td>Carry on family business</td>\n",
       "    </tr>\n",
       "    <tr>\n",
       "      <th>112</th>\n",
       "      <td>Mining, quarrying, and oil and gas extraction</td>\n",
       "      <td>1828</td>\n",
       "      <td>Help my community</td>\n",
       "    </tr>\n",
       "    <tr>\n",
       "      <th>117</th>\n",
       "      <td>Utilities</td>\n",
       "      <td>979</td>\n",
       "      <td>Wanted to be my own boss</td>\n",
       "    </tr>\n",
       "    <tr>\n",
       "      <th>120</th>\n",
       "      <td>Utilities</td>\n",
       "      <td>889</td>\n",
       "      <td>Flexible hours</td>\n",
       "    </tr>\n",
       "    <tr>\n",
       "      <th>123</th>\n",
       "      <td>Utilities</td>\n",
       "      <td>913</td>\n",
       "      <td>Balance work and family</td>\n",
       "    </tr>\n",
       "    <tr>\n",
       "      <th>126</th>\n",
       "      <td>Utilities</td>\n",
       "      <td>1000</td>\n",
       "      <td>Greater income</td>\n",
       "    </tr>\n",
       "    <tr>\n",
       "      <th>129</th>\n",
       "      <td>Utilities</td>\n",
       "      <td>786</td>\n",
       "      <td>Best avenue for ideas</td>\n",
       "    </tr>\n",
       "    <tr>\n",
       "      <th>132</th>\n",
       "      <td>Utilities</td>\n",
       "      <td>161</td>\n",
       "      <td>Couldn't find a job</td>\n",
       "    </tr>\n",
       "    <tr>\n",
       "      <th>135</th>\n",
       "      <td>Utilities</td>\n",
       "      <td>590</td>\n",
       "      <td>Work for self</td>\n",
       "    </tr>\n",
       "    <tr>\n",
       "      <th>138</th>\n",
       "      <td>Utilities</td>\n",
       "      <td>793</td>\n",
       "      <td>Start my own business</td>\n",
       "    </tr>\n",
       "    <tr>\n",
       "      <th>141</th>\n",
       "      <td>Utilities</td>\n",
       "      <td>499</td>\n",
       "      <td>Friend or family role model</td>\n",
       "    </tr>\n",
       "    <tr>\n",
       "      <th>144</th>\n",
       "      <td>Utilities</td>\n",
       "      <td>169</td>\n",
       "      <td>Other</td>\n",
       "    </tr>\n",
       "    <tr>\n",
       "      <th>147</th>\n",
       "      <td>Utilities</td>\n",
       "      <td>477</td>\n",
       "      <td>Carry on family business</td>\n",
       "    </tr>\n",
       "    <tr>\n",
       "      <th>150</th>\n",
       "      <td>Utilities</td>\n",
       "      <td>329</td>\n",
       "      <td>Help my community</td>\n",
       "    </tr>\n",
       "    <tr>\n",
       "      <th>155</th>\n",
       "      <td>Construction</td>\n",
       "      <td>344989</td>\n",
       "      <td>Wanted to be my own boss</td>\n",
       "    </tr>\n",
       "    <tr>\n",
       "      <th>158</th>\n",
       "      <td>Construction</td>\n",
       "      <td>287047</td>\n",
       "      <td>Flexible hours</td>\n",
       "    </tr>\n",
       "    <tr>\n",
       "      <th>161</th>\n",
       "      <td>Construction</td>\n",
       "      <td>319860</td>\n",
       "      <td>Balance work and family</td>\n",
       "    </tr>\n",
       "    <tr>\n",
       "      <th>164</th>\n",
       "      <td>Construction</td>\n",
       "      <td>359871</td>\n",
       "      <td>Greater income</td>\n",
       "    </tr>\n",
       "    <tr>\n",
       "      <th>167</th>\n",
       "      <td>Construction</td>\n",
       "      <td>299981</td>\n",
       "      <td>Best avenue for ideas</td>\n",
       "    </tr>\n",
       "    <tr>\n",
       "      <th>170</th>\n",
       "      <td>Construction</td>\n",
       "      <td>43503</td>\n",
       "      <td>Couldn't find a job</td>\n",
       "    </tr>\n",
       "    <tr>\n",
       "      <th>173</th>\n",
       "      <td>Construction</td>\n",
       "      <td>182473</td>\n",
       "      <td>Work for self</td>\n",
       "    </tr>\n",
       "    <tr>\n",
       "      <th>176</th>\n",
       "      <td>Construction</td>\n",
       "      <td>262341</td>\n",
       "      <td>Start my own business</td>\n",
       "    </tr>\n",
       "    <tr>\n",
       "      <th>179</th>\n",
       "      <td>Construction</td>\n",
       "      <td>155671</td>\n",
       "      <td>Friend or family role model</td>\n",
       "    </tr>\n",
       "    <tr>\n",
       "      <th>182</th>\n",
       "      <td>Construction</td>\n",
       "      <td>50039</td>\n",
       "      <td>Other</td>\n",
       "    </tr>\n",
       "    <tr>\n",
       "      <th>185</th>\n",
       "      <td>Construction</td>\n",
       "      <td>115024</td>\n",
       "      <td>Carry on family business</td>\n",
       "    </tr>\n",
       "    <tr>\n",
       "      <th>188</th>\n",
       "      <td>Construction</td>\n",
       "      <td>107162</td>\n",
       "      <td>Help my community</td>\n",
       "    </tr>\n",
       "    <tr>\n",
       "      <th>193</th>\n",
       "      <td>Manufacturing</td>\n",
       "      <td>102866</td>\n",
       "      <td>Wanted to be my own boss</td>\n",
       "    </tr>\n",
       "    <tr>\n",
       "      <th>196</th>\n",
       "      <td>Manufacturing</td>\n",
       "      <td>80794</td>\n",
       "      <td>Flexible hours</td>\n",
       "    </tr>\n",
       "    <tr>\n",
       "      <th>199</th>\n",
       "      <td>Manufacturing</td>\n",
       "      <td>88664</td>\n",
       "      <td>Balance work and family</td>\n",
       "    </tr>\n",
       "    <tr>\n",
       "      <th>202</th>\n",
       "      <td>Manufacturing</td>\n",
       "      <td>105081</td>\n",
       "      <td>Greater income</td>\n",
       "    </tr>\n",
       "    <tr>\n",
       "      <th>205</th>\n",
       "      <td>Manufacturing</td>\n",
       "      <td>92940</td>\n",
       "      <td>Best avenue for ideas</td>\n",
       "    </tr>\n",
       "    <tr>\n",
       "      <th>208</th>\n",
       "      <td>Manufacturing</td>\n",
       "      <td>11700</td>\n",
       "      <td>Couldn't find a job</td>\n",
       "    </tr>\n",
       "    <tr>\n",
       "      <th>211</th>\n",
       "      <td>Manufacturing</td>\n",
       "      <td>53664</td>\n",
       "      <td>Work for self</td>\n",
       "    </tr>\n",
       "    <tr>\n",
       "      <th>214</th>\n",
       "      <td>Manufacturing</td>\n",
       "      <td>74318</td>\n",
       "      <td>Start my own business</td>\n",
       "    </tr>\n",
       "    <tr>\n",
       "      <th>217</th>\n",
       "      <td>Manufacturing</td>\n",
       "      <td>53660</td>\n",
       "      <td>Friend or family role model</td>\n",
       "    </tr>\n",
       "    <tr>\n",
       "      <th>220</th>\n",
       "      <td>Manufacturing</td>\n",
       "      <td>15784</td>\n",
       "      <td>Other</td>\n",
       "    </tr>\n",
       "    <tr>\n",
       "      <th>223</th>\n",
       "      <td>Manufacturing</td>\n",
       "      <td>50581</td>\n",
       "      <td>Carry on family business</td>\n",
       "    </tr>\n",
       "    <tr>\n",
       "      <th>226</th>\n",
       "      <td>Manufacturing</td>\n",
       "      <td>33302</td>\n",
       "      <td>Help my community</td>\n",
       "    </tr>\n",
       "    <tr>\n",
       "      <th>231</th>\n",
       "      <td>Wholesale trade</td>\n",
       "      <td>137224</td>\n",
       "      <td>Wanted to be my own boss</td>\n",
       "    </tr>\n",
       "    <tr>\n",
       "      <th>234</th>\n",
       "      <td>Wholesale trade</td>\n",
       "      <td>112272</td>\n",
       "      <td>Flexible hours</td>\n",
       "    </tr>\n",
       "    <tr>\n",
       "      <th>237</th>\n",
       "      <td>Wholesale trade</td>\n",
       "      <td>119402</td>\n",
       "      <td>Balance work and family</td>\n",
       "    </tr>\n",
       "    <tr>\n",
       "      <th>240</th>\n",
       "      <td>Wholesale trade</td>\n",
       "      <td>145891</td>\n",
       "      <td>Greater income</td>\n",
       "    </tr>\n",
       "    <tr>\n",
       "      <th>243</th>\n",
       "      <td>Wholesale trade</td>\n",
       "      <td>118699</td>\n",
       "      <td>Best avenue for ideas</td>\n",
       "    </tr>\n",
       "    <tr>\n",
       "      <th>246</th>\n",
       "      <td>Wholesale trade</td>\n",
       "      <td>18160</td>\n",
       "      <td>Couldn't find a job</td>\n",
       "    </tr>\n",
       "    <tr>\n",
       "      <th>249</th>\n",
       "      <td>Wholesale trade</td>\n",
       "      <td>72613</td>\n",
       "      <td>Work for self</td>\n",
       "    </tr>\n",
       "    <tr>\n",
       "      <th>252</th>\n",
       "      <td>Wholesale trade</td>\n",
       "      <td>100704</td>\n",
       "      <td>Start my own business</td>\n",
       "    </tr>\n",
       "    <tr>\n",
       "      <th>255</th>\n",
       "      <td>Wholesale trade</td>\n",
       "      <td>72822</td>\n",
       "      <td>Friend or family role model</td>\n",
       "    </tr>\n",
       "    <tr>\n",
       "      <th>258</th>\n",
       "      <td>Wholesale trade</td>\n",
       "      <td>18789</td>\n",
       "      <td>Other</td>\n",
       "    </tr>\n",
       "    <tr>\n",
       "      <th>261</th>\n",
       "      <td>Wholesale trade</td>\n",
       "      <td>63602</td>\n",
       "      <td>Carry on family business</td>\n",
       "    </tr>\n",
       "    <tr>\n",
       "      <th>264</th>\n",
       "      <td>Wholesale trade</td>\n",
       "      <td>43228</td>\n",
       "      <td>Help my community</td>\n",
       "    </tr>\n",
       "    <tr>\n",
       "      <th>269</th>\n",
       "      <td>Retail trade</td>\n",
       "      <td>267959</td>\n",
       "      <td>Wanted to be my own boss</td>\n",
       "    </tr>\n",
       "    <tr>\n",
       "      <th>272</th>\n",
       "      <td>Retail trade</td>\n",
       "      <td>217008</td>\n",
       "      <td>Flexible hours</td>\n",
       "    </tr>\n",
       "    <tr>\n",
       "      <th>275</th>\n",
       "      <td>Retail trade</td>\n",
       "      <td>239252</td>\n",
       "      <td>Balance work and family</td>\n",
       "    </tr>\n",
       "    <tr>\n",
       "      <th>278</th>\n",
       "      <td>Retail trade</td>\n",
       "      <td>258020</td>\n",
       "      <td>Greater income</td>\n",
       "    </tr>\n",
       "    <tr>\n",
       "      <th>281</th>\n",
       "      <td>Retail trade</td>\n",
       "      <td>227982</td>\n",
       "      <td>Best avenue for ideas</td>\n",
       "    </tr>\n",
       "    <tr>\n",
       "      <th>284</th>\n",
       "      <td>Retail trade</td>\n",
       "      <td>39515</td>\n",
       "      <td>Couldn't find a job</td>\n",
       "    </tr>\n",
       "    <tr>\n",
       "      <th>287</th>\n",
       "      <td>Retail trade</td>\n",
       "      <td>143659</td>\n",
       "      <td>Work for self</td>\n",
       "    </tr>\n",
       "    <tr>\n",
       "      <th>290</th>\n",
       "      <td>Retail trade</td>\n",
       "      <td>213305</td>\n",
       "      <td>Start my own business</td>\n",
       "    </tr>\n",
       "    <tr>\n",
       "      <th>293</th>\n",
       "      <td>Retail trade</td>\n",
       "      <td>146693</td>\n",
       "      <td>Friend or family role model</td>\n",
       "    </tr>\n",
       "    <tr>\n",
       "      <th>296</th>\n",
       "      <td>Retail trade</td>\n",
       "      <td>46387</td>\n",
       "      <td>Other</td>\n",
       "    </tr>\n",
       "    <tr>\n",
       "      <th>299</th>\n",
       "      <td>Retail trade</td>\n",
       "      <td>111193</td>\n",
       "      <td>Carry on family business</td>\n",
       "    </tr>\n",
       "    <tr>\n",
       "      <th>302</th>\n",
       "      <td>Retail trade</td>\n",
       "      <td>120902</td>\n",
       "      <td>Help my community</td>\n",
       "    </tr>\n",
       "    <tr>\n",
       "      <th>307</th>\n",
       "      <td>Transportation and warehousing</td>\n",
       "      <td>67425</td>\n",
       "      <td>Wanted to be my own boss</td>\n",
       "    </tr>\n",
       "    <tr>\n",
       "      <th>310</th>\n",
       "      <td>Transportation and warehousing</td>\n",
       "      <td>56507</td>\n",
       "      <td>Flexible hours</td>\n",
       "    </tr>\n",
       "    <tr>\n",
       "      <th>313</th>\n",
       "      <td>Transportation and warehousing</td>\n",
       "      <td>60457</td>\n",
       "      <td>Balance work and family</td>\n",
       "    </tr>\n",
       "    <tr>\n",
       "      <th>316</th>\n",
       "      <td>Transportation and warehousing</td>\n",
       "      <td>71609</td>\n",
       "      <td>Greater income</td>\n",
       "    </tr>\n",
       "    <tr>\n",
       "      <th>319</th>\n",
       "      <td>Transportation and warehousing</td>\n",
       "      <td>55670</td>\n",
       "      <td>Best avenue for ideas</td>\n",
       "    </tr>\n",
       "    <tr>\n",
       "      <th>322</th>\n",
       "      <td>Transportation and warehousing</td>\n",
       "      <td>10177</td>\n",
       "      <td>Couldn't find a job</td>\n",
       "    </tr>\n",
       "    <tr>\n",
       "      <th>325</th>\n",
       "      <td>Transportation and warehousing</td>\n",
       "      <td>35851</td>\n",
       "      <td>Work for self</td>\n",
       "    </tr>\n",
       "    <tr>\n",
       "      <th>328</th>\n",
       "      <td>Transportation and warehousing</td>\n",
       "      <td>53086</td>\n",
       "      <td>Start my own business</td>\n",
       "    </tr>\n",
       "    <tr>\n",
       "      <th>331</th>\n",
       "      <td>Transportation and warehousing</td>\n",
       "      <td>33386</td>\n",
       "      <td>Friend or family role model</td>\n",
       "    </tr>\n",
       "    <tr>\n",
       "      <th>334</th>\n",
       "      <td>Transportation and warehousing</td>\n",
       "      <td>10091</td>\n",
       "      <td>Other</td>\n",
       "    </tr>\n",
       "    <tr>\n",
       "      <th>337</th>\n",
       "      <td>Transportation and warehousing</td>\n",
       "      <td>25816</td>\n",
       "      <td>Carry on family business</td>\n",
       "    </tr>\n",
       "    <tr>\n",
       "      <th>340</th>\n",
       "      <td>Transportation and warehousing</td>\n",
       "      <td>21695</td>\n",
       "      <td>Help my community</td>\n",
       "    </tr>\n",
       "    <tr>\n",
       "      <th>344</th>\n",
       "      <td>Information</td>\n",
       "      <td>18075</td>\n",
       "      <td>Start my own business</td>\n",
       "    </tr>\n",
       "    <tr>\n",
       "      <th>347</th>\n",
       "      <td>Information</td>\n",
       "      <td>10714</td>\n",
       "      <td>Friend or family role model</td>\n",
       "    </tr>\n",
       "    <tr>\n",
       "      <th>350</th>\n",
       "      <td>Information</td>\n",
       "      <td>4635</td>\n",
       "      <td>Other</td>\n",
       "    </tr>\n",
       "    <tr>\n",
       "      <th>353</th>\n",
       "      <td>Information</td>\n",
       "      <td>4702</td>\n",
       "      <td>Carry on family business</td>\n",
       "    </tr>\n",
       "    <tr>\n",
       "      <th>356</th>\n",
       "      <td>Information</td>\n",
       "      <td>8866</td>\n",
       "      <td>Help my community</td>\n",
       "    </tr>\n",
       "    <tr>\n",
       "      <th>361</th>\n",
       "      <td>Information</td>\n",
       "      <td>26970</td>\n",
       "      <td>Wanted to be my own boss</td>\n",
       "    </tr>\n",
       "    <tr>\n",
       "      <th>364</th>\n",
       "      <td>Information</td>\n",
       "      <td>22995</td>\n",
       "      <td>Flexible hours</td>\n",
       "    </tr>\n",
       "    <tr>\n",
       "      <th>367</th>\n",
       "      <td>Information</td>\n",
       "      <td>22646</td>\n",
       "      <td>Balance work and family</td>\n",
       "    </tr>\n",
       "    <tr>\n",
       "      <th>370</th>\n",
       "      <td>Information</td>\n",
       "      <td>26899</td>\n",
       "      <td>Greater income</td>\n",
       "    </tr>\n",
       "    <tr>\n",
       "      <th>373</th>\n",
       "      <td>Information</td>\n",
       "      <td>27101</td>\n",
       "      <td>Best avenue for ideas</td>\n",
       "    </tr>\n",
       "    <tr>\n",
       "      <th>376</th>\n",
       "      <td>Information</td>\n",
       "      <td>2443</td>\n",
       "      <td>Couldn't find a job</td>\n",
       "    </tr>\n",
       "    <tr>\n",
       "      <th>379</th>\n",
       "      <td>Information</td>\n",
       "      <td>12698</td>\n",
       "      <td>Work for self</td>\n",
       "    </tr>\n",
       "    <tr>\n",
       "      <th>383</th>\n",
       "      <td>Finance and insurance</td>\n",
       "      <td>126131</td>\n",
       "      <td>Wanted to be my own boss</td>\n",
       "    </tr>\n",
       "    <tr>\n",
       "      <th>386</th>\n",
       "      <td>Finance and insurance</td>\n",
       "      <td>114029</td>\n",
       "      <td>Flexible hours</td>\n",
       "    </tr>\n",
       "    <tr>\n",
       "      <th>389</th>\n",
       "      <td>Finance and insurance</td>\n",
       "      <td>117429</td>\n",
       "      <td>Balance work and family</td>\n",
       "    </tr>\n",
       "    <tr>\n",
       "      <th>392</th>\n",
       "      <td>Finance and insurance</td>\n",
       "      <td>130943</td>\n",
       "      <td>Greater income</td>\n",
       "    </tr>\n",
       "    <tr>\n",
       "      <th>395</th>\n",
       "      <td>Finance and insurance</td>\n",
       "      <td>102820</td>\n",
       "      <td>Best avenue for ideas</td>\n",
       "    </tr>\n",
       "    <tr>\n",
       "      <th>398</th>\n",
       "      <td>Finance and insurance</td>\n",
       "      <td>10641</td>\n",
       "      <td>Couldn't find a job</td>\n",
       "    </tr>\n",
       "    <tr>\n",
       "      <th>401</th>\n",
       "      <td>Finance and insurance</td>\n",
       "      <td>64195</td>\n",
       "      <td>Work for self</td>\n",
       "    </tr>\n",
       "    <tr>\n",
       "      <th>404</th>\n",
       "      <td>Finance and insurance</td>\n",
       "      <td>85086</td>\n",
       "      <td>Start my own business</td>\n",
       "    </tr>\n",
       "    <tr>\n",
       "      <th>407</th>\n",
       "      <td>Finance and insurance</td>\n",
       "      <td>59328</td>\n",
       "      <td>Friend or family role model</td>\n",
       "    </tr>\n",
       "    <tr>\n",
       "      <th>410</th>\n",
       "      <td>Finance and insurance</td>\n",
       "      <td>15902</td>\n",
       "      <td>Other</td>\n",
       "    </tr>\n",
       "    <tr>\n",
       "      <th>413</th>\n",
       "      <td>Finance and insurance</td>\n",
       "      <td>34104</td>\n",
       "      <td>Carry on family business</td>\n",
       "    </tr>\n",
       "    <tr>\n",
       "      <th>416</th>\n",
       "      <td>Finance and insurance</td>\n",
       "      <td>51233</td>\n",
       "      <td>Help my community</td>\n",
       "    </tr>\n",
       "    <tr>\n",
       "      <th>421</th>\n",
       "      <td>Real estate and rental and leasing</td>\n",
       "      <td>136572</td>\n",
       "      <td>Wanted to be my own boss</td>\n",
       "    </tr>\n",
       "    <tr>\n",
       "      <th>424</th>\n",
       "      <td>Real estate and rental and leasing</td>\n",
       "      <td>126786</td>\n",
       "      <td>Flexible hours</td>\n",
       "    </tr>\n",
       "    <tr>\n",
       "      <th>427</th>\n",
       "      <td>Real estate and rental and leasing</td>\n",
       "      <td>124643</td>\n",
       "      <td>Balance work and family</td>\n",
       "    </tr>\n",
       "    <tr>\n",
       "      <th>430</th>\n",
       "      <td>Real estate and rental and leasing</td>\n",
       "      <td>148098</td>\n",
       "      <td>Greater income</td>\n",
       "    </tr>\n",
       "    <tr>\n",
       "      <th>433</th>\n",
       "      <td>Real estate and rental and leasing</td>\n",
       "      <td>110954</td>\n",
       "      <td>Best avenue for ideas</td>\n",
       "    </tr>\n",
       "    <tr>\n",
       "      <th>436</th>\n",
       "      <td>Real estate and rental and leasing</td>\n",
       "      <td>14848</td>\n",
       "      <td>Couldn't find a job</td>\n",
       "    </tr>\n",
       "    <tr>\n",
       "      <th>439</th>\n",
       "      <td>Real estate and rental and leasing</td>\n",
       "      <td>75946</td>\n",
       "      <td>Work for self</td>\n",
       "    </tr>\n",
       "    <tr>\n",
       "      <th>442</th>\n",
       "      <td>Real estate and rental and leasing</td>\n",
       "      <td>98078</td>\n",
       "      <td>Start my own business</td>\n",
       "    </tr>\n",
       "    <tr>\n",
       "      <th>445</th>\n",
       "      <td>Real estate and rental and leasing</td>\n",
       "      <td>71610</td>\n",
       "      <td>Friend or family role model</td>\n",
       "    </tr>\n",
       "    <tr>\n",
       "      <th>448</th>\n",
       "      <td>Real estate and rental and leasing</td>\n",
       "      <td>23005</td>\n",
       "      <td>Other</td>\n",
       "    </tr>\n",
       "    <tr>\n",
       "      <th>451</th>\n",
       "      <td>Real estate and rental and leasing</td>\n",
       "      <td>52074</td>\n",
       "      <td>Carry on family business</td>\n",
       "    </tr>\n",
       "    <tr>\n",
       "      <th>454</th>\n",
       "      <td>Real estate and rental and leasing</td>\n",
       "      <td>51795</td>\n",
       "      <td>Help my community</td>\n",
       "    </tr>\n",
       "    <tr>\n",
       "      <th>459</th>\n",
       "      <td>Professional, scientific, and technical services</td>\n",
       "      <td>424047</td>\n",
       "      <td>Wanted to be my own boss</td>\n",
       "    </tr>\n",
       "    <tr>\n",
       "      <th>462</th>\n",
       "      <td>Professional, scientific, and technical services</td>\n",
       "      <td>379718</td>\n",
       "      <td>Flexible hours</td>\n",
       "    </tr>\n",
       "    <tr>\n",
       "      <th>465</th>\n",
       "      <td>Professional, scientific, and technical services</td>\n",
       "      <td>379325</td>\n",
       "      <td>Balance work and family</td>\n",
       "    </tr>\n",
       "    <tr>\n",
       "      <th>468</th>\n",
       "      <td>Professional, scientific, and technical services</td>\n",
       "      <td>405068</td>\n",
       "      <td>Greater income</td>\n",
       "    </tr>\n",
       "    <tr>\n",
       "      <th>471</th>\n",
       "      <td>Professional, scientific, and technical services</td>\n",
       "      <td>378993</td>\n",
       "      <td>Best avenue for ideas</td>\n",
       "    </tr>\n",
       "    <tr>\n",
       "      <th>474</th>\n",
       "      <td>Professional, scientific, and technical services</td>\n",
       "      <td>37164</td>\n",
       "      <td>Couldn't find a job</td>\n",
       "    </tr>\n",
       "    <tr>\n",
       "      <th>477</th>\n",
       "      <td>Professional, scientific, and technical services</td>\n",
       "      <td>200139</td>\n",
       "      <td>Work for self</td>\n",
       "    </tr>\n",
       "    <tr>\n",
       "      <th>480</th>\n",
       "      <td>Professional, scientific, and technical services</td>\n",
       "      <td>266159</td>\n",
       "      <td>Start my own business</td>\n",
       "    </tr>\n",
       "    <tr>\n",
       "      <th>483</th>\n",
       "      <td>Professional, scientific, and technical services</td>\n",
       "      <td>140239</td>\n",
       "      <td>Friend or family role model</td>\n",
       "    </tr>\n",
       "    <tr>\n",
       "      <th>486</th>\n",
       "      <td>Professional, scientific, and technical services</td>\n",
       "      <td>48764</td>\n",
       "      <td>Other</td>\n",
       "    </tr>\n",
       "    <tr>\n",
       "      <th>489</th>\n",
       "      <td>Professional, scientific, and technical services</td>\n",
       "      <td>54830</td>\n",
       "      <td>Carry on family business</td>\n",
       "    </tr>\n",
       "    <tr>\n",
       "      <th>492</th>\n",
       "      <td>Professional, scientific, and technical services</td>\n",
       "      <td>123871</td>\n",
       "      <td>Help my community</td>\n",
       "    </tr>\n",
       "    <tr>\n",
       "      <th>496</th>\n",
       "      <td>Management of companies and enterprises</td>\n",
       "      <td>3895</td>\n",
       "      <td>Carry on family business</td>\n",
       "    </tr>\n",
       "    <tr>\n",
       "      <th>499</th>\n",
       "      <td>Management of companies and enterprises</td>\n",
       "      <td>2740</td>\n",
       "      <td>Help my community</td>\n",
       "    </tr>\n",
       "    <tr>\n",
       "      <th>504</th>\n",
       "      <td>Management of companies and enterprises</td>\n",
       "      <td>5710</td>\n",
       "      <td>Wanted to be my own boss</td>\n",
       "    </tr>\n",
       "    <tr>\n",
       "      <th>507</th>\n",
       "      <td>Management of companies and enterprises</td>\n",
       "      <td>3678</td>\n",
       "      <td>Flexible hours</td>\n",
       "    </tr>\n",
       "    <tr>\n",
       "      <th>510</th>\n",
       "      <td>Management of companies and enterprises</td>\n",
       "      <td>4284</td>\n",
       "      <td>Balance work and family</td>\n",
       "    </tr>\n",
       "    <tr>\n",
       "      <th>513</th>\n",
       "      <td>Management of companies and enterprises</td>\n",
       "      <td>6012</td>\n",
       "      <td>Greater income</td>\n",
       "    </tr>\n",
       "    <tr>\n",
       "      <th>516</th>\n",
       "      <td>Management of companies and enterprises</td>\n",
       "      <td>4925</td>\n",
       "      <td>Best avenue for ideas</td>\n",
       "    </tr>\n",
       "    <tr>\n",
       "      <th>519</th>\n",
       "      <td>Management of companies and enterprises</td>\n",
       "      <td>620</td>\n",
       "      <td>Couldn't find a job</td>\n",
       "    </tr>\n",
       "    <tr>\n",
       "      <th>522</th>\n",
       "      <td>Management of companies and enterprises</td>\n",
       "      <td>2725</td>\n",
       "      <td>Work for self</td>\n",
       "    </tr>\n",
       "    <tr>\n",
       "      <th>525</th>\n",
       "      <td>Management of companies and enterprises</td>\n",
       "      <td>4214</td>\n",
       "      <td>Start my own business</td>\n",
       "    </tr>\n",
       "    <tr>\n",
       "      <th>528</th>\n",
       "      <td>Management of companies and enterprises</td>\n",
       "      <td>3820</td>\n",
       "      <td>Friend or family role model</td>\n",
       "    </tr>\n",
       "    <tr>\n",
       "      <th>531</th>\n",
       "      <td>Management of companies and enterprises</td>\n",
       "      <td>759</td>\n",
       "      <td>Other</td>\n",
       "    </tr>\n",
       "    <tr>\n",
       "      <th>535</th>\n",
       "      <td>Administrative and support and waste managemen...</td>\n",
       "      <td>157823</td>\n",
       "      <td>Wanted to be my own boss</td>\n",
       "    </tr>\n",
       "    <tr>\n",
       "      <th>538</th>\n",
       "      <td>Administrative and support and waste managemen...</td>\n",
       "      <td>139506</td>\n",
       "      <td>Flexible hours</td>\n",
       "    </tr>\n",
       "    <tr>\n",
       "      <th>541</th>\n",
       "      <td>Administrative and support and waste managemen...</td>\n",
       "      <td>145728</td>\n",
       "      <td>Balance work and family</td>\n",
       "    </tr>\n",
       "    <tr>\n",
       "      <th>544</th>\n",
       "      <td>Administrative and support and waste managemen...</td>\n",
       "      <td>158977</td>\n",
       "      <td>Greater income</td>\n",
       "    </tr>\n",
       "    <tr>\n",
       "      <th>547</th>\n",
       "      <td>Administrative and support and waste managemen...</td>\n",
       "      <td>130290</td>\n",
       "      <td>Best avenue for ideas</td>\n",
       "    </tr>\n",
       "    <tr>\n",
       "      <th>550</th>\n",
       "      <td>Administrative and support and waste managemen...</td>\n",
       "      <td>18578</td>\n",
       "      <td>Couldn't find a job</td>\n",
       "    </tr>\n",
       "    <tr>\n",
       "      <th>553</th>\n",
       "      <td>Administrative and support and waste managemen...</td>\n",
       "      <td>82224</td>\n",
       "      <td>Work for self</td>\n",
       "    </tr>\n",
       "    <tr>\n",
       "      <th>556</th>\n",
       "      <td>Administrative and support and waste managemen...</td>\n",
       "      <td>116772</td>\n",
       "      <td>Start my own business</td>\n",
       "    </tr>\n",
       "    <tr>\n",
       "      <th>559</th>\n",
       "      <td>Administrative and support and waste managemen...</td>\n",
       "      <td>68044</td>\n",
       "      <td>Friend or family role model</td>\n",
       "    </tr>\n",
       "    <tr>\n",
       "      <th>562</th>\n",
       "      <td>Administrative and support and waste managemen...</td>\n",
       "      <td>23060</td>\n",
       "      <td>Other</td>\n",
       "    </tr>\n",
       "    <tr>\n",
       "      <th>565</th>\n",
       "      <td>Administrative and support and waste managemen...</td>\n",
       "      <td>37625</td>\n",
       "      <td>Carry on family business</td>\n",
       "    </tr>\n",
       "    <tr>\n",
       "      <th>568</th>\n",
       "      <td>Administrative and support and waste managemen...</td>\n",
       "      <td>52441</td>\n",
       "      <td>Help my community</td>\n",
       "    </tr>\n",
       "    <tr>\n",
       "      <th>573</th>\n",
       "      <td>Educational services</td>\n",
       "      <td>27017</td>\n",
       "      <td>Wanted to be my own boss</td>\n",
       "    </tr>\n",
       "    <tr>\n",
       "      <th>576</th>\n",
       "      <td>Educational services</td>\n",
       "      <td>25918</td>\n",
       "      <td>Flexible hours</td>\n",
       "    </tr>\n",
       "    <tr>\n",
       "      <th>579</th>\n",
       "      <td>Educational services</td>\n",
       "      <td>25990</td>\n",
       "      <td>Balance work and family</td>\n",
       "    </tr>\n",
       "    <tr>\n",
       "      <th>582</th>\n",
       "      <td>Educational services</td>\n",
       "      <td>24862</td>\n",
       "      <td>Greater income</td>\n",
       "    </tr>\n",
       "    <tr>\n",
       "      <th>585</th>\n",
       "      <td>Educational services</td>\n",
       "      <td>29056</td>\n",
       "      <td>Best avenue for ideas</td>\n",
       "    </tr>\n",
       "    <tr>\n",
       "      <th>588</th>\n",
       "      <td>Educational services</td>\n",
       "      <td>2514</td>\n",
       "      <td>Couldn't find a job</td>\n",
       "    </tr>\n",
       "    <tr>\n",
       "      <th>591</th>\n",
       "      <td>Educational services</td>\n",
       "      <td>13427</td>\n",
       "      <td>Work for self</td>\n",
       "    </tr>\n",
       "    <tr>\n",
       "      <th>594</th>\n",
       "      <td>Educational services</td>\n",
       "      <td>19183</td>\n",
       "      <td>Start my own business</td>\n",
       "    </tr>\n",
       "    <tr>\n",
       "      <th>597</th>\n",
       "      <td>Educational services</td>\n",
       "      <td>11754</td>\n",
       "      <td>Friend or family role model</td>\n",
       "    </tr>\n",
       "    <tr>\n",
       "      <th>600</th>\n",
       "      <td>Educational services</td>\n",
       "      <td>6406</td>\n",
       "      <td>Other</td>\n",
       "    </tr>\n",
       "    <tr>\n",
       "      <th>603</th>\n",
       "      <td>Educational services</td>\n",
       "      <td>5367</td>\n",
       "      <td>Carry on family business</td>\n",
       "    </tr>\n",
       "    <tr>\n",
       "      <th>606</th>\n",
       "      <td>Educational services</td>\n",
       "      <td>17979</td>\n",
       "      <td>Help my community</td>\n",
       "    </tr>\n",
       "    <tr>\n",
       "      <th>611</th>\n",
       "      <td>Health care and social assistance</td>\n",
       "      <td>282117</td>\n",
       "      <td>Wanted to be my own boss</td>\n",
       "    </tr>\n",
       "    <tr>\n",
       "      <th>614</th>\n",
       "      <td>Health care and social assistance</td>\n",
       "      <td>253464</td>\n",
       "      <td>Flexible hours</td>\n",
       "    </tr>\n",
       "    <tr>\n",
       "      <th>617</th>\n",
       "      <td>Health care and social assistance</td>\n",
       "      <td>270468</td>\n",
       "      <td>Balance work and family</td>\n",
       "    </tr>\n",
       "    <tr>\n",
       "      <th>620</th>\n",
       "      <td>Health care and social assistance</td>\n",
       "      <td>264840</td>\n",
       "      <td>Greater income</td>\n",
       "    </tr>\n",
       "    <tr>\n",
       "      <th>623</th>\n",
       "      <td>Health care and social assistance</td>\n",
       "      <td>268191</td>\n",
       "      <td>Best avenue for ideas</td>\n",
       "    </tr>\n",
       "    <tr>\n",
       "      <th>626</th>\n",
       "      <td>Health care and social assistance</td>\n",
       "      <td>28336</td>\n",
       "      <td>Couldn't find a job</td>\n",
       "    </tr>\n",
       "    <tr>\n",
       "      <th>629</th>\n",
       "      <td>Health care and social assistance</td>\n",
       "      <td>142675</td>\n",
       "      <td>Work for self</td>\n",
       "    </tr>\n",
       "    <tr>\n",
       "      <th>632</th>\n",
       "      <td>Health care and social assistance</td>\n",
       "      <td>183470</td>\n",
       "      <td>Start my own business</td>\n",
       "    </tr>\n",
       "    <tr>\n",
       "      <th>635</th>\n",
       "      <td>Health care and social assistance</td>\n",
       "      <td>98386</td>\n",
       "      <td>Friend or family role model</td>\n",
       "    </tr>\n",
       "    <tr>\n",
       "      <th>638</th>\n",
       "      <td>Health care and social assistance</td>\n",
       "      <td>44659</td>\n",
       "      <td>Other</td>\n",
       "    </tr>\n",
       "    <tr>\n",
       "      <th>641</th>\n",
       "      <td>Health care and social assistance</td>\n",
       "      <td>43766</td>\n",
       "      <td>Carry on family business</td>\n",
       "    </tr>\n",
       "    <tr>\n",
       "      <th>644</th>\n",
       "      <td>Health care and social assistance</td>\n",
       "      <td>164329</td>\n",
       "      <td>Help my community</td>\n",
       "    </tr>\n",
       "    <tr>\n",
       "      <th>649</th>\n",
       "      <td>Arts, entertainment, and recreation</td>\n",
       "      <td>43850</td>\n",
       "      <td>Wanted to be my own boss</td>\n",
       "    </tr>\n",
       "    <tr>\n",
       "      <th>652</th>\n",
       "      <td>Arts, entertainment, and recreation</td>\n",
       "      <td>40228</td>\n",
       "      <td>Flexible hours</td>\n",
       "    </tr>\n",
       "    <tr>\n",
       "      <th>655</th>\n",
       "      <td>Arts, entertainment, and recreation</td>\n",
       "      <td>37927</td>\n",
       "      <td>Balance work and family</td>\n",
       "    </tr>\n",
       "    <tr>\n",
       "      <th>658</th>\n",
       "      <td>Arts, entertainment, and recreation</td>\n",
       "      <td>40979</td>\n",
       "      <td>Greater income</td>\n",
       "    </tr>\n",
       "    <tr>\n",
       "      <th>661</th>\n",
       "      <td>Arts, entertainment, and recreation</td>\n",
       "      <td>41007</td>\n",
       "      <td>Best avenue for ideas</td>\n",
       "    </tr>\n",
       "    <tr>\n",
       "      <th>664</th>\n",
       "      <td>Arts, entertainment, and recreation</td>\n",
       "      <td>4448</td>\n",
       "      <td>Couldn't find a job</td>\n",
       "    </tr>\n",
       "    <tr>\n",
       "      <th>667</th>\n",
       "      <td>Arts, entertainment, and recreation</td>\n",
       "      <td>22042</td>\n",
       "      <td>Work for self</td>\n",
       "    </tr>\n",
       "    <tr>\n",
       "      <th>670</th>\n",
       "      <td>Arts, entertainment, and recreation</td>\n",
       "      <td>29980</td>\n",
       "      <td>Start my own business</td>\n",
       "    </tr>\n",
       "    <tr>\n",
       "      <th>673</th>\n",
       "      <td>Arts, entertainment, and recreation</td>\n",
       "      <td>18043</td>\n",
       "      <td>Friend or family role model</td>\n",
       "    </tr>\n",
       "    <tr>\n",
       "      <th>676</th>\n",
       "      <td>Arts, entertainment, and recreation</td>\n",
       "      <td>8163</td>\n",
       "      <td>Other</td>\n",
       "    </tr>\n",
       "    <tr>\n",
       "      <th>679</th>\n",
       "      <td>Arts, entertainment, and recreation</td>\n",
       "      <td>10580</td>\n",
       "      <td>Carry on family business</td>\n",
       "    </tr>\n",
       "    <tr>\n",
       "      <th>682</th>\n",
       "      <td>Arts, entertainment, and recreation</td>\n",
       "      <td>18726</td>\n",
       "      <td>Help my community</td>\n",
       "    </tr>\n",
       "    <tr>\n",
       "      <th>687</th>\n",
       "      <td>Accommodation and food services</td>\n",
       "      <td>217539</td>\n",
       "      <td>Wanted to be my own boss</td>\n",
       "    </tr>\n",
       "    <tr>\n",
       "      <th>690</th>\n",
       "      <td>Accommodation and food services</td>\n",
       "      <td>179016</td>\n",
       "      <td>Flexible hours</td>\n",
       "    </tr>\n",
       "    <tr>\n",
       "      <th>693</th>\n",
       "      <td>Accommodation and food services</td>\n",
       "      <td>189302</td>\n",
       "      <td>Balance work and family</td>\n",
       "    </tr>\n",
       "    <tr>\n",
       "      <th>696</th>\n",
       "      <td>Accommodation and food services</td>\n",
       "      <td>217657</td>\n",
       "      <td>Greater income</td>\n",
       "    </tr>\n",
       "    <tr>\n",
       "      <th>699</th>\n",
       "      <td>Accommodation and food services</td>\n",
       "      <td>176850</td>\n",
       "      <td>Best avenue for ideas</td>\n",
       "    </tr>\n",
       "    <tr>\n",
       "      <th>702</th>\n",
       "      <td>Accommodation and food services</td>\n",
       "      <td>42601</td>\n",
       "      <td>Couldn't find a job</td>\n",
       "    </tr>\n",
       "    <tr>\n",
       "      <th>705</th>\n",
       "      <td>Accommodation and food services</td>\n",
       "      <td>118796</td>\n",
       "      <td>Work for self</td>\n",
       "    </tr>\n",
       "    <tr>\n",
       "      <th>708</th>\n",
       "      <td>Accommodation and food services</td>\n",
       "      <td>186227</td>\n",
       "      <td>Start my own business</td>\n",
       "    </tr>\n",
       "    <tr>\n",
       "      <th>711</th>\n",
       "      <td>Accommodation and food services</td>\n",
       "      <td>123323</td>\n",
       "      <td>Friend or family role model</td>\n",
       "    </tr>\n",
       "    <tr>\n",
       "      <th>714</th>\n",
       "      <td>Accommodation and food services</td>\n",
       "      <td>37342</td>\n",
       "      <td>Other</td>\n",
       "    </tr>\n",
       "    <tr>\n",
       "      <th>717</th>\n",
       "      <td>Accommodation and food services</td>\n",
       "      <td>86454</td>\n",
       "      <td>Carry on family business</td>\n",
       "    </tr>\n",
       "    <tr>\n",
       "      <th>720</th>\n",
       "      <td>Accommodation and food services</td>\n",
       "      <td>106602</td>\n",
       "      <td>Help my community</td>\n",
       "    </tr>\n",
       "    <tr>\n",
       "      <th>725</th>\n",
       "      <td>Other services (except public administration)</td>\n",
       "      <td>164771</td>\n",
       "      <td>Wanted to be my own boss</td>\n",
       "    </tr>\n",
       "    <tr>\n",
       "      <th>728</th>\n",
       "      <td>Other services (except public administration)</td>\n",
       "      <td>135703</td>\n",
       "      <td>Flexible hours</td>\n",
       "    </tr>\n",
       "    <tr>\n",
       "      <th>731</th>\n",
       "      <td>Other services (except public administration)</td>\n",
       "      <td>147890</td>\n",
       "      <td>Balance work and family</td>\n",
       "    </tr>\n",
       "    <tr>\n",
       "      <th>734</th>\n",
       "      <td>Other services (except public administration)</td>\n",
       "      <td>159967</td>\n",
       "      <td>Greater income</td>\n",
       "    </tr>\n",
       "    <tr>\n",
       "      <th>737</th>\n",
       "      <td>Other services (except public administration)</td>\n",
       "      <td>139918</td>\n",
       "      <td>Best avenue for ideas</td>\n",
       "    </tr>\n",
       "    <tr>\n",
       "      <th>740</th>\n",
       "      <td>Other services (except public administration)</td>\n",
       "      <td>21313</td>\n",
       "      <td>Couldn't find a job</td>\n",
       "    </tr>\n",
       "    <tr>\n",
       "      <th>743</th>\n",
       "      <td>Other services (except public administration)</td>\n",
       "      <td>85918</td>\n",
       "      <td>Work for self</td>\n",
       "    </tr>\n",
       "    <tr>\n",
       "      <th>746</th>\n",
       "      <td>Other services (except public administration)</td>\n",
       "      <td>130108</td>\n",
       "      <td>Start my own business</td>\n",
       "    </tr>\n",
       "    <tr>\n",
       "      <th>749</th>\n",
       "      <td>Other services (except public administration)</td>\n",
       "      <td>72349</td>\n",
       "      <td>Friend or family role model</td>\n",
       "    </tr>\n",
       "    <tr>\n",
       "      <th>752</th>\n",
       "      <td>Other services (except public administration)</td>\n",
       "      <td>26558</td>\n",
       "      <td>Other</td>\n",
       "    </tr>\n",
       "    <tr>\n",
       "      <th>755</th>\n",
       "      <td>Other services (except public administration)</td>\n",
       "      <td>48430</td>\n",
       "      <td>Carry on family business</td>\n",
       "    </tr>\n",
       "    <tr>\n",
       "      <th>758</th>\n",
       "      <td>Other services (except public administration)</td>\n",
       "      <td>63955</td>\n",
       "      <td>Help my community</td>\n",
       "    </tr>\n",
       "    <tr>\n",
       "      <th>763</th>\n",
       "      <td>Industries not classified</td>\n",
       "      <td>5696</td>\n",
       "      <td>Wanted to be my own boss</td>\n",
       "    </tr>\n",
       "    <tr>\n",
       "      <th>766</th>\n",
       "      <td>Industries not classified</td>\n",
       "      <td>5042</td>\n",
       "      <td>Flexible hours</td>\n",
       "    </tr>\n",
       "    <tr>\n",
       "      <th>769</th>\n",
       "      <td>Industries not classified</td>\n",
       "      <td>5732</td>\n",
       "      <td>Balance work and family</td>\n",
       "    </tr>\n",
       "    <tr>\n",
       "      <th>772</th>\n",
       "      <td>Industries not classified</td>\n",
       "      <td>4405</td>\n",
       "      <td>Greater income</td>\n",
       "    </tr>\n",
       "    <tr>\n",
       "      <th>775</th>\n",
       "      <td>Industries not classified</td>\n",
       "      <td>4320</td>\n",
       "      <td>Best avenue for ideas</td>\n",
       "    </tr>\n",
       "    <tr>\n",
       "      <th>778</th>\n",
       "      <td>Industries not classified</td>\n",
       "      <td>765</td>\n",
       "      <td>Couldn't find a job</td>\n",
       "    </tr>\n",
       "    <tr>\n",
       "      <th>781</th>\n",
       "      <td>Industries not classified</td>\n",
       "      <td>3018</td>\n",
       "      <td>Work for self</td>\n",
       "    </tr>\n",
       "    <tr>\n",
       "      <th>784</th>\n",
       "      <td>Industries not classified</td>\n",
       "      <td>3951</td>\n",
       "      <td>Start my own business</td>\n",
       "    </tr>\n",
       "    <tr>\n",
       "      <th>787</th>\n",
       "      <td>Industries not classified</td>\n",
       "      <td>3530</td>\n",
       "      <td>Friend or family role model</td>\n",
       "    </tr>\n",
       "    <tr>\n",
       "      <th>790</th>\n",
       "      <td>Industries not classified</td>\n",
       "      <td>1030</td>\n",
       "      <td>Other</td>\n",
       "    </tr>\n",
       "    <tr>\n",
       "      <th>793</th>\n",
       "      <td>Industries not classified</td>\n",
       "      <td>5152</td>\n",
       "      <td>Carry on family business</td>\n",
       "    </tr>\n",
       "    <tr>\n",
       "      <th>796</th>\n",
       "      <td>Industries not classified</td>\n",
       "      <td>2062</td>\n",
       "      <td>Help my community</td>\n",
       "    </tr>\n",
       "  </tbody>\n",
       "</table>\n",
       "</div>"
      ],
      "text/plain": [
       "                                       NAICS2017_LABEL  OWNPDEMP  \\\n",
       "3                                Total for all sectors   2542285   \n",
       "6                                Total for all sectors   2184862   \n",
       "9                                Total for all sectors   2305516   \n",
       "12                               Total for all sectors   2534674   \n",
       "15                               Total for all sectors   2212856   \n",
       "18                               Total for all sectors    307603   \n",
       "21                               Total for all sectors   1314042   \n",
       "24                               Total for all sectors   1848131   \n",
       "27                               Total for all sectors   1143338   \n",
       "30                               Total for all sectors    381983   \n",
       "33                               Total for all sectors    752938   \n",
       "36                               Total for all sectors    989638   \n",
       "41          Agriculture, forestry, fishing and hunting      9917   \n",
       "44          Agriculture, forestry, fishing and hunting      8791   \n",
       "47          Agriculture, forestry, fishing and hunting      9549   \n",
       "50          Agriculture, forestry, fishing and hunting     10819   \n",
       "53          Agriculture, forestry, fishing and hunting      9012   \n",
       "56          Agriculture, forestry, fishing and hunting       991   \n",
       "59          Agriculture, forestry, fishing and hunting      5256   \n",
       "62          Agriculture, forestry, fishing and hunting      6956   \n",
       "65          Agriculture, forestry, fishing and hunting      5709   \n",
       "68          Agriculture, forestry, fishing and hunting      1748   \n",
       "71          Agriculture, forestry, fishing and hunting      5589   \n",
       "74          Agriculture, forestry, fishing and hunting      3262   \n",
       "79       Mining, quarrying, and oil and gas extraction      6328   \n",
       "82       Mining, quarrying, and oil and gas extraction      4892   \n",
       "85       Mining, quarrying, and oil and gas extraction      6172   \n",
       "88       Mining, quarrying, and oil and gas extraction      7647   \n",
       "91       Mining, quarrying, and oil and gas extraction      5334   \n",
       "94       Mining, quarrying, and oil and gas extraction       769   \n",
       "97       Mining, quarrying, and oil and gas extraction      3532   \n",
       "100      Mining, quarrying, and oil and gas extraction      5047   \n",
       "103      Mining, quarrying, and oil and gas extraction      3162   \n",
       "106      Mining, quarrying, and oil and gas extraction       773   \n",
       "109      Mining, quarrying, and oil and gas extraction      3123   \n",
       "112      Mining, quarrying, and oil and gas extraction      1828   \n",
       "117                                          Utilities       979   \n",
       "120                                          Utilities       889   \n",
       "123                                          Utilities       913   \n",
       "126                                          Utilities      1000   \n",
       "129                                          Utilities       786   \n",
       "132                                          Utilities       161   \n",
       "135                                          Utilities       590   \n",
       "138                                          Utilities       793   \n",
       "141                                          Utilities       499   \n",
       "144                                          Utilities       169   \n",
       "147                                          Utilities       477   \n",
       "150                                          Utilities       329   \n",
       "155                                       Construction    344989   \n",
       "158                                       Construction    287047   \n",
       "161                                       Construction    319860   \n",
       "164                                       Construction    359871   \n",
       "167                                       Construction    299981   \n",
       "170                                       Construction     43503   \n",
       "173                                       Construction    182473   \n",
       "176                                       Construction    262341   \n",
       "179                                       Construction    155671   \n",
       "182                                       Construction     50039   \n",
       "185                                       Construction    115024   \n",
       "188                                       Construction    107162   \n",
       "193                                      Manufacturing    102866   \n",
       "196                                      Manufacturing     80794   \n",
       "199                                      Manufacturing     88664   \n",
       "202                                      Manufacturing    105081   \n",
       "205                                      Manufacturing     92940   \n",
       "208                                      Manufacturing     11700   \n",
       "211                                      Manufacturing     53664   \n",
       "214                                      Manufacturing     74318   \n",
       "217                                      Manufacturing     53660   \n",
       "220                                      Manufacturing     15784   \n",
       "223                                      Manufacturing     50581   \n",
       "226                                      Manufacturing     33302   \n",
       "231                                    Wholesale trade    137224   \n",
       "234                                    Wholesale trade    112272   \n",
       "237                                    Wholesale trade    119402   \n",
       "240                                    Wholesale trade    145891   \n",
       "243                                    Wholesale trade    118699   \n",
       "246                                    Wholesale trade     18160   \n",
       "249                                    Wholesale trade     72613   \n",
       "252                                    Wholesale trade    100704   \n",
       "255                                    Wholesale trade     72822   \n",
       "258                                    Wholesale trade     18789   \n",
       "261                                    Wholesale trade     63602   \n",
       "264                                    Wholesale trade     43228   \n",
       "269                                       Retail trade    267959   \n",
       "272                                       Retail trade    217008   \n",
       "275                                       Retail trade    239252   \n",
       "278                                       Retail trade    258020   \n",
       "281                                       Retail trade    227982   \n",
       "284                                       Retail trade     39515   \n",
       "287                                       Retail trade    143659   \n",
       "290                                       Retail trade    213305   \n",
       "293                                       Retail trade    146693   \n",
       "296                                       Retail trade     46387   \n",
       "299                                       Retail trade    111193   \n",
       "302                                       Retail trade    120902   \n",
       "307                     Transportation and warehousing     67425   \n",
       "310                     Transportation and warehousing     56507   \n",
       "313                     Transportation and warehousing     60457   \n",
       "316                     Transportation and warehousing     71609   \n",
       "319                     Transportation and warehousing     55670   \n",
       "322                     Transportation and warehousing     10177   \n",
       "325                     Transportation and warehousing     35851   \n",
       "328                     Transportation and warehousing     53086   \n",
       "331                     Transportation and warehousing     33386   \n",
       "334                     Transportation and warehousing     10091   \n",
       "337                     Transportation and warehousing     25816   \n",
       "340                     Transportation and warehousing     21695   \n",
       "344                                        Information     18075   \n",
       "347                                        Information     10714   \n",
       "350                                        Information      4635   \n",
       "353                                        Information      4702   \n",
       "356                                        Information      8866   \n",
       "361                                        Information     26970   \n",
       "364                                        Information     22995   \n",
       "367                                        Information     22646   \n",
       "370                                        Information     26899   \n",
       "373                                        Information     27101   \n",
       "376                                        Information      2443   \n",
       "379                                        Information     12698   \n",
       "383                              Finance and insurance    126131   \n",
       "386                              Finance and insurance    114029   \n",
       "389                              Finance and insurance    117429   \n",
       "392                              Finance and insurance    130943   \n",
       "395                              Finance and insurance    102820   \n",
       "398                              Finance and insurance     10641   \n",
       "401                              Finance and insurance     64195   \n",
       "404                              Finance and insurance     85086   \n",
       "407                              Finance and insurance     59328   \n",
       "410                              Finance and insurance     15902   \n",
       "413                              Finance and insurance     34104   \n",
       "416                              Finance and insurance     51233   \n",
       "421                 Real estate and rental and leasing    136572   \n",
       "424                 Real estate and rental and leasing    126786   \n",
       "427                 Real estate and rental and leasing    124643   \n",
       "430                 Real estate and rental and leasing    148098   \n",
       "433                 Real estate and rental and leasing    110954   \n",
       "436                 Real estate and rental and leasing     14848   \n",
       "439                 Real estate and rental and leasing     75946   \n",
       "442                 Real estate and rental and leasing     98078   \n",
       "445                 Real estate and rental and leasing     71610   \n",
       "448                 Real estate and rental and leasing     23005   \n",
       "451                 Real estate and rental and leasing     52074   \n",
       "454                 Real estate and rental and leasing     51795   \n",
       "459   Professional, scientific, and technical services    424047   \n",
       "462   Professional, scientific, and technical services    379718   \n",
       "465   Professional, scientific, and technical services    379325   \n",
       "468   Professional, scientific, and technical services    405068   \n",
       "471   Professional, scientific, and technical services    378993   \n",
       "474   Professional, scientific, and technical services     37164   \n",
       "477   Professional, scientific, and technical services    200139   \n",
       "480   Professional, scientific, and technical services    266159   \n",
       "483   Professional, scientific, and technical services    140239   \n",
       "486   Professional, scientific, and technical services     48764   \n",
       "489   Professional, scientific, and technical services     54830   \n",
       "492   Professional, scientific, and technical services    123871   \n",
       "496            Management of companies and enterprises      3895   \n",
       "499            Management of companies and enterprises      2740   \n",
       "504            Management of companies and enterprises      5710   \n",
       "507            Management of companies and enterprises      3678   \n",
       "510            Management of companies and enterprises      4284   \n",
       "513            Management of companies and enterprises      6012   \n",
       "516            Management of companies and enterprises      4925   \n",
       "519            Management of companies and enterprises       620   \n",
       "522            Management of companies and enterprises      2725   \n",
       "525            Management of companies and enterprises      4214   \n",
       "528            Management of companies and enterprises      3820   \n",
       "531            Management of companies and enterprises       759   \n",
       "535  Administrative and support and waste managemen...    157823   \n",
       "538  Administrative and support and waste managemen...    139506   \n",
       "541  Administrative and support and waste managemen...    145728   \n",
       "544  Administrative and support and waste managemen...    158977   \n",
       "547  Administrative and support and waste managemen...    130290   \n",
       "550  Administrative and support and waste managemen...     18578   \n",
       "553  Administrative and support and waste managemen...     82224   \n",
       "556  Administrative and support and waste managemen...    116772   \n",
       "559  Administrative and support and waste managemen...     68044   \n",
       "562  Administrative and support and waste managemen...     23060   \n",
       "565  Administrative and support and waste managemen...     37625   \n",
       "568  Administrative and support and waste managemen...     52441   \n",
       "573                               Educational services     27017   \n",
       "576                               Educational services     25918   \n",
       "579                               Educational services     25990   \n",
       "582                               Educational services     24862   \n",
       "585                               Educational services     29056   \n",
       "588                               Educational services      2514   \n",
       "591                               Educational services     13427   \n",
       "594                               Educational services     19183   \n",
       "597                               Educational services     11754   \n",
       "600                               Educational services      6406   \n",
       "603                               Educational services      5367   \n",
       "606                               Educational services     17979   \n",
       "611                  Health care and social assistance    282117   \n",
       "614                  Health care and social assistance    253464   \n",
       "617                  Health care and social assistance    270468   \n",
       "620                  Health care and social assistance    264840   \n",
       "623                  Health care and social assistance    268191   \n",
       "626                  Health care and social assistance     28336   \n",
       "629                  Health care and social assistance    142675   \n",
       "632                  Health care and social assistance    183470   \n",
       "635                  Health care and social assistance     98386   \n",
       "638                  Health care and social assistance     44659   \n",
       "641                  Health care and social assistance     43766   \n",
       "644                  Health care and social assistance    164329   \n",
       "649                Arts, entertainment, and recreation     43850   \n",
       "652                Arts, entertainment, and recreation     40228   \n",
       "655                Arts, entertainment, and recreation     37927   \n",
       "658                Arts, entertainment, and recreation     40979   \n",
       "661                Arts, entertainment, and recreation     41007   \n",
       "664                Arts, entertainment, and recreation      4448   \n",
       "667                Arts, entertainment, and recreation     22042   \n",
       "670                Arts, entertainment, and recreation     29980   \n",
       "673                Arts, entertainment, and recreation     18043   \n",
       "676                Arts, entertainment, and recreation      8163   \n",
       "679                Arts, entertainment, and recreation     10580   \n",
       "682                Arts, entertainment, and recreation     18726   \n",
       "687                    Accommodation and food services    217539   \n",
       "690                    Accommodation and food services    179016   \n",
       "693                    Accommodation and food services    189302   \n",
       "696                    Accommodation and food services    217657   \n",
       "699                    Accommodation and food services    176850   \n",
       "702                    Accommodation and food services     42601   \n",
       "705                    Accommodation and food services    118796   \n",
       "708                    Accommodation and food services    186227   \n",
       "711                    Accommodation and food services    123323   \n",
       "714                    Accommodation and food services     37342   \n",
       "717                    Accommodation and food services     86454   \n",
       "720                    Accommodation and food services    106602   \n",
       "725      Other services (except public administration)    164771   \n",
       "728      Other services (except public administration)    135703   \n",
       "731      Other services (except public administration)    147890   \n",
       "734      Other services (except public administration)    159967   \n",
       "737      Other services (except public administration)    139918   \n",
       "740      Other services (except public administration)     21313   \n",
       "743      Other services (except public administration)     85918   \n",
       "746      Other services (except public administration)    130108   \n",
       "749      Other services (except public administration)     72349   \n",
       "752      Other services (except public administration)     26558   \n",
       "755      Other services (except public administration)     48430   \n",
       "758      Other services (except public administration)     63955   \n",
       "763                          Industries not classified      5696   \n",
       "766                          Industries not classified      5042   \n",
       "769                          Industries not classified      5732   \n",
       "772                          Industries not classified      4405   \n",
       "775                          Industries not classified      4320   \n",
       "778                          Industries not classified       765   \n",
       "781                          Industries not classified      3018   \n",
       "784                          Industries not classified      3951   \n",
       "787                          Industries not classified      3530   \n",
       "790                          Industries not classified      1030   \n",
       "793                          Industries not classified      5152   \n",
       "796                          Industries not classified      2062   \n",
       "\n",
       "                   OWNCHAR_LABEL  \n",
       "3       Wanted to be my own boss  \n",
       "6                 Flexible hours  \n",
       "9        Balance work and family  \n",
       "12                Greater income  \n",
       "15         Best avenue for ideas  \n",
       "18           Couldn't find a job  \n",
       "21                 Work for self  \n",
       "24         Start my own business  \n",
       "27   Friend or family role model  \n",
       "30                         Other  \n",
       "33      Carry on family business  \n",
       "36             Help my community  \n",
       "41      Wanted to be my own boss  \n",
       "44                Flexible hours  \n",
       "47       Balance work and family  \n",
       "50                Greater income  \n",
       "53         Best avenue for ideas  \n",
       "56           Couldn't find a job  \n",
       "59                 Work for self  \n",
       "62         Start my own business  \n",
       "65   Friend or family role model  \n",
       "68                         Other  \n",
       "71      Carry on family business  \n",
       "74             Help my community  \n",
       "79      Wanted to be my own boss  \n",
       "82                Flexible hours  \n",
       "85       Balance work and family  \n",
       "88                Greater income  \n",
       "91         Best avenue for ideas  \n",
       "94           Couldn't find a job  \n",
       "97                 Work for self  \n",
       "100        Start my own business  \n",
       "103  Friend or family role model  \n",
       "106                        Other  \n",
       "109     Carry on family business  \n",
       "112            Help my community  \n",
       "117     Wanted to be my own boss  \n",
       "120               Flexible hours  \n",
       "123      Balance work and family  \n",
       "126               Greater income  \n",
       "129        Best avenue for ideas  \n",
       "132          Couldn't find a job  \n",
       "135                Work for self  \n",
       "138        Start my own business  \n",
       "141  Friend or family role model  \n",
       "144                        Other  \n",
       "147     Carry on family business  \n",
       "150            Help my community  \n",
       "155     Wanted to be my own boss  \n",
       "158               Flexible hours  \n",
       "161      Balance work and family  \n",
       "164               Greater income  \n",
       "167        Best avenue for ideas  \n",
       "170          Couldn't find a job  \n",
       "173                Work for self  \n",
       "176        Start my own business  \n",
       "179  Friend or family role model  \n",
       "182                        Other  \n",
       "185     Carry on family business  \n",
       "188            Help my community  \n",
       "193     Wanted to be my own boss  \n",
       "196               Flexible hours  \n",
       "199      Balance work and family  \n",
       "202               Greater income  \n",
       "205        Best avenue for ideas  \n",
       "208          Couldn't find a job  \n",
       "211                Work for self  \n",
       "214        Start my own business  \n",
       "217  Friend or family role model  \n",
       "220                        Other  \n",
       "223     Carry on family business  \n",
       "226            Help my community  \n",
       "231     Wanted to be my own boss  \n",
       "234               Flexible hours  \n",
       "237      Balance work and family  \n",
       "240               Greater income  \n",
       "243        Best avenue for ideas  \n",
       "246          Couldn't find a job  \n",
       "249                Work for self  \n",
       "252        Start my own business  \n",
       "255  Friend or family role model  \n",
       "258                        Other  \n",
       "261     Carry on family business  \n",
       "264            Help my community  \n",
       "269     Wanted to be my own boss  \n",
       "272               Flexible hours  \n",
       "275      Balance work and family  \n",
       "278               Greater income  \n",
       "281        Best avenue for ideas  \n",
       "284          Couldn't find a job  \n",
       "287                Work for self  \n",
       "290        Start my own business  \n",
       "293  Friend or family role model  \n",
       "296                        Other  \n",
       "299     Carry on family business  \n",
       "302            Help my community  \n",
       "307     Wanted to be my own boss  \n",
       "310               Flexible hours  \n",
       "313      Balance work and family  \n",
       "316               Greater income  \n",
       "319        Best avenue for ideas  \n",
       "322          Couldn't find a job  \n",
       "325                Work for self  \n",
       "328        Start my own business  \n",
       "331  Friend or family role model  \n",
       "334                        Other  \n",
       "337     Carry on family business  \n",
       "340            Help my community  \n",
       "344        Start my own business  \n",
       "347  Friend or family role model  \n",
       "350                        Other  \n",
       "353     Carry on family business  \n",
       "356            Help my community  \n",
       "361     Wanted to be my own boss  \n",
       "364               Flexible hours  \n",
       "367      Balance work and family  \n",
       "370               Greater income  \n",
       "373        Best avenue for ideas  \n",
       "376          Couldn't find a job  \n",
       "379                Work for self  \n",
       "383     Wanted to be my own boss  \n",
       "386               Flexible hours  \n",
       "389      Balance work and family  \n",
       "392               Greater income  \n",
       "395        Best avenue for ideas  \n",
       "398          Couldn't find a job  \n",
       "401                Work for self  \n",
       "404        Start my own business  \n",
       "407  Friend or family role model  \n",
       "410                        Other  \n",
       "413     Carry on family business  \n",
       "416            Help my community  \n",
       "421     Wanted to be my own boss  \n",
       "424               Flexible hours  \n",
       "427      Balance work and family  \n",
       "430               Greater income  \n",
       "433        Best avenue for ideas  \n",
       "436          Couldn't find a job  \n",
       "439                Work for self  \n",
       "442        Start my own business  \n",
       "445  Friend or family role model  \n",
       "448                        Other  \n",
       "451     Carry on family business  \n",
       "454            Help my community  \n",
       "459     Wanted to be my own boss  \n",
       "462               Flexible hours  \n",
       "465      Balance work and family  \n",
       "468               Greater income  \n",
       "471        Best avenue for ideas  \n",
       "474          Couldn't find a job  \n",
       "477                Work for self  \n",
       "480        Start my own business  \n",
       "483  Friend or family role model  \n",
       "486                        Other  \n",
       "489     Carry on family business  \n",
       "492            Help my community  \n",
       "496     Carry on family business  \n",
       "499            Help my community  \n",
       "504     Wanted to be my own boss  \n",
       "507               Flexible hours  \n",
       "510      Balance work and family  \n",
       "513               Greater income  \n",
       "516        Best avenue for ideas  \n",
       "519          Couldn't find a job  \n",
       "522                Work for self  \n",
       "525        Start my own business  \n",
       "528  Friend or family role model  \n",
       "531                        Other  \n",
       "535     Wanted to be my own boss  \n",
       "538               Flexible hours  \n",
       "541      Balance work and family  \n",
       "544               Greater income  \n",
       "547        Best avenue for ideas  \n",
       "550          Couldn't find a job  \n",
       "553                Work for self  \n",
       "556        Start my own business  \n",
       "559  Friend or family role model  \n",
       "562                        Other  \n",
       "565     Carry on family business  \n",
       "568            Help my community  \n",
       "573     Wanted to be my own boss  \n",
       "576               Flexible hours  \n",
       "579      Balance work and family  \n",
       "582               Greater income  \n",
       "585        Best avenue for ideas  \n",
       "588          Couldn't find a job  \n",
       "591                Work for self  \n",
       "594        Start my own business  \n",
       "597  Friend or family role model  \n",
       "600                        Other  \n",
       "603     Carry on family business  \n",
       "606            Help my community  \n",
       "611     Wanted to be my own boss  \n",
       "614               Flexible hours  \n",
       "617      Balance work and family  \n",
       "620               Greater income  \n",
       "623        Best avenue for ideas  \n",
       "626          Couldn't find a job  \n",
       "629                Work for self  \n",
       "632        Start my own business  \n",
       "635  Friend or family role model  \n",
       "638                        Other  \n",
       "641     Carry on family business  \n",
       "644            Help my community  \n",
       "649     Wanted to be my own boss  \n",
       "652               Flexible hours  \n",
       "655      Balance work and family  \n",
       "658               Greater income  \n",
       "661        Best avenue for ideas  \n",
       "664          Couldn't find a job  \n",
       "667                Work for self  \n",
       "670        Start my own business  \n",
       "673  Friend or family role model  \n",
       "676                        Other  \n",
       "679     Carry on family business  \n",
       "682            Help my community  \n",
       "687     Wanted to be my own boss  \n",
       "690               Flexible hours  \n",
       "693      Balance work and family  \n",
       "696               Greater income  \n",
       "699        Best avenue for ideas  \n",
       "702          Couldn't find a job  \n",
       "705                Work for self  \n",
       "708        Start my own business  \n",
       "711  Friend or family role model  \n",
       "714                        Other  \n",
       "717     Carry on family business  \n",
       "720            Help my community  \n",
       "725     Wanted to be my own boss  \n",
       "728               Flexible hours  \n",
       "731      Balance work and family  \n",
       "734               Greater income  \n",
       "737        Best avenue for ideas  \n",
       "740          Couldn't find a job  \n",
       "743                Work for self  \n",
       "746        Start my own business  \n",
       "749  Friend or family role model  \n",
       "752                        Other  \n",
       "755     Carry on family business  \n",
       "758            Help my community  \n",
       "763     Wanted to be my own boss  \n",
       "766               Flexible hours  \n",
       "769      Balance work and family  \n",
       "772               Greater income  \n",
       "775        Best avenue for ideas  \n",
       "778          Couldn't find a job  \n",
       "781                Work for self  \n",
       "784        Start my own business  \n",
       "787  Friend or family role model  \n",
       "790                        Other  \n",
       "793     Carry on family business  \n",
       "796            Help my community  "
      ]
     },
     "execution_count": 498,
     "metadata": {},
     "output_type": "execute_result"
    }
   ],
   "source": [
    "\n",
    "# def changetoint(x):\n",
    "#     val = int(x)\n",
    " \n",
    "#make sure employee amount is an int because I will do math with it   \n",
    "df['OWNPDEMP'] = df['OWNPDEMP'].astype('int64')\n",
    "df\n",
    "\n",
    "# df.info()\n",
    "# df=df.pivot(index='NAICS2017_LABEL', columns='OWNCHAR_LABEL',values='OWNPDEMP')\n",
    "# df\n"
   ]
  },
  {
   "cell_type": "code",
   "execution_count": 499,
   "metadata": {},
   "outputs": [
    {
     "data": {
      "text/html": [
       "<div>\n",
       "<style scoped>\n",
       "    .dataframe tbody tr th:only-of-type {\n",
       "        vertical-align: middle;\n",
       "    }\n",
       "\n",
       "    .dataframe tbody tr th {\n",
       "        vertical-align: top;\n",
       "    }\n",
       "\n",
       "    .dataframe thead th {\n",
       "        text-align: right;\n",
       "    }\n",
       "</style>\n",
       "<table border=\"1\" class=\"dataframe\">\n",
       "  <thead>\n",
       "    <tr style=\"text-align: right;\">\n",
       "      <th></th>\n",
       "      <th>NAICS2017_LABEL</th>\n",
       "      <th>OWNPDEMP</th>\n",
       "      <th>OWNCHAR_LABEL</th>\n",
       "    </tr>\n",
       "  </thead>\n",
       "  <tbody>\n",
       "    <tr>\n",
       "      <th>41</th>\n",
       "      <td>Agriculture, forestry, fishing and hunting</td>\n",
       "      <td>9917</td>\n",
       "      <td>Wanted to be my own boss</td>\n",
       "    </tr>\n",
       "    <tr>\n",
       "      <th>44</th>\n",
       "      <td>Agriculture, forestry, fishing and hunting</td>\n",
       "      <td>8791</td>\n",
       "      <td>Flexible hours</td>\n",
       "    </tr>\n",
       "    <tr>\n",
       "      <th>47</th>\n",
       "      <td>Agriculture, forestry, fishing and hunting</td>\n",
       "      <td>9549</td>\n",
       "      <td>Balance work and family</td>\n",
       "    </tr>\n",
       "    <tr>\n",
       "      <th>50</th>\n",
       "      <td>Agriculture, forestry, fishing and hunting</td>\n",
       "      <td>10819</td>\n",
       "      <td>Greater income</td>\n",
       "    </tr>\n",
       "    <tr>\n",
       "      <th>53</th>\n",
       "      <td>Agriculture, forestry, fishing and hunting</td>\n",
       "      <td>9012</td>\n",
       "      <td>Best avenue for ideas</td>\n",
       "    </tr>\n",
       "    <tr>\n",
       "      <th>56</th>\n",
       "      <td>Agriculture, forestry, fishing and hunting</td>\n",
       "      <td>991</td>\n",
       "      <td>Couldn't find a job</td>\n",
       "    </tr>\n",
       "    <tr>\n",
       "      <th>59</th>\n",
       "      <td>Agriculture, forestry, fishing and hunting</td>\n",
       "      <td>5256</td>\n",
       "      <td>Work for self</td>\n",
       "    </tr>\n",
       "    <tr>\n",
       "      <th>62</th>\n",
       "      <td>Agriculture, forestry, fishing and hunting</td>\n",
       "      <td>6956</td>\n",
       "      <td>Start my own business</td>\n",
       "    </tr>\n",
       "    <tr>\n",
       "      <th>65</th>\n",
       "      <td>Agriculture, forestry, fishing and hunting</td>\n",
       "      <td>5709</td>\n",
       "      <td>Friend or family role model</td>\n",
       "    </tr>\n",
       "    <tr>\n",
       "      <th>68</th>\n",
       "      <td>Agriculture, forestry, fishing and hunting</td>\n",
       "      <td>1748</td>\n",
       "      <td>Other</td>\n",
       "    </tr>\n",
       "    <tr>\n",
       "      <th>71</th>\n",
       "      <td>Agriculture, forestry, fishing and hunting</td>\n",
       "      <td>5589</td>\n",
       "      <td>Carry on family business</td>\n",
       "    </tr>\n",
       "    <tr>\n",
       "      <th>74</th>\n",
       "      <td>Agriculture, forestry, fishing and hunting</td>\n",
       "      <td>3262</td>\n",
       "      <td>Help my community</td>\n",
       "    </tr>\n",
       "    <tr>\n",
       "      <th>79</th>\n",
       "      <td>Mining, quarrying, and oil and gas extraction</td>\n",
       "      <td>6328</td>\n",
       "      <td>Wanted to be my own boss</td>\n",
       "    </tr>\n",
       "    <tr>\n",
       "      <th>82</th>\n",
       "      <td>Mining, quarrying, and oil and gas extraction</td>\n",
       "      <td>4892</td>\n",
       "      <td>Flexible hours</td>\n",
       "    </tr>\n",
       "    <tr>\n",
       "      <th>85</th>\n",
       "      <td>Mining, quarrying, and oil and gas extraction</td>\n",
       "      <td>6172</td>\n",
       "      <td>Balance work and family</td>\n",
       "    </tr>\n",
       "    <tr>\n",
       "      <th>88</th>\n",
       "      <td>Mining, quarrying, and oil and gas extraction</td>\n",
       "      <td>7647</td>\n",
       "      <td>Greater income</td>\n",
       "    </tr>\n",
       "    <tr>\n",
       "      <th>91</th>\n",
       "      <td>Mining, quarrying, and oil and gas extraction</td>\n",
       "      <td>5334</td>\n",
       "      <td>Best avenue for ideas</td>\n",
       "    </tr>\n",
       "    <tr>\n",
       "      <th>94</th>\n",
       "      <td>Mining, quarrying, and oil and gas extraction</td>\n",
       "      <td>769</td>\n",
       "      <td>Couldn't find a job</td>\n",
       "    </tr>\n",
       "    <tr>\n",
       "      <th>97</th>\n",
       "      <td>Mining, quarrying, and oil and gas extraction</td>\n",
       "      <td>3532</td>\n",
       "      <td>Work for self</td>\n",
       "    </tr>\n",
       "    <tr>\n",
       "      <th>100</th>\n",
       "      <td>Mining, quarrying, and oil and gas extraction</td>\n",
       "      <td>5047</td>\n",
       "      <td>Start my own business</td>\n",
       "    </tr>\n",
       "    <tr>\n",
       "      <th>103</th>\n",
       "      <td>Mining, quarrying, and oil and gas extraction</td>\n",
       "      <td>3162</td>\n",
       "      <td>Friend or family role model</td>\n",
       "    </tr>\n",
       "    <tr>\n",
       "      <th>106</th>\n",
       "      <td>Mining, quarrying, and oil and gas extraction</td>\n",
       "      <td>773</td>\n",
       "      <td>Other</td>\n",
       "    </tr>\n",
       "    <tr>\n",
       "      <th>109</th>\n",
       "      <td>Mining, quarrying, and oil and gas extraction</td>\n",
       "      <td>3123</td>\n",
       "      <td>Carry on family business</td>\n",
       "    </tr>\n",
       "    <tr>\n",
       "      <th>112</th>\n",
       "      <td>Mining, quarrying, and oil and gas extraction</td>\n",
       "      <td>1828</td>\n",
       "      <td>Help my community</td>\n",
       "    </tr>\n",
       "    <tr>\n",
       "      <th>117</th>\n",
       "      <td>Utilities</td>\n",
       "      <td>979</td>\n",
       "      <td>Wanted to be my own boss</td>\n",
       "    </tr>\n",
       "    <tr>\n",
       "      <th>120</th>\n",
       "      <td>Utilities</td>\n",
       "      <td>889</td>\n",
       "      <td>Flexible hours</td>\n",
       "    </tr>\n",
       "    <tr>\n",
       "      <th>123</th>\n",
       "      <td>Utilities</td>\n",
       "      <td>913</td>\n",
       "      <td>Balance work and family</td>\n",
       "    </tr>\n",
       "    <tr>\n",
       "      <th>126</th>\n",
       "      <td>Utilities</td>\n",
       "      <td>1000</td>\n",
       "      <td>Greater income</td>\n",
       "    </tr>\n",
       "    <tr>\n",
       "      <th>129</th>\n",
       "      <td>Utilities</td>\n",
       "      <td>786</td>\n",
       "      <td>Best avenue for ideas</td>\n",
       "    </tr>\n",
       "    <tr>\n",
       "      <th>132</th>\n",
       "      <td>Utilities</td>\n",
       "      <td>161</td>\n",
       "      <td>Couldn't find a job</td>\n",
       "    </tr>\n",
       "    <tr>\n",
       "      <th>135</th>\n",
       "      <td>Utilities</td>\n",
       "      <td>590</td>\n",
       "      <td>Work for self</td>\n",
       "    </tr>\n",
       "    <tr>\n",
       "      <th>138</th>\n",
       "      <td>Utilities</td>\n",
       "      <td>793</td>\n",
       "      <td>Start my own business</td>\n",
       "    </tr>\n",
       "    <tr>\n",
       "      <th>141</th>\n",
       "      <td>Utilities</td>\n",
       "      <td>499</td>\n",
       "      <td>Friend or family role model</td>\n",
       "    </tr>\n",
       "    <tr>\n",
       "      <th>144</th>\n",
       "      <td>Utilities</td>\n",
       "      <td>169</td>\n",
       "      <td>Other</td>\n",
       "    </tr>\n",
       "    <tr>\n",
       "      <th>147</th>\n",
       "      <td>Utilities</td>\n",
       "      <td>477</td>\n",
       "      <td>Carry on family business</td>\n",
       "    </tr>\n",
       "    <tr>\n",
       "      <th>150</th>\n",
       "      <td>Utilities</td>\n",
       "      <td>329</td>\n",
       "      <td>Help my community</td>\n",
       "    </tr>\n",
       "    <tr>\n",
       "      <th>155</th>\n",
       "      <td>Construction</td>\n",
       "      <td>344989</td>\n",
       "      <td>Wanted to be my own boss</td>\n",
       "    </tr>\n",
       "    <tr>\n",
       "      <th>158</th>\n",
       "      <td>Construction</td>\n",
       "      <td>287047</td>\n",
       "      <td>Flexible hours</td>\n",
       "    </tr>\n",
       "    <tr>\n",
       "      <th>161</th>\n",
       "      <td>Construction</td>\n",
       "      <td>319860</td>\n",
       "      <td>Balance work and family</td>\n",
       "    </tr>\n",
       "    <tr>\n",
       "      <th>164</th>\n",
       "      <td>Construction</td>\n",
       "      <td>359871</td>\n",
       "      <td>Greater income</td>\n",
       "    </tr>\n",
       "    <tr>\n",
       "      <th>167</th>\n",
       "      <td>Construction</td>\n",
       "      <td>299981</td>\n",
       "      <td>Best avenue for ideas</td>\n",
       "    </tr>\n",
       "    <tr>\n",
       "      <th>170</th>\n",
       "      <td>Construction</td>\n",
       "      <td>43503</td>\n",
       "      <td>Couldn't find a job</td>\n",
       "    </tr>\n",
       "    <tr>\n",
       "      <th>173</th>\n",
       "      <td>Construction</td>\n",
       "      <td>182473</td>\n",
       "      <td>Work for self</td>\n",
       "    </tr>\n",
       "    <tr>\n",
       "      <th>176</th>\n",
       "      <td>Construction</td>\n",
       "      <td>262341</td>\n",
       "      <td>Start my own business</td>\n",
       "    </tr>\n",
       "    <tr>\n",
       "      <th>179</th>\n",
       "      <td>Construction</td>\n",
       "      <td>155671</td>\n",
       "      <td>Friend or family role model</td>\n",
       "    </tr>\n",
       "    <tr>\n",
       "      <th>182</th>\n",
       "      <td>Construction</td>\n",
       "      <td>50039</td>\n",
       "      <td>Other</td>\n",
       "    </tr>\n",
       "    <tr>\n",
       "      <th>185</th>\n",
       "      <td>Construction</td>\n",
       "      <td>115024</td>\n",
       "      <td>Carry on family business</td>\n",
       "    </tr>\n",
       "    <tr>\n",
       "      <th>188</th>\n",
       "      <td>Construction</td>\n",
       "      <td>107162</td>\n",
       "      <td>Help my community</td>\n",
       "    </tr>\n",
       "    <tr>\n",
       "      <th>193</th>\n",
       "      <td>Manufacturing</td>\n",
       "      <td>102866</td>\n",
       "      <td>Wanted to be my own boss</td>\n",
       "    </tr>\n",
       "    <tr>\n",
       "      <th>196</th>\n",
       "      <td>Manufacturing</td>\n",
       "      <td>80794</td>\n",
       "      <td>Flexible hours</td>\n",
       "    </tr>\n",
       "    <tr>\n",
       "      <th>199</th>\n",
       "      <td>Manufacturing</td>\n",
       "      <td>88664</td>\n",
       "      <td>Balance work and family</td>\n",
       "    </tr>\n",
       "    <tr>\n",
       "      <th>202</th>\n",
       "      <td>Manufacturing</td>\n",
       "      <td>105081</td>\n",
       "      <td>Greater income</td>\n",
       "    </tr>\n",
       "    <tr>\n",
       "      <th>205</th>\n",
       "      <td>Manufacturing</td>\n",
       "      <td>92940</td>\n",
       "      <td>Best avenue for ideas</td>\n",
       "    </tr>\n",
       "    <tr>\n",
       "      <th>208</th>\n",
       "      <td>Manufacturing</td>\n",
       "      <td>11700</td>\n",
       "      <td>Couldn't find a job</td>\n",
       "    </tr>\n",
       "    <tr>\n",
       "      <th>211</th>\n",
       "      <td>Manufacturing</td>\n",
       "      <td>53664</td>\n",
       "      <td>Work for self</td>\n",
       "    </tr>\n",
       "    <tr>\n",
       "      <th>214</th>\n",
       "      <td>Manufacturing</td>\n",
       "      <td>74318</td>\n",
       "      <td>Start my own business</td>\n",
       "    </tr>\n",
       "    <tr>\n",
       "      <th>217</th>\n",
       "      <td>Manufacturing</td>\n",
       "      <td>53660</td>\n",
       "      <td>Friend or family role model</td>\n",
       "    </tr>\n",
       "    <tr>\n",
       "      <th>220</th>\n",
       "      <td>Manufacturing</td>\n",
       "      <td>15784</td>\n",
       "      <td>Other</td>\n",
       "    </tr>\n",
       "    <tr>\n",
       "      <th>223</th>\n",
       "      <td>Manufacturing</td>\n",
       "      <td>50581</td>\n",
       "      <td>Carry on family business</td>\n",
       "    </tr>\n",
       "    <tr>\n",
       "      <th>226</th>\n",
       "      <td>Manufacturing</td>\n",
       "      <td>33302</td>\n",
       "      <td>Help my community</td>\n",
       "    </tr>\n",
       "    <tr>\n",
       "      <th>231</th>\n",
       "      <td>Wholesale trade</td>\n",
       "      <td>137224</td>\n",
       "      <td>Wanted to be my own boss</td>\n",
       "    </tr>\n",
       "    <tr>\n",
       "      <th>234</th>\n",
       "      <td>Wholesale trade</td>\n",
       "      <td>112272</td>\n",
       "      <td>Flexible hours</td>\n",
       "    </tr>\n",
       "    <tr>\n",
       "      <th>237</th>\n",
       "      <td>Wholesale trade</td>\n",
       "      <td>119402</td>\n",
       "      <td>Balance work and family</td>\n",
       "    </tr>\n",
       "    <tr>\n",
       "      <th>240</th>\n",
       "      <td>Wholesale trade</td>\n",
       "      <td>145891</td>\n",
       "      <td>Greater income</td>\n",
       "    </tr>\n",
       "    <tr>\n",
       "      <th>243</th>\n",
       "      <td>Wholesale trade</td>\n",
       "      <td>118699</td>\n",
       "      <td>Best avenue for ideas</td>\n",
       "    </tr>\n",
       "    <tr>\n",
       "      <th>246</th>\n",
       "      <td>Wholesale trade</td>\n",
       "      <td>18160</td>\n",
       "      <td>Couldn't find a job</td>\n",
       "    </tr>\n",
       "    <tr>\n",
       "      <th>249</th>\n",
       "      <td>Wholesale trade</td>\n",
       "      <td>72613</td>\n",
       "      <td>Work for self</td>\n",
       "    </tr>\n",
       "    <tr>\n",
       "      <th>252</th>\n",
       "      <td>Wholesale trade</td>\n",
       "      <td>100704</td>\n",
       "      <td>Start my own business</td>\n",
       "    </tr>\n",
       "    <tr>\n",
       "      <th>255</th>\n",
       "      <td>Wholesale trade</td>\n",
       "      <td>72822</td>\n",
       "      <td>Friend or family role model</td>\n",
       "    </tr>\n",
       "    <tr>\n",
       "      <th>258</th>\n",
       "      <td>Wholesale trade</td>\n",
       "      <td>18789</td>\n",
       "      <td>Other</td>\n",
       "    </tr>\n",
       "    <tr>\n",
       "      <th>261</th>\n",
       "      <td>Wholesale trade</td>\n",
       "      <td>63602</td>\n",
       "      <td>Carry on family business</td>\n",
       "    </tr>\n",
       "    <tr>\n",
       "      <th>264</th>\n",
       "      <td>Wholesale trade</td>\n",
       "      <td>43228</td>\n",
       "      <td>Help my community</td>\n",
       "    </tr>\n",
       "    <tr>\n",
       "      <th>269</th>\n",
       "      <td>Retail trade</td>\n",
       "      <td>267959</td>\n",
       "      <td>Wanted to be my own boss</td>\n",
       "    </tr>\n",
       "    <tr>\n",
       "      <th>272</th>\n",
       "      <td>Retail trade</td>\n",
       "      <td>217008</td>\n",
       "      <td>Flexible hours</td>\n",
       "    </tr>\n",
       "    <tr>\n",
       "      <th>275</th>\n",
       "      <td>Retail trade</td>\n",
       "      <td>239252</td>\n",
       "      <td>Balance work and family</td>\n",
       "    </tr>\n",
       "    <tr>\n",
       "      <th>278</th>\n",
       "      <td>Retail trade</td>\n",
       "      <td>258020</td>\n",
       "      <td>Greater income</td>\n",
       "    </tr>\n",
       "    <tr>\n",
       "      <th>281</th>\n",
       "      <td>Retail trade</td>\n",
       "      <td>227982</td>\n",
       "      <td>Best avenue for ideas</td>\n",
       "    </tr>\n",
       "    <tr>\n",
       "      <th>284</th>\n",
       "      <td>Retail trade</td>\n",
       "      <td>39515</td>\n",
       "      <td>Couldn't find a job</td>\n",
       "    </tr>\n",
       "    <tr>\n",
       "      <th>287</th>\n",
       "      <td>Retail trade</td>\n",
       "      <td>143659</td>\n",
       "      <td>Work for self</td>\n",
       "    </tr>\n",
       "    <tr>\n",
       "      <th>290</th>\n",
       "      <td>Retail trade</td>\n",
       "      <td>213305</td>\n",
       "      <td>Start my own business</td>\n",
       "    </tr>\n",
       "    <tr>\n",
       "      <th>293</th>\n",
       "      <td>Retail trade</td>\n",
       "      <td>146693</td>\n",
       "      <td>Friend or family role model</td>\n",
       "    </tr>\n",
       "    <tr>\n",
       "      <th>296</th>\n",
       "      <td>Retail trade</td>\n",
       "      <td>46387</td>\n",
       "      <td>Other</td>\n",
       "    </tr>\n",
       "    <tr>\n",
       "      <th>299</th>\n",
       "      <td>Retail trade</td>\n",
       "      <td>111193</td>\n",
       "      <td>Carry on family business</td>\n",
       "    </tr>\n",
       "    <tr>\n",
       "      <th>302</th>\n",
       "      <td>Retail trade</td>\n",
       "      <td>120902</td>\n",
       "      <td>Help my community</td>\n",
       "    </tr>\n",
       "    <tr>\n",
       "      <th>307</th>\n",
       "      <td>Transportation and warehousing</td>\n",
       "      <td>67425</td>\n",
       "      <td>Wanted to be my own boss</td>\n",
       "    </tr>\n",
       "    <tr>\n",
       "      <th>310</th>\n",
       "      <td>Transportation and warehousing</td>\n",
       "      <td>56507</td>\n",
       "      <td>Flexible hours</td>\n",
       "    </tr>\n",
       "    <tr>\n",
       "      <th>313</th>\n",
       "      <td>Transportation and warehousing</td>\n",
       "      <td>60457</td>\n",
       "      <td>Balance work and family</td>\n",
       "    </tr>\n",
       "    <tr>\n",
       "      <th>316</th>\n",
       "      <td>Transportation and warehousing</td>\n",
       "      <td>71609</td>\n",
       "      <td>Greater income</td>\n",
       "    </tr>\n",
       "    <tr>\n",
       "      <th>319</th>\n",
       "      <td>Transportation and warehousing</td>\n",
       "      <td>55670</td>\n",
       "      <td>Best avenue for ideas</td>\n",
       "    </tr>\n",
       "    <tr>\n",
       "      <th>322</th>\n",
       "      <td>Transportation and warehousing</td>\n",
       "      <td>10177</td>\n",
       "      <td>Couldn't find a job</td>\n",
       "    </tr>\n",
       "    <tr>\n",
       "      <th>325</th>\n",
       "      <td>Transportation and warehousing</td>\n",
       "      <td>35851</td>\n",
       "      <td>Work for self</td>\n",
       "    </tr>\n",
       "    <tr>\n",
       "      <th>328</th>\n",
       "      <td>Transportation and warehousing</td>\n",
       "      <td>53086</td>\n",
       "      <td>Start my own business</td>\n",
       "    </tr>\n",
       "    <tr>\n",
       "      <th>331</th>\n",
       "      <td>Transportation and warehousing</td>\n",
       "      <td>33386</td>\n",
       "      <td>Friend or family role model</td>\n",
       "    </tr>\n",
       "    <tr>\n",
       "      <th>334</th>\n",
       "      <td>Transportation and warehousing</td>\n",
       "      <td>10091</td>\n",
       "      <td>Other</td>\n",
       "    </tr>\n",
       "    <tr>\n",
       "      <th>337</th>\n",
       "      <td>Transportation and warehousing</td>\n",
       "      <td>25816</td>\n",
       "      <td>Carry on family business</td>\n",
       "    </tr>\n",
       "    <tr>\n",
       "      <th>340</th>\n",
       "      <td>Transportation and warehousing</td>\n",
       "      <td>21695</td>\n",
       "      <td>Help my community</td>\n",
       "    </tr>\n",
       "    <tr>\n",
       "      <th>344</th>\n",
       "      <td>Information</td>\n",
       "      <td>18075</td>\n",
       "      <td>Start my own business</td>\n",
       "    </tr>\n",
       "    <tr>\n",
       "      <th>347</th>\n",
       "      <td>Information</td>\n",
       "      <td>10714</td>\n",
       "      <td>Friend or family role model</td>\n",
       "    </tr>\n",
       "    <tr>\n",
       "      <th>350</th>\n",
       "      <td>Information</td>\n",
       "      <td>4635</td>\n",
       "      <td>Other</td>\n",
       "    </tr>\n",
       "    <tr>\n",
       "      <th>353</th>\n",
       "      <td>Information</td>\n",
       "      <td>4702</td>\n",
       "      <td>Carry on family business</td>\n",
       "    </tr>\n",
       "    <tr>\n",
       "      <th>356</th>\n",
       "      <td>Information</td>\n",
       "      <td>8866</td>\n",
       "      <td>Help my community</td>\n",
       "    </tr>\n",
       "    <tr>\n",
       "      <th>361</th>\n",
       "      <td>Information</td>\n",
       "      <td>26970</td>\n",
       "      <td>Wanted to be my own boss</td>\n",
       "    </tr>\n",
       "    <tr>\n",
       "      <th>364</th>\n",
       "      <td>Information</td>\n",
       "      <td>22995</td>\n",
       "      <td>Flexible hours</td>\n",
       "    </tr>\n",
       "    <tr>\n",
       "      <th>367</th>\n",
       "      <td>Information</td>\n",
       "      <td>22646</td>\n",
       "      <td>Balance work and family</td>\n",
       "    </tr>\n",
       "    <tr>\n",
       "      <th>370</th>\n",
       "      <td>Information</td>\n",
       "      <td>26899</td>\n",
       "      <td>Greater income</td>\n",
       "    </tr>\n",
       "    <tr>\n",
       "      <th>373</th>\n",
       "      <td>Information</td>\n",
       "      <td>27101</td>\n",
       "      <td>Best avenue for ideas</td>\n",
       "    </tr>\n",
       "    <tr>\n",
       "      <th>376</th>\n",
       "      <td>Information</td>\n",
       "      <td>2443</td>\n",
       "      <td>Couldn't find a job</td>\n",
       "    </tr>\n",
       "    <tr>\n",
       "      <th>379</th>\n",
       "      <td>Information</td>\n",
       "      <td>12698</td>\n",
       "      <td>Work for self</td>\n",
       "    </tr>\n",
       "    <tr>\n",
       "      <th>383</th>\n",
       "      <td>Finance and insurance</td>\n",
       "      <td>126131</td>\n",
       "      <td>Wanted to be my own boss</td>\n",
       "    </tr>\n",
       "    <tr>\n",
       "      <th>386</th>\n",
       "      <td>Finance and insurance</td>\n",
       "      <td>114029</td>\n",
       "      <td>Flexible hours</td>\n",
       "    </tr>\n",
       "    <tr>\n",
       "      <th>389</th>\n",
       "      <td>Finance and insurance</td>\n",
       "      <td>117429</td>\n",
       "      <td>Balance work and family</td>\n",
       "    </tr>\n",
       "    <tr>\n",
       "      <th>392</th>\n",
       "      <td>Finance and insurance</td>\n",
       "      <td>130943</td>\n",
       "      <td>Greater income</td>\n",
       "    </tr>\n",
       "    <tr>\n",
       "      <th>395</th>\n",
       "      <td>Finance and insurance</td>\n",
       "      <td>102820</td>\n",
       "      <td>Best avenue for ideas</td>\n",
       "    </tr>\n",
       "    <tr>\n",
       "      <th>398</th>\n",
       "      <td>Finance and insurance</td>\n",
       "      <td>10641</td>\n",
       "      <td>Couldn't find a job</td>\n",
       "    </tr>\n",
       "    <tr>\n",
       "      <th>401</th>\n",
       "      <td>Finance and insurance</td>\n",
       "      <td>64195</td>\n",
       "      <td>Work for self</td>\n",
       "    </tr>\n",
       "    <tr>\n",
       "      <th>404</th>\n",
       "      <td>Finance and insurance</td>\n",
       "      <td>85086</td>\n",
       "      <td>Start my own business</td>\n",
       "    </tr>\n",
       "    <tr>\n",
       "      <th>407</th>\n",
       "      <td>Finance and insurance</td>\n",
       "      <td>59328</td>\n",
       "      <td>Friend or family role model</td>\n",
       "    </tr>\n",
       "    <tr>\n",
       "      <th>410</th>\n",
       "      <td>Finance and insurance</td>\n",
       "      <td>15902</td>\n",
       "      <td>Other</td>\n",
       "    </tr>\n",
       "    <tr>\n",
       "      <th>413</th>\n",
       "      <td>Finance and insurance</td>\n",
       "      <td>34104</td>\n",
       "      <td>Carry on family business</td>\n",
       "    </tr>\n",
       "    <tr>\n",
       "      <th>416</th>\n",
       "      <td>Finance and insurance</td>\n",
       "      <td>51233</td>\n",
       "      <td>Help my community</td>\n",
       "    </tr>\n",
       "    <tr>\n",
       "      <th>421</th>\n",
       "      <td>Real estate and rental and leasing</td>\n",
       "      <td>136572</td>\n",
       "      <td>Wanted to be my own boss</td>\n",
       "    </tr>\n",
       "    <tr>\n",
       "      <th>424</th>\n",
       "      <td>Real estate and rental and leasing</td>\n",
       "      <td>126786</td>\n",
       "      <td>Flexible hours</td>\n",
       "    </tr>\n",
       "    <tr>\n",
       "      <th>427</th>\n",
       "      <td>Real estate and rental and leasing</td>\n",
       "      <td>124643</td>\n",
       "      <td>Balance work and family</td>\n",
       "    </tr>\n",
       "    <tr>\n",
       "      <th>430</th>\n",
       "      <td>Real estate and rental and leasing</td>\n",
       "      <td>148098</td>\n",
       "      <td>Greater income</td>\n",
       "    </tr>\n",
       "    <tr>\n",
       "      <th>433</th>\n",
       "      <td>Real estate and rental and leasing</td>\n",
       "      <td>110954</td>\n",
       "      <td>Best avenue for ideas</td>\n",
       "    </tr>\n",
       "    <tr>\n",
       "      <th>436</th>\n",
       "      <td>Real estate and rental and leasing</td>\n",
       "      <td>14848</td>\n",
       "      <td>Couldn't find a job</td>\n",
       "    </tr>\n",
       "    <tr>\n",
       "      <th>439</th>\n",
       "      <td>Real estate and rental and leasing</td>\n",
       "      <td>75946</td>\n",
       "      <td>Work for self</td>\n",
       "    </tr>\n",
       "    <tr>\n",
       "      <th>442</th>\n",
       "      <td>Real estate and rental and leasing</td>\n",
       "      <td>98078</td>\n",
       "      <td>Start my own business</td>\n",
       "    </tr>\n",
       "    <tr>\n",
       "      <th>445</th>\n",
       "      <td>Real estate and rental and leasing</td>\n",
       "      <td>71610</td>\n",
       "      <td>Friend or family role model</td>\n",
       "    </tr>\n",
       "    <tr>\n",
       "      <th>448</th>\n",
       "      <td>Real estate and rental and leasing</td>\n",
       "      <td>23005</td>\n",
       "      <td>Other</td>\n",
       "    </tr>\n",
       "    <tr>\n",
       "      <th>451</th>\n",
       "      <td>Real estate and rental and leasing</td>\n",
       "      <td>52074</td>\n",
       "      <td>Carry on family business</td>\n",
       "    </tr>\n",
       "    <tr>\n",
       "      <th>454</th>\n",
       "      <td>Real estate and rental and leasing</td>\n",
       "      <td>51795</td>\n",
       "      <td>Help my community</td>\n",
       "    </tr>\n",
       "    <tr>\n",
       "      <th>459</th>\n",
       "      <td>Professional, scientific, and technical services</td>\n",
       "      <td>424047</td>\n",
       "      <td>Wanted to be my own boss</td>\n",
       "    </tr>\n",
       "    <tr>\n",
       "      <th>462</th>\n",
       "      <td>Professional, scientific, and technical services</td>\n",
       "      <td>379718</td>\n",
       "      <td>Flexible hours</td>\n",
       "    </tr>\n",
       "    <tr>\n",
       "      <th>465</th>\n",
       "      <td>Professional, scientific, and technical services</td>\n",
       "      <td>379325</td>\n",
       "      <td>Balance work and family</td>\n",
       "    </tr>\n",
       "    <tr>\n",
       "      <th>468</th>\n",
       "      <td>Professional, scientific, and technical services</td>\n",
       "      <td>405068</td>\n",
       "      <td>Greater income</td>\n",
       "    </tr>\n",
       "    <tr>\n",
       "      <th>471</th>\n",
       "      <td>Professional, scientific, and technical services</td>\n",
       "      <td>378993</td>\n",
       "      <td>Best avenue for ideas</td>\n",
       "    </tr>\n",
       "    <tr>\n",
       "      <th>474</th>\n",
       "      <td>Professional, scientific, and technical services</td>\n",
       "      <td>37164</td>\n",
       "      <td>Couldn't find a job</td>\n",
       "    </tr>\n",
       "    <tr>\n",
       "      <th>477</th>\n",
       "      <td>Professional, scientific, and technical services</td>\n",
       "      <td>200139</td>\n",
       "      <td>Work for self</td>\n",
       "    </tr>\n",
       "    <tr>\n",
       "      <th>480</th>\n",
       "      <td>Professional, scientific, and technical services</td>\n",
       "      <td>266159</td>\n",
       "      <td>Start my own business</td>\n",
       "    </tr>\n",
       "    <tr>\n",
       "      <th>483</th>\n",
       "      <td>Professional, scientific, and technical services</td>\n",
       "      <td>140239</td>\n",
       "      <td>Friend or family role model</td>\n",
       "    </tr>\n",
       "    <tr>\n",
       "      <th>486</th>\n",
       "      <td>Professional, scientific, and technical services</td>\n",
       "      <td>48764</td>\n",
       "      <td>Other</td>\n",
       "    </tr>\n",
       "    <tr>\n",
       "      <th>489</th>\n",
       "      <td>Professional, scientific, and technical services</td>\n",
       "      <td>54830</td>\n",
       "      <td>Carry on family business</td>\n",
       "    </tr>\n",
       "    <tr>\n",
       "      <th>492</th>\n",
       "      <td>Professional, scientific, and technical services</td>\n",
       "      <td>123871</td>\n",
       "      <td>Help my community</td>\n",
       "    </tr>\n",
       "    <tr>\n",
       "      <th>496</th>\n",
       "      <td>Management of companies and enterprises</td>\n",
       "      <td>3895</td>\n",
       "      <td>Carry on family business</td>\n",
       "    </tr>\n",
       "    <tr>\n",
       "      <th>499</th>\n",
       "      <td>Management of companies and enterprises</td>\n",
       "      <td>2740</td>\n",
       "      <td>Help my community</td>\n",
       "    </tr>\n",
       "    <tr>\n",
       "      <th>504</th>\n",
       "      <td>Management of companies and enterprises</td>\n",
       "      <td>5710</td>\n",
       "      <td>Wanted to be my own boss</td>\n",
       "    </tr>\n",
       "    <tr>\n",
       "      <th>507</th>\n",
       "      <td>Management of companies and enterprises</td>\n",
       "      <td>3678</td>\n",
       "      <td>Flexible hours</td>\n",
       "    </tr>\n",
       "    <tr>\n",
       "      <th>510</th>\n",
       "      <td>Management of companies and enterprises</td>\n",
       "      <td>4284</td>\n",
       "      <td>Balance work and family</td>\n",
       "    </tr>\n",
       "    <tr>\n",
       "      <th>513</th>\n",
       "      <td>Management of companies and enterprises</td>\n",
       "      <td>6012</td>\n",
       "      <td>Greater income</td>\n",
       "    </tr>\n",
       "    <tr>\n",
       "      <th>516</th>\n",
       "      <td>Management of companies and enterprises</td>\n",
       "      <td>4925</td>\n",
       "      <td>Best avenue for ideas</td>\n",
       "    </tr>\n",
       "    <tr>\n",
       "      <th>519</th>\n",
       "      <td>Management of companies and enterprises</td>\n",
       "      <td>620</td>\n",
       "      <td>Couldn't find a job</td>\n",
       "    </tr>\n",
       "    <tr>\n",
       "      <th>522</th>\n",
       "      <td>Management of companies and enterprises</td>\n",
       "      <td>2725</td>\n",
       "      <td>Work for self</td>\n",
       "    </tr>\n",
       "    <tr>\n",
       "      <th>525</th>\n",
       "      <td>Management of companies and enterprises</td>\n",
       "      <td>4214</td>\n",
       "      <td>Start my own business</td>\n",
       "    </tr>\n",
       "    <tr>\n",
       "      <th>528</th>\n",
       "      <td>Management of companies and enterprises</td>\n",
       "      <td>3820</td>\n",
       "      <td>Friend or family role model</td>\n",
       "    </tr>\n",
       "    <tr>\n",
       "      <th>531</th>\n",
       "      <td>Management of companies and enterprises</td>\n",
       "      <td>759</td>\n",
       "      <td>Other</td>\n",
       "    </tr>\n",
       "    <tr>\n",
       "      <th>535</th>\n",
       "      <td>Administrative and support and waste managemen...</td>\n",
       "      <td>157823</td>\n",
       "      <td>Wanted to be my own boss</td>\n",
       "    </tr>\n",
       "    <tr>\n",
       "      <th>538</th>\n",
       "      <td>Administrative and support and waste managemen...</td>\n",
       "      <td>139506</td>\n",
       "      <td>Flexible hours</td>\n",
       "    </tr>\n",
       "    <tr>\n",
       "      <th>541</th>\n",
       "      <td>Administrative and support and waste managemen...</td>\n",
       "      <td>145728</td>\n",
       "      <td>Balance work and family</td>\n",
       "    </tr>\n",
       "    <tr>\n",
       "      <th>544</th>\n",
       "      <td>Administrative and support and waste managemen...</td>\n",
       "      <td>158977</td>\n",
       "      <td>Greater income</td>\n",
       "    </tr>\n",
       "    <tr>\n",
       "      <th>547</th>\n",
       "      <td>Administrative and support and waste managemen...</td>\n",
       "      <td>130290</td>\n",
       "      <td>Best avenue for ideas</td>\n",
       "    </tr>\n",
       "    <tr>\n",
       "      <th>550</th>\n",
       "      <td>Administrative and support and waste managemen...</td>\n",
       "      <td>18578</td>\n",
       "      <td>Couldn't find a job</td>\n",
       "    </tr>\n",
       "    <tr>\n",
       "      <th>553</th>\n",
       "      <td>Administrative and support and waste managemen...</td>\n",
       "      <td>82224</td>\n",
       "      <td>Work for self</td>\n",
       "    </tr>\n",
       "    <tr>\n",
       "      <th>556</th>\n",
       "      <td>Administrative and support and waste managemen...</td>\n",
       "      <td>116772</td>\n",
       "      <td>Start my own business</td>\n",
       "    </tr>\n",
       "    <tr>\n",
       "      <th>559</th>\n",
       "      <td>Administrative and support and waste managemen...</td>\n",
       "      <td>68044</td>\n",
       "      <td>Friend or family role model</td>\n",
       "    </tr>\n",
       "    <tr>\n",
       "      <th>562</th>\n",
       "      <td>Administrative and support and waste managemen...</td>\n",
       "      <td>23060</td>\n",
       "      <td>Other</td>\n",
       "    </tr>\n",
       "    <tr>\n",
       "      <th>565</th>\n",
       "      <td>Administrative and support and waste managemen...</td>\n",
       "      <td>37625</td>\n",
       "      <td>Carry on family business</td>\n",
       "    </tr>\n",
       "    <tr>\n",
       "      <th>568</th>\n",
       "      <td>Administrative and support and waste managemen...</td>\n",
       "      <td>52441</td>\n",
       "      <td>Help my community</td>\n",
       "    </tr>\n",
       "    <tr>\n",
       "      <th>573</th>\n",
       "      <td>Educational services</td>\n",
       "      <td>27017</td>\n",
       "      <td>Wanted to be my own boss</td>\n",
       "    </tr>\n",
       "    <tr>\n",
       "      <th>576</th>\n",
       "      <td>Educational services</td>\n",
       "      <td>25918</td>\n",
       "      <td>Flexible hours</td>\n",
       "    </tr>\n",
       "    <tr>\n",
       "      <th>579</th>\n",
       "      <td>Educational services</td>\n",
       "      <td>25990</td>\n",
       "      <td>Balance work and family</td>\n",
       "    </tr>\n",
       "    <tr>\n",
       "      <th>582</th>\n",
       "      <td>Educational services</td>\n",
       "      <td>24862</td>\n",
       "      <td>Greater income</td>\n",
       "    </tr>\n",
       "    <tr>\n",
       "      <th>585</th>\n",
       "      <td>Educational services</td>\n",
       "      <td>29056</td>\n",
       "      <td>Best avenue for ideas</td>\n",
       "    </tr>\n",
       "    <tr>\n",
       "      <th>588</th>\n",
       "      <td>Educational services</td>\n",
       "      <td>2514</td>\n",
       "      <td>Couldn't find a job</td>\n",
       "    </tr>\n",
       "    <tr>\n",
       "      <th>591</th>\n",
       "      <td>Educational services</td>\n",
       "      <td>13427</td>\n",
       "      <td>Work for self</td>\n",
       "    </tr>\n",
       "    <tr>\n",
       "      <th>594</th>\n",
       "      <td>Educational services</td>\n",
       "      <td>19183</td>\n",
       "      <td>Start my own business</td>\n",
       "    </tr>\n",
       "    <tr>\n",
       "      <th>597</th>\n",
       "      <td>Educational services</td>\n",
       "      <td>11754</td>\n",
       "      <td>Friend or family role model</td>\n",
       "    </tr>\n",
       "    <tr>\n",
       "      <th>600</th>\n",
       "      <td>Educational services</td>\n",
       "      <td>6406</td>\n",
       "      <td>Other</td>\n",
       "    </tr>\n",
       "    <tr>\n",
       "      <th>603</th>\n",
       "      <td>Educational services</td>\n",
       "      <td>5367</td>\n",
       "      <td>Carry on family business</td>\n",
       "    </tr>\n",
       "    <tr>\n",
       "      <th>606</th>\n",
       "      <td>Educational services</td>\n",
       "      <td>17979</td>\n",
       "      <td>Help my community</td>\n",
       "    </tr>\n",
       "    <tr>\n",
       "      <th>611</th>\n",
       "      <td>Health care and social assistance</td>\n",
       "      <td>282117</td>\n",
       "      <td>Wanted to be my own boss</td>\n",
       "    </tr>\n",
       "    <tr>\n",
       "      <th>614</th>\n",
       "      <td>Health care and social assistance</td>\n",
       "      <td>253464</td>\n",
       "      <td>Flexible hours</td>\n",
       "    </tr>\n",
       "    <tr>\n",
       "      <th>617</th>\n",
       "      <td>Health care and social assistance</td>\n",
       "      <td>270468</td>\n",
       "      <td>Balance work and family</td>\n",
       "    </tr>\n",
       "    <tr>\n",
       "      <th>620</th>\n",
       "      <td>Health care and social assistance</td>\n",
       "      <td>264840</td>\n",
       "      <td>Greater income</td>\n",
       "    </tr>\n",
       "    <tr>\n",
       "      <th>623</th>\n",
       "      <td>Health care and social assistance</td>\n",
       "      <td>268191</td>\n",
       "      <td>Best avenue for ideas</td>\n",
       "    </tr>\n",
       "    <tr>\n",
       "      <th>626</th>\n",
       "      <td>Health care and social assistance</td>\n",
       "      <td>28336</td>\n",
       "      <td>Couldn't find a job</td>\n",
       "    </tr>\n",
       "    <tr>\n",
       "      <th>629</th>\n",
       "      <td>Health care and social assistance</td>\n",
       "      <td>142675</td>\n",
       "      <td>Work for self</td>\n",
       "    </tr>\n",
       "    <tr>\n",
       "      <th>632</th>\n",
       "      <td>Health care and social assistance</td>\n",
       "      <td>183470</td>\n",
       "      <td>Start my own business</td>\n",
       "    </tr>\n",
       "    <tr>\n",
       "      <th>635</th>\n",
       "      <td>Health care and social assistance</td>\n",
       "      <td>98386</td>\n",
       "      <td>Friend or family role model</td>\n",
       "    </tr>\n",
       "    <tr>\n",
       "      <th>638</th>\n",
       "      <td>Health care and social assistance</td>\n",
       "      <td>44659</td>\n",
       "      <td>Other</td>\n",
       "    </tr>\n",
       "    <tr>\n",
       "      <th>641</th>\n",
       "      <td>Health care and social assistance</td>\n",
       "      <td>43766</td>\n",
       "      <td>Carry on family business</td>\n",
       "    </tr>\n",
       "    <tr>\n",
       "      <th>644</th>\n",
       "      <td>Health care and social assistance</td>\n",
       "      <td>164329</td>\n",
       "      <td>Help my community</td>\n",
       "    </tr>\n",
       "    <tr>\n",
       "      <th>649</th>\n",
       "      <td>Arts, entertainment, and recreation</td>\n",
       "      <td>43850</td>\n",
       "      <td>Wanted to be my own boss</td>\n",
       "    </tr>\n",
       "    <tr>\n",
       "      <th>652</th>\n",
       "      <td>Arts, entertainment, and recreation</td>\n",
       "      <td>40228</td>\n",
       "      <td>Flexible hours</td>\n",
       "    </tr>\n",
       "    <tr>\n",
       "      <th>655</th>\n",
       "      <td>Arts, entertainment, and recreation</td>\n",
       "      <td>37927</td>\n",
       "      <td>Balance work and family</td>\n",
       "    </tr>\n",
       "    <tr>\n",
       "      <th>658</th>\n",
       "      <td>Arts, entertainment, and recreation</td>\n",
       "      <td>40979</td>\n",
       "      <td>Greater income</td>\n",
       "    </tr>\n",
       "    <tr>\n",
       "      <th>661</th>\n",
       "      <td>Arts, entertainment, and recreation</td>\n",
       "      <td>41007</td>\n",
       "      <td>Best avenue for ideas</td>\n",
       "    </tr>\n",
       "    <tr>\n",
       "      <th>664</th>\n",
       "      <td>Arts, entertainment, and recreation</td>\n",
       "      <td>4448</td>\n",
       "      <td>Couldn't find a job</td>\n",
       "    </tr>\n",
       "    <tr>\n",
       "      <th>667</th>\n",
       "      <td>Arts, entertainment, and recreation</td>\n",
       "      <td>22042</td>\n",
       "      <td>Work for self</td>\n",
       "    </tr>\n",
       "    <tr>\n",
       "      <th>670</th>\n",
       "      <td>Arts, entertainment, and recreation</td>\n",
       "      <td>29980</td>\n",
       "      <td>Start my own business</td>\n",
       "    </tr>\n",
       "    <tr>\n",
       "      <th>673</th>\n",
       "      <td>Arts, entertainment, and recreation</td>\n",
       "      <td>18043</td>\n",
       "      <td>Friend or family role model</td>\n",
       "    </tr>\n",
       "    <tr>\n",
       "      <th>676</th>\n",
       "      <td>Arts, entertainment, and recreation</td>\n",
       "      <td>8163</td>\n",
       "      <td>Other</td>\n",
       "    </tr>\n",
       "    <tr>\n",
       "      <th>679</th>\n",
       "      <td>Arts, entertainment, and recreation</td>\n",
       "      <td>10580</td>\n",
       "      <td>Carry on family business</td>\n",
       "    </tr>\n",
       "    <tr>\n",
       "      <th>682</th>\n",
       "      <td>Arts, entertainment, and recreation</td>\n",
       "      <td>18726</td>\n",
       "      <td>Help my community</td>\n",
       "    </tr>\n",
       "    <tr>\n",
       "      <th>687</th>\n",
       "      <td>Accommodation and food services</td>\n",
       "      <td>217539</td>\n",
       "      <td>Wanted to be my own boss</td>\n",
       "    </tr>\n",
       "    <tr>\n",
       "      <th>690</th>\n",
       "      <td>Accommodation and food services</td>\n",
       "      <td>179016</td>\n",
       "      <td>Flexible hours</td>\n",
       "    </tr>\n",
       "    <tr>\n",
       "      <th>693</th>\n",
       "      <td>Accommodation and food services</td>\n",
       "      <td>189302</td>\n",
       "      <td>Balance work and family</td>\n",
       "    </tr>\n",
       "    <tr>\n",
       "      <th>696</th>\n",
       "      <td>Accommodation and food services</td>\n",
       "      <td>217657</td>\n",
       "      <td>Greater income</td>\n",
       "    </tr>\n",
       "    <tr>\n",
       "      <th>699</th>\n",
       "      <td>Accommodation and food services</td>\n",
       "      <td>176850</td>\n",
       "      <td>Best avenue for ideas</td>\n",
       "    </tr>\n",
       "    <tr>\n",
       "      <th>702</th>\n",
       "      <td>Accommodation and food services</td>\n",
       "      <td>42601</td>\n",
       "      <td>Couldn't find a job</td>\n",
       "    </tr>\n",
       "    <tr>\n",
       "      <th>705</th>\n",
       "      <td>Accommodation and food services</td>\n",
       "      <td>118796</td>\n",
       "      <td>Work for self</td>\n",
       "    </tr>\n",
       "    <tr>\n",
       "      <th>708</th>\n",
       "      <td>Accommodation and food services</td>\n",
       "      <td>186227</td>\n",
       "      <td>Start my own business</td>\n",
       "    </tr>\n",
       "    <tr>\n",
       "      <th>711</th>\n",
       "      <td>Accommodation and food services</td>\n",
       "      <td>123323</td>\n",
       "      <td>Friend or family role model</td>\n",
       "    </tr>\n",
       "    <tr>\n",
       "      <th>714</th>\n",
       "      <td>Accommodation and food services</td>\n",
       "      <td>37342</td>\n",
       "      <td>Other</td>\n",
       "    </tr>\n",
       "    <tr>\n",
       "      <th>717</th>\n",
       "      <td>Accommodation and food services</td>\n",
       "      <td>86454</td>\n",
       "      <td>Carry on family business</td>\n",
       "    </tr>\n",
       "    <tr>\n",
       "      <th>720</th>\n",
       "      <td>Accommodation and food services</td>\n",
       "      <td>106602</td>\n",
       "      <td>Help my community</td>\n",
       "    </tr>\n",
       "    <tr>\n",
       "      <th>725</th>\n",
       "      <td>Other services (except public administration)</td>\n",
       "      <td>164771</td>\n",
       "      <td>Wanted to be my own boss</td>\n",
       "    </tr>\n",
       "    <tr>\n",
       "      <th>728</th>\n",
       "      <td>Other services (except public administration)</td>\n",
       "      <td>135703</td>\n",
       "      <td>Flexible hours</td>\n",
       "    </tr>\n",
       "    <tr>\n",
       "      <th>731</th>\n",
       "      <td>Other services (except public administration)</td>\n",
       "      <td>147890</td>\n",
       "      <td>Balance work and family</td>\n",
       "    </tr>\n",
       "    <tr>\n",
       "      <th>734</th>\n",
       "      <td>Other services (except public administration)</td>\n",
       "      <td>159967</td>\n",
       "      <td>Greater income</td>\n",
       "    </tr>\n",
       "    <tr>\n",
       "      <th>737</th>\n",
       "      <td>Other services (except public administration)</td>\n",
       "      <td>139918</td>\n",
       "      <td>Best avenue for ideas</td>\n",
       "    </tr>\n",
       "    <tr>\n",
       "      <th>740</th>\n",
       "      <td>Other services (except public administration)</td>\n",
       "      <td>21313</td>\n",
       "      <td>Couldn't find a job</td>\n",
       "    </tr>\n",
       "    <tr>\n",
       "      <th>743</th>\n",
       "      <td>Other services (except public administration)</td>\n",
       "      <td>85918</td>\n",
       "      <td>Work for self</td>\n",
       "    </tr>\n",
       "    <tr>\n",
       "      <th>746</th>\n",
       "      <td>Other services (except public administration)</td>\n",
       "      <td>130108</td>\n",
       "      <td>Start my own business</td>\n",
       "    </tr>\n",
       "    <tr>\n",
       "      <th>749</th>\n",
       "      <td>Other services (except public administration)</td>\n",
       "      <td>72349</td>\n",
       "      <td>Friend or family role model</td>\n",
       "    </tr>\n",
       "    <tr>\n",
       "      <th>752</th>\n",
       "      <td>Other services (except public administration)</td>\n",
       "      <td>26558</td>\n",
       "      <td>Other</td>\n",
       "    </tr>\n",
       "    <tr>\n",
       "      <th>755</th>\n",
       "      <td>Other services (except public administration)</td>\n",
       "      <td>48430</td>\n",
       "      <td>Carry on family business</td>\n",
       "    </tr>\n",
       "    <tr>\n",
       "      <th>758</th>\n",
       "      <td>Other services (except public administration)</td>\n",
       "      <td>63955</td>\n",
       "      <td>Help my community</td>\n",
       "    </tr>\n",
       "    <tr>\n",
       "      <th>763</th>\n",
       "      <td>Industries not classified</td>\n",
       "      <td>5696</td>\n",
       "      <td>Wanted to be my own boss</td>\n",
       "    </tr>\n",
       "    <tr>\n",
       "      <th>766</th>\n",
       "      <td>Industries not classified</td>\n",
       "      <td>5042</td>\n",
       "      <td>Flexible hours</td>\n",
       "    </tr>\n",
       "    <tr>\n",
       "      <th>769</th>\n",
       "      <td>Industries not classified</td>\n",
       "      <td>5732</td>\n",
       "      <td>Balance work and family</td>\n",
       "    </tr>\n",
       "    <tr>\n",
       "      <th>772</th>\n",
       "      <td>Industries not classified</td>\n",
       "      <td>4405</td>\n",
       "      <td>Greater income</td>\n",
       "    </tr>\n",
       "    <tr>\n",
       "      <th>775</th>\n",
       "      <td>Industries not classified</td>\n",
       "      <td>4320</td>\n",
       "      <td>Best avenue for ideas</td>\n",
       "    </tr>\n",
       "    <tr>\n",
       "      <th>778</th>\n",
       "      <td>Industries not classified</td>\n",
       "      <td>765</td>\n",
       "      <td>Couldn't find a job</td>\n",
       "    </tr>\n",
       "    <tr>\n",
       "      <th>781</th>\n",
       "      <td>Industries not classified</td>\n",
       "      <td>3018</td>\n",
       "      <td>Work for self</td>\n",
       "    </tr>\n",
       "    <tr>\n",
       "      <th>784</th>\n",
       "      <td>Industries not classified</td>\n",
       "      <td>3951</td>\n",
       "      <td>Start my own business</td>\n",
       "    </tr>\n",
       "    <tr>\n",
       "      <th>787</th>\n",
       "      <td>Industries not classified</td>\n",
       "      <td>3530</td>\n",
       "      <td>Friend or family role model</td>\n",
       "    </tr>\n",
       "    <tr>\n",
       "      <th>790</th>\n",
       "      <td>Industries not classified</td>\n",
       "      <td>1030</td>\n",
       "      <td>Other</td>\n",
       "    </tr>\n",
       "    <tr>\n",
       "      <th>793</th>\n",
       "      <td>Industries not classified</td>\n",
       "      <td>5152</td>\n",
       "      <td>Carry on family business</td>\n",
       "    </tr>\n",
       "    <tr>\n",
       "      <th>796</th>\n",
       "      <td>Industries not classified</td>\n",
       "      <td>2062</td>\n",
       "      <td>Help my community</td>\n",
       "    </tr>\n",
       "  </tbody>\n",
       "</table>\n",
       "</div>"
      ],
      "text/plain": [
       "                                       NAICS2017_LABEL  OWNPDEMP  \\\n",
       "41          Agriculture, forestry, fishing and hunting      9917   \n",
       "44          Agriculture, forestry, fishing and hunting      8791   \n",
       "47          Agriculture, forestry, fishing and hunting      9549   \n",
       "50          Agriculture, forestry, fishing and hunting     10819   \n",
       "53          Agriculture, forestry, fishing and hunting      9012   \n",
       "56          Agriculture, forestry, fishing and hunting       991   \n",
       "59          Agriculture, forestry, fishing and hunting      5256   \n",
       "62          Agriculture, forestry, fishing and hunting      6956   \n",
       "65          Agriculture, forestry, fishing and hunting      5709   \n",
       "68          Agriculture, forestry, fishing and hunting      1748   \n",
       "71          Agriculture, forestry, fishing and hunting      5589   \n",
       "74          Agriculture, forestry, fishing and hunting      3262   \n",
       "79       Mining, quarrying, and oil and gas extraction      6328   \n",
       "82       Mining, quarrying, and oil and gas extraction      4892   \n",
       "85       Mining, quarrying, and oil and gas extraction      6172   \n",
       "88       Mining, quarrying, and oil and gas extraction      7647   \n",
       "91       Mining, quarrying, and oil and gas extraction      5334   \n",
       "94       Mining, quarrying, and oil and gas extraction       769   \n",
       "97       Mining, quarrying, and oil and gas extraction      3532   \n",
       "100      Mining, quarrying, and oil and gas extraction      5047   \n",
       "103      Mining, quarrying, and oil and gas extraction      3162   \n",
       "106      Mining, quarrying, and oil and gas extraction       773   \n",
       "109      Mining, quarrying, and oil and gas extraction      3123   \n",
       "112      Mining, quarrying, and oil and gas extraction      1828   \n",
       "117                                          Utilities       979   \n",
       "120                                          Utilities       889   \n",
       "123                                          Utilities       913   \n",
       "126                                          Utilities      1000   \n",
       "129                                          Utilities       786   \n",
       "132                                          Utilities       161   \n",
       "135                                          Utilities       590   \n",
       "138                                          Utilities       793   \n",
       "141                                          Utilities       499   \n",
       "144                                          Utilities       169   \n",
       "147                                          Utilities       477   \n",
       "150                                          Utilities       329   \n",
       "155                                       Construction    344989   \n",
       "158                                       Construction    287047   \n",
       "161                                       Construction    319860   \n",
       "164                                       Construction    359871   \n",
       "167                                       Construction    299981   \n",
       "170                                       Construction     43503   \n",
       "173                                       Construction    182473   \n",
       "176                                       Construction    262341   \n",
       "179                                       Construction    155671   \n",
       "182                                       Construction     50039   \n",
       "185                                       Construction    115024   \n",
       "188                                       Construction    107162   \n",
       "193                                      Manufacturing    102866   \n",
       "196                                      Manufacturing     80794   \n",
       "199                                      Manufacturing     88664   \n",
       "202                                      Manufacturing    105081   \n",
       "205                                      Manufacturing     92940   \n",
       "208                                      Manufacturing     11700   \n",
       "211                                      Manufacturing     53664   \n",
       "214                                      Manufacturing     74318   \n",
       "217                                      Manufacturing     53660   \n",
       "220                                      Manufacturing     15784   \n",
       "223                                      Manufacturing     50581   \n",
       "226                                      Manufacturing     33302   \n",
       "231                                    Wholesale trade    137224   \n",
       "234                                    Wholesale trade    112272   \n",
       "237                                    Wholesale trade    119402   \n",
       "240                                    Wholesale trade    145891   \n",
       "243                                    Wholesale trade    118699   \n",
       "246                                    Wholesale trade     18160   \n",
       "249                                    Wholesale trade     72613   \n",
       "252                                    Wholesale trade    100704   \n",
       "255                                    Wholesale trade     72822   \n",
       "258                                    Wholesale trade     18789   \n",
       "261                                    Wholesale trade     63602   \n",
       "264                                    Wholesale trade     43228   \n",
       "269                                       Retail trade    267959   \n",
       "272                                       Retail trade    217008   \n",
       "275                                       Retail trade    239252   \n",
       "278                                       Retail trade    258020   \n",
       "281                                       Retail trade    227982   \n",
       "284                                       Retail trade     39515   \n",
       "287                                       Retail trade    143659   \n",
       "290                                       Retail trade    213305   \n",
       "293                                       Retail trade    146693   \n",
       "296                                       Retail trade     46387   \n",
       "299                                       Retail trade    111193   \n",
       "302                                       Retail trade    120902   \n",
       "307                     Transportation and warehousing     67425   \n",
       "310                     Transportation and warehousing     56507   \n",
       "313                     Transportation and warehousing     60457   \n",
       "316                     Transportation and warehousing     71609   \n",
       "319                     Transportation and warehousing     55670   \n",
       "322                     Transportation and warehousing     10177   \n",
       "325                     Transportation and warehousing     35851   \n",
       "328                     Transportation and warehousing     53086   \n",
       "331                     Transportation and warehousing     33386   \n",
       "334                     Transportation and warehousing     10091   \n",
       "337                     Transportation and warehousing     25816   \n",
       "340                     Transportation and warehousing     21695   \n",
       "344                                        Information     18075   \n",
       "347                                        Information     10714   \n",
       "350                                        Information      4635   \n",
       "353                                        Information      4702   \n",
       "356                                        Information      8866   \n",
       "361                                        Information     26970   \n",
       "364                                        Information     22995   \n",
       "367                                        Information     22646   \n",
       "370                                        Information     26899   \n",
       "373                                        Information     27101   \n",
       "376                                        Information      2443   \n",
       "379                                        Information     12698   \n",
       "383                              Finance and insurance    126131   \n",
       "386                              Finance and insurance    114029   \n",
       "389                              Finance and insurance    117429   \n",
       "392                              Finance and insurance    130943   \n",
       "395                              Finance and insurance    102820   \n",
       "398                              Finance and insurance     10641   \n",
       "401                              Finance and insurance     64195   \n",
       "404                              Finance and insurance     85086   \n",
       "407                              Finance and insurance     59328   \n",
       "410                              Finance and insurance     15902   \n",
       "413                              Finance and insurance     34104   \n",
       "416                              Finance and insurance     51233   \n",
       "421                 Real estate and rental and leasing    136572   \n",
       "424                 Real estate and rental and leasing    126786   \n",
       "427                 Real estate and rental and leasing    124643   \n",
       "430                 Real estate and rental and leasing    148098   \n",
       "433                 Real estate and rental and leasing    110954   \n",
       "436                 Real estate and rental and leasing     14848   \n",
       "439                 Real estate and rental and leasing     75946   \n",
       "442                 Real estate and rental and leasing     98078   \n",
       "445                 Real estate and rental and leasing     71610   \n",
       "448                 Real estate and rental and leasing     23005   \n",
       "451                 Real estate and rental and leasing     52074   \n",
       "454                 Real estate and rental and leasing     51795   \n",
       "459   Professional, scientific, and technical services    424047   \n",
       "462   Professional, scientific, and technical services    379718   \n",
       "465   Professional, scientific, and technical services    379325   \n",
       "468   Professional, scientific, and technical services    405068   \n",
       "471   Professional, scientific, and technical services    378993   \n",
       "474   Professional, scientific, and technical services     37164   \n",
       "477   Professional, scientific, and technical services    200139   \n",
       "480   Professional, scientific, and technical services    266159   \n",
       "483   Professional, scientific, and technical services    140239   \n",
       "486   Professional, scientific, and technical services     48764   \n",
       "489   Professional, scientific, and technical services     54830   \n",
       "492   Professional, scientific, and technical services    123871   \n",
       "496            Management of companies and enterprises      3895   \n",
       "499            Management of companies and enterprises      2740   \n",
       "504            Management of companies and enterprises      5710   \n",
       "507            Management of companies and enterprises      3678   \n",
       "510            Management of companies and enterprises      4284   \n",
       "513            Management of companies and enterprises      6012   \n",
       "516            Management of companies and enterprises      4925   \n",
       "519            Management of companies and enterprises       620   \n",
       "522            Management of companies and enterprises      2725   \n",
       "525            Management of companies and enterprises      4214   \n",
       "528            Management of companies and enterprises      3820   \n",
       "531            Management of companies and enterprises       759   \n",
       "535  Administrative and support and waste managemen...    157823   \n",
       "538  Administrative and support and waste managemen...    139506   \n",
       "541  Administrative and support and waste managemen...    145728   \n",
       "544  Administrative and support and waste managemen...    158977   \n",
       "547  Administrative and support and waste managemen...    130290   \n",
       "550  Administrative and support and waste managemen...     18578   \n",
       "553  Administrative and support and waste managemen...     82224   \n",
       "556  Administrative and support and waste managemen...    116772   \n",
       "559  Administrative and support and waste managemen...     68044   \n",
       "562  Administrative and support and waste managemen...     23060   \n",
       "565  Administrative and support and waste managemen...     37625   \n",
       "568  Administrative and support and waste managemen...     52441   \n",
       "573                               Educational services     27017   \n",
       "576                               Educational services     25918   \n",
       "579                               Educational services     25990   \n",
       "582                               Educational services     24862   \n",
       "585                               Educational services     29056   \n",
       "588                               Educational services      2514   \n",
       "591                               Educational services     13427   \n",
       "594                               Educational services     19183   \n",
       "597                               Educational services     11754   \n",
       "600                               Educational services      6406   \n",
       "603                               Educational services      5367   \n",
       "606                               Educational services     17979   \n",
       "611                  Health care and social assistance    282117   \n",
       "614                  Health care and social assistance    253464   \n",
       "617                  Health care and social assistance    270468   \n",
       "620                  Health care and social assistance    264840   \n",
       "623                  Health care and social assistance    268191   \n",
       "626                  Health care and social assistance     28336   \n",
       "629                  Health care and social assistance    142675   \n",
       "632                  Health care and social assistance    183470   \n",
       "635                  Health care and social assistance     98386   \n",
       "638                  Health care and social assistance     44659   \n",
       "641                  Health care and social assistance     43766   \n",
       "644                  Health care and social assistance    164329   \n",
       "649                Arts, entertainment, and recreation     43850   \n",
       "652                Arts, entertainment, and recreation     40228   \n",
       "655                Arts, entertainment, and recreation     37927   \n",
       "658                Arts, entertainment, and recreation     40979   \n",
       "661                Arts, entertainment, and recreation     41007   \n",
       "664                Arts, entertainment, and recreation      4448   \n",
       "667                Arts, entertainment, and recreation     22042   \n",
       "670                Arts, entertainment, and recreation     29980   \n",
       "673                Arts, entertainment, and recreation     18043   \n",
       "676                Arts, entertainment, and recreation      8163   \n",
       "679                Arts, entertainment, and recreation     10580   \n",
       "682                Arts, entertainment, and recreation     18726   \n",
       "687                    Accommodation and food services    217539   \n",
       "690                    Accommodation and food services    179016   \n",
       "693                    Accommodation and food services    189302   \n",
       "696                    Accommodation and food services    217657   \n",
       "699                    Accommodation and food services    176850   \n",
       "702                    Accommodation and food services     42601   \n",
       "705                    Accommodation and food services    118796   \n",
       "708                    Accommodation and food services    186227   \n",
       "711                    Accommodation and food services    123323   \n",
       "714                    Accommodation and food services     37342   \n",
       "717                    Accommodation and food services     86454   \n",
       "720                    Accommodation and food services    106602   \n",
       "725      Other services (except public administration)    164771   \n",
       "728      Other services (except public administration)    135703   \n",
       "731      Other services (except public administration)    147890   \n",
       "734      Other services (except public administration)    159967   \n",
       "737      Other services (except public administration)    139918   \n",
       "740      Other services (except public administration)     21313   \n",
       "743      Other services (except public administration)     85918   \n",
       "746      Other services (except public administration)    130108   \n",
       "749      Other services (except public administration)     72349   \n",
       "752      Other services (except public administration)     26558   \n",
       "755      Other services (except public administration)     48430   \n",
       "758      Other services (except public administration)     63955   \n",
       "763                          Industries not classified      5696   \n",
       "766                          Industries not classified      5042   \n",
       "769                          Industries not classified      5732   \n",
       "772                          Industries not classified      4405   \n",
       "775                          Industries not classified      4320   \n",
       "778                          Industries not classified       765   \n",
       "781                          Industries not classified      3018   \n",
       "784                          Industries not classified      3951   \n",
       "787                          Industries not classified      3530   \n",
       "790                          Industries not classified      1030   \n",
       "793                          Industries not classified      5152   \n",
       "796                          Industries not classified      2062   \n",
       "\n",
       "                   OWNCHAR_LABEL  \n",
       "41      Wanted to be my own boss  \n",
       "44                Flexible hours  \n",
       "47       Balance work and family  \n",
       "50                Greater income  \n",
       "53         Best avenue for ideas  \n",
       "56           Couldn't find a job  \n",
       "59                 Work for self  \n",
       "62         Start my own business  \n",
       "65   Friend or family role model  \n",
       "68                         Other  \n",
       "71      Carry on family business  \n",
       "74             Help my community  \n",
       "79      Wanted to be my own boss  \n",
       "82                Flexible hours  \n",
       "85       Balance work and family  \n",
       "88                Greater income  \n",
       "91         Best avenue for ideas  \n",
       "94           Couldn't find a job  \n",
       "97                 Work for self  \n",
       "100        Start my own business  \n",
       "103  Friend or family role model  \n",
       "106                        Other  \n",
       "109     Carry on family business  \n",
       "112            Help my community  \n",
       "117     Wanted to be my own boss  \n",
       "120               Flexible hours  \n",
       "123      Balance work and family  \n",
       "126               Greater income  \n",
       "129        Best avenue for ideas  \n",
       "132          Couldn't find a job  \n",
       "135                Work for self  \n",
       "138        Start my own business  \n",
       "141  Friend or family role model  \n",
       "144                        Other  \n",
       "147     Carry on family business  \n",
       "150            Help my community  \n",
       "155     Wanted to be my own boss  \n",
       "158               Flexible hours  \n",
       "161      Balance work and family  \n",
       "164               Greater income  \n",
       "167        Best avenue for ideas  \n",
       "170          Couldn't find a job  \n",
       "173                Work for self  \n",
       "176        Start my own business  \n",
       "179  Friend or family role model  \n",
       "182                        Other  \n",
       "185     Carry on family business  \n",
       "188            Help my community  \n",
       "193     Wanted to be my own boss  \n",
       "196               Flexible hours  \n",
       "199      Balance work and family  \n",
       "202               Greater income  \n",
       "205        Best avenue for ideas  \n",
       "208          Couldn't find a job  \n",
       "211                Work for self  \n",
       "214        Start my own business  \n",
       "217  Friend or family role model  \n",
       "220                        Other  \n",
       "223     Carry on family business  \n",
       "226            Help my community  \n",
       "231     Wanted to be my own boss  \n",
       "234               Flexible hours  \n",
       "237      Balance work and family  \n",
       "240               Greater income  \n",
       "243        Best avenue for ideas  \n",
       "246          Couldn't find a job  \n",
       "249                Work for self  \n",
       "252        Start my own business  \n",
       "255  Friend or family role model  \n",
       "258                        Other  \n",
       "261     Carry on family business  \n",
       "264            Help my community  \n",
       "269     Wanted to be my own boss  \n",
       "272               Flexible hours  \n",
       "275      Balance work and family  \n",
       "278               Greater income  \n",
       "281        Best avenue for ideas  \n",
       "284          Couldn't find a job  \n",
       "287                Work for self  \n",
       "290        Start my own business  \n",
       "293  Friend or family role model  \n",
       "296                        Other  \n",
       "299     Carry on family business  \n",
       "302            Help my community  \n",
       "307     Wanted to be my own boss  \n",
       "310               Flexible hours  \n",
       "313      Balance work and family  \n",
       "316               Greater income  \n",
       "319        Best avenue for ideas  \n",
       "322          Couldn't find a job  \n",
       "325                Work for self  \n",
       "328        Start my own business  \n",
       "331  Friend or family role model  \n",
       "334                        Other  \n",
       "337     Carry on family business  \n",
       "340            Help my community  \n",
       "344        Start my own business  \n",
       "347  Friend or family role model  \n",
       "350                        Other  \n",
       "353     Carry on family business  \n",
       "356            Help my community  \n",
       "361     Wanted to be my own boss  \n",
       "364               Flexible hours  \n",
       "367      Balance work and family  \n",
       "370               Greater income  \n",
       "373        Best avenue for ideas  \n",
       "376          Couldn't find a job  \n",
       "379                Work for self  \n",
       "383     Wanted to be my own boss  \n",
       "386               Flexible hours  \n",
       "389      Balance work and family  \n",
       "392               Greater income  \n",
       "395        Best avenue for ideas  \n",
       "398          Couldn't find a job  \n",
       "401                Work for self  \n",
       "404        Start my own business  \n",
       "407  Friend or family role model  \n",
       "410                        Other  \n",
       "413     Carry on family business  \n",
       "416            Help my community  \n",
       "421     Wanted to be my own boss  \n",
       "424               Flexible hours  \n",
       "427      Balance work and family  \n",
       "430               Greater income  \n",
       "433        Best avenue for ideas  \n",
       "436          Couldn't find a job  \n",
       "439                Work for self  \n",
       "442        Start my own business  \n",
       "445  Friend or family role model  \n",
       "448                        Other  \n",
       "451     Carry on family business  \n",
       "454            Help my community  \n",
       "459     Wanted to be my own boss  \n",
       "462               Flexible hours  \n",
       "465      Balance work and family  \n",
       "468               Greater income  \n",
       "471        Best avenue for ideas  \n",
       "474          Couldn't find a job  \n",
       "477                Work for self  \n",
       "480        Start my own business  \n",
       "483  Friend or family role model  \n",
       "486                        Other  \n",
       "489     Carry on family business  \n",
       "492            Help my community  \n",
       "496     Carry on family business  \n",
       "499            Help my community  \n",
       "504     Wanted to be my own boss  \n",
       "507               Flexible hours  \n",
       "510      Balance work and family  \n",
       "513               Greater income  \n",
       "516        Best avenue for ideas  \n",
       "519          Couldn't find a job  \n",
       "522                Work for self  \n",
       "525        Start my own business  \n",
       "528  Friend or family role model  \n",
       "531                        Other  \n",
       "535     Wanted to be my own boss  \n",
       "538               Flexible hours  \n",
       "541      Balance work and family  \n",
       "544               Greater income  \n",
       "547        Best avenue for ideas  \n",
       "550          Couldn't find a job  \n",
       "553                Work for self  \n",
       "556        Start my own business  \n",
       "559  Friend or family role model  \n",
       "562                        Other  \n",
       "565     Carry on family business  \n",
       "568            Help my community  \n",
       "573     Wanted to be my own boss  \n",
       "576               Flexible hours  \n",
       "579      Balance work and family  \n",
       "582               Greater income  \n",
       "585        Best avenue for ideas  \n",
       "588          Couldn't find a job  \n",
       "591                Work for self  \n",
       "594        Start my own business  \n",
       "597  Friend or family role model  \n",
       "600                        Other  \n",
       "603     Carry on family business  \n",
       "606            Help my community  \n",
       "611     Wanted to be my own boss  \n",
       "614               Flexible hours  \n",
       "617      Balance work and family  \n",
       "620               Greater income  \n",
       "623        Best avenue for ideas  \n",
       "626          Couldn't find a job  \n",
       "629                Work for self  \n",
       "632        Start my own business  \n",
       "635  Friend or family role model  \n",
       "638                        Other  \n",
       "641     Carry on family business  \n",
       "644            Help my community  \n",
       "649     Wanted to be my own boss  \n",
       "652               Flexible hours  \n",
       "655      Balance work and family  \n",
       "658               Greater income  \n",
       "661        Best avenue for ideas  \n",
       "664          Couldn't find a job  \n",
       "667                Work for self  \n",
       "670        Start my own business  \n",
       "673  Friend or family role model  \n",
       "676                        Other  \n",
       "679     Carry on family business  \n",
       "682            Help my community  \n",
       "687     Wanted to be my own boss  \n",
       "690               Flexible hours  \n",
       "693      Balance work and family  \n",
       "696               Greater income  \n",
       "699        Best avenue for ideas  \n",
       "702          Couldn't find a job  \n",
       "705                Work for self  \n",
       "708        Start my own business  \n",
       "711  Friend or family role model  \n",
       "714                        Other  \n",
       "717     Carry on family business  \n",
       "720            Help my community  \n",
       "725     Wanted to be my own boss  \n",
       "728               Flexible hours  \n",
       "731      Balance work and family  \n",
       "734               Greater income  \n",
       "737        Best avenue for ideas  \n",
       "740          Couldn't find a job  \n",
       "743                Work for self  \n",
       "746        Start my own business  \n",
       "749  Friend or family role model  \n",
       "752                        Other  \n",
       "755     Carry on family business  \n",
       "758            Help my community  \n",
       "763     Wanted to be my own boss  \n",
       "766               Flexible hours  \n",
       "769      Balance work and family  \n",
       "772               Greater income  \n",
       "775        Best avenue for ideas  \n",
       "778          Couldn't find a job  \n",
       "781                Work for self  \n",
       "784        Start my own business  \n",
       "787  Friend or family role model  \n",
       "790                        Other  \n",
       "793     Carry on family business  \n",
       "796            Help my community  "
      ]
     },
     "execution_count": 499,
     "metadata": {},
     "output_type": "execute_result"
    }
   ],
   "source": [
    "#get rid of totals because of double counting\n",
    "filter = df['NAICS2017_LABEL'] != 'Total for all sectors'\n",
    "df =df[filter]\n",
    "df\n",
    "\n",
    "\n"
   ]
  },
  {
   "cell_type": "code",
   "execution_count": 500,
   "metadata": {},
   "outputs": [
    {
     "data": {
      "text/html": [
       "<div>\n",
       "<style scoped>\n",
       "    .dataframe tbody tr th:only-of-type {\n",
       "        vertical-align: middle;\n",
       "    }\n",
       "\n",
       "    .dataframe tbody tr th {\n",
       "        vertical-align: top;\n",
       "    }\n",
       "\n",
       "    .dataframe thead th {\n",
       "        text-align: right;\n",
       "    }\n",
       "</style>\n",
       "<table border=\"1\" class=\"dataframe\">\n",
       "  <thead>\n",
       "    <tr style=\"text-align: right;\">\n",
       "      <th>OWNCHAR_LABEL</th>\n",
       "      <th>NAICS2017_LABEL</th>\n",
       "      <th>Balance work and family</th>\n",
       "      <th>Best avenue for ideas</th>\n",
       "      <th>Carry on family business</th>\n",
       "      <th>Couldn't find a job</th>\n",
       "      <th>Flexible hours</th>\n",
       "      <th>Friend or family role model</th>\n",
       "      <th>Greater income</th>\n",
       "      <th>Help my community</th>\n",
       "      <th>Other</th>\n",
       "      <th>Start my own business</th>\n",
       "      <th>Wanted to be my own boss</th>\n",
       "      <th>Work for self</th>\n",
       "    </tr>\n",
       "  </thead>\n",
       "  <tbody>\n",
       "    <tr>\n",
       "      <th>0</th>\n",
       "      <td>Accommodation and food services</td>\n",
       "      <td>189302</td>\n",
       "      <td>176850</td>\n",
       "      <td>86454</td>\n",
       "      <td>42601</td>\n",
       "      <td>179016</td>\n",
       "      <td>123323</td>\n",
       "      <td>217657</td>\n",
       "      <td>106602</td>\n",
       "      <td>37342</td>\n",
       "      <td>186227</td>\n",
       "      <td>217539</td>\n",
       "      <td>118796</td>\n",
       "    </tr>\n",
       "    <tr>\n",
       "      <th>1</th>\n",
       "      <td>Administrative and support and waste managemen...</td>\n",
       "      <td>145728</td>\n",
       "      <td>130290</td>\n",
       "      <td>37625</td>\n",
       "      <td>18578</td>\n",
       "      <td>139506</td>\n",
       "      <td>68044</td>\n",
       "      <td>158977</td>\n",
       "      <td>52441</td>\n",
       "      <td>23060</td>\n",
       "      <td>116772</td>\n",
       "      <td>157823</td>\n",
       "      <td>82224</td>\n",
       "    </tr>\n",
       "    <tr>\n",
       "      <th>2</th>\n",
       "      <td>Agriculture, forestry, fishing and hunting</td>\n",
       "      <td>9549</td>\n",
       "      <td>9012</td>\n",
       "      <td>5589</td>\n",
       "      <td>991</td>\n",
       "      <td>8791</td>\n",
       "      <td>5709</td>\n",
       "      <td>10819</td>\n",
       "      <td>3262</td>\n",
       "      <td>1748</td>\n",
       "      <td>6956</td>\n",
       "      <td>9917</td>\n",
       "      <td>5256</td>\n",
       "    </tr>\n",
       "    <tr>\n",
       "      <th>3</th>\n",
       "      <td>Arts, entertainment, and recreation</td>\n",
       "      <td>37927</td>\n",
       "      <td>41007</td>\n",
       "      <td>10580</td>\n",
       "      <td>4448</td>\n",
       "      <td>40228</td>\n",
       "      <td>18043</td>\n",
       "      <td>40979</td>\n",
       "      <td>18726</td>\n",
       "      <td>8163</td>\n",
       "      <td>29980</td>\n",
       "      <td>43850</td>\n",
       "      <td>22042</td>\n",
       "    </tr>\n",
       "    <tr>\n",
       "      <th>4</th>\n",
       "      <td>Construction</td>\n",
       "      <td>319860</td>\n",
       "      <td>299981</td>\n",
       "      <td>115024</td>\n",
       "      <td>43503</td>\n",
       "      <td>287047</td>\n",
       "      <td>155671</td>\n",
       "      <td>359871</td>\n",
       "      <td>107162</td>\n",
       "      <td>50039</td>\n",
       "      <td>262341</td>\n",
       "      <td>344989</td>\n",
       "      <td>182473</td>\n",
       "    </tr>\n",
       "    <tr>\n",
       "      <th>5</th>\n",
       "      <td>Educational services</td>\n",
       "      <td>25990</td>\n",
       "      <td>29056</td>\n",
       "      <td>5367</td>\n",
       "      <td>2514</td>\n",
       "      <td>25918</td>\n",
       "      <td>11754</td>\n",
       "      <td>24862</td>\n",
       "      <td>17979</td>\n",
       "      <td>6406</td>\n",
       "      <td>19183</td>\n",
       "      <td>27017</td>\n",
       "      <td>13427</td>\n",
       "    </tr>\n",
       "    <tr>\n",
       "      <th>6</th>\n",
       "      <td>Finance and insurance</td>\n",
       "      <td>117429</td>\n",
       "      <td>102820</td>\n",
       "      <td>34104</td>\n",
       "      <td>10641</td>\n",
       "      <td>114029</td>\n",
       "      <td>59328</td>\n",
       "      <td>130943</td>\n",
       "      <td>51233</td>\n",
       "      <td>15902</td>\n",
       "      <td>85086</td>\n",
       "      <td>126131</td>\n",
       "      <td>64195</td>\n",
       "    </tr>\n",
       "    <tr>\n",
       "      <th>7</th>\n",
       "      <td>Health care and social assistance</td>\n",
       "      <td>270468</td>\n",
       "      <td>268191</td>\n",
       "      <td>43766</td>\n",
       "      <td>28336</td>\n",
       "      <td>253464</td>\n",
       "      <td>98386</td>\n",
       "      <td>264840</td>\n",
       "      <td>164329</td>\n",
       "      <td>44659</td>\n",
       "      <td>183470</td>\n",
       "      <td>282117</td>\n",
       "      <td>142675</td>\n",
       "    </tr>\n",
       "    <tr>\n",
       "      <th>8</th>\n",
       "      <td>Industries not classified</td>\n",
       "      <td>5732</td>\n",
       "      <td>4320</td>\n",
       "      <td>5152</td>\n",
       "      <td>765</td>\n",
       "      <td>5042</td>\n",
       "      <td>3530</td>\n",
       "      <td>4405</td>\n",
       "      <td>2062</td>\n",
       "      <td>1030</td>\n",
       "      <td>3951</td>\n",
       "      <td>5696</td>\n",
       "      <td>3018</td>\n",
       "    </tr>\n",
       "    <tr>\n",
       "      <th>9</th>\n",
       "      <td>Information</td>\n",
       "      <td>22646</td>\n",
       "      <td>27101</td>\n",
       "      <td>4702</td>\n",
       "      <td>2443</td>\n",
       "      <td>22995</td>\n",
       "      <td>10714</td>\n",
       "      <td>26899</td>\n",
       "      <td>8866</td>\n",
       "      <td>4635</td>\n",
       "      <td>18075</td>\n",
       "      <td>26970</td>\n",
       "      <td>12698</td>\n",
       "    </tr>\n",
       "    <tr>\n",
       "      <th>10</th>\n",
       "      <td>Management of companies and enterprises</td>\n",
       "      <td>4284</td>\n",
       "      <td>4925</td>\n",
       "      <td>3895</td>\n",
       "      <td>620</td>\n",
       "      <td>3678</td>\n",
       "      <td>3820</td>\n",
       "      <td>6012</td>\n",
       "      <td>2740</td>\n",
       "      <td>759</td>\n",
       "      <td>4214</td>\n",
       "      <td>5710</td>\n",
       "      <td>2725</td>\n",
       "    </tr>\n",
       "    <tr>\n",
       "      <th>11</th>\n",
       "      <td>Manufacturing</td>\n",
       "      <td>88664</td>\n",
       "      <td>92940</td>\n",
       "      <td>50581</td>\n",
       "      <td>11700</td>\n",
       "      <td>80794</td>\n",
       "      <td>53660</td>\n",
       "      <td>105081</td>\n",
       "      <td>33302</td>\n",
       "      <td>15784</td>\n",
       "      <td>74318</td>\n",
       "      <td>102866</td>\n",
       "      <td>53664</td>\n",
       "    </tr>\n",
       "    <tr>\n",
       "      <th>12</th>\n",
       "      <td>Mining, quarrying, and oil and gas extraction</td>\n",
       "      <td>6172</td>\n",
       "      <td>5334</td>\n",
       "      <td>3123</td>\n",
       "      <td>769</td>\n",
       "      <td>4892</td>\n",
       "      <td>3162</td>\n",
       "      <td>7647</td>\n",
       "      <td>1828</td>\n",
       "      <td>773</td>\n",
       "      <td>5047</td>\n",
       "      <td>6328</td>\n",
       "      <td>3532</td>\n",
       "    </tr>\n",
       "    <tr>\n",
       "      <th>13</th>\n",
       "      <td>Other services (except public administration)</td>\n",
       "      <td>147890</td>\n",
       "      <td>139918</td>\n",
       "      <td>48430</td>\n",
       "      <td>21313</td>\n",
       "      <td>135703</td>\n",
       "      <td>72349</td>\n",
       "      <td>159967</td>\n",
       "      <td>63955</td>\n",
       "      <td>26558</td>\n",
       "      <td>130108</td>\n",
       "      <td>164771</td>\n",
       "      <td>85918</td>\n",
       "    </tr>\n",
       "    <tr>\n",
       "      <th>14</th>\n",
       "      <td>Professional, scientific, and technical services</td>\n",
       "      <td>379325</td>\n",
       "      <td>378993</td>\n",
       "      <td>54830</td>\n",
       "      <td>37164</td>\n",
       "      <td>379718</td>\n",
       "      <td>140239</td>\n",
       "      <td>405068</td>\n",
       "      <td>123871</td>\n",
       "      <td>48764</td>\n",
       "      <td>266159</td>\n",
       "      <td>424047</td>\n",
       "      <td>200139</td>\n",
       "    </tr>\n",
       "    <tr>\n",
       "      <th>15</th>\n",
       "      <td>Real estate and rental and leasing</td>\n",
       "      <td>124643</td>\n",
       "      <td>110954</td>\n",
       "      <td>52074</td>\n",
       "      <td>14848</td>\n",
       "      <td>126786</td>\n",
       "      <td>71610</td>\n",
       "      <td>148098</td>\n",
       "      <td>51795</td>\n",
       "      <td>23005</td>\n",
       "      <td>98078</td>\n",
       "      <td>136572</td>\n",
       "      <td>75946</td>\n",
       "    </tr>\n",
       "    <tr>\n",
       "      <th>16</th>\n",
       "      <td>Retail trade</td>\n",
       "      <td>239252</td>\n",
       "      <td>227982</td>\n",
       "      <td>111193</td>\n",
       "      <td>39515</td>\n",
       "      <td>217008</td>\n",
       "      <td>146693</td>\n",
       "      <td>258020</td>\n",
       "      <td>120902</td>\n",
       "      <td>46387</td>\n",
       "      <td>213305</td>\n",
       "      <td>267959</td>\n",
       "      <td>143659</td>\n",
       "    </tr>\n",
       "    <tr>\n",
       "      <th>17</th>\n",
       "      <td>Transportation and warehousing</td>\n",
       "      <td>60457</td>\n",
       "      <td>55670</td>\n",
       "      <td>25816</td>\n",
       "      <td>10177</td>\n",
       "      <td>56507</td>\n",
       "      <td>33386</td>\n",
       "      <td>71609</td>\n",
       "      <td>21695</td>\n",
       "      <td>10091</td>\n",
       "      <td>53086</td>\n",
       "      <td>67425</td>\n",
       "      <td>35851</td>\n",
       "    </tr>\n",
       "    <tr>\n",
       "      <th>18</th>\n",
       "      <td>Utilities</td>\n",
       "      <td>913</td>\n",
       "      <td>786</td>\n",
       "      <td>477</td>\n",
       "      <td>161</td>\n",
       "      <td>889</td>\n",
       "      <td>499</td>\n",
       "      <td>1000</td>\n",
       "      <td>329</td>\n",
       "      <td>169</td>\n",
       "      <td>793</td>\n",
       "      <td>979</td>\n",
       "      <td>590</td>\n",
       "    </tr>\n",
       "    <tr>\n",
       "      <th>19</th>\n",
       "      <td>Wholesale trade</td>\n",
       "      <td>119402</td>\n",
       "      <td>118699</td>\n",
       "      <td>63602</td>\n",
       "      <td>18160</td>\n",
       "      <td>112272</td>\n",
       "      <td>72822</td>\n",
       "      <td>145891</td>\n",
       "      <td>43228</td>\n",
       "      <td>18789</td>\n",
       "      <td>100704</td>\n",
       "      <td>137224</td>\n",
       "      <td>72613</td>\n",
       "    </tr>\n",
       "  </tbody>\n",
       "</table>\n",
       "</div>"
      ],
      "text/plain": [
       "OWNCHAR_LABEL                                    NAICS2017_LABEL  \\\n",
       "0                                Accommodation and food services   \n",
       "1              Administrative and support and waste managemen...   \n",
       "2                     Agriculture, forestry, fishing and hunting   \n",
       "3                            Arts, entertainment, and recreation   \n",
       "4                                                   Construction   \n",
       "5                                           Educational services   \n",
       "6                                          Finance and insurance   \n",
       "7                              Health care and social assistance   \n",
       "8                                      Industries not classified   \n",
       "9                                                    Information   \n",
       "10                       Management of companies and enterprises   \n",
       "11                                                 Manufacturing   \n",
       "12                 Mining, quarrying, and oil and gas extraction   \n",
       "13                 Other services (except public administration)   \n",
       "14              Professional, scientific, and technical services   \n",
       "15                            Real estate and rental and leasing   \n",
       "16                                                  Retail trade   \n",
       "17                                Transportation and warehousing   \n",
       "18                                                     Utilities   \n",
       "19                                               Wholesale trade   \n",
       "\n",
       "OWNCHAR_LABEL  Balance work and family  Best avenue for ideas  \\\n",
       "0                               189302                 176850   \n",
       "1                               145728                 130290   \n",
       "2                                 9549                   9012   \n",
       "3                                37927                  41007   \n",
       "4                               319860                 299981   \n",
       "5                                25990                  29056   \n",
       "6                               117429                 102820   \n",
       "7                               270468                 268191   \n",
       "8                                 5732                   4320   \n",
       "9                                22646                  27101   \n",
       "10                                4284                   4925   \n",
       "11                               88664                  92940   \n",
       "12                                6172                   5334   \n",
       "13                              147890                 139918   \n",
       "14                              379325                 378993   \n",
       "15                              124643                 110954   \n",
       "16                              239252                 227982   \n",
       "17                               60457                  55670   \n",
       "18                                 913                    786   \n",
       "19                              119402                 118699   \n",
       "\n",
       "OWNCHAR_LABEL  Carry on family business  Couldn't find a job  Flexible hours  \\\n",
       "0                                 86454                42601          179016   \n",
       "1                                 37625                18578          139506   \n",
       "2                                  5589                  991            8791   \n",
       "3                                 10580                 4448           40228   \n",
       "4                                115024                43503          287047   \n",
       "5                                  5367                 2514           25918   \n",
       "6                                 34104                10641          114029   \n",
       "7                                 43766                28336          253464   \n",
       "8                                  5152                  765            5042   \n",
       "9                                  4702                 2443           22995   \n",
       "10                                 3895                  620            3678   \n",
       "11                                50581                11700           80794   \n",
       "12                                 3123                  769            4892   \n",
       "13                                48430                21313          135703   \n",
       "14                                54830                37164          379718   \n",
       "15                                52074                14848          126786   \n",
       "16                               111193                39515          217008   \n",
       "17                                25816                10177           56507   \n",
       "18                                  477                  161             889   \n",
       "19                                63602                18160          112272   \n",
       "\n",
       "OWNCHAR_LABEL  Friend or family role model  Greater income  Help my community  \\\n",
       "0                                   123323          217657             106602   \n",
       "1                                    68044          158977              52441   \n",
       "2                                     5709           10819               3262   \n",
       "3                                    18043           40979              18726   \n",
       "4                                   155671          359871             107162   \n",
       "5                                    11754           24862              17979   \n",
       "6                                    59328          130943              51233   \n",
       "7                                    98386          264840             164329   \n",
       "8                                     3530            4405               2062   \n",
       "9                                    10714           26899               8866   \n",
       "10                                    3820            6012               2740   \n",
       "11                                   53660          105081              33302   \n",
       "12                                    3162            7647               1828   \n",
       "13                                   72349          159967              63955   \n",
       "14                                  140239          405068             123871   \n",
       "15                                   71610          148098              51795   \n",
       "16                                  146693          258020             120902   \n",
       "17                                   33386           71609              21695   \n",
       "18                                     499            1000                329   \n",
       "19                                   72822          145891              43228   \n",
       "\n",
       "OWNCHAR_LABEL  Other  Start my own business  Wanted to be my own boss  \\\n",
       "0              37342                 186227                    217539   \n",
       "1              23060                 116772                    157823   \n",
       "2               1748                   6956                      9917   \n",
       "3               8163                  29980                     43850   \n",
       "4              50039                 262341                    344989   \n",
       "5               6406                  19183                     27017   \n",
       "6              15902                  85086                    126131   \n",
       "7              44659                 183470                    282117   \n",
       "8               1030                   3951                      5696   \n",
       "9               4635                  18075                     26970   \n",
       "10               759                   4214                      5710   \n",
       "11             15784                  74318                    102866   \n",
       "12               773                   5047                      6328   \n",
       "13             26558                 130108                    164771   \n",
       "14             48764                 266159                    424047   \n",
       "15             23005                  98078                    136572   \n",
       "16             46387                 213305                    267959   \n",
       "17             10091                  53086                     67425   \n",
       "18               169                    793                       979   \n",
       "19             18789                 100704                    137224   \n",
       "\n",
       "OWNCHAR_LABEL  Work for self  \n",
       "0                     118796  \n",
       "1                      82224  \n",
       "2                       5256  \n",
       "3                      22042  \n",
       "4                     182473  \n",
       "5                      13427  \n",
       "6                      64195  \n",
       "7                     142675  \n",
       "8                       3018  \n",
       "9                      12698  \n",
       "10                      2725  \n",
       "11                     53664  \n",
       "12                      3532  \n",
       "13                     85918  \n",
       "14                    200139  \n",
       "15                     75946  \n",
       "16                    143659  \n",
       "17                     35851  \n",
       "18                       590  \n",
       "19                     72613  "
      ]
     },
     "execution_count": 500,
     "metadata": {},
     "output_type": "execute_result"
    }
   ],
   "source": [
    "#pivot the table so that the index is now the industry name and each of the values that were the reasons to own are now their own column names\n",
    "df=df.pivot(index='NAICS2017_LABEL', columns='OWNCHAR_LABEL',values='OWNPDEMP')\n",
    "df\n",
    "df.reset_index()\n"
   ]
  },
  {
   "cell_type": "code",
   "execution_count": 501,
   "metadata": {},
   "outputs": [
    {
     "name": "stdout",
     "output_type": "stream",
     "text": [
      "<class 'pandas.core.indexes.base.Index'>\n"
     ]
    },
    {
     "data": {
      "application/vnd.plotly.v1+json": {
       "config": {
        "plotlyServerURL": "https://plot.ly"
       },
       "data": [
        {
         "alignmentgroup": "True",
         "hovertemplate": "Reason for owning business=Greater income<br>Industry Name=%{x}<br>Number of Business Owners=%{y}<extra></extra>",
         "legendgroup": "Greater income",
         "marker": {
          "color": "#636efa",
          "pattern": {
           "shape": ""
          }
         },
         "name": "Greater income",
         "offsetgroup": "Greater income",
         "orientation": "v",
         "showlegend": true,
         "textposition": "auto",
         "texttemplate": "%{y:.2s}",
         "type": "bar",
         "x": [
          "Accommodation and food services"
         ],
         "xaxis": "x",
         "y": [
          217657
         ],
         "yaxis": "y"
        },
        {
         "alignmentgroup": "True",
         "hovertemplate": "Reason for owning business=Wanted to be my own boss<br>Industry Name=%{x}<br>Number of Business Owners=%{y}<extra></extra>",
         "legendgroup": "Wanted to be my own boss",
         "marker": {
          "color": "#EF553B",
          "pattern": {
           "shape": ""
          }
         },
         "name": "Wanted to be my own boss",
         "offsetgroup": "Wanted to be my own boss",
         "orientation": "v",
         "showlegend": true,
         "textposition": "auto",
         "texttemplate": "%{y:.2s}",
         "type": "bar",
         "x": [
          "Accommodation and food services"
         ],
         "xaxis": "x",
         "y": [
          217539
         ],
         "yaxis": "y"
        },
        {
         "alignmentgroup": "True",
         "hovertemplate": "Reason for owning business=Balance work and family<br>Industry Name=%{x}<br>Number of Business Owners=%{y}<extra></extra>",
         "legendgroup": "Balance work and family",
         "marker": {
          "color": "#00cc96",
          "pattern": {
           "shape": ""
          }
         },
         "name": "Balance work and family",
         "offsetgroup": "Balance work and family",
         "orientation": "v",
         "showlegend": true,
         "textposition": "auto",
         "texttemplate": "%{y:.2s}",
         "type": "bar",
         "x": [
          "Accommodation and food services"
         ],
         "xaxis": "x",
         "y": [
          189302
         ],
         "yaxis": "y"
        },
        {
         "alignmentgroup": "True",
         "hovertemplate": "Reason for owning business=Start my own business<br>Industry Name=%{x}<br>Number of Business Owners=%{y}<extra></extra>",
         "legendgroup": "Start my own business",
         "marker": {
          "color": "#ab63fa",
          "pattern": {
           "shape": ""
          }
         },
         "name": "Start my own business",
         "offsetgroup": "Start my own business",
         "orientation": "v",
         "showlegend": true,
         "textposition": "auto",
         "texttemplate": "%{y:.2s}",
         "type": "bar",
         "x": [
          "Accommodation and food services"
         ],
         "xaxis": "x",
         "y": [
          186227
         ],
         "yaxis": "y"
        },
        {
         "alignmentgroup": "True",
         "hovertemplate": "Reason for owning business=Flexible hours<br>Industry Name=%{x}<br>Number of Business Owners=%{y}<extra></extra>",
         "legendgroup": "Flexible hours",
         "marker": {
          "color": "#FFA15A",
          "pattern": {
           "shape": ""
          }
         },
         "name": "Flexible hours",
         "offsetgroup": "Flexible hours",
         "orientation": "v",
         "showlegend": true,
         "textposition": "auto",
         "texttemplate": "%{y:.2s}",
         "type": "bar",
         "x": [
          "Accommodation and food services"
         ],
         "xaxis": "x",
         "y": [
          179016
         ],
         "yaxis": "y"
        },
        {
         "alignmentgroup": "True",
         "hovertemplate": "Reason for owning business=Best avenue for ideas<br>Industry Name=%{x}<br>Number of Business Owners=%{y}<extra></extra>",
         "legendgroup": "Best avenue for ideas",
         "marker": {
          "color": "#19d3f3",
          "pattern": {
           "shape": ""
          }
         },
         "name": "Best avenue for ideas",
         "offsetgroup": "Best avenue for ideas",
         "orientation": "v",
         "showlegend": true,
         "textposition": "auto",
         "texttemplate": "%{y:.2s}",
         "type": "bar",
         "x": [
          "Accommodation and food services"
         ],
         "xaxis": "x",
         "y": [
          176850
         ],
         "yaxis": "y"
        },
        {
         "alignmentgroup": "True",
         "hovertemplate": "Reason for owning business=Friend or family role model<br>Industry Name=%{x}<br>Number of Business Owners=%{y}<extra></extra>",
         "legendgroup": "Friend or family role model",
         "marker": {
          "color": "#FF6692",
          "pattern": {
           "shape": ""
          }
         },
         "name": "Friend or family role model",
         "offsetgroup": "Friend or family role model",
         "orientation": "v",
         "showlegend": true,
         "textposition": "auto",
         "texttemplate": "%{y:.2s}",
         "type": "bar",
         "x": [
          "Accommodation and food services"
         ],
         "xaxis": "x",
         "y": [
          123323
         ],
         "yaxis": "y"
        },
        {
         "alignmentgroup": "True",
         "hovertemplate": "Reason for owning business=Work for self<br>Industry Name=%{x}<br>Number of Business Owners=%{y}<extra></extra>",
         "legendgroup": "Work for self",
         "marker": {
          "color": "#B6E880",
          "pattern": {
           "shape": ""
          }
         },
         "name": "Work for self",
         "offsetgroup": "Work for self",
         "orientation": "v",
         "showlegend": true,
         "textposition": "auto",
         "texttemplate": "%{y:.2s}",
         "type": "bar",
         "x": [
          "Accommodation and food services"
         ],
         "xaxis": "x",
         "y": [
          118796
         ],
         "yaxis": "y"
        },
        {
         "alignmentgroup": "True",
         "hovertemplate": "Reason for owning business=Help my community<br>Industry Name=%{x}<br>Number of Business Owners=%{y}<extra></extra>",
         "legendgroup": "Help my community",
         "marker": {
          "color": "#FF97FF",
          "pattern": {
           "shape": ""
          }
         },
         "name": "Help my community",
         "offsetgroup": "Help my community",
         "orientation": "v",
         "showlegend": true,
         "textposition": "auto",
         "texttemplate": "%{y:.2s}",
         "type": "bar",
         "x": [
          "Accommodation and food services"
         ],
         "xaxis": "x",
         "y": [
          106602
         ],
         "yaxis": "y"
        },
        {
         "alignmentgroup": "True",
         "hovertemplate": "Reason for owning business=Carry on family business<br>Industry Name=%{x}<br>Number of Business Owners=%{y}<extra></extra>",
         "legendgroup": "Carry on family business",
         "marker": {
          "color": "#FECB52",
          "pattern": {
           "shape": ""
          }
         },
         "name": "Carry on family business",
         "offsetgroup": "Carry on family business",
         "orientation": "v",
         "showlegend": true,
         "textposition": "auto",
         "texttemplate": "%{y:.2s}",
         "type": "bar",
         "x": [
          "Accommodation and food services"
         ],
         "xaxis": "x",
         "y": [
          86454
         ],
         "yaxis": "y"
        },
        {
         "alignmentgroup": "True",
         "hovertemplate": "Reason for owning business=Couldn't find a job<br>Industry Name=%{x}<br>Number of Business Owners=%{y}<extra></extra>",
         "legendgroup": "Couldn't find a job",
         "marker": {
          "color": "#636efa",
          "pattern": {
           "shape": ""
          }
         },
         "name": "Couldn't find a job",
         "offsetgroup": "Couldn't find a job",
         "orientation": "v",
         "showlegend": true,
         "textposition": "auto",
         "texttemplate": "%{y:.2s}",
         "type": "bar",
         "x": [
          "Accommodation and food services"
         ],
         "xaxis": "x",
         "y": [
          42601
         ],
         "yaxis": "y"
        },
        {
         "alignmentgroup": "True",
         "hovertemplate": "Reason for owning business=Other<br>Industry Name=%{x}<br>Number of Business Owners=%{y}<extra></extra>",
         "legendgroup": "Other",
         "marker": {
          "color": "#EF553B",
          "pattern": {
           "shape": ""
          }
         },
         "name": "Other",
         "offsetgroup": "Other",
         "orientation": "v",
         "showlegend": true,
         "textposition": "auto",
         "texttemplate": "%{y:.2s}",
         "type": "bar",
         "x": [
          "Accommodation and food services"
         ],
         "xaxis": "x",
         "y": [
          37342
         ],
         "yaxis": "y"
        }
       ],
       "layout": {
        "barmode": "group",
        "legend": {
         "title": {
          "text": "Reason for owning business"
         },
         "tracegroupgap": 0
        },
        "template": {
         "data": {
          "bar": [
           {
            "error_x": {
             "color": "#2a3f5f"
            },
            "error_y": {
             "color": "#2a3f5f"
            },
            "marker": {
             "line": {
              "color": "#E5ECF6",
              "width": 0.5
             },
             "pattern": {
              "fillmode": "overlay",
              "size": 10,
              "solidity": 0.2
             }
            },
            "type": "bar"
           }
          ],
          "barpolar": [
           {
            "marker": {
             "line": {
              "color": "#E5ECF6",
              "width": 0.5
             },
             "pattern": {
              "fillmode": "overlay",
              "size": 10,
              "solidity": 0.2
             }
            },
            "type": "barpolar"
           }
          ],
          "carpet": [
           {
            "aaxis": {
             "endlinecolor": "#2a3f5f",
             "gridcolor": "white",
             "linecolor": "white",
             "minorgridcolor": "white",
             "startlinecolor": "#2a3f5f"
            },
            "baxis": {
             "endlinecolor": "#2a3f5f",
             "gridcolor": "white",
             "linecolor": "white",
             "minorgridcolor": "white",
             "startlinecolor": "#2a3f5f"
            },
            "type": "carpet"
           }
          ],
          "choropleth": [
           {
            "colorbar": {
             "outlinewidth": 0,
             "ticks": ""
            },
            "type": "choropleth"
           }
          ],
          "contour": [
           {
            "colorbar": {
             "outlinewidth": 0,
             "ticks": ""
            },
            "colorscale": [
             [
              0,
              "#0d0887"
             ],
             [
              0.1111111111111111,
              "#46039f"
             ],
             [
              0.2222222222222222,
              "#7201a8"
             ],
             [
              0.3333333333333333,
              "#9c179e"
             ],
             [
              0.4444444444444444,
              "#bd3786"
             ],
             [
              0.5555555555555556,
              "#d8576b"
             ],
             [
              0.6666666666666666,
              "#ed7953"
             ],
             [
              0.7777777777777778,
              "#fb9f3a"
             ],
             [
              0.8888888888888888,
              "#fdca26"
             ],
             [
              1,
              "#f0f921"
             ]
            ],
            "type": "contour"
           }
          ],
          "contourcarpet": [
           {
            "colorbar": {
             "outlinewidth": 0,
             "ticks": ""
            },
            "type": "contourcarpet"
           }
          ],
          "heatmap": [
           {
            "colorbar": {
             "outlinewidth": 0,
             "ticks": ""
            },
            "colorscale": [
             [
              0,
              "#0d0887"
             ],
             [
              0.1111111111111111,
              "#46039f"
             ],
             [
              0.2222222222222222,
              "#7201a8"
             ],
             [
              0.3333333333333333,
              "#9c179e"
             ],
             [
              0.4444444444444444,
              "#bd3786"
             ],
             [
              0.5555555555555556,
              "#d8576b"
             ],
             [
              0.6666666666666666,
              "#ed7953"
             ],
             [
              0.7777777777777778,
              "#fb9f3a"
             ],
             [
              0.8888888888888888,
              "#fdca26"
             ],
             [
              1,
              "#f0f921"
             ]
            ],
            "type": "heatmap"
           }
          ],
          "heatmapgl": [
           {
            "colorbar": {
             "outlinewidth": 0,
             "ticks": ""
            },
            "colorscale": [
             [
              0,
              "#0d0887"
             ],
             [
              0.1111111111111111,
              "#46039f"
             ],
             [
              0.2222222222222222,
              "#7201a8"
             ],
             [
              0.3333333333333333,
              "#9c179e"
             ],
             [
              0.4444444444444444,
              "#bd3786"
             ],
             [
              0.5555555555555556,
              "#d8576b"
             ],
             [
              0.6666666666666666,
              "#ed7953"
             ],
             [
              0.7777777777777778,
              "#fb9f3a"
             ],
             [
              0.8888888888888888,
              "#fdca26"
             ],
             [
              1,
              "#f0f921"
             ]
            ],
            "type": "heatmapgl"
           }
          ],
          "histogram": [
           {
            "marker": {
             "pattern": {
              "fillmode": "overlay",
              "size": 10,
              "solidity": 0.2
             }
            },
            "type": "histogram"
           }
          ],
          "histogram2d": [
           {
            "colorbar": {
             "outlinewidth": 0,
             "ticks": ""
            },
            "colorscale": [
             [
              0,
              "#0d0887"
             ],
             [
              0.1111111111111111,
              "#46039f"
             ],
             [
              0.2222222222222222,
              "#7201a8"
             ],
             [
              0.3333333333333333,
              "#9c179e"
             ],
             [
              0.4444444444444444,
              "#bd3786"
             ],
             [
              0.5555555555555556,
              "#d8576b"
             ],
             [
              0.6666666666666666,
              "#ed7953"
             ],
             [
              0.7777777777777778,
              "#fb9f3a"
             ],
             [
              0.8888888888888888,
              "#fdca26"
             ],
             [
              1,
              "#f0f921"
             ]
            ],
            "type": "histogram2d"
           }
          ],
          "histogram2dcontour": [
           {
            "colorbar": {
             "outlinewidth": 0,
             "ticks": ""
            },
            "colorscale": [
             [
              0,
              "#0d0887"
             ],
             [
              0.1111111111111111,
              "#46039f"
             ],
             [
              0.2222222222222222,
              "#7201a8"
             ],
             [
              0.3333333333333333,
              "#9c179e"
             ],
             [
              0.4444444444444444,
              "#bd3786"
             ],
             [
              0.5555555555555556,
              "#d8576b"
             ],
             [
              0.6666666666666666,
              "#ed7953"
             ],
             [
              0.7777777777777778,
              "#fb9f3a"
             ],
             [
              0.8888888888888888,
              "#fdca26"
             ],
             [
              1,
              "#f0f921"
             ]
            ],
            "type": "histogram2dcontour"
           }
          ],
          "mesh3d": [
           {
            "colorbar": {
             "outlinewidth": 0,
             "ticks": ""
            },
            "type": "mesh3d"
           }
          ],
          "parcoords": [
           {
            "line": {
             "colorbar": {
              "outlinewidth": 0,
              "ticks": ""
             }
            },
            "type": "parcoords"
           }
          ],
          "pie": [
           {
            "automargin": true,
            "type": "pie"
           }
          ],
          "scatter": [
           {
            "fillpattern": {
             "fillmode": "overlay",
             "size": 10,
             "solidity": 0.2
            },
            "type": "scatter"
           }
          ],
          "scatter3d": [
           {
            "line": {
             "colorbar": {
              "outlinewidth": 0,
              "ticks": ""
             }
            },
            "marker": {
             "colorbar": {
              "outlinewidth": 0,
              "ticks": ""
             }
            },
            "type": "scatter3d"
           }
          ],
          "scattercarpet": [
           {
            "marker": {
             "colorbar": {
              "outlinewidth": 0,
              "ticks": ""
             }
            },
            "type": "scattercarpet"
           }
          ],
          "scattergeo": [
           {
            "marker": {
             "colorbar": {
              "outlinewidth": 0,
              "ticks": ""
             }
            },
            "type": "scattergeo"
           }
          ],
          "scattergl": [
           {
            "marker": {
             "colorbar": {
              "outlinewidth": 0,
              "ticks": ""
             }
            },
            "type": "scattergl"
           }
          ],
          "scattermapbox": [
           {
            "marker": {
             "colorbar": {
              "outlinewidth": 0,
              "ticks": ""
             }
            },
            "type": "scattermapbox"
           }
          ],
          "scatterpolar": [
           {
            "marker": {
             "colorbar": {
              "outlinewidth": 0,
              "ticks": ""
             }
            },
            "type": "scatterpolar"
           }
          ],
          "scatterpolargl": [
           {
            "marker": {
             "colorbar": {
              "outlinewidth": 0,
              "ticks": ""
             }
            },
            "type": "scatterpolargl"
           }
          ],
          "scatterternary": [
           {
            "marker": {
             "colorbar": {
              "outlinewidth": 0,
              "ticks": ""
             }
            },
            "type": "scatterternary"
           }
          ],
          "surface": [
           {
            "colorbar": {
             "outlinewidth": 0,
             "ticks": ""
            },
            "colorscale": [
             [
              0,
              "#0d0887"
             ],
             [
              0.1111111111111111,
              "#46039f"
             ],
             [
              0.2222222222222222,
              "#7201a8"
             ],
             [
              0.3333333333333333,
              "#9c179e"
             ],
             [
              0.4444444444444444,
              "#bd3786"
             ],
             [
              0.5555555555555556,
              "#d8576b"
             ],
             [
              0.6666666666666666,
              "#ed7953"
             ],
             [
              0.7777777777777778,
              "#fb9f3a"
             ],
             [
              0.8888888888888888,
              "#fdca26"
             ],
             [
              1,
              "#f0f921"
             ]
            ],
            "type": "surface"
           }
          ],
          "table": [
           {
            "cells": {
             "fill": {
              "color": "#EBF0F8"
             },
             "line": {
              "color": "white"
             }
            },
            "header": {
             "fill": {
              "color": "#C8D4E3"
             },
             "line": {
              "color": "white"
             }
            },
            "type": "table"
           }
          ]
         },
         "layout": {
          "annotationdefaults": {
           "arrowcolor": "#2a3f5f",
           "arrowhead": 0,
           "arrowwidth": 1
          },
          "autotypenumbers": "strict",
          "coloraxis": {
           "colorbar": {
            "outlinewidth": 0,
            "ticks": ""
           }
          },
          "colorscale": {
           "diverging": [
            [
             0,
             "#8e0152"
            ],
            [
             0.1,
             "#c51b7d"
            ],
            [
             0.2,
             "#de77ae"
            ],
            [
             0.3,
             "#f1b6da"
            ],
            [
             0.4,
             "#fde0ef"
            ],
            [
             0.5,
             "#f7f7f7"
            ],
            [
             0.6,
             "#e6f5d0"
            ],
            [
             0.7,
             "#b8e186"
            ],
            [
             0.8,
             "#7fbc41"
            ],
            [
             0.9,
             "#4d9221"
            ],
            [
             1,
             "#276419"
            ]
           ],
           "sequential": [
            [
             0,
             "#0d0887"
            ],
            [
             0.1111111111111111,
             "#46039f"
            ],
            [
             0.2222222222222222,
             "#7201a8"
            ],
            [
             0.3333333333333333,
             "#9c179e"
            ],
            [
             0.4444444444444444,
             "#bd3786"
            ],
            [
             0.5555555555555556,
             "#d8576b"
            ],
            [
             0.6666666666666666,
             "#ed7953"
            ],
            [
             0.7777777777777778,
             "#fb9f3a"
            ],
            [
             0.8888888888888888,
             "#fdca26"
            ],
            [
             1,
             "#f0f921"
            ]
           ],
           "sequentialminus": [
            [
             0,
             "#0d0887"
            ],
            [
             0.1111111111111111,
             "#46039f"
            ],
            [
             0.2222222222222222,
             "#7201a8"
            ],
            [
             0.3333333333333333,
             "#9c179e"
            ],
            [
             0.4444444444444444,
             "#bd3786"
            ],
            [
             0.5555555555555556,
             "#d8576b"
            ],
            [
             0.6666666666666666,
             "#ed7953"
            ],
            [
             0.7777777777777778,
             "#fb9f3a"
            ],
            [
             0.8888888888888888,
             "#fdca26"
            ],
            [
             1,
             "#f0f921"
            ]
           ]
          },
          "colorway": [
           "#636efa",
           "#EF553B",
           "#00cc96",
           "#ab63fa",
           "#FFA15A",
           "#19d3f3",
           "#FF6692",
           "#B6E880",
           "#FF97FF",
           "#FECB52"
          ],
          "font": {
           "color": "#2a3f5f"
          },
          "geo": {
           "bgcolor": "white",
           "lakecolor": "white",
           "landcolor": "#E5ECF6",
           "showlakes": true,
           "showland": true,
           "subunitcolor": "white"
          },
          "hoverlabel": {
           "align": "left"
          },
          "hovermode": "closest",
          "mapbox": {
           "style": "light"
          },
          "paper_bgcolor": "white",
          "plot_bgcolor": "#E5ECF6",
          "polar": {
           "angularaxis": {
            "gridcolor": "white",
            "linecolor": "white",
            "ticks": ""
           },
           "bgcolor": "#E5ECF6",
           "radialaxis": {
            "gridcolor": "white",
            "linecolor": "white",
            "ticks": ""
           }
          },
          "scene": {
           "xaxis": {
            "backgroundcolor": "#E5ECF6",
            "gridcolor": "white",
            "gridwidth": 2,
            "linecolor": "white",
            "showbackground": true,
            "ticks": "",
            "zerolinecolor": "white"
           },
           "yaxis": {
            "backgroundcolor": "#E5ECF6",
            "gridcolor": "white",
            "gridwidth": 2,
            "linecolor": "white",
            "showbackground": true,
            "ticks": "",
            "zerolinecolor": "white"
           },
           "zaxis": {
            "backgroundcolor": "#E5ECF6",
            "gridcolor": "white",
            "gridwidth": 2,
            "linecolor": "white",
            "showbackground": true,
            "ticks": "",
            "zerolinecolor": "white"
           }
          },
          "shapedefaults": {
           "line": {
            "color": "#2a3f5f"
           }
          },
          "ternary": {
           "aaxis": {
            "gridcolor": "white",
            "linecolor": "white",
            "ticks": ""
           },
           "baxis": {
            "gridcolor": "white",
            "linecolor": "white",
            "ticks": ""
           },
           "bgcolor": "#E5ECF6",
           "caxis": {
            "gridcolor": "white",
            "linecolor": "white",
            "ticks": ""
           }
          },
          "title": {
           "x": 0.05
          },
          "xaxis": {
           "automargin": true,
           "gridcolor": "white",
           "linecolor": "white",
           "ticks": "",
           "title": {
            "standoff": 15
           },
           "zerolinecolor": "white",
           "zerolinewidth": 2
          },
          "yaxis": {
           "automargin": true,
           "gridcolor": "white",
           "linecolor": "white",
           "ticks": "",
           "title": {
            "standoff": 15
           },
           "zerolinecolor": "white",
           "zerolinewidth": 2
          }
         }
        },
        "title": {
         "text": "Reasons to own business for industry: Accommodation and food services"
        },
        "xaxis": {
         "anchor": "y",
         "domain": [
          0,
          1
         ],
         "title": {
          "text": "Industry Name"
         }
        },
        "yaxis": {
         "anchor": "x",
         "domain": [
          0,
          1
         ],
         "title": {
          "text": "Number of Business Owners"
         }
        }
       }
      }
     },
     "metadata": {},
     "output_type": "display_data"
    },
    {
     "data": {
      "application/vnd.plotly.v1+json": {
       "config": {
        "plotlyServerURL": "https://plot.ly"
       },
       "data": [
        {
         "alignmentgroup": "True",
         "hovertemplate": "Reason for owning business=Greater income<br>Industry Name=%{x}<br>Number of Business Owners=%{y}<extra></extra>",
         "legendgroup": "Greater income",
         "marker": {
          "color": "#636efa",
          "pattern": {
           "shape": ""
          }
         },
         "name": "Greater income",
         "offsetgroup": "Greater income",
         "orientation": "v",
         "showlegend": true,
         "textposition": "auto",
         "texttemplate": "%{y:.2s}",
         "type": "bar",
         "x": [
          "Administrative and support and waste management and remediation services"
         ],
         "xaxis": "x",
         "y": [
          158977
         ],
         "yaxis": "y"
        },
        {
         "alignmentgroup": "True",
         "hovertemplate": "Reason for owning business=Wanted to be my own boss<br>Industry Name=%{x}<br>Number of Business Owners=%{y}<extra></extra>",
         "legendgroup": "Wanted to be my own boss",
         "marker": {
          "color": "#EF553B",
          "pattern": {
           "shape": ""
          }
         },
         "name": "Wanted to be my own boss",
         "offsetgroup": "Wanted to be my own boss",
         "orientation": "v",
         "showlegend": true,
         "textposition": "auto",
         "texttemplate": "%{y:.2s}",
         "type": "bar",
         "x": [
          "Administrative and support and waste management and remediation services"
         ],
         "xaxis": "x",
         "y": [
          157823
         ],
         "yaxis": "y"
        },
        {
         "alignmentgroup": "True",
         "hovertemplate": "Reason for owning business=Balance work and family<br>Industry Name=%{x}<br>Number of Business Owners=%{y}<extra></extra>",
         "legendgroup": "Balance work and family",
         "marker": {
          "color": "#00cc96",
          "pattern": {
           "shape": ""
          }
         },
         "name": "Balance work and family",
         "offsetgroup": "Balance work and family",
         "orientation": "v",
         "showlegend": true,
         "textposition": "auto",
         "texttemplate": "%{y:.2s}",
         "type": "bar",
         "x": [
          "Administrative and support and waste management and remediation services"
         ],
         "xaxis": "x",
         "y": [
          145728
         ],
         "yaxis": "y"
        },
        {
         "alignmentgroup": "True",
         "hovertemplate": "Reason for owning business=Flexible hours<br>Industry Name=%{x}<br>Number of Business Owners=%{y}<extra></extra>",
         "legendgroup": "Flexible hours",
         "marker": {
          "color": "#ab63fa",
          "pattern": {
           "shape": ""
          }
         },
         "name": "Flexible hours",
         "offsetgroup": "Flexible hours",
         "orientation": "v",
         "showlegend": true,
         "textposition": "auto",
         "texttemplate": "%{y:.2s}",
         "type": "bar",
         "x": [
          "Administrative and support and waste management and remediation services"
         ],
         "xaxis": "x",
         "y": [
          139506
         ],
         "yaxis": "y"
        },
        {
         "alignmentgroup": "True",
         "hovertemplate": "Reason for owning business=Best avenue for ideas<br>Industry Name=%{x}<br>Number of Business Owners=%{y}<extra></extra>",
         "legendgroup": "Best avenue for ideas",
         "marker": {
          "color": "#FFA15A",
          "pattern": {
           "shape": ""
          }
         },
         "name": "Best avenue for ideas",
         "offsetgroup": "Best avenue for ideas",
         "orientation": "v",
         "showlegend": true,
         "textposition": "auto",
         "texttemplate": "%{y:.2s}",
         "type": "bar",
         "x": [
          "Administrative and support and waste management and remediation services"
         ],
         "xaxis": "x",
         "y": [
          130290
         ],
         "yaxis": "y"
        },
        {
         "alignmentgroup": "True",
         "hovertemplate": "Reason for owning business=Start my own business<br>Industry Name=%{x}<br>Number of Business Owners=%{y}<extra></extra>",
         "legendgroup": "Start my own business",
         "marker": {
          "color": "#19d3f3",
          "pattern": {
           "shape": ""
          }
         },
         "name": "Start my own business",
         "offsetgroup": "Start my own business",
         "orientation": "v",
         "showlegend": true,
         "textposition": "auto",
         "texttemplate": "%{y:.2s}",
         "type": "bar",
         "x": [
          "Administrative and support and waste management and remediation services"
         ],
         "xaxis": "x",
         "y": [
          116772
         ],
         "yaxis": "y"
        },
        {
         "alignmentgroup": "True",
         "hovertemplate": "Reason for owning business=Work for self<br>Industry Name=%{x}<br>Number of Business Owners=%{y}<extra></extra>",
         "legendgroup": "Work for self",
         "marker": {
          "color": "#FF6692",
          "pattern": {
           "shape": ""
          }
         },
         "name": "Work for self",
         "offsetgroup": "Work for self",
         "orientation": "v",
         "showlegend": true,
         "textposition": "auto",
         "texttemplate": "%{y:.2s}",
         "type": "bar",
         "x": [
          "Administrative and support and waste management and remediation services"
         ],
         "xaxis": "x",
         "y": [
          82224
         ],
         "yaxis": "y"
        },
        {
         "alignmentgroup": "True",
         "hovertemplate": "Reason for owning business=Friend or family role model<br>Industry Name=%{x}<br>Number of Business Owners=%{y}<extra></extra>",
         "legendgroup": "Friend or family role model",
         "marker": {
          "color": "#B6E880",
          "pattern": {
           "shape": ""
          }
         },
         "name": "Friend or family role model",
         "offsetgroup": "Friend or family role model",
         "orientation": "v",
         "showlegend": true,
         "textposition": "auto",
         "texttemplate": "%{y:.2s}",
         "type": "bar",
         "x": [
          "Administrative and support and waste management and remediation services"
         ],
         "xaxis": "x",
         "y": [
          68044
         ],
         "yaxis": "y"
        },
        {
         "alignmentgroup": "True",
         "hovertemplate": "Reason for owning business=Help my community<br>Industry Name=%{x}<br>Number of Business Owners=%{y}<extra></extra>",
         "legendgroup": "Help my community",
         "marker": {
          "color": "#FF97FF",
          "pattern": {
           "shape": ""
          }
         },
         "name": "Help my community",
         "offsetgroup": "Help my community",
         "orientation": "v",
         "showlegend": true,
         "textposition": "auto",
         "texttemplate": "%{y:.2s}",
         "type": "bar",
         "x": [
          "Administrative and support and waste management and remediation services"
         ],
         "xaxis": "x",
         "y": [
          52441
         ],
         "yaxis": "y"
        },
        {
         "alignmentgroup": "True",
         "hovertemplate": "Reason for owning business=Carry on family business<br>Industry Name=%{x}<br>Number of Business Owners=%{y}<extra></extra>",
         "legendgroup": "Carry on family business",
         "marker": {
          "color": "#FECB52",
          "pattern": {
           "shape": ""
          }
         },
         "name": "Carry on family business",
         "offsetgroup": "Carry on family business",
         "orientation": "v",
         "showlegend": true,
         "textposition": "auto",
         "texttemplate": "%{y:.2s}",
         "type": "bar",
         "x": [
          "Administrative and support and waste management and remediation services"
         ],
         "xaxis": "x",
         "y": [
          37625
         ],
         "yaxis": "y"
        },
        {
         "alignmentgroup": "True",
         "hovertemplate": "Reason for owning business=Other<br>Industry Name=%{x}<br>Number of Business Owners=%{y}<extra></extra>",
         "legendgroup": "Other",
         "marker": {
          "color": "#636efa",
          "pattern": {
           "shape": ""
          }
         },
         "name": "Other",
         "offsetgroup": "Other",
         "orientation": "v",
         "showlegend": true,
         "textposition": "auto",
         "texttemplate": "%{y:.2s}",
         "type": "bar",
         "x": [
          "Administrative and support and waste management and remediation services"
         ],
         "xaxis": "x",
         "y": [
          23060
         ],
         "yaxis": "y"
        },
        {
         "alignmentgroup": "True",
         "hovertemplate": "Reason for owning business=Couldn't find a job<br>Industry Name=%{x}<br>Number of Business Owners=%{y}<extra></extra>",
         "legendgroup": "Couldn't find a job",
         "marker": {
          "color": "#EF553B",
          "pattern": {
           "shape": ""
          }
         },
         "name": "Couldn't find a job",
         "offsetgroup": "Couldn't find a job",
         "orientation": "v",
         "showlegend": true,
         "textposition": "auto",
         "texttemplate": "%{y:.2s}",
         "type": "bar",
         "x": [
          "Administrative and support and waste management and remediation services"
         ],
         "xaxis": "x",
         "y": [
          18578
         ],
         "yaxis": "y"
        }
       ],
       "layout": {
        "barmode": "group",
        "legend": {
         "title": {
          "text": "Reason for owning business"
         },
         "tracegroupgap": 0
        },
        "template": {
         "data": {
          "bar": [
           {
            "error_x": {
             "color": "#2a3f5f"
            },
            "error_y": {
             "color": "#2a3f5f"
            },
            "marker": {
             "line": {
              "color": "#E5ECF6",
              "width": 0.5
             },
             "pattern": {
              "fillmode": "overlay",
              "size": 10,
              "solidity": 0.2
             }
            },
            "type": "bar"
           }
          ],
          "barpolar": [
           {
            "marker": {
             "line": {
              "color": "#E5ECF6",
              "width": 0.5
             },
             "pattern": {
              "fillmode": "overlay",
              "size": 10,
              "solidity": 0.2
             }
            },
            "type": "barpolar"
           }
          ],
          "carpet": [
           {
            "aaxis": {
             "endlinecolor": "#2a3f5f",
             "gridcolor": "white",
             "linecolor": "white",
             "minorgridcolor": "white",
             "startlinecolor": "#2a3f5f"
            },
            "baxis": {
             "endlinecolor": "#2a3f5f",
             "gridcolor": "white",
             "linecolor": "white",
             "minorgridcolor": "white",
             "startlinecolor": "#2a3f5f"
            },
            "type": "carpet"
           }
          ],
          "choropleth": [
           {
            "colorbar": {
             "outlinewidth": 0,
             "ticks": ""
            },
            "type": "choropleth"
           }
          ],
          "contour": [
           {
            "colorbar": {
             "outlinewidth": 0,
             "ticks": ""
            },
            "colorscale": [
             [
              0,
              "#0d0887"
             ],
             [
              0.1111111111111111,
              "#46039f"
             ],
             [
              0.2222222222222222,
              "#7201a8"
             ],
             [
              0.3333333333333333,
              "#9c179e"
             ],
             [
              0.4444444444444444,
              "#bd3786"
             ],
             [
              0.5555555555555556,
              "#d8576b"
             ],
             [
              0.6666666666666666,
              "#ed7953"
             ],
             [
              0.7777777777777778,
              "#fb9f3a"
             ],
             [
              0.8888888888888888,
              "#fdca26"
             ],
             [
              1,
              "#f0f921"
             ]
            ],
            "type": "contour"
           }
          ],
          "contourcarpet": [
           {
            "colorbar": {
             "outlinewidth": 0,
             "ticks": ""
            },
            "type": "contourcarpet"
           }
          ],
          "heatmap": [
           {
            "colorbar": {
             "outlinewidth": 0,
             "ticks": ""
            },
            "colorscale": [
             [
              0,
              "#0d0887"
             ],
             [
              0.1111111111111111,
              "#46039f"
             ],
             [
              0.2222222222222222,
              "#7201a8"
             ],
             [
              0.3333333333333333,
              "#9c179e"
             ],
             [
              0.4444444444444444,
              "#bd3786"
             ],
             [
              0.5555555555555556,
              "#d8576b"
             ],
             [
              0.6666666666666666,
              "#ed7953"
             ],
             [
              0.7777777777777778,
              "#fb9f3a"
             ],
             [
              0.8888888888888888,
              "#fdca26"
             ],
             [
              1,
              "#f0f921"
             ]
            ],
            "type": "heatmap"
           }
          ],
          "heatmapgl": [
           {
            "colorbar": {
             "outlinewidth": 0,
             "ticks": ""
            },
            "colorscale": [
             [
              0,
              "#0d0887"
             ],
             [
              0.1111111111111111,
              "#46039f"
             ],
             [
              0.2222222222222222,
              "#7201a8"
             ],
             [
              0.3333333333333333,
              "#9c179e"
             ],
             [
              0.4444444444444444,
              "#bd3786"
             ],
             [
              0.5555555555555556,
              "#d8576b"
             ],
             [
              0.6666666666666666,
              "#ed7953"
             ],
             [
              0.7777777777777778,
              "#fb9f3a"
             ],
             [
              0.8888888888888888,
              "#fdca26"
             ],
             [
              1,
              "#f0f921"
             ]
            ],
            "type": "heatmapgl"
           }
          ],
          "histogram": [
           {
            "marker": {
             "pattern": {
              "fillmode": "overlay",
              "size": 10,
              "solidity": 0.2
             }
            },
            "type": "histogram"
           }
          ],
          "histogram2d": [
           {
            "colorbar": {
             "outlinewidth": 0,
             "ticks": ""
            },
            "colorscale": [
             [
              0,
              "#0d0887"
             ],
             [
              0.1111111111111111,
              "#46039f"
             ],
             [
              0.2222222222222222,
              "#7201a8"
             ],
             [
              0.3333333333333333,
              "#9c179e"
             ],
             [
              0.4444444444444444,
              "#bd3786"
             ],
             [
              0.5555555555555556,
              "#d8576b"
             ],
             [
              0.6666666666666666,
              "#ed7953"
             ],
             [
              0.7777777777777778,
              "#fb9f3a"
             ],
             [
              0.8888888888888888,
              "#fdca26"
             ],
             [
              1,
              "#f0f921"
             ]
            ],
            "type": "histogram2d"
           }
          ],
          "histogram2dcontour": [
           {
            "colorbar": {
             "outlinewidth": 0,
             "ticks": ""
            },
            "colorscale": [
             [
              0,
              "#0d0887"
             ],
             [
              0.1111111111111111,
              "#46039f"
             ],
             [
              0.2222222222222222,
              "#7201a8"
             ],
             [
              0.3333333333333333,
              "#9c179e"
             ],
             [
              0.4444444444444444,
              "#bd3786"
             ],
             [
              0.5555555555555556,
              "#d8576b"
             ],
             [
              0.6666666666666666,
              "#ed7953"
             ],
             [
              0.7777777777777778,
              "#fb9f3a"
             ],
             [
              0.8888888888888888,
              "#fdca26"
             ],
             [
              1,
              "#f0f921"
             ]
            ],
            "type": "histogram2dcontour"
           }
          ],
          "mesh3d": [
           {
            "colorbar": {
             "outlinewidth": 0,
             "ticks": ""
            },
            "type": "mesh3d"
           }
          ],
          "parcoords": [
           {
            "line": {
             "colorbar": {
              "outlinewidth": 0,
              "ticks": ""
             }
            },
            "type": "parcoords"
           }
          ],
          "pie": [
           {
            "automargin": true,
            "type": "pie"
           }
          ],
          "scatter": [
           {
            "fillpattern": {
             "fillmode": "overlay",
             "size": 10,
             "solidity": 0.2
            },
            "type": "scatter"
           }
          ],
          "scatter3d": [
           {
            "line": {
             "colorbar": {
              "outlinewidth": 0,
              "ticks": ""
             }
            },
            "marker": {
             "colorbar": {
              "outlinewidth": 0,
              "ticks": ""
             }
            },
            "type": "scatter3d"
           }
          ],
          "scattercarpet": [
           {
            "marker": {
             "colorbar": {
              "outlinewidth": 0,
              "ticks": ""
             }
            },
            "type": "scattercarpet"
           }
          ],
          "scattergeo": [
           {
            "marker": {
             "colorbar": {
              "outlinewidth": 0,
              "ticks": ""
             }
            },
            "type": "scattergeo"
           }
          ],
          "scattergl": [
           {
            "marker": {
             "colorbar": {
              "outlinewidth": 0,
              "ticks": ""
             }
            },
            "type": "scattergl"
           }
          ],
          "scattermapbox": [
           {
            "marker": {
             "colorbar": {
              "outlinewidth": 0,
              "ticks": ""
             }
            },
            "type": "scattermapbox"
           }
          ],
          "scatterpolar": [
           {
            "marker": {
             "colorbar": {
              "outlinewidth": 0,
              "ticks": ""
             }
            },
            "type": "scatterpolar"
           }
          ],
          "scatterpolargl": [
           {
            "marker": {
             "colorbar": {
              "outlinewidth": 0,
              "ticks": ""
             }
            },
            "type": "scatterpolargl"
           }
          ],
          "scatterternary": [
           {
            "marker": {
             "colorbar": {
              "outlinewidth": 0,
              "ticks": ""
             }
            },
            "type": "scatterternary"
           }
          ],
          "surface": [
           {
            "colorbar": {
             "outlinewidth": 0,
             "ticks": ""
            },
            "colorscale": [
             [
              0,
              "#0d0887"
             ],
             [
              0.1111111111111111,
              "#46039f"
             ],
             [
              0.2222222222222222,
              "#7201a8"
             ],
             [
              0.3333333333333333,
              "#9c179e"
             ],
             [
              0.4444444444444444,
              "#bd3786"
             ],
             [
              0.5555555555555556,
              "#d8576b"
             ],
             [
              0.6666666666666666,
              "#ed7953"
             ],
             [
              0.7777777777777778,
              "#fb9f3a"
             ],
             [
              0.8888888888888888,
              "#fdca26"
             ],
             [
              1,
              "#f0f921"
             ]
            ],
            "type": "surface"
           }
          ],
          "table": [
           {
            "cells": {
             "fill": {
              "color": "#EBF0F8"
             },
             "line": {
              "color": "white"
             }
            },
            "header": {
             "fill": {
              "color": "#C8D4E3"
             },
             "line": {
              "color": "white"
             }
            },
            "type": "table"
           }
          ]
         },
         "layout": {
          "annotationdefaults": {
           "arrowcolor": "#2a3f5f",
           "arrowhead": 0,
           "arrowwidth": 1
          },
          "autotypenumbers": "strict",
          "coloraxis": {
           "colorbar": {
            "outlinewidth": 0,
            "ticks": ""
           }
          },
          "colorscale": {
           "diverging": [
            [
             0,
             "#8e0152"
            ],
            [
             0.1,
             "#c51b7d"
            ],
            [
             0.2,
             "#de77ae"
            ],
            [
             0.3,
             "#f1b6da"
            ],
            [
             0.4,
             "#fde0ef"
            ],
            [
             0.5,
             "#f7f7f7"
            ],
            [
             0.6,
             "#e6f5d0"
            ],
            [
             0.7,
             "#b8e186"
            ],
            [
             0.8,
             "#7fbc41"
            ],
            [
             0.9,
             "#4d9221"
            ],
            [
             1,
             "#276419"
            ]
           ],
           "sequential": [
            [
             0,
             "#0d0887"
            ],
            [
             0.1111111111111111,
             "#46039f"
            ],
            [
             0.2222222222222222,
             "#7201a8"
            ],
            [
             0.3333333333333333,
             "#9c179e"
            ],
            [
             0.4444444444444444,
             "#bd3786"
            ],
            [
             0.5555555555555556,
             "#d8576b"
            ],
            [
             0.6666666666666666,
             "#ed7953"
            ],
            [
             0.7777777777777778,
             "#fb9f3a"
            ],
            [
             0.8888888888888888,
             "#fdca26"
            ],
            [
             1,
             "#f0f921"
            ]
           ],
           "sequentialminus": [
            [
             0,
             "#0d0887"
            ],
            [
             0.1111111111111111,
             "#46039f"
            ],
            [
             0.2222222222222222,
             "#7201a8"
            ],
            [
             0.3333333333333333,
             "#9c179e"
            ],
            [
             0.4444444444444444,
             "#bd3786"
            ],
            [
             0.5555555555555556,
             "#d8576b"
            ],
            [
             0.6666666666666666,
             "#ed7953"
            ],
            [
             0.7777777777777778,
             "#fb9f3a"
            ],
            [
             0.8888888888888888,
             "#fdca26"
            ],
            [
             1,
             "#f0f921"
            ]
           ]
          },
          "colorway": [
           "#636efa",
           "#EF553B",
           "#00cc96",
           "#ab63fa",
           "#FFA15A",
           "#19d3f3",
           "#FF6692",
           "#B6E880",
           "#FF97FF",
           "#FECB52"
          ],
          "font": {
           "color": "#2a3f5f"
          },
          "geo": {
           "bgcolor": "white",
           "lakecolor": "white",
           "landcolor": "#E5ECF6",
           "showlakes": true,
           "showland": true,
           "subunitcolor": "white"
          },
          "hoverlabel": {
           "align": "left"
          },
          "hovermode": "closest",
          "mapbox": {
           "style": "light"
          },
          "paper_bgcolor": "white",
          "plot_bgcolor": "#E5ECF6",
          "polar": {
           "angularaxis": {
            "gridcolor": "white",
            "linecolor": "white",
            "ticks": ""
           },
           "bgcolor": "#E5ECF6",
           "radialaxis": {
            "gridcolor": "white",
            "linecolor": "white",
            "ticks": ""
           }
          },
          "scene": {
           "xaxis": {
            "backgroundcolor": "#E5ECF6",
            "gridcolor": "white",
            "gridwidth": 2,
            "linecolor": "white",
            "showbackground": true,
            "ticks": "",
            "zerolinecolor": "white"
           },
           "yaxis": {
            "backgroundcolor": "#E5ECF6",
            "gridcolor": "white",
            "gridwidth": 2,
            "linecolor": "white",
            "showbackground": true,
            "ticks": "",
            "zerolinecolor": "white"
           },
           "zaxis": {
            "backgroundcolor": "#E5ECF6",
            "gridcolor": "white",
            "gridwidth": 2,
            "linecolor": "white",
            "showbackground": true,
            "ticks": "",
            "zerolinecolor": "white"
           }
          },
          "shapedefaults": {
           "line": {
            "color": "#2a3f5f"
           }
          },
          "ternary": {
           "aaxis": {
            "gridcolor": "white",
            "linecolor": "white",
            "ticks": ""
           },
           "baxis": {
            "gridcolor": "white",
            "linecolor": "white",
            "ticks": ""
           },
           "bgcolor": "#E5ECF6",
           "caxis": {
            "gridcolor": "white",
            "linecolor": "white",
            "ticks": ""
           }
          },
          "title": {
           "x": 0.05
          },
          "xaxis": {
           "automargin": true,
           "gridcolor": "white",
           "linecolor": "white",
           "ticks": "",
           "title": {
            "standoff": 15
           },
           "zerolinecolor": "white",
           "zerolinewidth": 2
          },
          "yaxis": {
           "automargin": true,
           "gridcolor": "white",
           "linecolor": "white",
           "ticks": "",
           "title": {
            "standoff": 15
           },
           "zerolinecolor": "white",
           "zerolinewidth": 2
          }
         }
        },
        "title": {
         "text": "Reasons to own business for industry: Administrative and support and waste management and remediation services"
        },
        "xaxis": {
         "anchor": "y",
         "domain": [
          0,
          1
         ],
         "title": {
          "text": "Industry Name"
         }
        },
        "yaxis": {
         "anchor": "x",
         "domain": [
          0,
          1
         ],
         "title": {
          "text": "Number of Business Owners"
         }
        }
       }
      }
     },
     "metadata": {},
     "output_type": "display_data"
    },
    {
     "data": {
      "application/vnd.plotly.v1+json": {
       "config": {
        "plotlyServerURL": "https://plot.ly"
       },
       "data": [
        {
         "alignmentgroup": "True",
         "hovertemplate": "Reason for owning business=Greater income<br>Industry Name=%{x}<br>Number of Business Owners=%{y}<extra></extra>",
         "legendgroup": "Greater income",
         "marker": {
          "color": "#636efa",
          "pattern": {
           "shape": ""
          }
         },
         "name": "Greater income",
         "offsetgroup": "Greater income",
         "orientation": "v",
         "showlegend": true,
         "textposition": "auto",
         "texttemplate": "%{y:.2s}",
         "type": "bar",
         "x": [
          "Agriculture, forestry, fishing and hunting"
         ],
         "xaxis": "x",
         "y": [
          10819
         ],
         "yaxis": "y"
        },
        {
         "alignmentgroup": "True",
         "hovertemplate": "Reason for owning business=Wanted to be my own boss<br>Industry Name=%{x}<br>Number of Business Owners=%{y}<extra></extra>",
         "legendgroup": "Wanted to be my own boss",
         "marker": {
          "color": "#EF553B",
          "pattern": {
           "shape": ""
          }
         },
         "name": "Wanted to be my own boss",
         "offsetgroup": "Wanted to be my own boss",
         "orientation": "v",
         "showlegend": true,
         "textposition": "auto",
         "texttemplate": "%{y:.2s}",
         "type": "bar",
         "x": [
          "Agriculture, forestry, fishing and hunting"
         ],
         "xaxis": "x",
         "y": [
          9917
         ],
         "yaxis": "y"
        },
        {
         "alignmentgroup": "True",
         "hovertemplate": "Reason for owning business=Balance work and family<br>Industry Name=%{x}<br>Number of Business Owners=%{y}<extra></extra>",
         "legendgroup": "Balance work and family",
         "marker": {
          "color": "#00cc96",
          "pattern": {
           "shape": ""
          }
         },
         "name": "Balance work and family",
         "offsetgroup": "Balance work and family",
         "orientation": "v",
         "showlegend": true,
         "textposition": "auto",
         "texttemplate": "%{y:.2s}",
         "type": "bar",
         "x": [
          "Agriculture, forestry, fishing and hunting"
         ],
         "xaxis": "x",
         "y": [
          9549
         ],
         "yaxis": "y"
        },
        {
         "alignmentgroup": "True",
         "hovertemplate": "Reason for owning business=Best avenue for ideas<br>Industry Name=%{x}<br>Number of Business Owners=%{y}<extra></extra>",
         "legendgroup": "Best avenue for ideas",
         "marker": {
          "color": "#ab63fa",
          "pattern": {
           "shape": ""
          }
         },
         "name": "Best avenue for ideas",
         "offsetgroup": "Best avenue for ideas",
         "orientation": "v",
         "showlegend": true,
         "textposition": "auto",
         "texttemplate": "%{y:.2s}",
         "type": "bar",
         "x": [
          "Agriculture, forestry, fishing and hunting"
         ],
         "xaxis": "x",
         "y": [
          9012
         ],
         "yaxis": "y"
        },
        {
         "alignmentgroup": "True",
         "hovertemplate": "Reason for owning business=Flexible hours<br>Industry Name=%{x}<br>Number of Business Owners=%{y}<extra></extra>",
         "legendgroup": "Flexible hours",
         "marker": {
          "color": "#FFA15A",
          "pattern": {
           "shape": ""
          }
         },
         "name": "Flexible hours",
         "offsetgroup": "Flexible hours",
         "orientation": "v",
         "showlegend": true,
         "textposition": "auto",
         "texttemplate": "%{y:.2s}",
         "type": "bar",
         "x": [
          "Agriculture, forestry, fishing and hunting"
         ],
         "xaxis": "x",
         "y": [
          8791
         ],
         "yaxis": "y"
        },
        {
         "alignmentgroup": "True",
         "hovertemplate": "Reason for owning business=Start my own business<br>Industry Name=%{x}<br>Number of Business Owners=%{y}<extra></extra>",
         "legendgroup": "Start my own business",
         "marker": {
          "color": "#19d3f3",
          "pattern": {
           "shape": ""
          }
         },
         "name": "Start my own business",
         "offsetgroup": "Start my own business",
         "orientation": "v",
         "showlegend": true,
         "textposition": "auto",
         "texttemplate": "%{y:.2s}",
         "type": "bar",
         "x": [
          "Agriculture, forestry, fishing and hunting"
         ],
         "xaxis": "x",
         "y": [
          6956
         ],
         "yaxis": "y"
        },
        {
         "alignmentgroup": "True",
         "hovertemplate": "Reason for owning business=Friend or family role model<br>Industry Name=%{x}<br>Number of Business Owners=%{y}<extra></extra>",
         "legendgroup": "Friend or family role model",
         "marker": {
          "color": "#FF6692",
          "pattern": {
           "shape": ""
          }
         },
         "name": "Friend or family role model",
         "offsetgroup": "Friend or family role model",
         "orientation": "v",
         "showlegend": true,
         "textposition": "auto",
         "texttemplate": "%{y:.2s}",
         "type": "bar",
         "x": [
          "Agriculture, forestry, fishing and hunting"
         ],
         "xaxis": "x",
         "y": [
          5709
         ],
         "yaxis": "y"
        },
        {
         "alignmentgroup": "True",
         "hovertemplate": "Reason for owning business=Carry on family business<br>Industry Name=%{x}<br>Number of Business Owners=%{y}<extra></extra>",
         "legendgroup": "Carry on family business",
         "marker": {
          "color": "#B6E880",
          "pattern": {
           "shape": ""
          }
         },
         "name": "Carry on family business",
         "offsetgroup": "Carry on family business",
         "orientation": "v",
         "showlegend": true,
         "textposition": "auto",
         "texttemplate": "%{y:.2s}",
         "type": "bar",
         "x": [
          "Agriculture, forestry, fishing and hunting"
         ],
         "xaxis": "x",
         "y": [
          5589
         ],
         "yaxis": "y"
        },
        {
         "alignmentgroup": "True",
         "hovertemplate": "Reason for owning business=Work for self<br>Industry Name=%{x}<br>Number of Business Owners=%{y}<extra></extra>",
         "legendgroup": "Work for self",
         "marker": {
          "color": "#FF97FF",
          "pattern": {
           "shape": ""
          }
         },
         "name": "Work for self",
         "offsetgroup": "Work for self",
         "orientation": "v",
         "showlegend": true,
         "textposition": "auto",
         "texttemplate": "%{y:.2s}",
         "type": "bar",
         "x": [
          "Agriculture, forestry, fishing and hunting"
         ],
         "xaxis": "x",
         "y": [
          5256
         ],
         "yaxis": "y"
        },
        {
         "alignmentgroup": "True",
         "hovertemplate": "Reason for owning business=Help my community<br>Industry Name=%{x}<br>Number of Business Owners=%{y}<extra></extra>",
         "legendgroup": "Help my community",
         "marker": {
          "color": "#FECB52",
          "pattern": {
           "shape": ""
          }
         },
         "name": "Help my community",
         "offsetgroup": "Help my community",
         "orientation": "v",
         "showlegend": true,
         "textposition": "auto",
         "texttemplate": "%{y:.2s}",
         "type": "bar",
         "x": [
          "Agriculture, forestry, fishing and hunting"
         ],
         "xaxis": "x",
         "y": [
          3262
         ],
         "yaxis": "y"
        },
        {
         "alignmentgroup": "True",
         "hovertemplate": "Reason for owning business=Other<br>Industry Name=%{x}<br>Number of Business Owners=%{y}<extra></extra>",
         "legendgroup": "Other",
         "marker": {
          "color": "#636efa",
          "pattern": {
           "shape": ""
          }
         },
         "name": "Other",
         "offsetgroup": "Other",
         "orientation": "v",
         "showlegend": true,
         "textposition": "auto",
         "texttemplate": "%{y:.2s}",
         "type": "bar",
         "x": [
          "Agriculture, forestry, fishing and hunting"
         ],
         "xaxis": "x",
         "y": [
          1748
         ],
         "yaxis": "y"
        },
        {
         "alignmentgroup": "True",
         "hovertemplate": "Reason for owning business=Couldn't find a job<br>Industry Name=%{x}<br>Number of Business Owners=%{y}<extra></extra>",
         "legendgroup": "Couldn't find a job",
         "marker": {
          "color": "#EF553B",
          "pattern": {
           "shape": ""
          }
         },
         "name": "Couldn't find a job",
         "offsetgroup": "Couldn't find a job",
         "orientation": "v",
         "showlegend": true,
         "textposition": "auto",
         "texttemplate": "%{y:.2s}",
         "type": "bar",
         "x": [
          "Agriculture, forestry, fishing and hunting"
         ],
         "xaxis": "x",
         "y": [
          991
         ],
         "yaxis": "y"
        }
       ],
       "layout": {
        "barmode": "group",
        "legend": {
         "title": {
          "text": "Reason for owning business"
         },
         "tracegroupgap": 0
        },
        "template": {
         "data": {
          "bar": [
           {
            "error_x": {
             "color": "#2a3f5f"
            },
            "error_y": {
             "color": "#2a3f5f"
            },
            "marker": {
             "line": {
              "color": "#E5ECF6",
              "width": 0.5
             },
             "pattern": {
              "fillmode": "overlay",
              "size": 10,
              "solidity": 0.2
             }
            },
            "type": "bar"
           }
          ],
          "barpolar": [
           {
            "marker": {
             "line": {
              "color": "#E5ECF6",
              "width": 0.5
             },
             "pattern": {
              "fillmode": "overlay",
              "size": 10,
              "solidity": 0.2
             }
            },
            "type": "barpolar"
           }
          ],
          "carpet": [
           {
            "aaxis": {
             "endlinecolor": "#2a3f5f",
             "gridcolor": "white",
             "linecolor": "white",
             "minorgridcolor": "white",
             "startlinecolor": "#2a3f5f"
            },
            "baxis": {
             "endlinecolor": "#2a3f5f",
             "gridcolor": "white",
             "linecolor": "white",
             "minorgridcolor": "white",
             "startlinecolor": "#2a3f5f"
            },
            "type": "carpet"
           }
          ],
          "choropleth": [
           {
            "colorbar": {
             "outlinewidth": 0,
             "ticks": ""
            },
            "type": "choropleth"
           }
          ],
          "contour": [
           {
            "colorbar": {
             "outlinewidth": 0,
             "ticks": ""
            },
            "colorscale": [
             [
              0,
              "#0d0887"
             ],
             [
              0.1111111111111111,
              "#46039f"
             ],
             [
              0.2222222222222222,
              "#7201a8"
             ],
             [
              0.3333333333333333,
              "#9c179e"
             ],
             [
              0.4444444444444444,
              "#bd3786"
             ],
             [
              0.5555555555555556,
              "#d8576b"
             ],
             [
              0.6666666666666666,
              "#ed7953"
             ],
             [
              0.7777777777777778,
              "#fb9f3a"
             ],
             [
              0.8888888888888888,
              "#fdca26"
             ],
             [
              1,
              "#f0f921"
             ]
            ],
            "type": "contour"
           }
          ],
          "contourcarpet": [
           {
            "colorbar": {
             "outlinewidth": 0,
             "ticks": ""
            },
            "type": "contourcarpet"
           }
          ],
          "heatmap": [
           {
            "colorbar": {
             "outlinewidth": 0,
             "ticks": ""
            },
            "colorscale": [
             [
              0,
              "#0d0887"
             ],
             [
              0.1111111111111111,
              "#46039f"
             ],
             [
              0.2222222222222222,
              "#7201a8"
             ],
             [
              0.3333333333333333,
              "#9c179e"
             ],
             [
              0.4444444444444444,
              "#bd3786"
             ],
             [
              0.5555555555555556,
              "#d8576b"
             ],
             [
              0.6666666666666666,
              "#ed7953"
             ],
             [
              0.7777777777777778,
              "#fb9f3a"
             ],
             [
              0.8888888888888888,
              "#fdca26"
             ],
             [
              1,
              "#f0f921"
             ]
            ],
            "type": "heatmap"
           }
          ],
          "heatmapgl": [
           {
            "colorbar": {
             "outlinewidth": 0,
             "ticks": ""
            },
            "colorscale": [
             [
              0,
              "#0d0887"
             ],
             [
              0.1111111111111111,
              "#46039f"
             ],
             [
              0.2222222222222222,
              "#7201a8"
             ],
             [
              0.3333333333333333,
              "#9c179e"
             ],
             [
              0.4444444444444444,
              "#bd3786"
             ],
             [
              0.5555555555555556,
              "#d8576b"
             ],
             [
              0.6666666666666666,
              "#ed7953"
             ],
             [
              0.7777777777777778,
              "#fb9f3a"
             ],
             [
              0.8888888888888888,
              "#fdca26"
             ],
             [
              1,
              "#f0f921"
             ]
            ],
            "type": "heatmapgl"
           }
          ],
          "histogram": [
           {
            "marker": {
             "pattern": {
              "fillmode": "overlay",
              "size": 10,
              "solidity": 0.2
             }
            },
            "type": "histogram"
           }
          ],
          "histogram2d": [
           {
            "colorbar": {
             "outlinewidth": 0,
             "ticks": ""
            },
            "colorscale": [
             [
              0,
              "#0d0887"
             ],
             [
              0.1111111111111111,
              "#46039f"
             ],
             [
              0.2222222222222222,
              "#7201a8"
             ],
             [
              0.3333333333333333,
              "#9c179e"
             ],
             [
              0.4444444444444444,
              "#bd3786"
             ],
             [
              0.5555555555555556,
              "#d8576b"
             ],
             [
              0.6666666666666666,
              "#ed7953"
             ],
             [
              0.7777777777777778,
              "#fb9f3a"
             ],
             [
              0.8888888888888888,
              "#fdca26"
             ],
             [
              1,
              "#f0f921"
             ]
            ],
            "type": "histogram2d"
           }
          ],
          "histogram2dcontour": [
           {
            "colorbar": {
             "outlinewidth": 0,
             "ticks": ""
            },
            "colorscale": [
             [
              0,
              "#0d0887"
             ],
             [
              0.1111111111111111,
              "#46039f"
             ],
             [
              0.2222222222222222,
              "#7201a8"
             ],
             [
              0.3333333333333333,
              "#9c179e"
             ],
             [
              0.4444444444444444,
              "#bd3786"
             ],
             [
              0.5555555555555556,
              "#d8576b"
             ],
             [
              0.6666666666666666,
              "#ed7953"
             ],
             [
              0.7777777777777778,
              "#fb9f3a"
             ],
             [
              0.8888888888888888,
              "#fdca26"
             ],
             [
              1,
              "#f0f921"
             ]
            ],
            "type": "histogram2dcontour"
           }
          ],
          "mesh3d": [
           {
            "colorbar": {
             "outlinewidth": 0,
             "ticks": ""
            },
            "type": "mesh3d"
           }
          ],
          "parcoords": [
           {
            "line": {
             "colorbar": {
              "outlinewidth": 0,
              "ticks": ""
             }
            },
            "type": "parcoords"
           }
          ],
          "pie": [
           {
            "automargin": true,
            "type": "pie"
           }
          ],
          "scatter": [
           {
            "fillpattern": {
             "fillmode": "overlay",
             "size": 10,
             "solidity": 0.2
            },
            "type": "scatter"
           }
          ],
          "scatter3d": [
           {
            "line": {
             "colorbar": {
              "outlinewidth": 0,
              "ticks": ""
             }
            },
            "marker": {
             "colorbar": {
              "outlinewidth": 0,
              "ticks": ""
             }
            },
            "type": "scatter3d"
           }
          ],
          "scattercarpet": [
           {
            "marker": {
             "colorbar": {
              "outlinewidth": 0,
              "ticks": ""
             }
            },
            "type": "scattercarpet"
           }
          ],
          "scattergeo": [
           {
            "marker": {
             "colorbar": {
              "outlinewidth": 0,
              "ticks": ""
             }
            },
            "type": "scattergeo"
           }
          ],
          "scattergl": [
           {
            "marker": {
             "colorbar": {
              "outlinewidth": 0,
              "ticks": ""
             }
            },
            "type": "scattergl"
           }
          ],
          "scattermapbox": [
           {
            "marker": {
             "colorbar": {
              "outlinewidth": 0,
              "ticks": ""
             }
            },
            "type": "scattermapbox"
           }
          ],
          "scatterpolar": [
           {
            "marker": {
             "colorbar": {
              "outlinewidth": 0,
              "ticks": ""
             }
            },
            "type": "scatterpolar"
           }
          ],
          "scatterpolargl": [
           {
            "marker": {
             "colorbar": {
              "outlinewidth": 0,
              "ticks": ""
             }
            },
            "type": "scatterpolargl"
           }
          ],
          "scatterternary": [
           {
            "marker": {
             "colorbar": {
              "outlinewidth": 0,
              "ticks": ""
             }
            },
            "type": "scatterternary"
           }
          ],
          "surface": [
           {
            "colorbar": {
             "outlinewidth": 0,
             "ticks": ""
            },
            "colorscale": [
             [
              0,
              "#0d0887"
             ],
             [
              0.1111111111111111,
              "#46039f"
             ],
             [
              0.2222222222222222,
              "#7201a8"
             ],
             [
              0.3333333333333333,
              "#9c179e"
             ],
             [
              0.4444444444444444,
              "#bd3786"
             ],
             [
              0.5555555555555556,
              "#d8576b"
             ],
             [
              0.6666666666666666,
              "#ed7953"
             ],
             [
              0.7777777777777778,
              "#fb9f3a"
             ],
             [
              0.8888888888888888,
              "#fdca26"
             ],
             [
              1,
              "#f0f921"
             ]
            ],
            "type": "surface"
           }
          ],
          "table": [
           {
            "cells": {
             "fill": {
              "color": "#EBF0F8"
             },
             "line": {
              "color": "white"
             }
            },
            "header": {
             "fill": {
              "color": "#C8D4E3"
             },
             "line": {
              "color": "white"
             }
            },
            "type": "table"
           }
          ]
         },
         "layout": {
          "annotationdefaults": {
           "arrowcolor": "#2a3f5f",
           "arrowhead": 0,
           "arrowwidth": 1
          },
          "autotypenumbers": "strict",
          "coloraxis": {
           "colorbar": {
            "outlinewidth": 0,
            "ticks": ""
           }
          },
          "colorscale": {
           "diverging": [
            [
             0,
             "#8e0152"
            ],
            [
             0.1,
             "#c51b7d"
            ],
            [
             0.2,
             "#de77ae"
            ],
            [
             0.3,
             "#f1b6da"
            ],
            [
             0.4,
             "#fde0ef"
            ],
            [
             0.5,
             "#f7f7f7"
            ],
            [
             0.6,
             "#e6f5d0"
            ],
            [
             0.7,
             "#b8e186"
            ],
            [
             0.8,
             "#7fbc41"
            ],
            [
             0.9,
             "#4d9221"
            ],
            [
             1,
             "#276419"
            ]
           ],
           "sequential": [
            [
             0,
             "#0d0887"
            ],
            [
             0.1111111111111111,
             "#46039f"
            ],
            [
             0.2222222222222222,
             "#7201a8"
            ],
            [
             0.3333333333333333,
             "#9c179e"
            ],
            [
             0.4444444444444444,
             "#bd3786"
            ],
            [
             0.5555555555555556,
             "#d8576b"
            ],
            [
             0.6666666666666666,
             "#ed7953"
            ],
            [
             0.7777777777777778,
             "#fb9f3a"
            ],
            [
             0.8888888888888888,
             "#fdca26"
            ],
            [
             1,
             "#f0f921"
            ]
           ],
           "sequentialminus": [
            [
             0,
             "#0d0887"
            ],
            [
             0.1111111111111111,
             "#46039f"
            ],
            [
             0.2222222222222222,
             "#7201a8"
            ],
            [
             0.3333333333333333,
             "#9c179e"
            ],
            [
             0.4444444444444444,
             "#bd3786"
            ],
            [
             0.5555555555555556,
             "#d8576b"
            ],
            [
             0.6666666666666666,
             "#ed7953"
            ],
            [
             0.7777777777777778,
             "#fb9f3a"
            ],
            [
             0.8888888888888888,
             "#fdca26"
            ],
            [
             1,
             "#f0f921"
            ]
           ]
          },
          "colorway": [
           "#636efa",
           "#EF553B",
           "#00cc96",
           "#ab63fa",
           "#FFA15A",
           "#19d3f3",
           "#FF6692",
           "#B6E880",
           "#FF97FF",
           "#FECB52"
          ],
          "font": {
           "color": "#2a3f5f"
          },
          "geo": {
           "bgcolor": "white",
           "lakecolor": "white",
           "landcolor": "#E5ECF6",
           "showlakes": true,
           "showland": true,
           "subunitcolor": "white"
          },
          "hoverlabel": {
           "align": "left"
          },
          "hovermode": "closest",
          "mapbox": {
           "style": "light"
          },
          "paper_bgcolor": "white",
          "plot_bgcolor": "#E5ECF6",
          "polar": {
           "angularaxis": {
            "gridcolor": "white",
            "linecolor": "white",
            "ticks": ""
           },
           "bgcolor": "#E5ECF6",
           "radialaxis": {
            "gridcolor": "white",
            "linecolor": "white",
            "ticks": ""
           }
          },
          "scene": {
           "xaxis": {
            "backgroundcolor": "#E5ECF6",
            "gridcolor": "white",
            "gridwidth": 2,
            "linecolor": "white",
            "showbackground": true,
            "ticks": "",
            "zerolinecolor": "white"
           },
           "yaxis": {
            "backgroundcolor": "#E5ECF6",
            "gridcolor": "white",
            "gridwidth": 2,
            "linecolor": "white",
            "showbackground": true,
            "ticks": "",
            "zerolinecolor": "white"
           },
           "zaxis": {
            "backgroundcolor": "#E5ECF6",
            "gridcolor": "white",
            "gridwidth": 2,
            "linecolor": "white",
            "showbackground": true,
            "ticks": "",
            "zerolinecolor": "white"
           }
          },
          "shapedefaults": {
           "line": {
            "color": "#2a3f5f"
           }
          },
          "ternary": {
           "aaxis": {
            "gridcolor": "white",
            "linecolor": "white",
            "ticks": ""
           },
           "baxis": {
            "gridcolor": "white",
            "linecolor": "white",
            "ticks": ""
           },
           "bgcolor": "#E5ECF6",
           "caxis": {
            "gridcolor": "white",
            "linecolor": "white",
            "ticks": ""
           }
          },
          "title": {
           "x": 0.05
          },
          "xaxis": {
           "automargin": true,
           "gridcolor": "white",
           "linecolor": "white",
           "ticks": "",
           "title": {
            "standoff": 15
           },
           "zerolinecolor": "white",
           "zerolinewidth": 2
          },
          "yaxis": {
           "automargin": true,
           "gridcolor": "white",
           "linecolor": "white",
           "ticks": "",
           "title": {
            "standoff": 15
           },
           "zerolinecolor": "white",
           "zerolinewidth": 2
          }
         }
        },
        "title": {
         "text": "Reasons to own business for industry: Agriculture, forestry, fishing and hunting"
        },
        "xaxis": {
         "anchor": "y",
         "domain": [
          0,
          1
         ],
         "title": {
          "text": "Industry Name"
         }
        },
        "yaxis": {
         "anchor": "x",
         "domain": [
          0,
          1
         ],
         "title": {
          "text": "Number of Business Owners"
         }
        }
       }
      }
     },
     "metadata": {},
     "output_type": "display_data"
    },
    {
     "data": {
      "application/vnd.plotly.v1+json": {
       "config": {
        "plotlyServerURL": "https://plot.ly"
       },
       "data": [
        {
         "alignmentgroup": "True",
         "hovertemplate": "Reason for owning business=Wanted to be my own boss<br>Industry Name=%{x}<br>Number of Business Owners=%{y}<extra></extra>",
         "legendgroup": "Wanted to be my own boss",
         "marker": {
          "color": "#636efa",
          "pattern": {
           "shape": ""
          }
         },
         "name": "Wanted to be my own boss",
         "offsetgroup": "Wanted to be my own boss",
         "orientation": "v",
         "showlegend": true,
         "textposition": "auto",
         "texttemplate": "%{y:.2s}",
         "type": "bar",
         "x": [
          "Arts, entertainment, and recreation"
         ],
         "xaxis": "x",
         "y": [
          43850
         ],
         "yaxis": "y"
        },
        {
         "alignmentgroup": "True",
         "hovertemplate": "Reason for owning business=Best avenue for ideas<br>Industry Name=%{x}<br>Number of Business Owners=%{y}<extra></extra>",
         "legendgroup": "Best avenue for ideas",
         "marker": {
          "color": "#EF553B",
          "pattern": {
           "shape": ""
          }
         },
         "name": "Best avenue for ideas",
         "offsetgroup": "Best avenue for ideas",
         "orientation": "v",
         "showlegend": true,
         "textposition": "auto",
         "texttemplate": "%{y:.2s}",
         "type": "bar",
         "x": [
          "Arts, entertainment, and recreation"
         ],
         "xaxis": "x",
         "y": [
          41007
         ],
         "yaxis": "y"
        },
        {
         "alignmentgroup": "True",
         "hovertemplate": "Reason for owning business=Greater income<br>Industry Name=%{x}<br>Number of Business Owners=%{y}<extra></extra>",
         "legendgroup": "Greater income",
         "marker": {
          "color": "#00cc96",
          "pattern": {
           "shape": ""
          }
         },
         "name": "Greater income",
         "offsetgroup": "Greater income",
         "orientation": "v",
         "showlegend": true,
         "textposition": "auto",
         "texttemplate": "%{y:.2s}",
         "type": "bar",
         "x": [
          "Arts, entertainment, and recreation"
         ],
         "xaxis": "x",
         "y": [
          40979
         ],
         "yaxis": "y"
        },
        {
         "alignmentgroup": "True",
         "hovertemplate": "Reason for owning business=Flexible hours<br>Industry Name=%{x}<br>Number of Business Owners=%{y}<extra></extra>",
         "legendgroup": "Flexible hours",
         "marker": {
          "color": "#ab63fa",
          "pattern": {
           "shape": ""
          }
         },
         "name": "Flexible hours",
         "offsetgroup": "Flexible hours",
         "orientation": "v",
         "showlegend": true,
         "textposition": "auto",
         "texttemplate": "%{y:.2s}",
         "type": "bar",
         "x": [
          "Arts, entertainment, and recreation"
         ],
         "xaxis": "x",
         "y": [
          40228
         ],
         "yaxis": "y"
        },
        {
         "alignmentgroup": "True",
         "hovertemplate": "Reason for owning business=Balance work and family<br>Industry Name=%{x}<br>Number of Business Owners=%{y}<extra></extra>",
         "legendgroup": "Balance work and family",
         "marker": {
          "color": "#FFA15A",
          "pattern": {
           "shape": ""
          }
         },
         "name": "Balance work and family",
         "offsetgroup": "Balance work and family",
         "orientation": "v",
         "showlegend": true,
         "textposition": "auto",
         "texttemplate": "%{y:.2s}",
         "type": "bar",
         "x": [
          "Arts, entertainment, and recreation"
         ],
         "xaxis": "x",
         "y": [
          37927
         ],
         "yaxis": "y"
        },
        {
         "alignmentgroup": "True",
         "hovertemplate": "Reason for owning business=Start my own business<br>Industry Name=%{x}<br>Number of Business Owners=%{y}<extra></extra>",
         "legendgroup": "Start my own business",
         "marker": {
          "color": "#19d3f3",
          "pattern": {
           "shape": ""
          }
         },
         "name": "Start my own business",
         "offsetgroup": "Start my own business",
         "orientation": "v",
         "showlegend": true,
         "textposition": "auto",
         "texttemplate": "%{y:.2s}",
         "type": "bar",
         "x": [
          "Arts, entertainment, and recreation"
         ],
         "xaxis": "x",
         "y": [
          29980
         ],
         "yaxis": "y"
        },
        {
         "alignmentgroup": "True",
         "hovertemplate": "Reason for owning business=Work for self<br>Industry Name=%{x}<br>Number of Business Owners=%{y}<extra></extra>",
         "legendgroup": "Work for self",
         "marker": {
          "color": "#FF6692",
          "pattern": {
           "shape": ""
          }
         },
         "name": "Work for self",
         "offsetgroup": "Work for self",
         "orientation": "v",
         "showlegend": true,
         "textposition": "auto",
         "texttemplate": "%{y:.2s}",
         "type": "bar",
         "x": [
          "Arts, entertainment, and recreation"
         ],
         "xaxis": "x",
         "y": [
          22042
         ],
         "yaxis": "y"
        },
        {
         "alignmentgroup": "True",
         "hovertemplate": "Reason for owning business=Help my community<br>Industry Name=%{x}<br>Number of Business Owners=%{y}<extra></extra>",
         "legendgroup": "Help my community",
         "marker": {
          "color": "#B6E880",
          "pattern": {
           "shape": ""
          }
         },
         "name": "Help my community",
         "offsetgroup": "Help my community",
         "orientation": "v",
         "showlegend": true,
         "textposition": "auto",
         "texttemplate": "%{y:.2s}",
         "type": "bar",
         "x": [
          "Arts, entertainment, and recreation"
         ],
         "xaxis": "x",
         "y": [
          18726
         ],
         "yaxis": "y"
        },
        {
         "alignmentgroup": "True",
         "hovertemplate": "Reason for owning business=Friend or family role model<br>Industry Name=%{x}<br>Number of Business Owners=%{y}<extra></extra>",
         "legendgroup": "Friend or family role model",
         "marker": {
          "color": "#FF97FF",
          "pattern": {
           "shape": ""
          }
         },
         "name": "Friend or family role model",
         "offsetgroup": "Friend or family role model",
         "orientation": "v",
         "showlegend": true,
         "textposition": "auto",
         "texttemplate": "%{y:.2s}",
         "type": "bar",
         "x": [
          "Arts, entertainment, and recreation"
         ],
         "xaxis": "x",
         "y": [
          18043
         ],
         "yaxis": "y"
        },
        {
         "alignmentgroup": "True",
         "hovertemplate": "Reason for owning business=Carry on family business<br>Industry Name=%{x}<br>Number of Business Owners=%{y}<extra></extra>",
         "legendgroup": "Carry on family business",
         "marker": {
          "color": "#FECB52",
          "pattern": {
           "shape": ""
          }
         },
         "name": "Carry on family business",
         "offsetgroup": "Carry on family business",
         "orientation": "v",
         "showlegend": true,
         "textposition": "auto",
         "texttemplate": "%{y:.2s}",
         "type": "bar",
         "x": [
          "Arts, entertainment, and recreation"
         ],
         "xaxis": "x",
         "y": [
          10580
         ],
         "yaxis": "y"
        },
        {
         "alignmentgroup": "True",
         "hovertemplate": "Reason for owning business=Other<br>Industry Name=%{x}<br>Number of Business Owners=%{y}<extra></extra>",
         "legendgroup": "Other",
         "marker": {
          "color": "#636efa",
          "pattern": {
           "shape": ""
          }
         },
         "name": "Other",
         "offsetgroup": "Other",
         "orientation": "v",
         "showlegend": true,
         "textposition": "auto",
         "texttemplate": "%{y:.2s}",
         "type": "bar",
         "x": [
          "Arts, entertainment, and recreation"
         ],
         "xaxis": "x",
         "y": [
          8163
         ],
         "yaxis": "y"
        },
        {
         "alignmentgroup": "True",
         "hovertemplate": "Reason for owning business=Couldn't find a job<br>Industry Name=%{x}<br>Number of Business Owners=%{y}<extra></extra>",
         "legendgroup": "Couldn't find a job",
         "marker": {
          "color": "#EF553B",
          "pattern": {
           "shape": ""
          }
         },
         "name": "Couldn't find a job",
         "offsetgroup": "Couldn't find a job",
         "orientation": "v",
         "showlegend": true,
         "textposition": "auto",
         "texttemplate": "%{y:.2s}",
         "type": "bar",
         "x": [
          "Arts, entertainment, and recreation"
         ],
         "xaxis": "x",
         "y": [
          4448
         ],
         "yaxis": "y"
        }
       ],
       "layout": {
        "barmode": "group",
        "legend": {
         "title": {
          "text": "Reason for owning business"
         },
         "tracegroupgap": 0
        },
        "template": {
         "data": {
          "bar": [
           {
            "error_x": {
             "color": "#2a3f5f"
            },
            "error_y": {
             "color": "#2a3f5f"
            },
            "marker": {
             "line": {
              "color": "#E5ECF6",
              "width": 0.5
             },
             "pattern": {
              "fillmode": "overlay",
              "size": 10,
              "solidity": 0.2
             }
            },
            "type": "bar"
           }
          ],
          "barpolar": [
           {
            "marker": {
             "line": {
              "color": "#E5ECF6",
              "width": 0.5
             },
             "pattern": {
              "fillmode": "overlay",
              "size": 10,
              "solidity": 0.2
             }
            },
            "type": "barpolar"
           }
          ],
          "carpet": [
           {
            "aaxis": {
             "endlinecolor": "#2a3f5f",
             "gridcolor": "white",
             "linecolor": "white",
             "minorgridcolor": "white",
             "startlinecolor": "#2a3f5f"
            },
            "baxis": {
             "endlinecolor": "#2a3f5f",
             "gridcolor": "white",
             "linecolor": "white",
             "minorgridcolor": "white",
             "startlinecolor": "#2a3f5f"
            },
            "type": "carpet"
           }
          ],
          "choropleth": [
           {
            "colorbar": {
             "outlinewidth": 0,
             "ticks": ""
            },
            "type": "choropleth"
           }
          ],
          "contour": [
           {
            "colorbar": {
             "outlinewidth": 0,
             "ticks": ""
            },
            "colorscale": [
             [
              0,
              "#0d0887"
             ],
             [
              0.1111111111111111,
              "#46039f"
             ],
             [
              0.2222222222222222,
              "#7201a8"
             ],
             [
              0.3333333333333333,
              "#9c179e"
             ],
             [
              0.4444444444444444,
              "#bd3786"
             ],
             [
              0.5555555555555556,
              "#d8576b"
             ],
             [
              0.6666666666666666,
              "#ed7953"
             ],
             [
              0.7777777777777778,
              "#fb9f3a"
             ],
             [
              0.8888888888888888,
              "#fdca26"
             ],
             [
              1,
              "#f0f921"
             ]
            ],
            "type": "contour"
           }
          ],
          "contourcarpet": [
           {
            "colorbar": {
             "outlinewidth": 0,
             "ticks": ""
            },
            "type": "contourcarpet"
           }
          ],
          "heatmap": [
           {
            "colorbar": {
             "outlinewidth": 0,
             "ticks": ""
            },
            "colorscale": [
             [
              0,
              "#0d0887"
             ],
             [
              0.1111111111111111,
              "#46039f"
             ],
             [
              0.2222222222222222,
              "#7201a8"
             ],
             [
              0.3333333333333333,
              "#9c179e"
             ],
             [
              0.4444444444444444,
              "#bd3786"
             ],
             [
              0.5555555555555556,
              "#d8576b"
             ],
             [
              0.6666666666666666,
              "#ed7953"
             ],
             [
              0.7777777777777778,
              "#fb9f3a"
             ],
             [
              0.8888888888888888,
              "#fdca26"
             ],
             [
              1,
              "#f0f921"
             ]
            ],
            "type": "heatmap"
           }
          ],
          "heatmapgl": [
           {
            "colorbar": {
             "outlinewidth": 0,
             "ticks": ""
            },
            "colorscale": [
             [
              0,
              "#0d0887"
             ],
             [
              0.1111111111111111,
              "#46039f"
             ],
             [
              0.2222222222222222,
              "#7201a8"
             ],
             [
              0.3333333333333333,
              "#9c179e"
             ],
             [
              0.4444444444444444,
              "#bd3786"
             ],
             [
              0.5555555555555556,
              "#d8576b"
             ],
             [
              0.6666666666666666,
              "#ed7953"
             ],
             [
              0.7777777777777778,
              "#fb9f3a"
             ],
             [
              0.8888888888888888,
              "#fdca26"
             ],
             [
              1,
              "#f0f921"
             ]
            ],
            "type": "heatmapgl"
           }
          ],
          "histogram": [
           {
            "marker": {
             "pattern": {
              "fillmode": "overlay",
              "size": 10,
              "solidity": 0.2
             }
            },
            "type": "histogram"
           }
          ],
          "histogram2d": [
           {
            "colorbar": {
             "outlinewidth": 0,
             "ticks": ""
            },
            "colorscale": [
             [
              0,
              "#0d0887"
             ],
             [
              0.1111111111111111,
              "#46039f"
             ],
             [
              0.2222222222222222,
              "#7201a8"
             ],
             [
              0.3333333333333333,
              "#9c179e"
             ],
             [
              0.4444444444444444,
              "#bd3786"
             ],
             [
              0.5555555555555556,
              "#d8576b"
             ],
             [
              0.6666666666666666,
              "#ed7953"
             ],
             [
              0.7777777777777778,
              "#fb9f3a"
             ],
             [
              0.8888888888888888,
              "#fdca26"
             ],
             [
              1,
              "#f0f921"
             ]
            ],
            "type": "histogram2d"
           }
          ],
          "histogram2dcontour": [
           {
            "colorbar": {
             "outlinewidth": 0,
             "ticks": ""
            },
            "colorscale": [
             [
              0,
              "#0d0887"
             ],
             [
              0.1111111111111111,
              "#46039f"
             ],
             [
              0.2222222222222222,
              "#7201a8"
             ],
             [
              0.3333333333333333,
              "#9c179e"
             ],
             [
              0.4444444444444444,
              "#bd3786"
             ],
             [
              0.5555555555555556,
              "#d8576b"
             ],
             [
              0.6666666666666666,
              "#ed7953"
             ],
             [
              0.7777777777777778,
              "#fb9f3a"
             ],
             [
              0.8888888888888888,
              "#fdca26"
             ],
             [
              1,
              "#f0f921"
             ]
            ],
            "type": "histogram2dcontour"
           }
          ],
          "mesh3d": [
           {
            "colorbar": {
             "outlinewidth": 0,
             "ticks": ""
            },
            "type": "mesh3d"
           }
          ],
          "parcoords": [
           {
            "line": {
             "colorbar": {
              "outlinewidth": 0,
              "ticks": ""
             }
            },
            "type": "parcoords"
           }
          ],
          "pie": [
           {
            "automargin": true,
            "type": "pie"
           }
          ],
          "scatter": [
           {
            "fillpattern": {
             "fillmode": "overlay",
             "size": 10,
             "solidity": 0.2
            },
            "type": "scatter"
           }
          ],
          "scatter3d": [
           {
            "line": {
             "colorbar": {
              "outlinewidth": 0,
              "ticks": ""
             }
            },
            "marker": {
             "colorbar": {
              "outlinewidth": 0,
              "ticks": ""
             }
            },
            "type": "scatter3d"
           }
          ],
          "scattercarpet": [
           {
            "marker": {
             "colorbar": {
              "outlinewidth": 0,
              "ticks": ""
             }
            },
            "type": "scattercarpet"
           }
          ],
          "scattergeo": [
           {
            "marker": {
             "colorbar": {
              "outlinewidth": 0,
              "ticks": ""
             }
            },
            "type": "scattergeo"
           }
          ],
          "scattergl": [
           {
            "marker": {
             "colorbar": {
              "outlinewidth": 0,
              "ticks": ""
             }
            },
            "type": "scattergl"
           }
          ],
          "scattermapbox": [
           {
            "marker": {
             "colorbar": {
              "outlinewidth": 0,
              "ticks": ""
             }
            },
            "type": "scattermapbox"
           }
          ],
          "scatterpolar": [
           {
            "marker": {
             "colorbar": {
              "outlinewidth": 0,
              "ticks": ""
             }
            },
            "type": "scatterpolar"
           }
          ],
          "scatterpolargl": [
           {
            "marker": {
             "colorbar": {
              "outlinewidth": 0,
              "ticks": ""
             }
            },
            "type": "scatterpolargl"
           }
          ],
          "scatterternary": [
           {
            "marker": {
             "colorbar": {
              "outlinewidth": 0,
              "ticks": ""
             }
            },
            "type": "scatterternary"
           }
          ],
          "surface": [
           {
            "colorbar": {
             "outlinewidth": 0,
             "ticks": ""
            },
            "colorscale": [
             [
              0,
              "#0d0887"
             ],
             [
              0.1111111111111111,
              "#46039f"
             ],
             [
              0.2222222222222222,
              "#7201a8"
             ],
             [
              0.3333333333333333,
              "#9c179e"
             ],
             [
              0.4444444444444444,
              "#bd3786"
             ],
             [
              0.5555555555555556,
              "#d8576b"
             ],
             [
              0.6666666666666666,
              "#ed7953"
             ],
             [
              0.7777777777777778,
              "#fb9f3a"
             ],
             [
              0.8888888888888888,
              "#fdca26"
             ],
             [
              1,
              "#f0f921"
             ]
            ],
            "type": "surface"
           }
          ],
          "table": [
           {
            "cells": {
             "fill": {
              "color": "#EBF0F8"
             },
             "line": {
              "color": "white"
             }
            },
            "header": {
             "fill": {
              "color": "#C8D4E3"
             },
             "line": {
              "color": "white"
             }
            },
            "type": "table"
           }
          ]
         },
         "layout": {
          "annotationdefaults": {
           "arrowcolor": "#2a3f5f",
           "arrowhead": 0,
           "arrowwidth": 1
          },
          "autotypenumbers": "strict",
          "coloraxis": {
           "colorbar": {
            "outlinewidth": 0,
            "ticks": ""
           }
          },
          "colorscale": {
           "diverging": [
            [
             0,
             "#8e0152"
            ],
            [
             0.1,
             "#c51b7d"
            ],
            [
             0.2,
             "#de77ae"
            ],
            [
             0.3,
             "#f1b6da"
            ],
            [
             0.4,
             "#fde0ef"
            ],
            [
             0.5,
             "#f7f7f7"
            ],
            [
             0.6,
             "#e6f5d0"
            ],
            [
             0.7,
             "#b8e186"
            ],
            [
             0.8,
             "#7fbc41"
            ],
            [
             0.9,
             "#4d9221"
            ],
            [
             1,
             "#276419"
            ]
           ],
           "sequential": [
            [
             0,
             "#0d0887"
            ],
            [
             0.1111111111111111,
             "#46039f"
            ],
            [
             0.2222222222222222,
             "#7201a8"
            ],
            [
             0.3333333333333333,
             "#9c179e"
            ],
            [
             0.4444444444444444,
             "#bd3786"
            ],
            [
             0.5555555555555556,
             "#d8576b"
            ],
            [
             0.6666666666666666,
             "#ed7953"
            ],
            [
             0.7777777777777778,
             "#fb9f3a"
            ],
            [
             0.8888888888888888,
             "#fdca26"
            ],
            [
             1,
             "#f0f921"
            ]
           ],
           "sequentialminus": [
            [
             0,
             "#0d0887"
            ],
            [
             0.1111111111111111,
             "#46039f"
            ],
            [
             0.2222222222222222,
             "#7201a8"
            ],
            [
             0.3333333333333333,
             "#9c179e"
            ],
            [
             0.4444444444444444,
             "#bd3786"
            ],
            [
             0.5555555555555556,
             "#d8576b"
            ],
            [
             0.6666666666666666,
             "#ed7953"
            ],
            [
             0.7777777777777778,
             "#fb9f3a"
            ],
            [
             0.8888888888888888,
             "#fdca26"
            ],
            [
             1,
             "#f0f921"
            ]
           ]
          },
          "colorway": [
           "#636efa",
           "#EF553B",
           "#00cc96",
           "#ab63fa",
           "#FFA15A",
           "#19d3f3",
           "#FF6692",
           "#B6E880",
           "#FF97FF",
           "#FECB52"
          ],
          "font": {
           "color": "#2a3f5f"
          },
          "geo": {
           "bgcolor": "white",
           "lakecolor": "white",
           "landcolor": "#E5ECF6",
           "showlakes": true,
           "showland": true,
           "subunitcolor": "white"
          },
          "hoverlabel": {
           "align": "left"
          },
          "hovermode": "closest",
          "mapbox": {
           "style": "light"
          },
          "paper_bgcolor": "white",
          "plot_bgcolor": "#E5ECF6",
          "polar": {
           "angularaxis": {
            "gridcolor": "white",
            "linecolor": "white",
            "ticks": ""
           },
           "bgcolor": "#E5ECF6",
           "radialaxis": {
            "gridcolor": "white",
            "linecolor": "white",
            "ticks": ""
           }
          },
          "scene": {
           "xaxis": {
            "backgroundcolor": "#E5ECF6",
            "gridcolor": "white",
            "gridwidth": 2,
            "linecolor": "white",
            "showbackground": true,
            "ticks": "",
            "zerolinecolor": "white"
           },
           "yaxis": {
            "backgroundcolor": "#E5ECF6",
            "gridcolor": "white",
            "gridwidth": 2,
            "linecolor": "white",
            "showbackground": true,
            "ticks": "",
            "zerolinecolor": "white"
           },
           "zaxis": {
            "backgroundcolor": "#E5ECF6",
            "gridcolor": "white",
            "gridwidth": 2,
            "linecolor": "white",
            "showbackground": true,
            "ticks": "",
            "zerolinecolor": "white"
           }
          },
          "shapedefaults": {
           "line": {
            "color": "#2a3f5f"
           }
          },
          "ternary": {
           "aaxis": {
            "gridcolor": "white",
            "linecolor": "white",
            "ticks": ""
           },
           "baxis": {
            "gridcolor": "white",
            "linecolor": "white",
            "ticks": ""
           },
           "bgcolor": "#E5ECF6",
           "caxis": {
            "gridcolor": "white",
            "linecolor": "white",
            "ticks": ""
           }
          },
          "title": {
           "x": 0.05
          },
          "xaxis": {
           "automargin": true,
           "gridcolor": "white",
           "linecolor": "white",
           "ticks": "",
           "title": {
            "standoff": 15
           },
           "zerolinecolor": "white",
           "zerolinewidth": 2
          },
          "yaxis": {
           "automargin": true,
           "gridcolor": "white",
           "linecolor": "white",
           "ticks": "",
           "title": {
            "standoff": 15
           },
           "zerolinecolor": "white",
           "zerolinewidth": 2
          }
         }
        },
        "title": {
         "text": "Reasons to own business for industry: Arts, entertainment, and recreation"
        },
        "xaxis": {
         "anchor": "y",
         "domain": [
          0,
          1
         ],
         "title": {
          "text": "Industry Name"
         }
        },
        "yaxis": {
         "anchor": "x",
         "domain": [
          0,
          1
         ],
         "title": {
          "text": "Number of Business Owners"
         }
        }
       }
      }
     },
     "metadata": {},
     "output_type": "display_data"
    },
    {
     "data": {
      "application/vnd.plotly.v1+json": {
       "config": {
        "plotlyServerURL": "https://plot.ly"
       },
       "data": [
        {
         "alignmentgroup": "True",
         "hovertemplate": "Reason for owning business=Greater income<br>Industry Name=%{x}<br>Number of Business Owners=%{y}<extra></extra>",
         "legendgroup": "Greater income",
         "marker": {
          "color": "#636efa",
          "pattern": {
           "shape": ""
          }
         },
         "name": "Greater income",
         "offsetgroup": "Greater income",
         "orientation": "v",
         "showlegend": true,
         "textposition": "auto",
         "texttemplate": "%{y:.2s}",
         "type": "bar",
         "x": [
          "Construction"
         ],
         "xaxis": "x",
         "y": [
          359871
         ],
         "yaxis": "y"
        },
        {
         "alignmentgroup": "True",
         "hovertemplate": "Reason for owning business=Wanted to be my own boss<br>Industry Name=%{x}<br>Number of Business Owners=%{y}<extra></extra>",
         "legendgroup": "Wanted to be my own boss",
         "marker": {
          "color": "#EF553B",
          "pattern": {
           "shape": ""
          }
         },
         "name": "Wanted to be my own boss",
         "offsetgroup": "Wanted to be my own boss",
         "orientation": "v",
         "showlegend": true,
         "textposition": "auto",
         "texttemplate": "%{y:.2s}",
         "type": "bar",
         "x": [
          "Construction"
         ],
         "xaxis": "x",
         "y": [
          344989
         ],
         "yaxis": "y"
        },
        {
         "alignmentgroup": "True",
         "hovertemplate": "Reason for owning business=Balance work and family<br>Industry Name=%{x}<br>Number of Business Owners=%{y}<extra></extra>",
         "legendgroup": "Balance work and family",
         "marker": {
          "color": "#00cc96",
          "pattern": {
           "shape": ""
          }
         },
         "name": "Balance work and family",
         "offsetgroup": "Balance work and family",
         "orientation": "v",
         "showlegend": true,
         "textposition": "auto",
         "texttemplate": "%{y:.2s}",
         "type": "bar",
         "x": [
          "Construction"
         ],
         "xaxis": "x",
         "y": [
          319860
         ],
         "yaxis": "y"
        },
        {
         "alignmentgroup": "True",
         "hovertemplate": "Reason for owning business=Best avenue for ideas<br>Industry Name=%{x}<br>Number of Business Owners=%{y}<extra></extra>",
         "legendgroup": "Best avenue for ideas",
         "marker": {
          "color": "#ab63fa",
          "pattern": {
           "shape": ""
          }
         },
         "name": "Best avenue for ideas",
         "offsetgroup": "Best avenue for ideas",
         "orientation": "v",
         "showlegend": true,
         "textposition": "auto",
         "texttemplate": "%{y:.2s}",
         "type": "bar",
         "x": [
          "Construction"
         ],
         "xaxis": "x",
         "y": [
          299981
         ],
         "yaxis": "y"
        },
        {
         "alignmentgroup": "True",
         "hovertemplate": "Reason for owning business=Flexible hours<br>Industry Name=%{x}<br>Number of Business Owners=%{y}<extra></extra>",
         "legendgroup": "Flexible hours",
         "marker": {
          "color": "#FFA15A",
          "pattern": {
           "shape": ""
          }
         },
         "name": "Flexible hours",
         "offsetgroup": "Flexible hours",
         "orientation": "v",
         "showlegend": true,
         "textposition": "auto",
         "texttemplate": "%{y:.2s}",
         "type": "bar",
         "x": [
          "Construction"
         ],
         "xaxis": "x",
         "y": [
          287047
         ],
         "yaxis": "y"
        },
        {
         "alignmentgroup": "True",
         "hovertemplate": "Reason for owning business=Start my own business<br>Industry Name=%{x}<br>Number of Business Owners=%{y}<extra></extra>",
         "legendgroup": "Start my own business",
         "marker": {
          "color": "#19d3f3",
          "pattern": {
           "shape": ""
          }
         },
         "name": "Start my own business",
         "offsetgroup": "Start my own business",
         "orientation": "v",
         "showlegend": true,
         "textposition": "auto",
         "texttemplate": "%{y:.2s}",
         "type": "bar",
         "x": [
          "Construction"
         ],
         "xaxis": "x",
         "y": [
          262341
         ],
         "yaxis": "y"
        },
        {
         "alignmentgroup": "True",
         "hovertemplate": "Reason for owning business=Work for self<br>Industry Name=%{x}<br>Number of Business Owners=%{y}<extra></extra>",
         "legendgroup": "Work for self",
         "marker": {
          "color": "#FF6692",
          "pattern": {
           "shape": ""
          }
         },
         "name": "Work for self",
         "offsetgroup": "Work for self",
         "orientation": "v",
         "showlegend": true,
         "textposition": "auto",
         "texttemplate": "%{y:.2s}",
         "type": "bar",
         "x": [
          "Construction"
         ],
         "xaxis": "x",
         "y": [
          182473
         ],
         "yaxis": "y"
        },
        {
         "alignmentgroup": "True",
         "hovertemplate": "Reason for owning business=Friend or family role model<br>Industry Name=%{x}<br>Number of Business Owners=%{y}<extra></extra>",
         "legendgroup": "Friend or family role model",
         "marker": {
          "color": "#B6E880",
          "pattern": {
           "shape": ""
          }
         },
         "name": "Friend or family role model",
         "offsetgroup": "Friend or family role model",
         "orientation": "v",
         "showlegend": true,
         "textposition": "auto",
         "texttemplate": "%{y:.2s}",
         "type": "bar",
         "x": [
          "Construction"
         ],
         "xaxis": "x",
         "y": [
          155671
         ],
         "yaxis": "y"
        },
        {
         "alignmentgroup": "True",
         "hovertemplate": "Reason for owning business=Carry on family business<br>Industry Name=%{x}<br>Number of Business Owners=%{y}<extra></extra>",
         "legendgroup": "Carry on family business",
         "marker": {
          "color": "#FF97FF",
          "pattern": {
           "shape": ""
          }
         },
         "name": "Carry on family business",
         "offsetgroup": "Carry on family business",
         "orientation": "v",
         "showlegend": true,
         "textposition": "auto",
         "texttemplate": "%{y:.2s}",
         "type": "bar",
         "x": [
          "Construction"
         ],
         "xaxis": "x",
         "y": [
          115024
         ],
         "yaxis": "y"
        },
        {
         "alignmentgroup": "True",
         "hovertemplate": "Reason for owning business=Help my community<br>Industry Name=%{x}<br>Number of Business Owners=%{y}<extra></extra>",
         "legendgroup": "Help my community",
         "marker": {
          "color": "#FECB52",
          "pattern": {
           "shape": ""
          }
         },
         "name": "Help my community",
         "offsetgroup": "Help my community",
         "orientation": "v",
         "showlegend": true,
         "textposition": "auto",
         "texttemplate": "%{y:.2s}",
         "type": "bar",
         "x": [
          "Construction"
         ],
         "xaxis": "x",
         "y": [
          107162
         ],
         "yaxis": "y"
        },
        {
         "alignmentgroup": "True",
         "hovertemplate": "Reason for owning business=Other<br>Industry Name=%{x}<br>Number of Business Owners=%{y}<extra></extra>",
         "legendgroup": "Other",
         "marker": {
          "color": "#636efa",
          "pattern": {
           "shape": ""
          }
         },
         "name": "Other",
         "offsetgroup": "Other",
         "orientation": "v",
         "showlegend": true,
         "textposition": "auto",
         "texttemplate": "%{y:.2s}",
         "type": "bar",
         "x": [
          "Construction"
         ],
         "xaxis": "x",
         "y": [
          50039
         ],
         "yaxis": "y"
        },
        {
         "alignmentgroup": "True",
         "hovertemplate": "Reason for owning business=Couldn't find a job<br>Industry Name=%{x}<br>Number of Business Owners=%{y}<extra></extra>",
         "legendgroup": "Couldn't find a job",
         "marker": {
          "color": "#EF553B",
          "pattern": {
           "shape": ""
          }
         },
         "name": "Couldn't find a job",
         "offsetgroup": "Couldn't find a job",
         "orientation": "v",
         "showlegend": true,
         "textposition": "auto",
         "texttemplate": "%{y:.2s}",
         "type": "bar",
         "x": [
          "Construction"
         ],
         "xaxis": "x",
         "y": [
          43503
         ],
         "yaxis": "y"
        }
       ],
       "layout": {
        "barmode": "group",
        "legend": {
         "title": {
          "text": "Reason for owning business"
         },
         "tracegroupgap": 0
        },
        "template": {
         "data": {
          "bar": [
           {
            "error_x": {
             "color": "#2a3f5f"
            },
            "error_y": {
             "color": "#2a3f5f"
            },
            "marker": {
             "line": {
              "color": "#E5ECF6",
              "width": 0.5
             },
             "pattern": {
              "fillmode": "overlay",
              "size": 10,
              "solidity": 0.2
             }
            },
            "type": "bar"
           }
          ],
          "barpolar": [
           {
            "marker": {
             "line": {
              "color": "#E5ECF6",
              "width": 0.5
             },
             "pattern": {
              "fillmode": "overlay",
              "size": 10,
              "solidity": 0.2
             }
            },
            "type": "barpolar"
           }
          ],
          "carpet": [
           {
            "aaxis": {
             "endlinecolor": "#2a3f5f",
             "gridcolor": "white",
             "linecolor": "white",
             "minorgridcolor": "white",
             "startlinecolor": "#2a3f5f"
            },
            "baxis": {
             "endlinecolor": "#2a3f5f",
             "gridcolor": "white",
             "linecolor": "white",
             "minorgridcolor": "white",
             "startlinecolor": "#2a3f5f"
            },
            "type": "carpet"
           }
          ],
          "choropleth": [
           {
            "colorbar": {
             "outlinewidth": 0,
             "ticks": ""
            },
            "type": "choropleth"
           }
          ],
          "contour": [
           {
            "colorbar": {
             "outlinewidth": 0,
             "ticks": ""
            },
            "colorscale": [
             [
              0,
              "#0d0887"
             ],
             [
              0.1111111111111111,
              "#46039f"
             ],
             [
              0.2222222222222222,
              "#7201a8"
             ],
             [
              0.3333333333333333,
              "#9c179e"
             ],
             [
              0.4444444444444444,
              "#bd3786"
             ],
             [
              0.5555555555555556,
              "#d8576b"
             ],
             [
              0.6666666666666666,
              "#ed7953"
             ],
             [
              0.7777777777777778,
              "#fb9f3a"
             ],
             [
              0.8888888888888888,
              "#fdca26"
             ],
             [
              1,
              "#f0f921"
             ]
            ],
            "type": "contour"
           }
          ],
          "contourcarpet": [
           {
            "colorbar": {
             "outlinewidth": 0,
             "ticks": ""
            },
            "type": "contourcarpet"
           }
          ],
          "heatmap": [
           {
            "colorbar": {
             "outlinewidth": 0,
             "ticks": ""
            },
            "colorscale": [
             [
              0,
              "#0d0887"
             ],
             [
              0.1111111111111111,
              "#46039f"
             ],
             [
              0.2222222222222222,
              "#7201a8"
             ],
             [
              0.3333333333333333,
              "#9c179e"
             ],
             [
              0.4444444444444444,
              "#bd3786"
             ],
             [
              0.5555555555555556,
              "#d8576b"
             ],
             [
              0.6666666666666666,
              "#ed7953"
             ],
             [
              0.7777777777777778,
              "#fb9f3a"
             ],
             [
              0.8888888888888888,
              "#fdca26"
             ],
             [
              1,
              "#f0f921"
             ]
            ],
            "type": "heatmap"
           }
          ],
          "heatmapgl": [
           {
            "colorbar": {
             "outlinewidth": 0,
             "ticks": ""
            },
            "colorscale": [
             [
              0,
              "#0d0887"
             ],
             [
              0.1111111111111111,
              "#46039f"
             ],
             [
              0.2222222222222222,
              "#7201a8"
             ],
             [
              0.3333333333333333,
              "#9c179e"
             ],
             [
              0.4444444444444444,
              "#bd3786"
             ],
             [
              0.5555555555555556,
              "#d8576b"
             ],
             [
              0.6666666666666666,
              "#ed7953"
             ],
             [
              0.7777777777777778,
              "#fb9f3a"
             ],
             [
              0.8888888888888888,
              "#fdca26"
             ],
             [
              1,
              "#f0f921"
             ]
            ],
            "type": "heatmapgl"
           }
          ],
          "histogram": [
           {
            "marker": {
             "pattern": {
              "fillmode": "overlay",
              "size": 10,
              "solidity": 0.2
             }
            },
            "type": "histogram"
           }
          ],
          "histogram2d": [
           {
            "colorbar": {
             "outlinewidth": 0,
             "ticks": ""
            },
            "colorscale": [
             [
              0,
              "#0d0887"
             ],
             [
              0.1111111111111111,
              "#46039f"
             ],
             [
              0.2222222222222222,
              "#7201a8"
             ],
             [
              0.3333333333333333,
              "#9c179e"
             ],
             [
              0.4444444444444444,
              "#bd3786"
             ],
             [
              0.5555555555555556,
              "#d8576b"
             ],
             [
              0.6666666666666666,
              "#ed7953"
             ],
             [
              0.7777777777777778,
              "#fb9f3a"
             ],
             [
              0.8888888888888888,
              "#fdca26"
             ],
             [
              1,
              "#f0f921"
             ]
            ],
            "type": "histogram2d"
           }
          ],
          "histogram2dcontour": [
           {
            "colorbar": {
             "outlinewidth": 0,
             "ticks": ""
            },
            "colorscale": [
             [
              0,
              "#0d0887"
             ],
             [
              0.1111111111111111,
              "#46039f"
             ],
             [
              0.2222222222222222,
              "#7201a8"
             ],
             [
              0.3333333333333333,
              "#9c179e"
             ],
             [
              0.4444444444444444,
              "#bd3786"
             ],
             [
              0.5555555555555556,
              "#d8576b"
             ],
             [
              0.6666666666666666,
              "#ed7953"
             ],
             [
              0.7777777777777778,
              "#fb9f3a"
             ],
             [
              0.8888888888888888,
              "#fdca26"
             ],
             [
              1,
              "#f0f921"
             ]
            ],
            "type": "histogram2dcontour"
           }
          ],
          "mesh3d": [
           {
            "colorbar": {
             "outlinewidth": 0,
             "ticks": ""
            },
            "type": "mesh3d"
           }
          ],
          "parcoords": [
           {
            "line": {
             "colorbar": {
              "outlinewidth": 0,
              "ticks": ""
             }
            },
            "type": "parcoords"
           }
          ],
          "pie": [
           {
            "automargin": true,
            "type": "pie"
           }
          ],
          "scatter": [
           {
            "fillpattern": {
             "fillmode": "overlay",
             "size": 10,
             "solidity": 0.2
            },
            "type": "scatter"
           }
          ],
          "scatter3d": [
           {
            "line": {
             "colorbar": {
              "outlinewidth": 0,
              "ticks": ""
             }
            },
            "marker": {
             "colorbar": {
              "outlinewidth": 0,
              "ticks": ""
             }
            },
            "type": "scatter3d"
           }
          ],
          "scattercarpet": [
           {
            "marker": {
             "colorbar": {
              "outlinewidth": 0,
              "ticks": ""
             }
            },
            "type": "scattercarpet"
           }
          ],
          "scattergeo": [
           {
            "marker": {
             "colorbar": {
              "outlinewidth": 0,
              "ticks": ""
             }
            },
            "type": "scattergeo"
           }
          ],
          "scattergl": [
           {
            "marker": {
             "colorbar": {
              "outlinewidth": 0,
              "ticks": ""
             }
            },
            "type": "scattergl"
           }
          ],
          "scattermapbox": [
           {
            "marker": {
             "colorbar": {
              "outlinewidth": 0,
              "ticks": ""
             }
            },
            "type": "scattermapbox"
           }
          ],
          "scatterpolar": [
           {
            "marker": {
             "colorbar": {
              "outlinewidth": 0,
              "ticks": ""
             }
            },
            "type": "scatterpolar"
           }
          ],
          "scatterpolargl": [
           {
            "marker": {
             "colorbar": {
              "outlinewidth": 0,
              "ticks": ""
             }
            },
            "type": "scatterpolargl"
           }
          ],
          "scatterternary": [
           {
            "marker": {
             "colorbar": {
              "outlinewidth": 0,
              "ticks": ""
             }
            },
            "type": "scatterternary"
           }
          ],
          "surface": [
           {
            "colorbar": {
             "outlinewidth": 0,
             "ticks": ""
            },
            "colorscale": [
             [
              0,
              "#0d0887"
             ],
             [
              0.1111111111111111,
              "#46039f"
             ],
             [
              0.2222222222222222,
              "#7201a8"
             ],
             [
              0.3333333333333333,
              "#9c179e"
             ],
             [
              0.4444444444444444,
              "#bd3786"
             ],
             [
              0.5555555555555556,
              "#d8576b"
             ],
             [
              0.6666666666666666,
              "#ed7953"
             ],
             [
              0.7777777777777778,
              "#fb9f3a"
             ],
             [
              0.8888888888888888,
              "#fdca26"
             ],
             [
              1,
              "#f0f921"
             ]
            ],
            "type": "surface"
           }
          ],
          "table": [
           {
            "cells": {
             "fill": {
              "color": "#EBF0F8"
             },
             "line": {
              "color": "white"
             }
            },
            "header": {
             "fill": {
              "color": "#C8D4E3"
             },
             "line": {
              "color": "white"
             }
            },
            "type": "table"
           }
          ]
         },
         "layout": {
          "annotationdefaults": {
           "arrowcolor": "#2a3f5f",
           "arrowhead": 0,
           "arrowwidth": 1
          },
          "autotypenumbers": "strict",
          "coloraxis": {
           "colorbar": {
            "outlinewidth": 0,
            "ticks": ""
           }
          },
          "colorscale": {
           "diverging": [
            [
             0,
             "#8e0152"
            ],
            [
             0.1,
             "#c51b7d"
            ],
            [
             0.2,
             "#de77ae"
            ],
            [
             0.3,
             "#f1b6da"
            ],
            [
             0.4,
             "#fde0ef"
            ],
            [
             0.5,
             "#f7f7f7"
            ],
            [
             0.6,
             "#e6f5d0"
            ],
            [
             0.7,
             "#b8e186"
            ],
            [
             0.8,
             "#7fbc41"
            ],
            [
             0.9,
             "#4d9221"
            ],
            [
             1,
             "#276419"
            ]
           ],
           "sequential": [
            [
             0,
             "#0d0887"
            ],
            [
             0.1111111111111111,
             "#46039f"
            ],
            [
             0.2222222222222222,
             "#7201a8"
            ],
            [
             0.3333333333333333,
             "#9c179e"
            ],
            [
             0.4444444444444444,
             "#bd3786"
            ],
            [
             0.5555555555555556,
             "#d8576b"
            ],
            [
             0.6666666666666666,
             "#ed7953"
            ],
            [
             0.7777777777777778,
             "#fb9f3a"
            ],
            [
             0.8888888888888888,
             "#fdca26"
            ],
            [
             1,
             "#f0f921"
            ]
           ],
           "sequentialminus": [
            [
             0,
             "#0d0887"
            ],
            [
             0.1111111111111111,
             "#46039f"
            ],
            [
             0.2222222222222222,
             "#7201a8"
            ],
            [
             0.3333333333333333,
             "#9c179e"
            ],
            [
             0.4444444444444444,
             "#bd3786"
            ],
            [
             0.5555555555555556,
             "#d8576b"
            ],
            [
             0.6666666666666666,
             "#ed7953"
            ],
            [
             0.7777777777777778,
             "#fb9f3a"
            ],
            [
             0.8888888888888888,
             "#fdca26"
            ],
            [
             1,
             "#f0f921"
            ]
           ]
          },
          "colorway": [
           "#636efa",
           "#EF553B",
           "#00cc96",
           "#ab63fa",
           "#FFA15A",
           "#19d3f3",
           "#FF6692",
           "#B6E880",
           "#FF97FF",
           "#FECB52"
          ],
          "font": {
           "color": "#2a3f5f"
          },
          "geo": {
           "bgcolor": "white",
           "lakecolor": "white",
           "landcolor": "#E5ECF6",
           "showlakes": true,
           "showland": true,
           "subunitcolor": "white"
          },
          "hoverlabel": {
           "align": "left"
          },
          "hovermode": "closest",
          "mapbox": {
           "style": "light"
          },
          "paper_bgcolor": "white",
          "plot_bgcolor": "#E5ECF6",
          "polar": {
           "angularaxis": {
            "gridcolor": "white",
            "linecolor": "white",
            "ticks": ""
           },
           "bgcolor": "#E5ECF6",
           "radialaxis": {
            "gridcolor": "white",
            "linecolor": "white",
            "ticks": ""
           }
          },
          "scene": {
           "xaxis": {
            "backgroundcolor": "#E5ECF6",
            "gridcolor": "white",
            "gridwidth": 2,
            "linecolor": "white",
            "showbackground": true,
            "ticks": "",
            "zerolinecolor": "white"
           },
           "yaxis": {
            "backgroundcolor": "#E5ECF6",
            "gridcolor": "white",
            "gridwidth": 2,
            "linecolor": "white",
            "showbackground": true,
            "ticks": "",
            "zerolinecolor": "white"
           },
           "zaxis": {
            "backgroundcolor": "#E5ECF6",
            "gridcolor": "white",
            "gridwidth": 2,
            "linecolor": "white",
            "showbackground": true,
            "ticks": "",
            "zerolinecolor": "white"
           }
          },
          "shapedefaults": {
           "line": {
            "color": "#2a3f5f"
           }
          },
          "ternary": {
           "aaxis": {
            "gridcolor": "white",
            "linecolor": "white",
            "ticks": ""
           },
           "baxis": {
            "gridcolor": "white",
            "linecolor": "white",
            "ticks": ""
           },
           "bgcolor": "#E5ECF6",
           "caxis": {
            "gridcolor": "white",
            "linecolor": "white",
            "ticks": ""
           }
          },
          "title": {
           "x": 0.05
          },
          "xaxis": {
           "automargin": true,
           "gridcolor": "white",
           "linecolor": "white",
           "ticks": "",
           "title": {
            "standoff": 15
           },
           "zerolinecolor": "white",
           "zerolinewidth": 2
          },
          "yaxis": {
           "automargin": true,
           "gridcolor": "white",
           "linecolor": "white",
           "ticks": "",
           "title": {
            "standoff": 15
           },
           "zerolinecolor": "white",
           "zerolinewidth": 2
          }
         }
        },
        "title": {
         "text": "Reasons to own business for industry: Construction"
        },
        "xaxis": {
         "anchor": "y",
         "domain": [
          0,
          1
         ],
         "title": {
          "text": "Industry Name"
         }
        },
        "yaxis": {
         "anchor": "x",
         "domain": [
          0,
          1
         ],
         "title": {
          "text": "Number of Business Owners"
         }
        }
       }
      }
     },
     "metadata": {},
     "output_type": "display_data"
    },
    {
     "data": {
      "application/vnd.plotly.v1+json": {
       "config": {
        "plotlyServerURL": "https://plot.ly"
       },
       "data": [
        {
         "alignmentgroup": "True",
         "hovertemplate": "Reason for owning business=Best avenue for ideas<br>Industry Name=%{x}<br>Number of Business Owners=%{y}<extra></extra>",
         "legendgroup": "Best avenue for ideas",
         "marker": {
          "color": "#636efa",
          "pattern": {
           "shape": ""
          }
         },
         "name": "Best avenue for ideas",
         "offsetgroup": "Best avenue for ideas",
         "orientation": "v",
         "showlegend": true,
         "textposition": "auto",
         "texttemplate": "%{y:.2s}",
         "type": "bar",
         "x": [
          "Educational services"
         ],
         "xaxis": "x",
         "y": [
          29056
         ],
         "yaxis": "y"
        },
        {
         "alignmentgroup": "True",
         "hovertemplate": "Reason for owning business=Wanted to be my own boss<br>Industry Name=%{x}<br>Number of Business Owners=%{y}<extra></extra>",
         "legendgroup": "Wanted to be my own boss",
         "marker": {
          "color": "#EF553B",
          "pattern": {
           "shape": ""
          }
         },
         "name": "Wanted to be my own boss",
         "offsetgroup": "Wanted to be my own boss",
         "orientation": "v",
         "showlegend": true,
         "textposition": "auto",
         "texttemplate": "%{y:.2s}",
         "type": "bar",
         "x": [
          "Educational services"
         ],
         "xaxis": "x",
         "y": [
          27017
         ],
         "yaxis": "y"
        },
        {
         "alignmentgroup": "True",
         "hovertemplate": "Reason for owning business=Balance work and family<br>Industry Name=%{x}<br>Number of Business Owners=%{y}<extra></extra>",
         "legendgroup": "Balance work and family",
         "marker": {
          "color": "#00cc96",
          "pattern": {
           "shape": ""
          }
         },
         "name": "Balance work and family",
         "offsetgroup": "Balance work and family",
         "orientation": "v",
         "showlegend": true,
         "textposition": "auto",
         "texttemplate": "%{y:.2s}",
         "type": "bar",
         "x": [
          "Educational services"
         ],
         "xaxis": "x",
         "y": [
          25990
         ],
         "yaxis": "y"
        },
        {
         "alignmentgroup": "True",
         "hovertemplate": "Reason for owning business=Flexible hours<br>Industry Name=%{x}<br>Number of Business Owners=%{y}<extra></extra>",
         "legendgroup": "Flexible hours",
         "marker": {
          "color": "#ab63fa",
          "pattern": {
           "shape": ""
          }
         },
         "name": "Flexible hours",
         "offsetgroup": "Flexible hours",
         "orientation": "v",
         "showlegend": true,
         "textposition": "auto",
         "texttemplate": "%{y:.2s}",
         "type": "bar",
         "x": [
          "Educational services"
         ],
         "xaxis": "x",
         "y": [
          25918
         ],
         "yaxis": "y"
        },
        {
         "alignmentgroup": "True",
         "hovertemplate": "Reason for owning business=Greater income<br>Industry Name=%{x}<br>Number of Business Owners=%{y}<extra></extra>",
         "legendgroup": "Greater income",
         "marker": {
          "color": "#FFA15A",
          "pattern": {
           "shape": ""
          }
         },
         "name": "Greater income",
         "offsetgroup": "Greater income",
         "orientation": "v",
         "showlegend": true,
         "textposition": "auto",
         "texttemplate": "%{y:.2s}",
         "type": "bar",
         "x": [
          "Educational services"
         ],
         "xaxis": "x",
         "y": [
          24862
         ],
         "yaxis": "y"
        },
        {
         "alignmentgroup": "True",
         "hovertemplate": "Reason for owning business=Start my own business<br>Industry Name=%{x}<br>Number of Business Owners=%{y}<extra></extra>",
         "legendgroup": "Start my own business",
         "marker": {
          "color": "#19d3f3",
          "pattern": {
           "shape": ""
          }
         },
         "name": "Start my own business",
         "offsetgroup": "Start my own business",
         "orientation": "v",
         "showlegend": true,
         "textposition": "auto",
         "texttemplate": "%{y:.2s}",
         "type": "bar",
         "x": [
          "Educational services"
         ],
         "xaxis": "x",
         "y": [
          19183
         ],
         "yaxis": "y"
        },
        {
         "alignmentgroup": "True",
         "hovertemplate": "Reason for owning business=Help my community<br>Industry Name=%{x}<br>Number of Business Owners=%{y}<extra></extra>",
         "legendgroup": "Help my community",
         "marker": {
          "color": "#FF6692",
          "pattern": {
           "shape": ""
          }
         },
         "name": "Help my community",
         "offsetgroup": "Help my community",
         "orientation": "v",
         "showlegend": true,
         "textposition": "auto",
         "texttemplate": "%{y:.2s}",
         "type": "bar",
         "x": [
          "Educational services"
         ],
         "xaxis": "x",
         "y": [
          17979
         ],
         "yaxis": "y"
        },
        {
         "alignmentgroup": "True",
         "hovertemplate": "Reason for owning business=Work for self<br>Industry Name=%{x}<br>Number of Business Owners=%{y}<extra></extra>",
         "legendgroup": "Work for self",
         "marker": {
          "color": "#B6E880",
          "pattern": {
           "shape": ""
          }
         },
         "name": "Work for self",
         "offsetgroup": "Work for self",
         "orientation": "v",
         "showlegend": true,
         "textposition": "auto",
         "texttemplate": "%{y:.2s}",
         "type": "bar",
         "x": [
          "Educational services"
         ],
         "xaxis": "x",
         "y": [
          13427
         ],
         "yaxis": "y"
        },
        {
         "alignmentgroup": "True",
         "hovertemplate": "Reason for owning business=Friend or family role model<br>Industry Name=%{x}<br>Number of Business Owners=%{y}<extra></extra>",
         "legendgroup": "Friend or family role model",
         "marker": {
          "color": "#FF97FF",
          "pattern": {
           "shape": ""
          }
         },
         "name": "Friend or family role model",
         "offsetgroup": "Friend or family role model",
         "orientation": "v",
         "showlegend": true,
         "textposition": "auto",
         "texttemplate": "%{y:.2s}",
         "type": "bar",
         "x": [
          "Educational services"
         ],
         "xaxis": "x",
         "y": [
          11754
         ],
         "yaxis": "y"
        },
        {
         "alignmentgroup": "True",
         "hovertemplate": "Reason for owning business=Other<br>Industry Name=%{x}<br>Number of Business Owners=%{y}<extra></extra>",
         "legendgroup": "Other",
         "marker": {
          "color": "#FECB52",
          "pattern": {
           "shape": ""
          }
         },
         "name": "Other",
         "offsetgroup": "Other",
         "orientation": "v",
         "showlegend": true,
         "textposition": "auto",
         "texttemplate": "%{y:.2s}",
         "type": "bar",
         "x": [
          "Educational services"
         ],
         "xaxis": "x",
         "y": [
          6406
         ],
         "yaxis": "y"
        },
        {
         "alignmentgroup": "True",
         "hovertemplate": "Reason for owning business=Carry on family business<br>Industry Name=%{x}<br>Number of Business Owners=%{y}<extra></extra>",
         "legendgroup": "Carry on family business",
         "marker": {
          "color": "#636efa",
          "pattern": {
           "shape": ""
          }
         },
         "name": "Carry on family business",
         "offsetgroup": "Carry on family business",
         "orientation": "v",
         "showlegend": true,
         "textposition": "auto",
         "texttemplate": "%{y:.2s}",
         "type": "bar",
         "x": [
          "Educational services"
         ],
         "xaxis": "x",
         "y": [
          5367
         ],
         "yaxis": "y"
        },
        {
         "alignmentgroup": "True",
         "hovertemplate": "Reason for owning business=Couldn't find a job<br>Industry Name=%{x}<br>Number of Business Owners=%{y}<extra></extra>",
         "legendgroup": "Couldn't find a job",
         "marker": {
          "color": "#EF553B",
          "pattern": {
           "shape": ""
          }
         },
         "name": "Couldn't find a job",
         "offsetgroup": "Couldn't find a job",
         "orientation": "v",
         "showlegend": true,
         "textposition": "auto",
         "texttemplate": "%{y:.2s}",
         "type": "bar",
         "x": [
          "Educational services"
         ],
         "xaxis": "x",
         "y": [
          2514
         ],
         "yaxis": "y"
        }
       ],
       "layout": {
        "barmode": "group",
        "legend": {
         "title": {
          "text": "Reason for owning business"
         },
         "tracegroupgap": 0
        },
        "template": {
         "data": {
          "bar": [
           {
            "error_x": {
             "color": "#2a3f5f"
            },
            "error_y": {
             "color": "#2a3f5f"
            },
            "marker": {
             "line": {
              "color": "#E5ECF6",
              "width": 0.5
             },
             "pattern": {
              "fillmode": "overlay",
              "size": 10,
              "solidity": 0.2
             }
            },
            "type": "bar"
           }
          ],
          "barpolar": [
           {
            "marker": {
             "line": {
              "color": "#E5ECF6",
              "width": 0.5
             },
             "pattern": {
              "fillmode": "overlay",
              "size": 10,
              "solidity": 0.2
             }
            },
            "type": "barpolar"
           }
          ],
          "carpet": [
           {
            "aaxis": {
             "endlinecolor": "#2a3f5f",
             "gridcolor": "white",
             "linecolor": "white",
             "minorgridcolor": "white",
             "startlinecolor": "#2a3f5f"
            },
            "baxis": {
             "endlinecolor": "#2a3f5f",
             "gridcolor": "white",
             "linecolor": "white",
             "minorgridcolor": "white",
             "startlinecolor": "#2a3f5f"
            },
            "type": "carpet"
           }
          ],
          "choropleth": [
           {
            "colorbar": {
             "outlinewidth": 0,
             "ticks": ""
            },
            "type": "choropleth"
           }
          ],
          "contour": [
           {
            "colorbar": {
             "outlinewidth": 0,
             "ticks": ""
            },
            "colorscale": [
             [
              0,
              "#0d0887"
             ],
             [
              0.1111111111111111,
              "#46039f"
             ],
             [
              0.2222222222222222,
              "#7201a8"
             ],
             [
              0.3333333333333333,
              "#9c179e"
             ],
             [
              0.4444444444444444,
              "#bd3786"
             ],
             [
              0.5555555555555556,
              "#d8576b"
             ],
             [
              0.6666666666666666,
              "#ed7953"
             ],
             [
              0.7777777777777778,
              "#fb9f3a"
             ],
             [
              0.8888888888888888,
              "#fdca26"
             ],
             [
              1,
              "#f0f921"
             ]
            ],
            "type": "contour"
           }
          ],
          "contourcarpet": [
           {
            "colorbar": {
             "outlinewidth": 0,
             "ticks": ""
            },
            "type": "contourcarpet"
           }
          ],
          "heatmap": [
           {
            "colorbar": {
             "outlinewidth": 0,
             "ticks": ""
            },
            "colorscale": [
             [
              0,
              "#0d0887"
             ],
             [
              0.1111111111111111,
              "#46039f"
             ],
             [
              0.2222222222222222,
              "#7201a8"
             ],
             [
              0.3333333333333333,
              "#9c179e"
             ],
             [
              0.4444444444444444,
              "#bd3786"
             ],
             [
              0.5555555555555556,
              "#d8576b"
             ],
             [
              0.6666666666666666,
              "#ed7953"
             ],
             [
              0.7777777777777778,
              "#fb9f3a"
             ],
             [
              0.8888888888888888,
              "#fdca26"
             ],
             [
              1,
              "#f0f921"
             ]
            ],
            "type": "heatmap"
           }
          ],
          "heatmapgl": [
           {
            "colorbar": {
             "outlinewidth": 0,
             "ticks": ""
            },
            "colorscale": [
             [
              0,
              "#0d0887"
             ],
             [
              0.1111111111111111,
              "#46039f"
             ],
             [
              0.2222222222222222,
              "#7201a8"
             ],
             [
              0.3333333333333333,
              "#9c179e"
             ],
             [
              0.4444444444444444,
              "#bd3786"
             ],
             [
              0.5555555555555556,
              "#d8576b"
             ],
             [
              0.6666666666666666,
              "#ed7953"
             ],
             [
              0.7777777777777778,
              "#fb9f3a"
             ],
             [
              0.8888888888888888,
              "#fdca26"
             ],
             [
              1,
              "#f0f921"
             ]
            ],
            "type": "heatmapgl"
           }
          ],
          "histogram": [
           {
            "marker": {
             "pattern": {
              "fillmode": "overlay",
              "size": 10,
              "solidity": 0.2
             }
            },
            "type": "histogram"
           }
          ],
          "histogram2d": [
           {
            "colorbar": {
             "outlinewidth": 0,
             "ticks": ""
            },
            "colorscale": [
             [
              0,
              "#0d0887"
             ],
             [
              0.1111111111111111,
              "#46039f"
             ],
             [
              0.2222222222222222,
              "#7201a8"
             ],
             [
              0.3333333333333333,
              "#9c179e"
             ],
             [
              0.4444444444444444,
              "#bd3786"
             ],
             [
              0.5555555555555556,
              "#d8576b"
             ],
             [
              0.6666666666666666,
              "#ed7953"
             ],
             [
              0.7777777777777778,
              "#fb9f3a"
             ],
             [
              0.8888888888888888,
              "#fdca26"
             ],
             [
              1,
              "#f0f921"
             ]
            ],
            "type": "histogram2d"
           }
          ],
          "histogram2dcontour": [
           {
            "colorbar": {
             "outlinewidth": 0,
             "ticks": ""
            },
            "colorscale": [
             [
              0,
              "#0d0887"
             ],
             [
              0.1111111111111111,
              "#46039f"
             ],
             [
              0.2222222222222222,
              "#7201a8"
             ],
             [
              0.3333333333333333,
              "#9c179e"
             ],
             [
              0.4444444444444444,
              "#bd3786"
             ],
             [
              0.5555555555555556,
              "#d8576b"
             ],
             [
              0.6666666666666666,
              "#ed7953"
             ],
             [
              0.7777777777777778,
              "#fb9f3a"
             ],
             [
              0.8888888888888888,
              "#fdca26"
             ],
             [
              1,
              "#f0f921"
             ]
            ],
            "type": "histogram2dcontour"
           }
          ],
          "mesh3d": [
           {
            "colorbar": {
             "outlinewidth": 0,
             "ticks": ""
            },
            "type": "mesh3d"
           }
          ],
          "parcoords": [
           {
            "line": {
             "colorbar": {
              "outlinewidth": 0,
              "ticks": ""
             }
            },
            "type": "parcoords"
           }
          ],
          "pie": [
           {
            "automargin": true,
            "type": "pie"
           }
          ],
          "scatter": [
           {
            "fillpattern": {
             "fillmode": "overlay",
             "size": 10,
             "solidity": 0.2
            },
            "type": "scatter"
           }
          ],
          "scatter3d": [
           {
            "line": {
             "colorbar": {
              "outlinewidth": 0,
              "ticks": ""
             }
            },
            "marker": {
             "colorbar": {
              "outlinewidth": 0,
              "ticks": ""
             }
            },
            "type": "scatter3d"
           }
          ],
          "scattercarpet": [
           {
            "marker": {
             "colorbar": {
              "outlinewidth": 0,
              "ticks": ""
             }
            },
            "type": "scattercarpet"
           }
          ],
          "scattergeo": [
           {
            "marker": {
             "colorbar": {
              "outlinewidth": 0,
              "ticks": ""
             }
            },
            "type": "scattergeo"
           }
          ],
          "scattergl": [
           {
            "marker": {
             "colorbar": {
              "outlinewidth": 0,
              "ticks": ""
             }
            },
            "type": "scattergl"
           }
          ],
          "scattermapbox": [
           {
            "marker": {
             "colorbar": {
              "outlinewidth": 0,
              "ticks": ""
             }
            },
            "type": "scattermapbox"
           }
          ],
          "scatterpolar": [
           {
            "marker": {
             "colorbar": {
              "outlinewidth": 0,
              "ticks": ""
             }
            },
            "type": "scatterpolar"
           }
          ],
          "scatterpolargl": [
           {
            "marker": {
             "colorbar": {
              "outlinewidth": 0,
              "ticks": ""
             }
            },
            "type": "scatterpolargl"
           }
          ],
          "scatterternary": [
           {
            "marker": {
             "colorbar": {
              "outlinewidth": 0,
              "ticks": ""
             }
            },
            "type": "scatterternary"
           }
          ],
          "surface": [
           {
            "colorbar": {
             "outlinewidth": 0,
             "ticks": ""
            },
            "colorscale": [
             [
              0,
              "#0d0887"
             ],
             [
              0.1111111111111111,
              "#46039f"
             ],
             [
              0.2222222222222222,
              "#7201a8"
             ],
             [
              0.3333333333333333,
              "#9c179e"
             ],
             [
              0.4444444444444444,
              "#bd3786"
             ],
             [
              0.5555555555555556,
              "#d8576b"
             ],
             [
              0.6666666666666666,
              "#ed7953"
             ],
             [
              0.7777777777777778,
              "#fb9f3a"
             ],
             [
              0.8888888888888888,
              "#fdca26"
             ],
             [
              1,
              "#f0f921"
             ]
            ],
            "type": "surface"
           }
          ],
          "table": [
           {
            "cells": {
             "fill": {
              "color": "#EBF0F8"
             },
             "line": {
              "color": "white"
             }
            },
            "header": {
             "fill": {
              "color": "#C8D4E3"
             },
             "line": {
              "color": "white"
             }
            },
            "type": "table"
           }
          ]
         },
         "layout": {
          "annotationdefaults": {
           "arrowcolor": "#2a3f5f",
           "arrowhead": 0,
           "arrowwidth": 1
          },
          "autotypenumbers": "strict",
          "coloraxis": {
           "colorbar": {
            "outlinewidth": 0,
            "ticks": ""
           }
          },
          "colorscale": {
           "diverging": [
            [
             0,
             "#8e0152"
            ],
            [
             0.1,
             "#c51b7d"
            ],
            [
             0.2,
             "#de77ae"
            ],
            [
             0.3,
             "#f1b6da"
            ],
            [
             0.4,
             "#fde0ef"
            ],
            [
             0.5,
             "#f7f7f7"
            ],
            [
             0.6,
             "#e6f5d0"
            ],
            [
             0.7,
             "#b8e186"
            ],
            [
             0.8,
             "#7fbc41"
            ],
            [
             0.9,
             "#4d9221"
            ],
            [
             1,
             "#276419"
            ]
           ],
           "sequential": [
            [
             0,
             "#0d0887"
            ],
            [
             0.1111111111111111,
             "#46039f"
            ],
            [
             0.2222222222222222,
             "#7201a8"
            ],
            [
             0.3333333333333333,
             "#9c179e"
            ],
            [
             0.4444444444444444,
             "#bd3786"
            ],
            [
             0.5555555555555556,
             "#d8576b"
            ],
            [
             0.6666666666666666,
             "#ed7953"
            ],
            [
             0.7777777777777778,
             "#fb9f3a"
            ],
            [
             0.8888888888888888,
             "#fdca26"
            ],
            [
             1,
             "#f0f921"
            ]
           ],
           "sequentialminus": [
            [
             0,
             "#0d0887"
            ],
            [
             0.1111111111111111,
             "#46039f"
            ],
            [
             0.2222222222222222,
             "#7201a8"
            ],
            [
             0.3333333333333333,
             "#9c179e"
            ],
            [
             0.4444444444444444,
             "#bd3786"
            ],
            [
             0.5555555555555556,
             "#d8576b"
            ],
            [
             0.6666666666666666,
             "#ed7953"
            ],
            [
             0.7777777777777778,
             "#fb9f3a"
            ],
            [
             0.8888888888888888,
             "#fdca26"
            ],
            [
             1,
             "#f0f921"
            ]
           ]
          },
          "colorway": [
           "#636efa",
           "#EF553B",
           "#00cc96",
           "#ab63fa",
           "#FFA15A",
           "#19d3f3",
           "#FF6692",
           "#B6E880",
           "#FF97FF",
           "#FECB52"
          ],
          "font": {
           "color": "#2a3f5f"
          },
          "geo": {
           "bgcolor": "white",
           "lakecolor": "white",
           "landcolor": "#E5ECF6",
           "showlakes": true,
           "showland": true,
           "subunitcolor": "white"
          },
          "hoverlabel": {
           "align": "left"
          },
          "hovermode": "closest",
          "mapbox": {
           "style": "light"
          },
          "paper_bgcolor": "white",
          "plot_bgcolor": "#E5ECF6",
          "polar": {
           "angularaxis": {
            "gridcolor": "white",
            "linecolor": "white",
            "ticks": ""
           },
           "bgcolor": "#E5ECF6",
           "radialaxis": {
            "gridcolor": "white",
            "linecolor": "white",
            "ticks": ""
           }
          },
          "scene": {
           "xaxis": {
            "backgroundcolor": "#E5ECF6",
            "gridcolor": "white",
            "gridwidth": 2,
            "linecolor": "white",
            "showbackground": true,
            "ticks": "",
            "zerolinecolor": "white"
           },
           "yaxis": {
            "backgroundcolor": "#E5ECF6",
            "gridcolor": "white",
            "gridwidth": 2,
            "linecolor": "white",
            "showbackground": true,
            "ticks": "",
            "zerolinecolor": "white"
           },
           "zaxis": {
            "backgroundcolor": "#E5ECF6",
            "gridcolor": "white",
            "gridwidth": 2,
            "linecolor": "white",
            "showbackground": true,
            "ticks": "",
            "zerolinecolor": "white"
           }
          },
          "shapedefaults": {
           "line": {
            "color": "#2a3f5f"
           }
          },
          "ternary": {
           "aaxis": {
            "gridcolor": "white",
            "linecolor": "white",
            "ticks": ""
           },
           "baxis": {
            "gridcolor": "white",
            "linecolor": "white",
            "ticks": ""
           },
           "bgcolor": "#E5ECF6",
           "caxis": {
            "gridcolor": "white",
            "linecolor": "white",
            "ticks": ""
           }
          },
          "title": {
           "x": 0.05
          },
          "xaxis": {
           "automargin": true,
           "gridcolor": "white",
           "linecolor": "white",
           "ticks": "",
           "title": {
            "standoff": 15
           },
           "zerolinecolor": "white",
           "zerolinewidth": 2
          },
          "yaxis": {
           "automargin": true,
           "gridcolor": "white",
           "linecolor": "white",
           "ticks": "",
           "title": {
            "standoff": 15
           },
           "zerolinecolor": "white",
           "zerolinewidth": 2
          }
         }
        },
        "title": {
         "text": "Reasons to own business for industry: Educational services"
        },
        "xaxis": {
         "anchor": "y",
         "domain": [
          0,
          1
         ],
         "title": {
          "text": "Industry Name"
         }
        },
        "yaxis": {
         "anchor": "x",
         "domain": [
          0,
          1
         ],
         "title": {
          "text": "Number of Business Owners"
         }
        }
       }
      }
     },
     "metadata": {},
     "output_type": "display_data"
    },
    {
     "data": {
      "application/vnd.plotly.v1+json": {
       "config": {
        "plotlyServerURL": "https://plot.ly"
       },
       "data": [
        {
         "alignmentgroup": "True",
         "hovertemplate": "Reason for owning business=Greater income<br>Industry Name=%{x}<br>Number of Business Owners=%{y}<extra></extra>",
         "legendgroup": "Greater income",
         "marker": {
          "color": "#636efa",
          "pattern": {
           "shape": ""
          }
         },
         "name": "Greater income",
         "offsetgroup": "Greater income",
         "orientation": "v",
         "showlegend": true,
         "textposition": "auto",
         "texttemplate": "%{y:.2s}",
         "type": "bar",
         "x": [
          "Finance and insurance"
         ],
         "xaxis": "x",
         "y": [
          130943
         ],
         "yaxis": "y"
        },
        {
         "alignmentgroup": "True",
         "hovertemplate": "Reason for owning business=Wanted to be my own boss<br>Industry Name=%{x}<br>Number of Business Owners=%{y}<extra></extra>",
         "legendgroup": "Wanted to be my own boss",
         "marker": {
          "color": "#EF553B",
          "pattern": {
           "shape": ""
          }
         },
         "name": "Wanted to be my own boss",
         "offsetgroup": "Wanted to be my own boss",
         "orientation": "v",
         "showlegend": true,
         "textposition": "auto",
         "texttemplate": "%{y:.2s}",
         "type": "bar",
         "x": [
          "Finance and insurance"
         ],
         "xaxis": "x",
         "y": [
          126131
         ],
         "yaxis": "y"
        },
        {
         "alignmentgroup": "True",
         "hovertemplate": "Reason for owning business=Balance work and family<br>Industry Name=%{x}<br>Number of Business Owners=%{y}<extra></extra>",
         "legendgroup": "Balance work and family",
         "marker": {
          "color": "#00cc96",
          "pattern": {
           "shape": ""
          }
         },
         "name": "Balance work and family",
         "offsetgroup": "Balance work and family",
         "orientation": "v",
         "showlegend": true,
         "textposition": "auto",
         "texttemplate": "%{y:.2s}",
         "type": "bar",
         "x": [
          "Finance and insurance"
         ],
         "xaxis": "x",
         "y": [
          117429
         ],
         "yaxis": "y"
        },
        {
         "alignmentgroup": "True",
         "hovertemplate": "Reason for owning business=Flexible hours<br>Industry Name=%{x}<br>Number of Business Owners=%{y}<extra></extra>",
         "legendgroup": "Flexible hours",
         "marker": {
          "color": "#ab63fa",
          "pattern": {
           "shape": ""
          }
         },
         "name": "Flexible hours",
         "offsetgroup": "Flexible hours",
         "orientation": "v",
         "showlegend": true,
         "textposition": "auto",
         "texttemplate": "%{y:.2s}",
         "type": "bar",
         "x": [
          "Finance and insurance"
         ],
         "xaxis": "x",
         "y": [
          114029
         ],
         "yaxis": "y"
        },
        {
         "alignmentgroup": "True",
         "hovertemplate": "Reason for owning business=Best avenue for ideas<br>Industry Name=%{x}<br>Number of Business Owners=%{y}<extra></extra>",
         "legendgroup": "Best avenue for ideas",
         "marker": {
          "color": "#FFA15A",
          "pattern": {
           "shape": ""
          }
         },
         "name": "Best avenue for ideas",
         "offsetgroup": "Best avenue for ideas",
         "orientation": "v",
         "showlegend": true,
         "textposition": "auto",
         "texttemplate": "%{y:.2s}",
         "type": "bar",
         "x": [
          "Finance and insurance"
         ],
         "xaxis": "x",
         "y": [
          102820
         ],
         "yaxis": "y"
        },
        {
         "alignmentgroup": "True",
         "hovertemplate": "Reason for owning business=Start my own business<br>Industry Name=%{x}<br>Number of Business Owners=%{y}<extra></extra>",
         "legendgroup": "Start my own business",
         "marker": {
          "color": "#19d3f3",
          "pattern": {
           "shape": ""
          }
         },
         "name": "Start my own business",
         "offsetgroup": "Start my own business",
         "orientation": "v",
         "showlegend": true,
         "textposition": "auto",
         "texttemplate": "%{y:.2s}",
         "type": "bar",
         "x": [
          "Finance and insurance"
         ],
         "xaxis": "x",
         "y": [
          85086
         ],
         "yaxis": "y"
        },
        {
         "alignmentgroup": "True",
         "hovertemplate": "Reason for owning business=Work for self<br>Industry Name=%{x}<br>Number of Business Owners=%{y}<extra></extra>",
         "legendgroup": "Work for self",
         "marker": {
          "color": "#FF6692",
          "pattern": {
           "shape": ""
          }
         },
         "name": "Work for self",
         "offsetgroup": "Work for self",
         "orientation": "v",
         "showlegend": true,
         "textposition": "auto",
         "texttemplate": "%{y:.2s}",
         "type": "bar",
         "x": [
          "Finance and insurance"
         ],
         "xaxis": "x",
         "y": [
          64195
         ],
         "yaxis": "y"
        },
        {
         "alignmentgroup": "True",
         "hovertemplate": "Reason for owning business=Friend or family role model<br>Industry Name=%{x}<br>Number of Business Owners=%{y}<extra></extra>",
         "legendgroup": "Friend or family role model",
         "marker": {
          "color": "#B6E880",
          "pattern": {
           "shape": ""
          }
         },
         "name": "Friend or family role model",
         "offsetgroup": "Friend or family role model",
         "orientation": "v",
         "showlegend": true,
         "textposition": "auto",
         "texttemplate": "%{y:.2s}",
         "type": "bar",
         "x": [
          "Finance and insurance"
         ],
         "xaxis": "x",
         "y": [
          59328
         ],
         "yaxis": "y"
        },
        {
         "alignmentgroup": "True",
         "hovertemplate": "Reason for owning business=Help my community<br>Industry Name=%{x}<br>Number of Business Owners=%{y}<extra></extra>",
         "legendgroup": "Help my community",
         "marker": {
          "color": "#FF97FF",
          "pattern": {
           "shape": ""
          }
         },
         "name": "Help my community",
         "offsetgroup": "Help my community",
         "orientation": "v",
         "showlegend": true,
         "textposition": "auto",
         "texttemplate": "%{y:.2s}",
         "type": "bar",
         "x": [
          "Finance and insurance"
         ],
         "xaxis": "x",
         "y": [
          51233
         ],
         "yaxis": "y"
        },
        {
         "alignmentgroup": "True",
         "hovertemplate": "Reason for owning business=Carry on family business<br>Industry Name=%{x}<br>Number of Business Owners=%{y}<extra></extra>",
         "legendgroup": "Carry on family business",
         "marker": {
          "color": "#FECB52",
          "pattern": {
           "shape": ""
          }
         },
         "name": "Carry on family business",
         "offsetgroup": "Carry on family business",
         "orientation": "v",
         "showlegend": true,
         "textposition": "auto",
         "texttemplate": "%{y:.2s}",
         "type": "bar",
         "x": [
          "Finance and insurance"
         ],
         "xaxis": "x",
         "y": [
          34104
         ],
         "yaxis": "y"
        },
        {
         "alignmentgroup": "True",
         "hovertemplate": "Reason for owning business=Other<br>Industry Name=%{x}<br>Number of Business Owners=%{y}<extra></extra>",
         "legendgroup": "Other",
         "marker": {
          "color": "#636efa",
          "pattern": {
           "shape": ""
          }
         },
         "name": "Other",
         "offsetgroup": "Other",
         "orientation": "v",
         "showlegend": true,
         "textposition": "auto",
         "texttemplate": "%{y:.2s}",
         "type": "bar",
         "x": [
          "Finance and insurance"
         ],
         "xaxis": "x",
         "y": [
          15902
         ],
         "yaxis": "y"
        },
        {
         "alignmentgroup": "True",
         "hovertemplate": "Reason for owning business=Couldn't find a job<br>Industry Name=%{x}<br>Number of Business Owners=%{y}<extra></extra>",
         "legendgroup": "Couldn't find a job",
         "marker": {
          "color": "#EF553B",
          "pattern": {
           "shape": ""
          }
         },
         "name": "Couldn't find a job",
         "offsetgroup": "Couldn't find a job",
         "orientation": "v",
         "showlegend": true,
         "textposition": "auto",
         "texttemplate": "%{y:.2s}",
         "type": "bar",
         "x": [
          "Finance and insurance"
         ],
         "xaxis": "x",
         "y": [
          10641
         ],
         "yaxis": "y"
        }
       ],
       "layout": {
        "barmode": "group",
        "legend": {
         "title": {
          "text": "Reason for owning business"
         },
         "tracegroupgap": 0
        },
        "template": {
         "data": {
          "bar": [
           {
            "error_x": {
             "color": "#2a3f5f"
            },
            "error_y": {
             "color": "#2a3f5f"
            },
            "marker": {
             "line": {
              "color": "#E5ECF6",
              "width": 0.5
             },
             "pattern": {
              "fillmode": "overlay",
              "size": 10,
              "solidity": 0.2
             }
            },
            "type": "bar"
           }
          ],
          "barpolar": [
           {
            "marker": {
             "line": {
              "color": "#E5ECF6",
              "width": 0.5
             },
             "pattern": {
              "fillmode": "overlay",
              "size": 10,
              "solidity": 0.2
             }
            },
            "type": "barpolar"
           }
          ],
          "carpet": [
           {
            "aaxis": {
             "endlinecolor": "#2a3f5f",
             "gridcolor": "white",
             "linecolor": "white",
             "minorgridcolor": "white",
             "startlinecolor": "#2a3f5f"
            },
            "baxis": {
             "endlinecolor": "#2a3f5f",
             "gridcolor": "white",
             "linecolor": "white",
             "minorgridcolor": "white",
             "startlinecolor": "#2a3f5f"
            },
            "type": "carpet"
           }
          ],
          "choropleth": [
           {
            "colorbar": {
             "outlinewidth": 0,
             "ticks": ""
            },
            "type": "choropleth"
           }
          ],
          "contour": [
           {
            "colorbar": {
             "outlinewidth": 0,
             "ticks": ""
            },
            "colorscale": [
             [
              0,
              "#0d0887"
             ],
             [
              0.1111111111111111,
              "#46039f"
             ],
             [
              0.2222222222222222,
              "#7201a8"
             ],
             [
              0.3333333333333333,
              "#9c179e"
             ],
             [
              0.4444444444444444,
              "#bd3786"
             ],
             [
              0.5555555555555556,
              "#d8576b"
             ],
             [
              0.6666666666666666,
              "#ed7953"
             ],
             [
              0.7777777777777778,
              "#fb9f3a"
             ],
             [
              0.8888888888888888,
              "#fdca26"
             ],
             [
              1,
              "#f0f921"
             ]
            ],
            "type": "contour"
           }
          ],
          "contourcarpet": [
           {
            "colorbar": {
             "outlinewidth": 0,
             "ticks": ""
            },
            "type": "contourcarpet"
           }
          ],
          "heatmap": [
           {
            "colorbar": {
             "outlinewidth": 0,
             "ticks": ""
            },
            "colorscale": [
             [
              0,
              "#0d0887"
             ],
             [
              0.1111111111111111,
              "#46039f"
             ],
             [
              0.2222222222222222,
              "#7201a8"
             ],
             [
              0.3333333333333333,
              "#9c179e"
             ],
             [
              0.4444444444444444,
              "#bd3786"
             ],
             [
              0.5555555555555556,
              "#d8576b"
             ],
             [
              0.6666666666666666,
              "#ed7953"
             ],
             [
              0.7777777777777778,
              "#fb9f3a"
             ],
             [
              0.8888888888888888,
              "#fdca26"
             ],
             [
              1,
              "#f0f921"
             ]
            ],
            "type": "heatmap"
           }
          ],
          "heatmapgl": [
           {
            "colorbar": {
             "outlinewidth": 0,
             "ticks": ""
            },
            "colorscale": [
             [
              0,
              "#0d0887"
             ],
             [
              0.1111111111111111,
              "#46039f"
             ],
             [
              0.2222222222222222,
              "#7201a8"
             ],
             [
              0.3333333333333333,
              "#9c179e"
             ],
             [
              0.4444444444444444,
              "#bd3786"
             ],
             [
              0.5555555555555556,
              "#d8576b"
             ],
             [
              0.6666666666666666,
              "#ed7953"
             ],
             [
              0.7777777777777778,
              "#fb9f3a"
             ],
             [
              0.8888888888888888,
              "#fdca26"
             ],
             [
              1,
              "#f0f921"
             ]
            ],
            "type": "heatmapgl"
           }
          ],
          "histogram": [
           {
            "marker": {
             "pattern": {
              "fillmode": "overlay",
              "size": 10,
              "solidity": 0.2
             }
            },
            "type": "histogram"
           }
          ],
          "histogram2d": [
           {
            "colorbar": {
             "outlinewidth": 0,
             "ticks": ""
            },
            "colorscale": [
             [
              0,
              "#0d0887"
             ],
             [
              0.1111111111111111,
              "#46039f"
             ],
             [
              0.2222222222222222,
              "#7201a8"
             ],
             [
              0.3333333333333333,
              "#9c179e"
             ],
             [
              0.4444444444444444,
              "#bd3786"
             ],
             [
              0.5555555555555556,
              "#d8576b"
             ],
             [
              0.6666666666666666,
              "#ed7953"
             ],
             [
              0.7777777777777778,
              "#fb9f3a"
             ],
             [
              0.8888888888888888,
              "#fdca26"
             ],
             [
              1,
              "#f0f921"
             ]
            ],
            "type": "histogram2d"
           }
          ],
          "histogram2dcontour": [
           {
            "colorbar": {
             "outlinewidth": 0,
             "ticks": ""
            },
            "colorscale": [
             [
              0,
              "#0d0887"
             ],
             [
              0.1111111111111111,
              "#46039f"
             ],
             [
              0.2222222222222222,
              "#7201a8"
             ],
             [
              0.3333333333333333,
              "#9c179e"
             ],
             [
              0.4444444444444444,
              "#bd3786"
             ],
             [
              0.5555555555555556,
              "#d8576b"
             ],
             [
              0.6666666666666666,
              "#ed7953"
             ],
             [
              0.7777777777777778,
              "#fb9f3a"
             ],
             [
              0.8888888888888888,
              "#fdca26"
             ],
             [
              1,
              "#f0f921"
             ]
            ],
            "type": "histogram2dcontour"
           }
          ],
          "mesh3d": [
           {
            "colorbar": {
             "outlinewidth": 0,
             "ticks": ""
            },
            "type": "mesh3d"
           }
          ],
          "parcoords": [
           {
            "line": {
             "colorbar": {
              "outlinewidth": 0,
              "ticks": ""
             }
            },
            "type": "parcoords"
           }
          ],
          "pie": [
           {
            "automargin": true,
            "type": "pie"
           }
          ],
          "scatter": [
           {
            "fillpattern": {
             "fillmode": "overlay",
             "size": 10,
             "solidity": 0.2
            },
            "type": "scatter"
           }
          ],
          "scatter3d": [
           {
            "line": {
             "colorbar": {
              "outlinewidth": 0,
              "ticks": ""
             }
            },
            "marker": {
             "colorbar": {
              "outlinewidth": 0,
              "ticks": ""
             }
            },
            "type": "scatter3d"
           }
          ],
          "scattercarpet": [
           {
            "marker": {
             "colorbar": {
              "outlinewidth": 0,
              "ticks": ""
             }
            },
            "type": "scattercarpet"
           }
          ],
          "scattergeo": [
           {
            "marker": {
             "colorbar": {
              "outlinewidth": 0,
              "ticks": ""
             }
            },
            "type": "scattergeo"
           }
          ],
          "scattergl": [
           {
            "marker": {
             "colorbar": {
              "outlinewidth": 0,
              "ticks": ""
             }
            },
            "type": "scattergl"
           }
          ],
          "scattermapbox": [
           {
            "marker": {
             "colorbar": {
              "outlinewidth": 0,
              "ticks": ""
             }
            },
            "type": "scattermapbox"
           }
          ],
          "scatterpolar": [
           {
            "marker": {
             "colorbar": {
              "outlinewidth": 0,
              "ticks": ""
             }
            },
            "type": "scatterpolar"
           }
          ],
          "scatterpolargl": [
           {
            "marker": {
             "colorbar": {
              "outlinewidth": 0,
              "ticks": ""
             }
            },
            "type": "scatterpolargl"
           }
          ],
          "scatterternary": [
           {
            "marker": {
             "colorbar": {
              "outlinewidth": 0,
              "ticks": ""
             }
            },
            "type": "scatterternary"
           }
          ],
          "surface": [
           {
            "colorbar": {
             "outlinewidth": 0,
             "ticks": ""
            },
            "colorscale": [
             [
              0,
              "#0d0887"
             ],
             [
              0.1111111111111111,
              "#46039f"
             ],
             [
              0.2222222222222222,
              "#7201a8"
             ],
             [
              0.3333333333333333,
              "#9c179e"
             ],
             [
              0.4444444444444444,
              "#bd3786"
             ],
             [
              0.5555555555555556,
              "#d8576b"
             ],
             [
              0.6666666666666666,
              "#ed7953"
             ],
             [
              0.7777777777777778,
              "#fb9f3a"
             ],
             [
              0.8888888888888888,
              "#fdca26"
             ],
             [
              1,
              "#f0f921"
             ]
            ],
            "type": "surface"
           }
          ],
          "table": [
           {
            "cells": {
             "fill": {
              "color": "#EBF0F8"
             },
             "line": {
              "color": "white"
             }
            },
            "header": {
             "fill": {
              "color": "#C8D4E3"
             },
             "line": {
              "color": "white"
             }
            },
            "type": "table"
           }
          ]
         },
         "layout": {
          "annotationdefaults": {
           "arrowcolor": "#2a3f5f",
           "arrowhead": 0,
           "arrowwidth": 1
          },
          "autotypenumbers": "strict",
          "coloraxis": {
           "colorbar": {
            "outlinewidth": 0,
            "ticks": ""
           }
          },
          "colorscale": {
           "diverging": [
            [
             0,
             "#8e0152"
            ],
            [
             0.1,
             "#c51b7d"
            ],
            [
             0.2,
             "#de77ae"
            ],
            [
             0.3,
             "#f1b6da"
            ],
            [
             0.4,
             "#fde0ef"
            ],
            [
             0.5,
             "#f7f7f7"
            ],
            [
             0.6,
             "#e6f5d0"
            ],
            [
             0.7,
             "#b8e186"
            ],
            [
             0.8,
             "#7fbc41"
            ],
            [
             0.9,
             "#4d9221"
            ],
            [
             1,
             "#276419"
            ]
           ],
           "sequential": [
            [
             0,
             "#0d0887"
            ],
            [
             0.1111111111111111,
             "#46039f"
            ],
            [
             0.2222222222222222,
             "#7201a8"
            ],
            [
             0.3333333333333333,
             "#9c179e"
            ],
            [
             0.4444444444444444,
             "#bd3786"
            ],
            [
             0.5555555555555556,
             "#d8576b"
            ],
            [
             0.6666666666666666,
             "#ed7953"
            ],
            [
             0.7777777777777778,
             "#fb9f3a"
            ],
            [
             0.8888888888888888,
             "#fdca26"
            ],
            [
             1,
             "#f0f921"
            ]
           ],
           "sequentialminus": [
            [
             0,
             "#0d0887"
            ],
            [
             0.1111111111111111,
             "#46039f"
            ],
            [
             0.2222222222222222,
             "#7201a8"
            ],
            [
             0.3333333333333333,
             "#9c179e"
            ],
            [
             0.4444444444444444,
             "#bd3786"
            ],
            [
             0.5555555555555556,
             "#d8576b"
            ],
            [
             0.6666666666666666,
             "#ed7953"
            ],
            [
             0.7777777777777778,
             "#fb9f3a"
            ],
            [
             0.8888888888888888,
             "#fdca26"
            ],
            [
             1,
             "#f0f921"
            ]
           ]
          },
          "colorway": [
           "#636efa",
           "#EF553B",
           "#00cc96",
           "#ab63fa",
           "#FFA15A",
           "#19d3f3",
           "#FF6692",
           "#B6E880",
           "#FF97FF",
           "#FECB52"
          ],
          "font": {
           "color": "#2a3f5f"
          },
          "geo": {
           "bgcolor": "white",
           "lakecolor": "white",
           "landcolor": "#E5ECF6",
           "showlakes": true,
           "showland": true,
           "subunitcolor": "white"
          },
          "hoverlabel": {
           "align": "left"
          },
          "hovermode": "closest",
          "mapbox": {
           "style": "light"
          },
          "paper_bgcolor": "white",
          "plot_bgcolor": "#E5ECF6",
          "polar": {
           "angularaxis": {
            "gridcolor": "white",
            "linecolor": "white",
            "ticks": ""
           },
           "bgcolor": "#E5ECF6",
           "radialaxis": {
            "gridcolor": "white",
            "linecolor": "white",
            "ticks": ""
           }
          },
          "scene": {
           "xaxis": {
            "backgroundcolor": "#E5ECF6",
            "gridcolor": "white",
            "gridwidth": 2,
            "linecolor": "white",
            "showbackground": true,
            "ticks": "",
            "zerolinecolor": "white"
           },
           "yaxis": {
            "backgroundcolor": "#E5ECF6",
            "gridcolor": "white",
            "gridwidth": 2,
            "linecolor": "white",
            "showbackground": true,
            "ticks": "",
            "zerolinecolor": "white"
           },
           "zaxis": {
            "backgroundcolor": "#E5ECF6",
            "gridcolor": "white",
            "gridwidth": 2,
            "linecolor": "white",
            "showbackground": true,
            "ticks": "",
            "zerolinecolor": "white"
           }
          },
          "shapedefaults": {
           "line": {
            "color": "#2a3f5f"
           }
          },
          "ternary": {
           "aaxis": {
            "gridcolor": "white",
            "linecolor": "white",
            "ticks": ""
           },
           "baxis": {
            "gridcolor": "white",
            "linecolor": "white",
            "ticks": ""
           },
           "bgcolor": "#E5ECF6",
           "caxis": {
            "gridcolor": "white",
            "linecolor": "white",
            "ticks": ""
           }
          },
          "title": {
           "x": 0.05
          },
          "xaxis": {
           "automargin": true,
           "gridcolor": "white",
           "linecolor": "white",
           "ticks": "",
           "title": {
            "standoff": 15
           },
           "zerolinecolor": "white",
           "zerolinewidth": 2
          },
          "yaxis": {
           "automargin": true,
           "gridcolor": "white",
           "linecolor": "white",
           "ticks": "",
           "title": {
            "standoff": 15
           },
           "zerolinecolor": "white",
           "zerolinewidth": 2
          }
         }
        },
        "title": {
         "text": "Reasons to own business for industry: Finance and insurance"
        },
        "xaxis": {
         "anchor": "y",
         "domain": [
          0,
          1
         ],
         "title": {
          "text": "Industry Name"
         }
        },
        "yaxis": {
         "anchor": "x",
         "domain": [
          0,
          1
         ],
         "title": {
          "text": "Number of Business Owners"
         }
        }
       }
      }
     },
     "metadata": {},
     "output_type": "display_data"
    },
    {
     "data": {
      "application/vnd.plotly.v1+json": {
       "config": {
        "plotlyServerURL": "https://plot.ly"
       },
       "data": [
        {
         "alignmentgroup": "True",
         "hovertemplate": "Reason for owning business=Wanted to be my own boss<br>Industry Name=%{x}<br>Number of Business Owners=%{y}<extra></extra>",
         "legendgroup": "Wanted to be my own boss",
         "marker": {
          "color": "#636efa",
          "pattern": {
           "shape": ""
          }
         },
         "name": "Wanted to be my own boss",
         "offsetgroup": "Wanted to be my own boss",
         "orientation": "v",
         "showlegend": true,
         "textposition": "auto",
         "texttemplate": "%{y:.2s}",
         "type": "bar",
         "x": [
          "Health care and social assistance"
         ],
         "xaxis": "x",
         "y": [
          282117
         ],
         "yaxis": "y"
        },
        {
         "alignmentgroup": "True",
         "hovertemplate": "Reason for owning business=Balance work and family<br>Industry Name=%{x}<br>Number of Business Owners=%{y}<extra></extra>",
         "legendgroup": "Balance work and family",
         "marker": {
          "color": "#EF553B",
          "pattern": {
           "shape": ""
          }
         },
         "name": "Balance work and family",
         "offsetgroup": "Balance work and family",
         "orientation": "v",
         "showlegend": true,
         "textposition": "auto",
         "texttemplate": "%{y:.2s}",
         "type": "bar",
         "x": [
          "Health care and social assistance"
         ],
         "xaxis": "x",
         "y": [
          270468
         ],
         "yaxis": "y"
        },
        {
         "alignmentgroup": "True",
         "hovertemplate": "Reason for owning business=Best avenue for ideas<br>Industry Name=%{x}<br>Number of Business Owners=%{y}<extra></extra>",
         "legendgroup": "Best avenue for ideas",
         "marker": {
          "color": "#00cc96",
          "pattern": {
           "shape": ""
          }
         },
         "name": "Best avenue for ideas",
         "offsetgroup": "Best avenue for ideas",
         "orientation": "v",
         "showlegend": true,
         "textposition": "auto",
         "texttemplate": "%{y:.2s}",
         "type": "bar",
         "x": [
          "Health care and social assistance"
         ],
         "xaxis": "x",
         "y": [
          268191
         ],
         "yaxis": "y"
        },
        {
         "alignmentgroup": "True",
         "hovertemplate": "Reason for owning business=Greater income<br>Industry Name=%{x}<br>Number of Business Owners=%{y}<extra></extra>",
         "legendgroup": "Greater income",
         "marker": {
          "color": "#ab63fa",
          "pattern": {
           "shape": ""
          }
         },
         "name": "Greater income",
         "offsetgroup": "Greater income",
         "orientation": "v",
         "showlegend": true,
         "textposition": "auto",
         "texttemplate": "%{y:.2s}",
         "type": "bar",
         "x": [
          "Health care and social assistance"
         ],
         "xaxis": "x",
         "y": [
          264840
         ],
         "yaxis": "y"
        },
        {
         "alignmentgroup": "True",
         "hovertemplate": "Reason for owning business=Flexible hours<br>Industry Name=%{x}<br>Number of Business Owners=%{y}<extra></extra>",
         "legendgroup": "Flexible hours",
         "marker": {
          "color": "#FFA15A",
          "pattern": {
           "shape": ""
          }
         },
         "name": "Flexible hours",
         "offsetgroup": "Flexible hours",
         "orientation": "v",
         "showlegend": true,
         "textposition": "auto",
         "texttemplate": "%{y:.2s}",
         "type": "bar",
         "x": [
          "Health care and social assistance"
         ],
         "xaxis": "x",
         "y": [
          253464
         ],
         "yaxis": "y"
        },
        {
         "alignmentgroup": "True",
         "hovertemplate": "Reason for owning business=Start my own business<br>Industry Name=%{x}<br>Number of Business Owners=%{y}<extra></extra>",
         "legendgroup": "Start my own business",
         "marker": {
          "color": "#19d3f3",
          "pattern": {
           "shape": ""
          }
         },
         "name": "Start my own business",
         "offsetgroup": "Start my own business",
         "orientation": "v",
         "showlegend": true,
         "textposition": "auto",
         "texttemplate": "%{y:.2s}",
         "type": "bar",
         "x": [
          "Health care and social assistance"
         ],
         "xaxis": "x",
         "y": [
          183470
         ],
         "yaxis": "y"
        },
        {
         "alignmentgroup": "True",
         "hovertemplate": "Reason for owning business=Help my community<br>Industry Name=%{x}<br>Number of Business Owners=%{y}<extra></extra>",
         "legendgroup": "Help my community",
         "marker": {
          "color": "#FF6692",
          "pattern": {
           "shape": ""
          }
         },
         "name": "Help my community",
         "offsetgroup": "Help my community",
         "orientation": "v",
         "showlegend": true,
         "textposition": "auto",
         "texttemplate": "%{y:.2s}",
         "type": "bar",
         "x": [
          "Health care and social assistance"
         ],
         "xaxis": "x",
         "y": [
          164329
         ],
         "yaxis": "y"
        },
        {
         "alignmentgroup": "True",
         "hovertemplate": "Reason for owning business=Work for self<br>Industry Name=%{x}<br>Number of Business Owners=%{y}<extra></extra>",
         "legendgroup": "Work for self",
         "marker": {
          "color": "#B6E880",
          "pattern": {
           "shape": ""
          }
         },
         "name": "Work for self",
         "offsetgroup": "Work for self",
         "orientation": "v",
         "showlegend": true,
         "textposition": "auto",
         "texttemplate": "%{y:.2s}",
         "type": "bar",
         "x": [
          "Health care and social assistance"
         ],
         "xaxis": "x",
         "y": [
          142675
         ],
         "yaxis": "y"
        },
        {
         "alignmentgroup": "True",
         "hovertemplate": "Reason for owning business=Friend or family role model<br>Industry Name=%{x}<br>Number of Business Owners=%{y}<extra></extra>",
         "legendgroup": "Friend or family role model",
         "marker": {
          "color": "#FF97FF",
          "pattern": {
           "shape": ""
          }
         },
         "name": "Friend or family role model",
         "offsetgroup": "Friend or family role model",
         "orientation": "v",
         "showlegend": true,
         "textposition": "auto",
         "texttemplate": "%{y:.2s}",
         "type": "bar",
         "x": [
          "Health care and social assistance"
         ],
         "xaxis": "x",
         "y": [
          98386
         ],
         "yaxis": "y"
        },
        {
         "alignmentgroup": "True",
         "hovertemplate": "Reason for owning business=Other<br>Industry Name=%{x}<br>Number of Business Owners=%{y}<extra></extra>",
         "legendgroup": "Other",
         "marker": {
          "color": "#FECB52",
          "pattern": {
           "shape": ""
          }
         },
         "name": "Other",
         "offsetgroup": "Other",
         "orientation": "v",
         "showlegend": true,
         "textposition": "auto",
         "texttemplate": "%{y:.2s}",
         "type": "bar",
         "x": [
          "Health care and social assistance"
         ],
         "xaxis": "x",
         "y": [
          44659
         ],
         "yaxis": "y"
        },
        {
         "alignmentgroup": "True",
         "hovertemplate": "Reason for owning business=Carry on family business<br>Industry Name=%{x}<br>Number of Business Owners=%{y}<extra></extra>",
         "legendgroup": "Carry on family business",
         "marker": {
          "color": "#636efa",
          "pattern": {
           "shape": ""
          }
         },
         "name": "Carry on family business",
         "offsetgroup": "Carry on family business",
         "orientation": "v",
         "showlegend": true,
         "textposition": "auto",
         "texttemplate": "%{y:.2s}",
         "type": "bar",
         "x": [
          "Health care and social assistance"
         ],
         "xaxis": "x",
         "y": [
          43766
         ],
         "yaxis": "y"
        },
        {
         "alignmentgroup": "True",
         "hovertemplate": "Reason for owning business=Couldn't find a job<br>Industry Name=%{x}<br>Number of Business Owners=%{y}<extra></extra>",
         "legendgroup": "Couldn't find a job",
         "marker": {
          "color": "#EF553B",
          "pattern": {
           "shape": ""
          }
         },
         "name": "Couldn't find a job",
         "offsetgroup": "Couldn't find a job",
         "orientation": "v",
         "showlegend": true,
         "textposition": "auto",
         "texttemplate": "%{y:.2s}",
         "type": "bar",
         "x": [
          "Health care and social assistance"
         ],
         "xaxis": "x",
         "y": [
          28336
         ],
         "yaxis": "y"
        }
       ],
       "layout": {
        "barmode": "group",
        "legend": {
         "title": {
          "text": "Reason for owning business"
         },
         "tracegroupgap": 0
        },
        "template": {
         "data": {
          "bar": [
           {
            "error_x": {
             "color": "#2a3f5f"
            },
            "error_y": {
             "color": "#2a3f5f"
            },
            "marker": {
             "line": {
              "color": "#E5ECF6",
              "width": 0.5
             },
             "pattern": {
              "fillmode": "overlay",
              "size": 10,
              "solidity": 0.2
             }
            },
            "type": "bar"
           }
          ],
          "barpolar": [
           {
            "marker": {
             "line": {
              "color": "#E5ECF6",
              "width": 0.5
             },
             "pattern": {
              "fillmode": "overlay",
              "size": 10,
              "solidity": 0.2
             }
            },
            "type": "barpolar"
           }
          ],
          "carpet": [
           {
            "aaxis": {
             "endlinecolor": "#2a3f5f",
             "gridcolor": "white",
             "linecolor": "white",
             "minorgridcolor": "white",
             "startlinecolor": "#2a3f5f"
            },
            "baxis": {
             "endlinecolor": "#2a3f5f",
             "gridcolor": "white",
             "linecolor": "white",
             "minorgridcolor": "white",
             "startlinecolor": "#2a3f5f"
            },
            "type": "carpet"
           }
          ],
          "choropleth": [
           {
            "colorbar": {
             "outlinewidth": 0,
             "ticks": ""
            },
            "type": "choropleth"
           }
          ],
          "contour": [
           {
            "colorbar": {
             "outlinewidth": 0,
             "ticks": ""
            },
            "colorscale": [
             [
              0,
              "#0d0887"
             ],
             [
              0.1111111111111111,
              "#46039f"
             ],
             [
              0.2222222222222222,
              "#7201a8"
             ],
             [
              0.3333333333333333,
              "#9c179e"
             ],
             [
              0.4444444444444444,
              "#bd3786"
             ],
             [
              0.5555555555555556,
              "#d8576b"
             ],
             [
              0.6666666666666666,
              "#ed7953"
             ],
             [
              0.7777777777777778,
              "#fb9f3a"
             ],
             [
              0.8888888888888888,
              "#fdca26"
             ],
             [
              1,
              "#f0f921"
             ]
            ],
            "type": "contour"
           }
          ],
          "contourcarpet": [
           {
            "colorbar": {
             "outlinewidth": 0,
             "ticks": ""
            },
            "type": "contourcarpet"
           }
          ],
          "heatmap": [
           {
            "colorbar": {
             "outlinewidth": 0,
             "ticks": ""
            },
            "colorscale": [
             [
              0,
              "#0d0887"
             ],
             [
              0.1111111111111111,
              "#46039f"
             ],
             [
              0.2222222222222222,
              "#7201a8"
             ],
             [
              0.3333333333333333,
              "#9c179e"
             ],
             [
              0.4444444444444444,
              "#bd3786"
             ],
             [
              0.5555555555555556,
              "#d8576b"
             ],
             [
              0.6666666666666666,
              "#ed7953"
             ],
             [
              0.7777777777777778,
              "#fb9f3a"
             ],
             [
              0.8888888888888888,
              "#fdca26"
             ],
             [
              1,
              "#f0f921"
             ]
            ],
            "type": "heatmap"
           }
          ],
          "heatmapgl": [
           {
            "colorbar": {
             "outlinewidth": 0,
             "ticks": ""
            },
            "colorscale": [
             [
              0,
              "#0d0887"
             ],
             [
              0.1111111111111111,
              "#46039f"
             ],
             [
              0.2222222222222222,
              "#7201a8"
             ],
             [
              0.3333333333333333,
              "#9c179e"
             ],
             [
              0.4444444444444444,
              "#bd3786"
             ],
             [
              0.5555555555555556,
              "#d8576b"
             ],
             [
              0.6666666666666666,
              "#ed7953"
             ],
             [
              0.7777777777777778,
              "#fb9f3a"
             ],
             [
              0.8888888888888888,
              "#fdca26"
             ],
             [
              1,
              "#f0f921"
             ]
            ],
            "type": "heatmapgl"
           }
          ],
          "histogram": [
           {
            "marker": {
             "pattern": {
              "fillmode": "overlay",
              "size": 10,
              "solidity": 0.2
             }
            },
            "type": "histogram"
           }
          ],
          "histogram2d": [
           {
            "colorbar": {
             "outlinewidth": 0,
             "ticks": ""
            },
            "colorscale": [
             [
              0,
              "#0d0887"
             ],
             [
              0.1111111111111111,
              "#46039f"
             ],
             [
              0.2222222222222222,
              "#7201a8"
             ],
             [
              0.3333333333333333,
              "#9c179e"
             ],
             [
              0.4444444444444444,
              "#bd3786"
             ],
             [
              0.5555555555555556,
              "#d8576b"
             ],
             [
              0.6666666666666666,
              "#ed7953"
             ],
             [
              0.7777777777777778,
              "#fb9f3a"
             ],
             [
              0.8888888888888888,
              "#fdca26"
             ],
             [
              1,
              "#f0f921"
             ]
            ],
            "type": "histogram2d"
           }
          ],
          "histogram2dcontour": [
           {
            "colorbar": {
             "outlinewidth": 0,
             "ticks": ""
            },
            "colorscale": [
             [
              0,
              "#0d0887"
             ],
             [
              0.1111111111111111,
              "#46039f"
             ],
             [
              0.2222222222222222,
              "#7201a8"
             ],
             [
              0.3333333333333333,
              "#9c179e"
             ],
             [
              0.4444444444444444,
              "#bd3786"
             ],
             [
              0.5555555555555556,
              "#d8576b"
             ],
             [
              0.6666666666666666,
              "#ed7953"
             ],
             [
              0.7777777777777778,
              "#fb9f3a"
             ],
             [
              0.8888888888888888,
              "#fdca26"
             ],
             [
              1,
              "#f0f921"
             ]
            ],
            "type": "histogram2dcontour"
           }
          ],
          "mesh3d": [
           {
            "colorbar": {
             "outlinewidth": 0,
             "ticks": ""
            },
            "type": "mesh3d"
           }
          ],
          "parcoords": [
           {
            "line": {
             "colorbar": {
              "outlinewidth": 0,
              "ticks": ""
             }
            },
            "type": "parcoords"
           }
          ],
          "pie": [
           {
            "automargin": true,
            "type": "pie"
           }
          ],
          "scatter": [
           {
            "fillpattern": {
             "fillmode": "overlay",
             "size": 10,
             "solidity": 0.2
            },
            "type": "scatter"
           }
          ],
          "scatter3d": [
           {
            "line": {
             "colorbar": {
              "outlinewidth": 0,
              "ticks": ""
             }
            },
            "marker": {
             "colorbar": {
              "outlinewidth": 0,
              "ticks": ""
             }
            },
            "type": "scatter3d"
           }
          ],
          "scattercarpet": [
           {
            "marker": {
             "colorbar": {
              "outlinewidth": 0,
              "ticks": ""
             }
            },
            "type": "scattercarpet"
           }
          ],
          "scattergeo": [
           {
            "marker": {
             "colorbar": {
              "outlinewidth": 0,
              "ticks": ""
             }
            },
            "type": "scattergeo"
           }
          ],
          "scattergl": [
           {
            "marker": {
             "colorbar": {
              "outlinewidth": 0,
              "ticks": ""
             }
            },
            "type": "scattergl"
           }
          ],
          "scattermapbox": [
           {
            "marker": {
             "colorbar": {
              "outlinewidth": 0,
              "ticks": ""
             }
            },
            "type": "scattermapbox"
           }
          ],
          "scatterpolar": [
           {
            "marker": {
             "colorbar": {
              "outlinewidth": 0,
              "ticks": ""
             }
            },
            "type": "scatterpolar"
           }
          ],
          "scatterpolargl": [
           {
            "marker": {
             "colorbar": {
              "outlinewidth": 0,
              "ticks": ""
             }
            },
            "type": "scatterpolargl"
           }
          ],
          "scatterternary": [
           {
            "marker": {
             "colorbar": {
              "outlinewidth": 0,
              "ticks": ""
             }
            },
            "type": "scatterternary"
           }
          ],
          "surface": [
           {
            "colorbar": {
             "outlinewidth": 0,
             "ticks": ""
            },
            "colorscale": [
             [
              0,
              "#0d0887"
             ],
             [
              0.1111111111111111,
              "#46039f"
             ],
             [
              0.2222222222222222,
              "#7201a8"
             ],
             [
              0.3333333333333333,
              "#9c179e"
             ],
             [
              0.4444444444444444,
              "#bd3786"
             ],
             [
              0.5555555555555556,
              "#d8576b"
             ],
             [
              0.6666666666666666,
              "#ed7953"
             ],
             [
              0.7777777777777778,
              "#fb9f3a"
             ],
             [
              0.8888888888888888,
              "#fdca26"
             ],
             [
              1,
              "#f0f921"
             ]
            ],
            "type": "surface"
           }
          ],
          "table": [
           {
            "cells": {
             "fill": {
              "color": "#EBF0F8"
             },
             "line": {
              "color": "white"
             }
            },
            "header": {
             "fill": {
              "color": "#C8D4E3"
             },
             "line": {
              "color": "white"
             }
            },
            "type": "table"
           }
          ]
         },
         "layout": {
          "annotationdefaults": {
           "arrowcolor": "#2a3f5f",
           "arrowhead": 0,
           "arrowwidth": 1
          },
          "autotypenumbers": "strict",
          "coloraxis": {
           "colorbar": {
            "outlinewidth": 0,
            "ticks": ""
           }
          },
          "colorscale": {
           "diverging": [
            [
             0,
             "#8e0152"
            ],
            [
             0.1,
             "#c51b7d"
            ],
            [
             0.2,
             "#de77ae"
            ],
            [
             0.3,
             "#f1b6da"
            ],
            [
             0.4,
             "#fde0ef"
            ],
            [
             0.5,
             "#f7f7f7"
            ],
            [
             0.6,
             "#e6f5d0"
            ],
            [
             0.7,
             "#b8e186"
            ],
            [
             0.8,
             "#7fbc41"
            ],
            [
             0.9,
             "#4d9221"
            ],
            [
             1,
             "#276419"
            ]
           ],
           "sequential": [
            [
             0,
             "#0d0887"
            ],
            [
             0.1111111111111111,
             "#46039f"
            ],
            [
             0.2222222222222222,
             "#7201a8"
            ],
            [
             0.3333333333333333,
             "#9c179e"
            ],
            [
             0.4444444444444444,
             "#bd3786"
            ],
            [
             0.5555555555555556,
             "#d8576b"
            ],
            [
             0.6666666666666666,
             "#ed7953"
            ],
            [
             0.7777777777777778,
             "#fb9f3a"
            ],
            [
             0.8888888888888888,
             "#fdca26"
            ],
            [
             1,
             "#f0f921"
            ]
           ],
           "sequentialminus": [
            [
             0,
             "#0d0887"
            ],
            [
             0.1111111111111111,
             "#46039f"
            ],
            [
             0.2222222222222222,
             "#7201a8"
            ],
            [
             0.3333333333333333,
             "#9c179e"
            ],
            [
             0.4444444444444444,
             "#bd3786"
            ],
            [
             0.5555555555555556,
             "#d8576b"
            ],
            [
             0.6666666666666666,
             "#ed7953"
            ],
            [
             0.7777777777777778,
             "#fb9f3a"
            ],
            [
             0.8888888888888888,
             "#fdca26"
            ],
            [
             1,
             "#f0f921"
            ]
           ]
          },
          "colorway": [
           "#636efa",
           "#EF553B",
           "#00cc96",
           "#ab63fa",
           "#FFA15A",
           "#19d3f3",
           "#FF6692",
           "#B6E880",
           "#FF97FF",
           "#FECB52"
          ],
          "font": {
           "color": "#2a3f5f"
          },
          "geo": {
           "bgcolor": "white",
           "lakecolor": "white",
           "landcolor": "#E5ECF6",
           "showlakes": true,
           "showland": true,
           "subunitcolor": "white"
          },
          "hoverlabel": {
           "align": "left"
          },
          "hovermode": "closest",
          "mapbox": {
           "style": "light"
          },
          "paper_bgcolor": "white",
          "plot_bgcolor": "#E5ECF6",
          "polar": {
           "angularaxis": {
            "gridcolor": "white",
            "linecolor": "white",
            "ticks": ""
           },
           "bgcolor": "#E5ECF6",
           "radialaxis": {
            "gridcolor": "white",
            "linecolor": "white",
            "ticks": ""
           }
          },
          "scene": {
           "xaxis": {
            "backgroundcolor": "#E5ECF6",
            "gridcolor": "white",
            "gridwidth": 2,
            "linecolor": "white",
            "showbackground": true,
            "ticks": "",
            "zerolinecolor": "white"
           },
           "yaxis": {
            "backgroundcolor": "#E5ECF6",
            "gridcolor": "white",
            "gridwidth": 2,
            "linecolor": "white",
            "showbackground": true,
            "ticks": "",
            "zerolinecolor": "white"
           },
           "zaxis": {
            "backgroundcolor": "#E5ECF6",
            "gridcolor": "white",
            "gridwidth": 2,
            "linecolor": "white",
            "showbackground": true,
            "ticks": "",
            "zerolinecolor": "white"
           }
          },
          "shapedefaults": {
           "line": {
            "color": "#2a3f5f"
           }
          },
          "ternary": {
           "aaxis": {
            "gridcolor": "white",
            "linecolor": "white",
            "ticks": ""
           },
           "baxis": {
            "gridcolor": "white",
            "linecolor": "white",
            "ticks": ""
           },
           "bgcolor": "#E5ECF6",
           "caxis": {
            "gridcolor": "white",
            "linecolor": "white",
            "ticks": ""
           }
          },
          "title": {
           "x": 0.05
          },
          "xaxis": {
           "automargin": true,
           "gridcolor": "white",
           "linecolor": "white",
           "ticks": "",
           "title": {
            "standoff": 15
           },
           "zerolinecolor": "white",
           "zerolinewidth": 2
          },
          "yaxis": {
           "automargin": true,
           "gridcolor": "white",
           "linecolor": "white",
           "ticks": "",
           "title": {
            "standoff": 15
           },
           "zerolinecolor": "white",
           "zerolinewidth": 2
          }
         }
        },
        "title": {
         "text": "Reasons to own business for industry: Health care and social assistance"
        },
        "xaxis": {
         "anchor": "y",
         "domain": [
          0,
          1
         ],
         "title": {
          "text": "Industry Name"
         }
        },
        "yaxis": {
         "anchor": "x",
         "domain": [
          0,
          1
         ],
         "title": {
          "text": "Number of Business Owners"
         }
        }
       }
      }
     },
     "metadata": {},
     "output_type": "display_data"
    },
    {
     "data": {
      "application/vnd.plotly.v1+json": {
       "config": {
        "plotlyServerURL": "https://plot.ly"
       },
       "data": [
        {
         "alignmentgroup": "True",
         "hovertemplate": "Reason for owning business=Balance work and family<br>Industry Name=%{x}<br>Number of Business Owners=%{y}<extra></extra>",
         "legendgroup": "Balance work and family",
         "marker": {
          "color": "#636efa",
          "pattern": {
           "shape": ""
          }
         },
         "name": "Balance work and family",
         "offsetgroup": "Balance work and family",
         "orientation": "v",
         "showlegend": true,
         "textposition": "auto",
         "texttemplate": "%{y:.2s}",
         "type": "bar",
         "x": [
          "Industries not classified"
         ],
         "xaxis": "x",
         "y": [
          5732
         ],
         "yaxis": "y"
        },
        {
         "alignmentgroup": "True",
         "hovertemplate": "Reason for owning business=Wanted to be my own boss<br>Industry Name=%{x}<br>Number of Business Owners=%{y}<extra></extra>",
         "legendgroup": "Wanted to be my own boss",
         "marker": {
          "color": "#EF553B",
          "pattern": {
           "shape": ""
          }
         },
         "name": "Wanted to be my own boss",
         "offsetgroup": "Wanted to be my own boss",
         "orientation": "v",
         "showlegend": true,
         "textposition": "auto",
         "texttemplate": "%{y:.2s}",
         "type": "bar",
         "x": [
          "Industries not classified"
         ],
         "xaxis": "x",
         "y": [
          5696
         ],
         "yaxis": "y"
        },
        {
         "alignmentgroup": "True",
         "hovertemplate": "Reason for owning business=Carry on family business<br>Industry Name=%{x}<br>Number of Business Owners=%{y}<extra></extra>",
         "legendgroup": "Carry on family business",
         "marker": {
          "color": "#00cc96",
          "pattern": {
           "shape": ""
          }
         },
         "name": "Carry on family business",
         "offsetgroup": "Carry on family business",
         "orientation": "v",
         "showlegend": true,
         "textposition": "auto",
         "texttemplate": "%{y:.2s}",
         "type": "bar",
         "x": [
          "Industries not classified"
         ],
         "xaxis": "x",
         "y": [
          5152
         ],
         "yaxis": "y"
        },
        {
         "alignmentgroup": "True",
         "hovertemplate": "Reason for owning business=Flexible hours<br>Industry Name=%{x}<br>Number of Business Owners=%{y}<extra></extra>",
         "legendgroup": "Flexible hours",
         "marker": {
          "color": "#ab63fa",
          "pattern": {
           "shape": ""
          }
         },
         "name": "Flexible hours",
         "offsetgroup": "Flexible hours",
         "orientation": "v",
         "showlegend": true,
         "textposition": "auto",
         "texttemplate": "%{y:.2s}",
         "type": "bar",
         "x": [
          "Industries not classified"
         ],
         "xaxis": "x",
         "y": [
          5042
         ],
         "yaxis": "y"
        },
        {
         "alignmentgroup": "True",
         "hovertemplate": "Reason for owning business=Greater income<br>Industry Name=%{x}<br>Number of Business Owners=%{y}<extra></extra>",
         "legendgroup": "Greater income",
         "marker": {
          "color": "#FFA15A",
          "pattern": {
           "shape": ""
          }
         },
         "name": "Greater income",
         "offsetgroup": "Greater income",
         "orientation": "v",
         "showlegend": true,
         "textposition": "auto",
         "texttemplate": "%{y:.2s}",
         "type": "bar",
         "x": [
          "Industries not classified"
         ],
         "xaxis": "x",
         "y": [
          4405
         ],
         "yaxis": "y"
        },
        {
         "alignmentgroup": "True",
         "hovertemplate": "Reason for owning business=Best avenue for ideas<br>Industry Name=%{x}<br>Number of Business Owners=%{y}<extra></extra>",
         "legendgroup": "Best avenue for ideas",
         "marker": {
          "color": "#19d3f3",
          "pattern": {
           "shape": ""
          }
         },
         "name": "Best avenue for ideas",
         "offsetgroup": "Best avenue for ideas",
         "orientation": "v",
         "showlegend": true,
         "textposition": "auto",
         "texttemplate": "%{y:.2s}",
         "type": "bar",
         "x": [
          "Industries not classified"
         ],
         "xaxis": "x",
         "y": [
          4320
         ],
         "yaxis": "y"
        },
        {
         "alignmentgroup": "True",
         "hovertemplate": "Reason for owning business=Start my own business<br>Industry Name=%{x}<br>Number of Business Owners=%{y}<extra></extra>",
         "legendgroup": "Start my own business",
         "marker": {
          "color": "#FF6692",
          "pattern": {
           "shape": ""
          }
         },
         "name": "Start my own business",
         "offsetgroup": "Start my own business",
         "orientation": "v",
         "showlegend": true,
         "textposition": "auto",
         "texttemplate": "%{y:.2s}",
         "type": "bar",
         "x": [
          "Industries not classified"
         ],
         "xaxis": "x",
         "y": [
          3951
         ],
         "yaxis": "y"
        },
        {
         "alignmentgroup": "True",
         "hovertemplate": "Reason for owning business=Friend or family role model<br>Industry Name=%{x}<br>Number of Business Owners=%{y}<extra></extra>",
         "legendgroup": "Friend or family role model",
         "marker": {
          "color": "#B6E880",
          "pattern": {
           "shape": ""
          }
         },
         "name": "Friend or family role model",
         "offsetgroup": "Friend or family role model",
         "orientation": "v",
         "showlegend": true,
         "textposition": "auto",
         "texttemplate": "%{y:.2s}",
         "type": "bar",
         "x": [
          "Industries not classified"
         ],
         "xaxis": "x",
         "y": [
          3530
         ],
         "yaxis": "y"
        },
        {
         "alignmentgroup": "True",
         "hovertemplate": "Reason for owning business=Work for self<br>Industry Name=%{x}<br>Number of Business Owners=%{y}<extra></extra>",
         "legendgroup": "Work for self",
         "marker": {
          "color": "#FF97FF",
          "pattern": {
           "shape": ""
          }
         },
         "name": "Work for self",
         "offsetgroup": "Work for self",
         "orientation": "v",
         "showlegend": true,
         "textposition": "auto",
         "texttemplate": "%{y:.2s}",
         "type": "bar",
         "x": [
          "Industries not classified"
         ],
         "xaxis": "x",
         "y": [
          3018
         ],
         "yaxis": "y"
        },
        {
         "alignmentgroup": "True",
         "hovertemplate": "Reason for owning business=Help my community<br>Industry Name=%{x}<br>Number of Business Owners=%{y}<extra></extra>",
         "legendgroup": "Help my community",
         "marker": {
          "color": "#FECB52",
          "pattern": {
           "shape": ""
          }
         },
         "name": "Help my community",
         "offsetgroup": "Help my community",
         "orientation": "v",
         "showlegend": true,
         "textposition": "auto",
         "texttemplate": "%{y:.2s}",
         "type": "bar",
         "x": [
          "Industries not classified"
         ],
         "xaxis": "x",
         "y": [
          2062
         ],
         "yaxis": "y"
        },
        {
         "alignmentgroup": "True",
         "hovertemplate": "Reason for owning business=Other<br>Industry Name=%{x}<br>Number of Business Owners=%{y}<extra></extra>",
         "legendgroup": "Other",
         "marker": {
          "color": "#636efa",
          "pattern": {
           "shape": ""
          }
         },
         "name": "Other",
         "offsetgroup": "Other",
         "orientation": "v",
         "showlegend": true,
         "textposition": "auto",
         "texttemplate": "%{y:.2s}",
         "type": "bar",
         "x": [
          "Industries not classified"
         ],
         "xaxis": "x",
         "y": [
          1030
         ],
         "yaxis": "y"
        },
        {
         "alignmentgroup": "True",
         "hovertemplate": "Reason for owning business=Couldn't find a job<br>Industry Name=%{x}<br>Number of Business Owners=%{y}<extra></extra>",
         "legendgroup": "Couldn't find a job",
         "marker": {
          "color": "#EF553B",
          "pattern": {
           "shape": ""
          }
         },
         "name": "Couldn't find a job",
         "offsetgroup": "Couldn't find a job",
         "orientation": "v",
         "showlegend": true,
         "textposition": "auto",
         "texttemplate": "%{y:.2s}",
         "type": "bar",
         "x": [
          "Industries not classified"
         ],
         "xaxis": "x",
         "y": [
          765
         ],
         "yaxis": "y"
        }
       ],
       "layout": {
        "barmode": "group",
        "legend": {
         "title": {
          "text": "Reason for owning business"
         },
         "tracegroupgap": 0
        },
        "template": {
         "data": {
          "bar": [
           {
            "error_x": {
             "color": "#2a3f5f"
            },
            "error_y": {
             "color": "#2a3f5f"
            },
            "marker": {
             "line": {
              "color": "#E5ECF6",
              "width": 0.5
             },
             "pattern": {
              "fillmode": "overlay",
              "size": 10,
              "solidity": 0.2
             }
            },
            "type": "bar"
           }
          ],
          "barpolar": [
           {
            "marker": {
             "line": {
              "color": "#E5ECF6",
              "width": 0.5
             },
             "pattern": {
              "fillmode": "overlay",
              "size": 10,
              "solidity": 0.2
             }
            },
            "type": "barpolar"
           }
          ],
          "carpet": [
           {
            "aaxis": {
             "endlinecolor": "#2a3f5f",
             "gridcolor": "white",
             "linecolor": "white",
             "minorgridcolor": "white",
             "startlinecolor": "#2a3f5f"
            },
            "baxis": {
             "endlinecolor": "#2a3f5f",
             "gridcolor": "white",
             "linecolor": "white",
             "minorgridcolor": "white",
             "startlinecolor": "#2a3f5f"
            },
            "type": "carpet"
           }
          ],
          "choropleth": [
           {
            "colorbar": {
             "outlinewidth": 0,
             "ticks": ""
            },
            "type": "choropleth"
           }
          ],
          "contour": [
           {
            "colorbar": {
             "outlinewidth": 0,
             "ticks": ""
            },
            "colorscale": [
             [
              0,
              "#0d0887"
             ],
             [
              0.1111111111111111,
              "#46039f"
             ],
             [
              0.2222222222222222,
              "#7201a8"
             ],
             [
              0.3333333333333333,
              "#9c179e"
             ],
             [
              0.4444444444444444,
              "#bd3786"
             ],
             [
              0.5555555555555556,
              "#d8576b"
             ],
             [
              0.6666666666666666,
              "#ed7953"
             ],
             [
              0.7777777777777778,
              "#fb9f3a"
             ],
             [
              0.8888888888888888,
              "#fdca26"
             ],
             [
              1,
              "#f0f921"
             ]
            ],
            "type": "contour"
           }
          ],
          "contourcarpet": [
           {
            "colorbar": {
             "outlinewidth": 0,
             "ticks": ""
            },
            "type": "contourcarpet"
           }
          ],
          "heatmap": [
           {
            "colorbar": {
             "outlinewidth": 0,
             "ticks": ""
            },
            "colorscale": [
             [
              0,
              "#0d0887"
             ],
             [
              0.1111111111111111,
              "#46039f"
             ],
             [
              0.2222222222222222,
              "#7201a8"
             ],
             [
              0.3333333333333333,
              "#9c179e"
             ],
             [
              0.4444444444444444,
              "#bd3786"
             ],
             [
              0.5555555555555556,
              "#d8576b"
             ],
             [
              0.6666666666666666,
              "#ed7953"
             ],
             [
              0.7777777777777778,
              "#fb9f3a"
             ],
             [
              0.8888888888888888,
              "#fdca26"
             ],
             [
              1,
              "#f0f921"
             ]
            ],
            "type": "heatmap"
           }
          ],
          "heatmapgl": [
           {
            "colorbar": {
             "outlinewidth": 0,
             "ticks": ""
            },
            "colorscale": [
             [
              0,
              "#0d0887"
             ],
             [
              0.1111111111111111,
              "#46039f"
             ],
             [
              0.2222222222222222,
              "#7201a8"
             ],
             [
              0.3333333333333333,
              "#9c179e"
             ],
             [
              0.4444444444444444,
              "#bd3786"
             ],
             [
              0.5555555555555556,
              "#d8576b"
             ],
             [
              0.6666666666666666,
              "#ed7953"
             ],
             [
              0.7777777777777778,
              "#fb9f3a"
             ],
             [
              0.8888888888888888,
              "#fdca26"
             ],
             [
              1,
              "#f0f921"
             ]
            ],
            "type": "heatmapgl"
           }
          ],
          "histogram": [
           {
            "marker": {
             "pattern": {
              "fillmode": "overlay",
              "size": 10,
              "solidity": 0.2
             }
            },
            "type": "histogram"
           }
          ],
          "histogram2d": [
           {
            "colorbar": {
             "outlinewidth": 0,
             "ticks": ""
            },
            "colorscale": [
             [
              0,
              "#0d0887"
             ],
             [
              0.1111111111111111,
              "#46039f"
             ],
             [
              0.2222222222222222,
              "#7201a8"
             ],
             [
              0.3333333333333333,
              "#9c179e"
             ],
             [
              0.4444444444444444,
              "#bd3786"
             ],
             [
              0.5555555555555556,
              "#d8576b"
             ],
             [
              0.6666666666666666,
              "#ed7953"
             ],
             [
              0.7777777777777778,
              "#fb9f3a"
             ],
             [
              0.8888888888888888,
              "#fdca26"
             ],
             [
              1,
              "#f0f921"
             ]
            ],
            "type": "histogram2d"
           }
          ],
          "histogram2dcontour": [
           {
            "colorbar": {
             "outlinewidth": 0,
             "ticks": ""
            },
            "colorscale": [
             [
              0,
              "#0d0887"
             ],
             [
              0.1111111111111111,
              "#46039f"
             ],
             [
              0.2222222222222222,
              "#7201a8"
             ],
             [
              0.3333333333333333,
              "#9c179e"
             ],
             [
              0.4444444444444444,
              "#bd3786"
             ],
             [
              0.5555555555555556,
              "#d8576b"
             ],
             [
              0.6666666666666666,
              "#ed7953"
             ],
             [
              0.7777777777777778,
              "#fb9f3a"
             ],
             [
              0.8888888888888888,
              "#fdca26"
             ],
             [
              1,
              "#f0f921"
             ]
            ],
            "type": "histogram2dcontour"
           }
          ],
          "mesh3d": [
           {
            "colorbar": {
             "outlinewidth": 0,
             "ticks": ""
            },
            "type": "mesh3d"
           }
          ],
          "parcoords": [
           {
            "line": {
             "colorbar": {
              "outlinewidth": 0,
              "ticks": ""
             }
            },
            "type": "parcoords"
           }
          ],
          "pie": [
           {
            "automargin": true,
            "type": "pie"
           }
          ],
          "scatter": [
           {
            "fillpattern": {
             "fillmode": "overlay",
             "size": 10,
             "solidity": 0.2
            },
            "type": "scatter"
           }
          ],
          "scatter3d": [
           {
            "line": {
             "colorbar": {
              "outlinewidth": 0,
              "ticks": ""
             }
            },
            "marker": {
             "colorbar": {
              "outlinewidth": 0,
              "ticks": ""
             }
            },
            "type": "scatter3d"
           }
          ],
          "scattercarpet": [
           {
            "marker": {
             "colorbar": {
              "outlinewidth": 0,
              "ticks": ""
             }
            },
            "type": "scattercarpet"
           }
          ],
          "scattergeo": [
           {
            "marker": {
             "colorbar": {
              "outlinewidth": 0,
              "ticks": ""
             }
            },
            "type": "scattergeo"
           }
          ],
          "scattergl": [
           {
            "marker": {
             "colorbar": {
              "outlinewidth": 0,
              "ticks": ""
             }
            },
            "type": "scattergl"
           }
          ],
          "scattermapbox": [
           {
            "marker": {
             "colorbar": {
              "outlinewidth": 0,
              "ticks": ""
             }
            },
            "type": "scattermapbox"
           }
          ],
          "scatterpolar": [
           {
            "marker": {
             "colorbar": {
              "outlinewidth": 0,
              "ticks": ""
             }
            },
            "type": "scatterpolar"
           }
          ],
          "scatterpolargl": [
           {
            "marker": {
             "colorbar": {
              "outlinewidth": 0,
              "ticks": ""
             }
            },
            "type": "scatterpolargl"
           }
          ],
          "scatterternary": [
           {
            "marker": {
             "colorbar": {
              "outlinewidth": 0,
              "ticks": ""
             }
            },
            "type": "scatterternary"
           }
          ],
          "surface": [
           {
            "colorbar": {
             "outlinewidth": 0,
             "ticks": ""
            },
            "colorscale": [
             [
              0,
              "#0d0887"
             ],
             [
              0.1111111111111111,
              "#46039f"
             ],
             [
              0.2222222222222222,
              "#7201a8"
             ],
             [
              0.3333333333333333,
              "#9c179e"
             ],
             [
              0.4444444444444444,
              "#bd3786"
             ],
             [
              0.5555555555555556,
              "#d8576b"
             ],
             [
              0.6666666666666666,
              "#ed7953"
             ],
             [
              0.7777777777777778,
              "#fb9f3a"
             ],
             [
              0.8888888888888888,
              "#fdca26"
             ],
             [
              1,
              "#f0f921"
             ]
            ],
            "type": "surface"
           }
          ],
          "table": [
           {
            "cells": {
             "fill": {
              "color": "#EBF0F8"
             },
             "line": {
              "color": "white"
             }
            },
            "header": {
             "fill": {
              "color": "#C8D4E3"
             },
             "line": {
              "color": "white"
             }
            },
            "type": "table"
           }
          ]
         },
         "layout": {
          "annotationdefaults": {
           "arrowcolor": "#2a3f5f",
           "arrowhead": 0,
           "arrowwidth": 1
          },
          "autotypenumbers": "strict",
          "coloraxis": {
           "colorbar": {
            "outlinewidth": 0,
            "ticks": ""
           }
          },
          "colorscale": {
           "diverging": [
            [
             0,
             "#8e0152"
            ],
            [
             0.1,
             "#c51b7d"
            ],
            [
             0.2,
             "#de77ae"
            ],
            [
             0.3,
             "#f1b6da"
            ],
            [
             0.4,
             "#fde0ef"
            ],
            [
             0.5,
             "#f7f7f7"
            ],
            [
             0.6,
             "#e6f5d0"
            ],
            [
             0.7,
             "#b8e186"
            ],
            [
             0.8,
             "#7fbc41"
            ],
            [
             0.9,
             "#4d9221"
            ],
            [
             1,
             "#276419"
            ]
           ],
           "sequential": [
            [
             0,
             "#0d0887"
            ],
            [
             0.1111111111111111,
             "#46039f"
            ],
            [
             0.2222222222222222,
             "#7201a8"
            ],
            [
             0.3333333333333333,
             "#9c179e"
            ],
            [
             0.4444444444444444,
             "#bd3786"
            ],
            [
             0.5555555555555556,
             "#d8576b"
            ],
            [
             0.6666666666666666,
             "#ed7953"
            ],
            [
             0.7777777777777778,
             "#fb9f3a"
            ],
            [
             0.8888888888888888,
             "#fdca26"
            ],
            [
             1,
             "#f0f921"
            ]
           ],
           "sequentialminus": [
            [
             0,
             "#0d0887"
            ],
            [
             0.1111111111111111,
             "#46039f"
            ],
            [
             0.2222222222222222,
             "#7201a8"
            ],
            [
             0.3333333333333333,
             "#9c179e"
            ],
            [
             0.4444444444444444,
             "#bd3786"
            ],
            [
             0.5555555555555556,
             "#d8576b"
            ],
            [
             0.6666666666666666,
             "#ed7953"
            ],
            [
             0.7777777777777778,
             "#fb9f3a"
            ],
            [
             0.8888888888888888,
             "#fdca26"
            ],
            [
             1,
             "#f0f921"
            ]
           ]
          },
          "colorway": [
           "#636efa",
           "#EF553B",
           "#00cc96",
           "#ab63fa",
           "#FFA15A",
           "#19d3f3",
           "#FF6692",
           "#B6E880",
           "#FF97FF",
           "#FECB52"
          ],
          "font": {
           "color": "#2a3f5f"
          },
          "geo": {
           "bgcolor": "white",
           "lakecolor": "white",
           "landcolor": "#E5ECF6",
           "showlakes": true,
           "showland": true,
           "subunitcolor": "white"
          },
          "hoverlabel": {
           "align": "left"
          },
          "hovermode": "closest",
          "mapbox": {
           "style": "light"
          },
          "paper_bgcolor": "white",
          "plot_bgcolor": "#E5ECF6",
          "polar": {
           "angularaxis": {
            "gridcolor": "white",
            "linecolor": "white",
            "ticks": ""
           },
           "bgcolor": "#E5ECF6",
           "radialaxis": {
            "gridcolor": "white",
            "linecolor": "white",
            "ticks": ""
           }
          },
          "scene": {
           "xaxis": {
            "backgroundcolor": "#E5ECF6",
            "gridcolor": "white",
            "gridwidth": 2,
            "linecolor": "white",
            "showbackground": true,
            "ticks": "",
            "zerolinecolor": "white"
           },
           "yaxis": {
            "backgroundcolor": "#E5ECF6",
            "gridcolor": "white",
            "gridwidth": 2,
            "linecolor": "white",
            "showbackground": true,
            "ticks": "",
            "zerolinecolor": "white"
           },
           "zaxis": {
            "backgroundcolor": "#E5ECF6",
            "gridcolor": "white",
            "gridwidth": 2,
            "linecolor": "white",
            "showbackground": true,
            "ticks": "",
            "zerolinecolor": "white"
           }
          },
          "shapedefaults": {
           "line": {
            "color": "#2a3f5f"
           }
          },
          "ternary": {
           "aaxis": {
            "gridcolor": "white",
            "linecolor": "white",
            "ticks": ""
           },
           "baxis": {
            "gridcolor": "white",
            "linecolor": "white",
            "ticks": ""
           },
           "bgcolor": "#E5ECF6",
           "caxis": {
            "gridcolor": "white",
            "linecolor": "white",
            "ticks": ""
           }
          },
          "title": {
           "x": 0.05
          },
          "xaxis": {
           "automargin": true,
           "gridcolor": "white",
           "linecolor": "white",
           "ticks": "",
           "title": {
            "standoff": 15
           },
           "zerolinecolor": "white",
           "zerolinewidth": 2
          },
          "yaxis": {
           "automargin": true,
           "gridcolor": "white",
           "linecolor": "white",
           "ticks": "",
           "title": {
            "standoff": 15
           },
           "zerolinecolor": "white",
           "zerolinewidth": 2
          }
         }
        },
        "title": {
         "text": "Reasons to own business for industry: Industries not classified"
        },
        "xaxis": {
         "anchor": "y",
         "domain": [
          0,
          1
         ],
         "title": {
          "text": "Industry Name"
         }
        },
        "yaxis": {
         "anchor": "x",
         "domain": [
          0,
          1
         ],
         "title": {
          "text": "Number of Business Owners"
         }
        }
       }
      }
     },
     "metadata": {},
     "output_type": "display_data"
    },
    {
     "data": {
      "application/vnd.plotly.v1+json": {
       "config": {
        "plotlyServerURL": "https://plot.ly"
       },
       "data": [
        {
         "alignmentgroup": "True",
         "hovertemplate": "Reason for owning business=Best avenue for ideas<br>Industry Name=%{x}<br>Number of Business Owners=%{y}<extra></extra>",
         "legendgroup": "Best avenue for ideas",
         "marker": {
          "color": "#636efa",
          "pattern": {
           "shape": ""
          }
         },
         "name": "Best avenue for ideas",
         "offsetgroup": "Best avenue for ideas",
         "orientation": "v",
         "showlegend": true,
         "textposition": "auto",
         "texttemplate": "%{y:.2s}",
         "type": "bar",
         "x": [
          "Information"
         ],
         "xaxis": "x",
         "y": [
          27101
         ],
         "yaxis": "y"
        },
        {
         "alignmentgroup": "True",
         "hovertemplate": "Reason for owning business=Wanted to be my own boss<br>Industry Name=%{x}<br>Number of Business Owners=%{y}<extra></extra>",
         "legendgroup": "Wanted to be my own boss",
         "marker": {
          "color": "#EF553B",
          "pattern": {
           "shape": ""
          }
         },
         "name": "Wanted to be my own boss",
         "offsetgroup": "Wanted to be my own boss",
         "orientation": "v",
         "showlegend": true,
         "textposition": "auto",
         "texttemplate": "%{y:.2s}",
         "type": "bar",
         "x": [
          "Information"
         ],
         "xaxis": "x",
         "y": [
          26970
         ],
         "yaxis": "y"
        },
        {
         "alignmentgroup": "True",
         "hovertemplate": "Reason for owning business=Greater income<br>Industry Name=%{x}<br>Number of Business Owners=%{y}<extra></extra>",
         "legendgroup": "Greater income",
         "marker": {
          "color": "#00cc96",
          "pattern": {
           "shape": ""
          }
         },
         "name": "Greater income",
         "offsetgroup": "Greater income",
         "orientation": "v",
         "showlegend": true,
         "textposition": "auto",
         "texttemplate": "%{y:.2s}",
         "type": "bar",
         "x": [
          "Information"
         ],
         "xaxis": "x",
         "y": [
          26899
         ],
         "yaxis": "y"
        },
        {
         "alignmentgroup": "True",
         "hovertemplate": "Reason for owning business=Flexible hours<br>Industry Name=%{x}<br>Number of Business Owners=%{y}<extra></extra>",
         "legendgroup": "Flexible hours",
         "marker": {
          "color": "#ab63fa",
          "pattern": {
           "shape": ""
          }
         },
         "name": "Flexible hours",
         "offsetgroup": "Flexible hours",
         "orientation": "v",
         "showlegend": true,
         "textposition": "auto",
         "texttemplate": "%{y:.2s}",
         "type": "bar",
         "x": [
          "Information"
         ],
         "xaxis": "x",
         "y": [
          22995
         ],
         "yaxis": "y"
        },
        {
         "alignmentgroup": "True",
         "hovertemplate": "Reason for owning business=Balance work and family<br>Industry Name=%{x}<br>Number of Business Owners=%{y}<extra></extra>",
         "legendgroup": "Balance work and family",
         "marker": {
          "color": "#FFA15A",
          "pattern": {
           "shape": ""
          }
         },
         "name": "Balance work and family",
         "offsetgroup": "Balance work and family",
         "orientation": "v",
         "showlegend": true,
         "textposition": "auto",
         "texttemplate": "%{y:.2s}",
         "type": "bar",
         "x": [
          "Information"
         ],
         "xaxis": "x",
         "y": [
          22646
         ],
         "yaxis": "y"
        },
        {
         "alignmentgroup": "True",
         "hovertemplate": "Reason for owning business=Start my own business<br>Industry Name=%{x}<br>Number of Business Owners=%{y}<extra></extra>",
         "legendgroup": "Start my own business",
         "marker": {
          "color": "#19d3f3",
          "pattern": {
           "shape": ""
          }
         },
         "name": "Start my own business",
         "offsetgroup": "Start my own business",
         "orientation": "v",
         "showlegend": true,
         "textposition": "auto",
         "texttemplate": "%{y:.2s}",
         "type": "bar",
         "x": [
          "Information"
         ],
         "xaxis": "x",
         "y": [
          18075
         ],
         "yaxis": "y"
        },
        {
         "alignmentgroup": "True",
         "hovertemplate": "Reason for owning business=Work for self<br>Industry Name=%{x}<br>Number of Business Owners=%{y}<extra></extra>",
         "legendgroup": "Work for self",
         "marker": {
          "color": "#FF6692",
          "pattern": {
           "shape": ""
          }
         },
         "name": "Work for self",
         "offsetgroup": "Work for self",
         "orientation": "v",
         "showlegend": true,
         "textposition": "auto",
         "texttemplate": "%{y:.2s}",
         "type": "bar",
         "x": [
          "Information"
         ],
         "xaxis": "x",
         "y": [
          12698
         ],
         "yaxis": "y"
        },
        {
         "alignmentgroup": "True",
         "hovertemplate": "Reason for owning business=Friend or family role model<br>Industry Name=%{x}<br>Number of Business Owners=%{y}<extra></extra>",
         "legendgroup": "Friend or family role model",
         "marker": {
          "color": "#B6E880",
          "pattern": {
           "shape": ""
          }
         },
         "name": "Friend or family role model",
         "offsetgroup": "Friend or family role model",
         "orientation": "v",
         "showlegend": true,
         "textposition": "auto",
         "texttemplate": "%{y:.2s}",
         "type": "bar",
         "x": [
          "Information"
         ],
         "xaxis": "x",
         "y": [
          10714
         ],
         "yaxis": "y"
        },
        {
         "alignmentgroup": "True",
         "hovertemplate": "Reason for owning business=Help my community<br>Industry Name=%{x}<br>Number of Business Owners=%{y}<extra></extra>",
         "legendgroup": "Help my community",
         "marker": {
          "color": "#FF97FF",
          "pattern": {
           "shape": ""
          }
         },
         "name": "Help my community",
         "offsetgroup": "Help my community",
         "orientation": "v",
         "showlegend": true,
         "textposition": "auto",
         "texttemplate": "%{y:.2s}",
         "type": "bar",
         "x": [
          "Information"
         ],
         "xaxis": "x",
         "y": [
          8866
         ],
         "yaxis": "y"
        },
        {
         "alignmentgroup": "True",
         "hovertemplate": "Reason for owning business=Carry on family business<br>Industry Name=%{x}<br>Number of Business Owners=%{y}<extra></extra>",
         "legendgroup": "Carry on family business",
         "marker": {
          "color": "#FECB52",
          "pattern": {
           "shape": ""
          }
         },
         "name": "Carry on family business",
         "offsetgroup": "Carry on family business",
         "orientation": "v",
         "showlegend": true,
         "textposition": "auto",
         "texttemplate": "%{y:.2s}",
         "type": "bar",
         "x": [
          "Information"
         ],
         "xaxis": "x",
         "y": [
          4702
         ],
         "yaxis": "y"
        },
        {
         "alignmentgroup": "True",
         "hovertemplate": "Reason for owning business=Other<br>Industry Name=%{x}<br>Number of Business Owners=%{y}<extra></extra>",
         "legendgroup": "Other",
         "marker": {
          "color": "#636efa",
          "pattern": {
           "shape": ""
          }
         },
         "name": "Other",
         "offsetgroup": "Other",
         "orientation": "v",
         "showlegend": true,
         "textposition": "auto",
         "texttemplate": "%{y:.2s}",
         "type": "bar",
         "x": [
          "Information"
         ],
         "xaxis": "x",
         "y": [
          4635
         ],
         "yaxis": "y"
        },
        {
         "alignmentgroup": "True",
         "hovertemplate": "Reason for owning business=Couldn't find a job<br>Industry Name=%{x}<br>Number of Business Owners=%{y}<extra></extra>",
         "legendgroup": "Couldn't find a job",
         "marker": {
          "color": "#EF553B",
          "pattern": {
           "shape": ""
          }
         },
         "name": "Couldn't find a job",
         "offsetgroup": "Couldn't find a job",
         "orientation": "v",
         "showlegend": true,
         "textposition": "auto",
         "texttemplate": "%{y:.2s}",
         "type": "bar",
         "x": [
          "Information"
         ],
         "xaxis": "x",
         "y": [
          2443
         ],
         "yaxis": "y"
        }
       ],
       "layout": {
        "barmode": "group",
        "legend": {
         "title": {
          "text": "Reason for owning business"
         },
         "tracegroupgap": 0
        },
        "template": {
         "data": {
          "bar": [
           {
            "error_x": {
             "color": "#2a3f5f"
            },
            "error_y": {
             "color": "#2a3f5f"
            },
            "marker": {
             "line": {
              "color": "#E5ECF6",
              "width": 0.5
             },
             "pattern": {
              "fillmode": "overlay",
              "size": 10,
              "solidity": 0.2
             }
            },
            "type": "bar"
           }
          ],
          "barpolar": [
           {
            "marker": {
             "line": {
              "color": "#E5ECF6",
              "width": 0.5
             },
             "pattern": {
              "fillmode": "overlay",
              "size": 10,
              "solidity": 0.2
             }
            },
            "type": "barpolar"
           }
          ],
          "carpet": [
           {
            "aaxis": {
             "endlinecolor": "#2a3f5f",
             "gridcolor": "white",
             "linecolor": "white",
             "minorgridcolor": "white",
             "startlinecolor": "#2a3f5f"
            },
            "baxis": {
             "endlinecolor": "#2a3f5f",
             "gridcolor": "white",
             "linecolor": "white",
             "minorgridcolor": "white",
             "startlinecolor": "#2a3f5f"
            },
            "type": "carpet"
           }
          ],
          "choropleth": [
           {
            "colorbar": {
             "outlinewidth": 0,
             "ticks": ""
            },
            "type": "choropleth"
           }
          ],
          "contour": [
           {
            "colorbar": {
             "outlinewidth": 0,
             "ticks": ""
            },
            "colorscale": [
             [
              0,
              "#0d0887"
             ],
             [
              0.1111111111111111,
              "#46039f"
             ],
             [
              0.2222222222222222,
              "#7201a8"
             ],
             [
              0.3333333333333333,
              "#9c179e"
             ],
             [
              0.4444444444444444,
              "#bd3786"
             ],
             [
              0.5555555555555556,
              "#d8576b"
             ],
             [
              0.6666666666666666,
              "#ed7953"
             ],
             [
              0.7777777777777778,
              "#fb9f3a"
             ],
             [
              0.8888888888888888,
              "#fdca26"
             ],
             [
              1,
              "#f0f921"
             ]
            ],
            "type": "contour"
           }
          ],
          "contourcarpet": [
           {
            "colorbar": {
             "outlinewidth": 0,
             "ticks": ""
            },
            "type": "contourcarpet"
           }
          ],
          "heatmap": [
           {
            "colorbar": {
             "outlinewidth": 0,
             "ticks": ""
            },
            "colorscale": [
             [
              0,
              "#0d0887"
             ],
             [
              0.1111111111111111,
              "#46039f"
             ],
             [
              0.2222222222222222,
              "#7201a8"
             ],
             [
              0.3333333333333333,
              "#9c179e"
             ],
             [
              0.4444444444444444,
              "#bd3786"
             ],
             [
              0.5555555555555556,
              "#d8576b"
             ],
             [
              0.6666666666666666,
              "#ed7953"
             ],
             [
              0.7777777777777778,
              "#fb9f3a"
             ],
             [
              0.8888888888888888,
              "#fdca26"
             ],
             [
              1,
              "#f0f921"
             ]
            ],
            "type": "heatmap"
           }
          ],
          "heatmapgl": [
           {
            "colorbar": {
             "outlinewidth": 0,
             "ticks": ""
            },
            "colorscale": [
             [
              0,
              "#0d0887"
             ],
             [
              0.1111111111111111,
              "#46039f"
             ],
             [
              0.2222222222222222,
              "#7201a8"
             ],
             [
              0.3333333333333333,
              "#9c179e"
             ],
             [
              0.4444444444444444,
              "#bd3786"
             ],
             [
              0.5555555555555556,
              "#d8576b"
             ],
             [
              0.6666666666666666,
              "#ed7953"
             ],
             [
              0.7777777777777778,
              "#fb9f3a"
             ],
             [
              0.8888888888888888,
              "#fdca26"
             ],
             [
              1,
              "#f0f921"
             ]
            ],
            "type": "heatmapgl"
           }
          ],
          "histogram": [
           {
            "marker": {
             "pattern": {
              "fillmode": "overlay",
              "size": 10,
              "solidity": 0.2
             }
            },
            "type": "histogram"
           }
          ],
          "histogram2d": [
           {
            "colorbar": {
             "outlinewidth": 0,
             "ticks": ""
            },
            "colorscale": [
             [
              0,
              "#0d0887"
             ],
             [
              0.1111111111111111,
              "#46039f"
             ],
             [
              0.2222222222222222,
              "#7201a8"
             ],
             [
              0.3333333333333333,
              "#9c179e"
             ],
             [
              0.4444444444444444,
              "#bd3786"
             ],
             [
              0.5555555555555556,
              "#d8576b"
             ],
             [
              0.6666666666666666,
              "#ed7953"
             ],
             [
              0.7777777777777778,
              "#fb9f3a"
             ],
             [
              0.8888888888888888,
              "#fdca26"
             ],
             [
              1,
              "#f0f921"
             ]
            ],
            "type": "histogram2d"
           }
          ],
          "histogram2dcontour": [
           {
            "colorbar": {
             "outlinewidth": 0,
             "ticks": ""
            },
            "colorscale": [
             [
              0,
              "#0d0887"
             ],
             [
              0.1111111111111111,
              "#46039f"
             ],
             [
              0.2222222222222222,
              "#7201a8"
             ],
             [
              0.3333333333333333,
              "#9c179e"
             ],
             [
              0.4444444444444444,
              "#bd3786"
             ],
             [
              0.5555555555555556,
              "#d8576b"
             ],
             [
              0.6666666666666666,
              "#ed7953"
             ],
             [
              0.7777777777777778,
              "#fb9f3a"
             ],
             [
              0.8888888888888888,
              "#fdca26"
             ],
             [
              1,
              "#f0f921"
             ]
            ],
            "type": "histogram2dcontour"
           }
          ],
          "mesh3d": [
           {
            "colorbar": {
             "outlinewidth": 0,
             "ticks": ""
            },
            "type": "mesh3d"
           }
          ],
          "parcoords": [
           {
            "line": {
             "colorbar": {
              "outlinewidth": 0,
              "ticks": ""
             }
            },
            "type": "parcoords"
           }
          ],
          "pie": [
           {
            "automargin": true,
            "type": "pie"
           }
          ],
          "scatter": [
           {
            "fillpattern": {
             "fillmode": "overlay",
             "size": 10,
             "solidity": 0.2
            },
            "type": "scatter"
           }
          ],
          "scatter3d": [
           {
            "line": {
             "colorbar": {
              "outlinewidth": 0,
              "ticks": ""
             }
            },
            "marker": {
             "colorbar": {
              "outlinewidth": 0,
              "ticks": ""
             }
            },
            "type": "scatter3d"
           }
          ],
          "scattercarpet": [
           {
            "marker": {
             "colorbar": {
              "outlinewidth": 0,
              "ticks": ""
             }
            },
            "type": "scattercarpet"
           }
          ],
          "scattergeo": [
           {
            "marker": {
             "colorbar": {
              "outlinewidth": 0,
              "ticks": ""
             }
            },
            "type": "scattergeo"
           }
          ],
          "scattergl": [
           {
            "marker": {
             "colorbar": {
              "outlinewidth": 0,
              "ticks": ""
             }
            },
            "type": "scattergl"
           }
          ],
          "scattermapbox": [
           {
            "marker": {
             "colorbar": {
              "outlinewidth": 0,
              "ticks": ""
             }
            },
            "type": "scattermapbox"
           }
          ],
          "scatterpolar": [
           {
            "marker": {
             "colorbar": {
              "outlinewidth": 0,
              "ticks": ""
             }
            },
            "type": "scatterpolar"
           }
          ],
          "scatterpolargl": [
           {
            "marker": {
             "colorbar": {
              "outlinewidth": 0,
              "ticks": ""
             }
            },
            "type": "scatterpolargl"
           }
          ],
          "scatterternary": [
           {
            "marker": {
             "colorbar": {
              "outlinewidth": 0,
              "ticks": ""
             }
            },
            "type": "scatterternary"
           }
          ],
          "surface": [
           {
            "colorbar": {
             "outlinewidth": 0,
             "ticks": ""
            },
            "colorscale": [
             [
              0,
              "#0d0887"
             ],
             [
              0.1111111111111111,
              "#46039f"
             ],
             [
              0.2222222222222222,
              "#7201a8"
             ],
             [
              0.3333333333333333,
              "#9c179e"
             ],
             [
              0.4444444444444444,
              "#bd3786"
             ],
             [
              0.5555555555555556,
              "#d8576b"
             ],
             [
              0.6666666666666666,
              "#ed7953"
             ],
             [
              0.7777777777777778,
              "#fb9f3a"
             ],
             [
              0.8888888888888888,
              "#fdca26"
             ],
             [
              1,
              "#f0f921"
             ]
            ],
            "type": "surface"
           }
          ],
          "table": [
           {
            "cells": {
             "fill": {
              "color": "#EBF0F8"
             },
             "line": {
              "color": "white"
             }
            },
            "header": {
             "fill": {
              "color": "#C8D4E3"
             },
             "line": {
              "color": "white"
             }
            },
            "type": "table"
           }
          ]
         },
         "layout": {
          "annotationdefaults": {
           "arrowcolor": "#2a3f5f",
           "arrowhead": 0,
           "arrowwidth": 1
          },
          "autotypenumbers": "strict",
          "coloraxis": {
           "colorbar": {
            "outlinewidth": 0,
            "ticks": ""
           }
          },
          "colorscale": {
           "diverging": [
            [
             0,
             "#8e0152"
            ],
            [
             0.1,
             "#c51b7d"
            ],
            [
             0.2,
             "#de77ae"
            ],
            [
             0.3,
             "#f1b6da"
            ],
            [
             0.4,
             "#fde0ef"
            ],
            [
             0.5,
             "#f7f7f7"
            ],
            [
             0.6,
             "#e6f5d0"
            ],
            [
             0.7,
             "#b8e186"
            ],
            [
             0.8,
             "#7fbc41"
            ],
            [
             0.9,
             "#4d9221"
            ],
            [
             1,
             "#276419"
            ]
           ],
           "sequential": [
            [
             0,
             "#0d0887"
            ],
            [
             0.1111111111111111,
             "#46039f"
            ],
            [
             0.2222222222222222,
             "#7201a8"
            ],
            [
             0.3333333333333333,
             "#9c179e"
            ],
            [
             0.4444444444444444,
             "#bd3786"
            ],
            [
             0.5555555555555556,
             "#d8576b"
            ],
            [
             0.6666666666666666,
             "#ed7953"
            ],
            [
             0.7777777777777778,
             "#fb9f3a"
            ],
            [
             0.8888888888888888,
             "#fdca26"
            ],
            [
             1,
             "#f0f921"
            ]
           ],
           "sequentialminus": [
            [
             0,
             "#0d0887"
            ],
            [
             0.1111111111111111,
             "#46039f"
            ],
            [
             0.2222222222222222,
             "#7201a8"
            ],
            [
             0.3333333333333333,
             "#9c179e"
            ],
            [
             0.4444444444444444,
             "#bd3786"
            ],
            [
             0.5555555555555556,
             "#d8576b"
            ],
            [
             0.6666666666666666,
             "#ed7953"
            ],
            [
             0.7777777777777778,
             "#fb9f3a"
            ],
            [
             0.8888888888888888,
             "#fdca26"
            ],
            [
             1,
             "#f0f921"
            ]
           ]
          },
          "colorway": [
           "#636efa",
           "#EF553B",
           "#00cc96",
           "#ab63fa",
           "#FFA15A",
           "#19d3f3",
           "#FF6692",
           "#B6E880",
           "#FF97FF",
           "#FECB52"
          ],
          "font": {
           "color": "#2a3f5f"
          },
          "geo": {
           "bgcolor": "white",
           "lakecolor": "white",
           "landcolor": "#E5ECF6",
           "showlakes": true,
           "showland": true,
           "subunitcolor": "white"
          },
          "hoverlabel": {
           "align": "left"
          },
          "hovermode": "closest",
          "mapbox": {
           "style": "light"
          },
          "paper_bgcolor": "white",
          "plot_bgcolor": "#E5ECF6",
          "polar": {
           "angularaxis": {
            "gridcolor": "white",
            "linecolor": "white",
            "ticks": ""
           },
           "bgcolor": "#E5ECF6",
           "radialaxis": {
            "gridcolor": "white",
            "linecolor": "white",
            "ticks": ""
           }
          },
          "scene": {
           "xaxis": {
            "backgroundcolor": "#E5ECF6",
            "gridcolor": "white",
            "gridwidth": 2,
            "linecolor": "white",
            "showbackground": true,
            "ticks": "",
            "zerolinecolor": "white"
           },
           "yaxis": {
            "backgroundcolor": "#E5ECF6",
            "gridcolor": "white",
            "gridwidth": 2,
            "linecolor": "white",
            "showbackground": true,
            "ticks": "",
            "zerolinecolor": "white"
           },
           "zaxis": {
            "backgroundcolor": "#E5ECF6",
            "gridcolor": "white",
            "gridwidth": 2,
            "linecolor": "white",
            "showbackground": true,
            "ticks": "",
            "zerolinecolor": "white"
           }
          },
          "shapedefaults": {
           "line": {
            "color": "#2a3f5f"
           }
          },
          "ternary": {
           "aaxis": {
            "gridcolor": "white",
            "linecolor": "white",
            "ticks": ""
           },
           "baxis": {
            "gridcolor": "white",
            "linecolor": "white",
            "ticks": ""
           },
           "bgcolor": "#E5ECF6",
           "caxis": {
            "gridcolor": "white",
            "linecolor": "white",
            "ticks": ""
           }
          },
          "title": {
           "x": 0.05
          },
          "xaxis": {
           "automargin": true,
           "gridcolor": "white",
           "linecolor": "white",
           "ticks": "",
           "title": {
            "standoff": 15
           },
           "zerolinecolor": "white",
           "zerolinewidth": 2
          },
          "yaxis": {
           "automargin": true,
           "gridcolor": "white",
           "linecolor": "white",
           "ticks": "",
           "title": {
            "standoff": 15
           },
           "zerolinecolor": "white",
           "zerolinewidth": 2
          }
         }
        },
        "title": {
         "text": "Reasons to own business for industry: Information"
        },
        "xaxis": {
         "anchor": "y",
         "domain": [
          0,
          1
         ],
         "title": {
          "text": "Industry Name"
         }
        },
        "yaxis": {
         "anchor": "x",
         "domain": [
          0,
          1
         ],
         "title": {
          "text": "Number of Business Owners"
         }
        }
       }
      }
     },
     "metadata": {},
     "output_type": "display_data"
    },
    {
     "data": {
      "application/vnd.plotly.v1+json": {
       "config": {
        "plotlyServerURL": "https://plot.ly"
       },
       "data": [
        {
         "alignmentgroup": "True",
         "hovertemplate": "Reason for owning business=Greater income<br>Industry Name=%{x}<br>Number of Business Owners=%{y}<extra></extra>",
         "legendgroup": "Greater income",
         "marker": {
          "color": "#636efa",
          "pattern": {
           "shape": ""
          }
         },
         "name": "Greater income",
         "offsetgroup": "Greater income",
         "orientation": "v",
         "showlegend": true,
         "textposition": "auto",
         "texttemplate": "%{y:.2s}",
         "type": "bar",
         "x": [
          "Management of companies and enterprises"
         ],
         "xaxis": "x",
         "y": [
          6012
         ],
         "yaxis": "y"
        },
        {
         "alignmentgroup": "True",
         "hovertemplate": "Reason for owning business=Wanted to be my own boss<br>Industry Name=%{x}<br>Number of Business Owners=%{y}<extra></extra>",
         "legendgroup": "Wanted to be my own boss",
         "marker": {
          "color": "#EF553B",
          "pattern": {
           "shape": ""
          }
         },
         "name": "Wanted to be my own boss",
         "offsetgroup": "Wanted to be my own boss",
         "orientation": "v",
         "showlegend": true,
         "textposition": "auto",
         "texttemplate": "%{y:.2s}",
         "type": "bar",
         "x": [
          "Management of companies and enterprises"
         ],
         "xaxis": "x",
         "y": [
          5710
         ],
         "yaxis": "y"
        },
        {
         "alignmentgroup": "True",
         "hovertemplate": "Reason for owning business=Best avenue for ideas<br>Industry Name=%{x}<br>Number of Business Owners=%{y}<extra></extra>",
         "legendgroup": "Best avenue for ideas",
         "marker": {
          "color": "#00cc96",
          "pattern": {
           "shape": ""
          }
         },
         "name": "Best avenue for ideas",
         "offsetgroup": "Best avenue for ideas",
         "orientation": "v",
         "showlegend": true,
         "textposition": "auto",
         "texttemplate": "%{y:.2s}",
         "type": "bar",
         "x": [
          "Management of companies and enterprises"
         ],
         "xaxis": "x",
         "y": [
          4925
         ],
         "yaxis": "y"
        },
        {
         "alignmentgroup": "True",
         "hovertemplate": "Reason for owning business=Balance work and family<br>Industry Name=%{x}<br>Number of Business Owners=%{y}<extra></extra>",
         "legendgroup": "Balance work and family",
         "marker": {
          "color": "#ab63fa",
          "pattern": {
           "shape": ""
          }
         },
         "name": "Balance work and family",
         "offsetgroup": "Balance work and family",
         "orientation": "v",
         "showlegend": true,
         "textposition": "auto",
         "texttemplate": "%{y:.2s}",
         "type": "bar",
         "x": [
          "Management of companies and enterprises"
         ],
         "xaxis": "x",
         "y": [
          4284
         ],
         "yaxis": "y"
        },
        {
         "alignmentgroup": "True",
         "hovertemplate": "Reason for owning business=Start my own business<br>Industry Name=%{x}<br>Number of Business Owners=%{y}<extra></extra>",
         "legendgroup": "Start my own business",
         "marker": {
          "color": "#FFA15A",
          "pattern": {
           "shape": ""
          }
         },
         "name": "Start my own business",
         "offsetgroup": "Start my own business",
         "orientation": "v",
         "showlegend": true,
         "textposition": "auto",
         "texttemplate": "%{y:.2s}",
         "type": "bar",
         "x": [
          "Management of companies and enterprises"
         ],
         "xaxis": "x",
         "y": [
          4214
         ],
         "yaxis": "y"
        },
        {
         "alignmentgroup": "True",
         "hovertemplate": "Reason for owning business=Carry on family business<br>Industry Name=%{x}<br>Number of Business Owners=%{y}<extra></extra>",
         "legendgroup": "Carry on family business",
         "marker": {
          "color": "#19d3f3",
          "pattern": {
           "shape": ""
          }
         },
         "name": "Carry on family business",
         "offsetgroup": "Carry on family business",
         "orientation": "v",
         "showlegend": true,
         "textposition": "auto",
         "texttemplate": "%{y:.2s}",
         "type": "bar",
         "x": [
          "Management of companies and enterprises"
         ],
         "xaxis": "x",
         "y": [
          3895
         ],
         "yaxis": "y"
        },
        {
         "alignmentgroup": "True",
         "hovertemplate": "Reason for owning business=Friend or family role model<br>Industry Name=%{x}<br>Number of Business Owners=%{y}<extra></extra>",
         "legendgroup": "Friend or family role model",
         "marker": {
          "color": "#FF6692",
          "pattern": {
           "shape": ""
          }
         },
         "name": "Friend or family role model",
         "offsetgroup": "Friend or family role model",
         "orientation": "v",
         "showlegend": true,
         "textposition": "auto",
         "texttemplate": "%{y:.2s}",
         "type": "bar",
         "x": [
          "Management of companies and enterprises"
         ],
         "xaxis": "x",
         "y": [
          3820
         ],
         "yaxis": "y"
        },
        {
         "alignmentgroup": "True",
         "hovertemplate": "Reason for owning business=Flexible hours<br>Industry Name=%{x}<br>Number of Business Owners=%{y}<extra></extra>",
         "legendgroup": "Flexible hours",
         "marker": {
          "color": "#B6E880",
          "pattern": {
           "shape": ""
          }
         },
         "name": "Flexible hours",
         "offsetgroup": "Flexible hours",
         "orientation": "v",
         "showlegend": true,
         "textposition": "auto",
         "texttemplate": "%{y:.2s}",
         "type": "bar",
         "x": [
          "Management of companies and enterprises"
         ],
         "xaxis": "x",
         "y": [
          3678
         ],
         "yaxis": "y"
        },
        {
         "alignmentgroup": "True",
         "hovertemplate": "Reason for owning business=Help my community<br>Industry Name=%{x}<br>Number of Business Owners=%{y}<extra></extra>",
         "legendgroup": "Help my community",
         "marker": {
          "color": "#FF97FF",
          "pattern": {
           "shape": ""
          }
         },
         "name": "Help my community",
         "offsetgroup": "Help my community",
         "orientation": "v",
         "showlegend": true,
         "textposition": "auto",
         "texttemplate": "%{y:.2s}",
         "type": "bar",
         "x": [
          "Management of companies and enterprises"
         ],
         "xaxis": "x",
         "y": [
          2740
         ],
         "yaxis": "y"
        },
        {
         "alignmentgroup": "True",
         "hovertemplate": "Reason for owning business=Work for self<br>Industry Name=%{x}<br>Number of Business Owners=%{y}<extra></extra>",
         "legendgroup": "Work for self",
         "marker": {
          "color": "#FECB52",
          "pattern": {
           "shape": ""
          }
         },
         "name": "Work for self",
         "offsetgroup": "Work for self",
         "orientation": "v",
         "showlegend": true,
         "textposition": "auto",
         "texttemplate": "%{y:.2s}",
         "type": "bar",
         "x": [
          "Management of companies and enterprises"
         ],
         "xaxis": "x",
         "y": [
          2725
         ],
         "yaxis": "y"
        },
        {
         "alignmentgroup": "True",
         "hovertemplate": "Reason for owning business=Other<br>Industry Name=%{x}<br>Number of Business Owners=%{y}<extra></extra>",
         "legendgroup": "Other",
         "marker": {
          "color": "#636efa",
          "pattern": {
           "shape": ""
          }
         },
         "name": "Other",
         "offsetgroup": "Other",
         "orientation": "v",
         "showlegend": true,
         "textposition": "auto",
         "texttemplate": "%{y:.2s}",
         "type": "bar",
         "x": [
          "Management of companies and enterprises"
         ],
         "xaxis": "x",
         "y": [
          759
         ],
         "yaxis": "y"
        },
        {
         "alignmentgroup": "True",
         "hovertemplate": "Reason for owning business=Couldn't find a job<br>Industry Name=%{x}<br>Number of Business Owners=%{y}<extra></extra>",
         "legendgroup": "Couldn't find a job",
         "marker": {
          "color": "#EF553B",
          "pattern": {
           "shape": ""
          }
         },
         "name": "Couldn't find a job",
         "offsetgroup": "Couldn't find a job",
         "orientation": "v",
         "showlegend": true,
         "textposition": "auto",
         "texttemplate": "%{y:.2s}",
         "type": "bar",
         "x": [
          "Management of companies and enterprises"
         ],
         "xaxis": "x",
         "y": [
          620
         ],
         "yaxis": "y"
        }
       ],
       "layout": {
        "barmode": "group",
        "legend": {
         "title": {
          "text": "Reason for owning business"
         },
         "tracegroupgap": 0
        },
        "template": {
         "data": {
          "bar": [
           {
            "error_x": {
             "color": "#2a3f5f"
            },
            "error_y": {
             "color": "#2a3f5f"
            },
            "marker": {
             "line": {
              "color": "#E5ECF6",
              "width": 0.5
             },
             "pattern": {
              "fillmode": "overlay",
              "size": 10,
              "solidity": 0.2
             }
            },
            "type": "bar"
           }
          ],
          "barpolar": [
           {
            "marker": {
             "line": {
              "color": "#E5ECF6",
              "width": 0.5
             },
             "pattern": {
              "fillmode": "overlay",
              "size": 10,
              "solidity": 0.2
             }
            },
            "type": "barpolar"
           }
          ],
          "carpet": [
           {
            "aaxis": {
             "endlinecolor": "#2a3f5f",
             "gridcolor": "white",
             "linecolor": "white",
             "minorgridcolor": "white",
             "startlinecolor": "#2a3f5f"
            },
            "baxis": {
             "endlinecolor": "#2a3f5f",
             "gridcolor": "white",
             "linecolor": "white",
             "minorgridcolor": "white",
             "startlinecolor": "#2a3f5f"
            },
            "type": "carpet"
           }
          ],
          "choropleth": [
           {
            "colorbar": {
             "outlinewidth": 0,
             "ticks": ""
            },
            "type": "choropleth"
           }
          ],
          "contour": [
           {
            "colorbar": {
             "outlinewidth": 0,
             "ticks": ""
            },
            "colorscale": [
             [
              0,
              "#0d0887"
             ],
             [
              0.1111111111111111,
              "#46039f"
             ],
             [
              0.2222222222222222,
              "#7201a8"
             ],
             [
              0.3333333333333333,
              "#9c179e"
             ],
             [
              0.4444444444444444,
              "#bd3786"
             ],
             [
              0.5555555555555556,
              "#d8576b"
             ],
             [
              0.6666666666666666,
              "#ed7953"
             ],
             [
              0.7777777777777778,
              "#fb9f3a"
             ],
             [
              0.8888888888888888,
              "#fdca26"
             ],
             [
              1,
              "#f0f921"
             ]
            ],
            "type": "contour"
           }
          ],
          "contourcarpet": [
           {
            "colorbar": {
             "outlinewidth": 0,
             "ticks": ""
            },
            "type": "contourcarpet"
           }
          ],
          "heatmap": [
           {
            "colorbar": {
             "outlinewidth": 0,
             "ticks": ""
            },
            "colorscale": [
             [
              0,
              "#0d0887"
             ],
             [
              0.1111111111111111,
              "#46039f"
             ],
             [
              0.2222222222222222,
              "#7201a8"
             ],
             [
              0.3333333333333333,
              "#9c179e"
             ],
             [
              0.4444444444444444,
              "#bd3786"
             ],
             [
              0.5555555555555556,
              "#d8576b"
             ],
             [
              0.6666666666666666,
              "#ed7953"
             ],
             [
              0.7777777777777778,
              "#fb9f3a"
             ],
             [
              0.8888888888888888,
              "#fdca26"
             ],
             [
              1,
              "#f0f921"
             ]
            ],
            "type": "heatmap"
           }
          ],
          "heatmapgl": [
           {
            "colorbar": {
             "outlinewidth": 0,
             "ticks": ""
            },
            "colorscale": [
             [
              0,
              "#0d0887"
             ],
             [
              0.1111111111111111,
              "#46039f"
             ],
             [
              0.2222222222222222,
              "#7201a8"
             ],
             [
              0.3333333333333333,
              "#9c179e"
             ],
             [
              0.4444444444444444,
              "#bd3786"
             ],
             [
              0.5555555555555556,
              "#d8576b"
             ],
             [
              0.6666666666666666,
              "#ed7953"
             ],
             [
              0.7777777777777778,
              "#fb9f3a"
             ],
             [
              0.8888888888888888,
              "#fdca26"
             ],
             [
              1,
              "#f0f921"
             ]
            ],
            "type": "heatmapgl"
           }
          ],
          "histogram": [
           {
            "marker": {
             "pattern": {
              "fillmode": "overlay",
              "size": 10,
              "solidity": 0.2
             }
            },
            "type": "histogram"
           }
          ],
          "histogram2d": [
           {
            "colorbar": {
             "outlinewidth": 0,
             "ticks": ""
            },
            "colorscale": [
             [
              0,
              "#0d0887"
             ],
             [
              0.1111111111111111,
              "#46039f"
             ],
             [
              0.2222222222222222,
              "#7201a8"
             ],
             [
              0.3333333333333333,
              "#9c179e"
             ],
             [
              0.4444444444444444,
              "#bd3786"
             ],
             [
              0.5555555555555556,
              "#d8576b"
             ],
             [
              0.6666666666666666,
              "#ed7953"
             ],
             [
              0.7777777777777778,
              "#fb9f3a"
             ],
             [
              0.8888888888888888,
              "#fdca26"
             ],
             [
              1,
              "#f0f921"
             ]
            ],
            "type": "histogram2d"
           }
          ],
          "histogram2dcontour": [
           {
            "colorbar": {
             "outlinewidth": 0,
             "ticks": ""
            },
            "colorscale": [
             [
              0,
              "#0d0887"
             ],
             [
              0.1111111111111111,
              "#46039f"
             ],
             [
              0.2222222222222222,
              "#7201a8"
             ],
             [
              0.3333333333333333,
              "#9c179e"
             ],
             [
              0.4444444444444444,
              "#bd3786"
             ],
             [
              0.5555555555555556,
              "#d8576b"
             ],
             [
              0.6666666666666666,
              "#ed7953"
             ],
             [
              0.7777777777777778,
              "#fb9f3a"
             ],
             [
              0.8888888888888888,
              "#fdca26"
             ],
             [
              1,
              "#f0f921"
             ]
            ],
            "type": "histogram2dcontour"
           }
          ],
          "mesh3d": [
           {
            "colorbar": {
             "outlinewidth": 0,
             "ticks": ""
            },
            "type": "mesh3d"
           }
          ],
          "parcoords": [
           {
            "line": {
             "colorbar": {
              "outlinewidth": 0,
              "ticks": ""
             }
            },
            "type": "parcoords"
           }
          ],
          "pie": [
           {
            "automargin": true,
            "type": "pie"
           }
          ],
          "scatter": [
           {
            "fillpattern": {
             "fillmode": "overlay",
             "size": 10,
             "solidity": 0.2
            },
            "type": "scatter"
           }
          ],
          "scatter3d": [
           {
            "line": {
             "colorbar": {
              "outlinewidth": 0,
              "ticks": ""
             }
            },
            "marker": {
             "colorbar": {
              "outlinewidth": 0,
              "ticks": ""
             }
            },
            "type": "scatter3d"
           }
          ],
          "scattercarpet": [
           {
            "marker": {
             "colorbar": {
              "outlinewidth": 0,
              "ticks": ""
             }
            },
            "type": "scattercarpet"
           }
          ],
          "scattergeo": [
           {
            "marker": {
             "colorbar": {
              "outlinewidth": 0,
              "ticks": ""
             }
            },
            "type": "scattergeo"
           }
          ],
          "scattergl": [
           {
            "marker": {
             "colorbar": {
              "outlinewidth": 0,
              "ticks": ""
             }
            },
            "type": "scattergl"
           }
          ],
          "scattermapbox": [
           {
            "marker": {
             "colorbar": {
              "outlinewidth": 0,
              "ticks": ""
             }
            },
            "type": "scattermapbox"
           }
          ],
          "scatterpolar": [
           {
            "marker": {
             "colorbar": {
              "outlinewidth": 0,
              "ticks": ""
             }
            },
            "type": "scatterpolar"
           }
          ],
          "scatterpolargl": [
           {
            "marker": {
             "colorbar": {
              "outlinewidth": 0,
              "ticks": ""
             }
            },
            "type": "scatterpolargl"
           }
          ],
          "scatterternary": [
           {
            "marker": {
             "colorbar": {
              "outlinewidth": 0,
              "ticks": ""
             }
            },
            "type": "scatterternary"
           }
          ],
          "surface": [
           {
            "colorbar": {
             "outlinewidth": 0,
             "ticks": ""
            },
            "colorscale": [
             [
              0,
              "#0d0887"
             ],
             [
              0.1111111111111111,
              "#46039f"
             ],
             [
              0.2222222222222222,
              "#7201a8"
             ],
             [
              0.3333333333333333,
              "#9c179e"
             ],
             [
              0.4444444444444444,
              "#bd3786"
             ],
             [
              0.5555555555555556,
              "#d8576b"
             ],
             [
              0.6666666666666666,
              "#ed7953"
             ],
             [
              0.7777777777777778,
              "#fb9f3a"
             ],
             [
              0.8888888888888888,
              "#fdca26"
             ],
             [
              1,
              "#f0f921"
             ]
            ],
            "type": "surface"
           }
          ],
          "table": [
           {
            "cells": {
             "fill": {
              "color": "#EBF0F8"
             },
             "line": {
              "color": "white"
             }
            },
            "header": {
             "fill": {
              "color": "#C8D4E3"
             },
             "line": {
              "color": "white"
             }
            },
            "type": "table"
           }
          ]
         },
         "layout": {
          "annotationdefaults": {
           "arrowcolor": "#2a3f5f",
           "arrowhead": 0,
           "arrowwidth": 1
          },
          "autotypenumbers": "strict",
          "coloraxis": {
           "colorbar": {
            "outlinewidth": 0,
            "ticks": ""
           }
          },
          "colorscale": {
           "diverging": [
            [
             0,
             "#8e0152"
            ],
            [
             0.1,
             "#c51b7d"
            ],
            [
             0.2,
             "#de77ae"
            ],
            [
             0.3,
             "#f1b6da"
            ],
            [
             0.4,
             "#fde0ef"
            ],
            [
             0.5,
             "#f7f7f7"
            ],
            [
             0.6,
             "#e6f5d0"
            ],
            [
             0.7,
             "#b8e186"
            ],
            [
             0.8,
             "#7fbc41"
            ],
            [
             0.9,
             "#4d9221"
            ],
            [
             1,
             "#276419"
            ]
           ],
           "sequential": [
            [
             0,
             "#0d0887"
            ],
            [
             0.1111111111111111,
             "#46039f"
            ],
            [
             0.2222222222222222,
             "#7201a8"
            ],
            [
             0.3333333333333333,
             "#9c179e"
            ],
            [
             0.4444444444444444,
             "#bd3786"
            ],
            [
             0.5555555555555556,
             "#d8576b"
            ],
            [
             0.6666666666666666,
             "#ed7953"
            ],
            [
             0.7777777777777778,
             "#fb9f3a"
            ],
            [
             0.8888888888888888,
             "#fdca26"
            ],
            [
             1,
             "#f0f921"
            ]
           ],
           "sequentialminus": [
            [
             0,
             "#0d0887"
            ],
            [
             0.1111111111111111,
             "#46039f"
            ],
            [
             0.2222222222222222,
             "#7201a8"
            ],
            [
             0.3333333333333333,
             "#9c179e"
            ],
            [
             0.4444444444444444,
             "#bd3786"
            ],
            [
             0.5555555555555556,
             "#d8576b"
            ],
            [
             0.6666666666666666,
             "#ed7953"
            ],
            [
             0.7777777777777778,
             "#fb9f3a"
            ],
            [
             0.8888888888888888,
             "#fdca26"
            ],
            [
             1,
             "#f0f921"
            ]
           ]
          },
          "colorway": [
           "#636efa",
           "#EF553B",
           "#00cc96",
           "#ab63fa",
           "#FFA15A",
           "#19d3f3",
           "#FF6692",
           "#B6E880",
           "#FF97FF",
           "#FECB52"
          ],
          "font": {
           "color": "#2a3f5f"
          },
          "geo": {
           "bgcolor": "white",
           "lakecolor": "white",
           "landcolor": "#E5ECF6",
           "showlakes": true,
           "showland": true,
           "subunitcolor": "white"
          },
          "hoverlabel": {
           "align": "left"
          },
          "hovermode": "closest",
          "mapbox": {
           "style": "light"
          },
          "paper_bgcolor": "white",
          "plot_bgcolor": "#E5ECF6",
          "polar": {
           "angularaxis": {
            "gridcolor": "white",
            "linecolor": "white",
            "ticks": ""
           },
           "bgcolor": "#E5ECF6",
           "radialaxis": {
            "gridcolor": "white",
            "linecolor": "white",
            "ticks": ""
           }
          },
          "scene": {
           "xaxis": {
            "backgroundcolor": "#E5ECF6",
            "gridcolor": "white",
            "gridwidth": 2,
            "linecolor": "white",
            "showbackground": true,
            "ticks": "",
            "zerolinecolor": "white"
           },
           "yaxis": {
            "backgroundcolor": "#E5ECF6",
            "gridcolor": "white",
            "gridwidth": 2,
            "linecolor": "white",
            "showbackground": true,
            "ticks": "",
            "zerolinecolor": "white"
           },
           "zaxis": {
            "backgroundcolor": "#E5ECF6",
            "gridcolor": "white",
            "gridwidth": 2,
            "linecolor": "white",
            "showbackground": true,
            "ticks": "",
            "zerolinecolor": "white"
           }
          },
          "shapedefaults": {
           "line": {
            "color": "#2a3f5f"
           }
          },
          "ternary": {
           "aaxis": {
            "gridcolor": "white",
            "linecolor": "white",
            "ticks": ""
           },
           "baxis": {
            "gridcolor": "white",
            "linecolor": "white",
            "ticks": ""
           },
           "bgcolor": "#E5ECF6",
           "caxis": {
            "gridcolor": "white",
            "linecolor": "white",
            "ticks": ""
           }
          },
          "title": {
           "x": 0.05
          },
          "xaxis": {
           "automargin": true,
           "gridcolor": "white",
           "linecolor": "white",
           "ticks": "",
           "title": {
            "standoff": 15
           },
           "zerolinecolor": "white",
           "zerolinewidth": 2
          },
          "yaxis": {
           "automargin": true,
           "gridcolor": "white",
           "linecolor": "white",
           "ticks": "",
           "title": {
            "standoff": 15
           },
           "zerolinecolor": "white",
           "zerolinewidth": 2
          }
         }
        },
        "title": {
         "text": "Reasons to own business for industry: Management of companies and enterprises"
        },
        "xaxis": {
         "anchor": "y",
         "domain": [
          0,
          1
         ],
         "title": {
          "text": "Industry Name"
         }
        },
        "yaxis": {
         "anchor": "x",
         "domain": [
          0,
          1
         ],
         "title": {
          "text": "Number of Business Owners"
         }
        }
       }
      }
     },
     "metadata": {},
     "output_type": "display_data"
    },
    {
     "data": {
      "application/vnd.plotly.v1+json": {
       "config": {
        "plotlyServerURL": "https://plot.ly"
       },
       "data": [
        {
         "alignmentgroup": "True",
         "hovertemplate": "Reason for owning business=Greater income<br>Industry Name=%{x}<br>Number of Business Owners=%{y}<extra></extra>",
         "legendgroup": "Greater income",
         "marker": {
          "color": "#636efa",
          "pattern": {
           "shape": ""
          }
         },
         "name": "Greater income",
         "offsetgroup": "Greater income",
         "orientation": "v",
         "showlegend": true,
         "textposition": "auto",
         "texttemplate": "%{y:.2s}",
         "type": "bar",
         "x": [
          "Manufacturing"
         ],
         "xaxis": "x",
         "y": [
          105081
         ],
         "yaxis": "y"
        },
        {
         "alignmentgroup": "True",
         "hovertemplate": "Reason for owning business=Wanted to be my own boss<br>Industry Name=%{x}<br>Number of Business Owners=%{y}<extra></extra>",
         "legendgroup": "Wanted to be my own boss",
         "marker": {
          "color": "#EF553B",
          "pattern": {
           "shape": ""
          }
         },
         "name": "Wanted to be my own boss",
         "offsetgroup": "Wanted to be my own boss",
         "orientation": "v",
         "showlegend": true,
         "textposition": "auto",
         "texttemplate": "%{y:.2s}",
         "type": "bar",
         "x": [
          "Manufacturing"
         ],
         "xaxis": "x",
         "y": [
          102866
         ],
         "yaxis": "y"
        },
        {
         "alignmentgroup": "True",
         "hovertemplate": "Reason for owning business=Best avenue for ideas<br>Industry Name=%{x}<br>Number of Business Owners=%{y}<extra></extra>",
         "legendgroup": "Best avenue for ideas",
         "marker": {
          "color": "#00cc96",
          "pattern": {
           "shape": ""
          }
         },
         "name": "Best avenue for ideas",
         "offsetgroup": "Best avenue for ideas",
         "orientation": "v",
         "showlegend": true,
         "textposition": "auto",
         "texttemplate": "%{y:.2s}",
         "type": "bar",
         "x": [
          "Manufacturing"
         ],
         "xaxis": "x",
         "y": [
          92940
         ],
         "yaxis": "y"
        },
        {
         "alignmentgroup": "True",
         "hovertemplate": "Reason for owning business=Balance work and family<br>Industry Name=%{x}<br>Number of Business Owners=%{y}<extra></extra>",
         "legendgroup": "Balance work and family",
         "marker": {
          "color": "#ab63fa",
          "pattern": {
           "shape": ""
          }
         },
         "name": "Balance work and family",
         "offsetgroup": "Balance work and family",
         "orientation": "v",
         "showlegend": true,
         "textposition": "auto",
         "texttemplate": "%{y:.2s}",
         "type": "bar",
         "x": [
          "Manufacturing"
         ],
         "xaxis": "x",
         "y": [
          88664
         ],
         "yaxis": "y"
        },
        {
         "alignmentgroup": "True",
         "hovertemplate": "Reason for owning business=Flexible hours<br>Industry Name=%{x}<br>Number of Business Owners=%{y}<extra></extra>",
         "legendgroup": "Flexible hours",
         "marker": {
          "color": "#FFA15A",
          "pattern": {
           "shape": ""
          }
         },
         "name": "Flexible hours",
         "offsetgroup": "Flexible hours",
         "orientation": "v",
         "showlegend": true,
         "textposition": "auto",
         "texttemplate": "%{y:.2s}",
         "type": "bar",
         "x": [
          "Manufacturing"
         ],
         "xaxis": "x",
         "y": [
          80794
         ],
         "yaxis": "y"
        },
        {
         "alignmentgroup": "True",
         "hovertemplate": "Reason for owning business=Start my own business<br>Industry Name=%{x}<br>Number of Business Owners=%{y}<extra></extra>",
         "legendgroup": "Start my own business",
         "marker": {
          "color": "#19d3f3",
          "pattern": {
           "shape": ""
          }
         },
         "name": "Start my own business",
         "offsetgroup": "Start my own business",
         "orientation": "v",
         "showlegend": true,
         "textposition": "auto",
         "texttemplate": "%{y:.2s}",
         "type": "bar",
         "x": [
          "Manufacturing"
         ],
         "xaxis": "x",
         "y": [
          74318
         ],
         "yaxis": "y"
        },
        {
         "alignmentgroup": "True",
         "hovertemplate": "Reason for owning business=Work for self<br>Industry Name=%{x}<br>Number of Business Owners=%{y}<extra></extra>",
         "legendgroup": "Work for self",
         "marker": {
          "color": "#FF6692",
          "pattern": {
           "shape": ""
          }
         },
         "name": "Work for self",
         "offsetgroup": "Work for self",
         "orientation": "v",
         "showlegend": true,
         "textposition": "auto",
         "texttemplate": "%{y:.2s}",
         "type": "bar",
         "x": [
          "Manufacturing"
         ],
         "xaxis": "x",
         "y": [
          53664
         ],
         "yaxis": "y"
        },
        {
         "alignmentgroup": "True",
         "hovertemplate": "Reason for owning business=Friend or family role model<br>Industry Name=%{x}<br>Number of Business Owners=%{y}<extra></extra>",
         "legendgroup": "Friend or family role model",
         "marker": {
          "color": "#B6E880",
          "pattern": {
           "shape": ""
          }
         },
         "name": "Friend or family role model",
         "offsetgroup": "Friend or family role model",
         "orientation": "v",
         "showlegend": true,
         "textposition": "auto",
         "texttemplate": "%{y:.2s}",
         "type": "bar",
         "x": [
          "Manufacturing"
         ],
         "xaxis": "x",
         "y": [
          53660
         ],
         "yaxis": "y"
        },
        {
         "alignmentgroup": "True",
         "hovertemplate": "Reason for owning business=Carry on family business<br>Industry Name=%{x}<br>Number of Business Owners=%{y}<extra></extra>",
         "legendgroup": "Carry on family business",
         "marker": {
          "color": "#FF97FF",
          "pattern": {
           "shape": ""
          }
         },
         "name": "Carry on family business",
         "offsetgroup": "Carry on family business",
         "orientation": "v",
         "showlegend": true,
         "textposition": "auto",
         "texttemplate": "%{y:.2s}",
         "type": "bar",
         "x": [
          "Manufacturing"
         ],
         "xaxis": "x",
         "y": [
          50581
         ],
         "yaxis": "y"
        },
        {
         "alignmentgroup": "True",
         "hovertemplate": "Reason for owning business=Help my community<br>Industry Name=%{x}<br>Number of Business Owners=%{y}<extra></extra>",
         "legendgroup": "Help my community",
         "marker": {
          "color": "#FECB52",
          "pattern": {
           "shape": ""
          }
         },
         "name": "Help my community",
         "offsetgroup": "Help my community",
         "orientation": "v",
         "showlegend": true,
         "textposition": "auto",
         "texttemplate": "%{y:.2s}",
         "type": "bar",
         "x": [
          "Manufacturing"
         ],
         "xaxis": "x",
         "y": [
          33302
         ],
         "yaxis": "y"
        },
        {
         "alignmentgroup": "True",
         "hovertemplate": "Reason for owning business=Other<br>Industry Name=%{x}<br>Number of Business Owners=%{y}<extra></extra>",
         "legendgroup": "Other",
         "marker": {
          "color": "#636efa",
          "pattern": {
           "shape": ""
          }
         },
         "name": "Other",
         "offsetgroup": "Other",
         "orientation": "v",
         "showlegend": true,
         "textposition": "auto",
         "texttemplate": "%{y:.2s}",
         "type": "bar",
         "x": [
          "Manufacturing"
         ],
         "xaxis": "x",
         "y": [
          15784
         ],
         "yaxis": "y"
        },
        {
         "alignmentgroup": "True",
         "hovertemplate": "Reason for owning business=Couldn't find a job<br>Industry Name=%{x}<br>Number of Business Owners=%{y}<extra></extra>",
         "legendgroup": "Couldn't find a job",
         "marker": {
          "color": "#EF553B",
          "pattern": {
           "shape": ""
          }
         },
         "name": "Couldn't find a job",
         "offsetgroup": "Couldn't find a job",
         "orientation": "v",
         "showlegend": true,
         "textposition": "auto",
         "texttemplate": "%{y:.2s}",
         "type": "bar",
         "x": [
          "Manufacturing"
         ],
         "xaxis": "x",
         "y": [
          11700
         ],
         "yaxis": "y"
        }
       ],
       "layout": {
        "barmode": "group",
        "legend": {
         "title": {
          "text": "Reason for owning business"
         },
         "tracegroupgap": 0
        },
        "template": {
         "data": {
          "bar": [
           {
            "error_x": {
             "color": "#2a3f5f"
            },
            "error_y": {
             "color": "#2a3f5f"
            },
            "marker": {
             "line": {
              "color": "#E5ECF6",
              "width": 0.5
             },
             "pattern": {
              "fillmode": "overlay",
              "size": 10,
              "solidity": 0.2
             }
            },
            "type": "bar"
           }
          ],
          "barpolar": [
           {
            "marker": {
             "line": {
              "color": "#E5ECF6",
              "width": 0.5
             },
             "pattern": {
              "fillmode": "overlay",
              "size": 10,
              "solidity": 0.2
             }
            },
            "type": "barpolar"
           }
          ],
          "carpet": [
           {
            "aaxis": {
             "endlinecolor": "#2a3f5f",
             "gridcolor": "white",
             "linecolor": "white",
             "minorgridcolor": "white",
             "startlinecolor": "#2a3f5f"
            },
            "baxis": {
             "endlinecolor": "#2a3f5f",
             "gridcolor": "white",
             "linecolor": "white",
             "minorgridcolor": "white",
             "startlinecolor": "#2a3f5f"
            },
            "type": "carpet"
           }
          ],
          "choropleth": [
           {
            "colorbar": {
             "outlinewidth": 0,
             "ticks": ""
            },
            "type": "choropleth"
           }
          ],
          "contour": [
           {
            "colorbar": {
             "outlinewidth": 0,
             "ticks": ""
            },
            "colorscale": [
             [
              0,
              "#0d0887"
             ],
             [
              0.1111111111111111,
              "#46039f"
             ],
             [
              0.2222222222222222,
              "#7201a8"
             ],
             [
              0.3333333333333333,
              "#9c179e"
             ],
             [
              0.4444444444444444,
              "#bd3786"
             ],
             [
              0.5555555555555556,
              "#d8576b"
             ],
             [
              0.6666666666666666,
              "#ed7953"
             ],
             [
              0.7777777777777778,
              "#fb9f3a"
             ],
             [
              0.8888888888888888,
              "#fdca26"
             ],
             [
              1,
              "#f0f921"
             ]
            ],
            "type": "contour"
           }
          ],
          "contourcarpet": [
           {
            "colorbar": {
             "outlinewidth": 0,
             "ticks": ""
            },
            "type": "contourcarpet"
           }
          ],
          "heatmap": [
           {
            "colorbar": {
             "outlinewidth": 0,
             "ticks": ""
            },
            "colorscale": [
             [
              0,
              "#0d0887"
             ],
             [
              0.1111111111111111,
              "#46039f"
             ],
             [
              0.2222222222222222,
              "#7201a8"
             ],
             [
              0.3333333333333333,
              "#9c179e"
             ],
             [
              0.4444444444444444,
              "#bd3786"
             ],
             [
              0.5555555555555556,
              "#d8576b"
             ],
             [
              0.6666666666666666,
              "#ed7953"
             ],
             [
              0.7777777777777778,
              "#fb9f3a"
             ],
             [
              0.8888888888888888,
              "#fdca26"
             ],
             [
              1,
              "#f0f921"
             ]
            ],
            "type": "heatmap"
           }
          ],
          "heatmapgl": [
           {
            "colorbar": {
             "outlinewidth": 0,
             "ticks": ""
            },
            "colorscale": [
             [
              0,
              "#0d0887"
             ],
             [
              0.1111111111111111,
              "#46039f"
             ],
             [
              0.2222222222222222,
              "#7201a8"
             ],
             [
              0.3333333333333333,
              "#9c179e"
             ],
             [
              0.4444444444444444,
              "#bd3786"
             ],
             [
              0.5555555555555556,
              "#d8576b"
             ],
             [
              0.6666666666666666,
              "#ed7953"
             ],
             [
              0.7777777777777778,
              "#fb9f3a"
             ],
             [
              0.8888888888888888,
              "#fdca26"
             ],
             [
              1,
              "#f0f921"
             ]
            ],
            "type": "heatmapgl"
           }
          ],
          "histogram": [
           {
            "marker": {
             "pattern": {
              "fillmode": "overlay",
              "size": 10,
              "solidity": 0.2
             }
            },
            "type": "histogram"
           }
          ],
          "histogram2d": [
           {
            "colorbar": {
             "outlinewidth": 0,
             "ticks": ""
            },
            "colorscale": [
             [
              0,
              "#0d0887"
             ],
             [
              0.1111111111111111,
              "#46039f"
             ],
             [
              0.2222222222222222,
              "#7201a8"
             ],
             [
              0.3333333333333333,
              "#9c179e"
             ],
             [
              0.4444444444444444,
              "#bd3786"
             ],
             [
              0.5555555555555556,
              "#d8576b"
             ],
             [
              0.6666666666666666,
              "#ed7953"
             ],
             [
              0.7777777777777778,
              "#fb9f3a"
             ],
             [
              0.8888888888888888,
              "#fdca26"
             ],
             [
              1,
              "#f0f921"
             ]
            ],
            "type": "histogram2d"
           }
          ],
          "histogram2dcontour": [
           {
            "colorbar": {
             "outlinewidth": 0,
             "ticks": ""
            },
            "colorscale": [
             [
              0,
              "#0d0887"
             ],
             [
              0.1111111111111111,
              "#46039f"
             ],
             [
              0.2222222222222222,
              "#7201a8"
             ],
             [
              0.3333333333333333,
              "#9c179e"
             ],
             [
              0.4444444444444444,
              "#bd3786"
             ],
             [
              0.5555555555555556,
              "#d8576b"
             ],
             [
              0.6666666666666666,
              "#ed7953"
             ],
             [
              0.7777777777777778,
              "#fb9f3a"
             ],
             [
              0.8888888888888888,
              "#fdca26"
             ],
             [
              1,
              "#f0f921"
             ]
            ],
            "type": "histogram2dcontour"
           }
          ],
          "mesh3d": [
           {
            "colorbar": {
             "outlinewidth": 0,
             "ticks": ""
            },
            "type": "mesh3d"
           }
          ],
          "parcoords": [
           {
            "line": {
             "colorbar": {
              "outlinewidth": 0,
              "ticks": ""
             }
            },
            "type": "parcoords"
           }
          ],
          "pie": [
           {
            "automargin": true,
            "type": "pie"
           }
          ],
          "scatter": [
           {
            "fillpattern": {
             "fillmode": "overlay",
             "size": 10,
             "solidity": 0.2
            },
            "type": "scatter"
           }
          ],
          "scatter3d": [
           {
            "line": {
             "colorbar": {
              "outlinewidth": 0,
              "ticks": ""
             }
            },
            "marker": {
             "colorbar": {
              "outlinewidth": 0,
              "ticks": ""
             }
            },
            "type": "scatter3d"
           }
          ],
          "scattercarpet": [
           {
            "marker": {
             "colorbar": {
              "outlinewidth": 0,
              "ticks": ""
             }
            },
            "type": "scattercarpet"
           }
          ],
          "scattergeo": [
           {
            "marker": {
             "colorbar": {
              "outlinewidth": 0,
              "ticks": ""
             }
            },
            "type": "scattergeo"
           }
          ],
          "scattergl": [
           {
            "marker": {
             "colorbar": {
              "outlinewidth": 0,
              "ticks": ""
             }
            },
            "type": "scattergl"
           }
          ],
          "scattermapbox": [
           {
            "marker": {
             "colorbar": {
              "outlinewidth": 0,
              "ticks": ""
             }
            },
            "type": "scattermapbox"
           }
          ],
          "scatterpolar": [
           {
            "marker": {
             "colorbar": {
              "outlinewidth": 0,
              "ticks": ""
             }
            },
            "type": "scatterpolar"
           }
          ],
          "scatterpolargl": [
           {
            "marker": {
             "colorbar": {
              "outlinewidth": 0,
              "ticks": ""
             }
            },
            "type": "scatterpolargl"
           }
          ],
          "scatterternary": [
           {
            "marker": {
             "colorbar": {
              "outlinewidth": 0,
              "ticks": ""
             }
            },
            "type": "scatterternary"
           }
          ],
          "surface": [
           {
            "colorbar": {
             "outlinewidth": 0,
             "ticks": ""
            },
            "colorscale": [
             [
              0,
              "#0d0887"
             ],
             [
              0.1111111111111111,
              "#46039f"
             ],
             [
              0.2222222222222222,
              "#7201a8"
             ],
             [
              0.3333333333333333,
              "#9c179e"
             ],
             [
              0.4444444444444444,
              "#bd3786"
             ],
             [
              0.5555555555555556,
              "#d8576b"
             ],
             [
              0.6666666666666666,
              "#ed7953"
             ],
             [
              0.7777777777777778,
              "#fb9f3a"
             ],
             [
              0.8888888888888888,
              "#fdca26"
             ],
             [
              1,
              "#f0f921"
             ]
            ],
            "type": "surface"
           }
          ],
          "table": [
           {
            "cells": {
             "fill": {
              "color": "#EBF0F8"
             },
             "line": {
              "color": "white"
             }
            },
            "header": {
             "fill": {
              "color": "#C8D4E3"
             },
             "line": {
              "color": "white"
             }
            },
            "type": "table"
           }
          ]
         },
         "layout": {
          "annotationdefaults": {
           "arrowcolor": "#2a3f5f",
           "arrowhead": 0,
           "arrowwidth": 1
          },
          "autotypenumbers": "strict",
          "coloraxis": {
           "colorbar": {
            "outlinewidth": 0,
            "ticks": ""
           }
          },
          "colorscale": {
           "diverging": [
            [
             0,
             "#8e0152"
            ],
            [
             0.1,
             "#c51b7d"
            ],
            [
             0.2,
             "#de77ae"
            ],
            [
             0.3,
             "#f1b6da"
            ],
            [
             0.4,
             "#fde0ef"
            ],
            [
             0.5,
             "#f7f7f7"
            ],
            [
             0.6,
             "#e6f5d0"
            ],
            [
             0.7,
             "#b8e186"
            ],
            [
             0.8,
             "#7fbc41"
            ],
            [
             0.9,
             "#4d9221"
            ],
            [
             1,
             "#276419"
            ]
           ],
           "sequential": [
            [
             0,
             "#0d0887"
            ],
            [
             0.1111111111111111,
             "#46039f"
            ],
            [
             0.2222222222222222,
             "#7201a8"
            ],
            [
             0.3333333333333333,
             "#9c179e"
            ],
            [
             0.4444444444444444,
             "#bd3786"
            ],
            [
             0.5555555555555556,
             "#d8576b"
            ],
            [
             0.6666666666666666,
             "#ed7953"
            ],
            [
             0.7777777777777778,
             "#fb9f3a"
            ],
            [
             0.8888888888888888,
             "#fdca26"
            ],
            [
             1,
             "#f0f921"
            ]
           ],
           "sequentialminus": [
            [
             0,
             "#0d0887"
            ],
            [
             0.1111111111111111,
             "#46039f"
            ],
            [
             0.2222222222222222,
             "#7201a8"
            ],
            [
             0.3333333333333333,
             "#9c179e"
            ],
            [
             0.4444444444444444,
             "#bd3786"
            ],
            [
             0.5555555555555556,
             "#d8576b"
            ],
            [
             0.6666666666666666,
             "#ed7953"
            ],
            [
             0.7777777777777778,
             "#fb9f3a"
            ],
            [
             0.8888888888888888,
             "#fdca26"
            ],
            [
             1,
             "#f0f921"
            ]
           ]
          },
          "colorway": [
           "#636efa",
           "#EF553B",
           "#00cc96",
           "#ab63fa",
           "#FFA15A",
           "#19d3f3",
           "#FF6692",
           "#B6E880",
           "#FF97FF",
           "#FECB52"
          ],
          "font": {
           "color": "#2a3f5f"
          },
          "geo": {
           "bgcolor": "white",
           "lakecolor": "white",
           "landcolor": "#E5ECF6",
           "showlakes": true,
           "showland": true,
           "subunitcolor": "white"
          },
          "hoverlabel": {
           "align": "left"
          },
          "hovermode": "closest",
          "mapbox": {
           "style": "light"
          },
          "paper_bgcolor": "white",
          "plot_bgcolor": "#E5ECF6",
          "polar": {
           "angularaxis": {
            "gridcolor": "white",
            "linecolor": "white",
            "ticks": ""
           },
           "bgcolor": "#E5ECF6",
           "radialaxis": {
            "gridcolor": "white",
            "linecolor": "white",
            "ticks": ""
           }
          },
          "scene": {
           "xaxis": {
            "backgroundcolor": "#E5ECF6",
            "gridcolor": "white",
            "gridwidth": 2,
            "linecolor": "white",
            "showbackground": true,
            "ticks": "",
            "zerolinecolor": "white"
           },
           "yaxis": {
            "backgroundcolor": "#E5ECF6",
            "gridcolor": "white",
            "gridwidth": 2,
            "linecolor": "white",
            "showbackground": true,
            "ticks": "",
            "zerolinecolor": "white"
           },
           "zaxis": {
            "backgroundcolor": "#E5ECF6",
            "gridcolor": "white",
            "gridwidth": 2,
            "linecolor": "white",
            "showbackground": true,
            "ticks": "",
            "zerolinecolor": "white"
           }
          },
          "shapedefaults": {
           "line": {
            "color": "#2a3f5f"
           }
          },
          "ternary": {
           "aaxis": {
            "gridcolor": "white",
            "linecolor": "white",
            "ticks": ""
           },
           "baxis": {
            "gridcolor": "white",
            "linecolor": "white",
            "ticks": ""
           },
           "bgcolor": "#E5ECF6",
           "caxis": {
            "gridcolor": "white",
            "linecolor": "white",
            "ticks": ""
           }
          },
          "title": {
           "x": 0.05
          },
          "xaxis": {
           "automargin": true,
           "gridcolor": "white",
           "linecolor": "white",
           "ticks": "",
           "title": {
            "standoff": 15
           },
           "zerolinecolor": "white",
           "zerolinewidth": 2
          },
          "yaxis": {
           "automargin": true,
           "gridcolor": "white",
           "linecolor": "white",
           "ticks": "",
           "title": {
            "standoff": 15
           },
           "zerolinecolor": "white",
           "zerolinewidth": 2
          }
         }
        },
        "title": {
         "text": "Reasons to own business for industry: Manufacturing"
        },
        "xaxis": {
         "anchor": "y",
         "domain": [
          0,
          1
         ],
         "title": {
          "text": "Industry Name"
         }
        },
        "yaxis": {
         "anchor": "x",
         "domain": [
          0,
          1
         ],
         "title": {
          "text": "Number of Business Owners"
         }
        }
       }
      }
     },
     "metadata": {},
     "output_type": "display_data"
    },
    {
     "data": {
      "application/vnd.plotly.v1+json": {
       "config": {
        "plotlyServerURL": "https://plot.ly"
       },
       "data": [
        {
         "alignmentgroup": "True",
         "hovertemplate": "Reason for owning business=Greater income<br>Industry Name=%{x}<br>Number of Business Owners=%{y}<extra></extra>",
         "legendgroup": "Greater income",
         "marker": {
          "color": "#636efa",
          "pattern": {
           "shape": ""
          }
         },
         "name": "Greater income",
         "offsetgroup": "Greater income",
         "orientation": "v",
         "showlegend": true,
         "textposition": "auto",
         "texttemplate": "%{y:.2s}",
         "type": "bar",
         "x": [
          "Mining, quarrying, and oil and gas extraction"
         ],
         "xaxis": "x",
         "y": [
          7647
         ],
         "yaxis": "y"
        },
        {
         "alignmentgroup": "True",
         "hovertemplate": "Reason for owning business=Wanted to be my own boss<br>Industry Name=%{x}<br>Number of Business Owners=%{y}<extra></extra>",
         "legendgroup": "Wanted to be my own boss",
         "marker": {
          "color": "#EF553B",
          "pattern": {
           "shape": ""
          }
         },
         "name": "Wanted to be my own boss",
         "offsetgroup": "Wanted to be my own boss",
         "orientation": "v",
         "showlegend": true,
         "textposition": "auto",
         "texttemplate": "%{y:.2s}",
         "type": "bar",
         "x": [
          "Mining, quarrying, and oil and gas extraction"
         ],
         "xaxis": "x",
         "y": [
          6328
         ],
         "yaxis": "y"
        },
        {
         "alignmentgroup": "True",
         "hovertemplate": "Reason for owning business=Balance work and family<br>Industry Name=%{x}<br>Number of Business Owners=%{y}<extra></extra>",
         "legendgroup": "Balance work and family",
         "marker": {
          "color": "#00cc96",
          "pattern": {
           "shape": ""
          }
         },
         "name": "Balance work and family",
         "offsetgroup": "Balance work and family",
         "orientation": "v",
         "showlegend": true,
         "textposition": "auto",
         "texttemplate": "%{y:.2s}",
         "type": "bar",
         "x": [
          "Mining, quarrying, and oil and gas extraction"
         ],
         "xaxis": "x",
         "y": [
          6172
         ],
         "yaxis": "y"
        },
        {
         "alignmentgroup": "True",
         "hovertemplate": "Reason for owning business=Best avenue for ideas<br>Industry Name=%{x}<br>Number of Business Owners=%{y}<extra></extra>",
         "legendgroup": "Best avenue for ideas",
         "marker": {
          "color": "#ab63fa",
          "pattern": {
           "shape": ""
          }
         },
         "name": "Best avenue for ideas",
         "offsetgroup": "Best avenue for ideas",
         "orientation": "v",
         "showlegend": true,
         "textposition": "auto",
         "texttemplate": "%{y:.2s}",
         "type": "bar",
         "x": [
          "Mining, quarrying, and oil and gas extraction"
         ],
         "xaxis": "x",
         "y": [
          5334
         ],
         "yaxis": "y"
        },
        {
         "alignmentgroup": "True",
         "hovertemplate": "Reason for owning business=Start my own business<br>Industry Name=%{x}<br>Number of Business Owners=%{y}<extra></extra>",
         "legendgroup": "Start my own business",
         "marker": {
          "color": "#FFA15A",
          "pattern": {
           "shape": ""
          }
         },
         "name": "Start my own business",
         "offsetgroup": "Start my own business",
         "orientation": "v",
         "showlegend": true,
         "textposition": "auto",
         "texttemplate": "%{y:.2s}",
         "type": "bar",
         "x": [
          "Mining, quarrying, and oil and gas extraction"
         ],
         "xaxis": "x",
         "y": [
          5047
         ],
         "yaxis": "y"
        },
        {
         "alignmentgroup": "True",
         "hovertemplate": "Reason for owning business=Flexible hours<br>Industry Name=%{x}<br>Number of Business Owners=%{y}<extra></extra>",
         "legendgroup": "Flexible hours",
         "marker": {
          "color": "#19d3f3",
          "pattern": {
           "shape": ""
          }
         },
         "name": "Flexible hours",
         "offsetgroup": "Flexible hours",
         "orientation": "v",
         "showlegend": true,
         "textposition": "auto",
         "texttemplate": "%{y:.2s}",
         "type": "bar",
         "x": [
          "Mining, quarrying, and oil and gas extraction"
         ],
         "xaxis": "x",
         "y": [
          4892
         ],
         "yaxis": "y"
        },
        {
         "alignmentgroup": "True",
         "hovertemplate": "Reason for owning business=Work for self<br>Industry Name=%{x}<br>Number of Business Owners=%{y}<extra></extra>",
         "legendgroup": "Work for self",
         "marker": {
          "color": "#FF6692",
          "pattern": {
           "shape": ""
          }
         },
         "name": "Work for self",
         "offsetgroup": "Work for self",
         "orientation": "v",
         "showlegend": true,
         "textposition": "auto",
         "texttemplate": "%{y:.2s}",
         "type": "bar",
         "x": [
          "Mining, quarrying, and oil and gas extraction"
         ],
         "xaxis": "x",
         "y": [
          3532
         ],
         "yaxis": "y"
        },
        {
         "alignmentgroup": "True",
         "hovertemplate": "Reason for owning business=Friend or family role model<br>Industry Name=%{x}<br>Number of Business Owners=%{y}<extra></extra>",
         "legendgroup": "Friend or family role model",
         "marker": {
          "color": "#B6E880",
          "pattern": {
           "shape": ""
          }
         },
         "name": "Friend or family role model",
         "offsetgroup": "Friend or family role model",
         "orientation": "v",
         "showlegend": true,
         "textposition": "auto",
         "texttemplate": "%{y:.2s}",
         "type": "bar",
         "x": [
          "Mining, quarrying, and oil and gas extraction"
         ],
         "xaxis": "x",
         "y": [
          3162
         ],
         "yaxis": "y"
        },
        {
         "alignmentgroup": "True",
         "hovertemplate": "Reason for owning business=Carry on family business<br>Industry Name=%{x}<br>Number of Business Owners=%{y}<extra></extra>",
         "legendgroup": "Carry on family business",
         "marker": {
          "color": "#FF97FF",
          "pattern": {
           "shape": ""
          }
         },
         "name": "Carry on family business",
         "offsetgroup": "Carry on family business",
         "orientation": "v",
         "showlegend": true,
         "textposition": "auto",
         "texttemplate": "%{y:.2s}",
         "type": "bar",
         "x": [
          "Mining, quarrying, and oil and gas extraction"
         ],
         "xaxis": "x",
         "y": [
          3123
         ],
         "yaxis": "y"
        },
        {
         "alignmentgroup": "True",
         "hovertemplate": "Reason for owning business=Help my community<br>Industry Name=%{x}<br>Number of Business Owners=%{y}<extra></extra>",
         "legendgroup": "Help my community",
         "marker": {
          "color": "#FECB52",
          "pattern": {
           "shape": ""
          }
         },
         "name": "Help my community",
         "offsetgroup": "Help my community",
         "orientation": "v",
         "showlegend": true,
         "textposition": "auto",
         "texttemplate": "%{y:.2s}",
         "type": "bar",
         "x": [
          "Mining, quarrying, and oil and gas extraction"
         ],
         "xaxis": "x",
         "y": [
          1828
         ],
         "yaxis": "y"
        },
        {
         "alignmentgroup": "True",
         "hovertemplate": "Reason for owning business=Other<br>Industry Name=%{x}<br>Number of Business Owners=%{y}<extra></extra>",
         "legendgroup": "Other",
         "marker": {
          "color": "#636efa",
          "pattern": {
           "shape": ""
          }
         },
         "name": "Other",
         "offsetgroup": "Other",
         "orientation": "v",
         "showlegend": true,
         "textposition": "auto",
         "texttemplate": "%{y:.2s}",
         "type": "bar",
         "x": [
          "Mining, quarrying, and oil and gas extraction"
         ],
         "xaxis": "x",
         "y": [
          773
         ],
         "yaxis": "y"
        },
        {
         "alignmentgroup": "True",
         "hovertemplate": "Reason for owning business=Couldn't find a job<br>Industry Name=%{x}<br>Number of Business Owners=%{y}<extra></extra>",
         "legendgroup": "Couldn't find a job",
         "marker": {
          "color": "#EF553B",
          "pattern": {
           "shape": ""
          }
         },
         "name": "Couldn't find a job",
         "offsetgroup": "Couldn't find a job",
         "orientation": "v",
         "showlegend": true,
         "textposition": "auto",
         "texttemplate": "%{y:.2s}",
         "type": "bar",
         "x": [
          "Mining, quarrying, and oil and gas extraction"
         ],
         "xaxis": "x",
         "y": [
          769
         ],
         "yaxis": "y"
        }
       ],
       "layout": {
        "barmode": "group",
        "legend": {
         "title": {
          "text": "Reason for owning business"
         },
         "tracegroupgap": 0
        },
        "template": {
         "data": {
          "bar": [
           {
            "error_x": {
             "color": "#2a3f5f"
            },
            "error_y": {
             "color": "#2a3f5f"
            },
            "marker": {
             "line": {
              "color": "#E5ECF6",
              "width": 0.5
             },
             "pattern": {
              "fillmode": "overlay",
              "size": 10,
              "solidity": 0.2
             }
            },
            "type": "bar"
           }
          ],
          "barpolar": [
           {
            "marker": {
             "line": {
              "color": "#E5ECF6",
              "width": 0.5
             },
             "pattern": {
              "fillmode": "overlay",
              "size": 10,
              "solidity": 0.2
             }
            },
            "type": "barpolar"
           }
          ],
          "carpet": [
           {
            "aaxis": {
             "endlinecolor": "#2a3f5f",
             "gridcolor": "white",
             "linecolor": "white",
             "minorgridcolor": "white",
             "startlinecolor": "#2a3f5f"
            },
            "baxis": {
             "endlinecolor": "#2a3f5f",
             "gridcolor": "white",
             "linecolor": "white",
             "minorgridcolor": "white",
             "startlinecolor": "#2a3f5f"
            },
            "type": "carpet"
           }
          ],
          "choropleth": [
           {
            "colorbar": {
             "outlinewidth": 0,
             "ticks": ""
            },
            "type": "choropleth"
           }
          ],
          "contour": [
           {
            "colorbar": {
             "outlinewidth": 0,
             "ticks": ""
            },
            "colorscale": [
             [
              0,
              "#0d0887"
             ],
             [
              0.1111111111111111,
              "#46039f"
             ],
             [
              0.2222222222222222,
              "#7201a8"
             ],
             [
              0.3333333333333333,
              "#9c179e"
             ],
             [
              0.4444444444444444,
              "#bd3786"
             ],
             [
              0.5555555555555556,
              "#d8576b"
             ],
             [
              0.6666666666666666,
              "#ed7953"
             ],
             [
              0.7777777777777778,
              "#fb9f3a"
             ],
             [
              0.8888888888888888,
              "#fdca26"
             ],
             [
              1,
              "#f0f921"
             ]
            ],
            "type": "contour"
           }
          ],
          "contourcarpet": [
           {
            "colorbar": {
             "outlinewidth": 0,
             "ticks": ""
            },
            "type": "contourcarpet"
           }
          ],
          "heatmap": [
           {
            "colorbar": {
             "outlinewidth": 0,
             "ticks": ""
            },
            "colorscale": [
             [
              0,
              "#0d0887"
             ],
             [
              0.1111111111111111,
              "#46039f"
             ],
             [
              0.2222222222222222,
              "#7201a8"
             ],
             [
              0.3333333333333333,
              "#9c179e"
             ],
             [
              0.4444444444444444,
              "#bd3786"
             ],
             [
              0.5555555555555556,
              "#d8576b"
             ],
             [
              0.6666666666666666,
              "#ed7953"
             ],
             [
              0.7777777777777778,
              "#fb9f3a"
             ],
             [
              0.8888888888888888,
              "#fdca26"
             ],
             [
              1,
              "#f0f921"
             ]
            ],
            "type": "heatmap"
           }
          ],
          "heatmapgl": [
           {
            "colorbar": {
             "outlinewidth": 0,
             "ticks": ""
            },
            "colorscale": [
             [
              0,
              "#0d0887"
             ],
             [
              0.1111111111111111,
              "#46039f"
             ],
             [
              0.2222222222222222,
              "#7201a8"
             ],
             [
              0.3333333333333333,
              "#9c179e"
             ],
             [
              0.4444444444444444,
              "#bd3786"
             ],
             [
              0.5555555555555556,
              "#d8576b"
             ],
             [
              0.6666666666666666,
              "#ed7953"
             ],
             [
              0.7777777777777778,
              "#fb9f3a"
             ],
             [
              0.8888888888888888,
              "#fdca26"
             ],
             [
              1,
              "#f0f921"
             ]
            ],
            "type": "heatmapgl"
           }
          ],
          "histogram": [
           {
            "marker": {
             "pattern": {
              "fillmode": "overlay",
              "size": 10,
              "solidity": 0.2
             }
            },
            "type": "histogram"
           }
          ],
          "histogram2d": [
           {
            "colorbar": {
             "outlinewidth": 0,
             "ticks": ""
            },
            "colorscale": [
             [
              0,
              "#0d0887"
             ],
             [
              0.1111111111111111,
              "#46039f"
             ],
             [
              0.2222222222222222,
              "#7201a8"
             ],
             [
              0.3333333333333333,
              "#9c179e"
             ],
             [
              0.4444444444444444,
              "#bd3786"
             ],
             [
              0.5555555555555556,
              "#d8576b"
             ],
             [
              0.6666666666666666,
              "#ed7953"
             ],
             [
              0.7777777777777778,
              "#fb9f3a"
             ],
             [
              0.8888888888888888,
              "#fdca26"
             ],
             [
              1,
              "#f0f921"
             ]
            ],
            "type": "histogram2d"
           }
          ],
          "histogram2dcontour": [
           {
            "colorbar": {
             "outlinewidth": 0,
             "ticks": ""
            },
            "colorscale": [
             [
              0,
              "#0d0887"
             ],
             [
              0.1111111111111111,
              "#46039f"
             ],
             [
              0.2222222222222222,
              "#7201a8"
             ],
             [
              0.3333333333333333,
              "#9c179e"
             ],
             [
              0.4444444444444444,
              "#bd3786"
             ],
             [
              0.5555555555555556,
              "#d8576b"
             ],
             [
              0.6666666666666666,
              "#ed7953"
             ],
             [
              0.7777777777777778,
              "#fb9f3a"
             ],
             [
              0.8888888888888888,
              "#fdca26"
             ],
             [
              1,
              "#f0f921"
             ]
            ],
            "type": "histogram2dcontour"
           }
          ],
          "mesh3d": [
           {
            "colorbar": {
             "outlinewidth": 0,
             "ticks": ""
            },
            "type": "mesh3d"
           }
          ],
          "parcoords": [
           {
            "line": {
             "colorbar": {
              "outlinewidth": 0,
              "ticks": ""
             }
            },
            "type": "parcoords"
           }
          ],
          "pie": [
           {
            "automargin": true,
            "type": "pie"
           }
          ],
          "scatter": [
           {
            "fillpattern": {
             "fillmode": "overlay",
             "size": 10,
             "solidity": 0.2
            },
            "type": "scatter"
           }
          ],
          "scatter3d": [
           {
            "line": {
             "colorbar": {
              "outlinewidth": 0,
              "ticks": ""
             }
            },
            "marker": {
             "colorbar": {
              "outlinewidth": 0,
              "ticks": ""
             }
            },
            "type": "scatter3d"
           }
          ],
          "scattercarpet": [
           {
            "marker": {
             "colorbar": {
              "outlinewidth": 0,
              "ticks": ""
             }
            },
            "type": "scattercarpet"
           }
          ],
          "scattergeo": [
           {
            "marker": {
             "colorbar": {
              "outlinewidth": 0,
              "ticks": ""
             }
            },
            "type": "scattergeo"
           }
          ],
          "scattergl": [
           {
            "marker": {
             "colorbar": {
              "outlinewidth": 0,
              "ticks": ""
             }
            },
            "type": "scattergl"
           }
          ],
          "scattermapbox": [
           {
            "marker": {
             "colorbar": {
              "outlinewidth": 0,
              "ticks": ""
             }
            },
            "type": "scattermapbox"
           }
          ],
          "scatterpolar": [
           {
            "marker": {
             "colorbar": {
              "outlinewidth": 0,
              "ticks": ""
             }
            },
            "type": "scatterpolar"
           }
          ],
          "scatterpolargl": [
           {
            "marker": {
             "colorbar": {
              "outlinewidth": 0,
              "ticks": ""
             }
            },
            "type": "scatterpolargl"
           }
          ],
          "scatterternary": [
           {
            "marker": {
             "colorbar": {
              "outlinewidth": 0,
              "ticks": ""
             }
            },
            "type": "scatterternary"
           }
          ],
          "surface": [
           {
            "colorbar": {
             "outlinewidth": 0,
             "ticks": ""
            },
            "colorscale": [
             [
              0,
              "#0d0887"
             ],
             [
              0.1111111111111111,
              "#46039f"
             ],
             [
              0.2222222222222222,
              "#7201a8"
             ],
             [
              0.3333333333333333,
              "#9c179e"
             ],
             [
              0.4444444444444444,
              "#bd3786"
             ],
             [
              0.5555555555555556,
              "#d8576b"
             ],
             [
              0.6666666666666666,
              "#ed7953"
             ],
             [
              0.7777777777777778,
              "#fb9f3a"
             ],
             [
              0.8888888888888888,
              "#fdca26"
             ],
             [
              1,
              "#f0f921"
             ]
            ],
            "type": "surface"
           }
          ],
          "table": [
           {
            "cells": {
             "fill": {
              "color": "#EBF0F8"
             },
             "line": {
              "color": "white"
             }
            },
            "header": {
             "fill": {
              "color": "#C8D4E3"
             },
             "line": {
              "color": "white"
             }
            },
            "type": "table"
           }
          ]
         },
         "layout": {
          "annotationdefaults": {
           "arrowcolor": "#2a3f5f",
           "arrowhead": 0,
           "arrowwidth": 1
          },
          "autotypenumbers": "strict",
          "coloraxis": {
           "colorbar": {
            "outlinewidth": 0,
            "ticks": ""
           }
          },
          "colorscale": {
           "diverging": [
            [
             0,
             "#8e0152"
            ],
            [
             0.1,
             "#c51b7d"
            ],
            [
             0.2,
             "#de77ae"
            ],
            [
             0.3,
             "#f1b6da"
            ],
            [
             0.4,
             "#fde0ef"
            ],
            [
             0.5,
             "#f7f7f7"
            ],
            [
             0.6,
             "#e6f5d0"
            ],
            [
             0.7,
             "#b8e186"
            ],
            [
             0.8,
             "#7fbc41"
            ],
            [
             0.9,
             "#4d9221"
            ],
            [
             1,
             "#276419"
            ]
           ],
           "sequential": [
            [
             0,
             "#0d0887"
            ],
            [
             0.1111111111111111,
             "#46039f"
            ],
            [
             0.2222222222222222,
             "#7201a8"
            ],
            [
             0.3333333333333333,
             "#9c179e"
            ],
            [
             0.4444444444444444,
             "#bd3786"
            ],
            [
             0.5555555555555556,
             "#d8576b"
            ],
            [
             0.6666666666666666,
             "#ed7953"
            ],
            [
             0.7777777777777778,
             "#fb9f3a"
            ],
            [
             0.8888888888888888,
             "#fdca26"
            ],
            [
             1,
             "#f0f921"
            ]
           ],
           "sequentialminus": [
            [
             0,
             "#0d0887"
            ],
            [
             0.1111111111111111,
             "#46039f"
            ],
            [
             0.2222222222222222,
             "#7201a8"
            ],
            [
             0.3333333333333333,
             "#9c179e"
            ],
            [
             0.4444444444444444,
             "#bd3786"
            ],
            [
             0.5555555555555556,
             "#d8576b"
            ],
            [
             0.6666666666666666,
             "#ed7953"
            ],
            [
             0.7777777777777778,
             "#fb9f3a"
            ],
            [
             0.8888888888888888,
             "#fdca26"
            ],
            [
             1,
             "#f0f921"
            ]
           ]
          },
          "colorway": [
           "#636efa",
           "#EF553B",
           "#00cc96",
           "#ab63fa",
           "#FFA15A",
           "#19d3f3",
           "#FF6692",
           "#B6E880",
           "#FF97FF",
           "#FECB52"
          ],
          "font": {
           "color": "#2a3f5f"
          },
          "geo": {
           "bgcolor": "white",
           "lakecolor": "white",
           "landcolor": "#E5ECF6",
           "showlakes": true,
           "showland": true,
           "subunitcolor": "white"
          },
          "hoverlabel": {
           "align": "left"
          },
          "hovermode": "closest",
          "mapbox": {
           "style": "light"
          },
          "paper_bgcolor": "white",
          "plot_bgcolor": "#E5ECF6",
          "polar": {
           "angularaxis": {
            "gridcolor": "white",
            "linecolor": "white",
            "ticks": ""
           },
           "bgcolor": "#E5ECF6",
           "radialaxis": {
            "gridcolor": "white",
            "linecolor": "white",
            "ticks": ""
           }
          },
          "scene": {
           "xaxis": {
            "backgroundcolor": "#E5ECF6",
            "gridcolor": "white",
            "gridwidth": 2,
            "linecolor": "white",
            "showbackground": true,
            "ticks": "",
            "zerolinecolor": "white"
           },
           "yaxis": {
            "backgroundcolor": "#E5ECF6",
            "gridcolor": "white",
            "gridwidth": 2,
            "linecolor": "white",
            "showbackground": true,
            "ticks": "",
            "zerolinecolor": "white"
           },
           "zaxis": {
            "backgroundcolor": "#E5ECF6",
            "gridcolor": "white",
            "gridwidth": 2,
            "linecolor": "white",
            "showbackground": true,
            "ticks": "",
            "zerolinecolor": "white"
           }
          },
          "shapedefaults": {
           "line": {
            "color": "#2a3f5f"
           }
          },
          "ternary": {
           "aaxis": {
            "gridcolor": "white",
            "linecolor": "white",
            "ticks": ""
           },
           "baxis": {
            "gridcolor": "white",
            "linecolor": "white",
            "ticks": ""
           },
           "bgcolor": "#E5ECF6",
           "caxis": {
            "gridcolor": "white",
            "linecolor": "white",
            "ticks": ""
           }
          },
          "title": {
           "x": 0.05
          },
          "xaxis": {
           "automargin": true,
           "gridcolor": "white",
           "linecolor": "white",
           "ticks": "",
           "title": {
            "standoff": 15
           },
           "zerolinecolor": "white",
           "zerolinewidth": 2
          },
          "yaxis": {
           "automargin": true,
           "gridcolor": "white",
           "linecolor": "white",
           "ticks": "",
           "title": {
            "standoff": 15
           },
           "zerolinecolor": "white",
           "zerolinewidth": 2
          }
         }
        },
        "title": {
         "text": "Reasons to own business for industry: Mining, quarrying, and oil and gas extraction"
        },
        "xaxis": {
         "anchor": "y",
         "domain": [
          0,
          1
         ],
         "title": {
          "text": "Industry Name"
         }
        },
        "yaxis": {
         "anchor": "x",
         "domain": [
          0,
          1
         ],
         "title": {
          "text": "Number of Business Owners"
         }
        }
       }
      }
     },
     "metadata": {},
     "output_type": "display_data"
    },
    {
     "data": {
      "application/vnd.plotly.v1+json": {
       "config": {
        "plotlyServerURL": "https://plot.ly"
       },
       "data": [
        {
         "alignmentgroup": "True",
         "hovertemplate": "Reason for owning business=Wanted to be my own boss<br>Industry Name=%{x}<br>Number of Business Owners=%{y}<extra></extra>",
         "legendgroup": "Wanted to be my own boss",
         "marker": {
          "color": "#636efa",
          "pattern": {
           "shape": ""
          }
         },
         "name": "Wanted to be my own boss",
         "offsetgroup": "Wanted to be my own boss",
         "orientation": "v",
         "showlegend": true,
         "textposition": "auto",
         "texttemplate": "%{y:.2s}",
         "type": "bar",
         "x": [
          "Other services (except public administration)"
         ],
         "xaxis": "x",
         "y": [
          164771
         ],
         "yaxis": "y"
        },
        {
         "alignmentgroup": "True",
         "hovertemplate": "Reason for owning business=Greater income<br>Industry Name=%{x}<br>Number of Business Owners=%{y}<extra></extra>",
         "legendgroup": "Greater income",
         "marker": {
          "color": "#EF553B",
          "pattern": {
           "shape": ""
          }
         },
         "name": "Greater income",
         "offsetgroup": "Greater income",
         "orientation": "v",
         "showlegend": true,
         "textposition": "auto",
         "texttemplate": "%{y:.2s}",
         "type": "bar",
         "x": [
          "Other services (except public administration)"
         ],
         "xaxis": "x",
         "y": [
          159967
         ],
         "yaxis": "y"
        },
        {
         "alignmentgroup": "True",
         "hovertemplate": "Reason for owning business=Balance work and family<br>Industry Name=%{x}<br>Number of Business Owners=%{y}<extra></extra>",
         "legendgroup": "Balance work and family",
         "marker": {
          "color": "#00cc96",
          "pattern": {
           "shape": ""
          }
         },
         "name": "Balance work and family",
         "offsetgroup": "Balance work and family",
         "orientation": "v",
         "showlegend": true,
         "textposition": "auto",
         "texttemplate": "%{y:.2s}",
         "type": "bar",
         "x": [
          "Other services (except public administration)"
         ],
         "xaxis": "x",
         "y": [
          147890
         ],
         "yaxis": "y"
        },
        {
         "alignmentgroup": "True",
         "hovertemplate": "Reason for owning business=Best avenue for ideas<br>Industry Name=%{x}<br>Number of Business Owners=%{y}<extra></extra>",
         "legendgroup": "Best avenue for ideas",
         "marker": {
          "color": "#ab63fa",
          "pattern": {
           "shape": ""
          }
         },
         "name": "Best avenue for ideas",
         "offsetgroup": "Best avenue for ideas",
         "orientation": "v",
         "showlegend": true,
         "textposition": "auto",
         "texttemplate": "%{y:.2s}",
         "type": "bar",
         "x": [
          "Other services (except public administration)"
         ],
         "xaxis": "x",
         "y": [
          139918
         ],
         "yaxis": "y"
        },
        {
         "alignmentgroup": "True",
         "hovertemplate": "Reason for owning business=Flexible hours<br>Industry Name=%{x}<br>Number of Business Owners=%{y}<extra></extra>",
         "legendgroup": "Flexible hours",
         "marker": {
          "color": "#FFA15A",
          "pattern": {
           "shape": ""
          }
         },
         "name": "Flexible hours",
         "offsetgroup": "Flexible hours",
         "orientation": "v",
         "showlegend": true,
         "textposition": "auto",
         "texttemplate": "%{y:.2s}",
         "type": "bar",
         "x": [
          "Other services (except public administration)"
         ],
         "xaxis": "x",
         "y": [
          135703
         ],
         "yaxis": "y"
        },
        {
         "alignmentgroup": "True",
         "hovertemplate": "Reason for owning business=Start my own business<br>Industry Name=%{x}<br>Number of Business Owners=%{y}<extra></extra>",
         "legendgroup": "Start my own business",
         "marker": {
          "color": "#19d3f3",
          "pattern": {
           "shape": ""
          }
         },
         "name": "Start my own business",
         "offsetgroup": "Start my own business",
         "orientation": "v",
         "showlegend": true,
         "textposition": "auto",
         "texttemplate": "%{y:.2s}",
         "type": "bar",
         "x": [
          "Other services (except public administration)"
         ],
         "xaxis": "x",
         "y": [
          130108
         ],
         "yaxis": "y"
        },
        {
         "alignmentgroup": "True",
         "hovertemplate": "Reason for owning business=Work for self<br>Industry Name=%{x}<br>Number of Business Owners=%{y}<extra></extra>",
         "legendgroup": "Work for self",
         "marker": {
          "color": "#FF6692",
          "pattern": {
           "shape": ""
          }
         },
         "name": "Work for self",
         "offsetgroup": "Work for self",
         "orientation": "v",
         "showlegend": true,
         "textposition": "auto",
         "texttemplate": "%{y:.2s}",
         "type": "bar",
         "x": [
          "Other services (except public administration)"
         ],
         "xaxis": "x",
         "y": [
          85918
         ],
         "yaxis": "y"
        },
        {
         "alignmentgroup": "True",
         "hovertemplate": "Reason for owning business=Friend or family role model<br>Industry Name=%{x}<br>Number of Business Owners=%{y}<extra></extra>",
         "legendgroup": "Friend or family role model",
         "marker": {
          "color": "#B6E880",
          "pattern": {
           "shape": ""
          }
         },
         "name": "Friend or family role model",
         "offsetgroup": "Friend or family role model",
         "orientation": "v",
         "showlegend": true,
         "textposition": "auto",
         "texttemplate": "%{y:.2s}",
         "type": "bar",
         "x": [
          "Other services (except public administration)"
         ],
         "xaxis": "x",
         "y": [
          72349
         ],
         "yaxis": "y"
        },
        {
         "alignmentgroup": "True",
         "hovertemplate": "Reason for owning business=Help my community<br>Industry Name=%{x}<br>Number of Business Owners=%{y}<extra></extra>",
         "legendgroup": "Help my community",
         "marker": {
          "color": "#FF97FF",
          "pattern": {
           "shape": ""
          }
         },
         "name": "Help my community",
         "offsetgroup": "Help my community",
         "orientation": "v",
         "showlegend": true,
         "textposition": "auto",
         "texttemplate": "%{y:.2s}",
         "type": "bar",
         "x": [
          "Other services (except public administration)"
         ],
         "xaxis": "x",
         "y": [
          63955
         ],
         "yaxis": "y"
        },
        {
         "alignmentgroup": "True",
         "hovertemplate": "Reason for owning business=Carry on family business<br>Industry Name=%{x}<br>Number of Business Owners=%{y}<extra></extra>",
         "legendgroup": "Carry on family business",
         "marker": {
          "color": "#FECB52",
          "pattern": {
           "shape": ""
          }
         },
         "name": "Carry on family business",
         "offsetgroup": "Carry on family business",
         "orientation": "v",
         "showlegend": true,
         "textposition": "auto",
         "texttemplate": "%{y:.2s}",
         "type": "bar",
         "x": [
          "Other services (except public administration)"
         ],
         "xaxis": "x",
         "y": [
          48430
         ],
         "yaxis": "y"
        },
        {
         "alignmentgroup": "True",
         "hovertemplate": "Reason for owning business=Other<br>Industry Name=%{x}<br>Number of Business Owners=%{y}<extra></extra>",
         "legendgroup": "Other",
         "marker": {
          "color": "#636efa",
          "pattern": {
           "shape": ""
          }
         },
         "name": "Other",
         "offsetgroup": "Other",
         "orientation": "v",
         "showlegend": true,
         "textposition": "auto",
         "texttemplate": "%{y:.2s}",
         "type": "bar",
         "x": [
          "Other services (except public administration)"
         ],
         "xaxis": "x",
         "y": [
          26558
         ],
         "yaxis": "y"
        },
        {
         "alignmentgroup": "True",
         "hovertemplate": "Reason for owning business=Couldn't find a job<br>Industry Name=%{x}<br>Number of Business Owners=%{y}<extra></extra>",
         "legendgroup": "Couldn't find a job",
         "marker": {
          "color": "#EF553B",
          "pattern": {
           "shape": ""
          }
         },
         "name": "Couldn't find a job",
         "offsetgroup": "Couldn't find a job",
         "orientation": "v",
         "showlegend": true,
         "textposition": "auto",
         "texttemplate": "%{y:.2s}",
         "type": "bar",
         "x": [
          "Other services (except public administration)"
         ],
         "xaxis": "x",
         "y": [
          21313
         ],
         "yaxis": "y"
        }
       ],
       "layout": {
        "barmode": "group",
        "legend": {
         "title": {
          "text": "Reason for owning business"
         },
         "tracegroupgap": 0
        },
        "template": {
         "data": {
          "bar": [
           {
            "error_x": {
             "color": "#2a3f5f"
            },
            "error_y": {
             "color": "#2a3f5f"
            },
            "marker": {
             "line": {
              "color": "#E5ECF6",
              "width": 0.5
             },
             "pattern": {
              "fillmode": "overlay",
              "size": 10,
              "solidity": 0.2
             }
            },
            "type": "bar"
           }
          ],
          "barpolar": [
           {
            "marker": {
             "line": {
              "color": "#E5ECF6",
              "width": 0.5
             },
             "pattern": {
              "fillmode": "overlay",
              "size": 10,
              "solidity": 0.2
             }
            },
            "type": "barpolar"
           }
          ],
          "carpet": [
           {
            "aaxis": {
             "endlinecolor": "#2a3f5f",
             "gridcolor": "white",
             "linecolor": "white",
             "minorgridcolor": "white",
             "startlinecolor": "#2a3f5f"
            },
            "baxis": {
             "endlinecolor": "#2a3f5f",
             "gridcolor": "white",
             "linecolor": "white",
             "minorgridcolor": "white",
             "startlinecolor": "#2a3f5f"
            },
            "type": "carpet"
           }
          ],
          "choropleth": [
           {
            "colorbar": {
             "outlinewidth": 0,
             "ticks": ""
            },
            "type": "choropleth"
           }
          ],
          "contour": [
           {
            "colorbar": {
             "outlinewidth": 0,
             "ticks": ""
            },
            "colorscale": [
             [
              0,
              "#0d0887"
             ],
             [
              0.1111111111111111,
              "#46039f"
             ],
             [
              0.2222222222222222,
              "#7201a8"
             ],
             [
              0.3333333333333333,
              "#9c179e"
             ],
             [
              0.4444444444444444,
              "#bd3786"
             ],
             [
              0.5555555555555556,
              "#d8576b"
             ],
             [
              0.6666666666666666,
              "#ed7953"
             ],
             [
              0.7777777777777778,
              "#fb9f3a"
             ],
             [
              0.8888888888888888,
              "#fdca26"
             ],
             [
              1,
              "#f0f921"
             ]
            ],
            "type": "contour"
           }
          ],
          "contourcarpet": [
           {
            "colorbar": {
             "outlinewidth": 0,
             "ticks": ""
            },
            "type": "contourcarpet"
           }
          ],
          "heatmap": [
           {
            "colorbar": {
             "outlinewidth": 0,
             "ticks": ""
            },
            "colorscale": [
             [
              0,
              "#0d0887"
             ],
             [
              0.1111111111111111,
              "#46039f"
             ],
             [
              0.2222222222222222,
              "#7201a8"
             ],
             [
              0.3333333333333333,
              "#9c179e"
             ],
             [
              0.4444444444444444,
              "#bd3786"
             ],
             [
              0.5555555555555556,
              "#d8576b"
             ],
             [
              0.6666666666666666,
              "#ed7953"
             ],
             [
              0.7777777777777778,
              "#fb9f3a"
             ],
             [
              0.8888888888888888,
              "#fdca26"
             ],
             [
              1,
              "#f0f921"
             ]
            ],
            "type": "heatmap"
           }
          ],
          "heatmapgl": [
           {
            "colorbar": {
             "outlinewidth": 0,
             "ticks": ""
            },
            "colorscale": [
             [
              0,
              "#0d0887"
             ],
             [
              0.1111111111111111,
              "#46039f"
             ],
             [
              0.2222222222222222,
              "#7201a8"
             ],
             [
              0.3333333333333333,
              "#9c179e"
             ],
             [
              0.4444444444444444,
              "#bd3786"
             ],
             [
              0.5555555555555556,
              "#d8576b"
             ],
             [
              0.6666666666666666,
              "#ed7953"
             ],
             [
              0.7777777777777778,
              "#fb9f3a"
             ],
             [
              0.8888888888888888,
              "#fdca26"
             ],
             [
              1,
              "#f0f921"
             ]
            ],
            "type": "heatmapgl"
           }
          ],
          "histogram": [
           {
            "marker": {
             "pattern": {
              "fillmode": "overlay",
              "size": 10,
              "solidity": 0.2
             }
            },
            "type": "histogram"
           }
          ],
          "histogram2d": [
           {
            "colorbar": {
             "outlinewidth": 0,
             "ticks": ""
            },
            "colorscale": [
             [
              0,
              "#0d0887"
             ],
             [
              0.1111111111111111,
              "#46039f"
             ],
             [
              0.2222222222222222,
              "#7201a8"
             ],
             [
              0.3333333333333333,
              "#9c179e"
             ],
             [
              0.4444444444444444,
              "#bd3786"
             ],
             [
              0.5555555555555556,
              "#d8576b"
             ],
             [
              0.6666666666666666,
              "#ed7953"
             ],
             [
              0.7777777777777778,
              "#fb9f3a"
             ],
             [
              0.8888888888888888,
              "#fdca26"
             ],
             [
              1,
              "#f0f921"
             ]
            ],
            "type": "histogram2d"
           }
          ],
          "histogram2dcontour": [
           {
            "colorbar": {
             "outlinewidth": 0,
             "ticks": ""
            },
            "colorscale": [
             [
              0,
              "#0d0887"
             ],
             [
              0.1111111111111111,
              "#46039f"
             ],
             [
              0.2222222222222222,
              "#7201a8"
             ],
             [
              0.3333333333333333,
              "#9c179e"
             ],
             [
              0.4444444444444444,
              "#bd3786"
             ],
             [
              0.5555555555555556,
              "#d8576b"
             ],
             [
              0.6666666666666666,
              "#ed7953"
             ],
             [
              0.7777777777777778,
              "#fb9f3a"
             ],
             [
              0.8888888888888888,
              "#fdca26"
             ],
             [
              1,
              "#f0f921"
             ]
            ],
            "type": "histogram2dcontour"
           }
          ],
          "mesh3d": [
           {
            "colorbar": {
             "outlinewidth": 0,
             "ticks": ""
            },
            "type": "mesh3d"
           }
          ],
          "parcoords": [
           {
            "line": {
             "colorbar": {
              "outlinewidth": 0,
              "ticks": ""
             }
            },
            "type": "parcoords"
           }
          ],
          "pie": [
           {
            "automargin": true,
            "type": "pie"
           }
          ],
          "scatter": [
           {
            "fillpattern": {
             "fillmode": "overlay",
             "size": 10,
             "solidity": 0.2
            },
            "type": "scatter"
           }
          ],
          "scatter3d": [
           {
            "line": {
             "colorbar": {
              "outlinewidth": 0,
              "ticks": ""
             }
            },
            "marker": {
             "colorbar": {
              "outlinewidth": 0,
              "ticks": ""
             }
            },
            "type": "scatter3d"
           }
          ],
          "scattercarpet": [
           {
            "marker": {
             "colorbar": {
              "outlinewidth": 0,
              "ticks": ""
             }
            },
            "type": "scattercarpet"
           }
          ],
          "scattergeo": [
           {
            "marker": {
             "colorbar": {
              "outlinewidth": 0,
              "ticks": ""
             }
            },
            "type": "scattergeo"
           }
          ],
          "scattergl": [
           {
            "marker": {
             "colorbar": {
              "outlinewidth": 0,
              "ticks": ""
             }
            },
            "type": "scattergl"
           }
          ],
          "scattermapbox": [
           {
            "marker": {
             "colorbar": {
              "outlinewidth": 0,
              "ticks": ""
             }
            },
            "type": "scattermapbox"
           }
          ],
          "scatterpolar": [
           {
            "marker": {
             "colorbar": {
              "outlinewidth": 0,
              "ticks": ""
             }
            },
            "type": "scatterpolar"
           }
          ],
          "scatterpolargl": [
           {
            "marker": {
             "colorbar": {
              "outlinewidth": 0,
              "ticks": ""
             }
            },
            "type": "scatterpolargl"
           }
          ],
          "scatterternary": [
           {
            "marker": {
             "colorbar": {
              "outlinewidth": 0,
              "ticks": ""
             }
            },
            "type": "scatterternary"
           }
          ],
          "surface": [
           {
            "colorbar": {
             "outlinewidth": 0,
             "ticks": ""
            },
            "colorscale": [
             [
              0,
              "#0d0887"
             ],
             [
              0.1111111111111111,
              "#46039f"
             ],
             [
              0.2222222222222222,
              "#7201a8"
             ],
             [
              0.3333333333333333,
              "#9c179e"
             ],
             [
              0.4444444444444444,
              "#bd3786"
             ],
             [
              0.5555555555555556,
              "#d8576b"
             ],
             [
              0.6666666666666666,
              "#ed7953"
             ],
             [
              0.7777777777777778,
              "#fb9f3a"
             ],
             [
              0.8888888888888888,
              "#fdca26"
             ],
             [
              1,
              "#f0f921"
             ]
            ],
            "type": "surface"
           }
          ],
          "table": [
           {
            "cells": {
             "fill": {
              "color": "#EBF0F8"
             },
             "line": {
              "color": "white"
             }
            },
            "header": {
             "fill": {
              "color": "#C8D4E3"
             },
             "line": {
              "color": "white"
             }
            },
            "type": "table"
           }
          ]
         },
         "layout": {
          "annotationdefaults": {
           "arrowcolor": "#2a3f5f",
           "arrowhead": 0,
           "arrowwidth": 1
          },
          "autotypenumbers": "strict",
          "coloraxis": {
           "colorbar": {
            "outlinewidth": 0,
            "ticks": ""
           }
          },
          "colorscale": {
           "diverging": [
            [
             0,
             "#8e0152"
            ],
            [
             0.1,
             "#c51b7d"
            ],
            [
             0.2,
             "#de77ae"
            ],
            [
             0.3,
             "#f1b6da"
            ],
            [
             0.4,
             "#fde0ef"
            ],
            [
             0.5,
             "#f7f7f7"
            ],
            [
             0.6,
             "#e6f5d0"
            ],
            [
             0.7,
             "#b8e186"
            ],
            [
             0.8,
             "#7fbc41"
            ],
            [
             0.9,
             "#4d9221"
            ],
            [
             1,
             "#276419"
            ]
           ],
           "sequential": [
            [
             0,
             "#0d0887"
            ],
            [
             0.1111111111111111,
             "#46039f"
            ],
            [
             0.2222222222222222,
             "#7201a8"
            ],
            [
             0.3333333333333333,
             "#9c179e"
            ],
            [
             0.4444444444444444,
             "#bd3786"
            ],
            [
             0.5555555555555556,
             "#d8576b"
            ],
            [
             0.6666666666666666,
             "#ed7953"
            ],
            [
             0.7777777777777778,
             "#fb9f3a"
            ],
            [
             0.8888888888888888,
             "#fdca26"
            ],
            [
             1,
             "#f0f921"
            ]
           ],
           "sequentialminus": [
            [
             0,
             "#0d0887"
            ],
            [
             0.1111111111111111,
             "#46039f"
            ],
            [
             0.2222222222222222,
             "#7201a8"
            ],
            [
             0.3333333333333333,
             "#9c179e"
            ],
            [
             0.4444444444444444,
             "#bd3786"
            ],
            [
             0.5555555555555556,
             "#d8576b"
            ],
            [
             0.6666666666666666,
             "#ed7953"
            ],
            [
             0.7777777777777778,
             "#fb9f3a"
            ],
            [
             0.8888888888888888,
             "#fdca26"
            ],
            [
             1,
             "#f0f921"
            ]
           ]
          },
          "colorway": [
           "#636efa",
           "#EF553B",
           "#00cc96",
           "#ab63fa",
           "#FFA15A",
           "#19d3f3",
           "#FF6692",
           "#B6E880",
           "#FF97FF",
           "#FECB52"
          ],
          "font": {
           "color": "#2a3f5f"
          },
          "geo": {
           "bgcolor": "white",
           "lakecolor": "white",
           "landcolor": "#E5ECF6",
           "showlakes": true,
           "showland": true,
           "subunitcolor": "white"
          },
          "hoverlabel": {
           "align": "left"
          },
          "hovermode": "closest",
          "mapbox": {
           "style": "light"
          },
          "paper_bgcolor": "white",
          "plot_bgcolor": "#E5ECF6",
          "polar": {
           "angularaxis": {
            "gridcolor": "white",
            "linecolor": "white",
            "ticks": ""
           },
           "bgcolor": "#E5ECF6",
           "radialaxis": {
            "gridcolor": "white",
            "linecolor": "white",
            "ticks": ""
           }
          },
          "scene": {
           "xaxis": {
            "backgroundcolor": "#E5ECF6",
            "gridcolor": "white",
            "gridwidth": 2,
            "linecolor": "white",
            "showbackground": true,
            "ticks": "",
            "zerolinecolor": "white"
           },
           "yaxis": {
            "backgroundcolor": "#E5ECF6",
            "gridcolor": "white",
            "gridwidth": 2,
            "linecolor": "white",
            "showbackground": true,
            "ticks": "",
            "zerolinecolor": "white"
           },
           "zaxis": {
            "backgroundcolor": "#E5ECF6",
            "gridcolor": "white",
            "gridwidth": 2,
            "linecolor": "white",
            "showbackground": true,
            "ticks": "",
            "zerolinecolor": "white"
           }
          },
          "shapedefaults": {
           "line": {
            "color": "#2a3f5f"
           }
          },
          "ternary": {
           "aaxis": {
            "gridcolor": "white",
            "linecolor": "white",
            "ticks": ""
           },
           "baxis": {
            "gridcolor": "white",
            "linecolor": "white",
            "ticks": ""
           },
           "bgcolor": "#E5ECF6",
           "caxis": {
            "gridcolor": "white",
            "linecolor": "white",
            "ticks": ""
           }
          },
          "title": {
           "x": 0.05
          },
          "xaxis": {
           "automargin": true,
           "gridcolor": "white",
           "linecolor": "white",
           "ticks": "",
           "title": {
            "standoff": 15
           },
           "zerolinecolor": "white",
           "zerolinewidth": 2
          },
          "yaxis": {
           "automargin": true,
           "gridcolor": "white",
           "linecolor": "white",
           "ticks": "",
           "title": {
            "standoff": 15
           },
           "zerolinecolor": "white",
           "zerolinewidth": 2
          }
         }
        },
        "title": {
         "text": "Reasons to own business for industry: Other services (except public administration)"
        },
        "xaxis": {
         "anchor": "y",
         "domain": [
          0,
          1
         ],
         "title": {
          "text": "Industry Name"
         }
        },
        "yaxis": {
         "anchor": "x",
         "domain": [
          0,
          1
         ],
         "title": {
          "text": "Number of Business Owners"
         }
        }
       }
      }
     },
     "metadata": {},
     "output_type": "display_data"
    },
    {
     "data": {
      "application/vnd.plotly.v1+json": {
       "config": {
        "plotlyServerURL": "https://plot.ly"
       },
       "data": [
        {
         "alignmentgroup": "True",
         "hovertemplate": "Reason for owning business=Wanted to be my own boss<br>Industry Name=%{x}<br>Number of Business Owners=%{y}<extra></extra>",
         "legendgroup": "Wanted to be my own boss",
         "marker": {
          "color": "#636efa",
          "pattern": {
           "shape": ""
          }
         },
         "name": "Wanted to be my own boss",
         "offsetgroup": "Wanted to be my own boss",
         "orientation": "v",
         "showlegend": true,
         "textposition": "auto",
         "texttemplate": "%{y:.2s}",
         "type": "bar",
         "x": [
          "Professional, scientific, and technical services"
         ],
         "xaxis": "x",
         "y": [
          424047
         ],
         "yaxis": "y"
        },
        {
         "alignmentgroup": "True",
         "hovertemplate": "Reason for owning business=Greater income<br>Industry Name=%{x}<br>Number of Business Owners=%{y}<extra></extra>",
         "legendgroup": "Greater income",
         "marker": {
          "color": "#EF553B",
          "pattern": {
           "shape": ""
          }
         },
         "name": "Greater income",
         "offsetgroup": "Greater income",
         "orientation": "v",
         "showlegend": true,
         "textposition": "auto",
         "texttemplate": "%{y:.2s}",
         "type": "bar",
         "x": [
          "Professional, scientific, and technical services"
         ],
         "xaxis": "x",
         "y": [
          405068
         ],
         "yaxis": "y"
        },
        {
         "alignmentgroup": "True",
         "hovertemplate": "Reason for owning business=Flexible hours<br>Industry Name=%{x}<br>Number of Business Owners=%{y}<extra></extra>",
         "legendgroup": "Flexible hours",
         "marker": {
          "color": "#00cc96",
          "pattern": {
           "shape": ""
          }
         },
         "name": "Flexible hours",
         "offsetgroup": "Flexible hours",
         "orientation": "v",
         "showlegend": true,
         "textposition": "auto",
         "texttemplate": "%{y:.2s}",
         "type": "bar",
         "x": [
          "Professional, scientific, and technical services"
         ],
         "xaxis": "x",
         "y": [
          379718
         ],
         "yaxis": "y"
        },
        {
         "alignmentgroup": "True",
         "hovertemplate": "Reason for owning business=Balance work and family<br>Industry Name=%{x}<br>Number of Business Owners=%{y}<extra></extra>",
         "legendgroup": "Balance work and family",
         "marker": {
          "color": "#ab63fa",
          "pattern": {
           "shape": ""
          }
         },
         "name": "Balance work and family",
         "offsetgroup": "Balance work and family",
         "orientation": "v",
         "showlegend": true,
         "textposition": "auto",
         "texttemplate": "%{y:.2s}",
         "type": "bar",
         "x": [
          "Professional, scientific, and technical services"
         ],
         "xaxis": "x",
         "y": [
          379325
         ],
         "yaxis": "y"
        },
        {
         "alignmentgroup": "True",
         "hovertemplate": "Reason for owning business=Best avenue for ideas<br>Industry Name=%{x}<br>Number of Business Owners=%{y}<extra></extra>",
         "legendgroup": "Best avenue for ideas",
         "marker": {
          "color": "#FFA15A",
          "pattern": {
           "shape": ""
          }
         },
         "name": "Best avenue for ideas",
         "offsetgroup": "Best avenue for ideas",
         "orientation": "v",
         "showlegend": true,
         "textposition": "auto",
         "texttemplate": "%{y:.2s}",
         "type": "bar",
         "x": [
          "Professional, scientific, and technical services"
         ],
         "xaxis": "x",
         "y": [
          378993
         ],
         "yaxis": "y"
        },
        {
         "alignmentgroup": "True",
         "hovertemplate": "Reason for owning business=Start my own business<br>Industry Name=%{x}<br>Number of Business Owners=%{y}<extra></extra>",
         "legendgroup": "Start my own business",
         "marker": {
          "color": "#19d3f3",
          "pattern": {
           "shape": ""
          }
         },
         "name": "Start my own business",
         "offsetgroup": "Start my own business",
         "orientation": "v",
         "showlegend": true,
         "textposition": "auto",
         "texttemplate": "%{y:.2s}",
         "type": "bar",
         "x": [
          "Professional, scientific, and technical services"
         ],
         "xaxis": "x",
         "y": [
          266159
         ],
         "yaxis": "y"
        },
        {
         "alignmentgroup": "True",
         "hovertemplate": "Reason for owning business=Work for self<br>Industry Name=%{x}<br>Number of Business Owners=%{y}<extra></extra>",
         "legendgroup": "Work for self",
         "marker": {
          "color": "#FF6692",
          "pattern": {
           "shape": ""
          }
         },
         "name": "Work for self",
         "offsetgroup": "Work for self",
         "orientation": "v",
         "showlegend": true,
         "textposition": "auto",
         "texttemplate": "%{y:.2s}",
         "type": "bar",
         "x": [
          "Professional, scientific, and technical services"
         ],
         "xaxis": "x",
         "y": [
          200139
         ],
         "yaxis": "y"
        },
        {
         "alignmentgroup": "True",
         "hovertemplate": "Reason for owning business=Friend or family role model<br>Industry Name=%{x}<br>Number of Business Owners=%{y}<extra></extra>",
         "legendgroup": "Friend or family role model",
         "marker": {
          "color": "#B6E880",
          "pattern": {
           "shape": ""
          }
         },
         "name": "Friend or family role model",
         "offsetgroup": "Friend or family role model",
         "orientation": "v",
         "showlegend": true,
         "textposition": "auto",
         "texttemplate": "%{y:.2s}",
         "type": "bar",
         "x": [
          "Professional, scientific, and technical services"
         ],
         "xaxis": "x",
         "y": [
          140239
         ],
         "yaxis": "y"
        },
        {
         "alignmentgroup": "True",
         "hovertemplate": "Reason for owning business=Help my community<br>Industry Name=%{x}<br>Number of Business Owners=%{y}<extra></extra>",
         "legendgroup": "Help my community",
         "marker": {
          "color": "#FF97FF",
          "pattern": {
           "shape": ""
          }
         },
         "name": "Help my community",
         "offsetgroup": "Help my community",
         "orientation": "v",
         "showlegend": true,
         "textposition": "auto",
         "texttemplate": "%{y:.2s}",
         "type": "bar",
         "x": [
          "Professional, scientific, and technical services"
         ],
         "xaxis": "x",
         "y": [
          123871
         ],
         "yaxis": "y"
        },
        {
         "alignmentgroup": "True",
         "hovertemplate": "Reason for owning business=Carry on family business<br>Industry Name=%{x}<br>Number of Business Owners=%{y}<extra></extra>",
         "legendgroup": "Carry on family business",
         "marker": {
          "color": "#FECB52",
          "pattern": {
           "shape": ""
          }
         },
         "name": "Carry on family business",
         "offsetgroup": "Carry on family business",
         "orientation": "v",
         "showlegend": true,
         "textposition": "auto",
         "texttemplate": "%{y:.2s}",
         "type": "bar",
         "x": [
          "Professional, scientific, and technical services"
         ],
         "xaxis": "x",
         "y": [
          54830
         ],
         "yaxis": "y"
        },
        {
         "alignmentgroup": "True",
         "hovertemplate": "Reason for owning business=Other<br>Industry Name=%{x}<br>Number of Business Owners=%{y}<extra></extra>",
         "legendgroup": "Other",
         "marker": {
          "color": "#636efa",
          "pattern": {
           "shape": ""
          }
         },
         "name": "Other",
         "offsetgroup": "Other",
         "orientation": "v",
         "showlegend": true,
         "textposition": "auto",
         "texttemplate": "%{y:.2s}",
         "type": "bar",
         "x": [
          "Professional, scientific, and technical services"
         ],
         "xaxis": "x",
         "y": [
          48764
         ],
         "yaxis": "y"
        },
        {
         "alignmentgroup": "True",
         "hovertemplate": "Reason for owning business=Couldn't find a job<br>Industry Name=%{x}<br>Number of Business Owners=%{y}<extra></extra>",
         "legendgroup": "Couldn't find a job",
         "marker": {
          "color": "#EF553B",
          "pattern": {
           "shape": ""
          }
         },
         "name": "Couldn't find a job",
         "offsetgroup": "Couldn't find a job",
         "orientation": "v",
         "showlegend": true,
         "textposition": "auto",
         "texttemplate": "%{y:.2s}",
         "type": "bar",
         "x": [
          "Professional, scientific, and technical services"
         ],
         "xaxis": "x",
         "y": [
          37164
         ],
         "yaxis": "y"
        }
       ],
       "layout": {
        "barmode": "group",
        "legend": {
         "title": {
          "text": "Reason for owning business"
         },
         "tracegroupgap": 0
        },
        "template": {
         "data": {
          "bar": [
           {
            "error_x": {
             "color": "#2a3f5f"
            },
            "error_y": {
             "color": "#2a3f5f"
            },
            "marker": {
             "line": {
              "color": "#E5ECF6",
              "width": 0.5
             },
             "pattern": {
              "fillmode": "overlay",
              "size": 10,
              "solidity": 0.2
             }
            },
            "type": "bar"
           }
          ],
          "barpolar": [
           {
            "marker": {
             "line": {
              "color": "#E5ECF6",
              "width": 0.5
             },
             "pattern": {
              "fillmode": "overlay",
              "size": 10,
              "solidity": 0.2
             }
            },
            "type": "barpolar"
           }
          ],
          "carpet": [
           {
            "aaxis": {
             "endlinecolor": "#2a3f5f",
             "gridcolor": "white",
             "linecolor": "white",
             "minorgridcolor": "white",
             "startlinecolor": "#2a3f5f"
            },
            "baxis": {
             "endlinecolor": "#2a3f5f",
             "gridcolor": "white",
             "linecolor": "white",
             "minorgridcolor": "white",
             "startlinecolor": "#2a3f5f"
            },
            "type": "carpet"
           }
          ],
          "choropleth": [
           {
            "colorbar": {
             "outlinewidth": 0,
             "ticks": ""
            },
            "type": "choropleth"
           }
          ],
          "contour": [
           {
            "colorbar": {
             "outlinewidth": 0,
             "ticks": ""
            },
            "colorscale": [
             [
              0,
              "#0d0887"
             ],
             [
              0.1111111111111111,
              "#46039f"
             ],
             [
              0.2222222222222222,
              "#7201a8"
             ],
             [
              0.3333333333333333,
              "#9c179e"
             ],
             [
              0.4444444444444444,
              "#bd3786"
             ],
             [
              0.5555555555555556,
              "#d8576b"
             ],
             [
              0.6666666666666666,
              "#ed7953"
             ],
             [
              0.7777777777777778,
              "#fb9f3a"
             ],
             [
              0.8888888888888888,
              "#fdca26"
             ],
             [
              1,
              "#f0f921"
             ]
            ],
            "type": "contour"
           }
          ],
          "contourcarpet": [
           {
            "colorbar": {
             "outlinewidth": 0,
             "ticks": ""
            },
            "type": "contourcarpet"
           }
          ],
          "heatmap": [
           {
            "colorbar": {
             "outlinewidth": 0,
             "ticks": ""
            },
            "colorscale": [
             [
              0,
              "#0d0887"
             ],
             [
              0.1111111111111111,
              "#46039f"
             ],
             [
              0.2222222222222222,
              "#7201a8"
             ],
             [
              0.3333333333333333,
              "#9c179e"
             ],
             [
              0.4444444444444444,
              "#bd3786"
             ],
             [
              0.5555555555555556,
              "#d8576b"
             ],
             [
              0.6666666666666666,
              "#ed7953"
             ],
             [
              0.7777777777777778,
              "#fb9f3a"
             ],
             [
              0.8888888888888888,
              "#fdca26"
             ],
             [
              1,
              "#f0f921"
             ]
            ],
            "type": "heatmap"
           }
          ],
          "heatmapgl": [
           {
            "colorbar": {
             "outlinewidth": 0,
             "ticks": ""
            },
            "colorscale": [
             [
              0,
              "#0d0887"
             ],
             [
              0.1111111111111111,
              "#46039f"
             ],
             [
              0.2222222222222222,
              "#7201a8"
             ],
             [
              0.3333333333333333,
              "#9c179e"
             ],
             [
              0.4444444444444444,
              "#bd3786"
             ],
             [
              0.5555555555555556,
              "#d8576b"
             ],
             [
              0.6666666666666666,
              "#ed7953"
             ],
             [
              0.7777777777777778,
              "#fb9f3a"
             ],
             [
              0.8888888888888888,
              "#fdca26"
             ],
             [
              1,
              "#f0f921"
             ]
            ],
            "type": "heatmapgl"
           }
          ],
          "histogram": [
           {
            "marker": {
             "pattern": {
              "fillmode": "overlay",
              "size": 10,
              "solidity": 0.2
             }
            },
            "type": "histogram"
           }
          ],
          "histogram2d": [
           {
            "colorbar": {
             "outlinewidth": 0,
             "ticks": ""
            },
            "colorscale": [
             [
              0,
              "#0d0887"
             ],
             [
              0.1111111111111111,
              "#46039f"
             ],
             [
              0.2222222222222222,
              "#7201a8"
             ],
             [
              0.3333333333333333,
              "#9c179e"
             ],
             [
              0.4444444444444444,
              "#bd3786"
             ],
             [
              0.5555555555555556,
              "#d8576b"
             ],
             [
              0.6666666666666666,
              "#ed7953"
             ],
             [
              0.7777777777777778,
              "#fb9f3a"
             ],
             [
              0.8888888888888888,
              "#fdca26"
             ],
             [
              1,
              "#f0f921"
             ]
            ],
            "type": "histogram2d"
           }
          ],
          "histogram2dcontour": [
           {
            "colorbar": {
             "outlinewidth": 0,
             "ticks": ""
            },
            "colorscale": [
             [
              0,
              "#0d0887"
             ],
             [
              0.1111111111111111,
              "#46039f"
             ],
             [
              0.2222222222222222,
              "#7201a8"
             ],
             [
              0.3333333333333333,
              "#9c179e"
             ],
             [
              0.4444444444444444,
              "#bd3786"
             ],
             [
              0.5555555555555556,
              "#d8576b"
             ],
             [
              0.6666666666666666,
              "#ed7953"
             ],
             [
              0.7777777777777778,
              "#fb9f3a"
             ],
             [
              0.8888888888888888,
              "#fdca26"
             ],
             [
              1,
              "#f0f921"
             ]
            ],
            "type": "histogram2dcontour"
           }
          ],
          "mesh3d": [
           {
            "colorbar": {
             "outlinewidth": 0,
             "ticks": ""
            },
            "type": "mesh3d"
           }
          ],
          "parcoords": [
           {
            "line": {
             "colorbar": {
              "outlinewidth": 0,
              "ticks": ""
             }
            },
            "type": "parcoords"
           }
          ],
          "pie": [
           {
            "automargin": true,
            "type": "pie"
           }
          ],
          "scatter": [
           {
            "fillpattern": {
             "fillmode": "overlay",
             "size": 10,
             "solidity": 0.2
            },
            "type": "scatter"
           }
          ],
          "scatter3d": [
           {
            "line": {
             "colorbar": {
              "outlinewidth": 0,
              "ticks": ""
             }
            },
            "marker": {
             "colorbar": {
              "outlinewidth": 0,
              "ticks": ""
             }
            },
            "type": "scatter3d"
           }
          ],
          "scattercarpet": [
           {
            "marker": {
             "colorbar": {
              "outlinewidth": 0,
              "ticks": ""
             }
            },
            "type": "scattercarpet"
           }
          ],
          "scattergeo": [
           {
            "marker": {
             "colorbar": {
              "outlinewidth": 0,
              "ticks": ""
             }
            },
            "type": "scattergeo"
           }
          ],
          "scattergl": [
           {
            "marker": {
             "colorbar": {
              "outlinewidth": 0,
              "ticks": ""
             }
            },
            "type": "scattergl"
           }
          ],
          "scattermapbox": [
           {
            "marker": {
             "colorbar": {
              "outlinewidth": 0,
              "ticks": ""
             }
            },
            "type": "scattermapbox"
           }
          ],
          "scatterpolar": [
           {
            "marker": {
             "colorbar": {
              "outlinewidth": 0,
              "ticks": ""
             }
            },
            "type": "scatterpolar"
           }
          ],
          "scatterpolargl": [
           {
            "marker": {
             "colorbar": {
              "outlinewidth": 0,
              "ticks": ""
             }
            },
            "type": "scatterpolargl"
           }
          ],
          "scatterternary": [
           {
            "marker": {
             "colorbar": {
              "outlinewidth": 0,
              "ticks": ""
             }
            },
            "type": "scatterternary"
           }
          ],
          "surface": [
           {
            "colorbar": {
             "outlinewidth": 0,
             "ticks": ""
            },
            "colorscale": [
             [
              0,
              "#0d0887"
             ],
             [
              0.1111111111111111,
              "#46039f"
             ],
             [
              0.2222222222222222,
              "#7201a8"
             ],
             [
              0.3333333333333333,
              "#9c179e"
             ],
             [
              0.4444444444444444,
              "#bd3786"
             ],
             [
              0.5555555555555556,
              "#d8576b"
             ],
             [
              0.6666666666666666,
              "#ed7953"
             ],
             [
              0.7777777777777778,
              "#fb9f3a"
             ],
             [
              0.8888888888888888,
              "#fdca26"
             ],
             [
              1,
              "#f0f921"
             ]
            ],
            "type": "surface"
           }
          ],
          "table": [
           {
            "cells": {
             "fill": {
              "color": "#EBF0F8"
             },
             "line": {
              "color": "white"
             }
            },
            "header": {
             "fill": {
              "color": "#C8D4E3"
             },
             "line": {
              "color": "white"
             }
            },
            "type": "table"
           }
          ]
         },
         "layout": {
          "annotationdefaults": {
           "arrowcolor": "#2a3f5f",
           "arrowhead": 0,
           "arrowwidth": 1
          },
          "autotypenumbers": "strict",
          "coloraxis": {
           "colorbar": {
            "outlinewidth": 0,
            "ticks": ""
           }
          },
          "colorscale": {
           "diverging": [
            [
             0,
             "#8e0152"
            ],
            [
             0.1,
             "#c51b7d"
            ],
            [
             0.2,
             "#de77ae"
            ],
            [
             0.3,
             "#f1b6da"
            ],
            [
             0.4,
             "#fde0ef"
            ],
            [
             0.5,
             "#f7f7f7"
            ],
            [
             0.6,
             "#e6f5d0"
            ],
            [
             0.7,
             "#b8e186"
            ],
            [
             0.8,
             "#7fbc41"
            ],
            [
             0.9,
             "#4d9221"
            ],
            [
             1,
             "#276419"
            ]
           ],
           "sequential": [
            [
             0,
             "#0d0887"
            ],
            [
             0.1111111111111111,
             "#46039f"
            ],
            [
             0.2222222222222222,
             "#7201a8"
            ],
            [
             0.3333333333333333,
             "#9c179e"
            ],
            [
             0.4444444444444444,
             "#bd3786"
            ],
            [
             0.5555555555555556,
             "#d8576b"
            ],
            [
             0.6666666666666666,
             "#ed7953"
            ],
            [
             0.7777777777777778,
             "#fb9f3a"
            ],
            [
             0.8888888888888888,
             "#fdca26"
            ],
            [
             1,
             "#f0f921"
            ]
           ],
           "sequentialminus": [
            [
             0,
             "#0d0887"
            ],
            [
             0.1111111111111111,
             "#46039f"
            ],
            [
             0.2222222222222222,
             "#7201a8"
            ],
            [
             0.3333333333333333,
             "#9c179e"
            ],
            [
             0.4444444444444444,
             "#bd3786"
            ],
            [
             0.5555555555555556,
             "#d8576b"
            ],
            [
             0.6666666666666666,
             "#ed7953"
            ],
            [
             0.7777777777777778,
             "#fb9f3a"
            ],
            [
             0.8888888888888888,
             "#fdca26"
            ],
            [
             1,
             "#f0f921"
            ]
           ]
          },
          "colorway": [
           "#636efa",
           "#EF553B",
           "#00cc96",
           "#ab63fa",
           "#FFA15A",
           "#19d3f3",
           "#FF6692",
           "#B6E880",
           "#FF97FF",
           "#FECB52"
          ],
          "font": {
           "color": "#2a3f5f"
          },
          "geo": {
           "bgcolor": "white",
           "lakecolor": "white",
           "landcolor": "#E5ECF6",
           "showlakes": true,
           "showland": true,
           "subunitcolor": "white"
          },
          "hoverlabel": {
           "align": "left"
          },
          "hovermode": "closest",
          "mapbox": {
           "style": "light"
          },
          "paper_bgcolor": "white",
          "plot_bgcolor": "#E5ECF6",
          "polar": {
           "angularaxis": {
            "gridcolor": "white",
            "linecolor": "white",
            "ticks": ""
           },
           "bgcolor": "#E5ECF6",
           "radialaxis": {
            "gridcolor": "white",
            "linecolor": "white",
            "ticks": ""
           }
          },
          "scene": {
           "xaxis": {
            "backgroundcolor": "#E5ECF6",
            "gridcolor": "white",
            "gridwidth": 2,
            "linecolor": "white",
            "showbackground": true,
            "ticks": "",
            "zerolinecolor": "white"
           },
           "yaxis": {
            "backgroundcolor": "#E5ECF6",
            "gridcolor": "white",
            "gridwidth": 2,
            "linecolor": "white",
            "showbackground": true,
            "ticks": "",
            "zerolinecolor": "white"
           },
           "zaxis": {
            "backgroundcolor": "#E5ECF6",
            "gridcolor": "white",
            "gridwidth": 2,
            "linecolor": "white",
            "showbackground": true,
            "ticks": "",
            "zerolinecolor": "white"
           }
          },
          "shapedefaults": {
           "line": {
            "color": "#2a3f5f"
           }
          },
          "ternary": {
           "aaxis": {
            "gridcolor": "white",
            "linecolor": "white",
            "ticks": ""
           },
           "baxis": {
            "gridcolor": "white",
            "linecolor": "white",
            "ticks": ""
           },
           "bgcolor": "#E5ECF6",
           "caxis": {
            "gridcolor": "white",
            "linecolor": "white",
            "ticks": ""
           }
          },
          "title": {
           "x": 0.05
          },
          "xaxis": {
           "automargin": true,
           "gridcolor": "white",
           "linecolor": "white",
           "ticks": "",
           "title": {
            "standoff": 15
           },
           "zerolinecolor": "white",
           "zerolinewidth": 2
          },
          "yaxis": {
           "automargin": true,
           "gridcolor": "white",
           "linecolor": "white",
           "ticks": "",
           "title": {
            "standoff": 15
           },
           "zerolinecolor": "white",
           "zerolinewidth": 2
          }
         }
        },
        "title": {
         "text": "Reasons to own business for industry: Professional, scientific, and technical services"
        },
        "xaxis": {
         "anchor": "y",
         "domain": [
          0,
          1
         ],
         "title": {
          "text": "Industry Name"
         }
        },
        "yaxis": {
         "anchor": "x",
         "domain": [
          0,
          1
         ],
         "title": {
          "text": "Number of Business Owners"
         }
        }
       }
      }
     },
     "metadata": {},
     "output_type": "display_data"
    },
    {
     "data": {
      "application/vnd.plotly.v1+json": {
       "config": {
        "plotlyServerURL": "https://plot.ly"
       },
       "data": [
        {
         "alignmentgroup": "True",
         "hovertemplate": "Reason for owning business=Greater income<br>Industry Name=%{x}<br>Number of Business Owners=%{y}<extra></extra>",
         "legendgroup": "Greater income",
         "marker": {
          "color": "#636efa",
          "pattern": {
           "shape": ""
          }
         },
         "name": "Greater income",
         "offsetgroup": "Greater income",
         "orientation": "v",
         "showlegend": true,
         "textposition": "auto",
         "texttemplate": "%{y:.2s}",
         "type": "bar",
         "x": [
          "Real estate and rental and leasing"
         ],
         "xaxis": "x",
         "y": [
          148098
         ],
         "yaxis": "y"
        },
        {
         "alignmentgroup": "True",
         "hovertemplate": "Reason for owning business=Wanted to be my own boss<br>Industry Name=%{x}<br>Number of Business Owners=%{y}<extra></extra>",
         "legendgroup": "Wanted to be my own boss",
         "marker": {
          "color": "#EF553B",
          "pattern": {
           "shape": ""
          }
         },
         "name": "Wanted to be my own boss",
         "offsetgroup": "Wanted to be my own boss",
         "orientation": "v",
         "showlegend": true,
         "textposition": "auto",
         "texttemplate": "%{y:.2s}",
         "type": "bar",
         "x": [
          "Real estate and rental and leasing"
         ],
         "xaxis": "x",
         "y": [
          136572
         ],
         "yaxis": "y"
        },
        {
         "alignmentgroup": "True",
         "hovertemplate": "Reason for owning business=Flexible hours<br>Industry Name=%{x}<br>Number of Business Owners=%{y}<extra></extra>",
         "legendgroup": "Flexible hours",
         "marker": {
          "color": "#00cc96",
          "pattern": {
           "shape": ""
          }
         },
         "name": "Flexible hours",
         "offsetgroup": "Flexible hours",
         "orientation": "v",
         "showlegend": true,
         "textposition": "auto",
         "texttemplate": "%{y:.2s}",
         "type": "bar",
         "x": [
          "Real estate and rental and leasing"
         ],
         "xaxis": "x",
         "y": [
          126786
         ],
         "yaxis": "y"
        },
        {
         "alignmentgroup": "True",
         "hovertemplate": "Reason for owning business=Balance work and family<br>Industry Name=%{x}<br>Number of Business Owners=%{y}<extra></extra>",
         "legendgroup": "Balance work and family",
         "marker": {
          "color": "#ab63fa",
          "pattern": {
           "shape": ""
          }
         },
         "name": "Balance work and family",
         "offsetgroup": "Balance work and family",
         "orientation": "v",
         "showlegend": true,
         "textposition": "auto",
         "texttemplate": "%{y:.2s}",
         "type": "bar",
         "x": [
          "Real estate and rental and leasing"
         ],
         "xaxis": "x",
         "y": [
          124643
         ],
         "yaxis": "y"
        },
        {
         "alignmentgroup": "True",
         "hovertemplate": "Reason for owning business=Best avenue for ideas<br>Industry Name=%{x}<br>Number of Business Owners=%{y}<extra></extra>",
         "legendgroup": "Best avenue for ideas",
         "marker": {
          "color": "#FFA15A",
          "pattern": {
           "shape": ""
          }
         },
         "name": "Best avenue for ideas",
         "offsetgroup": "Best avenue for ideas",
         "orientation": "v",
         "showlegend": true,
         "textposition": "auto",
         "texttemplate": "%{y:.2s}",
         "type": "bar",
         "x": [
          "Real estate and rental and leasing"
         ],
         "xaxis": "x",
         "y": [
          110954
         ],
         "yaxis": "y"
        },
        {
         "alignmentgroup": "True",
         "hovertemplate": "Reason for owning business=Start my own business<br>Industry Name=%{x}<br>Number of Business Owners=%{y}<extra></extra>",
         "legendgroup": "Start my own business",
         "marker": {
          "color": "#19d3f3",
          "pattern": {
           "shape": ""
          }
         },
         "name": "Start my own business",
         "offsetgroup": "Start my own business",
         "orientation": "v",
         "showlegend": true,
         "textposition": "auto",
         "texttemplate": "%{y:.2s}",
         "type": "bar",
         "x": [
          "Real estate and rental and leasing"
         ],
         "xaxis": "x",
         "y": [
          98078
         ],
         "yaxis": "y"
        },
        {
         "alignmentgroup": "True",
         "hovertemplate": "Reason for owning business=Work for self<br>Industry Name=%{x}<br>Number of Business Owners=%{y}<extra></extra>",
         "legendgroup": "Work for self",
         "marker": {
          "color": "#FF6692",
          "pattern": {
           "shape": ""
          }
         },
         "name": "Work for self",
         "offsetgroup": "Work for self",
         "orientation": "v",
         "showlegend": true,
         "textposition": "auto",
         "texttemplate": "%{y:.2s}",
         "type": "bar",
         "x": [
          "Real estate and rental and leasing"
         ],
         "xaxis": "x",
         "y": [
          75946
         ],
         "yaxis": "y"
        },
        {
         "alignmentgroup": "True",
         "hovertemplate": "Reason for owning business=Friend or family role model<br>Industry Name=%{x}<br>Number of Business Owners=%{y}<extra></extra>",
         "legendgroup": "Friend or family role model",
         "marker": {
          "color": "#B6E880",
          "pattern": {
           "shape": ""
          }
         },
         "name": "Friend or family role model",
         "offsetgroup": "Friend or family role model",
         "orientation": "v",
         "showlegend": true,
         "textposition": "auto",
         "texttemplate": "%{y:.2s}",
         "type": "bar",
         "x": [
          "Real estate and rental and leasing"
         ],
         "xaxis": "x",
         "y": [
          71610
         ],
         "yaxis": "y"
        },
        {
         "alignmentgroup": "True",
         "hovertemplate": "Reason for owning business=Carry on family business<br>Industry Name=%{x}<br>Number of Business Owners=%{y}<extra></extra>",
         "legendgroup": "Carry on family business",
         "marker": {
          "color": "#FF97FF",
          "pattern": {
           "shape": ""
          }
         },
         "name": "Carry on family business",
         "offsetgroup": "Carry on family business",
         "orientation": "v",
         "showlegend": true,
         "textposition": "auto",
         "texttemplate": "%{y:.2s}",
         "type": "bar",
         "x": [
          "Real estate and rental and leasing"
         ],
         "xaxis": "x",
         "y": [
          52074
         ],
         "yaxis": "y"
        },
        {
         "alignmentgroup": "True",
         "hovertemplate": "Reason for owning business=Help my community<br>Industry Name=%{x}<br>Number of Business Owners=%{y}<extra></extra>",
         "legendgroup": "Help my community",
         "marker": {
          "color": "#FECB52",
          "pattern": {
           "shape": ""
          }
         },
         "name": "Help my community",
         "offsetgroup": "Help my community",
         "orientation": "v",
         "showlegend": true,
         "textposition": "auto",
         "texttemplate": "%{y:.2s}",
         "type": "bar",
         "x": [
          "Real estate and rental and leasing"
         ],
         "xaxis": "x",
         "y": [
          51795
         ],
         "yaxis": "y"
        },
        {
         "alignmentgroup": "True",
         "hovertemplate": "Reason for owning business=Other<br>Industry Name=%{x}<br>Number of Business Owners=%{y}<extra></extra>",
         "legendgroup": "Other",
         "marker": {
          "color": "#636efa",
          "pattern": {
           "shape": ""
          }
         },
         "name": "Other",
         "offsetgroup": "Other",
         "orientation": "v",
         "showlegend": true,
         "textposition": "auto",
         "texttemplate": "%{y:.2s}",
         "type": "bar",
         "x": [
          "Real estate and rental and leasing"
         ],
         "xaxis": "x",
         "y": [
          23005
         ],
         "yaxis": "y"
        },
        {
         "alignmentgroup": "True",
         "hovertemplate": "Reason for owning business=Couldn't find a job<br>Industry Name=%{x}<br>Number of Business Owners=%{y}<extra></extra>",
         "legendgroup": "Couldn't find a job",
         "marker": {
          "color": "#EF553B",
          "pattern": {
           "shape": ""
          }
         },
         "name": "Couldn't find a job",
         "offsetgroup": "Couldn't find a job",
         "orientation": "v",
         "showlegend": true,
         "textposition": "auto",
         "texttemplate": "%{y:.2s}",
         "type": "bar",
         "x": [
          "Real estate and rental and leasing"
         ],
         "xaxis": "x",
         "y": [
          14848
         ],
         "yaxis": "y"
        }
       ],
       "layout": {
        "barmode": "group",
        "legend": {
         "title": {
          "text": "Reason for owning business"
         },
         "tracegroupgap": 0
        },
        "template": {
         "data": {
          "bar": [
           {
            "error_x": {
             "color": "#2a3f5f"
            },
            "error_y": {
             "color": "#2a3f5f"
            },
            "marker": {
             "line": {
              "color": "#E5ECF6",
              "width": 0.5
             },
             "pattern": {
              "fillmode": "overlay",
              "size": 10,
              "solidity": 0.2
             }
            },
            "type": "bar"
           }
          ],
          "barpolar": [
           {
            "marker": {
             "line": {
              "color": "#E5ECF6",
              "width": 0.5
             },
             "pattern": {
              "fillmode": "overlay",
              "size": 10,
              "solidity": 0.2
             }
            },
            "type": "barpolar"
           }
          ],
          "carpet": [
           {
            "aaxis": {
             "endlinecolor": "#2a3f5f",
             "gridcolor": "white",
             "linecolor": "white",
             "minorgridcolor": "white",
             "startlinecolor": "#2a3f5f"
            },
            "baxis": {
             "endlinecolor": "#2a3f5f",
             "gridcolor": "white",
             "linecolor": "white",
             "minorgridcolor": "white",
             "startlinecolor": "#2a3f5f"
            },
            "type": "carpet"
           }
          ],
          "choropleth": [
           {
            "colorbar": {
             "outlinewidth": 0,
             "ticks": ""
            },
            "type": "choropleth"
           }
          ],
          "contour": [
           {
            "colorbar": {
             "outlinewidth": 0,
             "ticks": ""
            },
            "colorscale": [
             [
              0,
              "#0d0887"
             ],
             [
              0.1111111111111111,
              "#46039f"
             ],
             [
              0.2222222222222222,
              "#7201a8"
             ],
             [
              0.3333333333333333,
              "#9c179e"
             ],
             [
              0.4444444444444444,
              "#bd3786"
             ],
             [
              0.5555555555555556,
              "#d8576b"
             ],
             [
              0.6666666666666666,
              "#ed7953"
             ],
             [
              0.7777777777777778,
              "#fb9f3a"
             ],
             [
              0.8888888888888888,
              "#fdca26"
             ],
             [
              1,
              "#f0f921"
             ]
            ],
            "type": "contour"
           }
          ],
          "contourcarpet": [
           {
            "colorbar": {
             "outlinewidth": 0,
             "ticks": ""
            },
            "type": "contourcarpet"
           }
          ],
          "heatmap": [
           {
            "colorbar": {
             "outlinewidth": 0,
             "ticks": ""
            },
            "colorscale": [
             [
              0,
              "#0d0887"
             ],
             [
              0.1111111111111111,
              "#46039f"
             ],
             [
              0.2222222222222222,
              "#7201a8"
             ],
             [
              0.3333333333333333,
              "#9c179e"
             ],
             [
              0.4444444444444444,
              "#bd3786"
             ],
             [
              0.5555555555555556,
              "#d8576b"
             ],
             [
              0.6666666666666666,
              "#ed7953"
             ],
             [
              0.7777777777777778,
              "#fb9f3a"
             ],
             [
              0.8888888888888888,
              "#fdca26"
             ],
             [
              1,
              "#f0f921"
             ]
            ],
            "type": "heatmap"
           }
          ],
          "heatmapgl": [
           {
            "colorbar": {
             "outlinewidth": 0,
             "ticks": ""
            },
            "colorscale": [
             [
              0,
              "#0d0887"
             ],
             [
              0.1111111111111111,
              "#46039f"
             ],
             [
              0.2222222222222222,
              "#7201a8"
             ],
             [
              0.3333333333333333,
              "#9c179e"
             ],
             [
              0.4444444444444444,
              "#bd3786"
             ],
             [
              0.5555555555555556,
              "#d8576b"
             ],
             [
              0.6666666666666666,
              "#ed7953"
             ],
             [
              0.7777777777777778,
              "#fb9f3a"
             ],
             [
              0.8888888888888888,
              "#fdca26"
             ],
             [
              1,
              "#f0f921"
             ]
            ],
            "type": "heatmapgl"
           }
          ],
          "histogram": [
           {
            "marker": {
             "pattern": {
              "fillmode": "overlay",
              "size": 10,
              "solidity": 0.2
             }
            },
            "type": "histogram"
           }
          ],
          "histogram2d": [
           {
            "colorbar": {
             "outlinewidth": 0,
             "ticks": ""
            },
            "colorscale": [
             [
              0,
              "#0d0887"
             ],
             [
              0.1111111111111111,
              "#46039f"
             ],
             [
              0.2222222222222222,
              "#7201a8"
             ],
             [
              0.3333333333333333,
              "#9c179e"
             ],
             [
              0.4444444444444444,
              "#bd3786"
             ],
             [
              0.5555555555555556,
              "#d8576b"
             ],
             [
              0.6666666666666666,
              "#ed7953"
             ],
             [
              0.7777777777777778,
              "#fb9f3a"
             ],
             [
              0.8888888888888888,
              "#fdca26"
             ],
             [
              1,
              "#f0f921"
             ]
            ],
            "type": "histogram2d"
           }
          ],
          "histogram2dcontour": [
           {
            "colorbar": {
             "outlinewidth": 0,
             "ticks": ""
            },
            "colorscale": [
             [
              0,
              "#0d0887"
             ],
             [
              0.1111111111111111,
              "#46039f"
             ],
             [
              0.2222222222222222,
              "#7201a8"
             ],
             [
              0.3333333333333333,
              "#9c179e"
             ],
             [
              0.4444444444444444,
              "#bd3786"
             ],
             [
              0.5555555555555556,
              "#d8576b"
             ],
             [
              0.6666666666666666,
              "#ed7953"
             ],
             [
              0.7777777777777778,
              "#fb9f3a"
             ],
             [
              0.8888888888888888,
              "#fdca26"
             ],
             [
              1,
              "#f0f921"
             ]
            ],
            "type": "histogram2dcontour"
           }
          ],
          "mesh3d": [
           {
            "colorbar": {
             "outlinewidth": 0,
             "ticks": ""
            },
            "type": "mesh3d"
           }
          ],
          "parcoords": [
           {
            "line": {
             "colorbar": {
              "outlinewidth": 0,
              "ticks": ""
             }
            },
            "type": "parcoords"
           }
          ],
          "pie": [
           {
            "automargin": true,
            "type": "pie"
           }
          ],
          "scatter": [
           {
            "fillpattern": {
             "fillmode": "overlay",
             "size": 10,
             "solidity": 0.2
            },
            "type": "scatter"
           }
          ],
          "scatter3d": [
           {
            "line": {
             "colorbar": {
              "outlinewidth": 0,
              "ticks": ""
             }
            },
            "marker": {
             "colorbar": {
              "outlinewidth": 0,
              "ticks": ""
             }
            },
            "type": "scatter3d"
           }
          ],
          "scattercarpet": [
           {
            "marker": {
             "colorbar": {
              "outlinewidth": 0,
              "ticks": ""
             }
            },
            "type": "scattercarpet"
           }
          ],
          "scattergeo": [
           {
            "marker": {
             "colorbar": {
              "outlinewidth": 0,
              "ticks": ""
             }
            },
            "type": "scattergeo"
           }
          ],
          "scattergl": [
           {
            "marker": {
             "colorbar": {
              "outlinewidth": 0,
              "ticks": ""
             }
            },
            "type": "scattergl"
           }
          ],
          "scattermapbox": [
           {
            "marker": {
             "colorbar": {
              "outlinewidth": 0,
              "ticks": ""
             }
            },
            "type": "scattermapbox"
           }
          ],
          "scatterpolar": [
           {
            "marker": {
             "colorbar": {
              "outlinewidth": 0,
              "ticks": ""
             }
            },
            "type": "scatterpolar"
           }
          ],
          "scatterpolargl": [
           {
            "marker": {
             "colorbar": {
              "outlinewidth": 0,
              "ticks": ""
             }
            },
            "type": "scatterpolargl"
           }
          ],
          "scatterternary": [
           {
            "marker": {
             "colorbar": {
              "outlinewidth": 0,
              "ticks": ""
             }
            },
            "type": "scatterternary"
           }
          ],
          "surface": [
           {
            "colorbar": {
             "outlinewidth": 0,
             "ticks": ""
            },
            "colorscale": [
             [
              0,
              "#0d0887"
             ],
             [
              0.1111111111111111,
              "#46039f"
             ],
             [
              0.2222222222222222,
              "#7201a8"
             ],
             [
              0.3333333333333333,
              "#9c179e"
             ],
             [
              0.4444444444444444,
              "#bd3786"
             ],
             [
              0.5555555555555556,
              "#d8576b"
             ],
             [
              0.6666666666666666,
              "#ed7953"
             ],
             [
              0.7777777777777778,
              "#fb9f3a"
             ],
             [
              0.8888888888888888,
              "#fdca26"
             ],
             [
              1,
              "#f0f921"
             ]
            ],
            "type": "surface"
           }
          ],
          "table": [
           {
            "cells": {
             "fill": {
              "color": "#EBF0F8"
             },
             "line": {
              "color": "white"
             }
            },
            "header": {
             "fill": {
              "color": "#C8D4E3"
             },
             "line": {
              "color": "white"
             }
            },
            "type": "table"
           }
          ]
         },
         "layout": {
          "annotationdefaults": {
           "arrowcolor": "#2a3f5f",
           "arrowhead": 0,
           "arrowwidth": 1
          },
          "autotypenumbers": "strict",
          "coloraxis": {
           "colorbar": {
            "outlinewidth": 0,
            "ticks": ""
           }
          },
          "colorscale": {
           "diverging": [
            [
             0,
             "#8e0152"
            ],
            [
             0.1,
             "#c51b7d"
            ],
            [
             0.2,
             "#de77ae"
            ],
            [
             0.3,
             "#f1b6da"
            ],
            [
             0.4,
             "#fde0ef"
            ],
            [
             0.5,
             "#f7f7f7"
            ],
            [
             0.6,
             "#e6f5d0"
            ],
            [
             0.7,
             "#b8e186"
            ],
            [
             0.8,
             "#7fbc41"
            ],
            [
             0.9,
             "#4d9221"
            ],
            [
             1,
             "#276419"
            ]
           ],
           "sequential": [
            [
             0,
             "#0d0887"
            ],
            [
             0.1111111111111111,
             "#46039f"
            ],
            [
             0.2222222222222222,
             "#7201a8"
            ],
            [
             0.3333333333333333,
             "#9c179e"
            ],
            [
             0.4444444444444444,
             "#bd3786"
            ],
            [
             0.5555555555555556,
             "#d8576b"
            ],
            [
             0.6666666666666666,
             "#ed7953"
            ],
            [
             0.7777777777777778,
             "#fb9f3a"
            ],
            [
             0.8888888888888888,
             "#fdca26"
            ],
            [
             1,
             "#f0f921"
            ]
           ],
           "sequentialminus": [
            [
             0,
             "#0d0887"
            ],
            [
             0.1111111111111111,
             "#46039f"
            ],
            [
             0.2222222222222222,
             "#7201a8"
            ],
            [
             0.3333333333333333,
             "#9c179e"
            ],
            [
             0.4444444444444444,
             "#bd3786"
            ],
            [
             0.5555555555555556,
             "#d8576b"
            ],
            [
             0.6666666666666666,
             "#ed7953"
            ],
            [
             0.7777777777777778,
             "#fb9f3a"
            ],
            [
             0.8888888888888888,
             "#fdca26"
            ],
            [
             1,
             "#f0f921"
            ]
           ]
          },
          "colorway": [
           "#636efa",
           "#EF553B",
           "#00cc96",
           "#ab63fa",
           "#FFA15A",
           "#19d3f3",
           "#FF6692",
           "#B6E880",
           "#FF97FF",
           "#FECB52"
          ],
          "font": {
           "color": "#2a3f5f"
          },
          "geo": {
           "bgcolor": "white",
           "lakecolor": "white",
           "landcolor": "#E5ECF6",
           "showlakes": true,
           "showland": true,
           "subunitcolor": "white"
          },
          "hoverlabel": {
           "align": "left"
          },
          "hovermode": "closest",
          "mapbox": {
           "style": "light"
          },
          "paper_bgcolor": "white",
          "plot_bgcolor": "#E5ECF6",
          "polar": {
           "angularaxis": {
            "gridcolor": "white",
            "linecolor": "white",
            "ticks": ""
           },
           "bgcolor": "#E5ECF6",
           "radialaxis": {
            "gridcolor": "white",
            "linecolor": "white",
            "ticks": ""
           }
          },
          "scene": {
           "xaxis": {
            "backgroundcolor": "#E5ECF6",
            "gridcolor": "white",
            "gridwidth": 2,
            "linecolor": "white",
            "showbackground": true,
            "ticks": "",
            "zerolinecolor": "white"
           },
           "yaxis": {
            "backgroundcolor": "#E5ECF6",
            "gridcolor": "white",
            "gridwidth": 2,
            "linecolor": "white",
            "showbackground": true,
            "ticks": "",
            "zerolinecolor": "white"
           },
           "zaxis": {
            "backgroundcolor": "#E5ECF6",
            "gridcolor": "white",
            "gridwidth": 2,
            "linecolor": "white",
            "showbackground": true,
            "ticks": "",
            "zerolinecolor": "white"
           }
          },
          "shapedefaults": {
           "line": {
            "color": "#2a3f5f"
           }
          },
          "ternary": {
           "aaxis": {
            "gridcolor": "white",
            "linecolor": "white",
            "ticks": ""
           },
           "baxis": {
            "gridcolor": "white",
            "linecolor": "white",
            "ticks": ""
           },
           "bgcolor": "#E5ECF6",
           "caxis": {
            "gridcolor": "white",
            "linecolor": "white",
            "ticks": ""
           }
          },
          "title": {
           "x": 0.05
          },
          "xaxis": {
           "automargin": true,
           "gridcolor": "white",
           "linecolor": "white",
           "ticks": "",
           "title": {
            "standoff": 15
           },
           "zerolinecolor": "white",
           "zerolinewidth": 2
          },
          "yaxis": {
           "automargin": true,
           "gridcolor": "white",
           "linecolor": "white",
           "ticks": "",
           "title": {
            "standoff": 15
           },
           "zerolinecolor": "white",
           "zerolinewidth": 2
          }
         }
        },
        "title": {
         "text": "Reasons to own business for industry: Real estate and rental and leasing"
        },
        "xaxis": {
         "anchor": "y",
         "domain": [
          0,
          1
         ],
         "title": {
          "text": "Industry Name"
         }
        },
        "yaxis": {
         "anchor": "x",
         "domain": [
          0,
          1
         ],
         "title": {
          "text": "Number of Business Owners"
         }
        }
       }
      }
     },
     "metadata": {},
     "output_type": "display_data"
    },
    {
     "data": {
      "application/vnd.plotly.v1+json": {
       "config": {
        "plotlyServerURL": "https://plot.ly"
       },
       "data": [
        {
         "alignmentgroup": "True",
         "hovertemplate": "Reason for owning business=Wanted to be my own boss<br>Industry Name=%{x}<br>Number of Business Owners=%{y}<extra></extra>",
         "legendgroup": "Wanted to be my own boss",
         "marker": {
          "color": "#636efa",
          "pattern": {
           "shape": ""
          }
         },
         "name": "Wanted to be my own boss",
         "offsetgroup": "Wanted to be my own boss",
         "orientation": "v",
         "showlegend": true,
         "textposition": "auto",
         "texttemplate": "%{y:.2s}",
         "type": "bar",
         "x": [
          "Retail trade"
         ],
         "xaxis": "x",
         "y": [
          267959
         ],
         "yaxis": "y"
        },
        {
         "alignmentgroup": "True",
         "hovertemplate": "Reason for owning business=Greater income<br>Industry Name=%{x}<br>Number of Business Owners=%{y}<extra></extra>",
         "legendgroup": "Greater income",
         "marker": {
          "color": "#EF553B",
          "pattern": {
           "shape": ""
          }
         },
         "name": "Greater income",
         "offsetgroup": "Greater income",
         "orientation": "v",
         "showlegend": true,
         "textposition": "auto",
         "texttemplate": "%{y:.2s}",
         "type": "bar",
         "x": [
          "Retail trade"
         ],
         "xaxis": "x",
         "y": [
          258020
         ],
         "yaxis": "y"
        },
        {
         "alignmentgroup": "True",
         "hovertemplate": "Reason for owning business=Balance work and family<br>Industry Name=%{x}<br>Number of Business Owners=%{y}<extra></extra>",
         "legendgroup": "Balance work and family",
         "marker": {
          "color": "#00cc96",
          "pattern": {
           "shape": ""
          }
         },
         "name": "Balance work and family",
         "offsetgroup": "Balance work and family",
         "orientation": "v",
         "showlegend": true,
         "textposition": "auto",
         "texttemplate": "%{y:.2s}",
         "type": "bar",
         "x": [
          "Retail trade"
         ],
         "xaxis": "x",
         "y": [
          239252
         ],
         "yaxis": "y"
        },
        {
         "alignmentgroup": "True",
         "hovertemplate": "Reason for owning business=Best avenue for ideas<br>Industry Name=%{x}<br>Number of Business Owners=%{y}<extra></extra>",
         "legendgroup": "Best avenue for ideas",
         "marker": {
          "color": "#ab63fa",
          "pattern": {
           "shape": ""
          }
         },
         "name": "Best avenue for ideas",
         "offsetgroup": "Best avenue for ideas",
         "orientation": "v",
         "showlegend": true,
         "textposition": "auto",
         "texttemplate": "%{y:.2s}",
         "type": "bar",
         "x": [
          "Retail trade"
         ],
         "xaxis": "x",
         "y": [
          227982
         ],
         "yaxis": "y"
        },
        {
         "alignmentgroup": "True",
         "hovertemplate": "Reason for owning business=Flexible hours<br>Industry Name=%{x}<br>Number of Business Owners=%{y}<extra></extra>",
         "legendgroup": "Flexible hours",
         "marker": {
          "color": "#FFA15A",
          "pattern": {
           "shape": ""
          }
         },
         "name": "Flexible hours",
         "offsetgroup": "Flexible hours",
         "orientation": "v",
         "showlegend": true,
         "textposition": "auto",
         "texttemplate": "%{y:.2s}",
         "type": "bar",
         "x": [
          "Retail trade"
         ],
         "xaxis": "x",
         "y": [
          217008
         ],
         "yaxis": "y"
        },
        {
         "alignmentgroup": "True",
         "hovertemplate": "Reason for owning business=Start my own business<br>Industry Name=%{x}<br>Number of Business Owners=%{y}<extra></extra>",
         "legendgroup": "Start my own business",
         "marker": {
          "color": "#19d3f3",
          "pattern": {
           "shape": ""
          }
         },
         "name": "Start my own business",
         "offsetgroup": "Start my own business",
         "orientation": "v",
         "showlegend": true,
         "textposition": "auto",
         "texttemplate": "%{y:.2s}",
         "type": "bar",
         "x": [
          "Retail trade"
         ],
         "xaxis": "x",
         "y": [
          213305
         ],
         "yaxis": "y"
        },
        {
         "alignmentgroup": "True",
         "hovertemplate": "Reason for owning business=Friend or family role model<br>Industry Name=%{x}<br>Number of Business Owners=%{y}<extra></extra>",
         "legendgroup": "Friend or family role model",
         "marker": {
          "color": "#FF6692",
          "pattern": {
           "shape": ""
          }
         },
         "name": "Friend or family role model",
         "offsetgroup": "Friend or family role model",
         "orientation": "v",
         "showlegend": true,
         "textposition": "auto",
         "texttemplate": "%{y:.2s}",
         "type": "bar",
         "x": [
          "Retail trade"
         ],
         "xaxis": "x",
         "y": [
          146693
         ],
         "yaxis": "y"
        },
        {
         "alignmentgroup": "True",
         "hovertemplate": "Reason for owning business=Work for self<br>Industry Name=%{x}<br>Number of Business Owners=%{y}<extra></extra>",
         "legendgroup": "Work for self",
         "marker": {
          "color": "#B6E880",
          "pattern": {
           "shape": ""
          }
         },
         "name": "Work for self",
         "offsetgroup": "Work for self",
         "orientation": "v",
         "showlegend": true,
         "textposition": "auto",
         "texttemplate": "%{y:.2s}",
         "type": "bar",
         "x": [
          "Retail trade"
         ],
         "xaxis": "x",
         "y": [
          143659
         ],
         "yaxis": "y"
        },
        {
         "alignmentgroup": "True",
         "hovertemplate": "Reason for owning business=Help my community<br>Industry Name=%{x}<br>Number of Business Owners=%{y}<extra></extra>",
         "legendgroup": "Help my community",
         "marker": {
          "color": "#FF97FF",
          "pattern": {
           "shape": ""
          }
         },
         "name": "Help my community",
         "offsetgroup": "Help my community",
         "orientation": "v",
         "showlegend": true,
         "textposition": "auto",
         "texttemplate": "%{y:.2s}",
         "type": "bar",
         "x": [
          "Retail trade"
         ],
         "xaxis": "x",
         "y": [
          120902
         ],
         "yaxis": "y"
        },
        {
         "alignmentgroup": "True",
         "hovertemplate": "Reason for owning business=Carry on family business<br>Industry Name=%{x}<br>Number of Business Owners=%{y}<extra></extra>",
         "legendgroup": "Carry on family business",
         "marker": {
          "color": "#FECB52",
          "pattern": {
           "shape": ""
          }
         },
         "name": "Carry on family business",
         "offsetgroup": "Carry on family business",
         "orientation": "v",
         "showlegend": true,
         "textposition": "auto",
         "texttemplate": "%{y:.2s}",
         "type": "bar",
         "x": [
          "Retail trade"
         ],
         "xaxis": "x",
         "y": [
          111193
         ],
         "yaxis": "y"
        },
        {
         "alignmentgroup": "True",
         "hovertemplate": "Reason for owning business=Other<br>Industry Name=%{x}<br>Number of Business Owners=%{y}<extra></extra>",
         "legendgroup": "Other",
         "marker": {
          "color": "#636efa",
          "pattern": {
           "shape": ""
          }
         },
         "name": "Other",
         "offsetgroup": "Other",
         "orientation": "v",
         "showlegend": true,
         "textposition": "auto",
         "texttemplate": "%{y:.2s}",
         "type": "bar",
         "x": [
          "Retail trade"
         ],
         "xaxis": "x",
         "y": [
          46387
         ],
         "yaxis": "y"
        },
        {
         "alignmentgroup": "True",
         "hovertemplate": "Reason for owning business=Couldn't find a job<br>Industry Name=%{x}<br>Number of Business Owners=%{y}<extra></extra>",
         "legendgroup": "Couldn't find a job",
         "marker": {
          "color": "#EF553B",
          "pattern": {
           "shape": ""
          }
         },
         "name": "Couldn't find a job",
         "offsetgroup": "Couldn't find a job",
         "orientation": "v",
         "showlegend": true,
         "textposition": "auto",
         "texttemplate": "%{y:.2s}",
         "type": "bar",
         "x": [
          "Retail trade"
         ],
         "xaxis": "x",
         "y": [
          39515
         ],
         "yaxis": "y"
        }
       ],
       "layout": {
        "barmode": "group",
        "legend": {
         "title": {
          "text": "Reason for owning business"
         },
         "tracegroupgap": 0
        },
        "template": {
         "data": {
          "bar": [
           {
            "error_x": {
             "color": "#2a3f5f"
            },
            "error_y": {
             "color": "#2a3f5f"
            },
            "marker": {
             "line": {
              "color": "#E5ECF6",
              "width": 0.5
             },
             "pattern": {
              "fillmode": "overlay",
              "size": 10,
              "solidity": 0.2
             }
            },
            "type": "bar"
           }
          ],
          "barpolar": [
           {
            "marker": {
             "line": {
              "color": "#E5ECF6",
              "width": 0.5
             },
             "pattern": {
              "fillmode": "overlay",
              "size": 10,
              "solidity": 0.2
             }
            },
            "type": "barpolar"
           }
          ],
          "carpet": [
           {
            "aaxis": {
             "endlinecolor": "#2a3f5f",
             "gridcolor": "white",
             "linecolor": "white",
             "minorgridcolor": "white",
             "startlinecolor": "#2a3f5f"
            },
            "baxis": {
             "endlinecolor": "#2a3f5f",
             "gridcolor": "white",
             "linecolor": "white",
             "minorgridcolor": "white",
             "startlinecolor": "#2a3f5f"
            },
            "type": "carpet"
           }
          ],
          "choropleth": [
           {
            "colorbar": {
             "outlinewidth": 0,
             "ticks": ""
            },
            "type": "choropleth"
           }
          ],
          "contour": [
           {
            "colorbar": {
             "outlinewidth": 0,
             "ticks": ""
            },
            "colorscale": [
             [
              0,
              "#0d0887"
             ],
             [
              0.1111111111111111,
              "#46039f"
             ],
             [
              0.2222222222222222,
              "#7201a8"
             ],
             [
              0.3333333333333333,
              "#9c179e"
             ],
             [
              0.4444444444444444,
              "#bd3786"
             ],
             [
              0.5555555555555556,
              "#d8576b"
             ],
             [
              0.6666666666666666,
              "#ed7953"
             ],
             [
              0.7777777777777778,
              "#fb9f3a"
             ],
             [
              0.8888888888888888,
              "#fdca26"
             ],
             [
              1,
              "#f0f921"
             ]
            ],
            "type": "contour"
           }
          ],
          "contourcarpet": [
           {
            "colorbar": {
             "outlinewidth": 0,
             "ticks": ""
            },
            "type": "contourcarpet"
           }
          ],
          "heatmap": [
           {
            "colorbar": {
             "outlinewidth": 0,
             "ticks": ""
            },
            "colorscale": [
             [
              0,
              "#0d0887"
             ],
             [
              0.1111111111111111,
              "#46039f"
             ],
             [
              0.2222222222222222,
              "#7201a8"
             ],
             [
              0.3333333333333333,
              "#9c179e"
             ],
             [
              0.4444444444444444,
              "#bd3786"
             ],
             [
              0.5555555555555556,
              "#d8576b"
             ],
             [
              0.6666666666666666,
              "#ed7953"
             ],
             [
              0.7777777777777778,
              "#fb9f3a"
             ],
             [
              0.8888888888888888,
              "#fdca26"
             ],
             [
              1,
              "#f0f921"
             ]
            ],
            "type": "heatmap"
           }
          ],
          "heatmapgl": [
           {
            "colorbar": {
             "outlinewidth": 0,
             "ticks": ""
            },
            "colorscale": [
             [
              0,
              "#0d0887"
             ],
             [
              0.1111111111111111,
              "#46039f"
             ],
             [
              0.2222222222222222,
              "#7201a8"
             ],
             [
              0.3333333333333333,
              "#9c179e"
             ],
             [
              0.4444444444444444,
              "#bd3786"
             ],
             [
              0.5555555555555556,
              "#d8576b"
             ],
             [
              0.6666666666666666,
              "#ed7953"
             ],
             [
              0.7777777777777778,
              "#fb9f3a"
             ],
             [
              0.8888888888888888,
              "#fdca26"
             ],
             [
              1,
              "#f0f921"
             ]
            ],
            "type": "heatmapgl"
           }
          ],
          "histogram": [
           {
            "marker": {
             "pattern": {
              "fillmode": "overlay",
              "size": 10,
              "solidity": 0.2
             }
            },
            "type": "histogram"
           }
          ],
          "histogram2d": [
           {
            "colorbar": {
             "outlinewidth": 0,
             "ticks": ""
            },
            "colorscale": [
             [
              0,
              "#0d0887"
             ],
             [
              0.1111111111111111,
              "#46039f"
             ],
             [
              0.2222222222222222,
              "#7201a8"
             ],
             [
              0.3333333333333333,
              "#9c179e"
             ],
             [
              0.4444444444444444,
              "#bd3786"
             ],
             [
              0.5555555555555556,
              "#d8576b"
             ],
             [
              0.6666666666666666,
              "#ed7953"
             ],
             [
              0.7777777777777778,
              "#fb9f3a"
             ],
             [
              0.8888888888888888,
              "#fdca26"
             ],
             [
              1,
              "#f0f921"
             ]
            ],
            "type": "histogram2d"
           }
          ],
          "histogram2dcontour": [
           {
            "colorbar": {
             "outlinewidth": 0,
             "ticks": ""
            },
            "colorscale": [
             [
              0,
              "#0d0887"
             ],
             [
              0.1111111111111111,
              "#46039f"
             ],
             [
              0.2222222222222222,
              "#7201a8"
             ],
             [
              0.3333333333333333,
              "#9c179e"
             ],
             [
              0.4444444444444444,
              "#bd3786"
             ],
             [
              0.5555555555555556,
              "#d8576b"
             ],
             [
              0.6666666666666666,
              "#ed7953"
             ],
             [
              0.7777777777777778,
              "#fb9f3a"
             ],
             [
              0.8888888888888888,
              "#fdca26"
             ],
             [
              1,
              "#f0f921"
             ]
            ],
            "type": "histogram2dcontour"
           }
          ],
          "mesh3d": [
           {
            "colorbar": {
             "outlinewidth": 0,
             "ticks": ""
            },
            "type": "mesh3d"
           }
          ],
          "parcoords": [
           {
            "line": {
             "colorbar": {
              "outlinewidth": 0,
              "ticks": ""
             }
            },
            "type": "parcoords"
           }
          ],
          "pie": [
           {
            "automargin": true,
            "type": "pie"
           }
          ],
          "scatter": [
           {
            "fillpattern": {
             "fillmode": "overlay",
             "size": 10,
             "solidity": 0.2
            },
            "type": "scatter"
           }
          ],
          "scatter3d": [
           {
            "line": {
             "colorbar": {
              "outlinewidth": 0,
              "ticks": ""
             }
            },
            "marker": {
             "colorbar": {
              "outlinewidth": 0,
              "ticks": ""
             }
            },
            "type": "scatter3d"
           }
          ],
          "scattercarpet": [
           {
            "marker": {
             "colorbar": {
              "outlinewidth": 0,
              "ticks": ""
             }
            },
            "type": "scattercarpet"
           }
          ],
          "scattergeo": [
           {
            "marker": {
             "colorbar": {
              "outlinewidth": 0,
              "ticks": ""
             }
            },
            "type": "scattergeo"
           }
          ],
          "scattergl": [
           {
            "marker": {
             "colorbar": {
              "outlinewidth": 0,
              "ticks": ""
             }
            },
            "type": "scattergl"
           }
          ],
          "scattermapbox": [
           {
            "marker": {
             "colorbar": {
              "outlinewidth": 0,
              "ticks": ""
             }
            },
            "type": "scattermapbox"
           }
          ],
          "scatterpolar": [
           {
            "marker": {
             "colorbar": {
              "outlinewidth": 0,
              "ticks": ""
             }
            },
            "type": "scatterpolar"
           }
          ],
          "scatterpolargl": [
           {
            "marker": {
             "colorbar": {
              "outlinewidth": 0,
              "ticks": ""
             }
            },
            "type": "scatterpolargl"
           }
          ],
          "scatterternary": [
           {
            "marker": {
             "colorbar": {
              "outlinewidth": 0,
              "ticks": ""
             }
            },
            "type": "scatterternary"
           }
          ],
          "surface": [
           {
            "colorbar": {
             "outlinewidth": 0,
             "ticks": ""
            },
            "colorscale": [
             [
              0,
              "#0d0887"
             ],
             [
              0.1111111111111111,
              "#46039f"
             ],
             [
              0.2222222222222222,
              "#7201a8"
             ],
             [
              0.3333333333333333,
              "#9c179e"
             ],
             [
              0.4444444444444444,
              "#bd3786"
             ],
             [
              0.5555555555555556,
              "#d8576b"
             ],
             [
              0.6666666666666666,
              "#ed7953"
             ],
             [
              0.7777777777777778,
              "#fb9f3a"
             ],
             [
              0.8888888888888888,
              "#fdca26"
             ],
             [
              1,
              "#f0f921"
             ]
            ],
            "type": "surface"
           }
          ],
          "table": [
           {
            "cells": {
             "fill": {
              "color": "#EBF0F8"
             },
             "line": {
              "color": "white"
             }
            },
            "header": {
             "fill": {
              "color": "#C8D4E3"
             },
             "line": {
              "color": "white"
             }
            },
            "type": "table"
           }
          ]
         },
         "layout": {
          "annotationdefaults": {
           "arrowcolor": "#2a3f5f",
           "arrowhead": 0,
           "arrowwidth": 1
          },
          "autotypenumbers": "strict",
          "coloraxis": {
           "colorbar": {
            "outlinewidth": 0,
            "ticks": ""
           }
          },
          "colorscale": {
           "diverging": [
            [
             0,
             "#8e0152"
            ],
            [
             0.1,
             "#c51b7d"
            ],
            [
             0.2,
             "#de77ae"
            ],
            [
             0.3,
             "#f1b6da"
            ],
            [
             0.4,
             "#fde0ef"
            ],
            [
             0.5,
             "#f7f7f7"
            ],
            [
             0.6,
             "#e6f5d0"
            ],
            [
             0.7,
             "#b8e186"
            ],
            [
             0.8,
             "#7fbc41"
            ],
            [
             0.9,
             "#4d9221"
            ],
            [
             1,
             "#276419"
            ]
           ],
           "sequential": [
            [
             0,
             "#0d0887"
            ],
            [
             0.1111111111111111,
             "#46039f"
            ],
            [
             0.2222222222222222,
             "#7201a8"
            ],
            [
             0.3333333333333333,
             "#9c179e"
            ],
            [
             0.4444444444444444,
             "#bd3786"
            ],
            [
             0.5555555555555556,
             "#d8576b"
            ],
            [
             0.6666666666666666,
             "#ed7953"
            ],
            [
             0.7777777777777778,
             "#fb9f3a"
            ],
            [
             0.8888888888888888,
             "#fdca26"
            ],
            [
             1,
             "#f0f921"
            ]
           ],
           "sequentialminus": [
            [
             0,
             "#0d0887"
            ],
            [
             0.1111111111111111,
             "#46039f"
            ],
            [
             0.2222222222222222,
             "#7201a8"
            ],
            [
             0.3333333333333333,
             "#9c179e"
            ],
            [
             0.4444444444444444,
             "#bd3786"
            ],
            [
             0.5555555555555556,
             "#d8576b"
            ],
            [
             0.6666666666666666,
             "#ed7953"
            ],
            [
             0.7777777777777778,
             "#fb9f3a"
            ],
            [
             0.8888888888888888,
             "#fdca26"
            ],
            [
             1,
             "#f0f921"
            ]
           ]
          },
          "colorway": [
           "#636efa",
           "#EF553B",
           "#00cc96",
           "#ab63fa",
           "#FFA15A",
           "#19d3f3",
           "#FF6692",
           "#B6E880",
           "#FF97FF",
           "#FECB52"
          ],
          "font": {
           "color": "#2a3f5f"
          },
          "geo": {
           "bgcolor": "white",
           "lakecolor": "white",
           "landcolor": "#E5ECF6",
           "showlakes": true,
           "showland": true,
           "subunitcolor": "white"
          },
          "hoverlabel": {
           "align": "left"
          },
          "hovermode": "closest",
          "mapbox": {
           "style": "light"
          },
          "paper_bgcolor": "white",
          "plot_bgcolor": "#E5ECF6",
          "polar": {
           "angularaxis": {
            "gridcolor": "white",
            "linecolor": "white",
            "ticks": ""
           },
           "bgcolor": "#E5ECF6",
           "radialaxis": {
            "gridcolor": "white",
            "linecolor": "white",
            "ticks": ""
           }
          },
          "scene": {
           "xaxis": {
            "backgroundcolor": "#E5ECF6",
            "gridcolor": "white",
            "gridwidth": 2,
            "linecolor": "white",
            "showbackground": true,
            "ticks": "",
            "zerolinecolor": "white"
           },
           "yaxis": {
            "backgroundcolor": "#E5ECF6",
            "gridcolor": "white",
            "gridwidth": 2,
            "linecolor": "white",
            "showbackground": true,
            "ticks": "",
            "zerolinecolor": "white"
           },
           "zaxis": {
            "backgroundcolor": "#E5ECF6",
            "gridcolor": "white",
            "gridwidth": 2,
            "linecolor": "white",
            "showbackground": true,
            "ticks": "",
            "zerolinecolor": "white"
           }
          },
          "shapedefaults": {
           "line": {
            "color": "#2a3f5f"
           }
          },
          "ternary": {
           "aaxis": {
            "gridcolor": "white",
            "linecolor": "white",
            "ticks": ""
           },
           "baxis": {
            "gridcolor": "white",
            "linecolor": "white",
            "ticks": ""
           },
           "bgcolor": "#E5ECF6",
           "caxis": {
            "gridcolor": "white",
            "linecolor": "white",
            "ticks": ""
           }
          },
          "title": {
           "x": 0.05
          },
          "xaxis": {
           "automargin": true,
           "gridcolor": "white",
           "linecolor": "white",
           "ticks": "",
           "title": {
            "standoff": 15
           },
           "zerolinecolor": "white",
           "zerolinewidth": 2
          },
          "yaxis": {
           "automargin": true,
           "gridcolor": "white",
           "linecolor": "white",
           "ticks": "",
           "title": {
            "standoff": 15
           },
           "zerolinecolor": "white",
           "zerolinewidth": 2
          }
         }
        },
        "title": {
         "text": "Reasons to own business for industry: Retail trade"
        },
        "xaxis": {
         "anchor": "y",
         "domain": [
          0,
          1
         ],
         "title": {
          "text": "Industry Name"
         }
        },
        "yaxis": {
         "anchor": "x",
         "domain": [
          0,
          1
         ],
         "title": {
          "text": "Number of Business Owners"
         }
        }
       }
      }
     },
     "metadata": {},
     "output_type": "display_data"
    },
    {
     "data": {
      "application/vnd.plotly.v1+json": {
       "config": {
        "plotlyServerURL": "https://plot.ly"
       },
       "data": [
        {
         "alignmentgroup": "True",
         "hovertemplate": "Reason for owning business=Greater income<br>Industry Name=%{x}<br>Number of Business Owners=%{y}<extra></extra>",
         "legendgroup": "Greater income",
         "marker": {
          "color": "#636efa",
          "pattern": {
           "shape": ""
          }
         },
         "name": "Greater income",
         "offsetgroup": "Greater income",
         "orientation": "v",
         "showlegend": true,
         "textposition": "auto",
         "texttemplate": "%{y:.2s}",
         "type": "bar",
         "x": [
          "Transportation and warehousing"
         ],
         "xaxis": "x",
         "y": [
          71609
         ],
         "yaxis": "y"
        },
        {
         "alignmentgroup": "True",
         "hovertemplate": "Reason for owning business=Wanted to be my own boss<br>Industry Name=%{x}<br>Number of Business Owners=%{y}<extra></extra>",
         "legendgroup": "Wanted to be my own boss",
         "marker": {
          "color": "#EF553B",
          "pattern": {
           "shape": ""
          }
         },
         "name": "Wanted to be my own boss",
         "offsetgroup": "Wanted to be my own boss",
         "orientation": "v",
         "showlegend": true,
         "textposition": "auto",
         "texttemplate": "%{y:.2s}",
         "type": "bar",
         "x": [
          "Transportation and warehousing"
         ],
         "xaxis": "x",
         "y": [
          67425
         ],
         "yaxis": "y"
        },
        {
         "alignmentgroup": "True",
         "hovertemplate": "Reason for owning business=Balance work and family<br>Industry Name=%{x}<br>Number of Business Owners=%{y}<extra></extra>",
         "legendgroup": "Balance work and family",
         "marker": {
          "color": "#00cc96",
          "pattern": {
           "shape": ""
          }
         },
         "name": "Balance work and family",
         "offsetgroup": "Balance work and family",
         "orientation": "v",
         "showlegend": true,
         "textposition": "auto",
         "texttemplate": "%{y:.2s}",
         "type": "bar",
         "x": [
          "Transportation and warehousing"
         ],
         "xaxis": "x",
         "y": [
          60457
         ],
         "yaxis": "y"
        },
        {
         "alignmentgroup": "True",
         "hovertemplate": "Reason for owning business=Flexible hours<br>Industry Name=%{x}<br>Number of Business Owners=%{y}<extra></extra>",
         "legendgroup": "Flexible hours",
         "marker": {
          "color": "#ab63fa",
          "pattern": {
           "shape": ""
          }
         },
         "name": "Flexible hours",
         "offsetgroup": "Flexible hours",
         "orientation": "v",
         "showlegend": true,
         "textposition": "auto",
         "texttemplate": "%{y:.2s}",
         "type": "bar",
         "x": [
          "Transportation and warehousing"
         ],
         "xaxis": "x",
         "y": [
          56507
         ],
         "yaxis": "y"
        },
        {
         "alignmentgroup": "True",
         "hovertemplate": "Reason for owning business=Best avenue for ideas<br>Industry Name=%{x}<br>Number of Business Owners=%{y}<extra></extra>",
         "legendgroup": "Best avenue for ideas",
         "marker": {
          "color": "#FFA15A",
          "pattern": {
           "shape": ""
          }
         },
         "name": "Best avenue for ideas",
         "offsetgroup": "Best avenue for ideas",
         "orientation": "v",
         "showlegend": true,
         "textposition": "auto",
         "texttemplate": "%{y:.2s}",
         "type": "bar",
         "x": [
          "Transportation and warehousing"
         ],
         "xaxis": "x",
         "y": [
          55670
         ],
         "yaxis": "y"
        },
        {
         "alignmentgroup": "True",
         "hovertemplate": "Reason for owning business=Start my own business<br>Industry Name=%{x}<br>Number of Business Owners=%{y}<extra></extra>",
         "legendgroup": "Start my own business",
         "marker": {
          "color": "#19d3f3",
          "pattern": {
           "shape": ""
          }
         },
         "name": "Start my own business",
         "offsetgroup": "Start my own business",
         "orientation": "v",
         "showlegend": true,
         "textposition": "auto",
         "texttemplate": "%{y:.2s}",
         "type": "bar",
         "x": [
          "Transportation and warehousing"
         ],
         "xaxis": "x",
         "y": [
          53086
         ],
         "yaxis": "y"
        },
        {
         "alignmentgroup": "True",
         "hovertemplate": "Reason for owning business=Work for self<br>Industry Name=%{x}<br>Number of Business Owners=%{y}<extra></extra>",
         "legendgroup": "Work for self",
         "marker": {
          "color": "#FF6692",
          "pattern": {
           "shape": ""
          }
         },
         "name": "Work for self",
         "offsetgroup": "Work for self",
         "orientation": "v",
         "showlegend": true,
         "textposition": "auto",
         "texttemplate": "%{y:.2s}",
         "type": "bar",
         "x": [
          "Transportation and warehousing"
         ],
         "xaxis": "x",
         "y": [
          35851
         ],
         "yaxis": "y"
        },
        {
         "alignmentgroup": "True",
         "hovertemplate": "Reason for owning business=Friend or family role model<br>Industry Name=%{x}<br>Number of Business Owners=%{y}<extra></extra>",
         "legendgroup": "Friend or family role model",
         "marker": {
          "color": "#B6E880",
          "pattern": {
           "shape": ""
          }
         },
         "name": "Friend or family role model",
         "offsetgroup": "Friend or family role model",
         "orientation": "v",
         "showlegend": true,
         "textposition": "auto",
         "texttemplate": "%{y:.2s}",
         "type": "bar",
         "x": [
          "Transportation and warehousing"
         ],
         "xaxis": "x",
         "y": [
          33386
         ],
         "yaxis": "y"
        },
        {
         "alignmentgroup": "True",
         "hovertemplate": "Reason for owning business=Carry on family business<br>Industry Name=%{x}<br>Number of Business Owners=%{y}<extra></extra>",
         "legendgroup": "Carry on family business",
         "marker": {
          "color": "#FF97FF",
          "pattern": {
           "shape": ""
          }
         },
         "name": "Carry on family business",
         "offsetgroup": "Carry on family business",
         "orientation": "v",
         "showlegend": true,
         "textposition": "auto",
         "texttemplate": "%{y:.2s}",
         "type": "bar",
         "x": [
          "Transportation and warehousing"
         ],
         "xaxis": "x",
         "y": [
          25816
         ],
         "yaxis": "y"
        },
        {
         "alignmentgroup": "True",
         "hovertemplate": "Reason for owning business=Help my community<br>Industry Name=%{x}<br>Number of Business Owners=%{y}<extra></extra>",
         "legendgroup": "Help my community",
         "marker": {
          "color": "#FECB52",
          "pattern": {
           "shape": ""
          }
         },
         "name": "Help my community",
         "offsetgroup": "Help my community",
         "orientation": "v",
         "showlegend": true,
         "textposition": "auto",
         "texttemplate": "%{y:.2s}",
         "type": "bar",
         "x": [
          "Transportation and warehousing"
         ],
         "xaxis": "x",
         "y": [
          21695
         ],
         "yaxis": "y"
        },
        {
         "alignmentgroup": "True",
         "hovertemplate": "Reason for owning business=Couldn't find a job<br>Industry Name=%{x}<br>Number of Business Owners=%{y}<extra></extra>",
         "legendgroup": "Couldn't find a job",
         "marker": {
          "color": "#636efa",
          "pattern": {
           "shape": ""
          }
         },
         "name": "Couldn't find a job",
         "offsetgroup": "Couldn't find a job",
         "orientation": "v",
         "showlegend": true,
         "textposition": "auto",
         "texttemplate": "%{y:.2s}",
         "type": "bar",
         "x": [
          "Transportation and warehousing"
         ],
         "xaxis": "x",
         "y": [
          10177
         ],
         "yaxis": "y"
        },
        {
         "alignmentgroup": "True",
         "hovertemplate": "Reason for owning business=Other<br>Industry Name=%{x}<br>Number of Business Owners=%{y}<extra></extra>",
         "legendgroup": "Other",
         "marker": {
          "color": "#EF553B",
          "pattern": {
           "shape": ""
          }
         },
         "name": "Other",
         "offsetgroup": "Other",
         "orientation": "v",
         "showlegend": true,
         "textposition": "auto",
         "texttemplate": "%{y:.2s}",
         "type": "bar",
         "x": [
          "Transportation and warehousing"
         ],
         "xaxis": "x",
         "y": [
          10091
         ],
         "yaxis": "y"
        }
       ],
       "layout": {
        "barmode": "group",
        "legend": {
         "title": {
          "text": "Reason for owning business"
         },
         "tracegroupgap": 0
        },
        "template": {
         "data": {
          "bar": [
           {
            "error_x": {
             "color": "#2a3f5f"
            },
            "error_y": {
             "color": "#2a3f5f"
            },
            "marker": {
             "line": {
              "color": "#E5ECF6",
              "width": 0.5
             },
             "pattern": {
              "fillmode": "overlay",
              "size": 10,
              "solidity": 0.2
             }
            },
            "type": "bar"
           }
          ],
          "barpolar": [
           {
            "marker": {
             "line": {
              "color": "#E5ECF6",
              "width": 0.5
             },
             "pattern": {
              "fillmode": "overlay",
              "size": 10,
              "solidity": 0.2
             }
            },
            "type": "barpolar"
           }
          ],
          "carpet": [
           {
            "aaxis": {
             "endlinecolor": "#2a3f5f",
             "gridcolor": "white",
             "linecolor": "white",
             "minorgridcolor": "white",
             "startlinecolor": "#2a3f5f"
            },
            "baxis": {
             "endlinecolor": "#2a3f5f",
             "gridcolor": "white",
             "linecolor": "white",
             "minorgridcolor": "white",
             "startlinecolor": "#2a3f5f"
            },
            "type": "carpet"
           }
          ],
          "choropleth": [
           {
            "colorbar": {
             "outlinewidth": 0,
             "ticks": ""
            },
            "type": "choropleth"
           }
          ],
          "contour": [
           {
            "colorbar": {
             "outlinewidth": 0,
             "ticks": ""
            },
            "colorscale": [
             [
              0,
              "#0d0887"
             ],
             [
              0.1111111111111111,
              "#46039f"
             ],
             [
              0.2222222222222222,
              "#7201a8"
             ],
             [
              0.3333333333333333,
              "#9c179e"
             ],
             [
              0.4444444444444444,
              "#bd3786"
             ],
             [
              0.5555555555555556,
              "#d8576b"
             ],
             [
              0.6666666666666666,
              "#ed7953"
             ],
             [
              0.7777777777777778,
              "#fb9f3a"
             ],
             [
              0.8888888888888888,
              "#fdca26"
             ],
             [
              1,
              "#f0f921"
             ]
            ],
            "type": "contour"
           }
          ],
          "contourcarpet": [
           {
            "colorbar": {
             "outlinewidth": 0,
             "ticks": ""
            },
            "type": "contourcarpet"
           }
          ],
          "heatmap": [
           {
            "colorbar": {
             "outlinewidth": 0,
             "ticks": ""
            },
            "colorscale": [
             [
              0,
              "#0d0887"
             ],
             [
              0.1111111111111111,
              "#46039f"
             ],
             [
              0.2222222222222222,
              "#7201a8"
             ],
             [
              0.3333333333333333,
              "#9c179e"
             ],
             [
              0.4444444444444444,
              "#bd3786"
             ],
             [
              0.5555555555555556,
              "#d8576b"
             ],
             [
              0.6666666666666666,
              "#ed7953"
             ],
             [
              0.7777777777777778,
              "#fb9f3a"
             ],
             [
              0.8888888888888888,
              "#fdca26"
             ],
             [
              1,
              "#f0f921"
             ]
            ],
            "type": "heatmap"
           }
          ],
          "heatmapgl": [
           {
            "colorbar": {
             "outlinewidth": 0,
             "ticks": ""
            },
            "colorscale": [
             [
              0,
              "#0d0887"
             ],
             [
              0.1111111111111111,
              "#46039f"
             ],
             [
              0.2222222222222222,
              "#7201a8"
             ],
             [
              0.3333333333333333,
              "#9c179e"
             ],
             [
              0.4444444444444444,
              "#bd3786"
             ],
             [
              0.5555555555555556,
              "#d8576b"
             ],
             [
              0.6666666666666666,
              "#ed7953"
             ],
             [
              0.7777777777777778,
              "#fb9f3a"
             ],
             [
              0.8888888888888888,
              "#fdca26"
             ],
             [
              1,
              "#f0f921"
             ]
            ],
            "type": "heatmapgl"
           }
          ],
          "histogram": [
           {
            "marker": {
             "pattern": {
              "fillmode": "overlay",
              "size": 10,
              "solidity": 0.2
             }
            },
            "type": "histogram"
           }
          ],
          "histogram2d": [
           {
            "colorbar": {
             "outlinewidth": 0,
             "ticks": ""
            },
            "colorscale": [
             [
              0,
              "#0d0887"
             ],
             [
              0.1111111111111111,
              "#46039f"
             ],
             [
              0.2222222222222222,
              "#7201a8"
             ],
             [
              0.3333333333333333,
              "#9c179e"
             ],
             [
              0.4444444444444444,
              "#bd3786"
             ],
             [
              0.5555555555555556,
              "#d8576b"
             ],
             [
              0.6666666666666666,
              "#ed7953"
             ],
             [
              0.7777777777777778,
              "#fb9f3a"
             ],
             [
              0.8888888888888888,
              "#fdca26"
             ],
             [
              1,
              "#f0f921"
             ]
            ],
            "type": "histogram2d"
           }
          ],
          "histogram2dcontour": [
           {
            "colorbar": {
             "outlinewidth": 0,
             "ticks": ""
            },
            "colorscale": [
             [
              0,
              "#0d0887"
             ],
             [
              0.1111111111111111,
              "#46039f"
             ],
             [
              0.2222222222222222,
              "#7201a8"
             ],
             [
              0.3333333333333333,
              "#9c179e"
             ],
             [
              0.4444444444444444,
              "#bd3786"
             ],
             [
              0.5555555555555556,
              "#d8576b"
             ],
             [
              0.6666666666666666,
              "#ed7953"
             ],
             [
              0.7777777777777778,
              "#fb9f3a"
             ],
             [
              0.8888888888888888,
              "#fdca26"
             ],
             [
              1,
              "#f0f921"
             ]
            ],
            "type": "histogram2dcontour"
           }
          ],
          "mesh3d": [
           {
            "colorbar": {
             "outlinewidth": 0,
             "ticks": ""
            },
            "type": "mesh3d"
           }
          ],
          "parcoords": [
           {
            "line": {
             "colorbar": {
              "outlinewidth": 0,
              "ticks": ""
             }
            },
            "type": "parcoords"
           }
          ],
          "pie": [
           {
            "automargin": true,
            "type": "pie"
           }
          ],
          "scatter": [
           {
            "fillpattern": {
             "fillmode": "overlay",
             "size": 10,
             "solidity": 0.2
            },
            "type": "scatter"
           }
          ],
          "scatter3d": [
           {
            "line": {
             "colorbar": {
              "outlinewidth": 0,
              "ticks": ""
             }
            },
            "marker": {
             "colorbar": {
              "outlinewidth": 0,
              "ticks": ""
             }
            },
            "type": "scatter3d"
           }
          ],
          "scattercarpet": [
           {
            "marker": {
             "colorbar": {
              "outlinewidth": 0,
              "ticks": ""
             }
            },
            "type": "scattercarpet"
           }
          ],
          "scattergeo": [
           {
            "marker": {
             "colorbar": {
              "outlinewidth": 0,
              "ticks": ""
             }
            },
            "type": "scattergeo"
           }
          ],
          "scattergl": [
           {
            "marker": {
             "colorbar": {
              "outlinewidth": 0,
              "ticks": ""
             }
            },
            "type": "scattergl"
           }
          ],
          "scattermapbox": [
           {
            "marker": {
             "colorbar": {
              "outlinewidth": 0,
              "ticks": ""
             }
            },
            "type": "scattermapbox"
           }
          ],
          "scatterpolar": [
           {
            "marker": {
             "colorbar": {
              "outlinewidth": 0,
              "ticks": ""
             }
            },
            "type": "scatterpolar"
           }
          ],
          "scatterpolargl": [
           {
            "marker": {
             "colorbar": {
              "outlinewidth": 0,
              "ticks": ""
             }
            },
            "type": "scatterpolargl"
           }
          ],
          "scatterternary": [
           {
            "marker": {
             "colorbar": {
              "outlinewidth": 0,
              "ticks": ""
             }
            },
            "type": "scatterternary"
           }
          ],
          "surface": [
           {
            "colorbar": {
             "outlinewidth": 0,
             "ticks": ""
            },
            "colorscale": [
             [
              0,
              "#0d0887"
             ],
             [
              0.1111111111111111,
              "#46039f"
             ],
             [
              0.2222222222222222,
              "#7201a8"
             ],
             [
              0.3333333333333333,
              "#9c179e"
             ],
             [
              0.4444444444444444,
              "#bd3786"
             ],
             [
              0.5555555555555556,
              "#d8576b"
             ],
             [
              0.6666666666666666,
              "#ed7953"
             ],
             [
              0.7777777777777778,
              "#fb9f3a"
             ],
             [
              0.8888888888888888,
              "#fdca26"
             ],
             [
              1,
              "#f0f921"
             ]
            ],
            "type": "surface"
           }
          ],
          "table": [
           {
            "cells": {
             "fill": {
              "color": "#EBF0F8"
             },
             "line": {
              "color": "white"
             }
            },
            "header": {
             "fill": {
              "color": "#C8D4E3"
             },
             "line": {
              "color": "white"
             }
            },
            "type": "table"
           }
          ]
         },
         "layout": {
          "annotationdefaults": {
           "arrowcolor": "#2a3f5f",
           "arrowhead": 0,
           "arrowwidth": 1
          },
          "autotypenumbers": "strict",
          "coloraxis": {
           "colorbar": {
            "outlinewidth": 0,
            "ticks": ""
           }
          },
          "colorscale": {
           "diverging": [
            [
             0,
             "#8e0152"
            ],
            [
             0.1,
             "#c51b7d"
            ],
            [
             0.2,
             "#de77ae"
            ],
            [
             0.3,
             "#f1b6da"
            ],
            [
             0.4,
             "#fde0ef"
            ],
            [
             0.5,
             "#f7f7f7"
            ],
            [
             0.6,
             "#e6f5d0"
            ],
            [
             0.7,
             "#b8e186"
            ],
            [
             0.8,
             "#7fbc41"
            ],
            [
             0.9,
             "#4d9221"
            ],
            [
             1,
             "#276419"
            ]
           ],
           "sequential": [
            [
             0,
             "#0d0887"
            ],
            [
             0.1111111111111111,
             "#46039f"
            ],
            [
             0.2222222222222222,
             "#7201a8"
            ],
            [
             0.3333333333333333,
             "#9c179e"
            ],
            [
             0.4444444444444444,
             "#bd3786"
            ],
            [
             0.5555555555555556,
             "#d8576b"
            ],
            [
             0.6666666666666666,
             "#ed7953"
            ],
            [
             0.7777777777777778,
             "#fb9f3a"
            ],
            [
             0.8888888888888888,
             "#fdca26"
            ],
            [
             1,
             "#f0f921"
            ]
           ],
           "sequentialminus": [
            [
             0,
             "#0d0887"
            ],
            [
             0.1111111111111111,
             "#46039f"
            ],
            [
             0.2222222222222222,
             "#7201a8"
            ],
            [
             0.3333333333333333,
             "#9c179e"
            ],
            [
             0.4444444444444444,
             "#bd3786"
            ],
            [
             0.5555555555555556,
             "#d8576b"
            ],
            [
             0.6666666666666666,
             "#ed7953"
            ],
            [
             0.7777777777777778,
             "#fb9f3a"
            ],
            [
             0.8888888888888888,
             "#fdca26"
            ],
            [
             1,
             "#f0f921"
            ]
           ]
          },
          "colorway": [
           "#636efa",
           "#EF553B",
           "#00cc96",
           "#ab63fa",
           "#FFA15A",
           "#19d3f3",
           "#FF6692",
           "#B6E880",
           "#FF97FF",
           "#FECB52"
          ],
          "font": {
           "color": "#2a3f5f"
          },
          "geo": {
           "bgcolor": "white",
           "lakecolor": "white",
           "landcolor": "#E5ECF6",
           "showlakes": true,
           "showland": true,
           "subunitcolor": "white"
          },
          "hoverlabel": {
           "align": "left"
          },
          "hovermode": "closest",
          "mapbox": {
           "style": "light"
          },
          "paper_bgcolor": "white",
          "plot_bgcolor": "#E5ECF6",
          "polar": {
           "angularaxis": {
            "gridcolor": "white",
            "linecolor": "white",
            "ticks": ""
           },
           "bgcolor": "#E5ECF6",
           "radialaxis": {
            "gridcolor": "white",
            "linecolor": "white",
            "ticks": ""
           }
          },
          "scene": {
           "xaxis": {
            "backgroundcolor": "#E5ECF6",
            "gridcolor": "white",
            "gridwidth": 2,
            "linecolor": "white",
            "showbackground": true,
            "ticks": "",
            "zerolinecolor": "white"
           },
           "yaxis": {
            "backgroundcolor": "#E5ECF6",
            "gridcolor": "white",
            "gridwidth": 2,
            "linecolor": "white",
            "showbackground": true,
            "ticks": "",
            "zerolinecolor": "white"
           },
           "zaxis": {
            "backgroundcolor": "#E5ECF6",
            "gridcolor": "white",
            "gridwidth": 2,
            "linecolor": "white",
            "showbackground": true,
            "ticks": "",
            "zerolinecolor": "white"
           }
          },
          "shapedefaults": {
           "line": {
            "color": "#2a3f5f"
           }
          },
          "ternary": {
           "aaxis": {
            "gridcolor": "white",
            "linecolor": "white",
            "ticks": ""
           },
           "baxis": {
            "gridcolor": "white",
            "linecolor": "white",
            "ticks": ""
           },
           "bgcolor": "#E5ECF6",
           "caxis": {
            "gridcolor": "white",
            "linecolor": "white",
            "ticks": ""
           }
          },
          "title": {
           "x": 0.05
          },
          "xaxis": {
           "automargin": true,
           "gridcolor": "white",
           "linecolor": "white",
           "ticks": "",
           "title": {
            "standoff": 15
           },
           "zerolinecolor": "white",
           "zerolinewidth": 2
          },
          "yaxis": {
           "automargin": true,
           "gridcolor": "white",
           "linecolor": "white",
           "ticks": "",
           "title": {
            "standoff": 15
           },
           "zerolinecolor": "white",
           "zerolinewidth": 2
          }
         }
        },
        "title": {
         "text": "Reasons to own business for industry: Transportation and warehousing"
        },
        "xaxis": {
         "anchor": "y",
         "domain": [
          0,
          1
         ],
         "title": {
          "text": "Industry Name"
         }
        },
        "yaxis": {
         "anchor": "x",
         "domain": [
          0,
          1
         ],
         "title": {
          "text": "Number of Business Owners"
         }
        }
       }
      }
     },
     "metadata": {},
     "output_type": "display_data"
    },
    {
     "data": {
      "application/vnd.plotly.v1+json": {
       "config": {
        "plotlyServerURL": "https://plot.ly"
       },
       "data": [
        {
         "alignmentgroup": "True",
         "hovertemplate": "Reason for owning business=Greater income<br>Industry Name=%{x}<br>Number of Business Owners=%{y}<extra></extra>",
         "legendgroup": "Greater income",
         "marker": {
          "color": "#636efa",
          "pattern": {
           "shape": ""
          }
         },
         "name": "Greater income",
         "offsetgroup": "Greater income",
         "orientation": "v",
         "showlegend": true,
         "textposition": "auto",
         "texttemplate": "%{y:.2s}",
         "type": "bar",
         "x": [
          "Utilities"
         ],
         "xaxis": "x",
         "y": [
          1000
         ],
         "yaxis": "y"
        },
        {
         "alignmentgroup": "True",
         "hovertemplate": "Reason for owning business=Wanted to be my own boss<br>Industry Name=%{x}<br>Number of Business Owners=%{y}<extra></extra>",
         "legendgroup": "Wanted to be my own boss",
         "marker": {
          "color": "#EF553B",
          "pattern": {
           "shape": ""
          }
         },
         "name": "Wanted to be my own boss",
         "offsetgroup": "Wanted to be my own boss",
         "orientation": "v",
         "showlegend": true,
         "textposition": "auto",
         "texttemplate": "%{y:.2s}",
         "type": "bar",
         "x": [
          "Utilities"
         ],
         "xaxis": "x",
         "y": [
          979
         ],
         "yaxis": "y"
        },
        {
         "alignmentgroup": "True",
         "hovertemplate": "Reason for owning business=Balance work and family<br>Industry Name=%{x}<br>Number of Business Owners=%{y}<extra></extra>",
         "legendgroup": "Balance work and family",
         "marker": {
          "color": "#00cc96",
          "pattern": {
           "shape": ""
          }
         },
         "name": "Balance work and family",
         "offsetgroup": "Balance work and family",
         "orientation": "v",
         "showlegend": true,
         "textposition": "auto",
         "texttemplate": "%{y:.2s}",
         "type": "bar",
         "x": [
          "Utilities"
         ],
         "xaxis": "x",
         "y": [
          913
         ],
         "yaxis": "y"
        },
        {
         "alignmentgroup": "True",
         "hovertemplate": "Reason for owning business=Flexible hours<br>Industry Name=%{x}<br>Number of Business Owners=%{y}<extra></extra>",
         "legendgroup": "Flexible hours",
         "marker": {
          "color": "#ab63fa",
          "pattern": {
           "shape": ""
          }
         },
         "name": "Flexible hours",
         "offsetgroup": "Flexible hours",
         "orientation": "v",
         "showlegend": true,
         "textposition": "auto",
         "texttemplate": "%{y:.2s}",
         "type": "bar",
         "x": [
          "Utilities"
         ],
         "xaxis": "x",
         "y": [
          889
         ],
         "yaxis": "y"
        },
        {
         "alignmentgroup": "True",
         "hovertemplate": "Reason for owning business=Start my own business<br>Industry Name=%{x}<br>Number of Business Owners=%{y}<extra></extra>",
         "legendgroup": "Start my own business",
         "marker": {
          "color": "#FFA15A",
          "pattern": {
           "shape": ""
          }
         },
         "name": "Start my own business",
         "offsetgroup": "Start my own business",
         "orientation": "v",
         "showlegend": true,
         "textposition": "auto",
         "texttemplate": "%{y:.2s}",
         "type": "bar",
         "x": [
          "Utilities"
         ],
         "xaxis": "x",
         "y": [
          793
         ],
         "yaxis": "y"
        },
        {
         "alignmentgroup": "True",
         "hovertemplate": "Reason for owning business=Best avenue for ideas<br>Industry Name=%{x}<br>Number of Business Owners=%{y}<extra></extra>",
         "legendgroup": "Best avenue for ideas",
         "marker": {
          "color": "#19d3f3",
          "pattern": {
           "shape": ""
          }
         },
         "name": "Best avenue for ideas",
         "offsetgroup": "Best avenue for ideas",
         "orientation": "v",
         "showlegend": true,
         "textposition": "auto",
         "texttemplate": "%{y:.2s}",
         "type": "bar",
         "x": [
          "Utilities"
         ],
         "xaxis": "x",
         "y": [
          786
         ],
         "yaxis": "y"
        },
        {
         "alignmentgroup": "True",
         "hovertemplate": "Reason for owning business=Work for self<br>Industry Name=%{x}<br>Number of Business Owners=%{y}<extra></extra>",
         "legendgroup": "Work for self",
         "marker": {
          "color": "#FF6692",
          "pattern": {
           "shape": ""
          }
         },
         "name": "Work for self",
         "offsetgroup": "Work for self",
         "orientation": "v",
         "showlegend": true,
         "textposition": "auto",
         "texttemplate": "%{y:.2s}",
         "type": "bar",
         "x": [
          "Utilities"
         ],
         "xaxis": "x",
         "y": [
          590
         ],
         "yaxis": "y"
        },
        {
         "alignmentgroup": "True",
         "hovertemplate": "Reason for owning business=Friend or family role model<br>Industry Name=%{x}<br>Number of Business Owners=%{y}<extra></extra>",
         "legendgroup": "Friend or family role model",
         "marker": {
          "color": "#B6E880",
          "pattern": {
           "shape": ""
          }
         },
         "name": "Friend or family role model",
         "offsetgroup": "Friend or family role model",
         "orientation": "v",
         "showlegend": true,
         "textposition": "auto",
         "texttemplate": "%{y:.2s}",
         "type": "bar",
         "x": [
          "Utilities"
         ],
         "xaxis": "x",
         "y": [
          499
         ],
         "yaxis": "y"
        },
        {
         "alignmentgroup": "True",
         "hovertemplate": "Reason for owning business=Carry on family business<br>Industry Name=%{x}<br>Number of Business Owners=%{y}<extra></extra>",
         "legendgroup": "Carry on family business",
         "marker": {
          "color": "#FF97FF",
          "pattern": {
           "shape": ""
          }
         },
         "name": "Carry on family business",
         "offsetgroup": "Carry on family business",
         "orientation": "v",
         "showlegend": true,
         "textposition": "auto",
         "texttemplate": "%{y:.2s}",
         "type": "bar",
         "x": [
          "Utilities"
         ],
         "xaxis": "x",
         "y": [
          477
         ],
         "yaxis": "y"
        },
        {
         "alignmentgroup": "True",
         "hovertemplate": "Reason for owning business=Help my community<br>Industry Name=%{x}<br>Number of Business Owners=%{y}<extra></extra>",
         "legendgroup": "Help my community",
         "marker": {
          "color": "#FECB52",
          "pattern": {
           "shape": ""
          }
         },
         "name": "Help my community",
         "offsetgroup": "Help my community",
         "orientation": "v",
         "showlegend": true,
         "textposition": "auto",
         "texttemplate": "%{y:.2s}",
         "type": "bar",
         "x": [
          "Utilities"
         ],
         "xaxis": "x",
         "y": [
          329
         ],
         "yaxis": "y"
        },
        {
         "alignmentgroup": "True",
         "hovertemplate": "Reason for owning business=Other<br>Industry Name=%{x}<br>Number of Business Owners=%{y}<extra></extra>",
         "legendgroup": "Other",
         "marker": {
          "color": "#636efa",
          "pattern": {
           "shape": ""
          }
         },
         "name": "Other",
         "offsetgroup": "Other",
         "orientation": "v",
         "showlegend": true,
         "textposition": "auto",
         "texttemplate": "%{y:.2s}",
         "type": "bar",
         "x": [
          "Utilities"
         ],
         "xaxis": "x",
         "y": [
          169
         ],
         "yaxis": "y"
        },
        {
         "alignmentgroup": "True",
         "hovertemplate": "Reason for owning business=Couldn't find a job<br>Industry Name=%{x}<br>Number of Business Owners=%{y}<extra></extra>",
         "legendgroup": "Couldn't find a job",
         "marker": {
          "color": "#EF553B",
          "pattern": {
           "shape": ""
          }
         },
         "name": "Couldn't find a job",
         "offsetgroup": "Couldn't find a job",
         "orientation": "v",
         "showlegend": true,
         "textposition": "auto",
         "texttemplate": "%{y:.2s}",
         "type": "bar",
         "x": [
          "Utilities"
         ],
         "xaxis": "x",
         "y": [
          161
         ],
         "yaxis": "y"
        }
       ],
       "layout": {
        "barmode": "group",
        "legend": {
         "title": {
          "text": "Reason for owning business"
         },
         "tracegroupgap": 0
        },
        "template": {
         "data": {
          "bar": [
           {
            "error_x": {
             "color": "#2a3f5f"
            },
            "error_y": {
             "color": "#2a3f5f"
            },
            "marker": {
             "line": {
              "color": "#E5ECF6",
              "width": 0.5
             },
             "pattern": {
              "fillmode": "overlay",
              "size": 10,
              "solidity": 0.2
             }
            },
            "type": "bar"
           }
          ],
          "barpolar": [
           {
            "marker": {
             "line": {
              "color": "#E5ECF6",
              "width": 0.5
             },
             "pattern": {
              "fillmode": "overlay",
              "size": 10,
              "solidity": 0.2
             }
            },
            "type": "barpolar"
           }
          ],
          "carpet": [
           {
            "aaxis": {
             "endlinecolor": "#2a3f5f",
             "gridcolor": "white",
             "linecolor": "white",
             "minorgridcolor": "white",
             "startlinecolor": "#2a3f5f"
            },
            "baxis": {
             "endlinecolor": "#2a3f5f",
             "gridcolor": "white",
             "linecolor": "white",
             "minorgridcolor": "white",
             "startlinecolor": "#2a3f5f"
            },
            "type": "carpet"
           }
          ],
          "choropleth": [
           {
            "colorbar": {
             "outlinewidth": 0,
             "ticks": ""
            },
            "type": "choropleth"
           }
          ],
          "contour": [
           {
            "colorbar": {
             "outlinewidth": 0,
             "ticks": ""
            },
            "colorscale": [
             [
              0,
              "#0d0887"
             ],
             [
              0.1111111111111111,
              "#46039f"
             ],
             [
              0.2222222222222222,
              "#7201a8"
             ],
             [
              0.3333333333333333,
              "#9c179e"
             ],
             [
              0.4444444444444444,
              "#bd3786"
             ],
             [
              0.5555555555555556,
              "#d8576b"
             ],
             [
              0.6666666666666666,
              "#ed7953"
             ],
             [
              0.7777777777777778,
              "#fb9f3a"
             ],
             [
              0.8888888888888888,
              "#fdca26"
             ],
             [
              1,
              "#f0f921"
             ]
            ],
            "type": "contour"
           }
          ],
          "contourcarpet": [
           {
            "colorbar": {
             "outlinewidth": 0,
             "ticks": ""
            },
            "type": "contourcarpet"
           }
          ],
          "heatmap": [
           {
            "colorbar": {
             "outlinewidth": 0,
             "ticks": ""
            },
            "colorscale": [
             [
              0,
              "#0d0887"
             ],
             [
              0.1111111111111111,
              "#46039f"
             ],
             [
              0.2222222222222222,
              "#7201a8"
             ],
             [
              0.3333333333333333,
              "#9c179e"
             ],
             [
              0.4444444444444444,
              "#bd3786"
             ],
             [
              0.5555555555555556,
              "#d8576b"
             ],
             [
              0.6666666666666666,
              "#ed7953"
             ],
             [
              0.7777777777777778,
              "#fb9f3a"
             ],
             [
              0.8888888888888888,
              "#fdca26"
             ],
             [
              1,
              "#f0f921"
             ]
            ],
            "type": "heatmap"
           }
          ],
          "heatmapgl": [
           {
            "colorbar": {
             "outlinewidth": 0,
             "ticks": ""
            },
            "colorscale": [
             [
              0,
              "#0d0887"
             ],
             [
              0.1111111111111111,
              "#46039f"
             ],
             [
              0.2222222222222222,
              "#7201a8"
             ],
             [
              0.3333333333333333,
              "#9c179e"
             ],
             [
              0.4444444444444444,
              "#bd3786"
             ],
             [
              0.5555555555555556,
              "#d8576b"
             ],
             [
              0.6666666666666666,
              "#ed7953"
             ],
             [
              0.7777777777777778,
              "#fb9f3a"
             ],
             [
              0.8888888888888888,
              "#fdca26"
             ],
             [
              1,
              "#f0f921"
             ]
            ],
            "type": "heatmapgl"
           }
          ],
          "histogram": [
           {
            "marker": {
             "pattern": {
              "fillmode": "overlay",
              "size": 10,
              "solidity": 0.2
             }
            },
            "type": "histogram"
           }
          ],
          "histogram2d": [
           {
            "colorbar": {
             "outlinewidth": 0,
             "ticks": ""
            },
            "colorscale": [
             [
              0,
              "#0d0887"
             ],
             [
              0.1111111111111111,
              "#46039f"
             ],
             [
              0.2222222222222222,
              "#7201a8"
             ],
             [
              0.3333333333333333,
              "#9c179e"
             ],
             [
              0.4444444444444444,
              "#bd3786"
             ],
             [
              0.5555555555555556,
              "#d8576b"
             ],
             [
              0.6666666666666666,
              "#ed7953"
             ],
             [
              0.7777777777777778,
              "#fb9f3a"
             ],
             [
              0.8888888888888888,
              "#fdca26"
             ],
             [
              1,
              "#f0f921"
             ]
            ],
            "type": "histogram2d"
           }
          ],
          "histogram2dcontour": [
           {
            "colorbar": {
             "outlinewidth": 0,
             "ticks": ""
            },
            "colorscale": [
             [
              0,
              "#0d0887"
             ],
             [
              0.1111111111111111,
              "#46039f"
             ],
             [
              0.2222222222222222,
              "#7201a8"
             ],
             [
              0.3333333333333333,
              "#9c179e"
             ],
             [
              0.4444444444444444,
              "#bd3786"
             ],
             [
              0.5555555555555556,
              "#d8576b"
             ],
             [
              0.6666666666666666,
              "#ed7953"
             ],
             [
              0.7777777777777778,
              "#fb9f3a"
             ],
             [
              0.8888888888888888,
              "#fdca26"
             ],
             [
              1,
              "#f0f921"
             ]
            ],
            "type": "histogram2dcontour"
           }
          ],
          "mesh3d": [
           {
            "colorbar": {
             "outlinewidth": 0,
             "ticks": ""
            },
            "type": "mesh3d"
           }
          ],
          "parcoords": [
           {
            "line": {
             "colorbar": {
              "outlinewidth": 0,
              "ticks": ""
             }
            },
            "type": "parcoords"
           }
          ],
          "pie": [
           {
            "automargin": true,
            "type": "pie"
           }
          ],
          "scatter": [
           {
            "fillpattern": {
             "fillmode": "overlay",
             "size": 10,
             "solidity": 0.2
            },
            "type": "scatter"
           }
          ],
          "scatter3d": [
           {
            "line": {
             "colorbar": {
              "outlinewidth": 0,
              "ticks": ""
             }
            },
            "marker": {
             "colorbar": {
              "outlinewidth": 0,
              "ticks": ""
             }
            },
            "type": "scatter3d"
           }
          ],
          "scattercarpet": [
           {
            "marker": {
             "colorbar": {
              "outlinewidth": 0,
              "ticks": ""
             }
            },
            "type": "scattercarpet"
           }
          ],
          "scattergeo": [
           {
            "marker": {
             "colorbar": {
              "outlinewidth": 0,
              "ticks": ""
             }
            },
            "type": "scattergeo"
           }
          ],
          "scattergl": [
           {
            "marker": {
             "colorbar": {
              "outlinewidth": 0,
              "ticks": ""
             }
            },
            "type": "scattergl"
           }
          ],
          "scattermapbox": [
           {
            "marker": {
             "colorbar": {
              "outlinewidth": 0,
              "ticks": ""
             }
            },
            "type": "scattermapbox"
           }
          ],
          "scatterpolar": [
           {
            "marker": {
             "colorbar": {
              "outlinewidth": 0,
              "ticks": ""
             }
            },
            "type": "scatterpolar"
           }
          ],
          "scatterpolargl": [
           {
            "marker": {
             "colorbar": {
              "outlinewidth": 0,
              "ticks": ""
             }
            },
            "type": "scatterpolargl"
           }
          ],
          "scatterternary": [
           {
            "marker": {
             "colorbar": {
              "outlinewidth": 0,
              "ticks": ""
             }
            },
            "type": "scatterternary"
           }
          ],
          "surface": [
           {
            "colorbar": {
             "outlinewidth": 0,
             "ticks": ""
            },
            "colorscale": [
             [
              0,
              "#0d0887"
             ],
             [
              0.1111111111111111,
              "#46039f"
             ],
             [
              0.2222222222222222,
              "#7201a8"
             ],
             [
              0.3333333333333333,
              "#9c179e"
             ],
             [
              0.4444444444444444,
              "#bd3786"
             ],
             [
              0.5555555555555556,
              "#d8576b"
             ],
             [
              0.6666666666666666,
              "#ed7953"
             ],
             [
              0.7777777777777778,
              "#fb9f3a"
             ],
             [
              0.8888888888888888,
              "#fdca26"
             ],
             [
              1,
              "#f0f921"
             ]
            ],
            "type": "surface"
           }
          ],
          "table": [
           {
            "cells": {
             "fill": {
              "color": "#EBF0F8"
             },
             "line": {
              "color": "white"
             }
            },
            "header": {
             "fill": {
              "color": "#C8D4E3"
             },
             "line": {
              "color": "white"
             }
            },
            "type": "table"
           }
          ]
         },
         "layout": {
          "annotationdefaults": {
           "arrowcolor": "#2a3f5f",
           "arrowhead": 0,
           "arrowwidth": 1
          },
          "autotypenumbers": "strict",
          "coloraxis": {
           "colorbar": {
            "outlinewidth": 0,
            "ticks": ""
           }
          },
          "colorscale": {
           "diverging": [
            [
             0,
             "#8e0152"
            ],
            [
             0.1,
             "#c51b7d"
            ],
            [
             0.2,
             "#de77ae"
            ],
            [
             0.3,
             "#f1b6da"
            ],
            [
             0.4,
             "#fde0ef"
            ],
            [
             0.5,
             "#f7f7f7"
            ],
            [
             0.6,
             "#e6f5d0"
            ],
            [
             0.7,
             "#b8e186"
            ],
            [
             0.8,
             "#7fbc41"
            ],
            [
             0.9,
             "#4d9221"
            ],
            [
             1,
             "#276419"
            ]
           ],
           "sequential": [
            [
             0,
             "#0d0887"
            ],
            [
             0.1111111111111111,
             "#46039f"
            ],
            [
             0.2222222222222222,
             "#7201a8"
            ],
            [
             0.3333333333333333,
             "#9c179e"
            ],
            [
             0.4444444444444444,
             "#bd3786"
            ],
            [
             0.5555555555555556,
             "#d8576b"
            ],
            [
             0.6666666666666666,
             "#ed7953"
            ],
            [
             0.7777777777777778,
             "#fb9f3a"
            ],
            [
             0.8888888888888888,
             "#fdca26"
            ],
            [
             1,
             "#f0f921"
            ]
           ],
           "sequentialminus": [
            [
             0,
             "#0d0887"
            ],
            [
             0.1111111111111111,
             "#46039f"
            ],
            [
             0.2222222222222222,
             "#7201a8"
            ],
            [
             0.3333333333333333,
             "#9c179e"
            ],
            [
             0.4444444444444444,
             "#bd3786"
            ],
            [
             0.5555555555555556,
             "#d8576b"
            ],
            [
             0.6666666666666666,
             "#ed7953"
            ],
            [
             0.7777777777777778,
             "#fb9f3a"
            ],
            [
             0.8888888888888888,
             "#fdca26"
            ],
            [
             1,
             "#f0f921"
            ]
           ]
          },
          "colorway": [
           "#636efa",
           "#EF553B",
           "#00cc96",
           "#ab63fa",
           "#FFA15A",
           "#19d3f3",
           "#FF6692",
           "#B6E880",
           "#FF97FF",
           "#FECB52"
          ],
          "font": {
           "color": "#2a3f5f"
          },
          "geo": {
           "bgcolor": "white",
           "lakecolor": "white",
           "landcolor": "#E5ECF6",
           "showlakes": true,
           "showland": true,
           "subunitcolor": "white"
          },
          "hoverlabel": {
           "align": "left"
          },
          "hovermode": "closest",
          "mapbox": {
           "style": "light"
          },
          "paper_bgcolor": "white",
          "plot_bgcolor": "#E5ECF6",
          "polar": {
           "angularaxis": {
            "gridcolor": "white",
            "linecolor": "white",
            "ticks": ""
           },
           "bgcolor": "#E5ECF6",
           "radialaxis": {
            "gridcolor": "white",
            "linecolor": "white",
            "ticks": ""
           }
          },
          "scene": {
           "xaxis": {
            "backgroundcolor": "#E5ECF6",
            "gridcolor": "white",
            "gridwidth": 2,
            "linecolor": "white",
            "showbackground": true,
            "ticks": "",
            "zerolinecolor": "white"
           },
           "yaxis": {
            "backgroundcolor": "#E5ECF6",
            "gridcolor": "white",
            "gridwidth": 2,
            "linecolor": "white",
            "showbackground": true,
            "ticks": "",
            "zerolinecolor": "white"
           },
           "zaxis": {
            "backgroundcolor": "#E5ECF6",
            "gridcolor": "white",
            "gridwidth": 2,
            "linecolor": "white",
            "showbackground": true,
            "ticks": "",
            "zerolinecolor": "white"
           }
          },
          "shapedefaults": {
           "line": {
            "color": "#2a3f5f"
           }
          },
          "ternary": {
           "aaxis": {
            "gridcolor": "white",
            "linecolor": "white",
            "ticks": ""
           },
           "baxis": {
            "gridcolor": "white",
            "linecolor": "white",
            "ticks": ""
           },
           "bgcolor": "#E5ECF6",
           "caxis": {
            "gridcolor": "white",
            "linecolor": "white",
            "ticks": ""
           }
          },
          "title": {
           "x": 0.05
          },
          "xaxis": {
           "automargin": true,
           "gridcolor": "white",
           "linecolor": "white",
           "ticks": "",
           "title": {
            "standoff": 15
           },
           "zerolinecolor": "white",
           "zerolinewidth": 2
          },
          "yaxis": {
           "automargin": true,
           "gridcolor": "white",
           "linecolor": "white",
           "ticks": "",
           "title": {
            "standoff": 15
           },
           "zerolinecolor": "white",
           "zerolinewidth": 2
          }
         }
        },
        "title": {
         "text": "Reasons to own business for industry: Utilities"
        },
        "xaxis": {
         "anchor": "y",
         "domain": [
          0,
          1
         ],
         "title": {
          "text": "Industry Name"
         }
        },
        "yaxis": {
         "anchor": "x",
         "domain": [
          0,
          1
         ],
         "title": {
          "text": "Number of Business Owners"
         }
        }
       }
      }
     },
     "metadata": {},
     "output_type": "display_data"
    },
    {
     "data": {
      "application/vnd.plotly.v1+json": {
       "config": {
        "plotlyServerURL": "https://plot.ly"
       },
       "data": [
        {
         "alignmentgroup": "True",
         "hovertemplate": "Reason for owning business=Greater income<br>Industry Name=%{x}<br>Number of Business Owners=%{y}<extra></extra>",
         "legendgroup": "Greater income",
         "marker": {
          "color": "#636efa",
          "pattern": {
           "shape": ""
          }
         },
         "name": "Greater income",
         "offsetgroup": "Greater income",
         "orientation": "v",
         "showlegend": true,
         "textposition": "auto",
         "texttemplate": "%{y:.2s}",
         "type": "bar",
         "x": [
          "Wholesale trade"
         ],
         "xaxis": "x",
         "y": [
          145891
         ],
         "yaxis": "y"
        },
        {
         "alignmentgroup": "True",
         "hovertemplate": "Reason for owning business=Wanted to be my own boss<br>Industry Name=%{x}<br>Number of Business Owners=%{y}<extra></extra>",
         "legendgroup": "Wanted to be my own boss",
         "marker": {
          "color": "#EF553B",
          "pattern": {
           "shape": ""
          }
         },
         "name": "Wanted to be my own boss",
         "offsetgroup": "Wanted to be my own boss",
         "orientation": "v",
         "showlegend": true,
         "textposition": "auto",
         "texttemplate": "%{y:.2s}",
         "type": "bar",
         "x": [
          "Wholesale trade"
         ],
         "xaxis": "x",
         "y": [
          137224
         ],
         "yaxis": "y"
        },
        {
         "alignmentgroup": "True",
         "hovertemplate": "Reason for owning business=Balance work and family<br>Industry Name=%{x}<br>Number of Business Owners=%{y}<extra></extra>",
         "legendgroup": "Balance work and family",
         "marker": {
          "color": "#00cc96",
          "pattern": {
           "shape": ""
          }
         },
         "name": "Balance work and family",
         "offsetgroup": "Balance work and family",
         "orientation": "v",
         "showlegend": true,
         "textposition": "auto",
         "texttemplate": "%{y:.2s}",
         "type": "bar",
         "x": [
          "Wholesale trade"
         ],
         "xaxis": "x",
         "y": [
          119402
         ],
         "yaxis": "y"
        },
        {
         "alignmentgroup": "True",
         "hovertemplate": "Reason for owning business=Best avenue for ideas<br>Industry Name=%{x}<br>Number of Business Owners=%{y}<extra></extra>",
         "legendgroup": "Best avenue for ideas",
         "marker": {
          "color": "#ab63fa",
          "pattern": {
           "shape": ""
          }
         },
         "name": "Best avenue for ideas",
         "offsetgroup": "Best avenue for ideas",
         "orientation": "v",
         "showlegend": true,
         "textposition": "auto",
         "texttemplate": "%{y:.2s}",
         "type": "bar",
         "x": [
          "Wholesale trade"
         ],
         "xaxis": "x",
         "y": [
          118699
         ],
         "yaxis": "y"
        },
        {
         "alignmentgroup": "True",
         "hovertemplate": "Reason for owning business=Flexible hours<br>Industry Name=%{x}<br>Number of Business Owners=%{y}<extra></extra>",
         "legendgroup": "Flexible hours",
         "marker": {
          "color": "#FFA15A",
          "pattern": {
           "shape": ""
          }
         },
         "name": "Flexible hours",
         "offsetgroup": "Flexible hours",
         "orientation": "v",
         "showlegend": true,
         "textposition": "auto",
         "texttemplate": "%{y:.2s}",
         "type": "bar",
         "x": [
          "Wholesale trade"
         ],
         "xaxis": "x",
         "y": [
          112272
         ],
         "yaxis": "y"
        },
        {
         "alignmentgroup": "True",
         "hovertemplate": "Reason for owning business=Start my own business<br>Industry Name=%{x}<br>Number of Business Owners=%{y}<extra></extra>",
         "legendgroup": "Start my own business",
         "marker": {
          "color": "#19d3f3",
          "pattern": {
           "shape": ""
          }
         },
         "name": "Start my own business",
         "offsetgroup": "Start my own business",
         "orientation": "v",
         "showlegend": true,
         "textposition": "auto",
         "texttemplate": "%{y:.2s}",
         "type": "bar",
         "x": [
          "Wholesale trade"
         ],
         "xaxis": "x",
         "y": [
          100704
         ],
         "yaxis": "y"
        },
        {
         "alignmentgroup": "True",
         "hovertemplate": "Reason for owning business=Friend or family role model<br>Industry Name=%{x}<br>Number of Business Owners=%{y}<extra></extra>",
         "legendgroup": "Friend or family role model",
         "marker": {
          "color": "#FF6692",
          "pattern": {
           "shape": ""
          }
         },
         "name": "Friend or family role model",
         "offsetgroup": "Friend or family role model",
         "orientation": "v",
         "showlegend": true,
         "textposition": "auto",
         "texttemplate": "%{y:.2s}",
         "type": "bar",
         "x": [
          "Wholesale trade"
         ],
         "xaxis": "x",
         "y": [
          72822
         ],
         "yaxis": "y"
        },
        {
         "alignmentgroup": "True",
         "hovertemplate": "Reason for owning business=Work for self<br>Industry Name=%{x}<br>Number of Business Owners=%{y}<extra></extra>",
         "legendgroup": "Work for self",
         "marker": {
          "color": "#B6E880",
          "pattern": {
           "shape": ""
          }
         },
         "name": "Work for self",
         "offsetgroup": "Work for self",
         "orientation": "v",
         "showlegend": true,
         "textposition": "auto",
         "texttemplate": "%{y:.2s}",
         "type": "bar",
         "x": [
          "Wholesale trade"
         ],
         "xaxis": "x",
         "y": [
          72613
         ],
         "yaxis": "y"
        },
        {
         "alignmentgroup": "True",
         "hovertemplate": "Reason for owning business=Carry on family business<br>Industry Name=%{x}<br>Number of Business Owners=%{y}<extra></extra>",
         "legendgroup": "Carry on family business",
         "marker": {
          "color": "#FF97FF",
          "pattern": {
           "shape": ""
          }
         },
         "name": "Carry on family business",
         "offsetgroup": "Carry on family business",
         "orientation": "v",
         "showlegend": true,
         "textposition": "auto",
         "texttemplate": "%{y:.2s}",
         "type": "bar",
         "x": [
          "Wholesale trade"
         ],
         "xaxis": "x",
         "y": [
          63602
         ],
         "yaxis": "y"
        },
        {
         "alignmentgroup": "True",
         "hovertemplate": "Reason for owning business=Help my community<br>Industry Name=%{x}<br>Number of Business Owners=%{y}<extra></extra>",
         "legendgroup": "Help my community",
         "marker": {
          "color": "#FECB52",
          "pattern": {
           "shape": ""
          }
         },
         "name": "Help my community",
         "offsetgroup": "Help my community",
         "orientation": "v",
         "showlegend": true,
         "textposition": "auto",
         "texttemplate": "%{y:.2s}",
         "type": "bar",
         "x": [
          "Wholesale trade"
         ],
         "xaxis": "x",
         "y": [
          43228
         ],
         "yaxis": "y"
        },
        {
         "alignmentgroup": "True",
         "hovertemplate": "Reason for owning business=Other<br>Industry Name=%{x}<br>Number of Business Owners=%{y}<extra></extra>",
         "legendgroup": "Other",
         "marker": {
          "color": "#636efa",
          "pattern": {
           "shape": ""
          }
         },
         "name": "Other",
         "offsetgroup": "Other",
         "orientation": "v",
         "showlegend": true,
         "textposition": "auto",
         "texttemplate": "%{y:.2s}",
         "type": "bar",
         "x": [
          "Wholesale trade"
         ],
         "xaxis": "x",
         "y": [
          18789
         ],
         "yaxis": "y"
        },
        {
         "alignmentgroup": "True",
         "hovertemplate": "Reason for owning business=Couldn't find a job<br>Industry Name=%{x}<br>Number of Business Owners=%{y}<extra></extra>",
         "legendgroup": "Couldn't find a job",
         "marker": {
          "color": "#EF553B",
          "pattern": {
           "shape": ""
          }
         },
         "name": "Couldn't find a job",
         "offsetgroup": "Couldn't find a job",
         "orientation": "v",
         "showlegend": true,
         "textposition": "auto",
         "texttemplate": "%{y:.2s}",
         "type": "bar",
         "x": [
          "Wholesale trade"
         ],
         "xaxis": "x",
         "y": [
          18160
         ],
         "yaxis": "y"
        }
       ],
       "layout": {
        "barmode": "group",
        "legend": {
         "title": {
          "text": "Reason for owning business"
         },
         "tracegroupgap": 0
        },
        "template": {
         "data": {
          "bar": [
           {
            "error_x": {
             "color": "#2a3f5f"
            },
            "error_y": {
             "color": "#2a3f5f"
            },
            "marker": {
             "line": {
              "color": "#E5ECF6",
              "width": 0.5
             },
             "pattern": {
              "fillmode": "overlay",
              "size": 10,
              "solidity": 0.2
             }
            },
            "type": "bar"
           }
          ],
          "barpolar": [
           {
            "marker": {
             "line": {
              "color": "#E5ECF6",
              "width": 0.5
             },
             "pattern": {
              "fillmode": "overlay",
              "size": 10,
              "solidity": 0.2
             }
            },
            "type": "barpolar"
           }
          ],
          "carpet": [
           {
            "aaxis": {
             "endlinecolor": "#2a3f5f",
             "gridcolor": "white",
             "linecolor": "white",
             "minorgridcolor": "white",
             "startlinecolor": "#2a3f5f"
            },
            "baxis": {
             "endlinecolor": "#2a3f5f",
             "gridcolor": "white",
             "linecolor": "white",
             "minorgridcolor": "white",
             "startlinecolor": "#2a3f5f"
            },
            "type": "carpet"
           }
          ],
          "choropleth": [
           {
            "colorbar": {
             "outlinewidth": 0,
             "ticks": ""
            },
            "type": "choropleth"
           }
          ],
          "contour": [
           {
            "colorbar": {
             "outlinewidth": 0,
             "ticks": ""
            },
            "colorscale": [
             [
              0,
              "#0d0887"
             ],
             [
              0.1111111111111111,
              "#46039f"
             ],
             [
              0.2222222222222222,
              "#7201a8"
             ],
             [
              0.3333333333333333,
              "#9c179e"
             ],
             [
              0.4444444444444444,
              "#bd3786"
             ],
             [
              0.5555555555555556,
              "#d8576b"
             ],
             [
              0.6666666666666666,
              "#ed7953"
             ],
             [
              0.7777777777777778,
              "#fb9f3a"
             ],
             [
              0.8888888888888888,
              "#fdca26"
             ],
             [
              1,
              "#f0f921"
             ]
            ],
            "type": "contour"
           }
          ],
          "contourcarpet": [
           {
            "colorbar": {
             "outlinewidth": 0,
             "ticks": ""
            },
            "type": "contourcarpet"
           }
          ],
          "heatmap": [
           {
            "colorbar": {
             "outlinewidth": 0,
             "ticks": ""
            },
            "colorscale": [
             [
              0,
              "#0d0887"
             ],
             [
              0.1111111111111111,
              "#46039f"
             ],
             [
              0.2222222222222222,
              "#7201a8"
             ],
             [
              0.3333333333333333,
              "#9c179e"
             ],
             [
              0.4444444444444444,
              "#bd3786"
             ],
             [
              0.5555555555555556,
              "#d8576b"
             ],
             [
              0.6666666666666666,
              "#ed7953"
             ],
             [
              0.7777777777777778,
              "#fb9f3a"
             ],
             [
              0.8888888888888888,
              "#fdca26"
             ],
             [
              1,
              "#f0f921"
             ]
            ],
            "type": "heatmap"
           }
          ],
          "heatmapgl": [
           {
            "colorbar": {
             "outlinewidth": 0,
             "ticks": ""
            },
            "colorscale": [
             [
              0,
              "#0d0887"
             ],
             [
              0.1111111111111111,
              "#46039f"
             ],
             [
              0.2222222222222222,
              "#7201a8"
             ],
             [
              0.3333333333333333,
              "#9c179e"
             ],
             [
              0.4444444444444444,
              "#bd3786"
             ],
             [
              0.5555555555555556,
              "#d8576b"
             ],
             [
              0.6666666666666666,
              "#ed7953"
             ],
             [
              0.7777777777777778,
              "#fb9f3a"
             ],
             [
              0.8888888888888888,
              "#fdca26"
             ],
             [
              1,
              "#f0f921"
             ]
            ],
            "type": "heatmapgl"
           }
          ],
          "histogram": [
           {
            "marker": {
             "pattern": {
              "fillmode": "overlay",
              "size": 10,
              "solidity": 0.2
             }
            },
            "type": "histogram"
           }
          ],
          "histogram2d": [
           {
            "colorbar": {
             "outlinewidth": 0,
             "ticks": ""
            },
            "colorscale": [
             [
              0,
              "#0d0887"
             ],
             [
              0.1111111111111111,
              "#46039f"
             ],
             [
              0.2222222222222222,
              "#7201a8"
             ],
             [
              0.3333333333333333,
              "#9c179e"
             ],
             [
              0.4444444444444444,
              "#bd3786"
             ],
             [
              0.5555555555555556,
              "#d8576b"
             ],
             [
              0.6666666666666666,
              "#ed7953"
             ],
             [
              0.7777777777777778,
              "#fb9f3a"
             ],
             [
              0.8888888888888888,
              "#fdca26"
             ],
             [
              1,
              "#f0f921"
             ]
            ],
            "type": "histogram2d"
           }
          ],
          "histogram2dcontour": [
           {
            "colorbar": {
             "outlinewidth": 0,
             "ticks": ""
            },
            "colorscale": [
             [
              0,
              "#0d0887"
             ],
             [
              0.1111111111111111,
              "#46039f"
             ],
             [
              0.2222222222222222,
              "#7201a8"
             ],
             [
              0.3333333333333333,
              "#9c179e"
             ],
             [
              0.4444444444444444,
              "#bd3786"
             ],
             [
              0.5555555555555556,
              "#d8576b"
             ],
             [
              0.6666666666666666,
              "#ed7953"
             ],
             [
              0.7777777777777778,
              "#fb9f3a"
             ],
             [
              0.8888888888888888,
              "#fdca26"
             ],
             [
              1,
              "#f0f921"
             ]
            ],
            "type": "histogram2dcontour"
           }
          ],
          "mesh3d": [
           {
            "colorbar": {
             "outlinewidth": 0,
             "ticks": ""
            },
            "type": "mesh3d"
           }
          ],
          "parcoords": [
           {
            "line": {
             "colorbar": {
              "outlinewidth": 0,
              "ticks": ""
             }
            },
            "type": "parcoords"
           }
          ],
          "pie": [
           {
            "automargin": true,
            "type": "pie"
           }
          ],
          "scatter": [
           {
            "fillpattern": {
             "fillmode": "overlay",
             "size": 10,
             "solidity": 0.2
            },
            "type": "scatter"
           }
          ],
          "scatter3d": [
           {
            "line": {
             "colorbar": {
              "outlinewidth": 0,
              "ticks": ""
             }
            },
            "marker": {
             "colorbar": {
              "outlinewidth": 0,
              "ticks": ""
             }
            },
            "type": "scatter3d"
           }
          ],
          "scattercarpet": [
           {
            "marker": {
             "colorbar": {
              "outlinewidth": 0,
              "ticks": ""
             }
            },
            "type": "scattercarpet"
           }
          ],
          "scattergeo": [
           {
            "marker": {
             "colorbar": {
              "outlinewidth": 0,
              "ticks": ""
             }
            },
            "type": "scattergeo"
           }
          ],
          "scattergl": [
           {
            "marker": {
             "colorbar": {
              "outlinewidth": 0,
              "ticks": ""
             }
            },
            "type": "scattergl"
           }
          ],
          "scattermapbox": [
           {
            "marker": {
             "colorbar": {
              "outlinewidth": 0,
              "ticks": ""
             }
            },
            "type": "scattermapbox"
           }
          ],
          "scatterpolar": [
           {
            "marker": {
             "colorbar": {
              "outlinewidth": 0,
              "ticks": ""
             }
            },
            "type": "scatterpolar"
           }
          ],
          "scatterpolargl": [
           {
            "marker": {
             "colorbar": {
              "outlinewidth": 0,
              "ticks": ""
             }
            },
            "type": "scatterpolargl"
           }
          ],
          "scatterternary": [
           {
            "marker": {
             "colorbar": {
              "outlinewidth": 0,
              "ticks": ""
             }
            },
            "type": "scatterternary"
           }
          ],
          "surface": [
           {
            "colorbar": {
             "outlinewidth": 0,
             "ticks": ""
            },
            "colorscale": [
             [
              0,
              "#0d0887"
             ],
             [
              0.1111111111111111,
              "#46039f"
             ],
             [
              0.2222222222222222,
              "#7201a8"
             ],
             [
              0.3333333333333333,
              "#9c179e"
             ],
             [
              0.4444444444444444,
              "#bd3786"
             ],
             [
              0.5555555555555556,
              "#d8576b"
             ],
             [
              0.6666666666666666,
              "#ed7953"
             ],
             [
              0.7777777777777778,
              "#fb9f3a"
             ],
             [
              0.8888888888888888,
              "#fdca26"
             ],
             [
              1,
              "#f0f921"
             ]
            ],
            "type": "surface"
           }
          ],
          "table": [
           {
            "cells": {
             "fill": {
              "color": "#EBF0F8"
             },
             "line": {
              "color": "white"
             }
            },
            "header": {
             "fill": {
              "color": "#C8D4E3"
             },
             "line": {
              "color": "white"
             }
            },
            "type": "table"
           }
          ]
         },
         "layout": {
          "annotationdefaults": {
           "arrowcolor": "#2a3f5f",
           "arrowhead": 0,
           "arrowwidth": 1
          },
          "autotypenumbers": "strict",
          "coloraxis": {
           "colorbar": {
            "outlinewidth": 0,
            "ticks": ""
           }
          },
          "colorscale": {
           "diverging": [
            [
             0,
             "#8e0152"
            ],
            [
             0.1,
             "#c51b7d"
            ],
            [
             0.2,
             "#de77ae"
            ],
            [
             0.3,
             "#f1b6da"
            ],
            [
             0.4,
             "#fde0ef"
            ],
            [
             0.5,
             "#f7f7f7"
            ],
            [
             0.6,
             "#e6f5d0"
            ],
            [
             0.7,
             "#b8e186"
            ],
            [
             0.8,
             "#7fbc41"
            ],
            [
             0.9,
             "#4d9221"
            ],
            [
             1,
             "#276419"
            ]
           ],
           "sequential": [
            [
             0,
             "#0d0887"
            ],
            [
             0.1111111111111111,
             "#46039f"
            ],
            [
             0.2222222222222222,
             "#7201a8"
            ],
            [
             0.3333333333333333,
             "#9c179e"
            ],
            [
             0.4444444444444444,
             "#bd3786"
            ],
            [
             0.5555555555555556,
             "#d8576b"
            ],
            [
             0.6666666666666666,
             "#ed7953"
            ],
            [
             0.7777777777777778,
             "#fb9f3a"
            ],
            [
             0.8888888888888888,
             "#fdca26"
            ],
            [
             1,
             "#f0f921"
            ]
           ],
           "sequentialminus": [
            [
             0,
             "#0d0887"
            ],
            [
             0.1111111111111111,
             "#46039f"
            ],
            [
             0.2222222222222222,
             "#7201a8"
            ],
            [
             0.3333333333333333,
             "#9c179e"
            ],
            [
             0.4444444444444444,
             "#bd3786"
            ],
            [
             0.5555555555555556,
             "#d8576b"
            ],
            [
             0.6666666666666666,
             "#ed7953"
            ],
            [
             0.7777777777777778,
             "#fb9f3a"
            ],
            [
             0.8888888888888888,
             "#fdca26"
            ],
            [
             1,
             "#f0f921"
            ]
           ]
          },
          "colorway": [
           "#636efa",
           "#EF553B",
           "#00cc96",
           "#ab63fa",
           "#FFA15A",
           "#19d3f3",
           "#FF6692",
           "#B6E880",
           "#FF97FF",
           "#FECB52"
          ],
          "font": {
           "color": "#2a3f5f"
          },
          "geo": {
           "bgcolor": "white",
           "lakecolor": "white",
           "landcolor": "#E5ECF6",
           "showlakes": true,
           "showland": true,
           "subunitcolor": "white"
          },
          "hoverlabel": {
           "align": "left"
          },
          "hovermode": "closest",
          "mapbox": {
           "style": "light"
          },
          "paper_bgcolor": "white",
          "plot_bgcolor": "#E5ECF6",
          "polar": {
           "angularaxis": {
            "gridcolor": "white",
            "linecolor": "white",
            "ticks": ""
           },
           "bgcolor": "#E5ECF6",
           "radialaxis": {
            "gridcolor": "white",
            "linecolor": "white",
            "ticks": ""
           }
          },
          "scene": {
           "xaxis": {
            "backgroundcolor": "#E5ECF6",
            "gridcolor": "white",
            "gridwidth": 2,
            "linecolor": "white",
            "showbackground": true,
            "ticks": "",
            "zerolinecolor": "white"
           },
           "yaxis": {
            "backgroundcolor": "#E5ECF6",
            "gridcolor": "white",
            "gridwidth": 2,
            "linecolor": "white",
            "showbackground": true,
            "ticks": "",
            "zerolinecolor": "white"
           },
           "zaxis": {
            "backgroundcolor": "#E5ECF6",
            "gridcolor": "white",
            "gridwidth": 2,
            "linecolor": "white",
            "showbackground": true,
            "ticks": "",
            "zerolinecolor": "white"
           }
          },
          "shapedefaults": {
           "line": {
            "color": "#2a3f5f"
           }
          },
          "ternary": {
           "aaxis": {
            "gridcolor": "white",
            "linecolor": "white",
            "ticks": ""
           },
           "baxis": {
            "gridcolor": "white",
            "linecolor": "white",
            "ticks": ""
           },
           "bgcolor": "#E5ECF6",
           "caxis": {
            "gridcolor": "white",
            "linecolor": "white",
            "ticks": ""
           }
          },
          "title": {
           "x": 0.05
          },
          "xaxis": {
           "automargin": true,
           "gridcolor": "white",
           "linecolor": "white",
           "ticks": "",
           "title": {
            "standoff": 15
           },
           "zerolinecolor": "white",
           "zerolinewidth": 2
          },
          "yaxis": {
           "automargin": true,
           "gridcolor": "white",
           "linecolor": "white",
           "ticks": "",
           "title": {
            "standoff": 15
           },
           "zerolinecolor": "white",
           "zerolinewidth": 2
          }
         }
        },
        "title": {
         "text": "Reasons to own business for industry: Wholesale trade"
        },
        "xaxis": {
         "anchor": "y",
         "domain": [
          0,
          1
         ],
         "title": {
          "text": "Industry Name"
         }
        },
        "yaxis": {
         "anchor": "x",
         "domain": [
          0,
          1
         ],
         "title": {
          "text": "Number of Business Owners"
         }
        }
       }
      }
     },
     "metadata": {},
     "output_type": "display_data"
    }
   ],
   "source": [
    "#plot each industry as its own bar chart\n",
    "cols = df.columns\n",
    "print(type(cols))\n",
    "\n",
    "cols_list = [x for x in cols]\n",
    "\n",
    "for i in df.index:\n",
    "    tempdf = df[df.index == i]\n",
    "    #print(type(tempdf))\n",
    "    tempdf=tempdf.sort_values(by=i,axis=1,ascending=False)\n",
    "    #print(tempdf)\n",
    "    fig = px.bar(tempdf, title=f\"Reasons to own business for industry: {i}\",text_auto = '.2s',barmode='group', \n",
    "                 labels={\"NAICS2017_LABEL\":\"Industry Name\", \"OWNCHAR_LABEL\":\"Reason for owning business\",\"value\":\"Number of Business Owners\"})\n",
    "    # fig.update_layout(barmode='group', xaxis={'categoryorder':'total descending'})\n",
    "    fig.show()"
   ]
  },
  {
   "cell_type": "code",
   "execution_count": 502,
   "metadata": {},
   "outputs": [
    {
     "data": {
      "text/html": [
       "<div>\n",
       "<style scoped>\n",
       "    .dataframe tbody tr th:only-of-type {\n",
       "        vertical-align: middle;\n",
       "    }\n",
       "\n",
       "    .dataframe tbody tr th {\n",
       "        vertical-align: top;\n",
       "    }\n",
       "\n",
       "    .dataframe thead th {\n",
       "        text-align: right;\n",
       "    }\n",
       "</style>\n",
       "<table border=\"1\" class=\"dataframe\">\n",
       "  <thead>\n",
       "    <tr style=\"text-align: right;\">\n",
       "      <th>OWNCHAR_LABEL</th>\n",
       "      <th>Balance work and family</th>\n",
       "      <th>Best avenue for ideas</th>\n",
       "      <th>Carry on family business</th>\n",
       "      <th>Couldn't find a job</th>\n",
       "      <th>Flexible hours</th>\n",
       "      <th>Friend or family role model</th>\n",
       "      <th>Greater income</th>\n",
       "      <th>Help my community</th>\n",
       "      <th>Other</th>\n",
       "      <th>Start my own business</th>\n",
       "      <th>Wanted to be my own boss</th>\n",
       "      <th>Work for self</th>\n",
       "      <th>mysum</th>\n",
       "    </tr>\n",
       "    <tr>\n",
       "      <th>NAICS2017_LABEL</th>\n",
       "      <th></th>\n",
       "      <th></th>\n",
       "      <th></th>\n",
       "      <th></th>\n",
       "      <th></th>\n",
       "      <th></th>\n",
       "      <th></th>\n",
       "      <th></th>\n",
       "      <th></th>\n",
       "      <th></th>\n",
       "      <th></th>\n",
       "      <th></th>\n",
       "      <th></th>\n",
       "    </tr>\n",
       "  </thead>\n",
       "  <tbody>\n",
       "    <tr>\n",
       "      <th>Accommodation and food services</th>\n",
       "      <td>189302</td>\n",
       "      <td>176850</td>\n",
       "      <td>86454</td>\n",
       "      <td>42601</td>\n",
       "      <td>179016</td>\n",
       "      <td>123323</td>\n",
       "      <td>217657</td>\n",
       "      <td>106602</td>\n",
       "      <td>37342</td>\n",
       "      <td>186227</td>\n",
       "      <td>217539</td>\n",
       "      <td>118796</td>\n",
       "      <td>1681709</td>\n",
       "    </tr>\n",
       "    <tr>\n",
       "      <th>Administrative and support and waste management and remediation services</th>\n",
       "      <td>145728</td>\n",
       "      <td>130290</td>\n",
       "      <td>37625</td>\n",
       "      <td>18578</td>\n",
       "      <td>139506</td>\n",
       "      <td>68044</td>\n",
       "      <td>158977</td>\n",
       "      <td>52441</td>\n",
       "      <td>23060</td>\n",
       "      <td>116772</td>\n",
       "      <td>157823</td>\n",
       "      <td>82224</td>\n",
       "      <td>1131068</td>\n",
       "    </tr>\n",
       "    <tr>\n",
       "      <th>Agriculture, forestry, fishing and hunting</th>\n",
       "      <td>9549</td>\n",
       "      <td>9012</td>\n",
       "      <td>5589</td>\n",
       "      <td>991</td>\n",
       "      <td>8791</td>\n",
       "      <td>5709</td>\n",
       "      <td>10819</td>\n",
       "      <td>3262</td>\n",
       "      <td>1748</td>\n",
       "      <td>6956</td>\n",
       "      <td>9917</td>\n",
       "      <td>5256</td>\n",
       "      <td>77599</td>\n",
       "    </tr>\n",
       "    <tr>\n",
       "      <th>Arts, entertainment, and recreation</th>\n",
       "      <td>37927</td>\n",
       "      <td>41007</td>\n",
       "      <td>10580</td>\n",
       "      <td>4448</td>\n",
       "      <td>40228</td>\n",
       "      <td>18043</td>\n",
       "      <td>40979</td>\n",
       "      <td>18726</td>\n",
       "      <td>8163</td>\n",
       "      <td>29980</td>\n",
       "      <td>43850</td>\n",
       "      <td>22042</td>\n",
       "      <td>315973</td>\n",
       "    </tr>\n",
       "    <tr>\n",
       "      <th>Construction</th>\n",
       "      <td>319860</td>\n",
       "      <td>299981</td>\n",
       "      <td>115024</td>\n",
       "      <td>43503</td>\n",
       "      <td>287047</td>\n",
       "      <td>155671</td>\n",
       "      <td>359871</td>\n",
       "      <td>107162</td>\n",
       "      <td>50039</td>\n",
       "      <td>262341</td>\n",
       "      <td>344989</td>\n",
       "      <td>182473</td>\n",
       "      <td>2527961</td>\n",
       "    </tr>\n",
       "    <tr>\n",
       "      <th>Educational services</th>\n",
       "      <td>25990</td>\n",
       "      <td>29056</td>\n",
       "      <td>5367</td>\n",
       "      <td>2514</td>\n",
       "      <td>25918</td>\n",
       "      <td>11754</td>\n",
       "      <td>24862</td>\n",
       "      <td>17979</td>\n",
       "      <td>6406</td>\n",
       "      <td>19183</td>\n",
       "      <td>27017</td>\n",
       "      <td>13427</td>\n",
       "      <td>209473</td>\n",
       "    </tr>\n",
       "    <tr>\n",
       "      <th>Finance and insurance</th>\n",
       "      <td>117429</td>\n",
       "      <td>102820</td>\n",
       "      <td>34104</td>\n",
       "      <td>10641</td>\n",
       "      <td>114029</td>\n",
       "      <td>59328</td>\n",
       "      <td>130943</td>\n",
       "      <td>51233</td>\n",
       "      <td>15902</td>\n",
       "      <td>85086</td>\n",
       "      <td>126131</td>\n",
       "      <td>64195</td>\n",
       "      <td>911841</td>\n",
       "    </tr>\n",
       "    <tr>\n",
       "      <th>Health care and social assistance</th>\n",
       "      <td>270468</td>\n",
       "      <td>268191</td>\n",
       "      <td>43766</td>\n",
       "      <td>28336</td>\n",
       "      <td>253464</td>\n",
       "      <td>98386</td>\n",
       "      <td>264840</td>\n",
       "      <td>164329</td>\n",
       "      <td>44659</td>\n",
       "      <td>183470</td>\n",
       "      <td>282117</td>\n",
       "      <td>142675</td>\n",
       "      <td>2044701</td>\n",
       "    </tr>\n",
       "    <tr>\n",
       "      <th>Industries not classified</th>\n",
       "      <td>5732</td>\n",
       "      <td>4320</td>\n",
       "      <td>5152</td>\n",
       "      <td>765</td>\n",
       "      <td>5042</td>\n",
       "      <td>3530</td>\n",
       "      <td>4405</td>\n",
       "      <td>2062</td>\n",
       "      <td>1030</td>\n",
       "      <td>3951</td>\n",
       "      <td>5696</td>\n",
       "      <td>3018</td>\n",
       "      <td>44703</td>\n",
       "    </tr>\n",
       "    <tr>\n",
       "      <th>Information</th>\n",
       "      <td>22646</td>\n",
       "      <td>27101</td>\n",
       "      <td>4702</td>\n",
       "      <td>2443</td>\n",
       "      <td>22995</td>\n",
       "      <td>10714</td>\n",
       "      <td>26899</td>\n",
       "      <td>8866</td>\n",
       "      <td>4635</td>\n",
       "      <td>18075</td>\n",
       "      <td>26970</td>\n",
       "      <td>12698</td>\n",
       "      <td>188744</td>\n",
       "    </tr>\n",
       "    <tr>\n",
       "      <th>Management of companies and enterprises</th>\n",
       "      <td>4284</td>\n",
       "      <td>4925</td>\n",
       "      <td>3895</td>\n",
       "      <td>620</td>\n",
       "      <td>3678</td>\n",
       "      <td>3820</td>\n",
       "      <td>6012</td>\n",
       "      <td>2740</td>\n",
       "      <td>759</td>\n",
       "      <td>4214</td>\n",
       "      <td>5710</td>\n",
       "      <td>2725</td>\n",
       "      <td>43382</td>\n",
       "    </tr>\n",
       "    <tr>\n",
       "      <th>Manufacturing</th>\n",
       "      <td>88664</td>\n",
       "      <td>92940</td>\n",
       "      <td>50581</td>\n",
       "      <td>11700</td>\n",
       "      <td>80794</td>\n",
       "      <td>53660</td>\n",
       "      <td>105081</td>\n",
       "      <td>33302</td>\n",
       "      <td>15784</td>\n",
       "      <td>74318</td>\n",
       "      <td>102866</td>\n",
       "      <td>53664</td>\n",
       "      <td>763354</td>\n",
       "    </tr>\n",
       "    <tr>\n",
       "      <th>Mining, quarrying, and oil and gas extraction</th>\n",
       "      <td>6172</td>\n",
       "      <td>5334</td>\n",
       "      <td>3123</td>\n",
       "      <td>769</td>\n",
       "      <td>4892</td>\n",
       "      <td>3162</td>\n",
       "      <td>7647</td>\n",
       "      <td>1828</td>\n",
       "      <td>773</td>\n",
       "      <td>5047</td>\n",
       "      <td>6328</td>\n",
       "      <td>3532</td>\n",
       "      <td>48607</td>\n",
       "    </tr>\n",
       "    <tr>\n",
       "      <th>Other services (except public administration)</th>\n",
       "      <td>147890</td>\n",
       "      <td>139918</td>\n",
       "      <td>48430</td>\n",
       "      <td>21313</td>\n",
       "      <td>135703</td>\n",
       "      <td>72349</td>\n",
       "      <td>159967</td>\n",
       "      <td>63955</td>\n",
       "      <td>26558</td>\n",
       "      <td>130108</td>\n",
       "      <td>164771</td>\n",
       "      <td>85918</td>\n",
       "      <td>1196880</td>\n",
       "    </tr>\n",
       "    <tr>\n",
       "      <th>Professional, scientific, and technical services</th>\n",
       "      <td>379325</td>\n",
       "      <td>378993</td>\n",
       "      <td>54830</td>\n",
       "      <td>37164</td>\n",
       "      <td>379718</td>\n",
       "      <td>140239</td>\n",
       "      <td>405068</td>\n",
       "      <td>123871</td>\n",
       "      <td>48764</td>\n",
       "      <td>266159</td>\n",
       "      <td>424047</td>\n",
       "      <td>200139</td>\n",
       "      <td>2838317</td>\n",
       "    </tr>\n",
       "    <tr>\n",
       "      <th>Real estate and rental and leasing</th>\n",
       "      <td>124643</td>\n",
       "      <td>110954</td>\n",
       "      <td>52074</td>\n",
       "      <td>14848</td>\n",
       "      <td>126786</td>\n",
       "      <td>71610</td>\n",
       "      <td>148098</td>\n",
       "      <td>51795</td>\n",
       "      <td>23005</td>\n",
       "      <td>98078</td>\n",
       "      <td>136572</td>\n",
       "      <td>75946</td>\n",
       "      <td>1034409</td>\n",
       "    </tr>\n",
       "    <tr>\n",
       "      <th>Retail trade</th>\n",
       "      <td>239252</td>\n",
       "      <td>227982</td>\n",
       "      <td>111193</td>\n",
       "      <td>39515</td>\n",
       "      <td>217008</td>\n",
       "      <td>146693</td>\n",
       "      <td>258020</td>\n",
       "      <td>120902</td>\n",
       "      <td>46387</td>\n",
       "      <td>213305</td>\n",
       "      <td>267959</td>\n",
       "      <td>143659</td>\n",
       "      <td>2031875</td>\n",
       "    </tr>\n",
       "    <tr>\n",
       "      <th>Transportation and warehousing</th>\n",
       "      <td>60457</td>\n",
       "      <td>55670</td>\n",
       "      <td>25816</td>\n",
       "      <td>10177</td>\n",
       "      <td>56507</td>\n",
       "      <td>33386</td>\n",
       "      <td>71609</td>\n",
       "      <td>21695</td>\n",
       "      <td>10091</td>\n",
       "      <td>53086</td>\n",
       "      <td>67425</td>\n",
       "      <td>35851</td>\n",
       "      <td>501770</td>\n",
       "    </tr>\n",
       "    <tr>\n",
       "      <th>Utilities</th>\n",
       "      <td>913</td>\n",
       "      <td>786</td>\n",
       "      <td>477</td>\n",
       "      <td>161</td>\n",
       "      <td>889</td>\n",
       "      <td>499</td>\n",
       "      <td>1000</td>\n",
       "      <td>329</td>\n",
       "      <td>169</td>\n",
       "      <td>793</td>\n",
       "      <td>979</td>\n",
       "      <td>590</td>\n",
       "      <td>7585</td>\n",
       "    </tr>\n",
       "    <tr>\n",
       "      <th>Wholesale trade</th>\n",
       "      <td>119402</td>\n",
       "      <td>118699</td>\n",
       "      <td>63602</td>\n",
       "      <td>18160</td>\n",
       "      <td>112272</td>\n",
       "      <td>72822</td>\n",
       "      <td>145891</td>\n",
       "      <td>43228</td>\n",
       "      <td>18789</td>\n",
       "      <td>100704</td>\n",
       "      <td>137224</td>\n",
       "      <td>72613</td>\n",
       "      <td>1023406</td>\n",
       "    </tr>\n",
       "  </tbody>\n",
       "</table>\n",
       "</div>"
      ],
      "text/plain": [
       "OWNCHAR_LABEL                                       Balance work and family  \\\n",
       "NAICS2017_LABEL                                                               \n",
       "Accommodation and food services                                      189302   \n",
       "Administrative and support and waste management...                   145728   \n",
       "Agriculture, forestry, fishing and hunting                             9549   \n",
       "Arts, entertainment, and recreation                                   37927   \n",
       "Construction                                                         319860   \n",
       "Educational services                                                  25990   \n",
       "Finance and insurance                                                117429   \n",
       "Health care and social assistance                                    270468   \n",
       "Industries not classified                                              5732   \n",
       "Information                                                           22646   \n",
       "Management of companies and enterprises                                4284   \n",
       "Manufacturing                                                         88664   \n",
       "Mining, quarrying, and oil and gas extraction                          6172   \n",
       "Other services (except public administration)                        147890   \n",
       "Professional, scientific, and technical services                     379325   \n",
       "Real estate and rental and leasing                                   124643   \n",
       "Retail trade                                                         239252   \n",
       "Transportation and warehousing                                        60457   \n",
       "Utilities                                                               913   \n",
       "Wholesale trade                                                      119402   \n",
       "\n",
       "OWNCHAR_LABEL                                       Best avenue for ideas  \\\n",
       "NAICS2017_LABEL                                                             \n",
       "Accommodation and food services                                    176850   \n",
       "Administrative and support and waste management...                 130290   \n",
       "Agriculture, forestry, fishing and hunting                           9012   \n",
       "Arts, entertainment, and recreation                                 41007   \n",
       "Construction                                                       299981   \n",
       "Educational services                                                29056   \n",
       "Finance and insurance                                              102820   \n",
       "Health care and social assistance                                  268191   \n",
       "Industries not classified                                            4320   \n",
       "Information                                                         27101   \n",
       "Management of companies and enterprises                              4925   \n",
       "Manufacturing                                                       92940   \n",
       "Mining, quarrying, and oil and gas extraction                        5334   \n",
       "Other services (except public administration)                      139918   \n",
       "Professional, scientific, and technical services                   378993   \n",
       "Real estate and rental and leasing                                 110954   \n",
       "Retail trade                                                       227982   \n",
       "Transportation and warehousing                                      55670   \n",
       "Utilities                                                             786   \n",
       "Wholesale trade                                                    118699   \n",
       "\n",
       "OWNCHAR_LABEL                                       Carry on family business  \\\n",
       "NAICS2017_LABEL                                                                \n",
       "Accommodation and food services                                        86454   \n",
       "Administrative and support and waste management...                     37625   \n",
       "Agriculture, forestry, fishing and hunting                              5589   \n",
       "Arts, entertainment, and recreation                                    10580   \n",
       "Construction                                                          115024   \n",
       "Educational services                                                    5367   \n",
       "Finance and insurance                                                  34104   \n",
       "Health care and social assistance                                      43766   \n",
       "Industries not classified                                               5152   \n",
       "Information                                                             4702   \n",
       "Management of companies and enterprises                                 3895   \n",
       "Manufacturing                                                          50581   \n",
       "Mining, quarrying, and oil and gas extraction                           3123   \n",
       "Other services (except public administration)                          48430   \n",
       "Professional, scientific, and technical services                       54830   \n",
       "Real estate and rental and leasing                                     52074   \n",
       "Retail trade                                                          111193   \n",
       "Transportation and warehousing                                         25816   \n",
       "Utilities                                                                477   \n",
       "Wholesale trade                                                        63602   \n",
       "\n",
       "OWNCHAR_LABEL                                       Couldn't find a job  \\\n",
       "NAICS2017_LABEL                                                           \n",
       "Accommodation and food services                                   42601   \n",
       "Administrative and support and waste management...                18578   \n",
       "Agriculture, forestry, fishing and hunting                          991   \n",
       "Arts, entertainment, and recreation                                4448   \n",
       "Construction                                                      43503   \n",
       "Educational services                                               2514   \n",
       "Finance and insurance                                             10641   \n",
       "Health care and social assistance                                 28336   \n",
       "Industries not classified                                           765   \n",
       "Information                                                        2443   \n",
       "Management of companies and enterprises                             620   \n",
       "Manufacturing                                                     11700   \n",
       "Mining, quarrying, and oil and gas extraction                       769   \n",
       "Other services (except public administration)                     21313   \n",
       "Professional, scientific, and technical services                  37164   \n",
       "Real estate and rental and leasing                                14848   \n",
       "Retail trade                                                      39515   \n",
       "Transportation and warehousing                                    10177   \n",
       "Utilities                                                           161   \n",
       "Wholesale trade                                                   18160   \n",
       "\n",
       "OWNCHAR_LABEL                                       Flexible hours  \\\n",
       "NAICS2017_LABEL                                                      \n",
       "Accommodation and food services                             179016   \n",
       "Administrative and support and waste management...          139506   \n",
       "Agriculture, forestry, fishing and hunting                    8791   \n",
       "Arts, entertainment, and recreation                          40228   \n",
       "Construction                                                287047   \n",
       "Educational services                                         25918   \n",
       "Finance and insurance                                       114029   \n",
       "Health care and social assistance                           253464   \n",
       "Industries not classified                                     5042   \n",
       "Information                                                  22995   \n",
       "Management of companies and enterprises                       3678   \n",
       "Manufacturing                                                80794   \n",
       "Mining, quarrying, and oil and gas extraction                 4892   \n",
       "Other services (except public administration)               135703   \n",
       "Professional, scientific, and technical services            379718   \n",
       "Real estate and rental and leasing                          126786   \n",
       "Retail trade                                                217008   \n",
       "Transportation and warehousing                               56507   \n",
       "Utilities                                                      889   \n",
       "Wholesale trade                                             112272   \n",
       "\n",
       "OWNCHAR_LABEL                                       Friend or family role model  \\\n",
       "NAICS2017_LABEL                                                                   \n",
       "Accommodation and food services                                          123323   \n",
       "Administrative and support and waste management...                        68044   \n",
       "Agriculture, forestry, fishing and hunting                                 5709   \n",
       "Arts, entertainment, and recreation                                       18043   \n",
       "Construction                                                             155671   \n",
       "Educational services                                                      11754   \n",
       "Finance and insurance                                                     59328   \n",
       "Health care and social assistance                                         98386   \n",
       "Industries not classified                                                  3530   \n",
       "Information                                                               10714   \n",
       "Management of companies and enterprises                                    3820   \n",
       "Manufacturing                                                             53660   \n",
       "Mining, quarrying, and oil and gas extraction                              3162   \n",
       "Other services (except public administration)                             72349   \n",
       "Professional, scientific, and technical services                         140239   \n",
       "Real estate and rental and leasing                                        71610   \n",
       "Retail trade                                                             146693   \n",
       "Transportation and warehousing                                            33386   \n",
       "Utilities                                                                   499   \n",
       "Wholesale trade                                                           72822   \n",
       "\n",
       "OWNCHAR_LABEL                                       Greater income  \\\n",
       "NAICS2017_LABEL                                                      \n",
       "Accommodation and food services                             217657   \n",
       "Administrative and support and waste management...          158977   \n",
       "Agriculture, forestry, fishing and hunting                   10819   \n",
       "Arts, entertainment, and recreation                          40979   \n",
       "Construction                                                359871   \n",
       "Educational services                                         24862   \n",
       "Finance and insurance                                       130943   \n",
       "Health care and social assistance                           264840   \n",
       "Industries not classified                                     4405   \n",
       "Information                                                  26899   \n",
       "Management of companies and enterprises                       6012   \n",
       "Manufacturing                                               105081   \n",
       "Mining, quarrying, and oil and gas extraction                 7647   \n",
       "Other services (except public administration)               159967   \n",
       "Professional, scientific, and technical services            405068   \n",
       "Real estate and rental and leasing                          148098   \n",
       "Retail trade                                                258020   \n",
       "Transportation and warehousing                               71609   \n",
       "Utilities                                                     1000   \n",
       "Wholesale trade                                             145891   \n",
       "\n",
       "OWNCHAR_LABEL                                       Help my community  Other  \\\n",
       "NAICS2017_LABEL                                                                \n",
       "Accommodation and food services                                106602  37342   \n",
       "Administrative and support and waste management...              52441  23060   \n",
       "Agriculture, forestry, fishing and hunting                       3262   1748   \n",
       "Arts, entertainment, and recreation                             18726   8163   \n",
       "Construction                                                   107162  50039   \n",
       "Educational services                                            17979   6406   \n",
       "Finance and insurance                                           51233  15902   \n",
       "Health care and social assistance                              164329  44659   \n",
       "Industries not classified                                        2062   1030   \n",
       "Information                                                      8866   4635   \n",
       "Management of companies and enterprises                          2740    759   \n",
       "Manufacturing                                                   33302  15784   \n",
       "Mining, quarrying, and oil and gas extraction                    1828    773   \n",
       "Other services (except public administration)                   63955  26558   \n",
       "Professional, scientific, and technical services               123871  48764   \n",
       "Real estate and rental and leasing                              51795  23005   \n",
       "Retail trade                                                   120902  46387   \n",
       "Transportation and warehousing                                  21695  10091   \n",
       "Utilities                                                         329    169   \n",
       "Wholesale trade                                                 43228  18789   \n",
       "\n",
       "OWNCHAR_LABEL                                       Start my own business  \\\n",
       "NAICS2017_LABEL                                                             \n",
       "Accommodation and food services                                    186227   \n",
       "Administrative and support and waste management...                 116772   \n",
       "Agriculture, forestry, fishing and hunting                           6956   \n",
       "Arts, entertainment, and recreation                                 29980   \n",
       "Construction                                                       262341   \n",
       "Educational services                                                19183   \n",
       "Finance and insurance                                               85086   \n",
       "Health care and social assistance                                  183470   \n",
       "Industries not classified                                            3951   \n",
       "Information                                                         18075   \n",
       "Management of companies and enterprises                              4214   \n",
       "Manufacturing                                                       74318   \n",
       "Mining, quarrying, and oil and gas extraction                        5047   \n",
       "Other services (except public administration)                      130108   \n",
       "Professional, scientific, and technical services                   266159   \n",
       "Real estate and rental and leasing                                  98078   \n",
       "Retail trade                                                       213305   \n",
       "Transportation and warehousing                                      53086   \n",
       "Utilities                                                             793   \n",
       "Wholesale trade                                                    100704   \n",
       "\n",
       "OWNCHAR_LABEL                                       Wanted to be my own boss  \\\n",
       "NAICS2017_LABEL                                                                \n",
       "Accommodation and food services                                       217539   \n",
       "Administrative and support and waste management...                    157823   \n",
       "Agriculture, forestry, fishing and hunting                              9917   \n",
       "Arts, entertainment, and recreation                                    43850   \n",
       "Construction                                                          344989   \n",
       "Educational services                                                   27017   \n",
       "Finance and insurance                                                 126131   \n",
       "Health care and social assistance                                     282117   \n",
       "Industries not classified                                               5696   \n",
       "Information                                                            26970   \n",
       "Management of companies and enterprises                                 5710   \n",
       "Manufacturing                                                         102866   \n",
       "Mining, quarrying, and oil and gas extraction                           6328   \n",
       "Other services (except public administration)                         164771   \n",
       "Professional, scientific, and technical services                      424047   \n",
       "Real estate and rental and leasing                                    136572   \n",
       "Retail trade                                                          267959   \n",
       "Transportation and warehousing                                         67425   \n",
       "Utilities                                                                979   \n",
       "Wholesale trade                                                       137224   \n",
       "\n",
       "OWNCHAR_LABEL                                       Work for self    mysum  \n",
       "NAICS2017_LABEL                                                             \n",
       "Accommodation and food services                            118796  1681709  \n",
       "Administrative and support and waste management...          82224  1131068  \n",
       "Agriculture, forestry, fishing and hunting                   5256    77599  \n",
       "Arts, entertainment, and recreation                         22042   315973  \n",
       "Construction                                               182473  2527961  \n",
       "Educational services                                        13427   209473  \n",
       "Finance and insurance                                       64195   911841  \n",
       "Health care and social assistance                          142675  2044701  \n",
       "Industries not classified                                    3018    44703  \n",
       "Information                                                 12698   188744  \n",
       "Management of companies and enterprises                      2725    43382  \n",
       "Manufacturing                                               53664   763354  \n",
       "Mining, quarrying, and oil and gas extraction                3532    48607  \n",
       "Other services (except public administration)               85918  1196880  \n",
       "Professional, scientific, and technical services           200139  2838317  \n",
       "Real estate and rental and leasing                          75946  1034409  \n",
       "Retail trade                                               143659  2031875  \n",
       "Transportation and warehousing                              35851   501770  \n",
       "Utilities                                                     590     7585  \n",
       "Wholesale trade                                             72613  1023406  "
      ]
     },
     "execution_count": 502,
     "metadata": {},
     "output_type": "execute_result"
    }
   ],
   "source": [
    "\n",
    "#I'm aggregating the sum across the rows to divide each col by its sum to get a proportion later\n",
    "df['mysum'] = df.sum(axis=1)\n",
    "df\n"
   ]
  },
  {
   "cell_type": "code",
   "execution_count": 503,
   "metadata": {},
   "outputs": [
    {
     "data": {
      "text/plain": [
       "Index(['Accommodation and food services',\n",
       "       'Administrative and support and waste management and remediation services',\n",
       "       'Agriculture, forestry, fishing and hunting',\n",
       "       'Arts, entertainment, and recreation', 'Construction',\n",
       "       'Educational services', 'Finance and insurance',\n",
       "       'Health care and social assistance', 'Industries not classified',\n",
       "       'Information', 'Management of companies and enterprises',\n",
       "       'Manufacturing', 'Mining, quarrying, and oil and gas extraction',\n",
       "       'Other services (except public administration)',\n",
       "       'Professional, scientific, and technical services',\n",
       "       'Real estate and rental and leasing', 'Retail trade',\n",
       "       'Transportation and warehousing', 'Utilities', 'Wholesale trade'],\n",
       "      dtype='object', name='NAICS2017_LABEL')"
      ]
     },
     "execution_count": 503,
     "metadata": {},
     "output_type": "execute_result"
    }
   ],
   "source": [
    "df.columns\n",
    "df.index\n"
   ]
  },
  {
   "cell_type": "code",
   "execution_count": 504,
   "metadata": {},
   "outputs": [
    {
     "name": "stdout",
     "output_type": "stream",
     "text": [
      "Index(['Balance work and family', 'Best avenue for ideas',\n",
      "       'Carry on family business', 'Couldn't find a job', 'Flexible hours',\n",
      "       'Friend or family role model', 'Greater income', 'Help my community',\n",
      "       'Other', 'Start my own business', 'Wanted to be my own boss',\n",
      "       'Work for self', 'mysum'],\n",
      "      dtype='object', name='OWNCHAR_LABEL')\n",
      "<class 'pandas.core.frame.DataFrame'>\n"
     ]
    },
    {
     "data": {
      "application/vnd.plotly.v1+json": {
       "config": {
        "plotlyServerURL": "https://plot.ly"
       },
       "data": [
        {
         "name": "Accommodation and food services",
         "type": "bar",
         "x": [
          "Balance work and family",
          "Best avenue for ideas",
          "Carry on family business",
          "Couldn't find a job",
          "Flexible hours",
          "Friend or family role model",
          "Greater income",
          "Help my community",
          "Other",
          "Start my own business",
          "Wanted to be my own boss",
          "Work for self",
          "mysum"
         ],
         "y": [
          0.11256525356051493,
          0.10516088098476015,
          0.05140841846003084,
          0.02533196884835605,
          0.10644885649062948,
          0.07333194982009372,
          0.12942607787673135,
          0.06338908812404524,
          0.022204792862498803,
          0.11073675647808272,
          0.12935591115942174,
          0.07064004533483498
         ]
        },
        {
         "name": "Administrative and support and waste management and remediation services",
         "type": "bar",
         "x": [
          "Balance work and family",
          "Best avenue for ideas",
          "Carry on family business",
          "Couldn't find a job",
          "Flexible hours",
          "Friend or family role model",
          "Greater income",
          "Help my community",
          "Other",
          "Start my own business",
          "Wanted to be my own boss",
          "Work for self",
          "mysum"
         ],
         "y": [
          0.12884105995395503,
          0.11519201321229139,
          0.03326502031708085,
          0.01642518398540141,
          0.1233400644346759,
          0.060159070895825895,
          0.14055476770627406,
          0.04636414433084483,
          0.020387810458787625,
          0.10324047714195787,
          0.13953449306319338,
          0.07269589449971178
         ]
        },
        {
         "name": "Agriculture, forestry, fishing and hunting",
         "type": "bar",
         "x": [
          "Balance work and family",
          "Best avenue for ideas",
          "Carry on family business",
          "Couldn't find a job",
          "Flexible hours",
          "Friend or family role model",
          "Greater income",
          "Help my community",
          "Other",
          "Start my own business",
          "Wanted to be my own boss",
          "Work for self",
          "mysum"
         ],
         "y": [
          0.12305570948079228,
          0.11613551721027333,
          0.07202412402221678,
          0.012770783128648565,
          0.11328754236523667,
          0.07357053570277967,
          0.13942189976674957,
          0.042036624183301334,
          0.022526063480199487,
          0.08964033041662908,
          0.1277980386345185,
          0.06773283160865474
         ]
        },
        {
         "name": "Arts, entertainment, and recreation",
         "type": "bar",
         "x": [
          "Balance work and family",
          "Best avenue for ideas",
          "Carry on family business",
          "Couldn't find a job",
          "Flexible hours",
          "Friend or family role model",
          "Greater income",
          "Help my community",
          "Other",
          "Start my own business",
          "Wanted to be my own boss",
          "Work for self",
          "mysum"
         ],
         "y": [
          0.12003240783231478,
          0.12978007614574663,
          0.03348387362211328,
          0.014077152161735338,
          0.12731467562101825,
          0.057102980317938555,
          0.12969146097926088,
          0.05926455741471581,
          0.025834485857968877,
          0.09488152468723593,
          0.13877768037142413,
          0.0697591249885275
         ]
        },
        {
         "name": "Construction",
         "type": "bar",
         "x": [
          "Balance work and family",
          "Best avenue for ideas",
          "Carry on family business",
          "Couldn't find a job",
          "Flexible hours",
          "Friend or family role model",
          "Greater income",
          "Help my community",
          "Other",
          "Start my own business",
          "Wanted to be my own boss",
          "Work for self",
          "mysum"
         ],
         "y": [
          0.12652885072198503,
          0.11866520092675481,
          0.04550070194912026,
          0.017208730672664648,
          0.11354882452696066,
          0.06157966835722545,
          0.14235623097033537,
          0.04239068561579866,
          0.019794213597440782,
          0.1037757307173647,
          0.1364692730623613,
          0.07218188888198829
         ]
        },
        {
         "name": "Educational services",
         "type": "bar",
         "x": [
          "Balance work and family",
          "Best avenue for ideas",
          "Carry on family business",
          "Couldn't find a job",
          "Flexible hours",
          "Friend or family role model",
          "Greater income",
          "Help my community",
          "Other",
          "Start my own business",
          "Wanted to be my own boss",
          "Work for self",
          "mysum"
         ],
         "y": [
          0.12407326958605644,
          0.13871000081156043,
          0.02562144047204174,
          0.012001546738720503,
          0.12372954987038902,
          0.05611224358270517,
          0.11868832737393363,
          0.08582967733311692,
          0.030581506924520104,
          0.09157743480066644,
          0.1289760494192569,
          0.0640989530870327
         ]
        },
        {
         "name": "Finance and insurance",
         "type": "bar",
         "x": [
          "Balance work and family",
          "Best avenue for ideas",
          "Carry on family business",
          "Couldn't find a job",
          "Flexible hours",
          "Friend or family role model",
          "Greater income",
          "Help my community",
          "Other",
          "Start my own business",
          "Wanted to be my own boss",
          "Work for self",
          "mysum"
         ],
         "y": [
          0.12878232060194705,
          0.11276088704061343,
          0.03740125745606964,
          0.011669797694992877,
          0.1250536003535704,
          0.06506397496932032,
          0.1436028869068182,
          0.05618633073090594,
          0.017439443938142726,
          0.0933123208980513,
          0.13832565107293926,
          0.07040152833662887
         ]
        },
        {
         "name": "Health care and social assistance",
         "type": "bar",
         "x": [
          "Balance work and family",
          "Best avenue for ideas",
          "Carry on family business",
          "Couldn't find a job",
          "Flexible hours",
          "Friend or family role model",
          "Greater income",
          "Help my community",
          "Other",
          "Start my own business",
          "Wanted to be my own boss",
          "Work for self",
          "mysum"
         ],
         "y": [
          0.13227753104243603,
          0.13116392078841846,
          0.021404596564485467,
          0.01385826093888544,
          0.12396140071335614,
          0.04811754872717331,
          0.12952505036188666,
          0.08036822987810932,
          0.021841335236790122,
          0.08972950079253642,
          0.1379746965448738,
          0.06977792841104885
         ]
        },
        {
         "name": "Industries not classified",
         "type": "bar",
         "x": [
          "Balance work and family",
          "Best avenue for ideas",
          "Carry on family business",
          "Couldn't find a job",
          "Flexible hours",
          "Friend or family role model",
          "Greater income",
          "Help my community",
          "Other",
          "Start my own business",
          "Wanted to be my own boss",
          "Work for self",
          "mysum"
         ],
         "y": [
          0.1282240565510145,
          0.09663780954298369,
          0.1152495358253361,
          0.01711294543990336,
          0.11278885086012125,
          0.07896561752007696,
          0.09853924792519518,
          0.046126658166118606,
          0.023040959219739168,
          0.08838332997785384,
          0.1274187414714896,
          0.06751224750016778
         ]
        },
        {
         "name": "Information",
         "type": "bar",
         "x": [
          "Balance work and family",
          "Best avenue for ideas",
          "Carry on family business",
          "Couldn't find a job",
          "Flexible hours",
          "Friend or family role model",
          "Greater income",
          "Help my community",
          "Other",
          "Start my own business",
          "Wanted to be my own boss",
          "Work for self",
          "mysum"
         ],
         "y": [
          0.1199826219641419,
          0.14358602127749756,
          0.02491205018437672,
          0.012943457805281227,
          0.12183168736489637,
          0.056764718348662736,
          0.14251578858135888,
          0.046973678633492985,
          0.02455707201288518,
          0.09576463357775611,
          0.14289195947950664,
          0.06727631077014369
         ]
        },
        {
         "name": "Management of companies and enterprises",
         "type": "bar",
         "x": [
          "Balance work and family",
          "Best avenue for ideas",
          "Carry on family business",
          "Couldn't find a job",
          "Flexible hours",
          "Friend or family role model",
          "Greater income",
          "Help my community",
          "Other",
          "Start my own business",
          "Wanted to be my own boss",
          "Work for self",
          "mysum"
         ],
         "y": [
          0.09875063390346227,
          0.11352634733299526,
          0.08978378129178,
          0.014291641694712092,
          0.08478170669863076,
          0.08805495366741967,
          0.13858282236872435,
          0.06315983587663086,
          0.017495735558526578,
          0.09713706145405929,
          0.13162140980130008,
          0.06281407035175879
         ]
        },
        {
         "name": "Manufacturing",
         "type": "bar",
         "x": [
          "Balance work and family",
          "Best avenue for ideas",
          "Carry on family business",
          "Couldn't find a job",
          "Flexible hours",
          "Friend or family role model",
          "Greater income",
          "Help my community",
          "Other",
          "Start my own business",
          "Wanted to be my own boss",
          "Work for self",
          "mysum"
         ],
         "y": [
          0.11615056710255006,
          0.12175216216853517,
          0.06626152479714523,
          0.015327095947620632,
          0.10584080256342404,
          0.0702950400469507,
          0.13765697173264305,
          0.04362589309809079,
          0.020677169439080687,
          0.097357189456006,
          0.13475530356820034,
          0.0703002800797533
         ]
        },
        {
         "name": "Mining, quarrying, and oil and gas extraction",
         "type": "bar",
         "x": [
          "Balance work and family",
          "Best avenue for ideas",
          "Carry on family business",
          "Couldn't find a job",
          "Flexible hours",
          "Friend or family role model",
          "Greater income",
          "Help my community",
          "Other",
          "Start my own business",
          "Wanted to be my own boss",
          "Work for self",
          "mysum"
         ],
         "y": [
          0.12697759581953216,
          0.10973728063859114,
          0.06425000514329211,
          0.01582076655625733,
          0.10064394017322607,
          0.06505235871376551,
          0.1573230193182052,
          0.03760775196988088,
          0.015903059230152037,
          0.10383278128664596,
          0.13018701010142572,
          0.07266443104902585
         ]
        },
        {
         "name": "Other services (except public administration)",
         "type": "bar",
         "x": [
          "Balance work and family",
          "Best avenue for ideas",
          "Carry on family business",
          "Couldn't find a job",
          "Flexible hours",
          "Friend or family role model",
          "Greater income",
          "Help my community",
          "Other",
          "Start my own business",
          "Wanted to be my own boss",
          "Work for self",
          "mysum"
         ],
         "y": [
          0.12356293028540873,
          0.1169022792594078,
          0.040463538533520485,
          0.017807131876211482,
          0.11338062295301116,
          0.06044799812846735,
          0.1336533319965243,
          0.05343476371900274,
          0.02218935900006684,
          0.10870596885234944,
          0.13766710112960365,
          0.07178497426642604
         ]
        },
        {
         "name": "Professional, scientific, and technical services",
         "type": "bar",
         "x": [
          "Balance work and family",
          "Best avenue for ideas",
          "Carry on family business",
          "Couldn't find a job",
          "Flexible hours",
          "Friend or family role model",
          "Greater income",
          "Help my community",
          "Other",
          "Start my own business",
          "Wanted to be my own boss",
          "Work for self",
          "mysum"
         ],
         "y": [
          0.133644339233426,
          0.1335273685074641,
          0.01931778585690041,
          0.013093674878457903,
          0.13378280156867609,
          0.04940920975352647,
          0.14271415067450183,
          0.04364241203501935,
          0.017180603857849565,
          0.09377352846775043,
          0.14940085973483583,
          0.07051326543159203
         ]
        },
        {
         "name": "Real estate and rental and leasing",
         "type": "bar",
         "x": [
          "Balance work and family",
          "Best avenue for ideas",
          "Carry on family business",
          "Couldn't find a job",
          "Flexible hours",
          "Friend or family role model",
          "Greater income",
          "Help my community",
          "Other",
          "Start my own business",
          "Wanted to be my own boss",
          "Work for self",
          "mysum"
         ],
         "y": [
          0.1204968247569385,
          0.10726318119815276,
          0.05034178936958205,
          0.014354090113291744,
          0.12256853913684046,
          0.06922793595183337,
          0.14317160813566007,
          0.050072070138600884,
          0.022239752361010008,
          0.09481549367803258,
          0.1320290136686746,
          0.07341970149138301
         ]
        },
        {
         "name": "Retail trade",
         "type": "bar",
         "x": [
          "Balance work and family",
          "Best avenue for ideas",
          "Carry on family business",
          "Couldn't find a job",
          "Flexible hours",
          "Friend or family role model",
          "Greater income",
          "Help my community",
          "Other",
          "Start my own business",
          "Wanted to be my own boss",
          "Work for self",
          "mysum"
         ],
         "y": [
          0.11774936942479237,
          0.11220276837896032,
          0.05472433097508459,
          0.019447554598585052,
          0.10680184558597354,
          0.07219587819132575,
          0.1269861581051984,
          0.059502676099661644,
          0.02282965241464165,
          0.10497939095662873,
          0.1318776991694863,
          0.07070267609966165
         ]
        },
        {
         "name": "Transportation and warehousing",
         "type": "bar",
         "x": [
          "Balance work and family",
          "Best avenue for ideas",
          "Carry on family business",
          "Couldn't find a job",
          "Flexible hours",
          "Friend or family role model",
          "Greater income",
          "Help my community",
          "Other",
          "Start my own business",
          "Wanted to be my own boss",
          "Work for self",
          "mysum"
         ],
         "y": [
          0.12048747434083346,
          0.11094724674651733,
          0.05144986746915917,
          0.020282201008430156,
          0.11261534169041593,
          0.06653646092831376,
          0.14271279669968312,
          0.043236941228052696,
          0.020110807740598282,
          0.10579747693166192,
          0.1343743149251649,
          0.07144907029116926
         ]
        },
        {
         "name": "Utilities",
         "type": "bar",
         "x": [
          "Balance work and family",
          "Best avenue for ideas",
          "Carry on family business",
          "Couldn't find a job",
          "Flexible hours",
          "Friend or family role model",
          "Greater income",
          "Help my community",
          "Other",
          "Start my own business",
          "Wanted to be my own boss",
          "Work for self",
          "mysum"
         ],
         "y": [
          0.12036914963744232,
          0.1036255767963085,
          0.06288727752142387,
          0.021226104152933422,
          0.11720500988793672,
          0.06578773895847066,
          0.13183915622940012,
          0.043375082399472645,
          0.022280817402768622,
          0.10454845088991431,
          0.12907053394858273,
          0.07778510217534608
         ]
        },
        {
         "name": "Wholesale trade",
         "type": "bar",
         "x": [
          "Balance work and family",
          "Best avenue for ideas",
          "Carry on family business",
          "Couldn't find a job",
          "Flexible hours",
          "Friend or family role model",
          "Greater income",
          "Help my community",
          "Other",
          "Start my own business",
          "Wanted to be my own boss",
          "Work for self",
          "mysum"
         ],
         "y": [
          0.11667119403247588,
          0.11598427212660468,
          0.06214737845977061,
          0.01774466829391268,
          0.1097042620426302,
          0.07115651071031438,
          0.14255437236052945,
          0.042239345870553814,
          0.018359282630744787,
          0.09840083016906291,
          0.13408559261915604,
          0.07095229068424456
         ]
        }
       ],
       "layout": {
        "barmode": "group",
        "legend": {
         "title": {
          "text": "Industry Names"
         }
        },
        "template": {
         "data": {
          "bar": [
           {
            "error_x": {
             "color": "#2a3f5f"
            },
            "error_y": {
             "color": "#2a3f5f"
            },
            "marker": {
             "line": {
              "color": "#E5ECF6",
              "width": 0.5
             },
             "pattern": {
              "fillmode": "overlay",
              "size": 10,
              "solidity": 0.2
             }
            },
            "type": "bar"
           }
          ],
          "barpolar": [
           {
            "marker": {
             "line": {
              "color": "#E5ECF6",
              "width": 0.5
             },
             "pattern": {
              "fillmode": "overlay",
              "size": 10,
              "solidity": 0.2
             }
            },
            "type": "barpolar"
           }
          ],
          "carpet": [
           {
            "aaxis": {
             "endlinecolor": "#2a3f5f",
             "gridcolor": "white",
             "linecolor": "white",
             "minorgridcolor": "white",
             "startlinecolor": "#2a3f5f"
            },
            "baxis": {
             "endlinecolor": "#2a3f5f",
             "gridcolor": "white",
             "linecolor": "white",
             "minorgridcolor": "white",
             "startlinecolor": "#2a3f5f"
            },
            "type": "carpet"
           }
          ],
          "choropleth": [
           {
            "colorbar": {
             "outlinewidth": 0,
             "ticks": ""
            },
            "type": "choropleth"
           }
          ],
          "contour": [
           {
            "colorbar": {
             "outlinewidth": 0,
             "ticks": ""
            },
            "colorscale": [
             [
              0,
              "#0d0887"
             ],
             [
              0.1111111111111111,
              "#46039f"
             ],
             [
              0.2222222222222222,
              "#7201a8"
             ],
             [
              0.3333333333333333,
              "#9c179e"
             ],
             [
              0.4444444444444444,
              "#bd3786"
             ],
             [
              0.5555555555555556,
              "#d8576b"
             ],
             [
              0.6666666666666666,
              "#ed7953"
             ],
             [
              0.7777777777777778,
              "#fb9f3a"
             ],
             [
              0.8888888888888888,
              "#fdca26"
             ],
             [
              1,
              "#f0f921"
             ]
            ],
            "type": "contour"
           }
          ],
          "contourcarpet": [
           {
            "colorbar": {
             "outlinewidth": 0,
             "ticks": ""
            },
            "type": "contourcarpet"
           }
          ],
          "heatmap": [
           {
            "colorbar": {
             "outlinewidth": 0,
             "ticks": ""
            },
            "colorscale": [
             [
              0,
              "#0d0887"
             ],
             [
              0.1111111111111111,
              "#46039f"
             ],
             [
              0.2222222222222222,
              "#7201a8"
             ],
             [
              0.3333333333333333,
              "#9c179e"
             ],
             [
              0.4444444444444444,
              "#bd3786"
             ],
             [
              0.5555555555555556,
              "#d8576b"
             ],
             [
              0.6666666666666666,
              "#ed7953"
             ],
             [
              0.7777777777777778,
              "#fb9f3a"
             ],
             [
              0.8888888888888888,
              "#fdca26"
             ],
             [
              1,
              "#f0f921"
             ]
            ],
            "type": "heatmap"
           }
          ],
          "heatmapgl": [
           {
            "colorbar": {
             "outlinewidth": 0,
             "ticks": ""
            },
            "colorscale": [
             [
              0,
              "#0d0887"
             ],
             [
              0.1111111111111111,
              "#46039f"
             ],
             [
              0.2222222222222222,
              "#7201a8"
             ],
             [
              0.3333333333333333,
              "#9c179e"
             ],
             [
              0.4444444444444444,
              "#bd3786"
             ],
             [
              0.5555555555555556,
              "#d8576b"
             ],
             [
              0.6666666666666666,
              "#ed7953"
             ],
             [
              0.7777777777777778,
              "#fb9f3a"
             ],
             [
              0.8888888888888888,
              "#fdca26"
             ],
             [
              1,
              "#f0f921"
             ]
            ],
            "type": "heatmapgl"
           }
          ],
          "histogram": [
           {
            "marker": {
             "pattern": {
              "fillmode": "overlay",
              "size": 10,
              "solidity": 0.2
             }
            },
            "type": "histogram"
           }
          ],
          "histogram2d": [
           {
            "colorbar": {
             "outlinewidth": 0,
             "ticks": ""
            },
            "colorscale": [
             [
              0,
              "#0d0887"
             ],
             [
              0.1111111111111111,
              "#46039f"
             ],
             [
              0.2222222222222222,
              "#7201a8"
             ],
             [
              0.3333333333333333,
              "#9c179e"
             ],
             [
              0.4444444444444444,
              "#bd3786"
             ],
             [
              0.5555555555555556,
              "#d8576b"
             ],
             [
              0.6666666666666666,
              "#ed7953"
             ],
             [
              0.7777777777777778,
              "#fb9f3a"
             ],
             [
              0.8888888888888888,
              "#fdca26"
             ],
             [
              1,
              "#f0f921"
             ]
            ],
            "type": "histogram2d"
           }
          ],
          "histogram2dcontour": [
           {
            "colorbar": {
             "outlinewidth": 0,
             "ticks": ""
            },
            "colorscale": [
             [
              0,
              "#0d0887"
             ],
             [
              0.1111111111111111,
              "#46039f"
             ],
             [
              0.2222222222222222,
              "#7201a8"
             ],
             [
              0.3333333333333333,
              "#9c179e"
             ],
             [
              0.4444444444444444,
              "#bd3786"
             ],
             [
              0.5555555555555556,
              "#d8576b"
             ],
             [
              0.6666666666666666,
              "#ed7953"
             ],
             [
              0.7777777777777778,
              "#fb9f3a"
             ],
             [
              0.8888888888888888,
              "#fdca26"
             ],
             [
              1,
              "#f0f921"
             ]
            ],
            "type": "histogram2dcontour"
           }
          ],
          "mesh3d": [
           {
            "colorbar": {
             "outlinewidth": 0,
             "ticks": ""
            },
            "type": "mesh3d"
           }
          ],
          "parcoords": [
           {
            "line": {
             "colorbar": {
              "outlinewidth": 0,
              "ticks": ""
             }
            },
            "type": "parcoords"
           }
          ],
          "pie": [
           {
            "automargin": true,
            "type": "pie"
           }
          ],
          "scatter": [
           {
            "fillpattern": {
             "fillmode": "overlay",
             "size": 10,
             "solidity": 0.2
            },
            "type": "scatter"
           }
          ],
          "scatter3d": [
           {
            "line": {
             "colorbar": {
              "outlinewidth": 0,
              "ticks": ""
             }
            },
            "marker": {
             "colorbar": {
              "outlinewidth": 0,
              "ticks": ""
             }
            },
            "type": "scatter3d"
           }
          ],
          "scattercarpet": [
           {
            "marker": {
             "colorbar": {
              "outlinewidth": 0,
              "ticks": ""
             }
            },
            "type": "scattercarpet"
           }
          ],
          "scattergeo": [
           {
            "marker": {
             "colorbar": {
              "outlinewidth": 0,
              "ticks": ""
             }
            },
            "type": "scattergeo"
           }
          ],
          "scattergl": [
           {
            "marker": {
             "colorbar": {
              "outlinewidth": 0,
              "ticks": ""
             }
            },
            "type": "scattergl"
           }
          ],
          "scattermapbox": [
           {
            "marker": {
             "colorbar": {
              "outlinewidth": 0,
              "ticks": ""
             }
            },
            "type": "scattermapbox"
           }
          ],
          "scatterpolar": [
           {
            "marker": {
             "colorbar": {
              "outlinewidth": 0,
              "ticks": ""
             }
            },
            "type": "scatterpolar"
           }
          ],
          "scatterpolargl": [
           {
            "marker": {
             "colorbar": {
              "outlinewidth": 0,
              "ticks": ""
             }
            },
            "type": "scatterpolargl"
           }
          ],
          "scatterternary": [
           {
            "marker": {
             "colorbar": {
              "outlinewidth": 0,
              "ticks": ""
             }
            },
            "type": "scatterternary"
           }
          ],
          "surface": [
           {
            "colorbar": {
             "outlinewidth": 0,
             "ticks": ""
            },
            "colorscale": [
             [
              0,
              "#0d0887"
             ],
             [
              0.1111111111111111,
              "#46039f"
             ],
             [
              0.2222222222222222,
              "#7201a8"
             ],
             [
              0.3333333333333333,
              "#9c179e"
             ],
             [
              0.4444444444444444,
              "#bd3786"
             ],
             [
              0.5555555555555556,
              "#d8576b"
             ],
             [
              0.6666666666666666,
              "#ed7953"
             ],
             [
              0.7777777777777778,
              "#fb9f3a"
             ],
             [
              0.8888888888888888,
              "#fdca26"
             ],
             [
              1,
              "#f0f921"
             ]
            ],
            "type": "surface"
           }
          ],
          "table": [
           {
            "cells": {
             "fill": {
              "color": "#EBF0F8"
             },
             "line": {
              "color": "white"
             }
            },
            "header": {
             "fill": {
              "color": "#C8D4E3"
             },
             "line": {
              "color": "white"
             }
            },
            "type": "table"
           }
          ]
         },
         "layout": {
          "annotationdefaults": {
           "arrowcolor": "#2a3f5f",
           "arrowhead": 0,
           "arrowwidth": 1
          },
          "autotypenumbers": "strict",
          "coloraxis": {
           "colorbar": {
            "outlinewidth": 0,
            "ticks": ""
           }
          },
          "colorscale": {
           "diverging": [
            [
             0,
             "#8e0152"
            ],
            [
             0.1,
             "#c51b7d"
            ],
            [
             0.2,
             "#de77ae"
            ],
            [
             0.3,
             "#f1b6da"
            ],
            [
             0.4,
             "#fde0ef"
            ],
            [
             0.5,
             "#f7f7f7"
            ],
            [
             0.6,
             "#e6f5d0"
            ],
            [
             0.7,
             "#b8e186"
            ],
            [
             0.8,
             "#7fbc41"
            ],
            [
             0.9,
             "#4d9221"
            ],
            [
             1,
             "#276419"
            ]
           ],
           "sequential": [
            [
             0,
             "#0d0887"
            ],
            [
             0.1111111111111111,
             "#46039f"
            ],
            [
             0.2222222222222222,
             "#7201a8"
            ],
            [
             0.3333333333333333,
             "#9c179e"
            ],
            [
             0.4444444444444444,
             "#bd3786"
            ],
            [
             0.5555555555555556,
             "#d8576b"
            ],
            [
             0.6666666666666666,
             "#ed7953"
            ],
            [
             0.7777777777777778,
             "#fb9f3a"
            ],
            [
             0.8888888888888888,
             "#fdca26"
            ],
            [
             1,
             "#f0f921"
            ]
           ],
           "sequentialminus": [
            [
             0,
             "#0d0887"
            ],
            [
             0.1111111111111111,
             "#46039f"
            ],
            [
             0.2222222222222222,
             "#7201a8"
            ],
            [
             0.3333333333333333,
             "#9c179e"
            ],
            [
             0.4444444444444444,
             "#bd3786"
            ],
            [
             0.5555555555555556,
             "#d8576b"
            ],
            [
             0.6666666666666666,
             "#ed7953"
            ],
            [
             0.7777777777777778,
             "#fb9f3a"
            ],
            [
             0.8888888888888888,
             "#fdca26"
            ],
            [
             1,
             "#f0f921"
            ]
           ]
          },
          "colorway": [
           "#636efa",
           "#EF553B",
           "#00cc96",
           "#ab63fa",
           "#FFA15A",
           "#19d3f3",
           "#FF6692",
           "#B6E880",
           "#FF97FF",
           "#FECB52"
          ],
          "font": {
           "color": "#2a3f5f"
          },
          "geo": {
           "bgcolor": "white",
           "lakecolor": "white",
           "landcolor": "#E5ECF6",
           "showlakes": true,
           "showland": true,
           "subunitcolor": "white"
          },
          "hoverlabel": {
           "align": "left"
          },
          "hovermode": "closest",
          "mapbox": {
           "style": "light"
          },
          "paper_bgcolor": "white",
          "plot_bgcolor": "#E5ECF6",
          "polar": {
           "angularaxis": {
            "gridcolor": "white",
            "linecolor": "white",
            "ticks": ""
           },
           "bgcolor": "#E5ECF6",
           "radialaxis": {
            "gridcolor": "white",
            "linecolor": "white",
            "ticks": ""
           }
          },
          "scene": {
           "xaxis": {
            "backgroundcolor": "#E5ECF6",
            "gridcolor": "white",
            "gridwidth": 2,
            "linecolor": "white",
            "showbackground": true,
            "ticks": "",
            "zerolinecolor": "white"
           },
           "yaxis": {
            "backgroundcolor": "#E5ECF6",
            "gridcolor": "white",
            "gridwidth": 2,
            "linecolor": "white",
            "showbackground": true,
            "ticks": "",
            "zerolinecolor": "white"
           },
           "zaxis": {
            "backgroundcolor": "#E5ECF6",
            "gridcolor": "white",
            "gridwidth": 2,
            "linecolor": "white",
            "showbackground": true,
            "ticks": "",
            "zerolinecolor": "white"
           }
          },
          "shapedefaults": {
           "line": {
            "color": "#2a3f5f"
           }
          },
          "ternary": {
           "aaxis": {
            "gridcolor": "white",
            "linecolor": "white",
            "ticks": ""
           },
           "baxis": {
            "gridcolor": "white",
            "linecolor": "white",
            "ticks": ""
           },
           "bgcolor": "#E5ECF6",
           "caxis": {
            "gridcolor": "white",
            "linecolor": "white",
            "ticks": ""
           }
          },
          "title": {
           "x": 0.05
          },
          "xaxis": {
           "automargin": true,
           "gridcolor": "white",
           "linecolor": "white",
           "ticks": "",
           "title": {
            "standoff": 15
           },
           "zerolinecolor": "white",
           "zerolinewidth": 2
          },
          "yaxis": {
           "automargin": true,
           "gridcolor": "white",
           "linecolor": "white",
           "ticks": "",
           "title": {
            "standoff": 15
           },
           "zerolinecolor": "white",
           "zerolinewidth": 2
          }
         }
        },
        "title": {
         "text": "Reasons for owning a business for every industry"
        },
        "xaxis": {
         "title": {
          "text": "Reasons for owning a business"
         }
        },
        "yaxis": {
         "title": {
          "text": "Proportion of Business Owners"
         }
        }
       }
      }
     },
     "metadata": {},
     "output_type": "display_data"
    },
    {
     "name": "stdout",
     "output_type": "stream",
     "text": [
      "<class 'pandas.core.frame.DataFrame'>\n",
      "Index: 20 entries, Accommodation and food services to Wholesale trade\n",
      "Data columns (total 13 columns):\n",
      " #   Column                       Non-Null Count  Dtype\n",
      "---  ------                       --------------  -----\n",
      " 0   Balance work and family      20 non-null     int64\n",
      " 1   Best avenue for ideas        20 non-null     int64\n",
      " 2   Carry on family business     20 non-null     int64\n",
      " 3   Couldn't find a job          20 non-null     int64\n",
      " 4   Flexible hours               20 non-null     int64\n",
      " 5   Friend or family role model  20 non-null     int64\n",
      " 6   Greater income               20 non-null     int64\n",
      " 7   Help my community            20 non-null     int64\n",
      " 8   Other                        20 non-null     int64\n",
      " 9   Start my own business        20 non-null     int64\n",
      " 10  Wanted to be my own boss     20 non-null     int64\n",
      " 11  Work for self                20 non-null     int64\n",
      " 12  mysum                        20 non-null     int64\n",
      "dtypes: int64(13)\n",
      "memory usage: 2.2+ KB\n"
     ]
    }
   ],
   "source": [
    "\n",
    "#im plotting a grouped bar chart of the proportions for each reason to make it more clear which reasons stand out for each\n",
    "\n",
    "cols = df.columns\n",
    "print(cols)\n",
    "cols\n",
    "\"\"\"https://www.w3resource.com/pandas/dataframe/dataframe-pivot.php\"\"\"\n",
    "# for i in df.index:\n",
    "#     tempdf = df[df.index == i]\n",
    "#     fig = px.bar(tempdf, y=cols, title=\"Reasons to own business\",barmode='group')\n",
    "#     # fig.show()\n",
    "\n",
    "# fig = px.bar(df, x=df.index, color=\"OWNCHAR_LABEL\", title=\"Long-Form Input\")\n",
    "\n",
    "\n",
    "import plotly.graph_objects as go\n",
    "# df = df[:5]\n",
    "# cols = df.index\n",
    "print(type(df))\n",
    "\n",
    "   \n",
    "fig = go.Figure(data=[\n",
    "    go.Bar(name=index, x=cols, y=row[:len(row)-1].map(lambda x: x/row.mysum)) for index,row in df.iterrows()]\n",
    "                )\n",
    "   \n",
    "\n",
    "# Change the bar mode\n",
    "fig.update_layout(barmode='group',title=\"Reasons for owning a business for every industry\",yaxis_title=\"Proportion of Business Owners\",xaxis_title=\"Reasons for owning a business\",\n",
    "                  legend_title=\"Industry Names\")\n",
    "\n",
    "fig.show()\n",
    "# fig.show()\n",
    "\n",
    "df.info()"
   ]
  }
 ],
 "metadata": {
  "kernelspec": {
   "display_name": "base",
   "language": "python",
   "name": "python3"
  },
  "language_info": {
   "codemirror_mode": {
    "name": "ipython",
    "version": 3
   },
   "file_extension": ".py",
   "mimetype": "text/x-python",
   "name": "python",
   "nbconvert_exporter": "python",
   "pygments_lexer": "ipython3",
   "version": "3.8.16"
  },
  "orig_nbformat": 4
 },
 "nbformat": 4,
 "nbformat_minor": 2
}
