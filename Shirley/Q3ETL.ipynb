{
 "cells": [
  {
   "attachments": {},
   "cell_type": "markdown",
   "metadata": {},
   "source": [
    "# Question : Education Levels of Business Owners in US"
   ]
  },
  {
   "cell_type": "code",
   "execution_count": 165,
   "metadata": {},
   "outputs": [],
   "source": [
    "import pandas as pd\n",
    "from matplotlib import pyplot as plt\n",
    "import seaborn as sns\n",
    "import plotly.express as px\n",
    "import numpy as np\n",
    "import random\n",
    "import requests\n",
    "from IPython.display import display\n",
    "\n",
    "pd.options.display.max_columns = None\n",
    "pd.options.display.max_rows = None\n"
   ]
  },
  {
   "attachments": {},
   "cell_type": "markdown",
   "metadata": {},
   "source": [
    "### Extraction:\n",
    "\n",
    "-   Function that takes in a url for a http get request from our business census api and returns a dataframe"
   ]
  },
  {
   "cell_type": "code",
   "execution_count": 166,
   "metadata": {},
   "outputs": [],
   "source": [
    "#returns a dataframe after you pass in a string url that's valid hopefully\n",
    "def getDF(apiurl):\n",
    "    response = requests.get(apiurl)\n",
    "\n",
    "    col = response.json()[0] # header row\n",
    "\n",
    "    test = pd.DataFrame(data = response.json(),columns = col) #makes data frame with the header row as column names\n",
    "    test.drop(0,axis = 0,inplace=True) #it came with the header row that I dropped\n",
    "    return test"
   ]
  },
  {
   "attachments": {},
   "cell_type": "markdown",
   "metadata": {},
   "source": [
    "-   The URLs for acquiring the API calls for education. This utilizes the **'EDUC'** label for **'Characteristics of Business Owners'** in the API call.\n",
    "-   One of the urls is a request for education data for **all of US** and the other is a request for the education data seperated by **US States**.\n",
    "-   The URL also contains various variables that are not entirely necessary but were interesting to include if we wanted to look at any other trends."
   ]
  },
  {
   "cell_type": "code",
   "execution_count": 167,
   "metadata": {},
   "outputs": [],
   "source": [
    "\n",
    "\n",
    "urlUS= \"https://api.census.gov/data/2018/abscbo?get=GEO_ID,NAME,NAICS2017,NAICS2017_LABEL,OWNER_RACE,OWNER_RACE_LABEL,QDESC,QDESC_LABEL,OWNCHAR,OWNCHAR_LABEL,YEAR,OWNPDEMP&for=us:*&NAICS2017=00&QDESC_LABEL=\"\n",
    "\n",
    "label = \"EDUC\"\n",
    "\n",
    "key =\"&key=7325759f1ae7120e7f55c22ccd6fe9de386a7a0c\"\n",
    "\n",
    "urlState= \"https://api.census.gov/data/2018/abscbo?get=GEO_ID,NAME,NAICS2017,NAICS2017_LABEL,OWNER_SEX,OWNER_SEX_LABEL,OWNER_ETH,OWNER_ETH_LABEL,OWNER_RACE,OWNER_RACE_LABEL,OWNER_VET,OWNER_VET_LABEL,QDESC,QDESC_LABEL,OWNCHAR,OWNCHAR_LABEL,YEAR,OWNPDEMP,OWNPDEMP_F,OWNPDEMP_PCT,OWNPDEMP_PCT_F,OWNPDEMP_S,OWNPDEMP_S_F,OWNPDEMP_PCT_S,OWNPDEMP_PCT_S_F&for=state:*&NAICS2017=00&QDESC_LABEL=\"\n",
    "\n",
    "fullurlUS = urlUS + label + key\n",
    "\n",
    "fullurlState = urlState + label + key\n",
    "\n",
    "#data frame for US\n",
    "EDUCdf_US = getDF(fullurlUS)\n",
    "\n",
    "#data frame for all US States\n",
    "EDUCdf_States = getDF(fullurlState)\n"
   ]
  },
  {
   "attachments": {},
   "cell_type": "markdown",
   "metadata": {},
   "source": [
    "### Transform:\n",
    "\n",
    "-   Filterd out the columns we need to answer education of business owners for both the US dataframe and the States dataframe.\n",
    "-   In this case: \n",
    "    -   We filtered out the education level labels i.e. 'Associate degree', 'Bachelor's degree', etc : OWNCHAR_LABEL.\n",
    "    -   We filtered out the number of business owners that fit the surveyed question: 'OWNPDEMP' which will be the number of business owners with x degree/level of education \n",
    "    -   We filtered out some other identifiable variables such as 'NAME' which is just 'United States' and 'OWNER_RACE_LABEL' which is 'Asian', 'White', etc.\n"
   ]
  },
  {
   "cell_type": "code",
   "execution_count": 168,
   "metadata": {},
   "outputs": [
    {
     "data": {
      "text/html": [
       "<div>\n",
       "<style scoped>\n",
       "    .dataframe tbody tr th:only-of-type {\n",
       "        vertical-align: middle;\n",
       "    }\n",
       "\n",
       "    .dataframe tbody tr th {\n",
       "        vertical-align: top;\n",
       "    }\n",
       "\n",
       "    .dataframe thead th {\n",
       "        text-align: right;\n",
       "    }\n",
       "</style>\n",
       "<table border=\"1\" class=\"dataframe\">\n",
       "  <thead>\n",
       "    <tr style=\"text-align: right;\">\n",
       "      <th></th>\n",
       "      <th>NAME</th>\n",
       "      <th>OWNER_RACE_LABEL</th>\n",
       "      <th>OWNCHAR_LABEL</th>\n",
       "      <th>OWNPDEMP</th>\n",
       "    </tr>\n",
       "  </thead>\n",
       "  <tbody>\n",
       "    <tr>\n",
       "      <th>1</th>\n",
       "      <td>United States</td>\n",
       "      <td>All owners of respondent firms</td>\n",
       "      <td>Less than high school graduate</td>\n",
       "      <td>110743</td>\n",
       "    </tr>\n",
       "    <tr>\n",
       "      <th>2</th>\n",
       "      <td>United States</td>\n",
       "      <td>All owners of respondent firms</td>\n",
       "      <td>High school graduate - diploma or GED</td>\n",
       "      <td>791649</td>\n",
       "    </tr>\n",
       "    <tr>\n",
       "      <th>3</th>\n",
       "      <td>United States</td>\n",
       "      <td>All owners of respondent firms</td>\n",
       "      <td>Technical, trade, or vocational school</td>\n",
       "      <td>229223</td>\n",
       "    </tr>\n",
       "    <tr>\n",
       "      <th>4</th>\n",
       "      <td>United States</td>\n",
       "      <td>All owners of respondent firms</td>\n",
       "      <td>Some college, but no degree</td>\n",
       "      <td>583812</td>\n",
       "    </tr>\n",
       "    <tr>\n",
       "      <th>5</th>\n",
       "      <td>United States</td>\n",
       "      <td>All owners of respondent firms</td>\n",
       "      <td>Associate degree</td>\n",
       "      <td>229161</td>\n",
       "    </tr>\n",
       "    <tr>\n",
       "      <th>6</th>\n",
       "      <td>United States</td>\n",
       "      <td>All owners of respondent firms</td>\n",
       "      <td>Bachelor's degree</td>\n",
       "      <td>1232195</td>\n",
       "    </tr>\n",
       "    <tr>\n",
       "      <th>7</th>\n",
       "      <td>United States</td>\n",
       "      <td>All owners of respondent firms</td>\n",
       "      <td>Master's degree</td>\n",
       "      <td>376334</td>\n",
       "    </tr>\n",
       "    <tr>\n",
       "      <th>8</th>\n",
       "      <td>United States</td>\n",
       "      <td>All owners of respondent firms</td>\n",
       "      <td>Doctorate degree</td>\n",
       "      <td>77752</td>\n",
       "    </tr>\n",
       "    <tr>\n",
       "      <th>9</th>\n",
       "      <td>United States</td>\n",
       "      <td>All owners of respondent firms</td>\n",
       "      <td>Professional degree beyond a bachelor's degree</td>\n",
       "      <td>463423</td>\n",
       "    </tr>\n",
       "    <tr>\n",
       "      <th>10</th>\n",
       "      <td>United States</td>\n",
       "      <td>All owners of respondent firms</td>\n",
       "      <td>Total reporting</td>\n",
       "      <td>4094288</td>\n",
       "    </tr>\n",
       "    <tr>\n",
       "      <th>11</th>\n",
       "      <td>United States</td>\n",
       "      <td>All owners of respondent firms</td>\n",
       "      <td>Item not reported</td>\n",
       "      <td>160686</td>\n",
       "    </tr>\n",
       "    <tr>\n",
       "      <th>12</th>\n",
       "      <td>United States</td>\n",
       "      <td>Native Hawaiian and Other Pacific Islander</td>\n",
       "      <td>Less than high school graduate</td>\n",
       "      <td>147</td>\n",
       "    </tr>\n",
       "    <tr>\n",
       "      <th>13</th>\n",
       "      <td>United States</td>\n",
       "      <td>Native Hawaiian and Other Pacific Islander</td>\n",
       "      <td>High school graduate - diploma or GED</td>\n",
       "      <td>1008</td>\n",
       "    </tr>\n",
       "    <tr>\n",
       "      <th>14</th>\n",
       "      <td>United States</td>\n",
       "      <td>Native Hawaiian and Other Pacific Islander</td>\n",
       "      <td>Technical, trade, or vocational school</td>\n",
       "      <td>304</td>\n",
       "    </tr>\n",
       "    <tr>\n",
       "      <th>15</th>\n",
       "      <td>United States</td>\n",
       "      <td>Native Hawaiian and Other Pacific Islander</td>\n",
       "      <td>Some college, but no degree</td>\n",
       "      <td>829</td>\n",
       "    </tr>\n",
       "    <tr>\n",
       "      <th>16</th>\n",
       "      <td>United States</td>\n",
       "      <td>Native Hawaiian and Other Pacific Islander</td>\n",
       "      <td>Associate degree</td>\n",
       "      <td>207</td>\n",
       "    </tr>\n",
       "    <tr>\n",
       "      <th>17</th>\n",
       "      <td>United States</td>\n",
       "      <td>Native Hawaiian and Other Pacific Islander</td>\n",
       "      <td>Bachelor's degree</td>\n",
       "      <td>1048</td>\n",
       "    </tr>\n",
       "    <tr>\n",
       "      <th>18</th>\n",
       "      <td>United States</td>\n",
       "      <td>Native Hawaiian and Other Pacific Islander</td>\n",
       "      <td>Master's degree</td>\n",
       "      <td>363</td>\n",
       "    </tr>\n",
       "    <tr>\n",
       "      <th>19</th>\n",
       "      <td>United States</td>\n",
       "      <td>Native Hawaiian and Other Pacific Islander</td>\n",
       "      <td>Doctorate degree</td>\n",
       "      <td>146</td>\n",
       "    </tr>\n",
       "    <tr>\n",
       "      <th>20</th>\n",
       "      <td>United States</td>\n",
       "      <td>Native Hawaiian and Other Pacific Islander</td>\n",
       "      <td>Professional degree beyond a bachelor's degree</td>\n",
       "      <td>562</td>\n",
       "    </tr>\n",
       "  </tbody>\n",
       "</table>\n",
       "</div>"
      ],
      "text/plain": [
       "             NAME                            OWNER_RACE_LABEL  \\\n",
       "1   United States              All owners of respondent firms   \n",
       "2   United States              All owners of respondent firms   \n",
       "3   United States              All owners of respondent firms   \n",
       "4   United States              All owners of respondent firms   \n",
       "5   United States              All owners of respondent firms   \n",
       "6   United States              All owners of respondent firms   \n",
       "7   United States              All owners of respondent firms   \n",
       "8   United States              All owners of respondent firms   \n",
       "9   United States              All owners of respondent firms   \n",
       "10  United States              All owners of respondent firms   \n",
       "11  United States              All owners of respondent firms   \n",
       "12  United States  Native Hawaiian and Other Pacific Islander   \n",
       "13  United States  Native Hawaiian and Other Pacific Islander   \n",
       "14  United States  Native Hawaiian and Other Pacific Islander   \n",
       "15  United States  Native Hawaiian and Other Pacific Islander   \n",
       "16  United States  Native Hawaiian and Other Pacific Islander   \n",
       "17  United States  Native Hawaiian and Other Pacific Islander   \n",
       "18  United States  Native Hawaiian and Other Pacific Islander   \n",
       "19  United States  Native Hawaiian and Other Pacific Islander   \n",
       "20  United States  Native Hawaiian and Other Pacific Islander   \n",
       "\n",
       "                                     OWNCHAR_LABEL OWNPDEMP  \n",
       "1                   Less than high school graduate   110743  \n",
       "2            High school graduate - diploma or GED   791649  \n",
       "3           Technical, trade, or vocational school   229223  \n",
       "4                      Some college, but no degree   583812  \n",
       "5                                 Associate degree   229161  \n",
       "6                                Bachelor's degree  1232195  \n",
       "7                                  Master's degree   376334  \n",
       "8                                 Doctorate degree    77752  \n",
       "9   Professional degree beyond a bachelor's degree   463423  \n",
       "10                                 Total reporting  4094288  \n",
       "11                               Item not reported   160686  \n",
       "12                  Less than high school graduate      147  \n",
       "13           High school graduate - diploma or GED     1008  \n",
       "14          Technical, trade, or vocational school      304  \n",
       "15                     Some college, but no degree      829  \n",
       "16                                Associate degree      207  \n",
       "17                               Bachelor's degree     1048  \n",
       "18                                 Master's degree      363  \n",
       "19                                Doctorate degree      146  \n",
       "20  Professional degree beyond a bachelor's degree      562  "
      ]
     },
     "metadata": {},
     "output_type": "display_data"
    },
    {
     "name": "stdout",
     "output_type": "stream",
     "text": [
      "\n",
      "\n"
     ]
    },
    {
     "data": {
      "text/html": [
       "<div>\n",
       "<style scoped>\n",
       "    .dataframe tbody tr th:only-of-type {\n",
       "        vertical-align: middle;\n",
       "    }\n",
       "\n",
       "    .dataframe tbody tr th {\n",
       "        vertical-align: top;\n",
       "    }\n",
       "\n",
       "    .dataframe thead th {\n",
       "        text-align: right;\n",
       "    }\n",
       "</style>\n",
       "<table border=\"1\" class=\"dataframe\">\n",
       "  <thead>\n",
       "    <tr style=\"text-align: right;\">\n",
       "      <th></th>\n",
       "      <th>NAME</th>\n",
       "      <th>OWNER_RACE_LABEL</th>\n",
       "      <th>OWNCHAR_LABEL</th>\n",
       "      <th>OWNPDEMP</th>\n",
       "    </tr>\n",
       "  </thead>\n",
       "  <tbody>\n",
       "    <tr>\n",
       "      <th>1</th>\n",
       "      <td>Mississippi</td>\n",
       "      <td>All owners of respondent firms</td>\n",
       "      <td>Less than high school graduate</td>\n",
       "      <td>877</td>\n",
       "    </tr>\n",
       "    <tr>\n",
       "      <th>2</th>\n",
       "      <td>Mississippi</td>\n",
       "      <td>All owners of respondent firms</td>\n",
       "      <td>High school graduate - diploma or GED</td>\n",
       "      <td>5443</td>\n",
       "    </tr>\n",
       "    <tr>\n",
       "      <th>3</th>\n",
       "      <td>Mississippi</td>\n",
       "      <td>All owners of respondent firms</td>\n",
       "      <td>Technical, trade, or vocational school</td>\n",
       "      <td>1194</td>\n",
       "    </tr>\n",
       "    <tr>\n",
       "      <th>4</th>\n",
       "      <td>Mississippi</td>\n",
       "      <td>All owners of respondent firms</td>\n",
       "      <td>Some college, but no degree</td>\n",
       "      <td>3749</td>\n",
       "    </tr>\n",
       "    <tr>\n",
       "      <th>5</th>\n",
       "      <td>Mississippi</td>\n",
       "      <td>All owners of respondent firms</td>\n",
       "      <td>Associate degree</td>\n",
       "      <td>1725</td>\n",
       "    </tr>\n",
       "    <tr>\n",
       "      <th>6</th>\n",
       "      <td>Mississippi</td>\n",
       "      <td>All owners of respondent firms</td>\n",
       "      <td>Bachelor's degree</td>\n",
       "      <td>6399</td>\n",
       "    </tr>\n",
       "    <tr>\n",
       "      <th>7</th>\n",
       "      <td>Mississippi</td>\n",
       "      <td>All owners of respondent firms</td>\n",
       "      <td>Master's degree</td>\n",
       "      <td>1695</td>\n",
       "    </tr>\n",
       "    <tr>\n",
       "      <th>8</th>\n",
       "      <td>Mississippi</td>\n",
       "      <td>All owners of respondent firms</td>\n",
       "      <td>Doctorate degree</td>\n",
       "      <td>438</td>\n",
       "    </tr>\n",
       "    <tr>\n",
       "      <th>9</th>\n",
       "      <td>Mississippi</td>\n",
       "      <td>All owners of respondent firms</td>\n",
       "      <td>Professional degree beyond a bachelor's degree</td>\n",
       "      <td>3513</td>\n",
       "    </tr>\n",
       "    <tr>\n",
       "      <th>10</th>\n",
       "      <td>Mississippi</td>\n",
       "      <td>All owners of respondent firms</td>\n",
       "      <td>Total reporting</td>\n",
       "      <td>25030</td>\n",
       "    </tr>\n",
       "    <tr>\n",
       "      <th>11</th>\n",
       "      <td>Mississippi</td>\n",
       "      <td>All owners of respondent firms</td>\n",
       "      <td>Item not reported</td>\n",
       "      <td>1723</td>\n",
       "    </tr>\n",
       "    <tr>\n",
       "      <th>12</th>\n",
       "      <td>Missouri</td>\n",
       "      <td>All owners of respondent firms</td>\n",
       "      <td>Less than high school graduate</td>\n",
       "      <td>2278</td>\n",
       "    </tr>\n",
       "    <tr>\n",
       "      <th>13</th>\n",
       "      <td>Missouri</td>\n",
       "      <td>All owners of respondent firms</td>\n",
       "      <td>High school graduate - diploma or GED</td>\n",
       "      <td>17210</td>\n",
       "    </tr>\n",
       "    <tr>\n",
       "      <th>14</th>\n",
       "      <td>Missouri</td>\n",
       "      <td>All owners of respondent firms</td>\n",
       "      <td>Technical, trade, or vocational school</td>\n",
       "      <td>4818</td>\n",
       "    </tr>\n",
       "    <tr>\n",
       "      <th>15</th>\n",
       "      <td>Missouri</td>\n",
       "      <td>All owners of respondent firms</td>\n",
       "      <td>Some college, but no degree</td>\n",
       "      <td>12185</td>\n",
       "    </tr>\n",
       "    <tr>\n",
       "      <th>16</th>\n",
       "      <td>Missouri</td>\n",
       "      <td>All owners of respondent firms</td>\n",
       "      <td>Associate degree</td>\n",
       "      <td>5019</td>\n",
       "    </tr>\n",
       "    <tr>\n",
       "      <th>17</th>\n",
       "      <td>Missouri</td>\n",
       "      <td>All owners of respondent firms</td>\n",
       "      <td>Bachelor's degree</td>\n",
       "      <td>24499</td>\n",
       "    </tr>\n",
       "    <tr>\n",
       "      <th>18</th>\n",
       "      <td>Missouri</td>\n",
       "      <td>All owners of respondent firms</td>\n",
       "      <td>Master's degree</td>\n",
       "      <td>6630</td>\n",
       "    </tr>\n",
       "    <tr>\n",
       "      <th>19</th>\n",
       "      <td>Missouri</td>\n",
       "      <td>All owners of respondent firms</td>\n",
       "      <td>Doctorate degree</td>\n",
       "      <td>1786</td>\n",
       "    </tr>\n",
       "    <tr>\n",
       "      <th>20</th>\n",
       "      <td>Missouri</td>\n",
       "      <td>All owners of respondent firms</td>\n",
       "      <td>Professional degree beyond a bachelor's degree</td>\n",
       "      <td>7004</td>\n",
       "    </tr>\n",
       "  </tbody>\n",
       "</table>\n",
       "</div>"
      ],
      "text/plain": [
       "           NAME                OWNER_RACE_LABEL  \\\n",
       "1   Mississippi  All owners of respondent firms   \n",
       "2   Mississippi  All owners of respondent firms   \n",
       "3   Mississippi  All owners of respondent firms   \n",
       "4   Mississippi  All owners of respondent firms   \n",
       "5   Mississippi  All owners of respondent firms   \n",
       "6   Mississippi  All owners of respondent firms   \n",
       "7   Mississippi  All owners of respondent firms   \n",
       "8   Mississippi  All owners of respondent firms   \n",
       "9   Mississippi  All owners of respondent firms   \n",
       "10  Mississippi  All owners of respondent firms   \n",
       "11  Mississippi  All owners of respondent firms   \n",
       "12     Missouri  All owners of respondent firms   \n",
       "13     Missouri  All owners of respondent firms   \n",
       "14     Missouri  All owners of respondent firms   \n",
       "15     Missouri  All owners of respondent firms   \n",
       "16     Missouri  All owners of respondent firms   \n",
       "17     Missouri  All owners of respondent firms   \n",
       "18     Missouri  All owners of respondent firms   \n",
       "19     Missouri  All owners of respondent firms   \n",
       "20     Missouri  All owners of respondent firms   \n",
       "\n",
       "                                     OWNCHAR_LABEL OWNPDEMP  \n",
       "1                   Less than high school graduate      877  \n",
       "2            High school graduate - diploma or GED     5443  \n",
       "3           Technical, trade, or vocational school     1194  \n",
       "4                      Some college, but no degree     3749  \n",
       "5                                 Associate degree     1725  \n",
       "6                                Bachelor's degree     6399  \n",
       "7                                  Master's degree     1695  \n",
       "8                                 Doctorate degree      438  \n",
       "9   Professional degree beyond a bachelor's degree     3513  \n",
       "10                                 Total reporting    25030  \n",
       "11                               Item not reported     1723  \n",
       "12                  Less than high school graduate     2278  \n",
       "13           High school graduate - diploma or GED    17210  \n",
       "14          Technical, trade, or vocational school     4818  \n",
       "15                     Some college, but no degree    12185  \n",
       "16                                Associate degree     5019  \n",
       "17                               Bachelor's degree    24499  \n",
       "18                                 Master's degree     6630  \n",
       "19                                Doctorate degree     1786  \n",
       "20  Professional degree beyond a bachelor's degree     7004  "
      ]
     },
     "metadata": {},
     "output_type": "display_data"
    }
   ],
   "source": [
    "\n",
    "filter = EDUCdf_US[['NAME','OWNER_RACE_LABEL','OWNCHAR_LABEL','OWNPDEMP']]\n",
    "display(filter.head(20))\n",
    "\n",
    "print(\"\\n\")\n",
    "\n",
    "StateFilter = EDUCdf_States[['NAME','OWNER_RACE_LABEL','OWNCHAR_LABEL','OWNPDEMP']]\n",
    "display(StateFilter.head(20))\n"
   ]
  },
  {
   "attachments": {},
   "cell_type": "markdown",
   "metadata": {},
   "source": [
    "-   Filtered the OWNER_RACE_LABEL to be only total Respondants by filtering on **'All owners of respondent firms'** in order not to do double counting because of the break out race labels such as 'Asian', 'Native Hawaiian and Other Pacific Islander', 'White', etc. for both the US and States dataframes"
   ]
  },
  {
   "cell_type": "code",
   "execution_count": 169,
   "metadata": {},
   "outputs": [
    {
     "data": {
      "text/html": [
       "<div>\n",
       "<style scoped>\n",
       "    .dataframe tbody tr th:only-of-type {\n",
       "        vertical-align: middle;\n",
       "    }\n",
       "\n",
       "    .dataframe tbody tr th {\n",
       "        vertical-align: top;\n",
       "    }\n",
       "\n",
       "    .dataframe thead th {\n",
       "        text-align: right;\n",
       "    }\n",
       "</style>\n",
       "<table border=\"1\" class=\"dataframe\">\n",
       "  <thead>\n",
       "    <tr style=\"text-align: right;\">\n",
       "      <th></th>\n",
       "      <th>NAME</th>\n",
       "      <th>OWNER_RACE_LABEL</th>\n",
       "      <th>OWNCHAR_LABEL</th>\n",
       "      <th>OWNPDEMP</th>\n",
       "    </tr>\n",
       "  </thead>\n",
       "  <tbody>\n",
       "    <tr>\n",
       "      <th>1</th>\n",
       "      <td>United States</td>\n",
       "      <td>All owners of respondent firms</td>\n",
       "      <td>Less than high school graduate</td>\n",
       "      <td>110743</td>\n",
       "    </tr>\n",
       "    <tr>\n",
       "      <th>2</th>\n",
       "      <td>United States</td>\n",
       "      <td>All owners of respondent firms</td>\n",
       "      <td>High school graduate - diploma or GED</td>\n",
       "      <td>791649</td>\n",
       "    </tr>\n",
       "    <tr>\n",
       "      <th>3</th>\n",
       "      <td>United States</td>\n",
       "      <td>All owners of respondent firms</td>\n",
       "      <td>Technical, trade, or vocational school</td>\n",
       "      <td>229223</td>\n",
       "    </tr>\n",
       "    <tr>\n",
       "      <th>4</th>\n",
       "      <td>United States</td>\n",
       "      <td>All owners of respondent firms</td>\n",
       "      <td>Some college, but no degree</td>\n",
       "      <td>583812</td>\n",
       "    </tr>\n",
       "    <tr>\n",
       "      <th>5</th>\n",
       "      <td>United States</td>\n",
       "      <td>All owners of respondent firms</td>\n",
       "      <td>Associate degree</td>\n",
       "      <td>229161</td>\n",
       "    </tr>\n",
       "    <tr>\n",
       "      <th>6</th>\n",
       "      <td>United States</td>\n",
       "      <td>All owners of respondent firms</td>\n",
       "      <td>Bachelor's degree</td>\n",
       "      <td>1232195</td>\n",
       "    </tr>\n",
       "    <tr>\n",
       "      <th>7</th>\n",
       "      <td>United States</td>\n",
       "      <td>All owners of respondent firms</td>\n",
       "      <td>Master's degree</td>\n",
       "      <td>376334</td>\n",
       "    </tr>\n",
       "    <tr>\n",
       "      <th>8</th>\n",
       "      <td>United States</td>\n",
       "      <td>All owners of respondent firms</td>\n",
       "      <td>Doctorate degree</td>\n",
       "      <td>77752</td>\n",
       "    </tr>\n",
       "    <tr>\n",
       "      <th>9</th>\n",
       "      <td>United States</td>\n",
       "      <td>All owners of respondent firms</td>\n",
       "      <td>Professional degree beyond a bachelor's degree</td>\n",
       "      <td>463423</td>\n",
       "    </tr>\n",
       "    <tr>\n",
       "      <th>10</th>\n",
       "      <td>United States</td>\n",
       "      <td>All owners of respondent firms</td>\n",
       "      <td>Total reporting</td>\n",
       "      <td>4094288</td>\n",
       "    </tr>\n",
       "    <tr>\n",
       "      <th>11</th>\n",
       "      <td>United States</td>\n",
       "      <td>All owners of respondent firms</td>\n",
       "      <td>Item not reported</td>\n",
       "      <td>160686</td>\n",
       "    </tr>\n",
       "  </tbody>\n",
       "</table>\n",
       "</div>"
      ],
      "text/plain": [
       "             NAME                OWNER_RACE_LABEL  \\\n",
       "1   United States  All owners of respondent firms   \n",
       "2   United States  All owners of respondent firms   \n",
       "3   United States  All owners of respondent firms   \n",
       "4   United States  All owners of respondent firms   \n",
       "5   United States  All owners of respondent firms   \n",
       "6   United States  All owners of respondent firms   \n",
       "7   United States  All owners of respondent firms   \n",
       "8   United States  All owners of respondent firms   \n",
       "9   United States  All owners of respondent firms   \n",
       "10  United States  All owners of respondent firms   \n",
       "11  United States  All owners of respondent firms   \n",
       "\n",
       "                                     OWNCHAR_LABEL OWNPDEMP  \n",
       "1                   Less than high school graduate   110743  \n",
       "2            High school graduate - diploma or GED   791649  \n",
       "3           Technical, trade, or vocational school   229223  \n",
       "4                      Some college, but no degree   583812  \n",
       "5                                 Associate degree   229161  \n",
       "6                                Bachelor's degree  1232195  \n",
       "7                                  Master's degree   376334  \n",
       "8                                 Doctorate degree    77752  \n",
       "9   Professional degree beyond a bachelor's degree   463423  \n",
       "10                                 Total reporting  4094288  \n",
       "11                               Item not reported   160686  "
      ]
     },
     "metadata": {},
     "output_type": "display_data"
    },
    {
     "name": "stdout",
     "output_type": "stream",
     "text": [
      "\n",
      "\n"
     ]
    },
    {
     "data": {
      "text/html": [
       "<div>\n",
       "<style scoped>\n",
       "    .dataframe tbody tr th:only-of-type {\n",
       "        vertical-align: middle;\n",
       "    }\n",
       "\n",
       "    .dataframe tbody tr th {\n",
       "        vertical-align: top;\n",
       "    }\n",
       "\n",
       "    .dataframe thead th {\n",
       "        text-align: right;\n",
       "    }\n",
       "</style>\n",
       "<table border=\"1\" class=\"dataframe\">\n",
       "  <thead>\n",
       "    <tr style=\"text-align: right;\">\n",
       "      <th></th>\n",
       "      <th>NAME</th>\n",
       "      <th>OWNER_RACE_LABEL</th>\n",
       "      <th>OWNCHAR_LABEL</th>\n",
       "      <th>OWNPDEMP</th>\n",
       "    </tr>\n",
       "  </thead>\n",
       "  <tbody>\n",
       "    <tr>\n",
       "      <th>1</th>\n",
       "      <td>Mississippi</td>\n",
       "      <td>All owners of respondent firms</td>\n",
       "      <td>Less than high school graduate</td>\n",
       "      <td>877</td>\n",
       "    </tr>\n",
       "    <tr>\n",
       "      <th>2</th>\n",
       "      <td>Mississippi</td>\n",
       "      <td>All owners of respondent firms</td>\n",
       "      <td>High school graduate - diploma or GED</td>\n",
       "      <td>5443</td>\n",
       "    </tr>\n",
       "    <tr>\n",
       "      <th>3</th>\n",
       "      <td>Mississippi</td>\n",
       "      <td>All owners of respondent firms</td>\n",
       "      <td>Technical, trade, or vocational school</td>\n",
       "      <td>1194</td>\n",
       "    </tr>\n",
       "    <tr>\n",
       "      <th>4</th>\n",
       "      <td>Mississippi</td>\n",
       "      <td>All owners of respondent firms</td>\n",
       "      <td>Some college, but no degree</td>\n",
       "      <td>3749</td>\n",
       "    </tr>\n",
       "    <tr>\n",
       "      <th>5</th>\n",
       "      <td>Mississippi</td>\n",
       "      <td>All owners of respondent firms</td>\n",
       "      <td>Associate degree</td>\n",
       "      <td>1725</td>\n",
       "    </tr>\n",
       "    <tr>\n",
       "      <th>6</th>\n",
       "      <td>Mississippi</td>\n",
       "      <td>All owners of respondent firms</td>\n",
       "      <td>Bachelor's degree</td>\n",
       "      <td>6399</td>\n",
       "    </tr>\n",
       "    <tr>\n",
       "      <th>7</th>\n",
       "      <td>Mississippi</td>\n",
       "      <td>All owners of respondent firms</td>\n",
       "      <td>Master's degree</td>\n",
       "      <td>1695</td>\n",
       "    </tr>\n",
       "    <tr>\n",
       "      <th>8</th>\n",
       "      <td>Mississippi</td>\n",
       "      <td>All owners of respondent firms</td>\n",
       "      <td>Doctorate degree</td>\n",
       "      <td>438</td>\n",
       "    </tr>\n",
       "    <tr>\n",
       "      <th>9</th>\n",
       "      <td>Mississippi</td>\n",
       "      <td>All owners of respondent firms</td>\n",
       "      <td>Professional degree beyond a bachelor's degree</td>\n",
       "      <td>3513</td>\n",
       "    </tr>\n",
       "    <tr>\n",
       "      <th>10</th>\n",
       "      <td>Mississippi</td>\n",
       "      <td>All owners of respondent firms</td>\n",
       "      <td>Total reporting</td>\n",
       "      <td>25030</td>\n",
       "    </tr>\n",
       "    <tr>\n",
       "      <th>11</th>\n",
       "      <td>Mississippi</td>\n",
       "      <td>All owners of respondent firms</td>\n",
       "      <td>Item not reported</td>\n",
       "      <td>1723</td>\n",
       "    </tr>\n",
       "    <tr>\n",
       "      <th>12</th>\n",
       "      <td>Missouri</td>\n",
       "      <td>All owners of respondent firms</td>\n",
       "      <td>Less than high school graduate</td>\n",
       "      <td>2278</td>\n",
       "    </tr>\n",
       "    <tr>\n",
       "      <th>13</th>\n",
       "      <td>Missouri</td>\n",
       "      <td>All owners of respondent firms</td>\n",
       "      <td>High school graduate - diploma or GED</td>\n",
       "      <td>17210</td>\n",
       "    </tr>\n",
       "    <tr>\n",
       "      <th>14</th>\n",
       "      <td>Missouri</td>\n",
       "      <td>All owners of respondent firms</td>\n",
       "      <td>Technical, trade, or vocational school</td>\n",
       "      <td>4818</td>\n",
       "    </tr>\n",
       "    <tr>\n",
       "      <th>15</th>\n",
       "      <td>Missouri</td>\n",
       "      <td>All owners of respondent firms</td>\n",
       "      <td>Some college, but no degree</td>\n",
       "      <td>12185</td>\n",
       "    </tr>\n",
       "    <tr>\n",
       "      <th>16</th>\n",
       "      <td>Missouri</td>\n",
       "      <td>All owners of respondent firms</td>\n",
       "      <td>Associate degree</td>\n",
       "      <td>5019</td>\n",
       "    </tr>\n",
       "    <tr>\n",
       "      <th>17</th>\n",
       "      <td>Missouri</td>\n",
       "      <td>All owners of respondent firms</td>\n",
       "      <td>Bachelor's degree</td>\n",
       "      <td>24499</td>\n",
       "    </tr>\n",
       "    <tr>\n",
       "      <th>18</th>\n",
       "      <td>Missouri</td>\n",
       "      <td>All owners of respondent firms</td>\n",
       "      <td>Master's degree</td>\n",
       "      <td>6630</td>\n",
       "    </tr>\n",
       "    <tr>\n",
       "      <th>19</th>\n",
       "      <td>Missouri</td>\n",
       "      <td>All owners of respondent firms</td>\n",
       "      <td>Doctorate degree</td>\n",
       "      <td>1786</td>\n",
       "    </tr>\n",
       "    <tr>\n",
       "      <th>20</th>\n",
       "      <td>Missouri</td>\n",
       "      <td>All owners of respondent firms</td>\n",
       "      <td>Professional degree beyond a bachelor's degree</td>\n",
       "      <td>7004</td>\n",
       "    </tr>\n",
       "  </tbody>\n",
       "</table>\n",
       "</div>"
      ],
      "text/plain": [
       "           NAME                OWNER_RACE_LABEL  \\\n",
       "1   Mississippi  All owners of respondent firms   \n",
       "2   Mississippi  All owners of respondent firms   \n",
       "3   Mississippi  All owners of respondent firms   \n",
       "4   Mississippi  All owners of respondent firms   \n",
       "5   Mississippi  All owners of respondent firms   \n",
       "6   Mississippi  All owners of respondent firms   \n",
       "7   Mississippi  All owners of respondent firms   \n",
       "8   Mississippi  All owners of respondent firms   \n",
       "9   Mississippi  All owners of respondent firms   \n",
       "10  Mississippi  All owners of respondent firms   \n",
       "11  Mississippi  All owners of respondent firms   \n",
       "12     Missouri  All owners of respondent firms   \n",
       "13     Missouri  All owners of respondent firms   \n",
       "14     Missouri  All owners of respondent firms   \n",
       "15     Missouri  All owners of respondent firms   \n",
       "16     Missouri  All owners of respondent firms   \n",
       "17     Missouri  All owners of respondent firms   \n",
       "18     Missouri  All owners of respondent firms   \n",
       "19     Missouri  All owners of respondent firms   \n",
       "20     Missouri  All owners of respondent firms   \n",
       "\n",
       "                                     OWNCHAR_LABEL OWNPDEMP  \n",
       "1                   Less than high school graduate      877  \n",
       "2            High school graduate - diploma or GED     5443  \n",
       "3           Technical, trade, or vocational school     1194  \n",
       "4                      Some college, but no degree     3749  \n",
       "5                                 Associate degree     1725  \n",
       "6                                Bachelor's degree     6399  \n",
       "7                                  Master's degree     1695  \n",
       "8                                 Doctorate degree      438  \n",
       "9   Professional degree beyond a bachelor's degree     3513  \n",
       "10                                 Total reporting    25030  \n",
       "11                               Item not reported     1723  \n",
       "12                  Less than high school graduate     2278  \n",
       "13           High school graduate - diploma or GED    17210  \n",
       "14          Technical, trade, or vocational school     4818  \n",
       "15                     Some college, but no degree    12185  \n",
       "16                                Associate degree     5019  \n",
       "17                               Bachelor's degree    24499  \n",
       "18                                 Master's degree     6630  \n",
       "19                                Doctorate degree     1786  \n",
       "20  Professional degree beyond a bachelor's degree     7004  "
      ]
     },
     "metadata": {},
     "output_type": "display_data"
    }
   ],
   "source": [
    "\n",
    "#only getting the totals section instead of ethnicity for US DF\n",
    "totalRespondants = filter['OWNER_RACE_LABEL'] == 'All owners of respondent firms'\n",
    "newdf = filter[totalRespondants]\n",
    "\n",
    "display(newdf.head(11))\n",
    "print(\"\\n\")\n",
    "\n",
    "#only getting the totals section instead of ethnicity for States DF\n",
    "totalRespondantsStates = StateFilter['OWNER_RACE_LABEL'] == 'All owners of respondent firms'\n",
    "newdfStates = StateFilter[totalRespondantsStates]\n",
    "\n",
    "display(newdfStates.head(20))\n"
   ]
  },
  {
   "attachments": {},
   "cell_type": "markdown",
   "metadata": {},
   "source": [
    "-   Changed 'OWNPDEMP' from Object to **int 64** so that we can plot the numerical values of the number of business owners for both US dataframe and States dataframe\n"
   ]
  },
  {
   "cell_type": "code",
   "execution_count": 170,
   "metadata": {},
   "outputs": [
    {
     "name": "stdout",
     "output_type": "stream",
     "text": [
      "<class 'pandas.core.frame.DataFrame'>\n",
      "Int64Index: 11 entries, 1 to 11\n",
      "Data columns (total 4 columns):\n",
      " #   Column            Non-Null Count  Dtype \n",
      "---  ------            --------------  ----- \n",
      " 0   NAME              11 non-null     object\n",
      " 1   OWNER_RACE_LABEL  11 non-null     object\n",
      " 2   OWNCHAR_LABEL     11 non-null     object\n",
      " 3   OWNPDEMP          11 non-null     int64 \n",
      "dtypes: int64(1), object(3)\n",
      "memory usage: 440.0+ bytes\n",
      "<class 'pandas.core.frame.DataFrame'>\n",
      "Int64Index: 561 entries, 1 to 561\n",
      "Data columns (total 4 columns):\n",
      " #   Column            Non-Null Count  Dtype \n",
      "---  ------            --------------  ----- \n",
      " 0   NAME              561 non-null    object\n",
      " 1   OWNER_RACE_LABEL  561 non-null    object\n",
      " 2   OWNCHAR_LABEL     561 non-null    object\n",
      " 3   OWNPDEMP          561 non-null    int64 \n",
      "dtypes: int64(1), object(3)\n",
      "memory usage: 21.9+ KB\n"
     ]
    },
    {
     "name": "stderr",
     "output_type": "stream",
     "text": [
      "C:\\Users\\shirl\\AppData\\Local\\Temp\\ipykernel_25976\\2889756197.py:1: SettingWithCopyWarning:\n",
      "\n",
      "\n",
      "A value is trying to be set on a copy of a slice from a DataFrame.\n",
      "Try using .loc[row_indexer,col_indexer] = value instead\n",
      "\n",
      "See the caveats in the documentation: https://pandas.pydata.org/pandas-docs/stable/user_guide/indexing.html#returning-a-view-versus-a-copy\n",
      "\n"
     ]
    }
   ],
   "source": [
    "\n",
    "newdf['OWNPDEMP'] = newdf['OWNPDEMP'].astype('int64')\n",
    "newdf.info()\n",
    "\n",
    "newdfStates['OWNPDEMP'] = newdfStates['OWNPDEMP'].astype('int64')\n",
    "newdfStates.info()\n",
    "\n"
   ]
  },
  {
   "attachments": {},
   "cell_type": "markdown",
   "metadata": {},
   "source": [
    "-   Filtered out the rows where the Education Level **is not 'Total reporting' or is not 'Item not reported'** because they are not representing an 'Education level' measure for both US dataframe and States dataframe"
   ]
  },
  {
   "cell_type": "code",
   "execution_count": 171,
   "metadata": {},
   "outputs": [
    {
     "data": {
      "text/html": [
       "<div>\n",
       "<style scoped>\n",
       "    .dataframe tbody tr th:only-of-type {\n",
       "        vertical-align: middle;\n",
       "    }\n",
       "\n",
       "    .dataframe tbody tr th {\n",
       "        vertical-align: top;\n",
       "    }\n",
       "\n",
       "    .dataframe thead th {\n",
       "        text-align: right;\n",
       "    }\n",
       "</style>\n",
       "<table border=\"1\" class=\"dataframe\">\n",
       "  <thead>\n",
       "    <tr style=\"text-align: right;\">\n",
       "      <th></th>\n",
       "      <th>NAME</th>\n",
       "      <th>OWNER_RACE_LABEL</th>\n",
       "      <th>OWNCHAR_LABEL</th>\n",
       "      <th>OWNPDEMP</th>\n",
       "    </tr>\n",
       "  </thead>\n",
       "  <tbody>\n",
       "    <tr>\n",
       "      <th>1</th>\n",
       "      <td>United States</td>\n",
       "      <td>All owners of respondent firms</td>\n",
       "      <td>Less than high school graduate</td>\n",
       "      <td>110743</td>\n",
       "    </tr>\n",
       "    <tr>\n",
       "      <th>2</th>\n",
       "      <td>United States</td>\n",
       "      <td>All owners of respondent firms</td>\n",
       "      <td>High school graduate - diploma or GED</td>\n",
       "      <td>791649</td>\n",
       "    </tr>\n",
       "    <tr>\n",
       "      <th>3</th>\n",
       "      <td>United States</td>\n",
       "      <td>All owners of respondent firms</td>\n",
       "      <td>Technical, trade, or vocational school</td>\n",
       "      <td>229223</td>\n",
       "    </tr>\n",
       "    <tr>\n",
       "      <th>4</th>\n",
       "      <td>United States</td>\n",
       "      <td>All owners of respondent firms</td>\n",
       "      <td>Some college, but no degree</td>\n",
       "      <td>583812</td>\n",
       "    </tr>\n",
       "    <tr>\n",
       "      <th>5</th>\n",
       "      <td>United States</td>\n",
       "      <td>All owners of respondent firms</td>\n",
       "      <td>Associate degree</td>\n",
       "      <td>229161</td>\n",
       "    </tr>\n",
       "    <tr>\n",
       "      <th>6</th>\n",
       "      <td>United States</td>\n",
       "      <td>All owners of respondent firms</td>\n",
       "      <td>Bachelor's degree</td>\n",
       "      <td>1232195</td>\n",
       "    </tr>\n",
       "    <tr>\n",
       "      <th>7</th>\n",
       "      <td>United States</td>\n",
       "      <td>All owners of respondent firms</td>\n",
       "      <td>Master's degree</td>\n",
       "      <td>376334</td>\n",
       "    </tr>\n",
       "    <tr>\n",
       "      <th>8</th>\n",
       "      <td>United States</td>\n",
       "      <td>All owners of respondent firms</td>\n",
       "      <td>Doctorate degree</td>\n",
       "      <td>77752</td>\n",
       "    </tr>\n",
       "    <tr>\n",
       "      <th>9</th>\n",
       "      <td>United States</td>\n",
       "      <td>All owners of respondent firms</td>\n",
       "      <td>Professional degree beyond a bachelor's degree</td>\n",
       "      <td>463423</td>\n",
       "    </tr>\n",
       "  </tbody>\n",
       "</table>\n",
       "</div>"
      ],
      "text/plain": [
       "            NAME                OWNER_RACE_LABEL  \\\n",
       "1  United States  All owners of respondent firms   \n",
       "2  United States  All owners of respondent firms   \n",
       "3  United States  All owners of respondent firms   \n",
       "4  United States  All owners of respondent firms   \n",
       "5  United States  All owners of respondent firms   \n",
       "6  United States  All owners of respondent firms   \n",
       "7  United States  All owners of respondent firms   \n",
       "8  United States  All owners of respondent firms   \n",
       "9  United States  All owners of respondent firms   \n",
       "\n",
       "                                    OWNCHAR_LABEL  OWNPDEMP  \n",
       "1                  Less than high school graduate    110743  \n",
       "2           High school graduate - diploma or GED    791649  \n",
       "3          Technical, trade, or vocational school    229223  \n",
       "4                     Some college, but no degree    583812  \n",
       "5                                Associate degree    229161  \n",
       "6                               Bachelor's degree   1232195  \n",
       "7                                 Master's degree    376334  \n",
       "8                                Doctorate degree     77752  \n",
       "9  Professional degree beyond a bachelor's degree    463423  "
      ]
     },
     "metadata": {},
     "output_type": "display_data"
    },
    {
     "name": "stdout",
     "output_type": "stream",
     "text": [
      "\n",
      "\n"
     ]
    },
    {
     "data": {
      "text/html": [
       "<div>\n",
       "<style scoped>\n",
       "    .dataframe tbody tr th:only-of-type {\n",
       "        vertical-align: middle;\n",
       "    }\n",
       "\n",
       "    .dataframe tbody tr th {\n",
       "        vertical-align: top;\n",
       "    }\n",
       "\n",
       "    .dataframe thead th {\n",
       "        text-align: right;\n",
       "    }\n",
       "</style>\n",
       "<table border=\"1\" class=\"dataframe\">\n",
       "  <thead>\n",
       "    <tr style=\"text-align: right;\">\n",
       "      <th></th>\n",
       "      <th>NAME</th>\n",
       "      <th>OWNER_RACE_LABEL</th>\n",
       "      <th>OWNCHAR_LABEL</th>\n",
       "      <th>OWNPDEMP</th>\n",
       "    </tr>\n",
       "  </thead>\n",
       "  <tbody>\n",
       "    <tr>\n",
       "      <th>1</th>\n",
       "      <td>Mississippi</td>\n",
       "      <td>All owners of respondent firms</td>\n",
       "      <td>Less than high school graduate</td>\n",
       "      <td>877</td>\n",
       "    </tr>\n",
       "    <tr>\n",
       "      <th>2</th>\n",
       "      <td>Mississippi</td>\n",
       "      <td>All owners of respondent firms</td>\n",
       "      <td>High school graduate - diploma or GED</td>\n",
       "      <td>5443</td>\n",
       "    </tr>\n",
       "    <tr>\n",
       "      <th>3</th>\n",
       "      <td>Mississippi</td>\n",
       "      <td>All owners of respondent firms</td>\n",
       "      <td>Technical, trade, or vocational school</td>\n",
       "      <td>1194</td>\n",
       "    </tr>\n",
       "    <tr>\n",
       "      <th>4</th>\n",
       "      <td>Mississippi</td>\n",
       "      <td>All owners of respondent firms</td>\n",
       "      <td>Some college, but no degree</td>\n",
       "      <td>3749</td>\n",
       "    </tr>\n",
       "    <tr>\n",
       "      <th>5</th>\n",
       "      <td>Mississippi</td>\n",
       "      <td>All owners of respondent firms</td>\n",
       "      <td>Associate degree</td>\n",
       "      <td>1725</td>\n",
       "    </tr>\n",
       "    <tr>\n",
       "      <th>6</th>\n",
       "      <td>Mississippi</td>\n",
       "      <td>All owners of respondent firms</td>\n",
       "      <td>Bachelor's degree</td>\n",
       "      <td>6399</td>\n",
       "    </tr>\n",
       "    <tr>\n",
       "      <th>7</th>\n",
       "      <td>Mississippi</td>\n",
       "      <td>All owners of respondent firms</td>\n",
       "      <td>Master's degree</td>\n",
       "      <td>1695</td>\n",
       "    </tr>\n",
       "    <tr>\n",
       "      <th>8</th>\n",
       "      <td>Mississippi</td>\n",
       "      <td>All owners of respondent firms</td>\n",
       "      <td>Doctorate degree</td>\n",
       "      <td>438</td>\n",
       "    </tr>\n",
       "    <tr>\n",
       "      <th>9</th>\n",
       "      <td>Mississippi</td>\n",
       "      <td>All owners of respondent firms</td>\n",
       "      <td>Professional degree beyond a bachelor's degree</td>\n",
       "      <td>3513</td>\n",
       "    </tr>\n",
       "    <tr>\n",
       "      <th>12</th>\n",
       "      <td>Missouri</td>\n",
       "      <td>All owners of respondent firms</td>\n",
       "      <td>Less than high school graduate</td>\n",
       "      <td>2278</td>\n",
       "    </tr>\n",
       "    <tr>\n",
       "      <th>13</th>\n",
       "      <td>Missouri</td>\n",
       "      <td>All owners of respondent firms</td>\n",
       "      <td>High school graduate - diploma or GED</td>\n",
       "      <td>17210</td>\n",
       "    </tr>\n",
       "    <tr>\n",
       "      <th>14</th>\n",
       "      <td>Missouri</td>\n",
       "      <td>All owners of respondent firms</td>\n",
       "      <td>Technical, trade, or vocational school</td>\n",
       "      <td>4818</td>\n",
       "    </tr>\n",
       "    <tr>\n",
       "      <th>15</th>\n",
       "      <td>Missouri</td>\n",
       "      <td>All owners of respondent firms</td>\n",
       "      <td>Some college, but no degree</td>\n",
       "      <td>12185</td>\n",
       "    </tr>\n",
       "    <tr>\n",
       "      <th>16</th>\n",
       "      <td>Missouri</td>\n",
       "      <td>All owners of respondent firms</td>\n",
       "      <td>Associate degree</td>\n",
       "      <td>5019</td>\n",
       "    </tr>\n",
       "    <tr>\n",
       "      <th>17</th>\n",
       "      <td>Missouri</td>\n",
       "      <td>All owners of respondent firms</td>\n",
       "      <td>Bachelor's degree</td>\n",
       "      <td>24499</td>\n",
       "    </tr>\n",
       "    <tr>\n",
       "      <th>18</th>\n",
       "      <td>Missouri</td>\n",
       "      <td>All owners of respondent firms</td>\n",
       "      <td>Master's degree</td>\n",
       "      <td>6630</td>\n",
       "    </tr>\n",
       "    <tr>\n",
       "      <th>19</th>\n",
       "      <td>Missouri</td>\n",
       "      <td>All owners of respondent firms</td>\n",
       "      <td>Doctorate degree</td>\n",
       "      <td>1786</td>\n",
       "    </tr>\n",
       "    <tr>\n",
       "      <th>20</th>\n",
       "      <td>Missouri</td>\n",
       "      <td>All owners of respondent firms</td>\n",
       "      <td>Professional degree beyond a bachelor's degree</td>\n",
       "      <td>7004</td>\n",
       "    </tr>\n",
       "    <tr>\n",
       "      <th>23</th>\n",
       "      <td>Montana</td>\n",
       "      <td>All owners of respondent firms</td>\n",
       "      <td>Associate degree</td>\n",
       "      <td>1252</td>\n",
       "    </tr>\n",
       "    <tr>\n",
       "      <th>24</th>\n",
       "      <td>Montana</td>\n",
       "      <td>All owners of respondent firms</td>\n",
       "      <td>Less than high school graduate</td>\n",
       "      <td>525</td>\n",
       "    </tr>\n",
       "  </tbody>\n",
       "</table>\n",
       "</div>"
      ],
      "text/plain": [
       "           NAME                OWNER_RACE_LABEL  \\\n",
       "1   Mississippi  All owners of respondent firms   \n",
       "2   Mississippi  All owners of respondent firms   \n",
       "3   Mississippi  All owners of respondent firms   \n",
       "4   Mississippi  All owners of respondent firms   \n",
       "5   Mississippi  All owners of respondent firms   \n",
       "6   Mississippi  All owners of respondent firms   \n",
       "7   Mississippi  All owners of respondent firms   \n",
       "8   Mississippi  All owners of respondent firms   \n",
       "9   Mississippi  All owners of respondent firms   \n",
       "12     Missouri  All owners of respondent firms   \n",
       "13     Missouri  All owners of respondent firms   \n",
       "14     Missouri  All owners of respondent firms   \n",
       "15     Missouri  All owners of respondent firms   \n",
       "16     Missouri  All owners of respondent firms   \n",
       "17     Missouri  All owners of respondent firms   \n",
       "18     Missouri  All owners of respondent firms   \n",
       "19     Missouri  All owners of respondent firms   \n",
       "20     Missouri  All owners of respondent firms   \n",
       "23      Montana  All owners of respondent firms   \n",
       "24      Montana  All owners of respondent firms   \n",
       "\n",
       "                                     OWNCHAR_LABEL  OWNPDEMP  \n",
       "1                   Less than high school graduate       877  \n",
       "2            High school graduate - diploma or GED      5443  \n",
       "3           Technical, trade, or vocational school      1194  \n",
       "4                      Some college, but no degree      3749  \n",
       "5                                 Associate degree      1725  \n",
       "6                                Bachelor's degree      6399  \n",
       "7                                  Master's degree      1695  \n",
       "8                                 Doctorate degree       438  \n",
       "9   Professional degree beyond a bachelor's degree      3513  \n",
       "12                  Less than high school graduate      2278  \n",
       "13           High school graduate - diploma or GED     17210  \n",
       "14          Technical, trade, or vocational school      4818  \n",
       "15                     Some college, but no degree     12185  \n",
       "16                                Associate degree      5019  \n",
       "17                               Bachelor's degree     24499  \n",
       "18                                 Master's degree      6630  \n",
       "19                                Doctorate degree      1786  \n",
       "20  Professional degree beyond a bachelor's degree      7004  \n",
       "23                                Associate degree      1252  \n",
       "24                  Less than high school graduate       525  "
      ]
     },
     "metadata": {},
     "output_type": "display_data"
    }
   ],
   "source": [
    "\n",
    "\n",
    "#removing the weird education reporting such as total and item not reported\n",
    "\n",
    "newdf = newdf[newdf['OWNCHAR_LABEL'] != 'Total reporting']\n",
    "newdf = newdf[newdf['OWNCHAR_LABEL'] != 'Item not reported']\n",
    "\n",
    "display(newdf.head(10))\n",
    "\n",
    "print(\"\\n\")\n",
    "\n",
    "newdfStates = newdfStates[newdfStates['OWNCHAR_LABEL'] != 'Total reporting']\n",
    "newdfStates = newdfStates[newdfStates['OWNCHAR_LABEL'] != 'Item not reported']\n",
    "\n",
    "display(newdfStates.head(20))\n"
   ]
  },
  {
   "attachments": {},
   "cell_type": "markdown",
   "metadata": {},
   "source": [
    "\n"
   ]
  },
  {
   "cell_type": "markdown",
   "metadata": {},
   "source": [
    "### More States Transformations"
   ]
  },
  {
   "cell_type": "code",
   "execution_count": 172,
   "metadata": {},
   "outputs": [],
   "source": [
    "\n",
    "# You can comment this back in if you want to remove a state to have 50 even states rather than 51. I chose District of Columbia because it's just the lowest amount of business owners\n",
    "# columbiaFilter = newdfStates[\"NAME\"] != 'District of Columbia'\n",
    "# newdfStates = newdfStates[columbiaFilter]"
   ]
  },
  {
   "attachments": {},
   "cell_type": "markdown",
   "metadata": {},
   "source": [
    "-   Pivotted the OWNCHAR_LABEL for each degree/education level to be their own column with the number of business owners (OWNPDEMP) as the columns values with the States as the index/name"
   ]
  },
  {
   "cell_type": "code",
   "execution_count": 173,
   "metadata": {},
   "outputs": [
    {
     "data": {
      "text/html": [
       "<div>\n",
       "<style scoped>\n",
       "    .dataframe tbody tr th:only-of-type {\n",
       "        vertical-align: middle;\n",
       "    }\n",
       "\n",
       "    .dataframe tbody tr th {\n",
       "        vertical-align: top;\n",
       "    }\n",
       "\n",
       "    .dataframe thead th {\n",
       "        text-align: right;\n",
       "    }\n",
       "</style>\n",
       "<table border=\"1\" class=\"dataframe\">\n",
       "  <thead>\n",
       "    <tr style=\"text-align: right;\">\n",
       "      <th>OWNCHAR_LABEL</th>\n",
       "      <th>Associate degree</th>\n",
       "      <th>Bachelor's degree</th>\n",
       "      <th>Doctorate degree</th>\n",
       "      <th>High school graduate - diploma or GED</th>\n",
       "      <th>Less than high school graduate</th>\n",
       "      <th>Master's degree</th>\n",
       "      <th>Professional degree beyond a bachelor's degree</th>\n",
       "      <th>Some college, but no degree</th>\n",
       "      <th>Technical, trade, or vocational school</th>\n",
       "    </tr>\n",
       "    <tr>\n",
       "      <th>NAME</th>\n",
       "      <th></th>\n",
       "      <th></th>\n",
       "      <th></th>\n",
       "      <th></th>\n",
       "      <th></th>\n",
       "      <th></th>\n",
       "      <th></th>\n",
       "      <th></th>\n",
       "      <th></th>\n",
       "    </tr>\n",
       "  </thead>\n",
       "  <tbody>\n",
       "    <tr>\n",
       "      <th>Alabama</th>\n",
       "      <td>2078</td>\n",
       "      <td>15228</td>\n",
       "      <td>1341</td>\n",
       "      <td>8836</td>\n",
       "      <td>1403</td>\n",
       "      <td>3258</td>\n",
       "      <td>5959</td>\n",
       "      <td>6197</td>\n",
       "      <td>2399</td>\n",
       "    </tr>\n",
       "    <tr>\n",
       "      <th>Alaska</th>\n",
       "      <td>422</td>\n",
       "      <td>2406</td>\n",
       "      <td>220</td>\n",
       "      <td>1744</td>\n",
       "      <td>319</td>\n",
       "      <td>510</td>\n",
       "      <td>1056</td>\n",
       "      <td>2023</td>\n",
       "      <td>561</td>\n",
       "    </tr>\n",
       "    <tr>\n",
       "      <th>Arizona</th>\n",
       "      <td>3648</td>\n",
       "      <td>21784</td>\n",
       "      <td>1363</td>\n",
       "      <td>12096</td>\n",
       "      <td>1724</td>\n",
       "      <td>6630</td>\n",
       "      <td>8973</td>\n",
       "      <td>13667</td>\n",
       "      <td>4299</td>\n",
       "    </tr>\n",
       "    <tr>\n",
       "      <th>Arkansas</th>\n",
       "      <td>1689</td>\n",
       "      <td>9852</td>\n",
       "      <td>665</td>\n",
       "      <td>8119</td>\n",
       "      <td>870</td>\n",
       "      <td>2288</td>\n",
       "      <td>3769</td>\n",
       "      <td>5343</td>\n",
       "      <td>1700</td>\n",
       "    </tr>\n",
       "    <tr>\n",
       "      <th>California</th>\n",
       "      <td>26449</td>\n",
       "      <td>175196</td>\n",
       "      <td>12653</td>\n",
       "      <td>82508</td>\n",
       "      <td>16563</td>\n",
       "      <td>54749</td>\n",
       "      <td>66664</td>\n",
       "      <td>79898</td>\n",
       "      <td>20250</td>\n",
       "    </tr>\n",
       "  </tbody>\n",
       "</table>\n",
       "</div>"
      ],
      "text/plain": [
       "OWNCHAR_LABEL  Associate degree  Bachelor's degree  Doctorate degree  \\\n",
       "NAME                                                                   \n",
       "Alabama                    2078              15228              1341   \n",
       "Alaska                      422               2406               220   \n",
       "Arizona                    3648              21784              1363   \n",
       "Arkansas                   1689               9852               665   \n",
       "California                26449             175196             12653   \n",
       "\n",
       "OWNCHAR_LABEL  High school graduate - diploma or GED  \\\n",
       "NAME                                                   \n",
       "Alabama                                         8836   \n",
       "Alaska                                          1744   \n",
       "Arizona                                        12096   \n",
       "Arkansas                                        8119   \n",
       "California                                     82508   \n",
       "\n",
       "OWNCHAR_LABEL  Less than high school graduate  Master's degree  \\\n",
       "NAME                                                             \n",
       "Alabama                                  1403             3258   \n",
       "Alaska                                    319              510   \n",
       "Arizona                                  1724             6630   \n",
       "Arkansas                                  870             2288   \n",
       "California                              16563            54749   \n",
       "\n",
       "OWNCHAR_LABEL  Professional degree beyond a bachelor's degree  \\\n",
       "NAME                                                            \n",
       "Alabama                                                  5959   \n",
       "Alaska                                                   1056   \n",
       "Arizona                                                  8973   \n",
       "Arkansas                                                 3769   \n",
       "California                                              66664   \n",
       "\n",
       "OWNCHAR_LABEL  Some college, but no degree  \\\n",
       "NAME                                         \n",
       "Alabama                               6197   \n",
       "Alaska                                2023   \n",
       "Arizona                              13667   \n",
       "Arkansas                              5343   \n",
       "California                           79898   \n",
       "\n",
       "OWNCHAR_LABEL  Technical, trade, or vocational school  \n",
       "NAME                                                   \n",
       "Alabama                                          2399  \n",
       "Alaska                                            561  \n",
       "Arizona                                          4299  \n",
       "Arkansas                                         1700  \n",
       "California                                      20250  "
      ]
     },
     "metadata": {},
     "output_type": "display_data"
    }
   ],
   "source": [
    "\n",
    "newdfStatesPivotted = newdfStates.pivot(index=\"NAME\",columns='OWNCHAR_LABEL',values='OWNPDEMP')\n",
    "display(newdfStatesPivotted.head())\n"
   ]
  },
  {
   "attachments": {},
   "cell_type": "markdown",
   "metadata": {},
   "source": [
    "-   Made an EmployeeSum column to sum all the Business Owners for each row so it's the total business owners for each state for this dataframe"
   ]
  },
  {
   "cell_type": "code",
   "execution_count": 174,
   "metadata": {},
   "outputs": [
    {
     "data": {
      "text/html": [
       "<div>\n",
       "<style scoped>\n",
       "    .dataframe tbody tr th:only-of-type {\n",
       "        vertical-align: middle;\n",
       "    }\n",
       "\n",
       "    .dataframe tbody tr th {\n",
       "        vertical-align: top;\n",
       "    }\n",
       "\n",
       "    .dataframe thead th {\n",
       "        text-align: right;\n",
       "    }\n",
       "</style>\n",
       "<table border=\"1\" class=\"dataframe\">\n",
       "  <thead>\n",
       "    <tr style=\"text-align: right;\">\n",
       "      <th>OWNCHAR_LABEL</th>\n",
       "      <th>Associate degree</th>\n",
       "      <th>Bachelor's degree</th>\n",
       "      <th>Doctorate degree</th>\n",
       "      <th>High school graduate - diploma or GED</th>\n",
       "      <th>Less than high school graduate</th>\n",
       "      <th>Master's degree</th>\n",
       "      <th>Professional degree beyond a bachelor's degree</th>\n",
       "      <th>Some college, but no degree</th>\n",
       "      <th>Technical, trade, or vocational school</th>\n",
       "      <th>BusinessOwnersSum</th>\n",
       "    </tr>\n",
       "    <tr>\n",
       "      <th>NAME</th>\n",
       "      <th></th>\n",
       "      <th></th>\n",
       "      <th></th>\n",
       "      <th></th>\n",
       "      <th></th>\n",
       "      <th></th>\n",
       "      <th></th>\n",
       "      <th></th>\n",
       "      <th></th>\n",
       "      <th></th>\n",
       "    </tr>\n",
       "  </thead>\n",
       "  <tbody>\n",
       "    <tr>\n",
       "      <th>Alabama</th>\n",
       "      <td>2078</td>\n",
       "      <td>15228</td>\n",
       "      <td>1341</td>\n",
       "      <td>8836</td>\n",
       "      <td>1403</td>\n",
       "      <td>3258</td>\n",
       "      <td>5959</td>\n",
       "      <td>6197</td>\n",
       "      <td>2399</td>\n",
       "      <td>46699</td>\n",
       "    </tr>\n",
       "    <tr>\n",
       "      <th>Alaska</th>\n",
       "      <td>422</td>\n",
       "      <td>2406</td>\n",
       "      <td>220</td>\n",
       "      <td>1744</td>\n",
       "      <td>319</td>\n",
       "      <td>510</td>\n",
       "      <td>1056</td>\n",
       "      <td>2023</td>\n",
       "      <td>561</td>\n",
       "      <td>9261</td>\n",
       "    </tr>\n",
       "    <tr>\n",
       "      <th>Arizona</th>\n",
       "      <td>3648</td>\n",
       "      <td>21784</td>\n",
       "      <td>1363</td>\n",
       "      <td>12096</td>\n",
       "      <td>1724</td>\n",
       "      <td>6630</td>\n",
       "      <td>8973</td>\n",
       "      <td>13667</td>\n",
       "      <td>4299</td>\n",
       "      <td>74184</td>\n",
       "    </tr>\n",
       "    <tr>\n",
       "      <th>Arkansas</th>\n",
       "      <td>1689</td>\n",
       "      <td>9852</td>\n",
       "      <td>665</td>\n",
       "      <td>8119</td>\n",
       "      <td>870</td>\n",
       "      <td>2288</td>\n",
       "      <td>3769</td>\n",
       "      <td>5343</td>\n",
       "      <td>1700</td>\n",
       "      <td>34295</td>\n",
       "    </tr>\n",
       "    <tr>\n",
       "      <th>California</th>\n",
       "      <td>26449</td>\n",
       "      <td>175196</td>\n",
       "      <td>12653</td>\n",
       "      <td>82508</td>\n",
       "      <td>16563</td>\n",
       "      <td>54749</td>\n",
       "      <td>66664</td>\n",
       "      <td>79898</td>\n",
       "      <td>20250</td>\n",
       "      <td>534930</td>\n",
       "    </tr>\n",
       "  </tbody>\n",
       "</table>\n",
       "</div>"
      ],
      "text/plain": [
       "OWNCHAR_LABEL  Associate degree  Bachelor's degree  Doctorate degree  \\\n",
       "NAME                                                                   \n",
       "Alabama                    2078              15228              1341   \n",
       "Alaska                      422               2406               220   \n",
       "Arizona                    3648              21784              1363   \n",
       "Arkansas                   1689               9852               665   \n",
       "California                26449             175196             12653   \n",
       "\n",
       "OWNCHAR_LABEL  High school graduate - diploma or GED  \\\n",
       "NAME                                                   \n",
       "Alabama                                         8836   \n",
       "Alaska                                          1744   \n",
       "Arizona                                        12096   \n",
       "Arkansas                                        8119   \n",
       "California                                     82508   \n",
       "\n",
       "OWNCHAR_LABEL  Less than high school graduate  Master's degree  \\\n",
       "NAME                                                             \n",
       "Alabama                                  1403             3258   \n",
       "Alaska                                    319              510   \n",
       "Arizona                                  1724             6630   \n",
       "Arkansas                                  870             2288   \n",
       "California                              16563            54749   \n",
       "\n",
       "OWNCHAR_LABEL  Professional degree beyond a bachelor's degree  \\\n",
       "NAME                                                            \n",
       "Alabama                                                  5959   \n",
       "Alaska                                                   1056   \n",
       "Arizona                                                  8973   \n",
       "Arkansas                                                 3769   \n",
       "California                                              66664   \n",
       "\n",
       "OWNCHAR_LABEL  Some college, but no degree  \\\n",
       "NAME                                         \n",
       "Alabama                               6197   \n",
       "Alaska                                2023   \n",
       "Arizona                              13667   \n",
       "Arkansas                              5343   \n",
       "California                           79898   \n",
       "\n",
       "OWNCHAR_LABEL  Technical, trade, or vocational school  BusinessOwnersSum  \n",
       "NAME                                                                      \n",
       "Alabama                                          2399              46699  \n",
       "Alaska                                            561               9261  \n",
       "Arizona                                          4299              74184  \n",
       "Arkansas                                         1700              34295  \n",
       "California                                      20250             534930  "
      ]
     },
     "metadata": {},
     "output_type": "display_data"
    }
   ],
   "source": [
    "newdfStatesPivotted.columns\n",
    "newdfStatesPivotted['BusinessOwnersSum'] = newdfStatesPivotted.sum(axis=1)\n",
    "display(newdfStatesPivotted.head())\n"
   ]
  },
  {
   "attachments": {},
   "cell_type": "markdown",
   "metadata": {},
   "source": [
    "-   Choose to sort the values by the business owner sum value ascending so that we can group states by the business owner population for better comparisons on a graph"
   ]
  },
  {
   "cell_type": "code",
   "execution_count": 175,
   "metadata": {},
   "outputs": [
    {
     "data": {
      "text/html": [
       "<div>\n",
       "<style scoped>\n",
       "    .dataframe tbody tr th:only-of-type {\n",
       "        vertical-align: middle;\n",
       "    }\n",
       "\n",
       "    .dataframe tbody tr th {\n",
       "        vertical-align: top;\n",
       "    }\n",
       "\n",
       "    .dataframe thead th {\n",
       "        text-align: right;\n",
       "    }\n",
       "</style>\n",
       "<table border=\"1\" class=\"dataframe\">\n",
       "  <thead>\n",
       "    <tr style=\"text-align: right;\">\n",
       "      <th>OWNCHAR_LABEL</th>\n",
       "      <th>Associate degree</th>\n",
       "      <th>Bachelor's degree</th>\n",
       "      <th>Doctorate degree</th>\n",
       "      <th>High school graduate - diploma or GED</th>\n",
       "      <th>Less than high school graduate</th>\n",
       "      <th>Master's degree</th>\n",
       "      <th>Professional degree beyond a bachelor's degree</th>\n",
       "      <th>Some college, but no degree</th>\n",
       "      <th>Technical, trade, or vocational school</th>\n",
       "      <th>BusinessOwnersSum</th>\n",
       "    </tr>\n",
       "    <tr>\n",
       "      <th>NAME</th>\n",
       "      <th></th>\n",
       "      <th></th>\n",
       "      <th></th>\n",
       "      <th></th>\n",
       "      <th></th>\n",
       "      <th></th>\n",
       "      <th></th>\n",
       "      <th></th>\n",
       "      <th></th>\n",
       "      <th></th>\n",
       "    </tr>\n",
       "  </thead>\n",
       "  <tbody>\n",
       "    <tr>\n",
       "      <th>District of Columbia</th>\n",
       "      <td>0</td>\n",
       "      <td>2497</td>\n",
       "      <td>125</td>\n",
       "      <td>665</td>\n",
       "      <td>0</td>\n",
       "      <td>1046</td>\n",
       "      <td>1628</td>\n",
       "      <td>418</td>\n",
       "      <td>0</td>\n",
       "      <td>6379</td>\n",
       "    </tr>\n",
       "    <tr>\n",
       "      <th>Alaska</th>\n",
       "      <td>422</td>\n",
       "      <td>2406</td>\n",
       "      <td>220</td>\n",
       "      <td>1744</td>\n",
       "      <td>319</td>\n",
       "      <td>510</td>\n",
       "      <td>1056</td>\n",
       "      <td>2023</td>\n",
       "      <td>561</td>\n",
       "      <td>9261</td>\n",
       "    </tr>\n",
       "    <tr>\n",
       "      <th>Delaware</th>\n",
       "      <td>596</td>\n",
       "      <td>3241</td>\n",
       "      <td>123</td>\n",
       "      <td>1904</td>\n",
       "      <td>227</td>\n",
       "      <td>1140</td>\n",
       "      <td>1489</td>\n",
       "      <td>1429</td>\n",
       "      <td>589</td>\n",
       "      <td>10738</td>\n",
       "    </tr>\n",
       "    <tr>\n",
       "      <th>Vermont</th>\n",
       "      <td>997</td>\n",
       "      <td>3541</td>\n",
       "      <td>193</td>\n",
       "      <td>2622</td>\n",
       "      <td>257</td>\n",
       "      <td>738</td>\n",
       "      <td>918</td>\n",
       "      <td>1065</td>\n",
       "      <td>627</td>\n",
       "      <td>10958</td>\n",
       "    </tr>\n",
       "    <tr>\n",
       "      <th>Rhode Island</th>\n",
       "      <td>791</td>\n",
       "      <td>3308</td>\n",
       "      <td>178</td>\n",
       "      <td>2226</td>\n",
       "      <td>279</td>\n",
       "      <td>994</td>\n",
       "      <td>1281</td>\n",
       "      <td>1562</td>\n",
       "      <td>580</td>\n",
       "      <td>11199</td>\n",
       "    </tr>\n",
       "  </tbody>\n",
       "</table>\n",
       "</div>"
      ],
      "text/plain": [
       "OWNCHAR_LABEL         Associate degree  Bachelor's degree  Doctorate degree  \\\n",
       "NAME                                                                          \n",
       "District of Columbia                 0               2497               125   \n",
       "Alaska                             422               2406               220   \n",
       "Delaware                           596               3241               123   \n",
       "Vermont                            997               3541               193   \n",
       "Rhode Island                       791               3308               178   \n",
       "\n",
       "OWNCHAR_LABEL         High school graduate - diploma or GED  \\\n",
       "NAME                                                          \n",
       "District of Columbia                                    665   \n",
       "Alaska                                                 1744   \n",
       "Delaware                                               1904   \n",
       "Vermont                                                2622   \n",
       "Rhode Island                                           2226   \n",
       "\n",
       "OWNCHAR_LABEL         Less than high school graduate  Master's degree  \\\n",
       "NAME                                                                    \n",
       "District of Columbia                               0             1046   \n",
       "Alaska                                           319              510   \n",
       "Delaware                                         227             1140   \n",
       "Vermont                                          257              738   \n",
       "Rhode Island                                     279              994   \n",
       "\n",
       "OWNCHAR_LABEL         Professional degree beyond a bachelor's degree  \\\n",
       "NAME                                                                   \n",
       "District of Columbia                                            1628   \n",
       "Alaska                                                          1056   \n",
       "Delaware                                                        1489   \n",
       "Vermont                                                          918   \n",
       "Rhode Island                                                    1281   \n",
       "\n",
       "OWNCHAR_LABEL         Some college, but no degree  \\\n",
       "NAME                                                \n",
       "District of Columbia                          418   \n",
       "Alaska                                       2023   \n",
       "Delaware                                     1429   \n",
       "Vermont                                      1065   \n",
       "Rhode Island                                 1562   \n",
       "\n",
       "OWNCHAR_LABEL         Technical, trade, or vocational school  \\\n",
       "NAME                                                           \n",
       "District of Columbia                                       0   \n",
       "Alaska                                                   561   \n",
       "Delaware                                                 589   \n",
       "Vermont                                                  627   \n",
       "Rhode Island                                             580   \n",
       "\n",
       "OWNCHAR_LABEL         BusinessOwnersSum  \n",
       "NAME                                     \n",
       "District of Columbia               6379  \n",
       "Alaska                             9261  \n",
       "Delaware                          10738  \n",
       "Vermont                           10958  \n",
       "Rhode Island                      11199  "
      ]
     },
     "metadata": {},
     "output_type": "display_data"
    }
   ],
   "source": [
    "newdfStatesPivotted.sort_values(by='BusinessOwnersSum',inplace=True)\n",
    "display(newdfStatesPivotted.head())\n",
    "\n"
   ]
  },
  {
   "attachments": {},
   "cell_type": "markdown",
   "metadata": {},
   "source": [
    "-   Filters and slices the state names by 10s and stores a list of list of states so that we can graph 10 states at a time later for good visualbility \n"
   ]
  },
  {
   "cell_type": "code",
   "execution_count": 176,
   "metadata": {},
   "outputs": [
    {
     "name": "stdout",
     "output_type": "stream",
     "text": [
      "Number of States: 51\n",
      "['District of Columbia', 'Alaska', 'Delaware', 'Vermont', 'Rhode Island', 'Wyoming', 'Hawaii', 'North Dakota', 'South Dakota', 'West Virginia']\n"
     ]
    }
   ],
   "source": [
    "listOfStatesToFilter = [] #list of list of state names\n",
    "begin = 0 # beginning slicer\n",
    "count = 10 #ending slicer\n",
    "print(f\"Number of States: {len(newdfStatesPivotted)}\")\n",
    "\n",
    "#loop \n",
    "while count < len(newdfStatesPivotted):\n",
    "    #slice the pivotted sorted data frame to get 10 states\n",
    "    tempstates = newdfStatesPivotted[begin:count]\n",
    "    #change the begin and ending slicers by 10 to get the next 10 states\n",
    "    begin = begin + 10 \n",
    "    count += 10\n",
    "    #append a list of state names which we get from the index\n",
    "    listOfStatesToFilter.append([x for x in tempstates.index])\n",
    "    \n",
    "    #if there are any remaining states at the end that isn't going to give an even slice of 10\n",
    "    if count >= len(newdfStatesPivotted):\n",
    "        tempstates = newdfStatesPivotted[begin:]\n",
    "        listOfStatesToFilter.append([x for x in tempstates.index])\n",
    "        \n",
    "        \n",
    "\n",
    "print(listOfStatesToFilter[0])\n",
    "\n"
   ]
  },
  {
   "attachments": {},
   "cell_type": "markdown",
   "metadata": {},
   "source": [
    "-   Using the list of list of states, we are going to slice our unpivotted states data frame by filtering out only the states names in each list so that we get ~ 5 data frames that have information on 10 states each. \n",
    "-   Append each new dataframe slice to a list to access them all to graph each one individually later."
   ]
  },
  {
   "cell_type": "code",
   "execution_count": 177,
   "metadata": {},
   "outputs": [],
   "source": [
    "\n",
    "listofSliceOfDFs = []\n",
    "for i in range(len(listOfStatesToFilter)):\n",
    "    sliceOfnewdfStatesFilter = newdfStates[\"NAME\"].isin(listOfStatesToFilter[i])\n",
    "    sliceOfnewdfStates = newdfStates[sliceOfnewdfStatesFilter]\n",
    "    listofSliceOfDFs.append(sliceOfnewdfStates)\n",
    "    \n"
   ]
  },
  {
   "attachments": {},
   "cell_type": "markdown",
   "metadata": {},
   "source": [
    "### Load: STATES VISUALIZATIONS\n",
    "-   Uses a bar chart with plotly that plots each data frame of 10 states as a stacked bar chart stacking the number of business owners with each education levels on top for each state\n",
    "-   If a data frame only has information on 1 state, it will plot it has a bar chart as bars representing each degree/education level"
   ]
  },
  {
   "cell_type": "code",
   "execution_count": 183,
   "metadata": {},
   "outputs": [
    {
     "name": "stdout",
     "output_type": "stream",
     "text": [
      "90\n"
     ]
    },
    {
     "data": {
      "application/vnd.plotly.v1+json": {
       "config": {
        "plotlyServerURL": "https://plot.ly"
       },
       "data": [
        {
         "alignmentgroup": "True",
         "hovertemplate": "Education Level=High school graduate - diploma or GED<br>STATES=%{x}<br>Number of Business Owners=%{y}<extra></extra>",
         "legendgroup": "High school graduate - diploma or GED",
         "marker": {
          "color": "#636efa",
          "pattern": {
           "shape": ""
          }
         },
         "name": "High school graduate - diploma or GED",
         "offsetgroup": "High school graduate - diploma or GED",
         "orientation": "v",
         "showlegend": true,
         "textposition": "auto",
         "texttemplate": "%{y:.2s}",
         "type": "bar",
         "x": [
          "North Dakota",
          "Rhode Island",
          "South Dakota",
          "Vermont",
          "West Virginia",
          "Wyoming",
          "Alaska",
          "Delaware",
          "District of Columbia",
          "Hawaii"
         ],
         "xaxis": "x",
         "y": [
          2382,
          2226,
          3745,
          2622,
          4639,
          3264,
          1744,
          1904,
          665,
          2679
         ],
         "yaxis": "y"
        },
        {
         "alignmentgroup": "True",
         "hovertemplate": "Education Level=Less than high school graduate<br>STATES=%{x}<br>Number of Business Owners=%{y}<extra></extra>",
         "legendgroup": "Less than high school graduate",
         "marker": {
          "color": "#EF553B",
          "pattern": {
           "shape": ""
          }
         },
         "name": "Less than high school graduate",
         "offsetgroup": "Less than high school graduate",
         "orientation": "v",
         "showlegend": true,
         "textposition": "auto",
         "texttemplate": "%{y:.2s}",
         "type": "bar",
         "x": [
          "North Dakota",
          "Rhode Island",
          "South Dakota",
          "Vermont",
          "West Virginia",
          "Wyoming",
          "Alaska",
          "Delaware",
          "District of Columbia",
          "Hawaii"
         ],
         "xaxis": "x",
         "y": [
          132,
          279,
          382,
          257,
          328,
          133,
          319,
          227,
          0,
          406
         ],
         "yaxis": "y"
        },
        {
         "alignmentgroup": "True",
         "hovertemplate": "Education Level=Technical, trade, or vocational school<br>STATES=%{x}<br>Number of Business Owners=%{y}<extra></extra>",
         "legendgroup": "Technical, trade, or vocational school",
         "marker": {
          "color": "#00cc96",
          "pattern": {
           "shape": ""
          }
         },
         "name": "Technical, trade, or vocational school",
         "offsetgroup": "Technical, trade, or vocational school",
         "orientation": "v",
         "showlegend": true,
         "textposition": "auto",
         "texttemplate": "%{y:.2s}",
         "type": "bar",
         "x": [
          "North Dakota",
          "Rhode Island",
          "South Dakota",
          "Vermont",
          "West Virginia",
          "Wyoming",
          "Alaska",
          "Delaware",
          "District of Columbia",
          "Hawaii"
         ],
         "xaxis": "x",
         "y": [
          1246,
          580,
          2186,
          627,
          601,
          493,
          561,
          589,
          0,
          814
         ],
         "yaxis": "y"
        },
        {
         "alignmentgroup": "True",
         "hovertemplate": "Education Level=Some college, but no degree<br>STATES=%{x}<br>Number of Business Owners=%{y}<extra></extra>",
         "legendgroup": "Some college, but no degree",
         "marker": {
          "color": "#ab63fa",
          "pattern": {
           "shape": ""
          }
         },
         "name": "Some college, but no degree",
         "offsetgroup": "Some college, but no degree",
         "orientation": "v",
         "showlegend": true,
         "textposition": "auto",
         "texttemplate": "%{y:.2s}",
         "type": "bar",
         "x": [
          "North Dakota",
          "Rhode Island",
          "South Dakota",
          "Vermont",
          "West Virginia",
          "Wyoming",
          "Alaska",
          "Delaware",
          "District of Columbia",
          "Hawaii"
         ],
         "xaxis": "x",
         "y": [
          2198,
          1562,
          2631,
          1065,
          2002,
          1771,
          2023,
          1429,
          418,
          1606
         ],
         "yaxis": "y"
        },
        {
         "alignmentgroup": "True",
         "hovertemplate": "Education Level=Associate degree<br>STATES=%{x}<br>Number of Business Owners=%{y}<extra></extra>",
         "legendgroup": "Associate degree",
         "marker": {
          "color": "#FFA15A",
          "pattern": {
           "shape": ""
          }
         },
         "name": "Associate degree",
         "offsetgroup": "Associate degree",
         "orientation": "v",
         "showlegend": true,
         "textposition": "auto",
         "texttemplate": "%{y:.2s}",
         "type": "bar",
         "x": [
          "North Dakota",
          "Rhode Island",
          "South Dakota",
          "Vermont",
          "West Virginia",
          "Wyoming",
          "Alaska",
          "Delaware",
          "District of Columbia",
          "Hawaii"
         ],
         "xaxis": "x",
         "y": [
          1171,
          791,
          1254,
          997,
          862,
          792,
          422,
          596,
          0,
          896
         ],
         "yaxis": "y"
        },
        {
         "alignmentgroup": "True",
         "hovertemplate": "Education Level=Bachelor's degree<br>STATES=%{x}<br>Number of Business Owners=%{y}<extra></extra>",
         "legendgroup": "Bachelor's degree",
         "marker": {
          "color": "#19d3f3",
          "pattern": {
           "shape": ""
          }
         },
         "name": "Bachelor's degree",
         "offsetgroup": "Bachelor's degree",
         "orientation": "v",
         "showlegend": true,
         "textposition": "auto",
         "texttemplate": "%{y:.2s}",
         "type": "bar",
         "x": [
          "North Dakota",
          "Rhode Island",
          "South Dakota",
          "Vermont",
          "West Virginia",
          "Wyoming",
          "Alaska",
          "Delaware",
          "District of Columbia",
          "Hawaii"
         ],
         "xaxis": "x",
         "y": [
          5084,
          3308,
          3967,
          3541,
          4827,
          2850,
          2406,
          3241,
          2497,
          4004
         ],
         "yaxis": "y"
        },
        {
         "alignmentgroup": "True",
         "hovertemplate": "Education Level=Master's degree<br>STATES=%{x}<br>Number of Business Owners=%{y}<extra></extra>",
         "legendgroup": "Master's degree",
         "marker": {
          "color": "#FF6692",
          "pattern": {
           "shape": ""
          }
         },
         "name": "Master's degree",
         "offsetgroup": "Master's degree",
         "orientation": "v",
         "showlegend": true,
         "textposition": "auto",
         "texttemplate": "%{y:.2s}",
         "type": "bar",
         "x": [
          "North Dakota",
          "Rhode Island",
          "South Dakota",
          "Vermont",
          "West Virginia",
          "Wyoming",
          "Alaska",
          "Delaware",
          "District of Columbia",
          "Hawaii"
         ],
         "xaxis": "x",
         "y": [
          544,
          994,
          676,
          738,
          1091,
          1088,
          510,
          1140,
          1046,
          1315
         ],
         "yaxis": "y"
        },
        {
         "alignmentgroup": "True",
         "hovertemplate": "Education Level=Doctorate degree<br>STATES=%{x}<br>Number of Business Owners=%{y}<extra></extra>",
         "legendgroup": "Doctorate degree",
         "marker": {
          "color": "#B6E880",
          "pattern": {
           "shape": ""
          }
         },
         "name": "Doctorate degree",
         "offsetgroup": "Doctorate degree",
         "orientation": "v",
         "showlegend": true,
         "textposition": "auto",
         "texttemplate": "%{y:.2s}",
         "type": "bar",
         "x": [
          "North Dakota",
          "Rhode Island",
          "South Dakota",
          "Vermont",
          "West Virginia",
          "Wyoming",
          "Alaska",
          "Delaware",
          "District of Columbia",
          "Hawaii"
         ],
         "xaxis": "x",
         "y": [
          186,
          178,
          470,
          193,
          170,
          168,
          220,
          123,
          125,
          221
         ],
         "yaxis": "y"
        },
        {
         "alignmentgroup": "True",
         "hovertemplate": "Education Level=Professional degree beyond a bachelor's degree<br>STATES=%{x}<br>Number of Business Owners=%{y}<extra></extra>",
         "legendgroup": "Professional degree beyond a bachelor's degree",
         "marker": {
          "color": "#FF97FF",
          "pattern": {
           "shape": ""
          }
         },
         "name": "Professional degree beyond a bachelor's degree",
         "offsetgroup": "Professional degree beyond a bachelor's degree",
         "orientation": "v",
         "showlegend": true,
         "textposition": "auto",
         "texttemplate": "%{y:.2s}",
         "type": "bar",
         "x": [
          "North Dakota",
          "Rhode Island",
          "South Dakota",
          "Vermont",
          "West Virginia",
          "Wyoming",
          "Alaska",
          "Delaware",
          "District of Columbia",
          "Hawaii"
         ],
         "xaxis": "x",
         "y": [
          1427,
          1281,
          996,
          918,
          1940,
          1033,
          1056,
          1489,
          1628,
          2076
         ],
         "yaxis": "y"
        }
       ],
       "layout": {
        "barmode": "relative",
        "legend": {
         "title": {
          "text": "Education Level"
         },
         "tracegroupgap": 0
        },
        "template": {
         "data": {
          "bar": [
           {
            "error_x": {
             "color": "#2a3f5f"
            },
            "error_y": {
             "color": "#2a3f5f"
            },
            "marker": {
             "line": {
              "color": "#E5ECF6",
              "width": 0.5
             },
             "pattern": {
              "fillmode": "overlay",
              "size": 10,
              "solidity": 0.2
             }
            },
            "type": "bar"
           }
          ],
          "barpolar": [
           {
            "marker": {
             "line": {
              "color": "#E5ECF6",
              "width": 0.5
             },
             "pattern": {
              "fillmode": "overlay",
              "size": 10,
              "solidity": 0.2
             }
            },
            "type": "barpolar"
           }
          ],
          "carpet": [
           {
            "aaxis": {
             "endlinecolor": "#2a3f5f",
             "gridcolor": "white",
             "linecolor": "white",
             "minorgridcolor": "white",
             "startlinecolor": "#2a3f5f"
            },
            "baxis": {
             "endlinecolor": "#2a3f5f",
             "gridcolor": "white",
             "linecolor": "white",
             "minorgridcolor": "white",
             "startlinecolor": "#2a3f5f"
            },
            "type": "carpet"
           }
          ],
          "choropleth": [
           {
            "colorbar": {
             "outlinewidth": 0,
             "ticks": ""
            },
            "type": "choropleth"
           }
          ],
          "contour": [
           {
            "colorbar": {
             "outlinewidth": 0,
             "ticks": ""
            },
            "colorscale": [
             [
              0,
              "#0d0887"
             ],
             [
              0.1111111111111111,
              "#46039f"
             ],
             [
              0.2222222222222222,
              "#7201a8"
             ],
             [
              0.3333333333333333,
              "#9c179e"
             ],
             [
              0.4444444444444444,
              "#bd3786"
             ],
             [
              0.5555555555555556,
              "#d8576b"
             ],
             [
              0.6666666666666666,
              "#ed7953"
             ],
             [
              0.7777777777777778,
              "#fb9f3a"
             ],
             [
              0.8888888888888888,
              "#fdca26"
             ],
             [
              1,
              "#f0f921"
             ]
            ],
            "type": "contour"
           }
          ],
          "contourcarpet": [
           {
            "colorbar": {
             "outlinewidth": 0,
             "ticks": ""
            },
            "type": "contourcarpet"
           }
          ],
          "heatmap": [
           {
            "colorbar": {
             "outlinewidth": 0,
             "ticks": ""
            },
            "colorscale": [
             [
              0,
              "#0d0887"
             ],
             [
              0.1111111111111111,
              "#46039f"
             ],
             [
              0.2222222222222222,
              "#7201a8"
             ],
             [
              0.3333333333333333,
              "#9c179e"
             ],
             [
              0.4444444444444444,
              "#bd3786"
             ],
             [
              0.5555555555555556,
              "#d8576b"
             ],
             [
              0.6666666666666666,
              "#ed7953"
             ],
             [
              0.7777777777777778,
              "#fb9f3a"
             ],
             [
              0.8888888888888888,
              "#fdca26"
             ],
             [
              1,
              "#f0f921"
             ]
            ],
            "type": "heatmap"
           }
          ],
          "heatmapgl": [
           {
            "colorbar": {
             "outlinewidth": 0,
             "ticks": ""
            },
            "colorscale": [
             [
              0,
              "#0d0887"
             ],
             [
              0.1111111111111111,
              "#46039f"
             ],
             [
              0.2222222222222222,
              "#7201a8"
             ],
             [
              0.3333333333333333,
              "#9c179e"
             ],
             [
              0.4444444444444444,
              "#bd3786"
             ],
             [
              0.5555555555555556,
              "#d8576b"
             ],
             [
              0.6666666666666666,
              "#ed7953"
             ],
             [
              0.7777777777777778,
              "#fb9f3a"
             ],
             [
              0.8888888888888888,
              "#fdca26"
             ],
             [
              1,
              "#f0f921"
             ]
            ],
            "type": "heatmapgl"
           }
          ],
          "histogram": [
           {
            "marker": {
             "pattern": {
              "fillmode": "overlay",
              "size": 10,
              "solidity": 0.2
             }
            },
            "type": "histogram"
           }
          ],
          "histogram2d": [
           {
            "colorbar": {
             "outlinewidth": 0,
             "ticks": ""
            },
            "colorscale": [
             [
              0,
              "#0d0887"
             ],
             [
              0.1111111111111111,
              "#46039f"
             ],
             [
              0.2222222222222222,
              "#7201a8"
             ],
             [
              0.3333333333333333,
              "#9c179e"
             ],
             [
              0.4444444444444444,
              "#bd3786"
             ],
             [
              0.5555555555555556,
              "#d8576b"
             ],
             [
              0.6666666666666666,
              "#ed7953"
             ],
             [
              0.7777777777777778,
              "#fb9f3a"
             ],
             [
              0.8888888888888888,
              "#fdca26"
             ],
             [
              1,
              "#f0f921"
             ]
            ],
            "type": "histogram2d"
           }
          ],
          "histogram2dcontour": [
           {
            "colorbar": {
             "outlinewidth": 0,
             "ticks": ""
            },
            "colorscale": [
             [
              0,
              "#0d0887"
             ],
             [
              0.1111111111111111,
              "#46039f"
             ],
             [
              0.2222222222222222,
              "#7201a8"
             ],
             [
              0.3333333333333333,
              "#9c179e"
             ],
             [
              0.4444444444444444,
              "#bd3786"
             ],
             [
              0.5555555555555556,
              "#d8576b"
             ],
             [
              0.6666666666666666,
              "#ed7953"
             ],
             [
              0.7777777777777778,
              "#fb9f3a"
             ],
             [
              0.8888888888888888,
              "#fdca26"
             ],
             [
              1,
              "#f0f921"
             ]
            ],
            "type": "histogram2dcontour"
           }
          ],
          "mesh3d": [
           {
            "colorbar": {
             "outlinewidth": 0,
             "ticks": ""
            },
            "type": "mesh3d"
           }
          ],
          "parcoords": [
           {
            "line": {
             "colorbar": {
              "outlinewidth": 0,
              "ticks": ""
             }
            },
            "type": "parcoords"
           }
          ],
          "pie": [
           {
            "automargin": true,
            "type": "pie"
           }
          ],
          "scatter": [
           {
            "fillpattern": {
             "fillmode": "overlay",
             "size": 10,
             "solidity": 0.2
            },
            "type": "scatter"
           }
          ],
          "scatter3d": [
           {
            "line": {
             "colorbar": {
              "outlinewidth": 0,
              "ticks": ""
             }
            },
            "marker": {
             "colorbar": {
              "outlinewidth": 0,
              "ticks": ""
             }
            },
            "type": "scatter3d"
           }
          ],
          "scattercarpet": [
           {
            "marker": {
             "colorbar": {
              "outlinewidth": 0,
              "ticks": ""
             }
            },
            "type": "scattercarpet"
           }
          ],
          "scattergeo": [
           {
            "marker": {
             "colorbar": {
              "outlinewidth": 0,
              "ticks": ""
             }
            },
            "type": "scattergeo"
           }
          ],
          "scattergl": [
           {
            "marker": {
             "colorbar": {
              "outlinewidth": 0,
              "ticks": ""
             }
            },
            "type": "scattergl"
           }
          ],
          "scattermapbox": [
           {
            "marker": {
             "colorbar": {
              "outlinewidth": 0,
              "ticks": ""
             }
            },
            "type": "scattermapbox"
           }
          ],
          "scatterpolar": [
           {
            "marker": {
             "colorbar": {
              "outlinewidth": 0,
              "ticks": ""
             }
            },
            "type": "scatterpolar"
           }
          ],
          "scatterpolargl": [
           {
            "marker": {
             "colorbar": {
              "outlinewidth": 0,
              "ticks": ""
             }
            },
            "type": "scatterpolargl"
           }
          ],
          "scatterternary": [
           {
            "marker": {
             "colorbar": {
              "outlinewidth": 0,
              "ticks": ""
             }
            },
            "type": "scatterternary"
           }
          ],
          "surface": [
           {
            "colorbar": {
             "outlinewidth": 0,
             "ticks": ""
            },
            "colorscale": [
             [
              0,
              "#0d0887"
             ],
             [
              0.1111111111111111,
              "#46039f"
             ],
             [
              0.2222222222222222,
              "#7201a8"
             ],
             [
              0.3333333333333333,
              "#9c179e"
             ],
             [
              0.4444444444444444,
              "#bd3786"
             ],
             [
              0.5555555555555556,
              "#d8576b"
             ],
             [
              0.6666666666666666,
              "#ed7953"
             ],
             [
              0.7777777777777778,
              "#fb9f3a"
             ],
             [
              0.8888888888888888,
              "#fdca26"
             ],
             [
              1,
              "#f0f921"
             ]
            ],
            "type": "surface"
           }
          ],
          "table": [
           {
            "cells": {
             "fill": {
              "color": "#EBF0F8"
             },
             "line": {
              "color": "white"
             }
            },
            "header": {
             "fill": {
              "color": "#C8D4E3"
             },
             "line": {
              "color": "white"
             }
            },
            "type": "table"
           }
          ]
         },
         "layout": {
          "annotationdefaults": {
           "arrowcolor": "#2a3f5f",
           "arrowhead": 0,
           "arrowwidth": 1
          },
          "autotypenumbers": "strict",
          "coloraxis": {
           "colorbar": {
            "outlinewidth": 0,
            "ticks": ""
           }
          },
          "colorscale": {
           "diverging": [
            [
             0,
             "#8e0152"
            ],
            [
             0.1,
             "#c51b7d"
            ],
            [
             0.2,
             "#de77ae"
            ],
            [
             0.3,
             "#f1b6da"
            ],
            [
             0.4,
             "#fde0ef"
            ],
            [
             0.5,
             "#f7f7f7"
            ],
            [
             0.6,
             "#e6f5d0"
            ],
            [
             0.7,
             "#b8e186"
            ],
            [
             0.8,
             "#7fbc41"
            ],
            [
             0.9,
             "#4d9221"
            ],
            [
             1,
             "#276419"
            ]
           ],
           "sequential": [
            [
             0,
             "#0d0887"
            ],
            [
             0.1111111111111111,
             "#46039f"
            ],
            [
             0.2222222222222222,
             "#7201a8"
            ],
            [
             0.3333333333333333,
             "#9c179e"
            ],
            [
             0.4444444444444444,
             "#bd3786"
            ],
            [
             0.5555555555555556,
             "#d8576b"
            ],
            [
             0.6666666666666666,
             "#ed7953"
            ],
            [
             0.7777777777777778,
             "#fb9f3a"
            ],
            [
             0.8888888888888888,
             "#fdca26"
            ],
            [
             1,
             "#f0f921"
            ]
           ],
           "sequentialminus": [
            [
             0,
             "#0d0887"
            ],
            [
             0.1111111111111111,
             "#46039f"
            ],
            [
             0.2222222222222222,
             "#7201a8"
            ],
            [
             0.3333333333333333,
             "#9c179e"
            ],
            [
             0.4444444444444444,
             "#bd3786"
            ],
            [
             0.5555555555555556,
             "#d8576b"
            ],
            [
             0.6666666666666666,
             "#ed7953"
            ],
            [
             0.7777777777777778,
             "#fb9f3a"
            ],
            [
             0.8888888888888888,
             "#fdca26"
            ],
            [
             1,
             "#f0f921"
            ]
           ]
          },
          "colorway": [
           "#636efa",
           "#EF553B",
           "#00cc96",
           "#ab63fa",
           "#FFA15A",
           "#19d3f3",
           "#FF6692",
           "#B6E880",
           "#FF97FF",
           "#FECB52"
          ],
          "font": {
           "color": "#2a3f5f"
          },
          "geo": {
           "bgcolor": "white",
           "lakecolor": "white",
           "landcolor": "#E5ECF6",
           "showlakes": true,
           "showland": true,
           "subunitcolor": "white"
          },
          "hoverlabel": {
           "align": "left"
          },
          "hovermode": "closest",
          "mapbox": {
           "style": "light"
          },
          "paper_bgcolor": "white",
          "plot_bgcolor": "#E5ECF6",
          "polar": {
           "angularaxis": {
            "gridcolor": "white",
            "linecolor": "white",
            "ticks": ""
           },
           "bgcolor": "#E5ECF6",
           "radialaxis": {
            "gridcolor": "white",
            "linecolor": "white",
            "ticks": ""
           }
          },
          "scene": {
           "xaxis": {
            "backgroundcolor": "#E5ECF6",
            "gridcolor": "white",
            "gridwidth": 2,
            "linecolor": "white",
            "showbackground": true,
            "ticks": "",
            "zerolinecolor": "white"
           },
           "yaxis": {
            "backgroundcolor": "#E5ECF6",
            "gridcolor": "white",
            "gridwidth": 2,
            "linecolor": "white",
            "showbackground": true,
            "ticks": "",
            "zerolinecolor": "white"
           },
           "zaxis": {
            "backgroundcolor": "#E5ECF6",
            "gridcolor": "white",
            "gridwidth": 2,
            "linecolor": "white",
            "showbackground": true,
            "ticks": "",
            "zerolinecolor": "white"
           }
          },
          "shapedefaults": {
           "line": {
            "color": "#2a3f5f"
           }
          },
          "ternary": {
           "aaxis": {
            "gridcolor": "white",
            "linecolor": "white",
            "ticks": ""
           },
           "baxis": {
            "gridcolor": "white",
            "linecolor": "white",
            "ticks": ""
           },
           "bgcolor": "#E5ECF6",
           "caxis": {
            "gridcolor": "white",
            "linecolor": "white",
            "ticks": ""
           }
          },
          "title": {
           "x": 0.05
          },
          "xaxis": {
           "automargin": true,
           "gridcolor": "white",
           "linecolor": "white",
           "ticks": "",
           "title": {
            "standoff": 15
           },
           "zerolinecolor": "white",
           "zerolinewidth": 2
          },
          "yaxis": {
           "automargin": true,
           "gridcolor": "white",
           "linecolor": "white",
           "ticks": "",
           "title": {
            "standoff": 15
           },
           "zerolinecolor": "white",
           "zerolinewidth": 2
          }
         }
        },
        "title": {
         "text": "Education Levels of Business Owners across US States"
        },
        "xaxis": {
         "anchor": "y",
         "domain": [
          0,
          1
         ],
         "title": {
          "text": "STATES"
         }
        },
        "yaxis": {
         "anchor": "x",
         "domain": [
          0,
          1
         ],
         "title": {
          "text": "Number of Business Owners"
         }
        }
       }
      }
     },
     "metadata": {},
     "output_type": "display_data"
    },
    {
     "name": "stdout",
     "output_type": "stream",
     "text": [
      "90\n"
     ]
    },
    {
     "data": {
      "application/vnd.plotly.v1+json": {
       "config": {
        "plotlyServerURL": "https://plot.ly"
       },
       "data": [
        {
         "alignmentgroup": "True",
         "hovertemplate": "Education Level=Less than high school graduate<br>STATES=%{x}<br>Number of Business Owners=%{y}<extra></extra>",
         "legendgroup": "Less than high school graduate",
         "marker": {
          "color": "#636efa",
          "pattern": {
           "shape": ""
          }
         },
         "name": "Less than high school graduate",
         "offsetgroup": "Less than high school graduate",
         "orientation": "v",
         "showlegend": true,
         "textposition": "auto",
         "texttemplate": "%{y:.2s}",
         "type": "bar",
         "x": [
          "Mississippi",
          "Montana",
          "Nebraska",
          "Nevada",
          "New Hampshire",
          "New Mexico",
          "Arkansas",
          "Kansas",
          "Idaho",
          "Maine"
         ],
         "xaxis": "x",
         "y": [
          877,
          525,
          342,
          674,
          596,
          659,
          870,
          1167,
          1366,
          581
         ],
         "yaxis": "y"
        },
        {
         "alignmentgroup": "True",
         "hovertemplate": "Education Level=High school graduate - diploma or GED<br>STATES=%{x}<br>Number of Business Owners=%{y}<extra></extra>",
         "legendgroup": "High school graduate - diploma or GED",
         "marker": {
          "color": "#EF553B",
          "pattern": {
           "shape": ""
          }
         },
         "name": "High school graduate - diploma or GED",
         "offsetgroup": "High school graduate - diploma or GED",
         "orientation": "v",
         "showlegend": true,
         "textposition": "auto",
         "texttemplate": "%{y:.2s}",
         "type": "bar",
         "x": [
          "Mississippi",
          "Montana",
          "Nebraska",
          "Nevada",
          "New Hampshire",
          "New Mexico",
          "Arkansas",
          "Kansas",
          "Idaho",
          "Maine"
         ],
         "xaxis": "x",
         "y": [
          5443,
          6084,
          7273,
          5782,
          3955,
          4028,
          8119,
          8022,
          6232,
          5178
         ],
         "yaxis": "y"
        },
        {
         "alignmentgroup": "True",
         "hovertemplate": "Education Level=Technical, trade, or vocational school<br>STATES=%{x}<br>Number of Business Owners=%{y}<extra></extra>",
         "legendgroup": "Technical, trade, or vocational school",
         "marker": {
          "color": "#00cc96",
          "pattern": {
           "shape": ""
          }
         },
         "name": "Technical, trade, or vocational school",
         "offsetgroup": "Technical, trade, or vocational school",
         "orientation": "v",
         "showlegend": true,
         "textposition": "auto",
         "texttemplate": "%{y:.2s}",
         "type": "bar",
         "x": [
          "Mississippi",
          "Montana",
          "Nebraska",
          "Nevada",
          "New Hampshire",
          "New Mexico",
          "Arkansas",
          "Kansas",
          "Idaho",
          "Maine"
         ],
         "xaxis": "x",
         "y": [
          1194,
          1460,
          3235,
          1053,
          720,
          996,
          1700,
          2542,
          1785,
          1426
         ],
         "yaxis": "y"
        },
        {
         "alignmentgroup": "True",
         "hovertemplate": "Education Level=Some college, but no degree<br>STATES=%{x}<br>Number of Business Owners=%{y}<extra></extra>",
         "legendgroup": "Some college, but no degree",
         "marker": {
          "color": "#ab63fa",
          "pattern": {
           "shape": ""
          }
         },
         "name": "Some college, but no degree",
         "offsetgroup": "Some college, but no degree",
         "orientation": "v",
         "showlegend": true,
         "textposition": "auto",
         "texttemplate": "%{y:.2s}",
         "type": "bar",
         "x": [
          "Mississippi",
          "Montana",
          "Nebraska",
          "Nevada",
          "New Hampshire",
          "New Mexico",
          "Arkansas",
          "Kansas",
          "Idaho",
          "Maine"
         ],
         "xaxis": "x",
         "y": [
          3749,
          4781,
          5670,
          5314,
          2116,
          4119,
          5343,
          5888,
          5111,
          2877
         ],
         "yaxis": "y"
        },
        {
         "alignmentgroup": "True",
         "hovertemplate": "Education Level=Associate degree<br>STATES=%{x}<br>Number of Business Owners=%{y}<extra></extra>",
         "legendgroup": "Associate degree",
         "marker": {
          "color": "#FFA15A",
          "pattern": {
           "shape": ""
          }
         },
         "name": "Associate degree",
         "offsetgroup": "Associate degree",
         "orientation": "v",
         "showlegend": true,
         "textposition": "auto",
         "texttemplate": "%{y:.2s}",
         "type": "bar",
         "x": [
          "Mississippi",
          "Montana",
          "Nebraska",
          "Nevada",
          "New Hampshire",
          "New Mexico",
          "Arkansas",
          "Kansas",
          "Idaho",
          "Maine"
         ],
         "xaxis": "x",
         "y": [
          1725,
          1252,
          2352,
          1631,
          1428,
          1239,
          1689,
          2369,
          1793,
          1709
         ],
         "yaxis": "y"
        },
        {
         "alignmentgroup": "True",
         "hovertemplate": "Education Level=Bachelor's degree<br>STATES=%{x}<br>Number of Business Owners=%{y}<extra></extra>",
         "legendgroup": "Bachelor's degree",
         "marker": {
          "color": "#19d3f3",
          "pattern": {
           "shape": ""
          }
         },
         "name": "Bachelor's degree",
         "offsetgroup": "Bachelor's degree",
         "orientation": "v",
         "showlegend": true,
         "textposition": "auto",
         "texttemplate": "%{y:.2s}",
         "type": "bar",
         "x": [
          "Mississippi",
          "Montana",
          "Nebraska",
          "Nevada",
          "New Hampshire",
          "New Mexico",
          "Arkansas",
          "Kansas",
          "Idaho",
          "Maine"
         ],
         "xaxis": "x",
         "y": [
          6399,
          6655,
          10336,
          8629,
          5704,
          5784,
          9852,
          13456,
          8336,
          5817
         ],
         "yaxis": "y"
        },
        {
         "alignmentgroup": "True",
         "hovertemplate": "Education Level=Master's degree<br>STATES=%{x}<br>Number of Business Owners=%{y}<extra></extra>",
         "legendgroup": "Master's degree",
         "marker": {
          "color": "#FF6692",
          "pattern": {
           "shape": ""
          }
         },
         "name": "Master's degree",
         "offsetgroup": "Master's degree",
         "orientation": "v",
         "showlegend": true,
         "textposition": "auto",
         "texttemplate": "%{y:.2s}",
         "type": "bar",
         "x": [
          "Mississippi",
          "Montana",
          "Nebraska",
          "Nevada",
          "New Hampshire",
          "New Mexico",
          "Arkansas",
          "Kansas",
          "Idaho",
          "Maine"
         ],
         "xaxis": "x",
         "y": [
          1695,
          1884,
          2085,
          2089,
          1929,
          2281,
          2288,
          3197,
          2487,
          1844
         ],
         "yaxis": "y"
        },
        {
         "alignmentgroup": "True",
         "hovertemplate": "Education Level=Doctorate degree<br>STATES=%{x}<br>Number of Business Owners=%{y}<extra></extra>",
         "legendgroup": "Doctorate degree",
         "marker": {
          "color": "#B6E880",
          "pattern": {
           "shape": ""
          }
         },
         "name": "Doctorate degree",
         "offsetgroup": "Doctorate degree",
         "orientation": "v",
         "showlegend": true,
         "textposition": "auto",
         "texttemplate": "%{y:.2s}",
         "type": "bar",
         "x": [
          "Mississippi",
          "Montana",
          "Nebraska",
          "Nevada",
          "New Hampshire",
          "New Mexico",
          "Arkansas",
          "Kansas",
          "Idaho",
          "Maine"
         ],
         "xaxis": "x",
         "y": [
          438,
          173,
          618,
          575,
          418,
          521,
          665,
          551,
          289,
          231
         ],
         "yaxis": "y"
        },
        {
         "alignmentgroup": "True",
         "hovertemplate": "Education Level=Professional degree beyond a bachelor's degree<br>STATES=%{x}<br>Number of Business Owners=%{y}<extra></extra>",
         "legendgroup": "Professional degree beyond a bachelor's degree",
         "marker": {
          "color": "#FF97FF",
          "pattern": {
           "shape": ""
          }
         },
         "name": "Professional degree beyond a bachelor's degree",
         "offsetgroup": "Professional degree beyond a bachelor's degree",
         "orientation": "v",
         "showlegend": true,
         "textposition": "auto",
         "texttemplate": "%{y:.2s}",
         "type": "bar",
         "x": [
          "Mississippi",
          "Montana",
          "Nebraska",
          "Nevada",
          "New Hampshire",
          "New Mexico",
          "Arkansas",
          "Kansas",
          "Idaho",
          "Maine"
         ],
         "xaxis": "x",
         "y": [
          3513,
          2076,
          3565,
          4240,
          1557,
          2545,
          3769,
          4768,
          2742,
          1850
         ],
         "yaxis": "y"
        }
       ],
       "layout": {
        "barmode": "relative",
        "legend": {
         "title": {
          "text": "Education Level"
         },
         "tracegroupgap": 0
        },
        "template": {
         "data": {
          "bar": [
           {
            "error_x": {
             "color": "#2a3f5f"
            },
            "error_y": {
             "color": "#2a3f5f"
            },
            "marker": {
             "line": {
              "color": "#E5ECF6",
              "width": 0.5
             },
             "pattern": {
              "fillmode": "overlay",
              "size": 10,
              "solidity": 0.2
             }
            },
            "type": "bar"
           }
          ],
          "barpolar": [
           {
            "marker": {
             "line": {
              "color": "#E5ECF6",
              "width": 0.5
             },
             "pattern": {
              "fillmode": "overlay",
              "size": 10,
              "solidity": 0.2
             }
            },
            "type": "barpolar"
           }
          ],
          "carpet": [
           {
            "aaxis": {
             "endlinecolor": "#2a3f5f",
             "gridcolor": "white",
             "linecolor": "white",
             "minorgridcolor": "white",
             "startlinecolor": "#2a3f5f"
            },
            "baxis": {
             "endlinecolor": "#2a3f5f",
             "gridcolor": "white",
             "linecolor": "white",
             "minorgridcolor": "white",
             "startlinecolor": "#2a3f5f"
            },
            "type": "carpet"
           }
          ],
          "choropleth": [
           {
            "colorbar": {
             "outlinewidth": 0,
             "ticks": ""
            },
            "type": "choropleth"
           }
          ],
          "contour": [
           {
            "colorbar": {
             "outlinewidth": 0,
             "ticks": ""
            },
            "colorscale": [
             [
              0,
              "#0d0887"
             ],
             [
              0.1111111111111111,
              "#46039f"
             ],
             [
              0.2222222222222222,
              "#7201a8"
             ],
             [
              0.3333333333333333,
              "#9c179e"
             ],
             [
              0.4444444444444444,
              "#bd3786"
             ],
             [
              0.5555555555555556,
              "#d8576b"
             ],
             [
              0.6666666666666666,
              "#ed7953"
             ],
             [
              0.7777777777777778,
              "#fb9f3a"
             ],
             [
              0.8888888888888888,
              "#fdca26"
             ],
             [
              1,
              "#f0f921"
             ]
            ],
            "type": "contour"
           }
          ],
          "contourcarpet": [
           {
            "colorbar": {
             "outlinewidth": 0,
             "ticks": ""
            },
            "type": "contourcarpet"
           }
          ],
          "heatmap": [
           {
            "colorbar": {
             "outlinewidth": 0,
             "ticks": ""
            },
            "colorscale": [
             [
              0,
              "#0d0887"
             ],
             [
              0.1111111111111111,
              "#46039f"
             ],
             [
              0.2222222222222222,
              "#7201a8"
             ],
             [
              0.3333333333333333,
              "#9c179e"
             ],
             [
              0.4444444444444444,
              "#bd3786"
             ],
             [
              0.5555555555555556,
              "#d8576b"
             ],
             [
              0.6666666666666666,
              "#ed7953"
             ],
             [
              0.7777777777777778,
              "#fb9f3a"
             ],
             [
              0.8888888888888888,
              "#fdca26"
             ],
             [
              1,
              "#f0f921"
             ]
            ],
            "type": "heatmap"
           }
          ],
          "heatmapgl": [
           {
            "colorbar": {
             "outlinewidth": 0,
             "ticks": ""
            },
            "colorscale": [
             [
              0,
              "#0d0887"
             ],
             [
              0.1111111111111111,
              "#46039f"
             ],
             [
              0.2222222222222222,
              "#7201a8"
             ],
             [
              0.3333333333333333,
              "#9c179e"
             ],
             [
              0.4444444444444444,
              "#bd3786"
             ],
             [
              0.5555555555555556,
              "#d8576b"
             ],
             [
              0.6666666666666666,
              "#ed7953"
             ],
             [
              0.7777777777777778,
              "#fb9f3a"
             ],
             [
              0.8888888888888888,
              "#fdca26"
             ],
             [
              1,
              "#f0f921"
             ]
            ],
            "type": "heatmapgl"
           }
          ],
          "histogram": [
           {
            "marker": {
             "pattern": {
              "fillmode": "overlay",
              "size": 10,
              "solidity": 0.2
             }
            },
            "type": "histogram"
           }
          ],
          "histogram2d": [
           {
            "colorbar": {
             "outlinewidth": 0,
             "ticks": ""
            },
            "colorscale": [
             [
              0,
              "#0d0887"
             ],
             [
              0.1111111111111111,
              "#46039f"
             ],
             [
              0.2222222222222222,
              "#7201a8"
             ],
             [
              0.3333333333333333,
              "#9c179e"
             ],
             [
              0.4444444444444444,
              "#bd3786"
             ],
             [
              0.5555555555555556,
              "#d8576b"
             ],
             [
              0.6666666666666666,
              "#ed7953"
             ],
             [
              0.7777777777777778,
              "#fb9f3a"
             ],
             [
              0.8888888888888888,
              "#fdca26"
             ],
             [
              1,
              "#f0f921"
             ]
            ],
            "type": "histogram2d"
           }
          ],
          "histogram2dcontour": [
           {
            "colorbar": {
             "outlinewidth": 0,
             "ticks": ""
            },
            "colorscale": [
             [
              0,
              "#0d0887"
             ],
             [
              0.1111111111111111,
              "#46039f"
             ],
             [
              0.2222222222222222,
              "#7201a8"
             ],
             [
              0.3333333333333333,
              "#9c179e"
             ],
             [
              0.4444444444444444,
              "#bd3786"
             ],
             [
              0.5555555555555556,
              "#d8576b"
             ],
             [
              0.6666666666666666,
              "#ed7953"
             ],
             [
              0.7777777777777778,
              "#fb9f3a"
             ],
             [
              0.8888888888888888,
              "#fdca26"
             ],
             [
              1,
              "#f0f921"
             ]
            ],
            "type": "histogram2dcontour"
           }
          ],
          "mesh3d": [
           {
            "colorbar": {
             "outlinewidth": 0,
             "ticks": ""
            },
            "type": "mesh3d"
           }
          ],
          "parcoords": [
           {
            "line": {
             "colorbar": {
              "outlinewidth": 0,
              "ticks": ""
             }
            },
            "type": "parcoords"
           }
          ],
          "pie": [
           {
            "automargin": true,
            "type": "pie"
           }
          ],
          "scatter": [
           {
            "fillpattern": {
             "fillmode": "overlay",
             "size": 10,
             "solidity": 0.2
            },
            "type": "scatter"
           }
          ],
          "scatter3d": [
           {
            "line": {
             "colorbar": {
              "outlinewidth": 0,
              "ticks": ""
             }
            },
            "marker": {
             "colorbar": {
              "outlinewidth": 0,
              "ticks": ""
             }
            },
            "type": "scatter3d"
           }
          ],
          "scattercarpet": [
           {
            "marker": {
             "colorbar": {
              "outlinewidth": 0,
              "ticks": ""
             }
            },
            "type": "scattercarpet"
           }
          ],
          "scattergeo": [
           {
            "marker": {
             "colorbar": {
              "outlinewidth": 0,
              "ticks": ""
             }
            },
            "type": "scattergeo"
           }
          ],
          "scattergl": [
           {
            "marker": {
             "colorbar": {
              "outlinewidth": 0,
              "ticks": ""
             }
            },
            "type": "scattergl"
           }
          ],
          "scattermapbox": [
           {
            "marker": {
             "colorbar": {
              "outlinewidth": 0,
              "ticks": ""
             }
            },
            "type": "scattermapbox"
           }
          ],
          "scatterpolar": [
           {
            "marker": {
             "colorbar": {
              "outlinewidth": 0,
              "ticks": ""
             }
            },
            "type": "scatterpolar"
           }
          ],
          "scatterpolargl": [
           {
            "marker": {
             "colorbar": {
              "outlinewidth": 0,
              "ticks": ""
             }
            },
            "type": "scatterpolargl"
           }
          ],
          "scatterternary": [
           {
            "marker": {
             "colorbar": {
              "outlinewidth": 0,
              "ticks": ""
             }
            },
            "type": "scatterternary"
           }
          ],
          "surface": [
           {
            "colorbar": {
             "outlinewidth": 0,
             "ticks": ""
            },
            "colorscale": [
             [
              0,
              "#0d0887"
             ],
             [
              0.1111111111111111,
              "#46039f"
             ],
             [
              0.2222222222222222,
              "#7201a8"
             ],
             [
              0.3333333333333333,
              "#9c179e"
             ],
             [
              0.4444444444444444,
              "#bd3786"
             ],
             [
              0.5555555555555556,
              "#d8576b"
             ],
             [
              0.6666666666666666,
              "#ed7953"
             ],
             [
              0.7777777777777778,
              "#fb9f3a"
             ],
             [
              0.8888888888888888,
              "#fdca26"
             ],
             [
              1,
              "#f0f921"
             ]
            ],
            "type": "surface"
           }
          ],
          "table": [
           {
            "cells": {
             "fill": {
              "color": "#EBF0F8"
             },
             "line": {
              "color": "white"
             }
            },
            "header": {
             "fill": {
              "color": "#C8D4E3"
             },
             "line": {
              "color": "white"
             }
            },
            "type": "table"
           }
          ]
         },
         "layout": {
          "annotationdefaults": {
           "arrowcolor": "#2a3f5f",
           "arrowhead": 0,
           "arrowwidth": 1
          },
          "autotypenumbers": "strict",
          "coloraxis": {
           "colorbar": {
            "outlinewidth": 0,
            "ticks": ""
           }
          },
          "colorscale": {
           "diverging": [
            [
             0,
             "#8e0152"
            ],
            [
             0.1,
             "#c51b7d"
            ],
            [
             0.2,
             "#de77ae"
            ],
            [
             0.3,
             "#f1b6da"
            ],
            [
             0.4,
             "#fde0ef"
            ],
            [
             0.5,
             "#f7f7f7"
            ],
            [
             0.6,
             "#e6f5d0"
            ],
            [
             0.7,
             "#b8e186"
            ],
            [
             0.8,
             "#7fbc41"
            ],
            [
             0.9,
             "#4d9221"
            ],
            [
             1,
             "#276419"
            ]
           ],
           "sequential": [
            [
             0,
             "#0d0887"
            ],
            [
             0.1111111111111111,
             "#46039f"
            ],
            [
             0.2222222222222222,
             "#7201a8"
            ],
            [
             0.3333333333333333,
             "#9c179e"
            ],
            [
             0.4444444444444444,
             "#bd3786"
            ],
            [
             0.5555555555555556,
             "#d8576b"
            ],
            [
             0.6666666666666666,
             "#ed7953"
            ],
            [
             0.7777777777777778,
             "#fb9f3a"
            ],
            [
             0.8888888888888888,
             "#fdca26"
            ],
            [
             1,
             "#f0f921"
            ]
           ],
           "sequentialminus": [
            [
             0,
             "#0d0887"
            ],
            [
             0.1111111111111111,
             "#46039f"
            ],
            [
             0.2222222222222222,
             "#7201a8"
            ],
            [
             0.3333333333333333,
             "#9c179e"
            ],
            [
             0.4444444444444444,
             "#bd3786"
            ],
            [
             0.5555555555555556,
             "#d8576b"
            ],
            [
             0.6666666666666666,
             "#ed7953"
            ],
            [
             0.7777777777777778,
             "#fb9f3a"
            ],
            [
             0.8888888888888888,
             "#fdca26"
            ],
            [
             1,
             "#f0f921"
            ]
           ]
          },
          "colorway": [
           "#636efa",
           "#EF553B",
           "#00cc96",
           "#ab63fa",
           "#FFA15A",
           "#19d3f3",
           "#FF6692",
           "#B6E880",
           "#FF97FF",
           "#FECB52"
          ],
          "font": {
           "color": "#2a3f5f"
          },
          "geo": {
           "bgcolor": "white",
           "lakecolor": "white",
           "landcolor": "#E5ECF6",
           "showlakes": true,
           "showland": true,
           "subunitcolor": "white"
          },
          "hoverlabel": {
           "align": "left"
          },
          "hovermode": "closest",
          "mapbox": {
           "style": "light"
          },
          "paper_bgcolor": "white",
          "plot_bgcolor": "#E5ECF6",
          "polar": {
           "angularaxis": {
            "gridcolor": "white",
            "linecolor": "white",
            "ticks": ""
           },
           "bgcolor": "#E5ECF6",
           "radialaxis": {
            "gridcolor": "white",
            "linecolor": "white",
            "ticks": ""
           }
          },
          "scene": {
           "xaxis": {
            "backgroundcolor": "#E5ECF6",
            "gridcolor": "white",
            "gridwidth": 2,
            "linecolor": "white",
            "showbackground": true,
            "ticks": "",
            "zerolinecolor": "white"
           },
           "yaxis": {
            "backgroundcolor": "#E5ECF6",
            "gridcolor": "white",
            "gridwidth": 2,
            "linecolor": "white",
            "showbackground": true,
            "ticks": "",
            "zerolinecolor": "white"
           },
           "zaxis": {
            "backgroundcolor": "#E5ECF6",
            "gridcolor": "white",
            "gridwidth": 2,
            "linecolor": "white",
            "showbackground": true,
            "ticks": "",
            "zerolinecolor": "white"
           }
          },
          "shapedefaults": {
           "line": {
            "color": "#2a3f5f"
           }
          },
          "ternary": {
           "aaxis": {
            "gridcolor": "white",
            "linecolor": "white",
            "ticks": ""
           },
           "baxis": {
            "gridcolor": "white",
            "linecolor": "white",
            "ticks": ""
           },
           "bgcolor": "#E5ECF6",
           "caxis": {
            "gridcolor": "white",
            "linecolor": "white",
            "ticks": ""
           }
          },
          "title": {
           "x": 0.05
          },
          "xaxis": {
           "automargin": true,
           "gridcolor": "white",
           "linecolor": "white",
           "ticks": "",
           "title": {
            "standoff": 15
           },
           "zerolinecolor": "white",
           "zerolinewidth": 2
          },
          "yaxis": {
           "automargin": true,
           "gridcolor": "white",
           "linecolor": "white",
           "ticks": "",
           "title": {
            "standoff": 15
           },
           "zerolinecolor": "white",
           "zerolinewidth": 2
          }
         }
        },
        "title": {
         "text": "Education Levels of Business Owners across US States"
        },
        "xaxis": {
         "anchor": "y",
         "domain": [
          0,
          1
         ],
         "title": {
          "text": "STATES"
         }
        },
        "yaxis": {
         "anchor": "x",
         "domain": [
          0,
          1
         ],
         "title": {
          "text": "Number of Business Owners"
         }
        }
       }
      }
     },
     "metadata": {},
     "output_type": "display_data"
    },
    {
     "name": "stdout",
     "output_type": "stream",
     "text": [
      "90\n"
     ]
    },
    {
     "data": {
      "application/vnd.plotly.v1+json": {
       "config": {
        "plotlyServerURL": "https://plot.ly"
       },
       "data": [
        {
         "alignmentgroup": "True",
         "hovertemplate": "Education Level=Less than high school graduate<br>STATES=%{x}<br>Number of Business Owners=%{y}<extra></extra>",
         "legendgroup": "Less than high school graduate",
         "marker": {
          "color": "#636efa",
          "pattern": {
           "shape": ""
          }
         },
         "name": "Less than high school graduate",
         "offsetgroup": "Less than high school graduate",
         "orientation": "v",
         "showlegend": true,
         "textposition": "auto",
         "texttemplate": "%{y:.2s}",
         "type": "bar",
         "x": [
          "Oklahoma",
          "Oregon",
          "South Carolina",
          "Tennessee",
          "Utah",
          "Alabama",
          "Connecticut",
          "Iowa",
          "Kentucky",
          "Louisiana"
         ],
         "xaxis": "x",
         "y": [
          1181,
          2210,
          1794,
          1837,
          1483,
          1403,
          1025,
          1116,
          955,
          1408
         ],
         "yaxis": "y"
        },
        {
         "alignmentgroup": "True",
         "hovertemplate": "Education Level=High school graduate - diploma or GED<br>STATES=%{x}<br>Number of Business Owners=%{y}<extra></extra>",
         "legendgroup": "High school graduate - diploma or GED",
         "marker": {
          "color": "#EF553B",
          "pattern": {
           "shape": ""
          }
         },
         "name": "High school graduate - diploma or GED",
         "offsetgroup": "High school graduate - diploma or GED",
         "orientation": "v",
         "showlegend": true,
         "textposition": "auto",
         "texttemplate": "%{y:.2s}",
         "type": "bar",
         "x": [
          "Oklahoma",
          "Oregon",
          "South Carolina",
          "Tennessee",
          "Utah",
          "Alabama",
          "Connecticut",
          "Iowa",
          "Kentucky",
          "Louisiana"
         ],
         "xaxis": "x",
         "y": [
          9457,
          15467,
          9574,
          13231,
          8727,
          8836,
          7421,
          12038,
          10715,
          10446
         ],
         "yaxis": "y"
        },
        {
         "alignmentgroup": "True",
         "hovertemplate": "Education Level=Technical, trade, or vocational school<br>STATES=%{x}<br>Number of Business Owners=%{y}<extra></extra>",
         "legendgroup": "Technical, trade, or vocational school",
         "marker": {
          "color": "#00cc96",
          "pattern": {
           "shape": ""
          }
         },
         "name": "Technical, trade, or vocational school",
         "offsetgroup": "Technical, trade, or vocational school",
         "orientation": "v",
         "showlegend": true,
         "textposition": "auto",
         "texttemplate": "%{y:.2s}",
         "type": "bar",
         "x": [
          "Oklahoma",
          "Oregon",
          "South Carolina",
          "Tennessee",
          "Utah",
          "Alabama",
          "Connecticut",
          "Iowa",
          "Kentucky",
          "Louisiana"
         ],
         "xaxis": "x",
         "y": [
          1722,
          4750,
          2624,
          3162,
          2725,
          2399,
          2772,
          4505,
          2728,
          2193
         ],
         "yaxis": "y"
        },
        {
         "alignmentgroup": "True",
         "hovertemplate": "Education Level=Some college, but no degree<br>STATES=%{x}<br>Number of Business Owners=%{y}<extra></extra>",
         "legendgroup": "Some college, but no degree",
         "marker": {
          "color": "#ab63fa",
          "pattern": {
           "shape": ""
          }
         },
         "name": "Some college, but no degree",
         "offsetgroup": "Some college, but no degree",
         "orientation": "v",
         "showlegend": true,
         "textposition": "auto",
         "texttemplate": "%{y:.2s}",
         "type": "bar",
         "x": [
          "Oklahoma",
          "Oregon",
          "South Carolina",
          "Tennessee",
          "Utah",
          "Alabama",
          "Connecticut",
          "Iowa",
          "Kentucky",
          "Louisiana"
         ],
         "xaxis": "x",
         "y": [
          8421,
          11944,
          7008,
          9533,
          10664,
          6197,
          4558,
          6442,
          6947,
          7599
         ],
         "yaxis": "y"
        },
        {
         "alignmentgroup": "True",
         "hovertemplate": "Education Level=Associate degree<br>STATES=%{x}<br>Number of Business Owners=%{y}<extra></extra>",
         "legendgroup": "Associate degree",
         "marker": {
          "color": "#FFA15A",
          "pattern": {
           "shape": ""
          }
         },
         "name": "Associate degree",
         "offsetgroup": "Associate degree",
         "orientation": "v",
         "showlegend": true,
         "textposition": "auto",
         "texttemplate": "%{y:.2s}",
         "type": "bar",
         "x": [
          "Oklahoma",
          "Oregon",
          "South Carolina",
          "Tennessee",
          "Utah",
          "Alabama",
          "Connecticut",
          "Iowa",
          "Kentucky",
          "Louisiana"
         ],
         "xaxis": "x",
         "y": [
          1826,
          4323,
          3196,
          2747,
          3070,
          2078,
          2460,
          4074,
          2447,
          1690
         ],
         "yaxis": "y"
        },
        {
         "alignmentgroup": "True",
         "hovertemplate": "Education Level=Bachelor's degree<br>STATES=%{x}<br>Number of Business Owners=%{y}<extra></extra>",
         "legendgroup": "Bachelor's degree",
         "marker": {
          "color": "#19d3f3",
          "pattern": {
           "shape": ""
          }
         },
         "name": "Bachelor's degree",
         "offsetgroup": "Bachelor's degree",
         "orientation": "v",
         "showlegend": true,
         "textposition": "auto",
         "texttemplate": "%{y:.2s}",
         "type": "bar",
         "x": [
          "Oklahoma",
          "Oregon",
          "South Carolina",
          "Tennessee",
          "Utah",
          "Alabama",
          "Connecticut",
          "Iowa",
          "Kentucky",
          "Louisiana"
         ],
         "xaxis": "x",
         "y": [
          14061,
          19297,
          16998,
          21553,
          12422,
          15228,
          12656,
          13265,
          14333,
          15090
         ],
         "yaxis": "y"
        },
        {
         "alignmentgroup": "True",
         "hovertemplate": "Education Level=Master's degree<br>STATES=%{x}<br>Number of Business Owners=%{y}<extra></extra>",
         "legendgroup": "Master's degree",
         "marker": {
          "color": "#FF6692",
          "pattern": {
           "shape": ""
          }
         },
         "name": "Master's degree",
         "offsetgroup": "Master's degree",
         "orientation": "v",
         "showlegend": true,
         "textposition": "auto",
         "texttemplate": "%{y:.2s}",
         "type": "bar",
         "x": [
          "Oklahoma",
          "Oregon",
          "South Carolina",
          "Tennessee",
          "Utah",
          "Alabama",
          "Connecticut",
          "Iowa",
          "Kentucky",
          "Louisiana"
         ],
         "xaxis": "x",
         "y": [
          3888,
          5038,
          3853,
          6287,
          3544,
          3258,
          4858,
          2385,
          4003,
          3632
         ],
         "yaxis": "y"
        },
        {
         "alignmentgroup": "True",
         "hovertemplate": "Education Level=Doctorate degree<br>STATES=%{x}<br>Number of Business Owners=%{y}<extra></extra>",
         "legendgroup": "Doctorate degree",
         "marker": {
          "color": "#B6E880",
          "pattern": {
           "shape": ""
          }
         },
         "name": "Doctorate degree",
         "offsetgroup": "Doctorate degree",
         "orientation": "v",
         "showlegend": true,
         "textposition": "auto",
         "texttemplate": "%{y:.2s}",
         "type": "bar",
         "x": [
          "Oklahoma",
          "Oregon",
          "South Carolina",
          "Tennessee",
          "Utah",
          "Alabama",
          "Connecticut",
          "Iowa",
          "Kentucky",
          "Louisiana"
         ],
         "xaxis": "x",
         "y": [
          993,
          1749,
          1133,
          710,
          1165,
          1341,
          719,
          784,
          924,
          543
         ],
         "yaxis": "y"
        },
        {
         "alignmentgroup": "True",
         "hovertemplate": "Education Level=Professional degree beyond a bachelor's degree<br>STATES=%{x}<br>Number of Business Owners=%{y}<extra></extra>",
         "legendgroup": "Professional degree beyond a bachelor's degree",
         "marker": {
          "color": "#FF97FF",
          "pattern": {
           "shape": ""
          }
         },
         "name": "Professional degree beyond a bachelor's degree",
         "offsetgroup": "Professional degree beyond a bachelor's degree",
         "orientation": "v",
         "showlegend": true,
         "textposition": "auto",
         "texttemplate": "%{y:.2s}",
         "type": "bar",
         "x": [
          "Oklahoma",
          "Oregon",
          "South Carolina",
          "Tennessee",
          "Utah",
          "Alabama",
          "Connecticut",
          "Iowa",
          "Kentucky",
          "Louisiana"
         ],
         "xaxis": "x",
         "y": [
          5732,
          6812,
          5594,
          7002,
          4087,
          5959,
          6190,
          3471,
          6879,
          7293
         ],
         "yaxis": "y"
        }
       ],
       "layout": {
        "barmode": "relative",
        "legend": {
         "title": {
          "text": "Education Level"
         },
         "tracegroupgap": 0
        },
        "template": {
         "data": {
          "bar": [
           {
            "error_x": {
             "color": "#2a3f5f"
            },
            "error_y": {
             "color": "#2a3f5f"
            },
            "marker": {
             "line": {
              "color": "#E5ECF6",
              "width": 0.5
             },
             "pattern": {
              "fillmode": "overlay",
              "size": 10,
              "solidity": 0.2
             }
            },
            "type": "bar"
           }
          ],
          "barpolar": [
           {
            "marker": {
             "line": {
              "color": "#E5ECF6",
              "width": 0.5
             },
             "pattern": {
              "fillmode": "overlay",
              "size": 10,
              "solidity": 0.2
             }
            },
            "type": "barpolar"
           }
          ],
          "carpet": [
           {
            "aaxis": {
             "endlinecolor": "#2a3f5f",
             "gridcolor": "white",
             "linecolor": "white",
             "minorgridcolor": "white",
             "startlinecolor": "#2a3f5f"
            },
            "baxis": {
             "endlinecolor": "#2a3f5f",
             "gridcolor": "white",
             "linecolor": "white",
             "minorgridcolor": "white",
             "startlinecolor": "#2a3f5f"
            },
            "type": "carpet"
           }
          ],
          "choropleth": [
           {
            "colorbar": {
             "outlinewidth": 0,
             "ticks": ""
            },
            "type": "choropleth"
           }
          ],
          "contour": [
           {
            "colorbar": {
             "outlinewidth": 0,
             "ticks": ""
            },
            "colorscale": [
             [
              0,
              "#0d0887"
             ],
             [
              0.1111111111111111,
              "#46039f"
             ],
             [
              0.2222222222222222,
              "#7201a8"
             ],
             [
              0.3333333333333333,
              "#9c179e"
             ],
             [
              0.4444444444444444,
              "#bd3786"
             ],
             [
              0.5555555555555556,
              "#d8576b"
             ],
             [
              0.6666666666666666,
              "#ed7953"
             ],
             [
              0.7777777777777778,
              "#fb9f3a"
             ],
             [
              0.8888888888888888,
              "#fdca26"
             ],
             [
              1,
              "#f0f921"
             ]
            ],
            "type": "contour"
           }
          ],
          "contourcarpet": [
           {
            "colorbar": {
             "outlinewidth": 0,
             "ticks": ""
            },
            "type": "contourcarpet"
           }
          ],
          "heatmap": [
           {
            "colorbar": {
             "outlinewidth": 0,
             "ticks": ""
            },
            "colorscale": [
             [
              0,
              "#0d0887"
             ],
             [
              0.1111111111111111,
              "#46039f"
             ],
             [
              0.2222222222222222,
              "#7201a8"
             ],
             [
              0.3333333333333333,
              "#9c179e"
             ],
             [
              0.4444444444444444,
              "#bd3786"
             ],
             [
              0.5555555555555556,
              "#d8576b"
             ],
             [
              0.6666666666666666,
              "#ed7953"
             ],
             [
              0.7777777777777778,
              "#fb9f3a"
             ],
             [
              0.8888888888888888,
              "#fdca26"
             ],
             [
              1,
              "#f0f921"
             ]
            ],
            "type": "heatmap"
           }
          ],
          "heatmapgl": [
           {
            "colorbar": {
             "outlinewidth": 0,
             "ticks": ""
            },
            "colorscale": [
             [
              0,
              "#0d0887"
             ],
             [
              0.1111111111111111,
              "#46039f"
             ],
             [
              0.2222222222222222,
              "#7201a8"
             ],
             [
              0.3333333333333333,
              "#9c179e"
             ],
             [
              0.4444444444444444,
              "#bd3786"
             ],
             [
              0.5555555555555556,
              "#d8576b"
             ],
             [
              0.6666666666666666,
              "#ed7953"
             ],
             [
              0.7777777777777778,
              "#fb9f3a"
             ],
             [
              0.8888888888888888,
              "#fdca26"
             ],
             [
              1,
              "#f0f921"
             ]
            ],
            "type": "heatmapgl"
           }
          ],
          "histogram": [
           {
            "marker": {
             "pattern": {
              "fillmode": "overlay",
              "size": 10,
              "solidity": 0.2
             }
            },
            "type": "histogram"
           }
          ],
          "histogram2d": [
           {
            "colorbar": {
             "outlinewidth": 0,
             "ticks": ""
            },
            "colorscale": [
             [
              0,
              "#0d0887"
             ],
             [
              0.1111111111111111,
              "#46039f"
             ],
             [
              0.2222222222222222,
              "#7201a8"
             ],
             [
              0.3333333333333333,
              "#9c179e"
             ],
             [
              0.4444444444444444,
              "#bd3786"
             ],
             [
              0.5555555555555556,
              "#d8576b"
             ],
             [
              0.6666666666666666,
              "#ed7953"
             ],
             [
              0.7777777777777778,
              "#fb9f3a"
             ],
             [
              0.8888888888888888,
              "#fdca26"
             ],
             [
              1,
              "#f0f921"
             ]
            ],
            "type": "histogram2d"
           }
          ],
          "histogram2dcontour": [
           {
            "colorbar": {
             "outlinewidth": 0,
             "ticks": ""
            },
            "colorscale": [
             [
              0,
              "#0d0887"
             ],
             [
              0.1111111111111111,
              "#46039f"
             ],
             [
              0.2222222222222222,
              "#7201a8"
             ],
             [
              0.3333333333333333,
              "#9c179e"
             ],
             [
              0.4444444444444444,
              "#bd3786"
             ],
             [
              0.5555555555555556,
              "#d8576b"
             ],
             [
              0.6666666666666666,
              "#ed7953"
             ],
             [
              0.7777777777777778,
              "#fb9f3a"
             ],
             [
              0.8888888888888888,
              "#fdca26"
             ],
             [
              1,
              "#f0f921"
             ]
            ],
            "type": "histogram2dcontour"
           }
          ],
          "mesh3d": [
           {
            "colorbar": {
             "outlinewidth": 0,
             "ticks": ""
            },
            "type": "mesh3d"
           }
          ],
          "parcoords": [
           {
            "line": {
             "colorbar": {
              "outlinewidth": 0,
              "ticks": ""
             }
            },
            "type": "parcoords"
           }
          ],
          "pie": [
           {
            "automargin": true,
            "type": "pie"
           }
          ],
          "scatter": [
           {
            "fillpattern": {
             "fillmode": "overlay",
             "size": 10,
             "solidity": 0.2
            },
            "type": "scatter"
           }
          ],
          "scatter3d": [
           {
            "line": {
             "colorbar": {
              "outlinewidth": 0,
              "ticks": ""
             }
            },
            "marker": {
             "colorbar": {
              "outlinewidth": 0,
              "ticks": ""
             }
            },
            "type": "scatter3d"
           }
          ],
          "scattercarpet": [
           {
            "marker": {
             "colorbar": {
              "outlinewidth": 0,
              "ticks": ""
             }
            },
            "type": "scattercarpet"
           }
          ],
          "scattergeo": [
           {
            "marker": {
             "colorbar": {
              "outlinewidth": 0,
              "ticks": ""
             }
            },
            "type": "scattergeo"
           }
          ],
          "scattergl": [
           {
            "marker": {
             "colorbar": {
              "outlinewidth": 0,
              "ticks": ""
             }
            },
            "type": "scattergl"
           }
          ],
          "scattermapbox": [
           {
            "marker": {
             "colorbar": {
              "outlinewidth": 0,
              "ticks": ""
             }
            },
            "type": "scattermapbox"
           }
          ],
          "scatterpolar": [
           {
            "marker": {
             "colorbar": {
              "outlinewidth": 0,
              "ticks": ""
             }
            },
            "type": "scatterpolar"
           }
          ],
          "scatterpolargl": [
           {
            "marker": {
             "colorbar": {
              "outlinewidth": 0,
              "ticks": ""
             }
            },
            "type": "scatterpolargl"
           }
          ],
          "scatterternary": [
           {
            "marker": {
             "colorbar": {
              "outlinewidth": 0,
              "ticks": ""
             }
            },
            "type": "scatterternary"
           }
          ],
          "surface": [
           {
            "colorbar": {
             "outlinewidth": 0,
             "ticks": ""
            },
            "colorscale": [
             [
              0,
              "#0d0887"
             ],
             [
              0.1111111111111111,
              "#46039f"
             ],
             [
              0.2222222222222222,
              "#7201a8"
             ],
             [
              0.3333333333333333,
              "#9c179e"
             ],
             [
              0.4444444444444444,
              "#bd3786"
             ],
             [
              0.5555555555555556,
              "#d8576b"
             ],
             [
              0.6666666666666666,
              "#ed7953"
             ],
             [
              0.7777777777777778,
              "#fb9f3a"
             ],
             [
              0.8888888888888888,
              "#fdca26"
             ],
             [
              1,
              "#f0f921"
             ]
            ],
            "type": "surface"
           }
          ],
          "table": [
           {
            "cells": {
             "fill": {
              "color": "#EBF0F8"
             },
             "line": {
              "color": "white"
             }
            },
            "header": {
             "fill": {
              "color": "#C8D4E3"
             },
             "line": {
              "color": "white"
             }
            },
            "type": "table"
           }
          ]
         },
         "layout": {
          "annotationdefaults": {
           "arrowcolor": "#2a3f5f",
           "arrowhead": 0,
           "arrowwidth": 1
          },
          "autotypenumbers": "strict",
          "coloraxis": {
           "colorbar": {
            "outlinewidth": 0,
            "ticks": ""
           }
          },
          "colorscale": {
           "diverging": [
            [
             0,
             "#8e0152"
            ],
            [
             0.1,
             "#c51b7d"
            ],
            [
             0.2,
             "#de77ae"
            ],
            [
             0.3,
             "#f1b6da"
            ],
            [
             0.4,
             "#fde0ef"
            ],
            [
             0.5,
             "#f7f7f7"
            ],
            [
             0.6,
             "#e6f5d0"
            ],
            [
             0.7,
             "#b8e186"
            ],
            [
             0.8,
             "#7fbc41"
            ],
            [
             0.9,
             "#4d9221"
            ],
            [
             1,
             "#276419"
            ]
           ],
           "sequential": [
            [
             0,
             "#0d0887"
            ],
            [
             0.1111111111111111,
             "#46039f"
            ],
            [
             0.2222222222222222,
             "#7201a8"
            ],
            [
             0.3333333333333333,
             "#9c179e"
            ],
            [
             0.4444444444444444,
             "#bd3786"
            ],
            [
             0.5555555555555556,
             "#d8576b"
            ],
            [
             0.6666666666666666,
             "#ed7953"
            ],
            [
             0.7777777777777778,
             "#fb9f3a"
            ],
            [
             0.8888888888888888,
             "#fdca26"
            ],
            [
             1,
             "#f0f921"
            ]
           ],
           "sequentialminus": [
            [
             0,
             "#0d0887"
            ],
            [
             0.1111111111111111,
             "#46039f"
            ],
            [
             0.2222222222222222,
             "#7201a8"
            ],
            [
             0.3333333333333333,
             "#9c179e"
            ],
            [
             0.4444444444444444,
             "#bd3786"
            ],
            [
             0.5555555555555556,
             "#d8576b"
            ],
            [
             0.6666666666666666,
             "#ed7953"
            ],
            [
             0.7777777777777778,
             "#fb9f3a"
            ],
            [
             0.8888888888888888,
             "#fdca26"
            ],
            [
             1,
             "#f0f921"
            ]
           ]
          },
          "colorway": [
           "#636efa",
           "#EF553B",
           "#00cc96",
           "#ab63fa",
           "#FFA15A",
           "#19d3f3",
           "#FF6692",
           "#B6E880",
           "#FF97FF",
           "#FECB52"
          ],
          "font": {
           "color": "#2a3f5f"
          },
          "geo": {
           "bgcolor": "white",
           "lakecolor": "white",
           "landcolor": "#E5ECF6",
           "showlakes": true,
           "showland": true,
           "subunitcolor": "white"
          },
          "hoverlabel": {
           "align": "left"
          },
          "hovermode": "closest",
          "mapbox": {
           "style": "light"
          },
          "paper_bgcolor": "white",
          "plot_bgcolor": "#E5ECF6",
          "polar": {
           "angularaxis": {
            "gridcolor": "white",
            "linecolor": "white",
            "ticks": ""
           },
           "bgcolor": "#E5ECF6",
           "radialaxis": {
            "gridcolor": "white",
            "linecolor": "white",
            "ticks": ""
           }
          },
          "scene": {
           "xaxis": {
            "backgroundcolor": "#E5ECF6",
            "gridcolor": "white",
            "gridwidth": 2,
            "linecolor": "white",
            "showbackground": true,
            "ticks": "",
            "zerolinecolor": "white"
           },
           "yaxis": {
            "backgroundcolor": "#E5ECF6",
            "gridcolor": "white",
            "gridwidth": 2,
            "linecolor": "white",
            "showbackground": true,
            "ticks": "",
            "zerolinecolor": "white"
           },
           "zaxis": {
            "backgroundcolor": "#E5ECF6",
            "gridcolor": "white",
            "gridwidth": 2,
            "linecolor": "white",
            "showbackground": true,
            "ticks": "",
            "zerolinecolor": "white"
           }
          },
          "shapedefaults": {
           "line": {
            "color": "#2a3f5f"
           }
          },
          "ternary": {
           "aaxis": {
            "gridcolor": "white",
            "linecolor": "white",
            "ticks": ""
           },
           "baxis": {
            "gridcolor": "white",
            "linecolor": "white",
            "ticks": ""
           },
           "bgcolor": "#E5ECF6",
           "caxis": {
            "gridcolor": "white",
            "linecolor": "white",
            "ticks": ""
           }
          },
          "title": {
           "x": 0.05
          },
          "xaxis": {
           "automargin": true,
           "gridcolor": "white",
           "linecolor": "white",
           "ticks": "",
           "title": {
            "standoff": 15
           },
           "zerolinecolor": "white",
           "zerolinewidth": 2
          },
          "yaxis": {
           "automargin": true,
           "gridcolor": "white",
           "linecolor": "white",
           "ticks": "",
           "title": {
            "standoff": 15
           },
           "zerolinecolor": "white",
           "zerolinewidth": 2
          }
         }
        },
        "title": {
         "text": "Education Levels of Business Owners across US States"
        },
        "xaxis": {
         "anchor": "y",
         "domain": [
          0,
          1
         ],
         "title": {
          "text": "STATES"
         }
        },
        "yaxis": {
         "anchor": "x",
         "domain": [
          0,
          1
         ],
         "title": {
          "text": "Number of Business Owners"
         }
        }
       }
      }
     },
     "metadata": {},
     "output_type": "display_data"
    },
    {
     "name": "stdout",
     "output_type": "stream",
     "text": [
      "90\n"
     ]
    },
    {
     "data": {
      "application/vnd.plotly.v1+json": {
       "config": {
        "plotlyServerURL": "https://plot.ly"
       },
       "data": [
        {
         "alignmentgroup": "True",
         "hovertemplate": "Education Level=Less than high school graduate<br>STATES=%{x}<br>Number of Business Owners=%{y}<extra></extra>",
         "legendgroup": "Less than high school graduate",
         "marker": {
          "color": "#636efa",
          "pattern": {
           "shape": ""
          }
         },
         "name": "Less than high school graduate",
         "offsetgroup": "Less than high school graduate",
         "orientation": "v",
         "showlegend": true,
         "textposition": "auto",
         "texttemplate": "%{y:.2s}",
         "type": "bar",
         "x": [
          "Missouri",
          "Virginia",
          "Washington",
          "Wisconsin",
          "Arizona",
          "Colorado",
          "Indiana",
          "Minnesota",
          "Maryland",
          "Massachusetts"
         ],
         "xaxis": "x",
         "y": [
          2278,
          3144,
          2791,
          1473,
          1724,
          2070,
          1729,
          1855,
          2442,
          1932
         ],
         "yaxis": "y"
        },
        {
         "alignmentgroup": "True",
         "hovertemplate": "Education Level=High school graduate - diploma or GED<br>STATES=%{x}<br>Number of Business Owners=%{y}<extra></extra>",
         "legendgroup": "High school graduate - diploma or GED",
         "marker": {
          "color": "#EF553B",
          "pattern": {
           "shape": ""
          }
         },
         "name": "High school graduate - diploma or GED",
         "offsetgroup": "High school graduate - diploma or GED",
         "orientation": "v",
         "showlegend": true,
         "textposition": "auto",
         "texttemplate": "%{y:.2s}",
         "type": "bar",
         "x": [
          "Missouri",
          "Virginia",
          "Washington",
          "Wisconsin",
          "Arizona",
          "Colorado",
          "Indiana",
          "Minnesota",
          "Maryland",
          "Massachusetts"
         ],
         "xaxis": "x",
         "y": [
          17210,
          19013,
          21709,
          21631,
          12096,
          16159,
          21126,
          16992,
          12762,
          16774
         ],
         "yaxis": "y"
        },
        {
         "alignmentgroup": "True",
         "hovertemplate": "Education Level=Technical, trade, or vocational school<br>STATES=%{x}<br>Number of Business Owners=%{y}<extra></extra>",
         "legendgroup": "Technical, trade, or vocational school",
         "marker": {
          "color": "#00cc96",
          "pattern": {
           "shape": ""
          }
         },
         "name": "Technical, trade, or vocational school",
         "offsetgroup": "Technical, trade, or vocational school",
         "orientation": "v",
         "showlegend": true,
         "textposition": "auto",
         "texttemplate": "%{y:.2s}",
         "type": "bar",
         "x": [
          "Missouri",
          "Virginia",
          "Washington",
          "Wisconsin",
          "Arizona",
          "Colorado",
          "Indiana",
          "Minnesota",
          "Maryland",
          "Massachusetts"
         ],
         "xaxis": "x",
         "y": [
          4818,
          4451,
          7512,
          12648,
          4299,
          4990,
          5322,
          12275,
          2971,
          4588
         ],
         "yaxis": "y"
        },
        {
         "alignmentgroup": "True",
         "hovertemplate": "Education Level=Some college, but no degree<br>STATES=%{x}<br>Number of Business Owners=%{y}<extra></extra>",
         "legendgroup": "Some college, but no degree",
         "marker": {
          "color": "#ab63fa",
          "pattern": {
           "shape": ""
          }
         },
         "name": "Some college, but no degree",
         "offsetgroup": "Some college, but no degree",
         "orientation": "v",
         "showlegend": true,
         "textposition": "auto",
         "texttemplate": "%{y:.2s}",
         "type": "bar",
         "x": [
          "Missouri",
          "Virginia",
          "Washington",
          "Wisconsin",
          "Arizona",
          "Colorado",
          "Indiana",
          "Minnesota",
          "Maryland",
          "Massachusetts"
         ],
         "xaxis": "x",
         "y": [
          12185,
          12608,
          18092,
          10259,
          13667,
          14584,
          11808,
          11828,
          10054,
          10143
         ],
         "yaxis": "y"
        },
        {
         "alignmentgroup": "True",
         "hovertemplate": "Education Level=Associate degree<br>STATES=%{x}<br>Number of Business Owners=%{y}<extra></extra>",
         "legendgroup": "Associate degree",
         "marker": {
          "color": "#FFA15A",
          "pattern": {
           "shape": ""
          }
         },
         "name": "Associate degree",
         "offsetgroup": "Associate degree",
         "orientation": "v",
         "showlegend": true,
         "textposition": "auto",
         "texttemplate": "%{y:.2s}",
         "type": "bar",
         "x": [
          "Missouri",
          "Virginia",
          "Washington",
          "Wisconsin",
          "Arizona",
          "Colorado",
          "Indiana",
          "Minnesota",
          "Maryland",
          "Massachusetts"
         ],
         "xaxis": "x",
         "y": [
          5019,
          4940,
          7437,
          5689,
          3648,
          4649,
          5381,
          5841,
          3307,
          4833
         ],
         "yaxis": "y"
        },
        {
         "alignmentgroup": "True",
         "hovertemplate": "Education Level=Bachelor's degree<br>STATES=%{x}<br>Number of Business Owners=%{y}<extra></extra>",
         "legendgroup": "Bachelor's degree",
         "marker": {
          "color": "#19d3f3",
          "pattern": {
           "shape": ""
          }
         },
         "name": "Bachelor's degree",
         "offsetgroup": "Bachelor's degree",
         "orientation": "v",
         "showlegend": true,
         "textposition": "auto",
         "texttemplate": "%{y:.2s}",
         "type": "bar",
         "x": [
          "Missouri",
          "Virginia",
          "Washington",
          "Wisconsin",
          "Arizona",
          "Colorado",
          "Indiana",
          "Minnesota",
          "Maryland",
          "Massachusetts"
         ],
         "xaxis": "x",
         "y": [
          24499,
          31983,
          31930,
          24303,
          21784,
          36300,
          22878,
          27009,
          20937,
          26116
         ],
         "yaxis": "y"
        },
        {
         "alignmentgroup": "True",
         "hovertemplate": "Education Level=Master's degree<br>STATES=%{x}<br>Number of Business Owners=%{y}<extra></extra>",
         "legendgroup": "Master's degree",
         "marker": {
          "color": "#FF6692",
          "pattern": {
           "shape": ""
          }
         },
         "name": "Master's degree",
         "offsetgroup": "Master's degree",
         "orientation": "v",
         "showlegend": true,
         "textposition": "auto",
         "texttemplate": "%{y:.2s}",
         "type": "bar",
         "x": [
          "Missouri",
          "Virginia",
          "Washington",
          "Wisconsin",
          "Arizona",
          "Colorado",
          "Indiana",
          "Minnesota",
          "Maryland",
          "Massachusetts"
         ],
         "xaxis": "x",
         "y": [
          6630,
          13399,
          10052,
          6205,
          6630,
          13133,
          6332,
          6991,
          8634,
          10344
         ],
         "yaxis": "y"
        },
        {
         "alignmentgroup": "True",
         "hovertemplate": "Education Level=Doctorate degree<br>STATES=%{x}<br>Number of Business Owners=%{y}<extra></extra>",
         "legendgroup": "Doctorate degree",
         "marker": {
          "color": "#B6E880",
          "pattern": {
           "shape": ""
          }
         },
         "name": "Doctorate degree",
         "offsetgroup": "Doctorate degree",
         "orientation": "v",
         "showlegend": true,
         "textposition": "auto",
         "texttemplate": "%{y:.2s}",
         "type": "bar",
         "x": [
          "Missouri",
          "Virginia",
          "Washington",
          "Wisconsin",
          "Arizona",
          "Colorado",
          "Indiana",
          "Minnesota",
          "Maryland",
          "Massachusetts"
         ],
         "xaxis": "x",
         "y": [
          1786,
          2142,
          2094,
          1057,
          1363,
          1825,
          1370,
          1240,
          1786,
          2121
         ],
         "yaxis": "y"
        },
        {
         "alignmentgroup": "True",
         "hovertemplate": "Education Level=Professional degree beyond a bachelor's degree<br>STATES=%{x}<br>Number of Business Owners=%{y}<extra></extra>",
         "legendgroup": "Professional degree beyond a bachelor's degree",
         "marker": {
          "color": "#FF97FF",
          "pattern": {
           "shape": ""
          }
         },
         "name": "Professional degree beyond a bachelor's degree",
         "offsetgroup": "Professional degree beyond a bachelor's degree",
         "orientation": "v",
         "showlegend": true,
         "textposition": "auto",
         "texttemplate": "%{y:.2s}",
         "type": "bar",
         "x": [
          "Missouri",
          "Virginia",
          "Washington",
          "Wisconsin",
          "Arizona",
          "Colorado",
          "Indiana",
          "Minnesota",
          "Maryland",
          "Massachusetts"
         ],
         "xaxis": "x",
         "y": [
          7004,
          11602,
          11049,
          7152,
          8973,
          10364,
          7811,
          6514,
          8799,
          9611
         ],
         "yaxis": "y"
        }
       ],
       "layout": {
        "barmode": "relative",
        "legend": {
         "title": {
          "text": "Education Level"
         },
         "tracegroupgap": 0
        },
        "template": {
         "data": {
          "bar": [
           {
            "error_x": {
             "color": "#2a3f5f"
            },
            "error_y": {
             "color": "#2a3f5f"
            },
            "marker": {
             "line": {
              "color": "#E5ECF6",
              "width": 0.5
             },
             "pattern": {
              "fillmode": "overlay",
              "size": 10,
              "solidity": 0.2
             }
            },
            "type": "bar"
           }
          ],
          "barpolar": [
           {
            "marker": {
             "line": {
              "color": "#E5ECF6",
              "width": 0.5
             },
             "pattern": {
              "fillmode": "overlay",
              "size": 10,
              "solidity": 0.2
             }
            },
            "type": "barpolar"
           }
          ],
          "carpet": [
           {
            "aaxis": {
             "endlinecolor": "#2a3f5f",
             "gridcolor": "white",
             "linecolor": "white",
             "minorgridcolor": "white",
             "startlinecolor": "#2a3f5f"
            },
            "baxis": {
             "endlinecolor": "#2a3f5f",
             "gridcolor": "white",
             "linecolor": "white",
             "minorgridcolor": "white",
             "startlinecolor": "#2a3f5f"
            },
            "type": "carpet"
           }
          ],
          "choropleth": [
           {
            "colorbar": {
             "outlinewidth": 0,
             "ticks": ""
            },
            "type": "choropleth"
           }
          ],
          "contour": [
           {
            "colorbar": {
             "outlinewidth": 0,
             "ticks": ""
            },
            "colorscale": [
             [
              0,
              "#0d0887"
             ],
             [
              0.1111111111111111,
              "#46039f"
             ],
             [
              0.2222222222222222,
              "#7201a8"
             ],
             [
              0.3333333333333333,
              "#9c179e"
             ],
             [
              0.4444444444444444,
              "#bd3786"
             ],
             [
              0.5555555555555556,
              "#d8576b"
             ],
             [
              0.6666666666666666,
              "#ed7953"
             ],
             [
              0.7777777777777778,
              "#fb9f3a"
             ],
             [
              0.8888888888888888,
              "#fdca26"
             ],
             [
              1,
              "#f0f921"
             ]
            ],
            "type": "contour"
           }
          ],
          "contourcarpet": [
           {
            "colorbar": {
             "outlinewidth": 0,
             "ticks": ""
            },
            "type": "contourcarpet"
           }
          ],
          "heatmap": [
           {
            "colorbar": {
             "outlinewidth": 0,
             "ticks": ""
            },
            "colorscale": [
             [
              0,
              "#0d0887"
             ],
             [
              0.1111111111111111,
              "#46039f"
             ],
             [
              0.2222222222222222,
              "#7201a8"
             ],
             [
              0.3333333333333333,
              "#9c179e"
             ],
             [
              0.4444444444444444,
              "#bd3786"
             ],
             [
              0.5555555555555556,
              "#d8576b"
             ],
             [
              0.6666666666666666,
              "#ed7953"
             ],
             [
              0.7777777777777778,
              "#fb9f3a"
             ],
             [
              0.8888888888888888,
              "#fdca26"
             ],
             [
              1,
              "#f0f921"
             ]
            ],
            "type": "heatmap"
           }
          ],
          "heatmapgl": [
           {
            "colorbar": {
             "outlinewidth": 0,
             "ticks": ""
            },
            "colorscale": [
             [
              0,
              "#0d0887"
             ],
             [
              0.1111111111111111,
              "#46039f"
             ],
             [
              0.2222222222222222,
              "#7201a8"
             ],
             [
              0.3333333333333333,
              "#9c179e"
             ],
             [
              0.4444444444444444,
              "#bd3786"
             ],
             [
              0.5555555555555556,
              "#d8576b"
             ],
             [
              0.6666666666666666,
              "#ed7953"
             ],
             [
              0.7777777777777778,
              "#fb9f3a"
             ],
             [
              0.8888888888888888,
              "#fdca26"
             ],
             [
              1,
              "#f0f921"
             ]
            ],
            "type": "heatmapgl"
           }
          ],
          "histogram": [
           {
            "marker": {
             "pattern": {
              "fillmode": "overlay",
              "size": 10,
              "solidity": 0.2
             }
            },
            "type": "histogram"
           }
          ],
          "histogram2d": [
           {
            "colorbar": {
             "outlinewidth": 0,
             "ticks": ""
            },
            "colorscale": [
             [
              0,
              "#0d0887"
             ],
             [
              0.1111111111111111,
              "#46039f"
             ],
             [
              0.2222222222222222,
              "#7201a8"
             ],
             [
              0.3333333333333333,
              "#9c179e"
             ],
             [
              0.4444444444444444,
              "#bd3786"
             ],
             [
              0.5555555555555556,
              "#d8576b"
             ],
             [
              0.6666666666666666,
              "#ed7953"
             ],
             [
              0.7777777777777778,
              "#fb9f3a"
             ],
             [
              0.8888888888888888,
              "#fdca26"
             ],
             [
              1,
              "#f0f921"
             ]
            ],
            "type": "histogram2d"
           }
          ],
          "histogram2dcontour": [
           {
            "colorbar": {
             "outlinewidth": 0,
             "ticks": ""
            },
            "colorscale": [
             [
              0,
              "#0d0887"
             ],
             [
              0.1111111111111111,
              "#46039f"
             ],
             [
              0.2222222222222222,
              "#7201a8"
             ],
             [
              0.3333333333333333,
              "#9c179e"
             ],
             [
              0.4444444444444444,
              "#bd3786"
             ],
             [
              0.5555555555555556,
              "#d8576b"
             ],
             [
              0.6666666666666666,
              "#ed7953"
             ],
             [
              0.7777777777777778,
              "#fb9f3a"
             ],
             [
              0.8888888888888888,
              "#fdca26"
             ],
             [
              1,
              "#f0f921"
             ]
            ],
            "type": "histogram2dcontour"
           }
          ],
          "mesh3d": [
           {
            "colorbar": {
             "outlinewidth": 0,
             "ticks": ""
            },
            "type": "mesh3d"
           }
          ],
          "parcoords": [
           {
            "line": {
             "colorbar": {
              "outlinewidth": 0,
              "ticks": ""
             }
            },
            "type": "parcoords"
           }
          ],
          "pie": [
           {
            "automargin": true,
            "type": "pie"
           }
          ],
          "scatter": [
           {
            "fillpattern": {
             "fillmode": "overlay",
             "size": 10,
             "solidity": 0.2
            },
            "type": "scatter"
           }
          ],
          "scatter3d": [
           {
            "line": {
             "colorbar": {
              "outlinewidth": 0,
              "ticks": ""
             }
            },
            "marker": {
             "colorbar": {
              "outlinewidth": 0,
              "ticks": ""
             }
            },
            "type": "scatter3d"
           }
          ],
          "scattercarpet": [
           {
            "marker": {
             "colorbar": {
              "outlinewidth": 0,
              "ticks": ""
             }
            },
            "type": "scattercarpet"
           }
          ],
          "scattergeo": [
           {
            "marker": {
             "colorbar": {
              "outlinewidth": 0,
              "ticks": ""
             }
            },
            "type": "scattergeo"
           }
          ],
          "scattergl": [
           {
            "marker": {
             "colorbar": {
              "outlinewidth": 0,
              "ticks": ""
             }
            },
            "type": "scattergl"
           }
          ],
          "scattermapbox": [
           {
            "marker": {
             "colorbar": {
              "outlinewidth": 0,
              "ticks": ""
             }
            },
            "type": "scattermapbox"
           }
          ],
          "scatterpolar": [
           {
            "marker": {
             "colorbar": {
              "outlinewidth": 0,
              "ticks": ""
             }
            },
            "type": "scatterpolar"
           }
          ],
          "scatterpolargl": [
           {
            "marker": {
             "colorbar": {
              "outlinewidth": 0,
              "ticks": ""
             }
            },
            "type": "scatterpolargl"
           }
          ],
          "scatterternary": [
           {
            "marker": {
             "colorbar": {
              "outlinewidth": 0,
              "ticks": ""
             }
            },
            "type": "scatterternary"
           }
          ],
          "surface": [
           {
            "colorbar": {
             "outlinewidth": 0,
             "ticks": ""
            },
            "colorscale": [
             [
              0,
              "#0d0887"
             ],
             [
              0.1111111111111111,
              "#46039f"
             ],
             [
              0.2222222222222222,
              "#7201a8"
             ],
             [
              0.3333333333333333,
              "#9c179e"
             ],
             [
              0.4444444444444444,
              "#bd3786"
             ],
             [
              0.5555555555555556,
              "#d8576b"
             ],
             [
              0.6666666666666666,
              "#ed7953"
             ],
             [
              0.7777777777777778,
              "#fb9f3a"
             ],
             [
              0.8888888888888888,
              "#fdca26"
             ],
             [
              1,
              "#f0f921"
             ]
            ],
            "type": "surface"
           }
          ],
          "table": [
           {
            "cells": {
             "fill": {
              "color": "#EBF0F8"
             },
             "line": {
              "color": "white"
             }
            },
            "header": {
             "fill": {
              "color": "#C8D4E3"
             },
             "line": {
              "color": "white"
             }
            },
            "type": "table"
           }
          ]
         },
         "layout": {
          "annotationdefaults": {
           "arrowcolor": "#2a3f5f",
           "arrowhead": 0,
           "arrowwidth": 1
          },
          "autotypenumbers": "strict",
          "coloraxis": {
           "colorbar": {
            "outlinewidth": 0,
            "ticks": ""
           }
          },
          "colorscale": {
           "diverging": [
            [
             0,
             "#8e0152"
            ],
            [
             0.1,
             "#c51b7d"
            ],
            [
             0.2,
             "#de77ae"
            ],
            [
             0.3,
             "#f1b6da"
            ],
            [
             0.4,
             "#fde0ef"
            ],
            [
             0.5,
             "#f7f7f7"
            ],
            [
             0.6,
             "#e6f5d0"
            ],
            [
             0.7,
             "#b8e186"
            ],
            [
             0.8,
             "#7fbc41"
            ],
            [
             0.9,
             "#4d9221"
            ],
            [
             1,
             "#276419"
            ]
           ],
           "sequential": [
            [
             0,
             "#0d0887"
            ],
            [
             0.1111111111111111,
             "#46039f"
            ],
            [
             0.2222222222222222,
             "#7201a8"
            ],
            [
             0.3333333333333333,
             "#9c179e"
            ],
            [
             0.4444444444444444,
             "#bd3786"
            ],
            [
             0.5555555555555556,
             "#d8576b"
            ],
            [
             0.6666666666666666,
             "#ed7953"
            ],
            [
             0.7777777777777778,
             "#fb9f3a"
            ],
            [
             0.8888888888888888,
             "#fdca26"
            ],
            [
             1,
             "#f0f921"
            ]
           ],
           "sequentialminus": [
            [
             0,
             "#0d0887"
            ],
            [
             0.1111111111111111,
             "#46039f"
            ],
            [
             0.2222222222222222,
             "#7201a8"
            ],
            [
             0.3333333333333333,
             "#9c179e"
            ],
            [
             0.4444444444444444,
             "#bd3786"
            ],
            [
             0.5555555555555556,
             "#d8576b"
            ],
            [
             0.6666666666666666,
             "#ed7953"
            ],
            [
             0.7777777777777778,
             "#fb9f3a"
            ],
            [
             0.8888888888888888,
             "#fdca26"
            ],
            [
             1,
             "#f0f921"
            ]
           ]
          },
          "colorway": [
           "#636efa",
           "#EF553B",
           "#00cc96",
           "#ab63fa",
           "#FFA15A",
           "#19d3f3",
           "#FF6692",
           "#B6E880",
           "#FF97FF",
           "#FECB52"
          ],
          "font": {
           "color": "#2a3f5f"
          },
          "geo": {
           "bgcolor": "white",
           "lakecolor": "white",
           "landcolor": "#E5ECF6",
           "showlakes": true,
           "showland": true,
           "subunitcolor": "white"
          },
          "hoverlabel": {
           "align": "left"
          },
          "hovermode": "closest",
          "mapbox": {
           "style": "light"
          },
          "paper_bgcolor": "white",
          "plot_bgcolor": "#E5ECF6",
          "polar": {
           "angularaxis": {
            "gridcolor": "white",
            "linecolor": "white",
            "ticks": ""
           },
           "bgcolor": "#E5ECF6",
           "radialaxis": {
            "gridcolor": "white",
            "linecolor": "white",
            "ticks": ""
           }
          },
          "scene": {
           "xaxis": {
            "backgroundcolor": "#E5ECF6",
            "gridcolor": "white",
            "gridwidth": 2,
            "linecolor": "white",
            "showbackground": true,
            "ticks": "",
            "zerolinecolor": "white"
           },
           "yaxis": {
            "backgroundcolor": "#E5ECF6",
            "gridcolor": "white",
            "gridwidth": 2,
            "linecolor": "white",
            "showbackground": true,
            "ticks": "",
            "zerolinecolor": "white"
           },
           "zaxis": {
            "backgroundcolor": "#E5ECF6",
            "gridcolor": "white",
            "gridwidth": 2,
            "linecolor": "white",
            "showbackground": true,
            "ticks": "",
            "zerolinecolor": "white"
           }
          },
          "shapedefaults": {
           "line": {
            "color": "#2a3f5f"
           }
          },
          "ternary": {
           "aaxis": {
            "gridcolor": "white",
            "linecolor": "white",
            "ticks": ""
           },
           "baxis": {
            "gridcolor": "white",
            "linecolor": "white",
            "ticks": ""
           },
           "bgcolor": "#E5ECF6",
           "caxis": {
            "gridcolor": "white",
            "linecolor": "white",
            "ticks": ""
           }
          },
          "title": {
           "x": 0.05
          },
          "xaxis": {
           "automargin": true,
           "gridcolor": "white",
           "linecolor": "white",
           "ticks": "",
           "title": {
            "standoff": 15
           },
           "zerolinecolor": "white",
           "zerolinewidth": 2
          },
          "yaxis": {
           "automargin": true,
           "gridcolor": "white",
           "linecolor": "white",
           "ticks": "",
           "title": {
            "standoff": 15
           },
           "zerolinecolor": "white",
           "zerolinewidth": 2
          }
         }
        },
        "title": {
         "text": "Education Levels of Business Owners across US States"
        },
        "xaxis": {
         "anchor": "y",
         "domain": [
          0,
          1
         ],
         "title": {
          "text": "STATES"
         }
        },
        "yaxis": {
         "anchor": "x",
         "domain": [
          0,
          1
         ],
         "title": {
          "text": "Number of Business Owners"
         }
        }
       }
      }
     },
     "metadata": {},
     "output_type": "display_data"
    },
    {
     "name": "stdout",
     "output_type": "stream",
     "text": [
      "90\n"
     ]
    },
    {
     "data": {
      "application/vnd.plotly.v1+json": {
       "config": {
        "plotlyServerURL": "https://plot.ly"
       },
       "data": [
        {
         "alignmentgroup": "True",
         "hovertemplate": "Education Level=Less than high school graduate<br>STATES=%{x}<br>Number of Business Owners=%{y}<extra></extra>",
         "legendgroup": "Less than high school graduate",
         "marker": {
          "color": "#636efa",
          "pattern": {
           "shape": ""
          }
         },
         "name": "Less than high school graduate",
         "offsetgroup": "Less than high school graduate",
         "orientation": "v",
         "showlegend": true,
         "textposition": "auto",
         "texttemplate": "%{y:.2s}",
         "type": "bar",
         "x": [
          "New York",
          "New Jersey",
          "North Carolina",
          "Ohio",
          "Texas",
          "Pennsylvania",
          "Florida",
          "Georgia",
          "Illinois",
          "Michigan"
         ],
         "xaxis": "x",
         "y": [
          8559,
          3276,
          2607,
          2683,
          9063,
          5446,
          7288,
          2065,
          4398,
          3424
         ],
         "yaxis": "y"
        },
        {
         "alignmentgroup": "True",
         "hovertemplate": "Education Level=High school graduate - diploma or GED<br>STATES=%{x}<br>Number of Business Owners=%{y}<extra></extra>",
         "legendgroup": "High school graduate - diploma or GED",
         "marker": {
          "color": "#EF553B",
          "pattern": {
           "shape": ""
          }
         },
         "name": "High school graduate - diploma or GED",
         "offsetgroup": "High school graduate - diploma or GED",
         "orientation": "v",
         "showlegend": true,
         "textposition": "auto",
         "texttemplate": "%{y:.2s}",
         "type": "bar",
         "x": [
          "New York",
          "New Jersey",
          "North Carolina",
          "Ohio",
          "Texas",
          "Pennsylvania",
          "Florida",
          "Georgia",
          "Illinois",
          "Michigan"
         ],
         "xaxis": "x",
         "y": [
          51898,
          23207,
          25037,
          30892,
          44743,
          37255,
          55410,
          19489,
          32725,
          28364
         ],
         "yaxis": "y"
        },
        {
         "alignmentgroup": "True",
         "hovertemplate": "Education Level=Technical, trade, or vocational school<br>STATES=%{x}<br>Number of Business Owners=%{y}<extra></extra>",
         "legendgroup": "Technical, trade, or vocational school",
         "marker": {
          "color": "#00cc96",
          "pattern": {
           "shape": ""
          }
         },
         "name": "Technical, trade, or vocational school",
         "offsetgroup": "Technical, trade, or vocational school",
         "orientation": "v",
         "showlegend": true,
         "textposition": "auto",
         "texttemplate": "%{y:.2s}",
         "type": "bar",
         "x": [
          "New York",
          "New Jersey",
          "North Carolina",
          "Ohio",
          "Texas",
          "Pennsylvania",
          "Florida",
          "Georgia",
          "Illinois",
          "Michigan"
         ],
         "xaxis": "x",
         "y": [
          9819,
          5994,
          6750,
          7837,
          11805,
          12270,
          17851,
          6272,
          8598,
          5953
         ],
         "yaxis": "y"
        },
        {
         "alignmentgroup": "True",
         "hovertemplate": "Education Level=Some college, but no degree<br>STATES=%{x}<br>Number of Business Owners=%{y}<extra></extra>",
         "legendgroup": "Some college, but no degree",
         "marker": {
          "color": "#ab63fa",
          "pattern": {
           "shape": ""
          }
         },
         "name": "Some college, but no degree",
         "offsetgroup": "Some college, but no degree",
         "orientation": "v",
         "showlegend": true,
         "textposition": "auto",
         "texttemplate": "%{y:.2s}",
         "type": "bar",
         "x": [
          "New York",
          "New Jersey",
          "North Carolina",
          "Ohio",
          "Texas",
          "Pennsylvania",
          "Florida",
          "Georgia",
          "Illinois",
          "Michigan"
         ],
         "xaxis": "x",
         "y": [
          30747,
          13325,
          17022,
          18229,
          47814,
          16730,
          44760,
          14980,
          22533,
          19706
         ],
         "yaxis": "y"
        },
        {
         "alignmentgroup": "True",
         "hovertemplate": "Education Level=Associate degree<br>STATES=%{x}<br>Number of Business Owners=%{y}<extra></extra>",
         "legendgroup": "Associate degree",
         "marker": {
          "color": "#FFA15A",
          "pattern": {
           "shape": ""
          }
         },
         "name": "Associate degree",
         "offsetgroup": "Associate degree",
         "orientation": "v",
         "showlegend": true,
         "textposition": "auto",
         "texttemplate": "%{y:.2s}",
         "type": "bar",
         "x": [
          "New York",
          "New Jersey",
          "North Carolina",
          "Ohio",
          "Texas",
          "Pennsylvania",
          "Florida",
          "Georgia",
          "Illinois",
          "Michigan"
         ],
         "xaxis": "x",
         "y": [
          16190,
          5468,
          8602,
          6787,
          12527,
          7896,
          21336,
          4594,
          8695,
          8232
         ],
         "yaxis": "y"
        },
        {
         "alignmentgroup": "True",
         "hovertemplate": "Education Level=Bachelor's degree<br>STATES=%{x}<br>Number of Business Owners=%{y}<extra></extra>",
         "legendgroup": "Bachelor's degree",
         "marker": {
          "color": "#19d3f3",
          "pattern": {
           "shape": ""
          }
         },
         "name": "Bachelor's degree",
         "offsetgroup": "Bachelor's degree",
         "orientation": "v",
         "showlegend": true,
         "textposition": "auto",
         "texttemplate": "%{y:.2s}",
         "type": "bar",
         "x": [
          "New York",
          "New Jersey",
          "North Carolina",
          "Ohio",
          "Texas",
          "Pennsylvania",
          "Florida",
          "Georgia",
          "Illinois",
          "Michigan"
         ],
         "xaxis": "x",
         "y": [
          79452,
          39004,
          42339,
          39956,
          95444,
          47485,
          84370,
          37685,
          55075,
          32899
         ],
         "yaxis": "y"
        },
        {
         "alignmentgroup": "True",
         "hovertemplate": "Education Level=Master's degree<br>STATES=%{x}<br>Number of Business Owners=%{y}<extra></extra>",
         "legendgroup": "Master's degree",
         "marker": {
          "color": "#FF6692",
          "pattern": {
           "shape": ""
          }
         },
         "name": "Master's degree",
         "offsetgroup": "Master's degree",
         "orientation": "v",
         "showlegend": true,
         "textposition": "auto",
         "texttemplate": "%{y:.2s}",
         "type": "bar",
         "x": [
          "New York",
          "New Jersey",
          "North Carolina",
          "Ohio",
          "Texas",
          "Pennsylvania",
          "Florida",
          "Georgia",
          "Illinois",
          "Michigan"
         ],
         "xaxis": "x",
         "y": [
          27805,
          12922,
          11153,
          9614,
          29530,
          13795,
          29566,
          12485,
          17262,
          8285
         ],
         "yaxis": "y"
        },
        {
         "alignmentgroup": "True",
         "hovertemplate": "Education Level=Doctorate degree<br>STATES=%{x}<br>Number of Business Owners=%{y}<extra></extra>",
         "legendgroup": "Doctorate degree",
         "marker": {
          "color": "#B6E880",
          "pattern": {
           "shape": ""
          }
         },
         "name": "Doctorate degree",
         "offsetgroup": "Doctorate degree",
         "orientation": "v",
         "showlegend": true,
         "textposition": "auto",
         "texttemplate": "%{y:.2s}",
         "type": "bar",
         "x": [
          "New York",
          "New Jersey",
          "North Carolina",
          "Ohio",
          "Texas",
          "Pennsylvania",
          "Florida",
          "Georgia",
          "Illinois",
          "Michigan"
         ],
         "xaxis": "x",
         "y": [
          4354,
          2294,
          2461,
          1905,
          5529,
          2283,
          5854,
          2074,
          2971,
          2656
         ],
         "yaxis": "y"
        },
        {
         "alignmentgroup": "True",
         "hovertemplate": "Education Level=Professional degree beyond a bachelor's degree<br>STATES=%{x}<br>Number of Business Owners=%{y}<extra></extra>",
         "legendgroup": "Professional degree beyond a bachelor's degree",
         "marker": {
          "color": "#FF97FF",
          "pattern": {
           "shape": ""
          }
         },
         "name": "Professional degree beyond a bachelor's degree",
         "offsetgroup": "Professional degree beyond a bachelor's degree",
         "orientation": "v",
         "showlegend": true,
         "textposition": "auto",
         "texttemplate": "%{y:.2s}",
         "type": "bar",
         "x": [
          "New York",
          "New Jersey",
          "North Carolina",
          "Ohio",
          "Texas",
          "Pennsylvania",
          "Florida",
          "Georgia",
          "Illinois",
          "Michigan"
         ],
         "xaxis": "x",
         "y": [
          32667,
          15987,
          13329,
          15731,
          35296,
          17674,
          34069,
          13795,
          20378,
          11239
         ],
         "yaxis": "y"
        }
       ],
       "layout": {
        "barmode": "relative",
        "legend": {
         "title": {
          "text": "Education Level"
         },
         "tracegroupgap": 0
        },
        "template": {
         "data": {
          "bar": [
           {
            "error_x": {
             "color": "#2a3f5f"
            },
            "error_y": {
             "color": "#2a3f5f"
            },
            "marker": {
             "line": {
              "color": "#E5ECF6",
              "width": 0.5
             },
             "pattern": {
              "fillmode": "overlay",
              "size": 10,
              "solidity": 0.2
             }
            },
            "type": "bar"
           }
          ],
          "barpolar": [
           {
            "marker": {
             "line": {
              "color": "#E5ECF6",
              "width": 0.5
             },
             "pattern": {
              "fillmode": "overlay",
              "size": 10,
              "solidity": 0.2
             }
            },
            "type": "barpolar"
           }
          ],
          "carpet": [
           {
            "aaxis": {
             "endlinecolor": "#2a3f5f",
             "gridcolor": "white",
             "linecolor": "white",
             "minorgridcolor": "white",
             "startlinecolor": "#2a3f5f"
            },
            "baxis": {
             "endlinecolor": "#2a3f5f",
             "gridcolor": "white",
             "linecolor": "white",
             "minorgridcolor": "white",
             "startlinecolor": "#2a3f5f"
            },
            "type": "carpet"
           }
          ],
          "choropleth": [
           {
            "colorbar": {
             "outlinewidth": 0,
             "ticks": ""
            },
            "type": "choropleth"
           }
          ],
          "contour": [
           {
            "colorbar": {
             "outlinewidth": 0,
             "ticks": ""
            },
            "colorscale": [
             [
              0,
              "#0d0887"
             ],
             [
              0.1111111111111111,
              "#46039f"
             ],
             [
              0.2222222222222222,
              "#7201a8"
             ],
             [
              0.3333333333333333,
              "#9c179e"
             ],
             [
              0.4444444444444444,
              "#bd3786"
             ],
             [
              0.5555555555555556,
              "#d8576b"
             ],
             [
              0.6666666666666666,
              "#ed7953"
             ],
             [
              0.7777777777777778,
              "#fb9f3a"
             ],
             [
              0.8888888888888888,
              "#fdca26"
             ],
             [
              1,
              "#f0f921"
             ]
            ],
            "type": "contour"
           }
          ],
          "contourcarpet": [
           {
            "colorbar": {
             "outlinewidth": 0,
             "ticks": ""
            },
            "type": "contourcarpet"
           }
          ],
          "heatmap": [
           {
            "colorbar": {
             "outlinewidth": 0,
             "ticks": ""
            },
            "colorscale": [
             [
              0,
              "#0d0887"
             ],
             [
              0.1111111111111111,
              "#46039f"
             ],
             [
              0.2222222222222222,
              "#7201a8"
             ],
             [
              0.3333333333333333,
              "#9c179e"
             ],
             [
              0.4444444444444444,
              "#bd3786"
             ],
             [
              0.5555555555555556,
              "#d8576b"
             ],
             [
              0.6666666666666666,
              "#ed7953"
             ],
             [
              0.7777777777777778,
              "#fb9f3a"
             ],
             [
              0.8888888888888888,
              "#fdca26"
             ],
             [
              1,
              "#f0f921"
             ]
            ],
            "type": "heatmap"
           }
          ],
          "heatmapgl": [
           {
            "colorbar": {
             "outlinewidth": 0,
             "ticks": ""
            },
            "colorscale": [
             [
              0,
              "#0d0887"
             ],
             [
              0.1111111111111111,
              "#46039f"
             ],
             [
              0.2222222222222222,
              "#7201a8"
             ],
             [
              0.3333333333333333,
              "#9c179e"
             ],
             [
              0.4444444444444444,
              "#bd3786"
             ],
             [
              0.5555555555555556,
              "#d8576b"
             ],
             [
              0.6666666666666666,
              "#ed7953"
             ],
             [
              0.7777777777777778,
              "#fb9f3a"
             ],
             [
              0.8888888888888888,
              "#fdca26"
             ],
             [
              1,
              "#f0f921"
             ]
            ],
            "type": "heatmapgl"
           }
          ],
          "histogram": [
           {
            "marker": {
             "pattern": {
              "fillmode": "overlay",
              "size": 10,
              "solidity": 0.2
             }
            },
            "type": "histogram"
           }
          ],
          "histogram2d": [
           {
            "colorbar": {
             "outlinewidth": 0,
             "ticks": ""
            },
            "colorscale": [
             [
              0,
              "#0d0887"
             ],
             [
              0.1111111111111111,
              "#46039f"
             ],
             [
              0.2222222222222222,
              "#7201a8"
             ],
             [
              0.3333333333333333,
              "#9c179e"
             ],
             [
              0.4444444444444444,
              "#bd3786"
             ],
             [
              0.5555555555555556,
              "#d8576b"
             ],
             [
              0.6666666666666666,
              "#ed7953"
             ],
             [
              0.7777777777777778,
              "#fb9f3a"
             ],
             [
              0.8888888888888888,
              "#fdca26"
             ],
             [
              1,
              "#f0f921"
             ]
            ],
            "type": "histogram2d"
           }
          ],
          "histogram2dcontour": [
           {
            "colorbar": {
             "outlinewidth": 0,
             "ticks": ""
            },
            "colorscale": [
             [
              0,
              "#0d0887"
             ],
             [
              0.1111111111111111,
              "#46039f"
             ],
             [
              0.2222222222222222,
              "#7201a8"
             ],
             [
              0.3333333333333333,
              "#9c179e"
             ],
             [
              0.4444444444444444,
              "#bd3786"
             ],
             [
              0.5555555555555556,
              "#d8576b"
             ],
             [
              0.6666666666666666,
              "#ed7953"
             ],
             [
              0.7777777777777778,
              "#fb9f3a"
             ],
             [
              0.8888888888888888,
              "#fdca26"
             ],
             [
              1,
              "#f0f921"
             ]
            ],
            "type": "histogram2dcontour"
           }
          ],
          "mesh3d": [
           {
            "colorbar": {
             "outlinewidth": 0,
             "ticks": ""
            },
            "type": "mesh3d"
           }
          ],
          "parcoords": [
           {
            "line": {
             "colorbar": {
              "outlinewidth": 0,
              "ticks": ""
             }
            },
            "type": "parcoords"
           }
          ],
          "pie": [
           {
            "automargin": true,
            "type": "pie"
           }
          ],
          "scatter": [
           {
            "fillpattern": {
             "fillmode": "overlay",
             "size": 10,
             "solidity": 0.2
            },
            "type": "scatter"
           }
          ],
          "scatter3d": [
           {
            "line": {
             "colorbar": {
              "outlinewidth": 0,
              "ticks": ""
             }
            },
            "marker": {
             "colorbar": {
              "outlinewidth": 0,
              "ticks": ""
             }
            },
            "type": "scatter3d"
           }
          ],
          "scattercarpet": [
           {
            "marker": {
             "colorbar": {
              "outlinewidth": 0,
              "ticks": ""
             }
            },
            "type": "scattercarpet"
           }
          ],
          "scattergeo": [
           {
            "marker": {
             "colorbar": {
              "outlinewidth": 0,
              "ticks": ""
             }
            },
            "type": "scattergeo"
           }
          ],
          "scattergl": [
           {
            "marker": {
             "colorbar": {
              "outlinewidth": 0,
              "ticks": ""
             }
            },
            "type": "scattergl"
           }
          ],
          "scattermapbox": [
           {
            "marker": {
             "colorbar": {
              "outlinewidth": 0,
              "ticks": ""
             }
            },
            "type": "scattermapbox"
           }
          ],
          "scatterpolar": [
           {
            "marker": {
             "colorbar": {
              "outlinewidth": 0,
              "ticks": ""
             }
            },
            "type": "scatterpolar"
           }
          ],
          "scatterpolargl": [
           {
            "marker": {
             "colorbar": {
              "outlinewidth": 0,
              "ticks": ""
             }
            },
            "type": "scatterpolargl"
           }
          ],
          "scatterternary": [
           {
            "marker": {
             "colorbar": {
              "outlinewidth": 0,
              "ticks": ""
             }
            },
            "type": "scatterternary"
           }
          ],
          "surface": [
           {
            "colorbar": {
             "outlinewidth": 0,
             "ticks": ""
            },
            "colorscale": [
             [
              0,
              "#0d0887"
             ],
             [
              0.1111111111111111,
              "#46039f"
             ],
             [
              0.2222222222222222,
              "#7201a8"
             ],
             [
              0.3333333333333333,
              "#9c179e"
             ],
             [
              0.4444444444444444,
              "#bd3786"
             ],
             [
              0.5555555555555556,
              "#d8576b"
             ],
             [
              0.6666666666666666,
              "#ed7953"
             ],
             [
              0.7777777777777778,
              "#fb9f3a"
             ],
             [
              0.8888888888888888,
              "#fdca26"
             ],
             [
              1,
              "#f0f921"
             ]
            ],
            "type": "surface"
           }
          ],
          "table": [
           {
            "cells": {
             "fill": {
              "color": "#EBF0F8"
             },
             "line": {
              "color": "white"
             }
            },
            "header": {
             "fill": {
              "color": "#C8D4E3"
             },
             "line": {
              "color": "white"
             }
            },
            "type": "table"
           }
          ]
         },
         "layout": {
          "annotationdefaults": {
           "arrowcolor": "#2a3f5f",
           "arrowhead": 0,
           "arrowwidth": 1
          },
          "autotypenumbers": "strict",
          "coloraxis": {
           "colorbar": {
            "outlinewidth": 0,
            "ticks": ""
           }
          },
          "colorscale": {
           "diverging": [
            [
             0,
             "#8e0152"
            ],
            [
             0.1,
             "#c51b7d"
            ],
            [
             0.2,
             "#de77ae"
            ],
            [
             0.3,
             "#f1b6da"
            ],
            [
             0.4,
             "#fde0ef"
            ],
            [
             0.5,
             "#f7f7f7"
            ],
            [
             0.6,
             "#e6f5d0"
            ],
            [
             0.7,
             "#b8e186"
            ],
            [
             0.8,
             "#7fbc41"
            ],
            [
             0.9,
             "#4d9221"
            ],
            [
             1,
             "#276419"
            ]
           ],
           "sequential": [
            [
             0,
             "#0d0887"
            ],
            [
             0.1111111111111111,
             "#46039f"
            ],
            [
             0.2222222222222222,
             "#7201a8"
            ],
            [
             0.3333333333333333,
             "#9c179e"
            ],
            [
             0.4444444444444444,
             "#bd3786"
            ],
            [
             0.5555555555555556,
             "#d8576b"
            ],
            [
             0.6666666666666666,
             "#ed7953"
            ],
            [
             0.7777777777777778,
             "#fb9f3a"
            ],
            [
             0.8888888888888888,
             "#fdca26"
            ],
            [
             1,
             "#f0f921"
            ]
           ],
           "sequentialminus": [
            [
             0,
             "#0d0887"
            ],
            [
             0.1111111111111111,
             "#46039f"
            ],
            [
             0.2222222222222222,
             "#7201a8"
            ],
            [
             0.3333333333333333,
             "#9c179e"
            ],
            [
             0.4444444444444444,
             "#bd3786"
            ],
            [
             0.5555555555555556,
             "#d8576b"
            ],
            [
             0.6666666666666666,
             "#ed7953"
            ],
            [
             0.7777777777777778,
             "#fb9f3a"
            ],
            [
             0.8888888888888888,
             "#fdca26"
            ],
            [
             1,
             "#f0f921"
            ]
           ]
          },
          "colorway": [
           "#636efa",
           "#EF553B",
           "#00cc96",
           "#ab63fa",
           "#FFA15A",
           "#19d3f3",
           "#FF6692",
           "#B6E880",
           "#FF97FF",
           "#FECB52"
          ],
          "font": {
           "color": "#2a3f5f"
          },
          "geo": {
           "bgcolor": "white",
           "lakecolor": "white",
           "landcolor": "#E5ECF6",
           "showlakes": true,
           "showland": true,
           "subunitcolor": "white"
          },
          "hoverlabel": {
           "align": "left"
          },
          "hovermode": "closest",
          "mapbox": {
           "style": "light"
          },
          "paper_bgcolor": "white",
          "plot_bgcolor": "#E5ECF6",
          "polar": {
           "angularaxis": {
            "gridcolor": "white",
            "linecolor": "white",
            "ticks": ""
           },
           "bgcolor": "#E5ECF6",
           "radialaxis": {
            "gridcolor": "white",
            "linecolor": "white",
            "ticks": ""
           }
          },
          "scene": {
           "xaxis": {
            "backgroundcolor": "#E5ECF6",
            "gridcolor": "white",
            "gridwidth": 2,
            "linecolor": "white",
            "showbackground": true,
            "ticks": "",
            "zerolinecolor": "white"
           },
           "yaxis": {
            "backgroundcolor": "#E5ECF6",
            "gridcolor": "white",
            "gridwidth": 2,
            "linecolor": "white",
            "showbackground": true,
            "ticks": "",
            "zerolinecolor": "white"
           },
           "zaxis": {
            "backgroundcolor": "#E5ECF6",
            "gridcolor": "white",
            "gridwidth": 2,
            "linecolor": "white",
            "showbackground": true,
            "ticks": "",
            "zerolinecolor": "white"
           }
          },
          "shapedefaults": {
           "line": {
            "color": "#2a3f5f"
           }
          },
          "ternary": {
           "aaxis": {
            "gridcolor": "white",
            "linecolor": "white",
            "ticks": ""
           },
           "baxis": {
            "gridcolor": "white",
            "linecolor": "white",
            "ticks": ""
           },
           "bgcolor": "#E5ECF6",
           "caxis": {
            "gridcolor": "white",
            "linecolor": "white",
            "ticks": ""
           }
          },
          "title": {
           "x": 0.05
          },
          "xaxis": {
           "automargin": true,
           "gridcolor": "white",
           "linecolor": "white",
           "ticks": "",
           "title": {
            "standoff": 15
           },
           "zerolinecolor": "white",
           "zerolinewidth": 2
          },
          "yaxis": {
           "automargin": true,
           "gridcolor": "white",
           "linecolor": "white",
           "ticks": "",
           "title": {
            "standoff": 15
           },
           "zerolinecolor": "white",
           "zerolinewidth": 2
          }
         }
        },
        "title": {
         "text": "Education Levels of Business Owners across US States"
        },
        "xaxis": {
         "anchor": "y",
         "domain": [
          0,
          1
         ],
         "title": {
          "text": "STATES"
         }
        },
        "yaxis": {
         "anchor": "x",
         "domain": [
          0,
          1
         ],
         "title": {
          "text": "Number of Business Owners"
         }
        }
       }
      }
     },
     "metadata": {},
     "output_type": "display_data"
    },
    {
     "name": "stdout",
     "output_type": "stream",
     "text": [
      "9\n"
     ]
    },
    {
     "data": {
      "application/vnd.plotly.v1+json": {
       "config": {
        "plotlyServerURL": "https://plot.ly"
       },
       "data": [
        {
         "alignmentgroup": "True",
         "hovertemplate": "Education Level=%{x}<br>Number of Business Owners=%{y}<extra></extra>",
         "legendgroup": "",
         "marker": {
          "color": "#636efa",
          "pattern": {
           "shape": ""
          }
         },
         "name": "",
         "offsetgroup": "",
         "orientation": "v",
         "showlegend": false,
         "textposition": "auto",
         "texttemplate": "%{y:.2s}",
         "type": "bar",
         "x": [
          "Bachelor's degree",
          "High school graduate - diploma or GED",
          "Some college, but no degree",
          "Professional degree beyond a bachelor's degree",
          "Master's degree",
          "Associate degree",
          "Technical, trade, or vocational school",
          "Less than high school graduate",
          "Doctorate degree"
         ],
         "xaxis": "x",
         "y": [
          175196,
          82508,
          79898,
          66664,
          54749,
          26449,
          20250,
          16563,
          12653
         ],
         "yaxis": "y"
        }
       ],
       "layout": {
        "barmode": "relative",
        "legend": {
         "tracegroupgap": 0
        },
        "template": {
         "data": {
          "bar": [
           {
            "error_x": {
             "color": "#2a3f5f"
            },
            "error_y": {
             "color": "#2a3f5f"
            },
            "marker": {
             "line": {
              "color": "#E5ECF6",
              "width": 0.5
             },
             "pattern": {
              "fillmode": "overlay",
              "size": 10,
              "solidity": 0.2
             }
            },
            "type": "bar"
           }
          ],
          "barpolar": [
           {
            "marker": {
             "line": {
              "color": "#E5ECF6",
              "width": 0.5
             },
             "pattern": {
              "fillmode": "overlay",
              "size": 10,
              "solidity": 0.2
             }
            },
            "type": "barpolar"
           }
          ],
          "carpet": [
           {
            "aaxis": {
             "endlinecolor": "#2a3f5f",
             "gridcolor": "white",
             "linecolor": "white",
             "minorgridcolor": "white",
             "startlinecolor": "#2a3f5f"
            },
            "baxis": {
             "endlinecolor": "#2a3f5f",
             "gridcolor": "white",
             "linecolor": "white",
             "minorgridcolor": "white",
             "startlinecolor": "#2a3f5f"
            },
            "type": "carpet"
           }
          ],
          "choropleth": [
           {
            "colorbar": {
             "outlinewidth": 0,
             "ticks": ""
            },
            "type": "choropleth"
           }
          ],
          "contour": [
           {
            "colorbar": {
             "outlinewidth": 0,
             "ticks": ""
            },
            "colorscale": [
             [
              0,
              "#0d0887"
             ],
             [
              0.1111111111111111,
              "#46039f"
             ],
             [
              0.2222222222222222,
              "#7201a8"
             ],
             [
              0.3333333333333333,
              "#9c179e"
             ],
             [
              0.4444444444444444,
              "#bd3786"
             ],
             [
              0.5555555555555556,
              "#d8576b"
             ],
             [
              0.6666666666666666,
              "#ed7953"
             ],
             [
              0.7777777777777778,
              "#fb9f3a"
             ],
             [
              0.8888888888888888,
              "#fdca26"
             ],
             [
              1,
              "#f0f921"
             ]
            ],
            "type": "contour"
           }
          ],
          "contourcarpet": [
           {
            "colorbar": {
             "outlinewidth": 0,
             "ticks": ""
            },
            "type": "contourcarpet"
           }
          ],
          "heatmap": [
           {
            "colorbar": {
             "outlinewidth": 0,
             "ticks": ""
            },
            "colorscale": [
             [
              0,
              "#0d0887"
             ],
             [
              0.1111111111111111,
              "#46039f"
             ],
             [
              0.2222222222222222,
              "#7201a8"
             ],
             [
              0.3333333333333333,
              "#9c179e"
             ],
             [
              0.4444444444444444,
              "#bd3786"
             ],
             [
              0.5555555555555556,
              "#d8576b"
             ],
             [
              0.6666666666666666,
              "#ed7953"
             ],
             [
              0.7777777777777778,
              "#fb9f3a"
             ],
             [
              0.8888888888888888,
              "#fdca26"
             ],
             [
              1,
              "#f0f921"
             ]
            ],
            "type": "heatmap"
           }
          ],
          "heatmapgl": [
           {
            "colorbar": {
             "outlinewidth": 0,
             "ticks": ""
            },
            "colorscale": [
             [
              0,
              "#0d0887"
             ],
             [
              0.1111111111111111,
              "#46039f"
             ],
             [
              0.2222222222222222,
              "#7201a8"
             ],
             [
              0.3333333333333333,
              "#9c179e"
             ],
             [
              0.4444444444444444,
              "#bd3786"
             ],
             [
              0.5555555555555556,
              "#d8576b"
             ],
             [
              0.6666666666666666,
              "#ed7953"
             ],
             [
              0.7777777777777778,
              "#fb9f3a"
             ],
             [
              0.8888888888888888,
              "#fdca26"
             ],
             [
              1,
              "#f0f921"
             ]
            ],
            "type": "heatmapgl"
           }
          ],
          "histogram": [
           {
            "marker": {
             "pattern": {
              "fillmode": "overlay",
              "size": 10,
              "solidity": 0.2
             }
            },
            "type": "histogram"
           }
          ],
          "histogram2d": [
           {
            "colorbar": {
             "outlinewidth": 0,
             "ticks": ""
            },
            "colorscale": [
             [
              0,
              "#0d0887"
             ],
             [
              0.1111111111111111,
              "#46039f"
             ],
             [
              0.2222222222222222,
              "#7201a8"
             ],
             [
              0.3333333333333333,
              "#9c179e"
             ],
             [
              0.4444444444444444,
              "#bd3786"
             ],
             [
              0.5555555555555556,
              "#d8576b"
             ],
             [
              0.6666666666666666,
              "#ed7953"
             ],
             [
              0.7777777777777778,
              "#fb9f3a"
             ],
             [
              0.8888888888888888,
              "#fdca26"
             ],
             [
              1,
              "#f0f921"
             ]
            ],
            "type": "histogram2d"
           }
          ],
          "histogram2dcontour": [
           {
            "colorbar": {
             "outlinewidth": 0,
             "ticks": ""
            },
            "colorscale": [
             [
              0,
              "#0d0887"
             ],
             [
              0.1111111111111111,
              "#46039f"
             ],
             [
              0.2222222222222222,
              "#7201a8"
             ],
             [
              0.3333333333333333,
              "#9c179e"
             ],
             [
              0.4444444444444444,
              "#bd3786"
             ],
             [
              0.5555555555555556,
              "#d8576b"
             ],
             [
              0.6666666666666666,
              "#ed7953"
             ],
             [
              0.7777777777777778,
              "#fb9f3a"
             ],
             [
              0.8888888888888888,
              "#fdca26"
             ],
             [
              1,
              "#f0f921"
             ]
            ],
            "type": "histogram2dcontour"
           }
          ],
          "mesh3d": [
           {
            "colorbar": {
             "outlinewidth": 0,
             "ticks": ""
            },
            "type": "mesh3d"
           }
          ],
          "parcoords": [
           {
            "line": {
             "colorbar": {
              "outlinewidth": 0,
              "ticks": ""
             }
            },
            "type": "parcoords"
           }
          ],
          "pie": [
           {
            "automargin": true,
            "type": "pie"
           }
          ],
          "scatter": [
           {
            "fillpattern": {
             "fillmode": "overlay",
             "size": 10,
             "solidity": 0.2
            },
            "type": "scatter"
           }
          ],
          "scatter3d": [
           {
            "line": {
             "colorbar": {
              "outlinewidth": 0,
              "ticks": ""
             }
            },
            "marker": {
             "colorbar": {
              "outlinewidth": 0,
              "ticks": ""
             }
            },
            "type": "scatter3d"
           }
          ],
          "scattercarpet": [
           {
            "marker": {
             "colorbar": {
              "outlinewidth": 0,
              "ticks": ""
             }
            },
            "type": "scattercarpet"
           }
          ],
          "scattergeo": [
           {
            "marker": {
             "colorbar": {
              "outlinewidth": 0,
              "ticks": ""
             }
            },
            "type": "scattergeo"
           }
          ],
          "scattergl": [
           {
            "marker": {
             "colorbar": {
              "outlinewidth": 0,
              "ticks": ""
             }
            },
            "type": "scattergl"
           }
          ],
          "scattermapbox": [
           {
            "marker": {
             "colorbar": {
              "outlinewidth": 0,
              "ticks": ""
             }
            },
            "type": "scattermapbox"
           }
          ],
          "scatterpolar": [
           {
            "marker": {
             "colorbar": {
              "outlinewidth": 0,
              "ticks": ""
             }
            },
            "type": "scatterpolar"
           }
          ],
          "scatterpolargl": [
           {
            "marker": {
             "colorbar": {
              "outlinewidth": 0,
              "ticks": ""
             }
            },
            "type": "scatterpolargl"
           }
          ],
          "scatterternary": [
           {
            "marker": {
             "colorbar": {
              "outlinewidth": 0,
              "ticks": ""
             }
            },
            "type": "scatterternary"
           }
          ],
          "surface": [
           {
            "colorbar": {
             "outlinewidth": 0,
             "ticks": ""
            },
            "colorscale": [
             [
              0,
              "#0d0887"
             ],
             [
              0.1111111111111111,
              "#46039f"
             ],
             [
              0.2222222222222222,
              "#7201a8"
             ],
             [
              0.3333333333333333,
              "#9c179e"
             ],
             [
              0.4444444444444444,
              "#bd3786"
             ],
             [
              0.5555555555555556,
              "#d8576b"
             ],
             [
              0.6666666666666666,
              "#ed7953"
             ],
             [
              0.7777777777777778,
              "#fb9f3a"
             ],
             [
              0.8888888888888888,
              "#fdca26"
             ],
             [
              1,
              "#f0f921"
             ]
            ],
            "type": "surface"
           }
          ],
          "table": [
           {
            "cells": {
             "fill": {
              "color": "#EBF0F8"
             },
             "line": {
              "color": "white"
             }
            },
            "header": {
             "fill": {
              "color": "#C8D4E3"
             },
             "line": {
              "color": "white"
             }
            },
            "type": "table"
           }
          ]
         },
         "layout": {
          "annotationdefaults": {
           "arrowcolor": "#2a3f5f",
           "arrowhead": 0,
           "arrowwidth": 1
          },
          "autotypenumbers": "strict",
          "coloraxis": {
           "colorbar": {
            "outlinewidth": 0,
            "ticks": ""
           }
          },
          "colorscale": {
           "diverging": [
            [
             0,
             "#8e0152"
            ],
            [
             0.1,
             "#c51b7d"
            ],
            [
             0.2,
             "#de77ae"
            ],
            [
             0.3,
             "#f1b6da"
            ],
            [
             0.4,
             "#fde0ef"
            ],
            [
             0.5,
             "#f7f7f7"
            ],
            [
             0.6,
             "#e6f5d0"
            ],
            [
             0.7,
             "#b8e186"
            ],
            [
             0.8,
             "#7fbc41"
            ],
            [
             0.9,
             "#4d9221"
            ],
            [
             1,
             "#276419"
            ]
           ],
           "sequential": [
            [
             0,
             "#0d0887"
            ],
            [
             0.1111111111111111,
             "#46039f"
            ],
            [
             0.2222222222222222,
             "#7201a8"
            ],
            [
             0.3333333333333333,
             "#9c179e"
            ],
            [
             0.4444444444444444,
             "#bd3786"
            ],
            [
             0.5555555555555556,
             "#d8576b"
            ],
            [
             0.6666666666666666,
             "#ed7953"
            ],
            [
             0.7777777777777778,
             "#fb9f3a"
            ],
            [
             0.8888888888888888,
             "#fdca26"
            ],
            [
             1,
             "#f0f921"
            ]
           ],
           "sequentialminus": [
            [
             0,
             "#0d0887"
            ],
            [
             0.1111111111111111,
             "#46039f"
            ],
            [
             0.2222222222222222,
             "#7201a8"
            ],
            [
             0.3333333333333333,
             "#9c179e"
            ],
            [
             0.4444444444444444,
             "#bd3786"
            ],
            [
             0.5555555555555556,
             "#d8576b"
            ],
            [
             0.6666666666666666,
             "#ed7953"
            ],
            [
             0.7777777777777778,
             "#fb9f3a"
            ],
            [
             0.8888888888888888,
             "#fdca26"
            ],
            [
             1,
             "#f0f921"
            ]
           ]
          },
          "colorway": [
           "#636efa",
           "#EF553B",
           "#00cc96",
           "#ab63fa",
           "#FFA15A",
           "#19d3f3",
           "#FF6692",
           "#B6E880",
           "#FF97FF",
           "#FECB52"
          ],
          "font": {
           "color": "#2a3f5f"
          },
          "geo": {
           "bgcolor": "white",
           "lakecolor": "white",
           "landcolor": "#E5ECF6",
           "showlakes": true,
           "showland": true,
           "subunitcolor": "white"
          },
          "hoverlabel": {
           "align": "left"
          },
          "hovermode": "closest",
          "mapbox": {
           "style": "light"
          },
          "paper_bgcolor": "white",
          "plot_bgcolor": "#E5ECF6",
          "polar": {
           "angularaxis": {
            "gridcolor": "white",
            "linecolor": "white",
            "ticks": ""
           },
           "bgcolor": "#E5ECF6",
           "radialaxis": {
            "gridcolor": "white",
            "linecolor": "white",
            "ticks": ""
           }
          },
          "scene": {
           "xaxis": {
            "backgroundcolor": "#E5ECF6",
            "gridcolor": "white",
            "gridwidth": 2,
            "linecolor": "white",
            "showbackground": true,
            "ticks": "",
            "zerolinecolor": "white"
           },
           "yaxis": {
            "backgroundcolor": "#E5ECF6",
            "gridcolor": "white",
            "gridwidth": 2,
            "linecolor": "white",
            "showbackground": true,
            "ticks": "",
            "zerolinecolor": "white"
           },
           "zaxis": {
            "backgroundcolor": "#E5ECF6",
            "gridcolor": "white",
            "gridwidth": 2,
            "linecolor": "white",
            "showbackground": true,
            "ticks": "",
            "zerolinecolor": "white"
           }
          },
          "shapedefaults": {
           "line": {
            "color": "#2a3f5f"
           }
          },
          "ternary": {
           "aaxis": {
            "gridcolor": "white",
            "linecolor": "white",
            "ticks": ""
           },
           "baxis": {
            "gridcolor": "white",
            "linecolor": "white",
            "ticks": ""
           },
           "bgcolor": "#E5ECF6",
           "caxis": {
            "gridcolor": "white",
            "linecolor": "white",
            "ticks": ""
           }
          },
          "title": {
           "x": 0.05
          },
          "xaxis": {
           "automargin": true,
           "gridcolor": "white",
           "linecolor": "white",
           "ticks": "",
           "title": {
            "standoff": 15
           },
           "zerolinecolor": "white",
           "zerolinewidth": 2
          },
          "yaxis": {
           "automargin": true,
           "gridcolor": "white",
           "linecolor": "white",
           "ticks": "",
           "title": {
            "standoff": 15
           },
           "zerolinecolor": "white",
           "zerolinewidth": 2
          }
         }
        },
        "title": {
         "text": "Education Levels of Business Owners in California"
        },
        "xaxis": {
         "anchor": "y",
         "domain": [
          0,
          1
         ],
         "title": {
          "text": "Education Level"
         }
        },
        "yaxis": {
         "anchor": "x",
         "domain": [
          0,
          1
         ],
         "title": {
          "text": "Number of Business Owners"
         }
        }
       }
      }
     },
     "metadata": {},
     "output_type": "display_data"
    }
   ],
   "source": [
    "for df in listofSliceOfDFs:\n",
    "    print(len(df))\n",
    "    if len(df) == 9:\n",
    "        name = df.NAME.values\n",
    "        name = name[0]\n",
    "      \n",
    "        fig = px.bar(df.sort_values(by='OWNPDEMP',ascending=False),x='OWNCHAR_LABEL',y='OWNPDEMP',text_auto = '.2s',title=f\"Education Levels of Business Owners in {name}\",\n",
    "             labels ={\"OWNCHAR_LABEL\":\"Education Level\",\n",
    "                    \"OWNPDEMP\":\"Number of Business Owners\"})\n",
    "    else:  \n",
    "        fig = px.bar(df, x=\"NAME\", y=\"OWNPDEMP\", color=\"OWNCHAR_LABEL\", text_auto='.2s',title=\"Education Levels of Business Owners across US States\",\n",
    "                    labels ={\"NAME\":\"STATES\",\n",
    "                            \"OWNPDEMP\":\"Number of Business Owners\",\n",
    "                            \"OWNCHAR_LABEL\":\"Education Level\"})\n",
    "    fig.show()\n",
    "\n",
    "\n"
   ]
  },
  {
   "attachments": {},
   "cell_type": "markdown",
   "metadata": {},
   "source": [
    "-   Plotting a stacked bar chart that includes all states but this is just the same information as the above bar charts just visually less appealing."
   ]
  },
  {
   "cell_type": "code",
   "execution_count": 179,
   "metadata": {},
   "outputs": [
    {
     "data": {
      "application/vnd.plotly.v1+json": {
       "config": {
        "plotlyServerURL": "https://plot.ly"
       },
       "data": [
        {
         "alignmentgroup": "True",
         "hovertemplate": "Education Level=Less than high school graduate<br>STATES=%{x}<br>Number of Business Owners=%{y}<extra></extra>",
         "legendgroup": "Less than high school graduate",
         "marker": {
          "color": "#636efa",
          "pattern": {
           "shape": ""
          }
         },
         "name": "Less than high school graduate",
         "offsetgroup": "Less than high school graduate",
         "orientation": "v",
         "showlegend": true,
         "textposition": "auto",
         "type": "bar",
         "x": [
          "Mississippi",
          "Missouri",
          "Montana",
          "Nebraska",
          "Nevada",
          "New Hampshire",
          "New York",
          "New Jersey",
          "New Mexico",
          "North Carolina",
          "North Dakota",
          "Ohio",
          "Oklahoma",
          "Oregon",
          "Texas",
          "Pennsylvania",
          "Rhode Island",
          "South Carolina",
          "South Dakota",
          "Tennessee",
          "Vermont",
          "Utah",
          "Alabama",
          "Virginia",
          "Washington",
          "West Virginia",
          "Wisconsin",
          "Wyoming",
          "Alaska",
          "Arizona",
          "Arkansas",
          "Connecticut",
          "California",
          "Colorado",
          "Delaware",
          "District of Columbia",
          "Kansas",
          "Florida",
          "Georgia",
          "Hawaii",
          "Idaho",
          "Illinois",
          "Indiana",
          "Iowa",
          "Kentucky",
          "Louisiana",
          "Maine",
          "Michigan",
          "Minnesota",
          "Maryland",
          "Massachusetts"
         ],
         "xaxis": "x",
         "y": [
          877,
          2278,
          525,
          342,
          674,
          596,
          8559,
          3276,
          659,
          2607,
          132,
          2683,
          1181,
          2210,
          9063,
          5446,
          279,
          1794,
          382,
          1837,
          257,
          1483,
          1403,
          3144,
          2791,
          328,
          1473,
          133,
          319,
          1724,
          870,
          1025,
          16563,
          2070,
          227,
          0,
          1167,
          7288,
          2065,
          406,
          1366,
          4398,
          1729,
          1116,
          955,
          1408,
          581,
          3424,
          1855,
          2442,
          1932
         ],
         "yaxis": "y"
        },
        {
         "alignmentgroup": "True",
         "hovertemplate": "Education Level=High school graduate - diploma or GED<br>STATES=%{x}<br>Number of Business Owners=%{y}<extra></extra>",
         "legendgroup": "High school graduate - diploma or GED",
         "marker": {
          "color": "#EF553B",
          "pattern": {
           "shape": ""
          }
         },
         "name": "High school graduate - diploma or GED",
         "offsetgroup": "High school graduate - diploma or GED",
         "orientation": "v",
         "showlegend": true,
         "textposition": "auto",
         "type": "bar",
         "x": [
          "Mississippi",
          "Missouri",
          "Montana",
          "Nebraska",
          "Nevada",
          "New Hampshire",
          "New York",
          "New Jersey",
          "New Mexico",
          "North Carolina",
          "North Dakota",
          "Ohio",
          "Oklahoma",
          "Oregon",
          "Texas",
          "Pennsylvania",
          "Rhode Island",
          "South Carolina",
          "South Dakota",
          "Tennessee",
          "Vermont",
          "Utah",
          "Alabama",
          "Virginia",
          "Washington",
          "West Virginia",
          "Wisconsin",
          "Wyoming",
          "Alaska",
          "Arizona",
          "Arkansas",
          "Connecticut",
          "California",
          "Colorado",
          "Delaware",
          "District of Columbia",
          "Kansas",
          "Florida",
          "Georgia",
          "Hawaii",
          "Idaho",
          "Illinois",
          "Indiana",
          "Iowa",
          "Kentucky",
          "Louisiana",
          "Maine",
          "Michigan",
          "Minnesota",
          "Maryland",
          "Massachusetts"
         ],
         "xaxis": "x",
         "y": [
          5443,
          17210,
          6084,
          7273,
          5782,
          3955,
          51898,
          23207,
          4028,
          25037,
          2382,
          30892,
          9457,
          15467,
          44743,
          37255,
          2226,
          9574,
          3745,
          13231,
          2622,
          8727,
          8836,
          19013,
          21709,
          4639,
          21631,
          3264,
          1744,
          12096,
          8119,
          7421,
          82508,
          16159,
          1904,
          665,
          8022,
          55410,
          19489,
          2679,
          6232,
          32725,
          21126,
          12038,
          10715,
          10446,
          5178,
          28364,
          16992,
          12762,
          16774
         ],
         "yaxis": "y"
        },
        {
         "alignmentgroup": "True",
         "hovertemplate": "Education Level=Technical, trade, or vocational school<br>STATES=%{x}<br>Number of Business Owners=%{y}<extra></extra>",
         "legendgroup": "Technical, trade, or vocational school",
         "marker": {
          "color": "#00cc96",
          "pattern": {
           "shape": ""
          }
         },
         "name": "Technical, trade, or vocational school",
         "offsetgroup": "Technical, trade, or vocational school",
         "orientation": "v",
         "showlegend": true,
         "textposition": "auto",
         "type": "bar",
         "x": [
          "Mississippi",
          "Missouri",
          "Montana",
          "Nebraska",
          "Nevada",
          "New Hampshire",
          "New York",
          "New Jersey",
          "New Mexico",
          "North Carolina",
          "North Dakota",
          "Ohio",
          "Oklahoma",
          "Oregon",
          "Texas",
          "Pennsylvania",
          "Rhode Island",
          "South Carolina",
          "South Dakota",
          "Tennessee",
          "Vermont",
          "Utah",
          "Alabama",
          "Virginia",
          "Washington",
          "West Virginia",
          "Wisconsin",
          "Wyoming",
          "Alaska",
          "Arizona",
          "Arkansas",
          "Connecticut",
          "California",
          "Colorado",
          "Delaware",
          "District of Columbia",
          "Kansas",
          "Florida",
          "Georgia",
          "Hawaii",
          "Idaho",
          "Illinois",
          "Indiana",
          "Iowa",
          "Kentucky",
          "Louisiana",
          "Maine",
          "Michigan",
          "Minnesota",
          "Maryland",
          "Massachusetts"
         ],
         "xaxis": "x",
         "y": [
          1194,
          4818,
          1460,
          3235,
          1053,
          720,
          9819,
          5994,
          996,
          6750,
          1246,
          7837,
          1722,
          4750,
          11805,
          12270,
          580,
          2624,
          2186,
          3162,
          627,
          2725,
          2399,
          4451,
          7512,
          601,
          12648,
          493,
          561,
          4299,
          1700,
          2772,
          20250,
          4990,
          589,
          0,
          2542,
          17851,
          6272,
          814,
          1785,
          8598,
          5322,
          4505,
          2728,
          2193,
          1426,
          5953,
          12275,
          2971,
          4588
         ],
         "yaxis": "y"
        },
        {
         "alignmentgroup": "True",
         "hovertemplate": "Education Level=Some college, but no degree<br>STATES=%{x}<br>Number of Business Owners=%{y}<extra></extra>",
         "legendgroup": "Some college, but no degree",
         "marker": {
          "color": "#ab63fa",
          "pattern": {
           "shape": ""
          }
         },
         "name": "Some college, but no degree",
         "offsetgroup": "Some college, but no degree",
         "orientation": "v",
         "showlegend": true,
         "textposition": "auto",
         "type": "bar",
         "x": [
          "Mississippi",
          "Missouri",
          "Montana",
          "Nebraska",
          "Nevada",
          "New Hampshire",
          "New York",
          "New Jersey",
          "New Mexico",
          "North Carolina",
          "North Dakota",
          "Ohio",
          "Oklahoma",
          "Oregon",
          "Texas",
          "Pennsylvania",
          "Rhode Island",
          "South Carolina",
          "South Dakota",
          "Tennessee",
          "Vermont",
          "Utah",
          "Alabama",
          "Virginia",
          "Washington",
          "West Virginia",
          "Wisconsin",
          "Wyoming",
          "Alaska",
          "Arizona",
          "Arkansas",
          "Connecticut",
          "California",
          "Colorado",
          "Delaware",
          "District of Columbia",
          "Kansas",
          "Florida",
          "Georgia",
          "Hawaii",
          "Idaho",
          "Illinois",
          "Indiana",
          "Iowa",
          "Kentucky",
          "Louisiana",
          "Maine",
          "Michigan",
          "Minnesota",
          "Maryland",
          "Massachusetts"
         ],
         "xaxis": "x",
         "y": [
          3749,
          12185,
          4781,
          5670,
          5314,
          2116,
          30747,
          13325,
          4119,
          17022,
          2198,
          18229,
          8421,
          11944,
          47814,
          16730,
          1562,
          7008,
          2631,
          9533,
          1065,
          10664,
          6197,
          12608,
          18092,
          2002,
          10259,
          1771,
          2023,
          13667,
          5343,
          4558,
          79898,
          14584,
          1429,
          418,
          5888,
          44760,
          14980,
          1606,
          5111,
          22533,
          11808,
          6442,
          6947,
          7599,
          2877,
          19706,
          11828,
          10054,
          10143
         ],
         "yaxis": "y"
        },
        {
         "alignmentgroup": "True",
         "hovertemplate": "Education Level=Associate degree<br>STATES=%{x}<br>Number of Business Owners=%{y}<extra></extra>",
         "legendgroup": "Associate degree",
         "marker": {
          "color": "#FFA15A",
          "pattern": {
           "shape": ""
          }
         },
         "name": "Associate degree",
         "offsetgroup": "Associate degree",
         "orientation": "v",
         "showlegend": true,
         "textposition": "auto",
         "type": "bar",
         "x": [
          "Mississippi",
          "Missouri",
          "Montana",
          "Nebraska",
          "Nevada",
          "New Hampshire",
          "New York",
          "New Jersey",
          "New Mexico",
          "North Carolina",
          "North Dakota",
          "Ohio",
          "Oklahoma",
          "Oregon",
          "Texas",
          "Pennsylvania",
          "Rhode Island",
          "South Carolina",
          "South Dakota",
          "Tennessee",
          "Vermont",
          "Utah",
          "Alabama",
          "Virginia",
          "Washington",
          "West Virginia",
          "Wisconsin",
          "Wyoming",
          "Alaska",
          "Arizona",
          "Arkansas",
          "Connecticut",
          "California",
          "Colorado",
          "Delaware",
          "District of Columbia",
          "Kansas",
          "Florida",
          "Georgia",
          "Hawaii",
          "Idaho",
          "Illinois",
          "Indiana",
          "Iowa",
          "Kentucky",
          "Louisiana",
          "Maine",
          "Michigan",
          "Minnesota",
          "Maryland",
          "Massachusetts"
         ],
         "xaxis": "x",
         "y": [
          1725,
          5019,
          1252,
          2352,
          1631,
          1428,
          16190,
          5468,
          1239,
          8602,
          1171,
          6787,
          1826,
          4323,
          12527,
          7896,
          791,
          3196,
          1254,
          2747,
          997,
          3070,
          2078,
          4940,
          7437,
          862,
          5689,
          792,
          422,
          3648,
          1689,
          2460,
          26449,
          4649,
          596,
          0,
          2369,
          21336,
          4594,
          896,
          1793,
          8695,
          5381,
          4074,
          2447,
          1690,
          1709,
          8232,
          5841,
          3307,
          4833
         ],
         "yaxis": "y"
        },
        {
         "alignmentgroup": "True",
         "hovertemplate": "Education Level=Bachelor's degree<br>STATES=%{x}<br>Number of Business Owners=%{y}<extra></extra>",
         "legendgroup": "Bachelor's degree",
         "marker": {
          "color": "#19d3f3",
          "pattern": {
           "shape": ""
          }
         },
         "name": "Bachelor's degree",
         "offsetgroup": "Bachelor's degree",
         "orientation": "v",
         "showlegend": true,
         "textposition": "auto",
         "type": "bar",
         "x": [
          "Mississippi",
          "Missouri",
          "Montana",
          "Nebraska",
          "Nevada",
          "New Hampshire",
          "New York",
          "New Jersey",
          "New Mexico",
          "North Carolina",
          "North Dakota",
          "Ohio",
          "Oklahoma",
          "Oregon",
          "Texas",
          "Pennsylvania",
          "Rhode Island",
          "South Carolina",
          "South Dakota",
          "Tennessee",
          "Vermont",
          "Utah",
          "Alabama",
          "Virginia",
          "Washington",
          "West Virginia",
          "Wisconsin",
          "Wyoming",
          "Alaska",
          "Arizona",
          "Arkansas",
          "Connecticut",
          "California",
          "Colorado",
          "Delaware",
          "District of Columbia",
          "Kansas",
          "Florida",
          "Georgia",
          "Hawaii",
          "Idaho",
          "Illinois",
          "Indiana",
          "Iowa",
          "Kentucky",
          "Louisiana",
          "Maine",
          "Michigan",
          "Minnesota",
          "Maryland",
          "Massachusetts"
         ],
         "xaxis": "x",
         "y": [
          6399,
          24499,
          6655,
          10336,
          8629,
          5704,
          79452,
          39004,
          5784,
          42339,
          5084,
          39956,
          14061,
          19297,
          95444,
          47485,
          3308,
          16998,
          3967,
          21553,
          3541,
          12422,
          15228,
          31983,
          31930,
          4827,
          24303,
          2850,
          2406,
          21784,
          9852,
          12656,
          175196,
          36300,
          3241,
          2497,
          13456,
          84370,
          37685,
          4004,
          8336,
          55075,
          22878,
          13265,
          14333,
          15090,
          5817,
          32899,
          27009,
          20937,
          26116
         ],
         "yaxis": "y"
        },
        {
         "alignmentgroup": "True",
         "hovertemplate": "Education Level=Master's degree<br>STATES=%{x}<br>Number of Business Owners=%{y}<extra></extra>",
         "legendgroup": "Master's degree",
         "marker": {
          "color": "#FF6692",
          "pattern": {
           "shape": ""
          }
         },
         "name": "Master's degree",
         "offsetgroup": "Master's degree",
         "orientation": "v",
         "showlegend": true,
         "textposition": "auto",
         "type": "bar",
         "x": [
          "Mississippi",
          "Missouri",
          "Montana",
          "Nebraska",
          "Nevada",
          "New Hampshire",
          "New York",
          "New Jersey",
          "New Mexico",
          "North Carolina",
          "North Dakota",
          "Ohio",
          "Oklahoma",
          "Oregon",
          "Texas",
          "Pennsylvania",
          "Rhode Island",
          "South Carolina",
          "South Dakota",
          "Tennessee",
          "Vermont",
          "Utah",
          "Alabama",
          "Virginia",
          "Washington",
          "West Virginia",
          "Wisconsin",
          "Wyoming",
          "Alaska",
          "Arizona",
          "Arkansas",
          "Connecticut",
          "California",
          "Colorado",
          "Delaware",
          "District of Columbia",
          "Kansas",
          "Florida",
          "Georgia",
          "Hawaii",
          "Idaho",
          "Illinois",
          "Indiana",
          "Iowa",
          "Kentucky",
          "Louisiana",
          "Maine",
          "Michigan",
          "Minnesota",
          "Maryland",
          "Massachusetts"
         ],
         "xaxis": "x",
         "y": [
          1695,
          6630,
          1884,
          2085,
          2089,
          1929,
          27805,
          12922,
          2281,
          11153,
          544,
          9614,
          3888,
          5038,
          29530,
          13795,
          994,
          3853,
          676,
          6287,
          738,
          3544,
          3258,
          13399,
          10052,
          1091,
          6205,
          1088,
          510,
          6630,
          2288,
          4858,
          54749,
          13133,
          1140,
          1046,
          3197,
          29566,
          12485,
          1315,
          2487,
          17262,
          6332,
          2385,
          4003,
          3632,
          1844,
          8285,
          6991,
          8634,
          10344
         ],
         "yaxis": "y"
        },
        {
         "alignmentgroup": "True",
         "hovertemplate": "Education Level=Doctorate degree<br>STATES=%{x}<br>Number of Business Owners=%{y}<extra></extra>",
         "legendgroup": "Doctorate degree",
         "marker": {
          "color": "#B6E880",
          "pattern": {
           "shape": ""
          }
         },
         "name": "Doctorate degree",
         "offsetgroup": "Doctorate degree",
         "orientation": "v",
         "showlegend": true,
         "textposition": "auto",
         "type": "bar",
         "x": [
          "Mississippi",
          "Missouri",
          "Montana",
          "Nebraska",
          "Nevada",
          "New Hampshire",
          "New York",
          "New Jersey",
          "New Mexico",
          "North Carolina",
          "North Dakota",
          "Ohio",
          "Oklahoma",
          "Oregon",
          "Texas",
          "Pennsylvania",
          "Rhode Island",
          "South Carolina",
          "South Dakota",
          "Tennessee",
          "Vermont",
          "Utah",
          "Alabama",
          "Virginia",
          "Washington",
          "West Virginia",
          "Wisconsin",
          "Wyoming",
          "Alaska",
          "Arizona",
          "Arkansas",
          "Connecticut",
          "California",
          "Colorado",
          "Delaware",
          "District of Columbia",
          "Kansas",
          "Florida",
          "Georgia",
          "Hawaii",
          "Idaho",
          "Illinois",
          "Indiana",
          "Iowa",
          "Kentucky",
          "Louisiana",
          "Maine",
          "Michigan",
          "Minnesota",
          "Maryland",
          "Massachusetts"
         ],
         "xaxis": "x",
         "y": [
          438,
          1786,
          173,
          618,
          575,
          418,
          4354,
          2294,
          521,
          2461,
          186,
          1905,
          993,
          1749,
          5529,
          2283,
          178,
          1133,
          470,
          710,
          193,
          1165,
          1341,
          2142,
          2094,
          170,
          1057,
          168,
          220,
          1363,
          665,
          719,
          12653,
          1825,
          123,
          125,
          551,
          5854,
          2074,
          221,
          289,
          2971,
          1370,
          784,
          924,
          543,
          231,
          2656,
          1240,
          1786,
          2121
         ],
         "yaxis": "y"
        },
        {
         "alignmentgroup": "True",
         "hovertemplate": "Education Level=Professional degree beyond a bachelor's degree<br>STATES=%{x}<br>Number of Business Owners=%{y}<extra></extra>",
         "legendgroup": "Professional degree beyond a bachelor's degree",
         "marker": {
          "color": "#FF97FF",
          "pattern": {
           "shape": ""
          }
         },
         "name": "Professional degree beyond a bachelor's degree",
         "offsetgroup": "Professional degree beyond a bachelor's degree",
         "orientation": "v",
         "showlegend": true,
         "textposition": "auto",
         "type": "bar",
         "x": [
          "Mississippi",
          "Missouri",
          "Montana",
          "Nebraska",
          "Nevada",
          "New Hampshire",
          "New York",
          "New Jersey",
          "New Mexico",
          "North Carolina",
          "North Dakota",
          "Ohio",
          "Oklahoma",
          "Oregon",
          "Texas",
          "Pennsylvania",
          "Rhode Island",
          "South Carolina",
          "South Dakota",
          "Tennessee",
          "Vermont",
          "Utah",
          "Alabama",
          "Virginia",
          "Washington",
          "West Virginia",
          "Wisconsin",
          "Wyoming",
          "Alaska",
          "Arizona",
          "Arkansas",
          "Connecticut",
          "California",
          "Colorado",
          "Delaware",
          "District of Columbia",
          "Kansas",
          "Florida",
          "Georgia",
          "Hawaii",
          "Idaho",
          "Illinois",
          "Indiana",
          "Iowa",
          "Kentucky",
          "Louisiana",
          "Maine",
          "Michigan",
          "Minnesota",
          "Maryland",
          "Massachusetts"
         ],
         "xaxis": "x",
         "y": [
          3513,
          7004,
          2076,
          3565,
          4240,
          1557,
          32667,
          15987,
          2545,
          13329,
          1427,
          15731,
          5732,
          6812,
          35296,
          17674,
          1281,
          5594,
          996,
          7002,
          918,
          4087,
          5959,
          11602,
          11049,
          1940,
          7152,
          1033,
          1056,
          8973,
          3769,
          6190,
          66664,
          10364,
          1489,
          1628,
          4768,
          34069,
          13795,
          2076,
          2742,
          20378,
          7811,
          3471,
          6879,
          7293,
          1850,
          11239,
          6514,
          8799,
          9611
         ],
         "yaxis": "y"
        }
       ],
       "layout": {
        "barmode": "relative",
        "legend": {
         "title": {
          "text": "Education Level"
         },
         "tracegroupgap": 0
        },
        "template": {
         "data": {
          "bar": [
           {
            "error_x": {
             "color": "#2a3f5f"
            },
            "error_y": {
             "color": "#2a3f5f"
            },
            "marker": {
             "line": {
              "color": "#E5ECF6",
              "width": 0.5
             },
             "pattern": {
              "fillmode": "overlay",
              "size": 10,
              "solidity": 0.2
             }
            },
            "type": "bar"
           }
          ],
          "barpolar": [
           {
            "marker": {
             "line": {
              "color": "#E5ECF6",
              "width": 0.5
             },
             "pattern": {
              "fillmode": "overlay",
              "size": 10,
              "solidity": 0.2
             }
            },
            "type": "barpolar"
           }
          ],
          "carpet": [
           {
            "aaxis": {
             "endlinecolor": "#2a3f5f",
             "gridcolor": "white",
             "linecolor": "white",
             "minorgridcolor": "white",
             "startlinecolor": "#2a3f5f"
            },
            "baxis": {
             "endlinecolor": "#2a3f5f",
             "gridcolor": "white",
             "linecolor": "white",
             "minorgridcolor": "white",
             "startlinecolor": "#2a3f5f"
            },
            "type": "carpet"
           }
          ],
          "choropleth": [
           {
            "colorbar": {
             "outlinewidth": 0,
             "ticks": ""
            },
            "type": "choropleth"
           }
          ],
          "contour": [
           {
            "colorbar": {
             "outlinewidth": 0,
             "ticks": ""
            },
            "colorscale": [
             [
              0,
              "#0d0887"
             ],
             [
              0.1111111111111111,
              "#46039f"
             ],
             [
              0.2222222222222222,
              "#7201a8"
             ],
             [
              0.3333333333333333,
              "#9c179e"
             ],
             [
              0.4444444444444444,
              "#bd3786"
             ],
             [
              0.5555555555555556,
              "#d8576b"
             ],
             [
              0.6666666666666666,
              "#ed7953"
             ],
             [
              0.7777777777777778,
              "#fb9f3a"
             ],
             [
              0.8888888888888888,
              "#fdca26"
             ],
             [
              1,
              "#f0f921"
             ]
            ],
            "type": "contour"
           }
          ],
          "contourcarpet": [
           {
            "colorbar": {
             "outlinewidth": 0,
             "ticks": ""
            },
            "type": "contourcarpet"
           }
          ],
          "heatmap": [
           {
            "colorbar": {
             "outlinewidth": 0,
             "ticks": ""
            },
            "colorscale": [
             [
              0,
              "#0d0887"
             ],
             [
              0.1111111111111111,
              "#46039f"
             ],
             [
              0.2222222222222222,
              "#7201a8"
             ],
             [
              0.3333333333333333,
              "#9c179e"
             ],
             [
              0.4444444444444444,
              "#bd3786"
             ],
             [
              0.5555555555555556,
              "#d8576b"
             ],
             [
              0.6666666666666666,
              "#ed7953"
             ],
             [
              0.7777777777777778,
              "#fb9f3a"
             ],
             [
              0.8888888888888888,
              "#fdca26"
             ],
             [
              1,
              "#f0f921"
             ]
            ],
            "type": "heatmap"
           }
          ],
          "heatmapgl": [
           {
            "colorbar": {
             "outlinewidth": 0,
             "ticks": ""
            },
            "colorscale": [
             [
              0,
              "#0d0887"
             ],
             [
              0.1111111111111111,
              "#46039f"
             ],
             [
              0.2222222222222222,
              "#7201a8"
             ],
             [
              0.3333333333333333,
              "#9c179e"
             ],
             [
              0.4444444444444444,
              "#bd3786"
             ],
             [
              0.5555555555555556,
              "#d8576b"
             ],
             [
              0.6666666666666666,
              "#ed7953"
             ],
             [
              0.7777777777777778,
              "#fb9f3a"
             ],
             [
              0.8888888888888888,
              "#fdca26"
             ],
             [
              1,
              "#f0f921"
             ]
            ],
            "type": "heatmapgl"
           }
          ],
          "histogram": [
           {
            "marker": {
             "pattern": {
              "fillmode": "overlay",
              "size": 10,
              "solidity": 0.2
             }
            },
            "type": "histogram"
           }
          ],
          "histogram2d": [
           {
            "colorbar": {
             "outlinewidth": 0,
             "ticks": ""
            },
            "colorscale": [
             [
              0,
              "#0d0887"
             ],
             [
              0.1111111111111111,
              "#46039f"
             ],
             [
              0.2222222222222222,
              "#7201a8"
             ],
             [
              0.3333333333333333,
              "#9c179e"
             ],
             [
              0.4444444444444444,
              "#bd3786"
             ],
             [
              0.5555555555555556,
              "#d8576b"
             ],
             [
              0.6666666666666666,
              "#ed7953"
             ],
             [
              0.7777777777777778,
              "#fb9f3a"
             ],
             [
              0.8888888888888888,
              "#fdca26"
             ],
             [
              1,
              "#f0f921"
             ]
            ],
            "type": "histogram2d"
           }
          ],
          "histogram2dcontour": [
           {
            "colorbar": {
             "outlinewidth": 0,
             "ticks": ""
            },
            "colorscale": [
             [
              0,
              "#0d0887"
             ],
             [
              0.1111111111111111,
              "#46039f"
             ],
             [
              0.2222222222222222,
              "#7201a8"
             ],
             [
              0.3333333333333333,
              "#9c179e"
             ],
             [
              0.4444444444444444,
              "#bd3786"
             ],
             [
              0.5555555555555556,
              "#d8576b"
             ],
             [
              0.6666666666666666,
              "#ed7953"
             ],
             [
              0.7777777777777778,
              "#fb9f3a"
             ],
             [
              0.8888888888888888,
              "#fdca26"
             ],
             [
              1,
              "#f0f921"
             ]
            ],
            "type": "histogram2dcontour"
           }
          ],
          "mesh3d": [
           {
            "colorbar": {
             "outlinewidth": 0,
             "ticks": ""
            },
            "type": "mesh3d"
           }
          ],
          "parcoords": [
           {
            "line": {
             "colorbar": {
              "outlinewidth": 0,
              "ticks": ""
             }
            },
            "type": "parcoords"
           }
          ],
          "pie": [
           {
            "automargin": true,
            "type": "pie"
           }
          ],
          "scatter": [
           {
            "fillpattern": {
             "fillmode": "overlay",
             "size": 10,
             "solidity": 0.2
            },
            "type": "scatter"
           }
          ],
          "scatter3d": [
           {
            "line": {
             "colorbar": {
              "outlinewidth": 0,
              "ticks": ""
             }
            },
            "marker": {
             "colorbar": {
              "outlinewidth": 0,
              "ticks": ""
             }
            },
            "type": "scatter3d"
           }
          ],
          "scattercarpet": [
           {
            "marker": {
             "colorbar": {
              "outlinewidth": 0,
              "ticks": ""
             }
            },
            "type": "scattercarpet"
           }
          ],
          "scattergeo": [
           {
            "marker": {
             "colorbar": {
              "outlinewidth": 0,
              "ticks": ""
             }
            },
            "type": "scattergeo"
           }
          ],
          "scattergl": [
           {
            "marker": {
             "colorbar": {
              "outlinewidth": 0,
              "ticks": ""
             }
            },
            "type": "scattergl"
           }
          ],
          "scattermapbox": [
           {
            "marker": {
             "colorbar": {
              "outlinewidth": 0,
              "ticks": ""
             }
            },
            "type": "scattermapbox"
           }
          ],
          "scatterpolar": [
           {
            "marker": {
             "colorbar": {
              "outlinewidth": 0,
              "ticks": ""
             }
            },
            "type": "scatterpolar"
           }
          ],
          "scatterpolargl": [
           {
            "marker": {
             "colorbar": {
              "outlinewidth": 0,
              "ticks": ""
             }
            },
            "type": "scatterpolargl"
           }
          ],
          "scatterternary": [
           {
            "marker": {
             "colorbar": {
              "outlinewidth": 0,
              "ticks": ""
             }
            },
            "type": "scatterternary"
           }
          ],
          "surface": [
           {
            "colorbar": {
             "outlinewidth": 0,
             "ticks": ""
            },
            "colorscale": [
             [
              0,
              "#0d0887"
             ],
             [
              0.1111111111111111,
              "#46039f"
             ],
             [
              0.2222222222222222,
              "#7201a8"
             ],
             [
              0.3333333333333333,
              "#9c179e"
             ],
             [
              0.4444444444444444,
              "#bd3786"
             ],
             [
              0.5555555555555556,
              "#d8576b"
             ],
             [
              0.6666666666666666,
              "#ed7953"
             ],
             [
              0.7777777777777778,
              "#fb9f3a"
             ],
             [
              0.8888888888888888,
              "#fdca26"
             ],
             [
              1,
              "#f0f921"
             ]
            ],
            "type": "surface"
           }
          ],
          "table": [
           {
            "cells": {
             "fill": {
              "color": "#EBF0F8"
             },
             "line": {
              "color": "white"
             }
            },
            "header": {
             "fill": {
              "color": "#C8D4E3"
             },
             "line": {
              "color": "white"
             }
            },
            "type": "table"
           }
          ]
         },
         "layout": {
          "annotationdefaults": {
           "arrowcolor": "#2a3f5f",
           "arrowhead": 0,
           "arrowwidth": 1
          },
          "autotypenumbers": "strict",
          "coloraxis": {
           "colorbar": {
            "outlinewidth": 0,
            "ticks": ""
           }
          },
          "colorscale": {
           "diverging": [
            [
             0,
             "#8e0152"
            ],
            [
             0.1,
             "#c51b7d"
            ],
            [
             0.2,
             "#de77ae"
            ],
            [
             0.3,
             "#f1b6da"
            ],
            [
             0.4,
             "#fde0ef"
            ],
            [
             0.5,
             "#f7f7f7"
            ],
            [
             0.6,
             "#e6f5d0"
            ],
            [
             0.7,
             "#b8e186"
            ],
            [
             0.8,
             "#7fbc41"
            ],
            [
             0.9,
             "#4d9221"
            ],
            [
             1,
             "#276419"
            ]
           ],
           "sequential": [
            [
             0,
             "#0d0887"
            ],
            [
             0.1111111111111111,
             "#46039f"
            ],
            [
             0.2222222222222222,
             "#7201a8"
            ],
            [
             0.3333333333333333,
             "#9c179e"
            ],
            [
             0.4444444444444444,
             "#bd3786"
            ],
            [
             0.5555555555555556,
             "#d8576b"
            ],
            [
             0.6666666666666666,
             "#ed7953"
            ],
            [
             0.7777777777777778,
             "#fb9f3a"
            ],
            [
             0.8888888888888888,
             "#fdca26"
            ],
            [
             1,
             "#f0f921"
            ]
           ],
           "sequentialminus": [
            [
             0,
             "#0d0887"
            ],
            [
             0.1111111111111111,
             "#46039f"
            ],
            [
             0.2222222222222222,
             "#7201a8"
            ],
            [
             0.3333333333333333,
             "#9c179e"
            ],
            [
             0.4444444444444444,
             "#bd3786"
            ],
            [
             0.5555555555555556,
             "#d8576b"
            ],
            [
             0.6666666666666666,
             "#ed7953"
            ],
            [
             0.7777777777777778,
             "#fb9f3a"
            ],
            [
             0.8888888888888888,
             "#fdca26"
            ],
            [
             1,
             "#f0f921"
            ]
           ]
          },
          "colorway": [
           "#636efa",
           "#EF553B",
           "#00cc96",
           "#ab63fa",
           "#FFA15A",
           "#19d3f3",
           "#FF6692",
           "#B6E880",
           "#FF97FF",
           "#FECB52"
          ],
          "font": {
           "color": "#2a3f5f"
          },
          "geo": {
           "bgcolor": "white",
           "lakecolor": "white",
           "landcolor": "#E5ECF6",
           "showlakes": true,
           "showland": true,
           "subunitcolor": "white"
          },
          "hoverlabel": {
           "align": "left"
          },
          "hovermode": "closest",
          "mapbox": {
           "style": "light"
          },
          "paper_bgcolor": "white",
          "plot_bgcolor": "#E5ECF6",
          "polar": {
           "angularaxis": {
            "gridcolor": "white",
            "linecolor": "white",
            "ticks": ""
           },
           "bgcolor": "#E5ECF6",
           "radialaxis": {
            "gridcolor": "white",
            "linecolor": "white",
            "ticks": ""
           }
          },
          "scene": {
           "xaxis": {
            "backgroundcolor": "#E5ECF6",
            "gridcolor": "white",
            "gridwidth": 2,
            "linecolor": "white",
            "showbackground": true,
            "ticks": "",
            "zerolinecolor": "white"
           },
           "yaxis": {
            "backgroundcolor": "#E5ECF6",
            "gridcolor": "white",
            "gridwidth": 2,
            "linecolor": "white",
            "showbackground": true,
            "ticks": "",
            "zerolinecolor": "white"
           },
           "zaxis": {
            "backgroundcolor": "#E5ECF6",
            "gridcolor": "white",
            "gridwidth": 2,
            "linecolor": "white",
            "showbackground": true,
            "ticks": "",
            "zerolinecolor": "white"
           }
          },
          "shapedefaults": {
           "line": {
            "color": "#2a3f5f"
           }
          },
          "ternary": {
           "aaxis": {
            "gridcolor": "white",
            "linecolor": "white",
            "ticks": ""
           },
           "baxis": {
            "gridcolor": "white",
            "linecolor": "white",
            "ticks": ""
           },
           "bgcolor": "#E5ECF6",
           "caxis": {
            "gridcolor": "white",
            "linecolor": "white",
            "ticks": ""
           }
          },
          "title": {
           "x": 0.05
          },
          "xaxis": {
           "automargin": true,
           "gridcolor": "white",
           "linecolor": "white",
           "ticks": "",
           "title": {
            "standoff": 15
           },
           "zerolinecolor": "white",
           "zerolinewidth": 2
          },
          "yaxis": {
           "automargin": true,
           "gridcolor": "white",
           "linecolor": "white",
           "ticks": "",
           "title": {
            "standoff": 15
           },
           "zerolinecolor": "white",
           "zerolinewidth": 2
          }
         }
        },
        "title": {
         "text": "Education Levels of Business Owners across US States"
        },
        "xaxis": {
         "anchor": "y",
         "domain": [
          0,
          1
         ],
         "title": {
          "text": "STATES"
         }
        },
        "yaxis": {
         "anchor": "x",
         "domain": [
          0,
          1
         ],
         "title": {
          "text": "Number of Business Owners"
         }
        }
       }
      }
     },
     "metadata": {},
     "output_type": "display_data"
    }
   ],
   "source": [
    "\n",
    "newdfStates\n",
    "fig = px.bar(newdfStates, x=\"NAME\", y=\"OWNPDEMP\", color=\"OWNCHAR_LABEL\", title=\"Education Levels of Business Owners across US States\",\n",
    "               labels ={\"NAME\":\"STATES\",\n",
    "                    \"OWNPDEMP\":\"Number of Business Owners\",\n",
    "                    \"OWNCHAR_LABEL\":\"Education Level\"})\n",
    "fig.show()\n",
    "# fig = px.bar(newdfStates.sort_values(by='OWNPDEMP',ascending=False), x=\"NAME\", y=\"OWNPDEMP\", color=\"OWNCHAR_LABEL\", title=\"Education Levels of Business Owners across US States\",\n",
    "#                labels ={\"NAME\":\"STATES\",\n",
    "#                     \"OWNPDEMP\":\"Number of Business Owners\",\n",
    "#                     \"OWNCHAR_LABEL\":\"Education Level\"})\n",
    "# fig.show()\n",
    "\n",
    "\n",
    "\n",
    "\n"
   ]
  },
  {
   "attachments": {},
   "cell_type": "markdown",
   "metadata": {},
   "source": [
    "-    Since Bachelor Degree seemed to be most prominant education level among business owners, we plotted number of business owners with bachelor degrees across all states"
   ]
  },
  {
   "cell_type": "code",
   "execution_count": null,
   "metadata": {},
   "outputs": [],
   "source": [
    "bachelorStatesFilter = newdfStates[\"OWNCHAR_LABEL\"] == \"Bachelor's degree\"\n",
    "bachelorStates = newdfStates[bachelorStatesFilter]\n",
    "bachelorStates\n",
    "\n",
    "#plot the total as bar\n",
    "fig = px.bar(bachelorStates.sort_values(by='OWNPDEMP',ascending=False), x=\"NAME\", y=\"OWNPDEMP\", color=\"OWNCHAR_LABEL\", title=\"Education Levels of Business Owners across US States\",\n",
    "               labels ={\"NAME\":\"STATES\",\n",
    "                    \"OWNPDEMP\":\"Number of Business Owners\",\n",
    "                    \"OWNCHAR_LABEL\":\"Education Level\"})\n",
    "\n",
    "\n",
    "#fig.write_image(r\"../images/education_bar_chart.png\",format='png',engine='kaleido')\n",
    "fig.show()"
   ]
  },
  {
   "attachments": {},
   "cell_type": "markdown",
   "metadata": {},
   "source": [
    "\n",
    "### Load: US VIZUALIZATIONS\n",
    "-   Loading the filtered out US dataframe into plotly graphics using bar chart and tree map to show the number of business owners that hold what degree/education level in the US"
   ]
  },
  {
   "cell_type": "code",
   "execution_count": 181,
   "metadata": {},
   "outputs": [
    {
     "data": {
      "application/vnd.plotly.v1+json": {
       "config": {
        "plotlyServerURL": "https://plot.ly"
       },
       "data": [
        {
         "alignmentgroup": "True",
         "hovertemplate": "Education Level=%{x}<br>Number of Business Owners=%{y}<extra></extra>",
         "legendgroup": "",
         "marker": {
          "color": "#636efa",
          "pattern": {
           "shape": ""
          }
         },
         "name": "",
         "offsetgroup": "",
         "orientation": "v",
         "showlegend": false,
         "textposition": "auto",
         "texttemplate": "%{y:.2s}",
         "type": "bar",
         "x": [
          "Bachelor's degree",
          "High school graduate - diploma or GED",
          "Some college, but no degree",
          "Professional degree beyond a bachelor's degree",
          "Master's degree",
          "Technical, trade, or vocational school",
          "Associate degree",
          "Less than high school graduate",
          "Doctorate degree"
         ],
         "xaxis": "x",
         "y": [
          1232195,
          791649,
          583812,
          463423,
          376334,
          229223,
          229161,
          110743,
          77752
         ],
         "yaxis": "y"
        }
       ],
       "layout": {
        "barmode": "relative",
        "legend": {
         "tracegroupgap": 0
        },
        "template": {
         "data": {
          "bar": [
           {
            "error_x": {
             "color": "#2a3f5f"
            },
            "error_y": {
             "color": "#2a3f5f"
            },
            "marker": {
             "line": {
              "color": "#E5ECF6",
              "width": 0.5
             },
             "pattern": {
              "fillmode": "overlay",
              "size": 10,
              "solidity": 0.2
             }
            },
            "type": "bar"
           }
          ],
          "barpolar": [
           {
            "marker": {
             "line": {
              "color": "#E5ECF6",
              "width": 0.5
             },
             "pattern": {
              "fillmode": "overlay",
              "size": 10,
              "solidity": 0.2
             }
            },
            "type": "barpolar"
           }
          ],
          "carpet": [
           {
            "aaxis": {
             "endlinecolor": "#2a3f5f",
             "gridcolor": "white",
             "linecolor": "white",
             "minorgridcolor": "white",
             "startlinecolor": "#2a3f5f"
            },
            "baxis": {
             "endlinecolor": "#2a3f5f",
             "gridcolor": "white",
             "linecolor": "white",
             "minorgridcolor": "white",
             "startlinecolor": "#2a3f5f"
            },
            "type": "carpet"
           }
          ],
          "choropleth": [
           {
            "colorbar": {
             "outlinewidth": 0,
             "ticks": ""
            },
            "type": "choropleth"
           }
          ],
          "contour": [
           {
            "colorbar": {
             "outlinewidth": 0,
             "ticks": ""
            },
            "colorscale": [
             [
              0,
              "#0d0887"
             ],
             [
              0.1111111111111111,
              "#46039f"
             ],
             [
              0.2222222222222222,
              "#7201a8"
             ],
             [
              0.3333333333333333,
              "#9c179e"
             ],
             [
              0.4444444444444444,
              "#bd3786"
             ],
             [
              0.5555555555555556,
              "#d8576b"
             ],
             [
              0.6666666666666666,
              "#ed7953"
             ],
             [
              0.7777777777777778,
              "#fb9f3a"
             ],
             [
              0.8888888888888888,
              "#fdca26"
             ],
             [
              1,
              "#f0f921"
             ]
            ],
            "type": "contour"
           }
          ],
          "contourcarpet": [
           {
            "colorbar": {
             "outlinewidth": 0,
             "ticks": ""
            },
            "type": "contourcarpet"
           }
          ],
          "heatmap": [
           {
            "colorbar": {
             "outlinewidth": 0,
             "ticks": ""
            },
            "colorscale": [
             [
              0,
              "#0d0887"
             ],
             [
              0.1111111111111111,
              "#46039f"
             ],
             [
              0.2222222222222222,
              "#7201a8"
             ],
             [
              0.3333333333333333,
              "#9c179e"
             ],
             [
              0.4444444444444444,
              "#bd3786"
             ],
             [
              0.5555555555555556,
              "#d8576b"
             ],
             [
              0.6666666666666666,
              "#ed7953"
             ],
             [
              0.7777777777777778,
              "#fb9f3a"
             ],
             [
              0.8888888888888888,
              "#fdca26"
             ],
             [
              1,
              "#f0f921"
             ]
            ],
            "type": "heatmap"
           }
          ],
          "heatmapgl": [
           {
            "colorbar": {
             "outlinewidth": 0,
             "ticks": ""
            },
            "colorscale": [
             [
              0,
              "#0d0887"
             ],
             [
              0.1111111111111111,
              "#46039f"
             ],
             [
              0.2222222222222222,
              "#7201a8"
             ],
             [
              0.3333333333333333,
              "#9c179e"
             ],
             [
              0.4444444444444444,
              "#bd3786"
             ],
             [
              0.5555555555555556,
              "#d8576b"
             ],
             [
              0.6666666666666666,
              "#ed7953"
             ],
             [
              0.7777777777777778,
              "#fb9f3a"
             ],
             [
              0.8888888888888888,
              "#fdca26"
             ],
             [
              1,
              "#f0f921"
             ]
            ],
            "type": "heatmapgl"
           }
          ],
          "histogram": [
           {
            "marker": {
             "pattern": {
              "fillmode": "overlay",
              "size": 10,
              "solidity": 0.2
             }
            },
            "type": "histogram"
           }
          ],
          "histogram2d": [
           {
            "colorbar": {
             "outlinewidth": 0,
             "ticks": ""
            },
            "colorscale": [
             [
              0,
              "#0d0887"
             ],
             [
              0.1111111111111111,
              "#46039f"
             ],
             [
              0.2222222222222222,
              "#7201a8"
             ],
             [
              0.3333333333333333,
              "#9c179e"
             ],
             [
              0.4444444444444444,
              "#bd3786"
             ],
             [
              0.5555555555555556,
              "#d8576b"
             ],
             [
              0.6666666666666666,
              "#ed7953"
             ],
             [
              0.7777777777777778,
              "#fb9f3a"
             ],
             [
              0.8888888888888888,
              "#fdca26"
             ],
             [
              1,
              "#f0f921"
             ]
            ],
            "type": "histogram2d"
           }
          ],
          "histogram2dcontour": [
           {
            "colorbar": {
             "outlinewidth": 0,
             "ticks": ""
            },
            "colorscale": [
             [
              0,
              "#0d0887"
             ],
             [
              0.1111111111111111,
              "#46039f"
             ],
             [
              0.2222222222222222,
              "#7201a8"
             ],
             [
              0.3333333333333333,
              "#9c179e"
             ],
             [
              0.4444444444444444,
              "#bd3786"
             ],
             [
              0.5555555555555556,
              "#d8576b"
             ],
             [
              0.6666666666666666,
              "#ed7953"
             ],
             [
              0.7777777777777778,
              "#fb9f3a"
             ],
             [
              0.8888888888888888,
              "#fdca26"
             ],
             [
              1,
              "#f0f921"
             ]
            ],
            "type": "histogram2dcontour"
           }
          ],
          "mesh3d": [
           {
            "colorbar": {
             "outlinewidth": 0,
             "ticks": ""
            },
            "type": "mesh3d"
           }
          ],
          "parcoords": [
           {
            "line": {
             "colorbar": {
              "outlinewidth": 0,
              "ticks": ""
             }
            },
            "type": "parcoords"
           }
          ],
          "pie": [
           {
            "automargin": true,
            "type": "pie"
           }
          ],
          "scatter": [
           {
            "fillpattern": {
             "fillmode": "overlay",
             "size": 10,
             "solidity": 0.2
            },
            "type": "scatter"
           }
          ],
          "scatter3d": [
           {
            "line": {
             "colorbar": {
              "outlinewidth": 0,
              "ticks": ""
             }
            },
            "marker": {
             "colorbar": {
              "outlinewidth": 0,
              "ticks": ""
             }
            },
            "type": "scatter3d"
           }
          ],
          "scattercarpet": [
           {
            "marker": {
             "colorbar": {
              "outlinewidth": 0,
              "ticks": ""
             }
            },
            "type": "scattercarpet"
           }
          ],
          "scattergeo": [
           {
            "marker": {
             "colorbar": {
              "outlinewidth": 0,
              "ticks": ""
             }
            },
            "type": "scattergeo"
           }
          ],
          "scattergl": [
           {
            "marker": {
             "colorbar": {
              "outlinewidth": 0,
              "ticks": ""
             }
            },
            "type": "scattergl"
           }
          ],
          "scattermapbox": [
           {
            "marker": {
             "colorbar": {
              "outlinewidth": 0,
              "ticks": ""
             }
            },
            "type": "scattermapbox"
           }
          ],
          "scatterpolar": [
           {
            "marker": {
             "colorbar": {
              "outlinewidth": 0,
              "ticks": ""
             }
            },
            "type": "scatterpolar"
           }
          ],
          "scatterpolargl": [
           {
            "marker": {
             "colorbar": {
              "outlinewidth": 0,
              "ticks": ""
             }
            },
            "type": "scatterpolargl"
           }
          ],
          "scatterternary": [
           {
            "marker": {
             "colorbar": {
              "outlinewidth": 0,
              "ticks": ""
             }
            },
            "type": "scatterternary"
           }
          ],
          "surface": [
           {
            "colorbar": {
             "outlinewidth": 0,
             "ticks": ""
            },
            "colorscale": [
             [
              0,
              "#0d0887"
             ],
             [
              0.1111111111111111,
              "#46039f"
             ],
             [
              0.2222222222222222,
              "#7201a8"
             ],
             [
              0.3333333333333333,
              "#9c179e"
             ],
             [
              0.4444444444444444,
              "#bd3786"
             ],
             [
              0.5555555555555556,
              "#d8576b"
             ],
             [
              0.6666666666666666,
              "#ed7953"
             ],
             [
              0.7777777777777778,
              "#fb9f3a"
             ],
             [
              0.8888888888888888,
              "#fdca26"
             ],
             [
              1,
              "#f0f921"
             ]
            ],
            "type": "surface"
           }
          ],
          "table": [
           {
            "cells": {
             "fill": {
              "color": "#EBF0F8"
             },
             "line": {
              "color": "white"
             }
            },
            "header": {
             "fill": {
              "color": "#C8D4E3"
             },
             "line": {
              "color": "white"
             }
            },
            "type": "table"
           }
          ]
         },
         "layout": {
          "annotationdefaults": {
           "arrowcolor": "#2a3f5f",
           "arrowhead": 0,
           "arrowwidth": 1
          },
          "autotypenumbers": "strict",
          "coloraxis": {
           "colorbar": {
            "outlinewidth": 0,
            "ticks": ""
           }
          },
          "colorscale": {
           "diverging": [
            [
             0,
             "#8e0152"
            ],
            [
             0.1,
             "#c51b7d"
            ],
            [
             0.2,
             "#de77ae"
            ],
            [
             0.3,
             "#f1b6da"
            ],
            [
             0.4,
             "#fde0ef"
            ],
            [
             0.5,
             "#f7f7f7"
            ],
            [
             0.6,
             "#e6f5d0"
            ],
            [
             0.7,
             "#b8e186"
            ],
            [
             0.8,
             "#7fbc41"
            ],
            [
             0.9,
             "#4d9221"
            ],
            [
             1,
             "#276419"
            ]
           ],
           "sequential": [
            [
             0,
             "#0d0887"
            ],
            [
             0.1111111111111111,
             "#46039f"
            ],
            [
             0.2222222222222222,
             "#7201a8"
            ],
            [
             0.3333333333333333,
             "#9c179e"
            ],
            [
             0.4444444444444444,
             "#bd3786"
            ],
            [
             0.5555555555555556,
             "#d8576b"
            ],
            [
             0.6666666666666666,
             "#ed7953"
            ],
            [
             0.7777777777777778,
             "#fb9f3a"
            ],
            [
             0.8888888888888888,
             "#fdca26"
            ],
            [
             1,
             "#f0f921"
            ]
           ],
           "sequentialminus": [
            [
             0,
             "#0d0887"
            ],
            [
             0.1111111111111111,
             "#46039f"
            ],
            [
             0.2222222222222222,
             "#7201a8"
            ],
            [
             0.3333333333333333,
             "#9c179e"
            ],
            [
             0.4444444444444444,
             "#bd3786"
            ],
            [
             0.5555555555555556,
             "#d8576b"
            ],
            [
             0.6666666666666666,
             "#ed7953"
            ],
            [
             0.7777777777777778,
             "#fb9f3a"
            ],
            [
             0.8888888888888888,
             "#fdca26"
            ],
            [
             1,
             "#f0f921"
            ]
           ]
          },
          "colorway": [
           "#636efa",
           "#EF553B",
           "#00cc96",
           "#ab63fa",
           "#FFA15A",
           "#19d3f3",
           "#FF6692",
           "#B6E880",
           "#FF97FF",
           "#FECB52"
          ],
          "font": {
           "color": "#2a3f5f"
          },
          "geo": {
           "bgcolor": "white",
           "lakecolor": "white",
           "landcolor": "#E5ECF6",
           "showlakes": true,
           "showland": true,
           "subunitcolor": "white"
          },
          "hoverlabel": {
           "align": "left"
          },
          "hovermode": "closest",
          "mapbox": {
           "style": "light"
          },
          "paper_bgcolor": "white",
          "plot_bgcolor": "#E5ECF6",
          "polar": {
           "angularaxis": {
            "gridcolor": "white",
            "linecolor": "white",
            "ticks": ""
           },
           "bgcolor": "#E5ECF6",
           "radialaxis": {
            "gridcolor": "white",
            "linecolor": "white",
            "ticks": ""
           }
          },
          "scene": {
           "xaxis": {
            "backgroundcolor": "#E5ECF6",
            "gridcolor": "white",
            "gridwidth": 2,
            "linecolor": "white",
            "showbackground": true,
            "ticks": "",
            "zerolinecolor": "white"
           },
           "yaxis": {
            "backgroundcolor": "#E5ECF6",
            "gridcolor": "white",
            "gridwidth": 2,
            "linecolor": "white",
            "showbackground": true,
            "ticks": "",
            "zerolinecolor": "white"
           },
           "zaxis": {
            "backgroundcolor": "#E5ECF6",
            "gridcolor": "white",
            "gridwidth": 2,
            "linecolor": "white",
            "showbackground": true,
            "ticks": "",
            "zerolinecolor": "white"
           }
          },
          "shapedefaults": {
           "line": {
            "color": "#2a3f5f"
           }
          },
          "ternary": {
           "aaxis": {
            "gridcolor": "white",
            "linecolor": "white",
            "ticks": ""
           },
           "baxis": {
            "gridcolor": "white",
            "linecolor": "white",
            "ticks": ""
           },
           "bgcolor": "#E5ECF6",
           "caxis": {
            "gridcolor": "white",
            "linecolor": "white",
            "ticks": ""
           }
          },
          "title": {
           "x": 0.05
          },
          "xaxis": {
           "automargin": true,
           "gridcolor": "white",
           "linecolor": "white",
           "ticks": "",
           "title": {
            "standoff": 15
           },
           "zerolinecolor": "white",
           "zerolinewidth": 2
          },
          "yaxis": {
           "automargin": true,
           "gridcolor": "white",
           "linecolor": "white",
           "ticks": "",
           "title": {
            "standoff": 15
           },
           "zerolinecolor": "white",
           "zerolinewidth": 2
          }
         }
        },
        "title": {
         "text": "Education Levels of Business Owners in the US"
        },
        "xaxis": {
         "anchor": "y",
         "domain": [
          0,
          1
         ],
         "title": {
          "text": "Education Level"
         }
        },
        "yaxis": {
         "anchor": "x",
         "domain": [
          0,
          1
         ],
         "title": {
          "text": "Number of Business Owners"
         }
        }
       }
      }
     },
     "metadata": {},
     "output_type": "display_data"
    }
   ],
   "source": [
    "#plot the total as bar\n",
    "fig = px.bar(newdf.sort_values(by='OWNPDEMP',ascending=False),x='OWNCHAR_LABEL',y='OWNPDEMP',text_auto = '.2s',title=\"Education Levels of Business Owners in the US\",\n",
    "             labels ={\"OWNCHAR_LABEL\":\"Education Level\",\n",
    "                    \"OWNPDEMP\":\"Number of Business Owners\"})\n",
    "\n",
    "#fig.write_image(r\"../images/education_bar_chart.png\",format='png',engine='kaleido')\n",
    "fig.show()\n",
    "\n"
   ]
  },
  {
   "cell_type": "code",
   "execution_count": 186,
   "metadata": {},
   "outputs": [
    {
     "data": {
      "application/vnd.plotly.v1+json": {
       "config": {
        "plotlyServerURL": "https://plot.ly"
       },
       "data": [
        {
         "branchvalues": "total",
         "customdata": [
          [
           229161
          ],
          [
           1232195
          ],
          [
           77752
          ],
          [
           791649
          ],
          [
           110743
          ],
          [
           376334
          ],
          [
           463423
          ],
          [
           583812
          ],
          [
           229223
          ]
         ],
         "domain": {
          "x": [
           0,
           1
          ],
          "y": [
           0,
           1
          ]
         },
         "hovertemplate": "labels=%{label}<br>OWNPDEMP_sum=%{value}<br>parent=%{parent}<br>id=%{id}<br>Number of Business Owners=%{color}<extra></extra>",
         "ids": [
          "Associate degree",
          "Bachelor's degree",
          "Doctorate degree",
          "High school graduate - diploma or GED",
          "Less than high school graduate",
          "Master's degree",
          "Professional degree beyond a bachelor's degree",
          "Some college, but no degree",
          "Technical, trade, or vocational school"
         ],
         "labels": [
          "Associate degree",
          "Bachelor's degree",
          "Doctorate degree",
          "High school graduate - diploma or GED",
          "Less than high school graduate",
          "Master's degree",
          "Professional degree beyond a bachelor's degree",
          "Some college, but no degree",
          "Technical, trade, or vocational school"
         ],
         "marker": {
          "coloraxis": "coloraxis",
          "colors": [
           229161,
           1232195,
           77752,
           791649,
           110743,
           376334,
           463423,
           583812,
           229223
          ]
         },
         "name": "",
         "parents": [
          "",
          "",
          "",
          "",
          "",
          "",
          "",
          "",
          ""
         ],
         "type": "treemap",
         "values": [
          229161,
          1232195,
          77752,
          791649,
          110743,
          376334,
          463423,
          583812,
          229223
         ]
        }
       ],
       "layout": {
        "coloraxis": {
         "colorbar": {
          "title": {
           "text": "Number of Business Owners"
          }
         },
         "colorscale": [
          [
           0,
           "#0d0887"
          ],
          [
           0.1111111111111111,
           "#46039f"
          ],
          [
           0.2222222222222222,
           "#7201a8"
          ],
          [
           0.3333333333333333,
           "#9c179e"
          ],
          [
           0.4444444444444444,
           "#bd3786"
          ],
          [
           0.5555555555555556,
           "#d8576b"
          ],
          [
           0.6666666666666666,
           "#ed7953"
          ],
          [
           0.7777777777777778,
           "#fb9f3a"
          ],
          [
           0.8888888888888888,
           "#fdca26"
          ],
          [
           1,
           "#f0f921"
          ]
         ]
        },
        "legend": {
         "tracegroupgap": 0
        },
        "template": {
         "data": {
          "bar": [
           {
            "error_x": {
             "color": "#2a3f5f"
            },
            "error_y": {
             "color": "#2a3f5f"
            },
            "marker": {
             "line": {
              "color": "#E5ECF6",
              "width": 0.5
             },
             "pattern": {
              "fillmode": "overlay",
              "size": 10,
              "solidity": 0.2
             }
            },
            "type": "bar"
           }
          ],
          "barpolar": [
           {
            "marker": {
             "line": {
              "color": "#E5ECF6",
              "width": 0.5
             },
             "pattern": {
              "fillmode": "overlay",
              "size": 10,
              "solidity": 0.2
             }
            },
            "type": "barpolar"
           }
          ],
          "carpet": [
           {
            "aaxis": {
             "endlinecolor": "#2a3f5f",
             "gridcolor": "white",
             "linecolor": "white",
             "minorgridcolor": "white",
             "startlinecolor": "#2a3f5f"
            },
            "baxis": {
             "endlinecolor": "#2a3f5f",
             "gridcolor": "white",
             "linecolor": "white",
             "minorgridcolor": "white",
             "startlinecolor": "#2a3f5f"
            },
            "type": "carpet"
           }
          ],
          "choropleth": [
           {
            "colorbar": {
             "outlinewidth": 0,
             "ticks": ""
            },
            "type": "choropleth"
           }
          ],
          "contour": [
           {
            "colorbar": {
             "outlinewidth": 0,
             "ticks": ""
            },
            "colorscale": [
             [
              0,
              "#0d0887"
             ],
             [
              0.1111111111111111,
              "#46039f"
             ],
             [
              0.2222222222222222,
              "#7201a8"
             ],
             [
              0.3333333333333333,
              "#9c179e"
             ],
             [
              0.4444444444444444,
              "#bd3786"
             ],
             [
              0.5555555555555556,
              "#d8576b"
             ],
             [
              0.6666666666666666,
              "#ed7953"
             ],
             [
              0.7777777777777778,
              "#fb9f3a"
             ],
             [
              0.8888888888888888,
              "#fdca26"
             ],
             [
              1,
              "#f0f921"
             ]
            ],
            "type": "contour"
           }
          ],
          "contourcarpet": [
           {
            "colorbar": {
             "outlinewidth": 0,
             "ticks": ""
            },
            "type": "contourcarpet"
           }
          ],
          "heatmap": [
           {
            "colorbar": {
             "outlinewidth": 0,
             "ticks": ""
            },
            "colorscale": [
             [
              0,
              "#0d0887"
             ],
             [
              0.1111111111111111,
              "#46039f"
             ],
             [
              0.2222222222222222,
              "#7201a8"
             ],
             [
              0.3333333333333333,
              "#9c179e"
             ],
             [
              0.4444444444444444,
              "#bd3786"
             ],
             [
              0.5555555555555556,
              "#d8576b"
             ],
             [
              0.6666666666666666,
              "#ed7953"
             ],
             [
              0.7777777777777778,
              "#fb9f3a"
             ],
             [
              0.8888888888888888,
              "#fdca26"
             ],
             [
              1,
              "#f0f921"
             ]
            ],
            "type": "heatmap"
           }
          ],
          "heatmapgl": [
           {
            "colorbar": {
             "outlinewidth": 0,
             "ticks": ""
            },
            "colorscale": [
             [
              0,
              "#0d0887"
             ],
             [
              0.1111111111111111,
              "#46039f"
             ],
             [
              0.2222222222222222,
              "#7201a8"
             ],
             [
              0.3333333333333333,
              "#9c179e"
             ],
             [
              0.4444444444444444,
              "#bd3786"
             ],
             [
              0.5555555555555556,
              "#d8576b"
             ],
             [
              0.6666666666666666,
              "#ed7953"
             ],
             [
              0.7777777777777778,
              "#fb9f3a"
             ],
             [
              0.8888888888888888,
              "#fdca26"
             ],
             [
              1,
              "#f0f921"
             ]
            ],
            "type": "heatmapgl"
           }
          ],
          "histogram": [
           {
            "marker": {
             "pattern": {
              "fillmode": "overlay",
              "size": 10,
              "solidity": 0.2
             }
            },
            "type": "histogram"
           }
          ],
          "histogram2d": [
           {
            "colorbar": {
             "outlinewidth": 0,
             "ticks": ""
            },
            "colorscale": [
             [
              0,
              "#0d0887"
             ],
             [
              0.1111111111111111,
              "#46039f"
             ],
             [
              0.2222222222222222,
              "#7201a8"
             ],
             [
              0.3333333333333333,
              "#9c179e"
             ],
             [
              0.4444444444444444,
              "#bd3786"
             ],
             [
              0.5555555555555556,
              "#d8576b"
             ],
             [
              0.6666666666666666,
              "#ed7953"
             ],
             [
              0.7777777777777778,
              "#fb9f3a"
             ],
             [
              0.8888888888888888,
              "#fdca26"
             ],
             [
              1,
              "#f0f921"
             ]
            ],
            "type": "histogram2d"
           }
          ],
          "histogram2dcontour": [
           {
            "colorbar": {
             "outlinewidth": 0,
             "ticks": ""
            },
            "colorscale": [
             [
              0,
              "#0d0887"
             ],
             [
              0.1111111111111111,
              "#46039f"
             ],
             [
              0.2222222222222222,
              "#7201a8"
             ],
             [
              0.3333333333333333,
              "#9c179e"
             ],
             [
              0.4444444444444444,
              "#bd3786"
             ],
             [
              0.5555555555555556,
              "#d8576b"
             ],
             [
              0.6666666666666666,
              "#ed7953"
             ],
             [
              0.7777777777777778,
              "#fb9f3a"
             ],
             [
              0.8888888888888888,
              "#fdca26"
             ],
             [
              1,
              "#f0f921"
             ]
            ],
            "type": "histogram2dcontour"
           }
          ],
          "mesh3d": [
           {
            "colorbar": {
             "outlinewidth": 0,
             "ticks": ""
            },
            "type": "mesh3d"
           }
          ],
          "parcoords": [
           {
            "line": {
             "colorbar": {
              "outlinewidth": 0,
              "ticks": ""
             }
            },
            "type": "parcoords"
           }
          ],
          "pie": [
           {
            "automargin": true,
            "type": "pie"
           }
          ],
          "scatter": [
           {
            "fillpattern": {
             "fillmode": "overlay",
             "size": 10,
             "solidity": 0.2
            },
            "type": "scatter"
           }
          ],
          "scatter3d": [
           {
            "line": {
             "colorbar": {
              "outlinewidth": 0,
              "ticks": ""
             }
            },
            "marker": {
             "colorbar": {
              "outlinewidth": 0,
              "ticks": ""
             }
            },
            "type": "scatter3d"
           }
          ],
          "scattercarpet": [
           {
            "marker": {
             "colorbar": {
              "outlinewidth": 0,
              "ticks": ""
             }
            },
            "type": "scattercarpet"
           }
          ],
          "scattergeo": [
           {
            "marker": {
             "colorbar": {
              "outlinewidth": 0,
              "ticks": ""
             }
            },
            "type": "scattergeo"
           }
          ],
          "scattergl": [
           {
            "marker": {
             "colorbar": {
              "outlinewidth": 0,
              "ticks": ""
             }
            },
            "type": "scattergl"
           }
          ],
          "scattermapbox": [
           {
            "marker": {
             "colorbar": {
              "outlinewidth": 0,
              "ticks": ""
             }
            },
            "type": "scattermapbox"
           }
          ],
          "scatterpolar": [
           {
            "marker": {
             "colorbar": {
              "outlinewidth": 0,
              "ticks": ""
             }
            },
            "type": "scatterpolar"
           }
          ],
          "scatterpolargl": [
           {
            "marker": {
             "colorbar": {
              "outlinewidth": 0,
              "ticks": ""
             }
            },
            "type": "scatterpolargl"
           }
          ],
          "scatterternary": [
           {
            "marker": {
             "colorbar": {
              "outlinewidth": 0,
              "ticks": ""
             }
            },
            "type": "scatterternary"
           }
          ],
          "surface": [
           {
            "colorbar": {
             "outlinewidth": 0,
             "ticks": ""
            },
            "colorscale": [
             [
              0,
              "#0d0887"
             ],
             [
              0.1111111111111111,
              "#46039f"
             ],
             [
              0.2222222222222222,
              "#7201a8"
             ],
             [
              0.3333333333333333,
              "#9c179e"
             ],
             [
              0.4444444444444444,
              "#bd3786"
             ],
             [
              0.5555555555555556,
              "#d8576b"
             ],
             [
              0.6666666666666666,
              "#ed7953"
             ],
             [
              0.7777777777777778,
              "#fb9f3a"
             ],
             [
              0.8888888888888888,
              "#fdca26"
             ],
             [
              1,
              "#f0f921"
             ]
            ],
            "type": "surface"
           }
          ],
          "table": [
           {
            "cells": {
             "fill": {
              "color": "#EBF0F8"
             },
             "line": {
              "color": "white"
             }
            },
            "header": {
             "fill": {
              "color": "#C8D4E3"
             },
             "line": {
              "color": "white"
             }
            },
            "type": "table"
           }
          ]
         },
         "layout": {
          "annotationdefaults": {
           "arrowcolor": "#2a3f5f",
           "arrowhead": 0,
           "arrowwidth": 1
          },
          "autotypenumbers": "strict",
          "coloraxis": {
           "colorbar": {
            "outlinewidth": 0,
            "ticks": ""
           }
          },
          "colorscale": {
           "diverging": [
            [
             0,
             "#8e0152"
            ],
            [
             0.1,
             "#c51b7d"
            ],
            [
             0.2,
             "#de77ae"
            ],
            [
             0.3,
             "#f1b6da"
            ],
            [
             0.4,
             "#fde0ef"
            ],
            [
             0.5,
             "#f7f7f7"
            ],
            [
             0.6,
             "#e6f5d0"
            ],
            [
             0.7,
             "#b8e186"
            ],
            [
             0.8,
             "#7fbc41"
            ],
            [
             0.9,
             "#4d9221"
            ],
            [
             1,
             "#276419"
            ]
           ],
           "sequential": [
            [
             0,
             "#0d0887"
            ],
            [
             0.1111111111111111,
             "#46039f"
            ],
            [
             0.2222222222222222,
             "#7201a8"
            ],
            [
             0.3333333333333333,
             "#9c179e"
            ],
            [
             0.4444444444444444,
             "#bd3786"
            ],
            [
             0.5555555555555556,
             "#d8576b"
            ],
            [
             0.6666666666666666,
             "#ed7953"
            ],
            [
             0.7777777777777778,
             "#fb9f3a"
            ],
            [
             0.8888888888888888,
             "#fdca26"
            ],
            [
             1,
             "#f0f921"
            ]
           ],
           "sequentialminus": [
            [
             0,
             "#0d0887"
            ],
            [
             0.1111111111111111,
             "#46039f"
            ],
            [
             0.2222222222222222,
             "#7201a8"
            ],
            [
             0.3333333333333333,
             "#9c179e"
            ],
            [
             0.4444444444444444,
             "#bd3786"
            ],
            [
             0.5555555555555556,
             "#d8576b"
            ],
            [
             0.6666666666666666,
             "#ed7953"
            ],
            [
             0.7777777777777778,
             "#fb9f3a"
            ],
            [
             0.8888888888888888,
             "#fdca26"
            ],
            [
             1,
             "#f0f921"
            ]
           ]
          },
          "colorway": [
           "#636efa",
           "#EF553B",
           "#00cc96",
           "#ab63fa",
           "#FFA15A",
           "#19d3f3",
           "#FF6692",
           "#B6E880",
           "#FF97FF",
           "#FECB52"
          ],
          "font": {
           "color": "#2a3f5f"
          },
          "geo": {
           "bgcolor": "white",
           "lakecolor": "white",
           "landcolor": "#E5ECF6",
           "showlakes": true,
           "showland": true,
           "subunitcolor": "white"
          },
          "hoverlabel": {
           "align": "left"
          },
          "hovermode": "closest",
          "mapbox": {
           "style": "light"
          },
          "paper_bgcolor": "white",
          "plot_bgcolor": "#E5ECF6",
          "polar": {
           "angularaxis": {
            "gridcolor": "white",
            "linecolor": "white",
            "ticks": ""
           },
           "bgcolor": "#E5ECF6",
           "radialaxis": {
            "gridcolor": "white",
            "linecolor": "white",
            "ticks": ""
           }
          },
          "scene": {
           "xaxis": {
            "backgroundcolor": "#E5ECF6",
            "gridcolor": "white",
            "gridwidth": 2,
            "linecolor": "white",
            "showbackground": true,
            "ticks": "",
            "zerolinecolor": "white"
           },
           "yaxis": {
            "backgroundcolor": "#E5ECF6",
            "gridcolor": "white",
            "gridwidth": 2,
            "linecolor": "white",
            "showbackground": true,
            "ticks": "",
            "zerolinecolor": "white"
           },
           "zaxis": {
            "backgroundcolor": "#E5ECF6",
            "gridcolor": "white",
            "gridwidth": 2,
            "linecolor": "white",
            "showbackground": true,
            "ticks": "",
            "zerolinecolor": "white"
           }
          },
          "shapedefaults": {
           "line": {
            "color": "#2a3f5f"
           }
          },
          "ternary": {
           "aaxis": {
            "gridcolor": "white",
            "linecolor": "white",
            "ticks": ""
           },
           "baxis": {
            "gridcolor": "white",
            "linecolor": "white",
            "ticks": ""
           },
           "bgcolor": "#E5ECF6",
           "caxis": {
            "gridcolor": "white",
            "linecolor": "white",
            "ticks": ""
           }
          },
          "title": {
           "x": 0.05
          },
          "xaxis": {
           "automargin": true,
           "gridcolor": "white",
           "linecolor": "white",
           "ticks": "",
           "title": {
            "standoff": 15
           },
           "zerolinecolor": "white",
           "zerolinewidth": 2
          },
          "yaxis": {
           "automargin": true,
           "gridcolor": "white",
           "linecolor": "white",
           "ticks": "",
           "title": {
            "standoff": 15
           },
           "zerolinecolor": "white",
           "zerolinewidth": 2
          }
         }
        },
        "title": {
         "text": "Education Levels of Business Owners in the US"
        }
       }
      }
     },
     "metadata": {},
     "output_type": "display_data"
    }
   ],
   "source": [
    "\n",
    "#same thing but as treemap\n",
    "fig = px.treemap(newdf, path=['OWNCHAR_LABEL'], values='OWNPDEMP',\n",
    "                title=\"Education Levels of Business Owners in the US\",\n",
    "                color='OWNPDEMP',names='OWNPDEMP',labels = { \"OWNPDEMP\":\"Number of Business Owners\"})\n",
    "#fig.write_image(r\"../images/education_treemap.png\",format='png',engine='kaleido')\n",
    "fig.show()\n"
   ]
  }
 ],
 "metadata": {
  "kernelspec": {
   "display_name": "base",
   "language": "python",
   "name": "python3"
  },
  "language_info": {
   "codemirror_mode": {
    "name": "ipython",
    "version": 3
   },
   "file_extension": ".py",
   "mimetype": "text/x-python",
   "name": "python",
   "nbconvert_exporter": "python",
   "pygments_lexer": "ipython3",
   "version": "3.8.16"
  },
  "orig_nbformat": 4
 },
 "nbformat": 4,
 "nbformat_minor": 2
}
