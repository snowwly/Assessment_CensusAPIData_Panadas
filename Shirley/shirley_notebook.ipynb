{
 "cells": [
  {
   "cell_type": "code",
   "execution_count": 43,
   "metadata": {},
   "outputs": [],
   "source": [
    "import pandas as pd\n",
    "from matplotlib import pyplot as plt\n",
    "import seaborn as sns\n",
    "import plotly.express as px\n",
    "import numpy as np\n",
    "import random\n",
    "import requests\n"
   ]
  },
  {
   "cell_type": "code",
   "execution_count": 44,
   "metadata": {},
   "outputs": [],
   "source": [
    "#returns a dataframe after you pass in a string url that's valid hopefully\n",
    "def getDF(apiurl):\n",
    "    response = requests.get(apiurl)\n",
    "\n",
    "    col = response.json()[0] # header row\n",
    "\n",
    "    test = pd.DataFrame(data = response.json(),columns = col) #makes data frame with the header row as column names\n",
    "    test.drop(0,axis = 0,inplace=True) #it came with the header row that I dropped\n",
    "    return test"
   ]
  },
  {
   "cell_type": "code",
   "execution_count": 45,
   "metadata": {},
   "outputs": [],
   "source": [
    "\n",
    "\n",
    "urlUS= \"https://api.census.gov/data/2018/abscbo?get=GEO_ID,NAME,NAICS2017,NAICS2017_LABEL,OWNER_RACE,OWNER_RACE_LABEL,QDESC,QDESC_LABEL,OWNCHAR,OWNCHAR_LABEL,YEAR,OWNPDEMP&for=us:*&NAICS2017=00&QDESC_LABEL=\"\n",
    "label = \"EDUC\"\n",
    "key =\"&key=7325759f1ae7120e7f55c22ccd6fe9de386a7a0c\"\n",
    "\n",
    "urlState= \"https://api.census.gov/data/2018/abscbo?get=GEO_ID,NAME,NAICS2017,NAICS2017_LABEL,OWNER_SEX,OWNER_SEX_LABEL,OWNER_ETH,OWNER_ETH_LABEL,OWNER_RACE,OWNER_RACE_LABEL,OWNER_VET,OWNER_VET_LABEL,QDESC,QDESC_LABEL,OWNCHAR,OWNCHAR_LABEL,YEAR,OWNPDEMP,OWNPDEMP_F,OWNPDEMP_PCT,OWNPDEMP_PCT_F,OWNPDEMP_S,OWNPDEMP_S_F,OWNPDEMP_PCT_S,OWNPDEMP_PCT_S_F&for=state:*&NAICS2017=00&QDESC_LABEL=\"\n",
    "\n",
    "fullurlUS = urlUS + label + key\n",
    "\n",
    "fullurlState = urlState + label + key\n",
    "\n",
    "\n",
    "EDUCdf_US = getDF(fullurlUS)\n",
    "\n",
    "EDUCdf_States = getDF(fullurlState)\n"
   ]
  },
  {
   "cell_type": "code",
   "execution_count": 46,
   "metadata": {},
   "outputs": [
    {
     "data": {
      "text/html": [
       "<div>\n",
       "<style scoped>\n",
       "    .dataframe tbody tr th:only-of-type {\n",
       "        vertical-align: middle;\n",
       "    }\n",
       "\n",
       "    .dataframe tbody tr th {\n",
       "        vertical-align: top;\n",
       "    }\n",
       "\n",
       "    .dataframe thead th {\n",
       "        text-align: right;\n",
       "    }\n",
       "</style>\n",
       "<table border=\"1\" class=\"dataframe\">\n",
       "  <thead>\n",
       "    <tr style=\"text-align: right;\">\n",
       "      <th></th>\n",
       "      <th>NAME</th>\n",
       "      <th>OWNER_RACE_LABEL</th>\n",
       "      <th>OWNCHAR_LABEL</th>\n",
       "      <th>OWNPDEMP</th>\n",
       "    </tr>\n",
       "  </thead>\n",
       "  <tbody>\n",
       "    <tr>\n",
       "      <th>1</th>\n",
       "      <td>United States</td>\n",
       "      <td>All owners of respondent firms</td>\n",
       "      <td>Less than high school graduate</td>\n",
       "      <td>110743</td>\n",
       "    </tr>\n",
       "    <tr>\n",
       "      <th>2</th>\n",
       "      <td>United States</td>\n",
       "      <td>All owners of respondent firms</td>\n",
       "      <td>High school graduate - diploma or GED</td>\n",
       "      <td>791649</td>\n",
       "    </tr>\n",
       "    <tr>\n",
       "      <th>3</th>\n",
       "      <td>United States</td>\n",
       "      <td>All owners of respondent firms</td>\n",
       "      <td>Technical, trade, or vocational school</td>\n",
       "      <td>229223</td>\n",
       "    </tr>\n",
       "    <tr>\n",
       "      <th>4</th>\n",
       "      <td>United States</td>\n",
       "      <td>All owners of respondent firms</td>\n",
       "      <td>Some college, but no degree</td>\n",
       "      <td>583812</td>\n",
       "    </tr>\n",
       "    <tr>\n",
       "      <th>5</th>\n",
       "      <td>United States</td>\n",
       "      <td>All owners of respondent firms</td>\n",
       "      <td>Associate degree</td>\n",
       "      <td>229161</td>\n",
       "    </tr>\n",
       "    <tr>\n",
       "      <th>6</th>\n",
       "      <td>United States</td>\n",
       "      <td>All owners of respondent firms</td>\n",
       "      <td>Bachelor's degree</td>\n",
       "      <td>1232195</td>\n",
       "    </tr>\n",
       "    <tr>\n",
       "      <th>7</th>\n",
       "      <td>United States</td>\n",
       "      <td>All owners of respondent firms</td>\n",
       "      <td>Master's degree</td>\n",
       "      <td>376334</td>\n",
       "    </tr>\n",
       "    <tr>\n",
       "      <th>8</th>\n",
       "      <td>United States</td>\n",
       "      <td>All owners of respondent firms</td>\n",
       "      <td>Doctorate degree</td>\n",
       "      <td>77752</td>\n",
       "    </tr>\n",
       "    <tr>\n",
       "      <th>9</th>\n",
       "      <td>United States</td>\n",
       "      <td>All owners of respondent firms</td>\n",
       "      <td>Professional degree beyond a bachelor's degree</td>\n",
       "      <td>463423</td>\n",
       "    </tr>\n",
       "    <tr>\n",
       "      <th>10</th>\n",
       "      <td>United States</td>\n",
       "      <td>All owners of respondent firms</td>\n",
       "      <td>Total reporting</td>\n",
       "      <td>4094288</td>\n",
       "    </tr>\n",
       "    <tr>\n",
       "      <th>11</th>\n",
       "      <td>United States</td>\n",
       "      <td>All owners of respondent firms</td>\n",
       "      <td>Item not reported</td>\n",
       "      <td>160686</td>\n",
       "    </tr>\n",
       "    <tr>\n",
       "      <th>12</th>\n",
       "      <td>United States</td>\n",
       "      <td>Native Hawaiian and Other Pacific Islander</td>\n",
       "      <td>Less than high school graduate</td>\n",
       "      <td>147</td>\n",
       "    </tr>\n",
       "    <tr>\n",
       "      <th>13</th>\n",
       "      <td>United States</td>\n",
       "      <td>Native Hawaiian and Other Pacific Islander</td>\n",
       "      <td>High school graduate - diploma or GED</td>\n",
       "      <td>1008</td>\n",
       "    </tr>\n",
       "    <tr>\n",
       "      <th>14</th>\n",
       "      <td>United States</td>\n",
       "      <td>Native Hawaiian and Other Pacific Islander</td>\n",
       "      <td>Technical, trade, or vocational school</td>\n",
       "      <td>304</td>\n",
       "    </tr>\n",
       "    <tr>\n",
       "      <th>15</th>\n",
       "      <td>United States</td>\n",
       "      <td>Native Hawaiian and Other Pacific Islander</td>\n",
       "      <td>Some college, but no degree</td>\n",
       "      <td>829</td>\n",
       "    </tr>\n",
       "    <tr>\n",
       "      <th>16</th>\n",
       "      <td>United States</td>\n",
       "      <td>Native Hawaiian and Other Pacific Islander</td>\n",
       "      <td>Associate degree</td>\n",
       "      <td>207</td>\n",
       "    </tr>\n",
       "    <tr>\n",
       "      <th>17</th>\n",
       "      <td>United States</td>\n",
       "      <td>Native Hawaiian and Other Pacific Islander</td>\n",
       "      <td>Bachelor's degree</td>\n",
       "      <td>1048</td>\n",
       "    </tr>\n",
       "    <tr>\n",
       "      <th>18</th>\n",
       "      <td>United States</td>\n",
       "      <td>Native Hawaiian and Other Pacific Islander</td>\n",
       "      <td>Master's degree</td>\n",
       "      <td>363</td>\n",
       "    </tr>\n",
       "    <tr>\n",
       "      <th>19</th>\n",
       "      <td>United States</td>\n",
       "      <td>Native Hawaiian and Other Pacific Islander</td>\n",
       "      <td>Doctorate degree</td>\n",
       "      <td>146</td>\n",
       "    </tr>\n",
       "    <tr>\n",
       "      <th>20</th>\n",
       "      <td>United States</td>\n",
       "      <td>Native Hawaiian and Other Pacific Islander</td>\n",
       "      <td>Professional degree beyond a bachelor's degree</td>\n",
       "      <td>562</td>\n",
       "    </tr>\n",
       "    <tr>\n",
       "      <th>21</th>\n",
       "      <td>United States</td>\n",
       "      <td>Native Hawaiian and Other Pacific Islander</td>\n",
       "      <td>Total reporting</td>\n",
       "      <td>4612</td>\n",
       "    </tr>\n",
       "    <tr>\n",
       "      <th>22</th>\n",
       "      <td>United States</td>\n",
       "      <td>Native Hawaiian and Other Pacific Islander</td>\n",
       "      <td>Item not reported</td>\n",
       "      <td>209</td>\n",
       "    </tr>\n",
       "    <tr>\n",
       "      <th>23</th>\n",
       "      <td>United States</td>\n",
       "      <td>Minority</td>\n",
       "      <td>Less than high school graduate</td>\n",
       "      <td>45516</td>\n",
       "    </tr>\n",
       "    <tr>\n",
       "      <th>24</th>\n",
       "      <td>United States</td>\n",
       "      <td>Minority</td>\n",
       "      <td>High school graduate - diploma or GED</td>\n",
       "      <td>136707</td>\n",
       "    </tr>\n",
       "    <tr>\n",
       "      <th>25</th>\n",
       "      <td>United States</td>\n",
       "      <td>Minority</td>\n",
       "      <td>Technical, trade, or vocational school</td>\n",
       "      <td>29870</td>\n",
       "    </tr>\n",
       "    <tr>\n",
       "      <th>26</th>\n",
       "      <td>United States</td>\n",
       "      <td>Minority</td>\n",
       "      <td>Some college, but no degree</td>\n",
       "      <td>89242</td>\n",
       "    </tr>\n",
       "    <tr>\n",
       "      <th>27</th>\n",
       "      <td>United States</td>\n",
       "      <td>Minority</td>\n",
       "      <td>Associate degree</td>\n",
       "      <td>35400</td>\n",
       "    </tr>\n",
       "    <tr>\n",
       "      <th>28</th>\n",
       "      <td>United States</td>\n",
       "      <td>Minority</td>\n",
       "      <td>Bachelor's degree</td>\n",
       "      <td>196309</td>\n",
       "    </tr>\n",
       "    <tr>\n",
       "      <th>29</th>\n",
       "      <td>United States</td>\n",
       "      <td>Minority</td>\n",
       "      <td>Master's degree</td>\n",
       "      <td>80461</td>\n",
       "    </tr>\n",
       "    <tr>\n",
       "      <th>30</th>\n",
       "      <td>United States</td>\n",
       "      <td>Minority</td>\n",
       "      <td>Doctorate degree</td>\n",
       "      <td>16121</td>\n",
       "    </tr>\n",
       "    <tr>\n",
       "      <th>31</th>\n",
       "      <td>United States</td>\n",
       "      <td>Minority</td>\n",
       "      <td>Professional degree beyond a bachelor's degree</td>\n",
       "      <td>87334</td>\n",
       "    </tr>\n",
       "    <tr>\n",
       "      <th>32</th>\n",
       "      <td>United States</td>\n",
       "      <td>Minority</td>\n",
       "      <td>Total reporting</td>\n",
       "      <td>716958</td>\n",
       "    </tr>\n",
       "    <tr>\n",
       "      <th>33</th>\n",
       "      <td>United States</td>\n",
       "      <td>Minority</td>\n",
       "      <td>Item not reported</td>\n",
       "      <td>29908</td>\n",
       "    </tr>\n",
       "    <tr>\n",
       "      <th>34</th>\n",
       "      <td>United States</td>\n",
       "      <td>Nonminority</td>\n",
       "      <td>Less than high school graduate</td>\n",
       "      <td>65227</td>\n",
       "    </tr>\n",
       "    <tr>\n",
       "      <th>35</th>\n",
       "      <td>United States</td>\n",
       "      <td>Nonminority</td>\n",
       "      <td>High school graduate - diploma or GED</td>\n",
       "      <td>654940</td>\n",
       "    </tr>\n",
       "    <tr>\n",
       "      <th>36</th>\n",
       "      <td>United States</td>\n",
       "      <td>Nonminority</td>\n",
       "      <td>Technical, trade, or vocational school</td>\n",
       "      <td>199352</td>\n",
       "    </tr>\n",
       "    <tr>\n",
       "      <th>37</th>\n",
       "      <td>United States</td>\n",
       "      <td>Nonminority</td>\n",
       "      <td>Some college, but no degree</td>\n",
       "      <td>494571</td>\n",
       "    </tr>\n",
       "    <tr>\n",
       "      <th>38</th>\n",
       "      <td>United States</td>\n",
       "      <td>White</td>\n",
       "      <td>Less than high school graduate</td>\n",
       "      <td>88014</td>\n",
       "    </tr>\n",
       "    <tr>\n",
       "      <th>39</th>\n",
       "      <td>United States</td>\n",
       "      <td>White</td>\n",
       "      <td>High school graduate - diploma or GED</td>\n",
       "      <td>714274</td>\n",
       "    </tr>\n",
       "    <tr>\n",
       "      <th>40</th>\n",
       "      <td>United States</td>\n",
       "      <td>White</td>\n",
       "      <td>Technical, trade, or vocational school</td>\n",
       "      <td>215591</td>\n",
       "    </tr>\n",
       "    <tr>\n",
       "      <th>41</th>\n",
       "      <td>United States</td>\n",
       "      <td>White</td>\n",
       "      <td>Some college, but no degree</td>\n",
       "      <td>535260</td>\n",
       "    </tr>\n",
       "    <tr>\n",
       "      <th>42</th>\n",
       "      <td>United States</td>\n",
       "      <td>White</td>\n",
       "      <td>Associate degree</td>\n",
       "      <td>207776</td>\n",
       "    </tr>\n",
       "    <tr>\n",
       "      <th>43</th>\n",
       "      <td>United States</td>\n",
       "      <td>White</td>\n",
       "      <td>Bachelor's degree</td>\n",
       "      <td>1089303</td>\n",
       "    </tr>\n",
       "    <tr>\n",
       "      <th>44</th>\n",
       "      <td>United States</td>\n",
       "      <td>White</td>\n",
       "      <td>Master's degree</td>\n",
       "      <td>313503</td>\n",
       "    </tr>\n",
       "    <tr>\n",
       "      <th>45</th>\n",
       "      <td>United States</td>\n",
       "      <td>White</td>\n",
       "      <td>Doctorate degree</td>\n",
       "      <td>65164</td>\n",
       "    </tr>\n",
       "    <tr>\n",
       "      <th>46</th>\n",
       "      <td>United States</td>\n",
       "      <td>White</td>\n",
       "      <td>Professional degree beyond a bachelor's degree</td>\n",
       "      <td>400705</td>\n",
       "    </tr>\n",
       "    <tr>\n",
       "      <th>47</th>\n",
       "      <td>United States</td>\n",
       "      <td>White</td>\n",
       "      <td>Total reporting</td>\n",
       "      <td>3629589</td>\n",
       "    </tr>\n",
       "    <tr>\n",
       "      <th>48</th>\n",
       "      <td>United States</td>\n",
       "      <td>White</td>\n",
       "      <td>Item not reported</td>\n",
       "      <td>142988</td>\n",
       "    </tr>\n",
       "    <tr>\n",
       "      <th>49</th>\n",
       "      <td>United States</td>\n",
       "      <td>Black or African American</td>\n",
       "      <td>Less than high school graduate</td>\n",
       "      <td>1327</td>\n",
       "    </tr>\n",
       "    <tr>\n",
       "      <th>50</th>\n",
       "      <td>United States</td>\n",
       "      <td>Black or African American</td>\n",
       "      <td>High school graduate - diploma or GED</td>\n",
       "      <td>10057</td>\n",
       "    </tr>\n",
       "    <tr>\n",
       "      <th>51</th>\n",
       "      <td>United States</td>\n",
       "      <td>Black or African American</td>\n",
       "      <td>Technical, trade, or vocational school</td>\n",
       "      <td>3514</td>\n",
       "    </tr>\n",
       "    <tr>\n",
       "      <th>52</th>\n",
       "      <td>United States</td>\n",
       "      <td>Black or African American</td>\n",
       "      <td>Some college, but no degree</td>\n",
       "      <td>10046</td>\n",
       "    </tr>\n",
       "    <tr>\n",
       "      <th>53</th>\n",
       "      <td>United States</td>\n",
       "      <td>Black or African American</td>\n",
       "      <td>Associate degree</td>\n",
       "      <td>4914</td>\n",
       "    </tr>\n",
       "    <tr>\n",
       "      <th>54</th>\n",
       "      <td>United States</td>\n",
       "      <td>Black or African American</td>\n",
       "      <td>Bachelor's degree</td>\n",
       "      <td>18609</td>\n",
       "    </tr>\n",
       "    <tr>\n",
       "      <th>55</th>\n",
       "      <td>United States</td>\n",
       "      <td>Black or African American</td>\n",
       "      <td>Master's degree</td>\n",
       "      <td>11249</td>\n",
       "    </tr>\n",
       "    <tr>\n",
       "      <th>56</th>\n",
       "      <td>United States</td>\n",
       "      <td>Black or African American</td>\n",
       "      <td>Doctorate degree</td>\n",
       "      <td>1644</td>\n",
       "    </tr>\n",
       "    <tr>\n",
       "      <th>57</th>\n",
       "      <td>United States</td>\n",
       "      <td>Black or African American</td>\n",
       "      <td>Professional degree beyond a bachelor's degree</td>\n",
       "      <td>11605</td>\n",
       "    </tr>\n",
       "    <tr>\n",
       "      <th>58</th>\n",
       "      <td>United States</td>\n",
       "      <td>Black or African American</td>\n",
       "      <td>Total reporting</td>\n",
       "      <td>72966</td>\n",
       "    </tr>\n",
       "    <tr>\n",
       "      <th>59</th>\n",
       "      <td>United States</td>\n",
       "      <td>Black or African American</td>\n",
       "      <td>Item not reported</td>\n",
       "      <td>3567</td>\n",
       "    </tr>\n",
       "    <tr>\n",
       "      <th>60</th>\n",
       "      <td>United States</td>\n",
       "      <td>American Indian and Alaska Native</td>\n",
       "      <td>Less than high school graduate</td>\n",
       "      <td>958</td>\n",
       "    </tr>\n",
       "    <tr>\n",
       "      <th>61</th>\n",
       "      <td>United States</td>\n",
       "      <td>American Indian and Alaska Native</td>\n",
       "      <td>High school graduate - diploma or GED</td>\n",
       "      <td>3413</td>\n",
       "    </tr>\n",
       "    <tr>\n",
       "      <th>62</th>\n",
       "      <td>United States</td>\n",
       "      <td>American Indian and Alaska Native</td>\n",
       "      <td>Technical, trade, or vocational school</td>\n",
       "      <td>1192</td>\n",
       "    </tr>\n",
       "    <tr>\n",
       "      <th>63</th>\n",
       "      <td>United States</td>\n",
       "      <td>American Indian and Alaska Native</td>\n",
       "      <td>Some college, but no degree</td>\n",
       "      <td>3767</td>\n",
       "    </tr>\n",
       "    <tr>\n",
       "      <th>64</th>\n",
       "      <td>United States</td>\n",
       "      <td>American Indian and Alaska Native</td>\n",
       "      <td>Associate degree</td>\n",
       "      <td>1173</td>\n",
       "    </tr>\n",
       "    <tr>\n",
       "      <th>65</th>\n",
       "      <td>United States</td>\n",
       "      <td>American Indian and Alaska Native</td>\n",
       "      <td>Bachelor's degree</td>\n",
       "      <td>4089</td>\n",
       "    </tr>\n",
       "    <tr>\n",
       "      <th>66</th>\n",
       "      <td>United States</td>\n",
       "      <td>American Indian and Alaska Native</td>\n",
       "      <td>Master's degree</td>\n",
       "      <td>1731</td>\n",
       "    </tr>\n",
       "    <tr>\n",
       "      <th>67</th>\n",
       "      <td>United States</td>\n",
       "      <td>American Indian and Alaska Native</td>\n",
       "      <td>Doctorate degree</td>\n",
       "      <td>262</td>\n",
       "    </tr>\n",
       "    <tr>\n",
       "      <th>68</th>\n",
       "      <td>United States</td>\n",
       "      <td>American Indian and Alaska Native</td>\n",
       "      <td>Professional degree beyond a bachelor's degree</td>\n",
       "      <td>1700</td>\n",
       "    </tr>\n",
       "    <tr>\n",
       "      <th>69</th>\n",
       "      <td>United States</td>\n",
       "      <td>American Indian and Alaska Native</td>\n",
       "      <td>Total reporting</td>\n",
       "      <td>18288</td>\n",
       "    </tr>\n",
       "    <tr>\n",
       "      <th>70</th>\n",
       "      <td>United States</td>\n",
       "      <td>American Indian and Alaska Native</td>\n",
       "      <td>Item not reported</td>\n",
       "      <td>906</td>\n",
       "    </tr>\n",
       "    <tr>\n",
       "      <th>71</th>\n",
       "      <td>United States</td>\n",
       "      <td>Asian</td>\n",
       "      <td>Less than high school graduate</td>\n",
       "      <td>20889</td>\n",
       "    </tr>\n",
       "    <tr>\n",
       "      <th>72</th>\n",
       "      <td>United States</td>\n",
       "      <td>Asian</td>\n",
       "      <td>High school graduate - diploma or GED</td>\n",
       "      <td>67719</td>\n",
       "    </tr>\n",
       "    <tr>\n",
       "      <th>73</th>\n",
       "      <td>United States</td>\n",
       "      <td>Asian</td>\n",
       "      <td>Technical, trade, or vocational school</td>\n",
       "      <td>10344</td>\n",
       "    </tr>\n",
       "    <tr>\n",
       "      <th>74</th>\n",
       "      <td>United States</td>\n",
       "      <td>Asian</td>\n",
       "      <td>Some college, but no degree</td>\n",
       "      <td>39615</td>\n",
       "    </tr>\n",
       "    <tr>\n",
       "      <th>75</th>\n",
       "      <td>United States</td>\n",
       "      <td>Asian</td>\n",
       "      <td>Associate degree</td>\n",
       "      <td>17191</td>\n",
       "    </tr>\n",
       "    <tr>\n",
       "      <th>76</th>\n",
       "      <td>United States</td>\n",
       "      <td>Asian</td>\n",
       "      <td>Bachelor's degree</td>\n",
       "      <td>127580</td>\n",
       "    </tr>\n",
       "    <tr>\n",
       "      <th>77</th>\n",
       "      <td>United States</td>\n",
       "      <td>Asian</td>\n",
       "      <td>Master's degree</td>\n",
       "      <td>52909</td>\n",
       "    </tr>\n",
       "    <tr>\n",
       "      <th>78</th>\n",
       "      <td>United States</td>\n",
       "      <td>Asian</td>\n",
       "      <td>Doctorate degree</td>\n",
       "      <td>10994</td>\n",
       "    </tr>\n",
       "    <tr>\n",
       "      <th>79</th>\n",
       "      <td>United States</td>\n",
       "      <td>Asian</td>\n",
       "      <td>Professional degree beyond a bachelor's degree</td>\n",
       "      <td>53248</td>\n",
       "    </tr>\n",
       "    <tr>\n",
       "      <th>80</th>\n",
       "      <td>United States</td>\n",
       "      <td>Asian</td>\n",
       "      <td>Total reporting</td>\n",
       "      <td>400492</td>\n",
       "    </tr>\n",
       "    <tr>\n",
       "      <th>81</th>\n",
       "      <td>United States</td>\n",
       "      <td>Asian</td>\n",
       "      <td>Item not reported</td>\n",
       "      <td>14311</td>\n",
       "    </tr>\n",
       "    <tr>\n",
       "      <th>82</th>\n",
       "      <td>United States</td>\n",
       "      <td>Nonminority</td>\n",
       "      <td>Associate degree</td>\n",
       "      <td>193760</td>\n",
       "    </tr>\n",
       "    <tr>\n",
       "      <th>83</th>\n",
       "      <td>United States</td>\n",
       "      <td>Nonminority</td>\n",
       "      <td>Bachelor's degree</td>\n",
       "      <td>1035888</td>\n",
       "    </tr>\n",
       "    <tr>\n",
       "      <th>84</th>\n",
       "      <td>United States</td>\n",
       "      <td>Nonminority</td>\n",
       "      <td>Master's degree</td>\n",
       "      <td>295874</td>\n",
       "    </tr>\n",
       "    <tr>\n",
       "      <th>85</th>\n",
       "      <td>United States</td>\n",
       "      <td>Nonminority</td>\n",
       "      <td>Doctorate degree</td>\n",
       "      <td>61630</td>\n",
       "    </tr>\n",
       "    <tr>\n",
       "      <th>86</th>\n",
       "      <td>United States</td>\n",
       "      <td>Nonminority</td>\n",
       "      <td>Professional degree beyond a bachelor's degree</td>\n",
       "      <td>376090</td>\n",
       "    </tr>\n",
       "    <tr>\n",
       "      <th>87</th>\n",
       "      <td>United States</td>\n",
       "      <td>Nonminority</td>\n",
       "      <td>Total reporting</td>\n",
       "      <td>3377331</td>\n",
       "    </tr>\n",
       "    <tr>\n",
       "      <th>88</th>\n",
       "      <td>United States</td>\n",
       "      <td>Nonminority</td>\n",
       "      <td>Item not reported</td>\n",
       "      <td>130776</td>\n",
       "    </tr>\n",
       "  </tbody>\n",
       "</table>\n",
       "</div>"
      ],
      "text/plain": [
       "             NAME                            OWNER_RACE_LABEL  \\\n",
       "1   United States              All owners of respondent firms   \n",
       "2   United States              All owners of respondent firms   \n",
       "3   United States              All owners of respondent firms   \n",
       "4   United States              All owners of respondent firms   \n",
       "5   United States              All owners of respondent firms   \n",
       "6   United States              All owners of respondent firms   \n",
       "7   United States              All owners of respondent firms   \n",
       "8   United States              All owners of respondent firms   \n",
       "9   United States              All owners of respondent firms   \n",
       "10  United States              All owners of respondent firms   \n",
       "11  United States              All owners of respondent firms   \n",
       "12  United States  Native Hawaiian and Other Pacific Islander   \n",
       "13  United States  Native Hawaiian and Other Pacific Islander   \n",
       "14  United States  Native Hawaiian and Other Pacific Islander   \n",
       "15  United States  Native Hawaiian and Other Pacific Islander   \n",
       "16  United States  Native Hawaiian and Other Pacific Islander   \n",
       "17  United States  Native Hawaiian and Other Pacific Islander   \n",
       "18  United States  Native Hawaiian and Other Pacific Islander   \n",
       "19  United States  Native Hawaiian and Other Pacific Islander   \n",
       "20  United States  Native Hawaiian and Other Pacific Islander   \n",
       "21  United States  Native Hawaiian and Other Pacific Islander   \n",
       "22  United States  Native Hawaiian and Other Pacific Islander   \n",
       "23  United States                                    Minority   \n",
       "24  United States                                    Minority   \n",
       "25  United States                                    Minority   \n",
       "26  United States                                    Minority   \n",
       "27  United States                                    Minority   \n",
       "28  United States                                    Minority   \n",
       "29  United States                                    Minority   \n",
       "30  United States                                    Minority   \n",
       "31  United States                                    Minority   \n",
       "32  United States                                    Minority   \n",
       "33  United States                                    Minority   \n",
       "34  United States                                 Nonminority   \n",
       "35  United States                                 Nonminority   \n",
       "36  United States                                 Nonminority   \n",
       "37  United States                                 Nonminority   \n",
       "38  United States                                       White   \n",
       "39  United States                                       White   \n",
       "40  United States                                       White   \n",
       "41  United States                                       White   \n",
       "42  United States                                       White   \n",
       "43  United States                                       White   \n",
       "44  United States                                       White   \n",
       "45  United States                                       White   \n",
       "46  United States                                       White   \n",
       "47  United States                                       White   \n",
       "48  United States                                       White   \n",
       "49  United States                   Black or African American   \n",
       "50  United States                   Black or African American   \n",
       "51  United States                   Black or African American   \n",
       "52  United States                   Black or African American   \n",
       "53  United States                   Black or African American   \n",
       "54  United States                   Black or African American   \n",
       "55  United States                   Black or African American   \n",
       "56  United States                   Black or African American   \n",
       "57  United States                   Black or African American   \n",
       "58  United States                   Black or African American   \n",
       "59  United States                   Black or African American   \n",
       "60  United States           American Indian and Alaska Native   \n",
       "61  United States           American Indian and Alaska Native   \n",
       "62  United States           American Indian and Alaska Native   \n",
       "63  United States           American Indian and Alaska Native   \n",
       "64  United States           American Indian and Alaska Native   \n",
       "65  United States           American Indian and Alaska Native   \n",
       "66  United States           American Indian and Alaska Native   \n",
       "67  United States           American Indian and Alaska Native   \n",
       "68  United States           American Indian and Alaska Native   \n",
       "69  United States           American Indian and Alaska Native   \n",
       "70  United States           American Indian and Alaska Native   \n",
       "71  United States                                       Asian   \n",
       "72  United States                                       Asian   \n",
       "73  United States                                       Asian   \n",
       "74  United States                                       Asian   \n",
       "75  United States                                       Asian   \n",
       "76  United States                                       Asian   \n",
       "77  United States                                       Asian   \n",
       "78  United States                                       Asian   \n",
       "79  United States                                       Asian   \n",
       "80  United States                                       Asian   \n",
       "81  United States                                       Asian   \n",
       "82  United States                                 Nonminority   \n",
       "83  United States                                 Nonminority   \n",
       "84  United States                                 Nonminority   \n",
       "85  United States                                 Nonminority   \n",
       "86  United States                                 Nonminority   \n",
       "87  United States                                 Nonminority   \n",
       "88  United States                                 Nonminority   \n",
       "\n",
       "                                     OWNCHAR_LABEL OWNPDEMP  \n",
       "1                   Less than high school graduate   110743  \n",
       "2            High school graduate - diploma or GED   791649  \n",
       "3           Technical, trade, or vocational school   229223  \n",
       "4                      Some college, but no degree   583812  \n",
       "5                                 Associate degree   229161  \n",
       "6                                Bachelor's degree  1232195  \n",
       "7                                  Master's degree   376334  \n",
       "8                                 Doctorate degree    77752  \n",
       "9   Professional degree beyond a bachelor's degree   463423  \n",
       "10                                 Total reporting  4094288  \n",
       "11                               Item not reported   160686  \n",
       "12                  Less than high school graduate      147  \n",
       "13           High school graduate - diploma or GED     1008  \n",
       "14          Technical, trade, or vocational school      304  \n",
       "15                     Some college, but no degree      829  \n",
       "16                                Associate degree      207  \n",
       "17                               Bachelor's degree     1048  \n",
       "18                                 Master's degree      363  \n",
       "19                                Doctorate degree      146  \n",
       "20  Professional degree beyond a bachelor's degree      562  \n",
       "21                                 Total reporting     4612  \n",
       "22                               Item not reported      209  \n",
       "23                  Less than high school graduate    45516  \n",
       "24           High school graduate - diploma or GED   136707  \n",
       "25          Technical, trade, or vocational school    29870  \n",
       "26                     Some college, but no degree    89242  \n",
       "27                                Associate degree    35400  \n",
       "28                               Bachelor's degree   196309  \n",
       "29                                 Master's degree    80461  \n",
       "30                                Doctorate degree    16121  \n",
       "31  Professional degree beyond a bachelor's degree    87334  \n",
       "32                                 Total reporting   716958  \n",
       "33                               Item not reported    29908  \n",
       "34                  Less than high school graduate    65227  \n",
       "35           High school graduate - diploma or GED   654940  \n",
       "36          Technical, trade, or vocational school   199352  \n",
       "37                     Some college, but no degree   494571  \n",
       "38                  Less than high school graduate    88014  \n",
       "39           High school graduate - diploma or GED   714274  \n",
       "40          Technical, trade, or vocational school   215591  \n",
       "41                     Some college, but no degree   535260  \n",
       "42                                Associate degree   207776  \n",
       "43                               Bachelor's degree  1089303  \n",
       "44                                 Master's degree   313503  \n",
       "45                                Doctorate degree    65164  \n",
       "46  Professional degree beyond a bachelor's degree   400705  \n",
       "47                                 Total reporting  3629589  \n",
       "48                               Item not reported   142988  \n",
       "49                  Less than high school graduate     1327  \n",
       "50           High school graduate - diploma or GED    10057  \n",
       "51          Technical, trade, or vocational school     3514  \n",
       "52                     Some college, but no degree    10046  \n",
       "53                                Associate degree     4914  \n",
       "54                               Bachelor's degree    18609  \n",
       "55                                 Master's degree    11249  \n",
       "56                                Doctorate degree     1644  \n",
       "57  Professional degree beyond a bachelor's degree    11605  \n",
       "58                                 Total reporting    72966  \n",
       "59                               Item not reported     3567  \n",
       "60                  Less than high school graduate      958  \n",
       "61           High school graduate - diploma or GED     3413  \n",
       "62          Technical, trade, or vocational school     1192  \n",
       "63                     Some college, but no degree     3767  \n",
       "64                                Associate degree     1173  \n",
       "65                               Bachelor's degree     4089  \n",
       "66                                 Master's degree     1731  \n",
       "67                                Doctorate degree      262  \n",
       "68  Professional degree beyond a bachelor's degree     1700  \n",
       "69                                 Total reporting    18288  \n",
       "70                               Item not reported      906  \n",
       "71                  Less than high school graduate    20889  \n",
       "72           High school graduate - diploma or GED    67719  \n",
       "73          Technical, trade, or vocational school    10344  \n",
       "74                     Some college, but no degree    39615  \n",
       "75                                Associate degree    17191  \n",
       "76                               Bachelor's degree   127580  \n",
       "77                                 Master's degree    52909  \n",
       "78                                Doctorate degree    10994  \n",
       "79  Professional degree beyond a bachelor's degree    53248  \n",
       "80                                 Total reporting   400492  \n",
       "81                               Item not reported    14311  \n",
       "82                                Associate degree   193760  \n",
       "83                               Bachelor's degree  1035888  \n",
       "84                                 Master's degree   295874  \n",
       "85                                Doctorate degree    61630  \n",
       "86  Professional degree beyond a bachelor's degree   376090  \n",
       "87                                 Total reporting  3377331  \n",
       "88                               Item not reported   130776  "
      ]
     },
     "execution_count": 46,
     "metadata": {},
     "output_type": "execute_result"
    }
   ],
   "source": [
    "pd.options.display.max_columns = None\n",
    "pd.options.display.max_rows = None\n",
    "\n",
    "filter = EDUCdf_US[['NAME','OWNER_RACE_LABEL','OWNCHAR_LABEL','OWNPDEMP']]\n",
    "filter\n"
   ]
  },
  {
   "cell_type": "code",
   "execution_count": 47,
   "metadata": {},
   "outputs": [
    {
     "name": "stdout",
     "output_type": "stream",
     "text": [
      "             NAME                OWNER_RACE_LABEL  \\\n",
      "1   United States  All owners of respondent firms   \n",
      "2   United States  All owners of respondent firms   \n",
      "3   United States  All owners of respondent firms   \n",
      "4   United States  All owners of respondent firms   \n",
      "5   United States  All owners of respondent firms   \n",
      "6   United States  All owners of respondent firms   \n",
      "7   United States  All owners of respondent firms   \n",
      "8   United States  All owners of respondent firms   \n",
      "9   United States  All owners of respondent firms   \n",
      "10  United States  All owners of respondent firms   \n",
      "11  United States  All owners of respondent firms   \n",
      "\n",
      "                                     OWNCHAR_LABEL OWNPDEMP  \n",
      "1                   Less than high school graduate   110743  \n",
      "2            High school graduate - diploma or GED   791649  \n",
      "3           Technical, trade, or vocational school   229223  \n",
      "4                      Some college, but no degree   583812  \n",
      "5                                 Associate degree   229161  \n",
      "6                                Bachelor's degree  1232195  \n",
      "7                                  Master's degree   376334  \n",
      "8                                 Doctorate degree    77752  \n",
      "9   Professional degree beyond a bachelor's degree   463423  \n",
      "10                                 Total reporting  4094288  \n",
      "11                               Item not reported   160686  \n"
     ]
    },
    {
     "name": "stderr",
     "output_type": "stream",
     "text": [
      "C:\\Users\\shirl\\AppData\\Local\\Temp\\ipykernel_17072\\2933379561.py:7: SettingWithCopyWarning:\n",
      "\n",
      "\n",
      "A value is trying to be set on a copy of a slice from a DataFrame.\n",
      "Try using .loc[row_indexer,col_indexer] = value instead\n",
      "\n",
      "See the caveats in the documentation: https://pandas.pydata.org/pandas-docs/stable/user_guide/indexing.html#returning-a-view-versus-a-copy\n",
      "\n"
     ]
    },
    {
     "data": {
      "application/vnd.plotly.v1+json": {
       "config": {
        "plotlyServerURL": "https://plot.ly"
       },
       "data": [
        {
         "alignmentgroup": "True",
         "hovertemplate": "Education Level=%{x}<br>Number of Business Owners In US=%{y}<extra></extra>",
         "legendgroup": "",
         "marker": {
          "color": "#636efa",
          "pattern": {
           "shape": ""
          }
         },
         "name": "",
         "offsetgroup": "",
         "orientation": "v",
         "showlegend": false,
         "textposition": "auto",
         "texttemplate": "%{y:.2s}",
         "type": "bar",
         "x": [
          "Bachelor's degree",
          "High school graduate - diploma or GED",
          "Some college, but no degree",
          "Professional degree beyond a bachelor's degree",
          "Master's degree",
          "Technical, trade, or vocational school",
          "Associate degree",
          "Less than high school graduate",
          "Doctorate degree"
         ],
         "xaxis": "x",
         "y": [
          1232195,
          791649,
          583812,
          463423,
          376334,
          229223,
          229161,
          110743,
          77752
         ],
         "yaxis": "y"
        }
       ],
       "layout": {
        "barmode": "relative",
        "legend": {
         "tracegroupgap": 0
        },
        "template": {
         "data": {
          "bar": [
           {
            "error_x": {
             "color": "#2a3f5f"
            },
            "error_y": {
             "color": "#2a3f5f"
            },
            "marker": {
             "line": {
              "color": "#E5ECF6",
              "width": 0.5
             },
             "pattern": {
              "fillmode": "overlay",
              "size": 10,
              "solidity": 0.2
             }
            },
            "type": "bar"
           }
          ],
          "barpolar": [
           {
            "marker": {
             "line": {
              "color": "#E5ECF6",
              "width": 0.5
             },
             "pattern": {
              "fillmode": "overlay",
              "size": 10,
              "solidity": 0.2
             }
            },
            "type": "barpolar"
           }
          ],
          "carpet": [
           {
            "aaxis": {
             "endlinecolor": "#2a3f5f",
             "gridcolor": "white",
             "linecolor": "white",
             "minorgridcolor": "white",
             "startlinecolor": "#2a3f5f"
            },
            "baxis": {
             "endlinecolor": "#2a3f5f",
             "gridcolor": "white",
             "linecolor": "white",
             "minorgridcolor": "white",
             "startlinecolor": "#2a3f5f"
            },
            "type": "carpet"
           }
          ],
          "choropleth": [
           {
            "colorbar": {
             "outlinewidth": 0,
             "ticks": ""
            },
            "type": "choropleth"
           }
          ],
          "contour": [
           {
            "colorbar": {
             "outlinewidth": 0,
             "ticks": ""
            },
            "colorscale": [
             [
              0,
              "#0d0887"
             ],
             [
              0.1111111111111111,
              "#46039f"
             ],
             [
              0.2222222222222222,
              "#7201a8"
             ],
             [
              0.3333333333333333,
              "#9c179e"
             ],
             [
              0.4444444444444444,
              "#bd3786"
             ],
             [
              0.5555555555555556,
              "#d8576b"
             ],
             [
              0.6666666666666666,
              "#ed7953"
             ],
             [
              0.7777777777777778,
              "#fb9f3a"
             ],
             [
              0.8888888888888888,
              "#fdca26"
             ],
             [
              1,
              "#f0f921"
             ]
            ],
            "type": "contour"
           }
          ],
          "contourcarpet": [
           {
            "colorbar": {
             "outlinewidth": 0,
             "ticks": ""
            },
            "type": "contourcarpet"
           }
          ],
          "heatmap": [
           {
            "colorbar": {
             "outlinewidth": 0,
             "ticks": ""
            },
            "colorscale": [
             [
              0,
              "#0d0887"
             ],
             [
              0.1111111111111111,
              "#46039f"
             ],
             [
              0.2222222222222222,
              "#7201a8"
             ],
             [
              0.3333333333333333,
              "#9c179e"
             ],
             [
              0.4444444444444444,
              "#bd3786"
             ],
             [
              0.5555555555555556,
              "#d8576b"
             ],
             [
              0.6666666666666666,
              "#ed7953"
             ],
             [
              0.7777777777777778,
              "#fb9f3a"
             ],
             [
              0.8888888888888888,
              "#fdca26"
             ],
             [
              1,
              "#f0f921"
             ]
            ],
            "type": "heatmap"
           }
          ],
          "heatmapgl": [
           {
            "colorbar": {
             "outlinewidth": 0,
             "ticks": ""
            },
            "colorscale": [
             [
              0,
              "#0d0887"
             ],
             [
              0.1111111111111111,
              "#46039f"
             ],
             [
              0.2222222222222222,
              "#7201a8"
             ],
             [
              0.3333333333333333,
              "#9c179e"
             ],
             [
              0.4444444444444444,
              "#bd3786"
             ],
             [
              0.5555555555555556,
              "#d8576b"
             ],
             [
              0.6666666666666666,
              "#ed7953"
             ],
             [
              0.7777777777777778,
              "#fb9f3a"
             ],
             [
              0.8888888888888888,
              "#fdca26"
             ],
             [
              1,
              "#f0f921"
             ]
            ],
            "type": "heatmapgl"
           }
          ],
          "histogram": [
           {
            "marker": {
             "pattern": {
              "fillmode": "overlay",
              "size": 10,
              "solidity": 0.2
             }
            },
            "type": "histogram"
           }
          ],
          "histogram2d": [
           {
            "colorbar": {
             "outlinewidth": 0,
             "ticks": ""
            },
            "colorscale": [
             [
              0,
              "#0d0887"
             ],
             [
              0.1111111111111111,
              "#46039f"
             ],
             [
              0.2222222222222222,
              "#7201a8"
             ],
             [
              0.3333333333333333,
              "#9c179e"
             ],
             [
              0.4444444444444444,
              "#bd3786"
             ],
             [
              0.5555555555555556,
              "#d8576b"
             ],
             [
              0.6666666666666666,
              "#ed7953"
             ],
             [
              0.7777777777777778,
              "#fb9f3a"
             ],
             [
              0.8888888888888888,
              "#fdca26"
             ],
             [
              1,
              "#f0f921"
             ]
            ],
            "type": "histogram2d"
           }
          ],
          "histogram2dcontour": [
           {
            "colorbar": {
             "outlinewidth": 0,
             "ticks": ""
            },
            "colorscale": [
             [
              0,
              "#0d0887"
             ],
             [
              0.1111111111111111,
              "#46039f"
             ],
             [
              0.2222222222222222,
              "#7201a8"
             ],
             [
              0.3333333333333333,
              "#9c179e"
             ],
             [
              0.4444444444444444,
              "#bd3786"
             ],
             [
              0.5555555555555556,
              "#d8576b"
             ],
             [
              0.6666666666666666,
              "#ed7953"
             ],
             [
              0.7777777777777778,
              "#fb9f3a"
             ],
             [
              0.8888888888888888,
              "#fdca26"
             ],
             [
              1,
              "#f0f921"
             ]
            ],
            "type": "histogram2dcontour"
           }
          ],
          "mesh3d": [
           {
            "colorbar": {
             "outlinewidth": 0,
             "ticks": ""
            },
            "type": "mesh3d"
           }
          ],
          "parcoords": [
           {
            "line": {
             "colorbar": {
              "outlinewidth": 0,
              "ticks": ""
             }
            },
            "type": "parcoords"
           }
          ],
          "pie": [
           {
            "automargin": true,
            "type": "pie"
           }
          ],
          "scatter": [
           {
            "fillpattern": {
             "fillmode": "overlay",
             "size": 10,
             "solidity": 0.2
            },
            "type": "scatter"
           }
          ],
          "scatter3d": [
           {
            "line": {
             "colorbar": {
              "outlinewidth": 0,
              "ticks": ""
             }
            },
            "marker": {
             "colorbar": {
              "outlinewidth": 0,
              "ticks": ""
             }
            },
            "type": "scatter3d"
           }
          ],
          "scattercarpet": [
           {
            "marker": {
             "colorbar": {
              "outlinewidth": 0,
              "ticks": ""
             }
            },
            "type": "scattercarpet"
           }
          ],
          "scattergeo": [
           {
            "marker": {
             "colorbar": {
              "outlinewidth": 0,
              "ticks": ""
             }
            },
            "type": "scattergeo"
           }
          ],
          "scattergl": [
           {
            "marker": {
             "colorbar": {
              "outlinewidth": 0,
              "ticks": ""
             }
            },
            "type": "scattergl"
           }
          ],
          "scattermapbox": [
           {
            "marker": {
             "colorbar": {
              "outlinewidth": 0,
              "ticks": ""
             }
            },
            "type": "scattermapbox"
           }
          ],
          "scatterpolar": [
           {
            "marker": {
             "colorbar": {
              "outlinewidth": 0,
              "ticks": ""
             }
            },
            "type": "scatterpolar"
           }
          ],
          "scatterpolargl": [
           {
            "marker": {
             "colorbar": {
              "outlinewidth": 0,
              "ticks": ""
             }
            },
            "type": "scatterpolargl"
           }
          ],
          "scatterternary": [
           {
            "marker": {
             "colorbar": {
              "outlinewidth": 0,
              "ticks": ""
             }
            },
            "type": "scatterternary"
           }
          ],
          "surface": [
           {
            "colorbar": {
             "outlinewidth": 0,
             "ticks": ""
            },
            "colorscale": [
             [
              0,
              "#0d0887"
             ],
             [
              0.1111111111111111,
              "#46039f"
             ],
             [
              0.2222222222222222,
              "#7201a8"
             ],
             [
              0.3333333333333333,
              "#9c179e"
             ],
             [
              0.4444444444444444,
              "#bd3786"
             ],
             [
              0.5555555555555556,
              "#d8576b"
             ],
             [
              0.6666666666666666,
              "#ed7953"
             ],
             [
              0.7777777777777778,
              "#fb9f3a"
             ],
             [
              0.8888888888888888,
              "#fdca26"
             ],
             [
              1,
              "#f0f921"
             ]
            ],
            "type": "surface"
           }
          ],
          "table": [
           {
            "cells": {
             "fill": {
              "color": "#EBF0F8"
             },
             "line": {
              "color": "white"
             }
            },
            "header": {
             "fill": {
              "color": "#C8D4E3"
             },
             "line": {
              "color": "white"
             }
            },
            "type": "table"
           }
          ]
         },
         "layout": {
          "annotationdefaults": {
           "arrowcolor": "#2a3f5f",
           "arrowhead": 0,
           "arrowwidth": 1
          },
          "autotypenumbers": "strict",
          "coloraxis": {
           "colorbar": {
            "outlinewidth": 0,
            "ticks": ""
           }
          },
          "colorscale": {
           "diverging": [
            [
             0,
             "#8e0152"
            ],
            [
             0.1,
             "#c51b7d"
            ],
            [
             0.2,
             "#de77ae"
            ],
            [
             0.3,
             "#f1b6da"
            ],
            [
             0.4,
             "#fde0ef"
            ],
            [
             0.5,
             "#f7f7f7"
            ],
            [
             0.6,
             "#e6f5d0"
            ],
            [
             0.7,
             "#b8e186"
            ],
            [
             0.8,
             "#7fbc41"
            ],
            [
             0.9,
             "#4d9221"
            ],
            [
             1,
             "#276419"
            ]
           ],
           "sequential": [
            [
             0,
             "#0d0887"
            ],
            [
             0.1111111111111111,
             "#46039f"
            ],
            [
             0.2222222222222222,
             "#7201a8"
            ],
            [
             0.3333333333333333,
             "#9c179e"
            ],
            [
             0.4444444444444444,
             "#bd3786"
            ],
            [
             0.5555555555555556,
             "#d8576b"
            ],
            [
             0.6666666666666666,
             "#ed7953"
            ],
            [
             0.7777777777777778,
             "#fb9f3a"
            ],
            [
             0.8888888888888888,
             "#fdca26"
            ],
            [
             1,
             "#f0f921"
            ]
           ],
           "sequentialminus": [
            [
             0,
             "#0d0887"
            ],
            [
             0.1111111111111111,
             "#46039f"
            ],
            [
             0.2222222222222222,
             "#7201a8"
            ],
            [
             0.3333333333333333,
             "#9c179e"
            ],
            [
             0.4444444444444444,
             "#bd3786"
            ],
            [
             0.5555555555555556,
             "#d8576b"
            ],
            [
             0.6666666666666666,
             "#ed7953"
            ],
            [
             0.7777777777777778,
             "#fb9f3a"
            ],
            [
             0.8888888888888888,
             "#fdca26"
            ],
            [
             1,
             "#f0f921"
            ]
           ]
          },
          "colorway": [
           "#636efa",
           "#EF553B",
           "#00cc96",
           "#ab63fa",
           "#FFA15A",
           "#19d3f3",
           "#FF6692",
           "#B6E880",
           "#FF97FF",
           "#FECB52"
          ],
          "font": {
           "color": "#2a3f5f"
          },
          "geo": {
           "bgcolor": "white",
           "lakecolor": "white",
           "landcolor": "#E5ECF6",
           "showlakes": true,
           "showland": true,
           "subunitcolor": "white"
          },
          "hoverlabel": {
           "align": "left"
          },
          "hovermode": "closest",
          "mapbox": {
           "style": "light"
          },
          "paper_bgcolor": "white",
          "plot_bgcolor": "#E5ECF6",
          "polar": {
           "angularaxis": {
            "gridcolor": "white",
            "linecolor": "white",
            "ticks": ""
           },
           "bgcolor": "#E5ECF6",
           "radialaxis": {
            "gridcolor": "white",
            "linecolor": "white",
            "ticks": ""
           }
          },
          "scene": {
           "xaxis": {
            "backgroundcolor": "#E5ECF6",
            "gridcolor": "white",
            "gridwidth": 2,
            "linecolor": "white",
            "showbackground": true,
            "ticks": "",
            "zerolinecolor": "white"
           },
           "yaxis": {
            "backgroundcolor": "#E5ECF6",
            "gridcolor": "white",
            "gridwidth": 2,
            "linecolor": "white",
            "showbackground": true,
            "ticks": "",
            "zerolinecolor": "white"
           },
           "zaxis": {
            "backgroundcolor": "#E5ECF6",
            "gridcolor": "white",
            "gridwidth": 2,
            "linecolor": "white",
            "showbackground": true,
            "ticks": "",
            "zerolinecolor": "white"
           }
          },
          "shapedefaults": {
           "line": {
            "color": "#2a3f5f"
           }
          },
          "ternary": {
           "aaxis": {
            "gridcolor": "white",
            "linecolor": "white",
            "ticks": ""
           },
           "baxis": {
            "gridcolor": "white",
            "linecolor": "white",
            "ticks": ""
           },
           "bgcolor": "#E5ECF6",
           "caxis": {
            "gridcolor": "white",
            "linecolor": "white",
            "ticks": ""
           }
          },
          "title": {
           "x": 0.05
          },
          "xaxis": {
           "automargin": true,
           "gridcolor": "white",
           "linecolor": "white",
           "ticks": "",
           "title": {
            "standoff": 15
           },
           "zerolinecolor": "white",
           "zerolinewidth": 2
          },
          "yaxis": {
           "automargin": true,
           "gridcolor": "white",
           "linecolor": "white",
           "ticks": "",
           "title": {
            "standoff": 15
           },
           "zerolinecolor": "white",
           "zerolinewidth": 2
          }
         }
        },
        "title": {
         "text": "Education Levels of Business Owners in the US"
        },
        "xaxis": {
         "anchor": "y",
         "domain": [
          0,
          1
         ],
         "title": {
          "text": "Education Level"
         }
        },
        "yaxis": {
         "anchor": "x",
         "domain": [
          0,
          1
         ],
         "title": {
          "text": "Number of Business Owners In US"
         }
        }
       }
      }
     },
     "metadata": {},
     "output_type": "display_data"
    },
    {
     "data": {
      "application/vnd.plotly.v1+json": {
       "config": {
        "plotlyServerURL": "https://plot.ly"
       },
       "data": [
        {
         "branchvalues": "total",
         "customdata": [
          [
           229161
          ],
          [
           1232195
          ],
          [
           77752
          ],
          [
           791649
          ],
          [
           110743
          ],
          [
           376334
          ],
          [
           463423
          ],
          [
           583812
          ],
          [
           229223
          ]
         ],
         "domain": {
          "x": [
           0,
           1
          ],
          "y": [
           0,
           1
          ]
         },
         "hovertemplate": "labels=%{label}<br>OWNPDEMP_sum=%{value}<br>parent=%{parent}<br>id=%{id}<br>Number of Business Owners In US=%{color}<extra></extra>",
         "ids": [
          "Associate degree",
          "Bachelor's degree",
          "Doctorate degree",
          "High school graduate - diploma or GED",
          "Less than high school graduate",
          "Master's degree",
          "Professional degree beyond a bachelor's degree",
          "Some college, but no degree",
          "Technical, trade, or vocational school"
         ],
         "labels": [
          "Associate degree",
          "Bachelor's degree",
          "Doctorate degree",
          "High school graduate - diploma or GED",
          "Less than high school graduate",
          "Master's degree",
          "Professional degree beyond a bachelor's degree",
          "Some college, but no degree",
          "Technical, trade, or vocational school"
         ],
         "marker": {
          "coloraxis": "coloraxis",
          "colors": [
           229161,
           1232195,
           77752,
           791649,
           110743,
           376334,
           463423,
           583812,
           229223
          ]
         },
         "name": "",
         "parents": [
          "",
          "",
          "",
          "",
          "",
          "",
          "",
          "",
          ""
         ],
         "type": "treemap",
         "values": [
          229161,
          1232195,
          77752,
          791649,
          110743,
          376334,
          463423,
          583812,
          229223
         ]
        }
       ],
       "layout": {
        "coloraxis": {
         "colorbar": {
          "title": {
           "text": "Number of Business Owners In US"
          }
         },
         "colorscale": [
          [
           0,
           "#0d0887"
          ],
          [
           0.1111111111111111,
           "#46039f"
          ],
          [
           0.2222222222222222,
           "#7201a8"
          ],
          [
           0.3333333333333333,
           "#9c179e"
          ],
          [
           0.4444444444444444,
           "#bd3786"
          ],
          [
           0.5555555555555556,
           "#d8576b"
          ],
          [
           0.6666666666666666,
           "#ed7953"
          ],
          [
           0.7777777777777778,
           "#fb9f3a"
          ],
          [
           0.8888888888888888,
           "#fdca26"
          ],
          [
           1,
           "#f0f921"
          ]
         ]
        },
        "legend": {
         "tracegroupgap": 0
        },
        "template": {
         "data": {
          "bar": [
           {
            "error_x": {
             "color": "#2a3f5f"
            },
            "error_y": {
             "color": "#2a3f5f"
            },
            "marker": {
             "line": {
              "color": "#E5ECF6",
              "width": 0.5
             },
             "pattern": {
              "fillmode": "overlay",
              "size": 10,
              "solidity": 0.2
             }
            },
            "type": "bar"
           }
          ],
          "barpolar": [
           {
            "marker": {
             "line": {
              "color": "#E5ECF6",
              "width": 0.5
             },
             "pattern": {
              "fillmode": "overlay",
              "size": 10,
              "solidity": 0.2
             }
            },
            "type": "barpolar"
           }
          ],
          "carpet": [
           {
            "aaxis": {
             "endlinecolor": "#2a3f5f",
             "gridcolor": "white",
             "linecolor": "white",
             "minorgridcolor": "white",
             "startlinecolor": "#2a3f5f"
            },
            "baxis": {
             "endlinecolor": "#2a3f5f",
             "gridcolor": "white",
             "linecolor": "white",
             "minorgridcolor": "white",
             "startlinecolor": "#2a3f5f"
            },
            "type": "carpet"
           }
          ],
          "choropleth": [
           {
            "colorbar": {
             "outlinewidth": 0,
             "ticks": ""
            },
            "type": "choropleth"
           }
          ],
          "contour": [
           {
            "colorbar": {
             "outlinewidth": 0,
             "ticks": ""
            },
            "colorscale": [
             [
              0,
              "#0d0887"
             ],
             [
              0.1111111111111111,
              "#46039f"
             ],
             [
              0.2222222222222222,
              "#7201a8"
             ],
             [
              0.3333333333333333,
              "#9c179e"
             ],
             [
              0.4444444444444444,
              "#bd3786"
             ],
             [
              0.5555555555555556,
              "#d8576b"
             ],
             [
              0.6666666666666666,
              "#ed7953"
             ],
             [
              0.7777777777777778,
              "#fb9f3a"
             ],
             [
              0.8888888888888888,
              "#fdca26"
             ],
             [
              1,
              "#f0f921"
             ]
            ],
            "type": "contour"
           }
          ],
          "contourcarpet": [
           {
            "colorbar": {
             "outlinewidth": 0,
             "ticks": ""
            },
            "type": "contourcarpet"
           }
          ],
          "heatmap": [
           {
            "colorbar": {
             "outlinewidth": 0,
             "ticks": ""
            },
            "colorscale": [
             [
              0,
              "#0d0887"
             ],
             [
              0.1111111111111111,
              "#46039f"
             ],
             [
              0.2222222222222222,
              "#7201a8"
             ],
             [
              0.3333333333333333,
              "#9c179e"
             ],
             [
              0.4444444444444444,
              "#bd3786"
             ],
             [
              0.5555555555555556,
              "#d8576b"
             ],
             [
              0.6666666666666666,
              "#ed7953"
             ],
             [
              0.7777777777777778,
              "#fb9f3a"
             ],
             [
              0.8888888888888888,
              "#fdca26"
             ],
             [
              1,
              "#f0f921"
             ]
            ],
            "type": "heatmap"
           }
          ],
          "heatmapgl": [
           {
            "colorbar": {
             "outlinewidth": 0,
             "ticks": ""
            },
            "colorscale": [
             [
              0,
              "#0d0887"
             ],
             [
              0.1111111111111111,
              "#46039f"
             ],
             [
              0.2222222222222222,
              "#7201a8"
             ],
             [
              0.3333333333333333,
              "#9c179e"
             ],
             [
              0.4444444444444444,
              "#bd3786"
             ],
             [
              0.5555555555555556,
              "#d8576b"
             ],
             [
              0.6666666666666666,
              "#ed7953"
             ],
             [
              0.7777777777777778,
              "#fb9f3a"
             ],
             [
              0.8888888888888888,
              "#fdca26"
             ],
             [
              1,
              "#f0f921"
             ]
            ],
            "type": "heatmapgl"
           }
          ],
          "histogram": [
           {
            "marker": {
             "pattern": {
              "fillmode": "overlay",
              "size": 10,
              "solidity": 0.2
             }
            },
            "type": "histogram"
           }
          ],
          "histogram2d": [
           {
            "colorbar": {
             "outlinewidth": 0,
             "ticks": ""
            },
            "colorscale": [
             [
              0,
              "#0d0887"
             ],
             [
              0.1111111111111111,
              "#46039f"
             ],
             [
              0.2222222222222222,
              "#7201a8"
             ],
             [
              0.3333333333333333,
              "#9c179e"
             ],
             [
              0.4444444444444444,
              "#bd3786"
             ],
             [
              0.5555555555555556,
              "#d8576b"
             ],
             [
              0.6666666666666666,
              "#ed7953"
             ],
             [
              0.7777777777777778,
              "#fb9f3a"
             ],
             [
              0.8888888888888888,
              "#fdca26"
             ],
             [
              1,
              "#f0f921"
             ]
            ],
            "type": "histogram2d"
           }
          ],
          "histogram2dcontour": [
           {
            "colorbar": {
             "outlinewidth": 0,
             "ticks": ""
            },
            "colorscale": [
             [
              0,
              "#0d0887"
             ],
             [
              0.1111111111111111,
              "#46039f"
             ],
             [
              0.2222222222222222,
              "#7201a8"
             ],
             [
              0.3333333333333333,
              "#9c179e"
             ],
             [
              0.4444444444444444,
              "#bd3786"
             ],
             [
              0.5555555555555556,
              "#d8576b"
             ],
             [
              0.6666666666666666,
              "#ed7953"
             ],
             [
              0.7777777777777778,
              "#fb9f3a"
             ],
             [
              0.8888888888888888,
              "#fdca26"
             ],
             [
              1,
              "#f0f921"
             ]
            ],
            "type": "histogram2dcontour"
           }
          ],
          "mesh3d": [
           {
            "colorbar": {
             "outlinewidth": 0,
             "ticks": ""
            },
            "type": "mesh3d"
           }
          ],
          "parcoords": [
           {
            "line": {
             "colorbar": {
              "outlinewidth": 0,
              "ticks": ""
             }
            },
            "type": "parcoords"
           }
          ],
          "pie": [
           {
            "automargin": true,
            "type": "pie"
           }
          ],
          "scatter": [
           {
            "fillpattern": {
             "fillmode": "overlay",
             "size": 10,
             "solidity": 0.2
            },
            "type": "scatter"
           }
          ],
          "scatter3d": [
           {
            "line": {
             "colorbar": {
              "outlinewidth": 0,
              "ticks": ""
             }
            },
            "marker": {
             "colorbar": {
              "outlinewidth": 0,
              "ticks": ""
             }
            },
            "type": "scatter3d"
           }
          ],
          "scattercarpet": [
           {
            "marker": {
             "colorbar": {
              "outlinewidth": 0,
              "ticks": ""
             }
            },
            "type": "scattercarpet"
           }
          ],
          "scattergeo": [
           {
            "marker": {
             "colorbar": {
              "outlinewidth": 0,
              "ticks": ""
             }
            },
            "type": "scattergeo"
           }
          ],
          "scattergl": [
           {
            "marker": {
             "colorbar": {
              "outlinewidth": 0,
              "ticks": ""
             }
            },
            "type": "scattergl"
           }
          ],
          "scattermapbox": [
           {
            "marker": {
             "colorbar": {
              "outlinewidth": 0,
              "ticks": ""
             }
            },
            "type": "scattermapbox"
           }
          ],
          "scatterpolar": [
           {
            "marker": {
             "colorbar": {
              "outlinewidth": 0,
              "ticks": ""
             }
            },
            "type": "scatterpolar"
           }
          ],
          "scatterpolargl": [
           {
            "marker": {
             "colorbar": {
              "outlinewidth": 0,
              "ticks": ""
             }
            },
            "type": "scatterpolargl"
           }
          ],
          "scatterternary": [
           {
            "marker": {
             "colorbar": {
              "outlinewidth": 0,
              "ticks": ""
             }
            },
            "type": "scatterternary"
           }
          ],
          "surface": [
           {
            "colorbar": {
             "outlinewidth": 0,
             "ticks": ""
            },
            "colorscale": [
             [
              0,
              "#0d0887"
             ],
             [
              0.1111111111111111,
              "#46039f"
             ],
             [
              0.2222222222222222,
              "#7201a8"
             ],
             [
              0.3333333333333333,
              "#9c179e"
             ],
             [
              0.4444444444444444,
              "#bd3786"
             ],
             [
              0.5555555555555556,
              "#d8576b"
             ],
             [
              0.6666666666666666,
              "#ed7953"
             ],
             [
              0.7777777777777778,
              "#fb9f3a"
             ],
             [
              0.8888888888888888,
              "#fdca26"
             ],
             [
              1,
              "#f0f921"
             ]
            ],
            "type": "surface"
           }
          ],
          "table": [
           {
            "cells": {
             "fill": {
              "color": "#EBF0F8"
             },
             "line": {
              "color": "white"
             }
            },
            "header": {
             "fill": {
              "color": "#C8D4E3"
             },
             "line": {
              "color": "white"
             }
            },
            "type": "table"
           }
          ]
         },
         "layout": {
          "annotationdefaults": {
           "arrowcolor": "#2a3f5f",
           "arrowhead": 0,
           "arrowwidth": 1
          },
          "autotypenumbers": "strict",
          "coloraxis": {
           "colorbar": {
            "outlinewidth": 0,
            "ticks": ""
           }
          },
          "colorscale": {
           "diverging": [
            [
             0,
             "#8e0152"
            ],
            [
             0.1,
             "#c51b7d"
            ],
            [
             0.2,
             "#de77ae"
            ],
            [
             0.3,
             "#f1b6da"
            ],
            [
             0.4,
             "#fde0ef"
            ],
            [
             0.5,
             "#f7f7f7"
            ],
            [
             0.6,
             "#e6f5d0"
            ],
            [
             0.7,
             "#b8e186"
            ],
            [
             0.8,
             "#7fbc41"
            ],
            [
             0.9,
             "#4d9221"
            ],
            [
             1,
             "#276419"
            ]
           ],
           "sequential": [
            [
             0,
             "#0d0887"
            ],
            [
             0.1111111111111111,
             "#46039f"
            ],
            [
             0.2222222222222222,
             "#7201a8"
            ],
            [
             0.3333333333333333,
             "#9c179e"
            ],
            [
             0.4444444444444444,
             "#bd3786"
            ],
            [
             0.5555555555555556,
             "#d8576b"
            ],
            [
             0.6666666666666666,
             "#ed7953"
            ],
            [
             0.7777777777777778,
             "#fb9f3a"
            ],
            [
             0.8888888888888888,
             "#fdca26"
            ],
            [
             1,
             "#f0f921"
            ]
           ],
           "sequentialminus": [
            [
             0,
             "#0d0887"
            ],
            [
             0.1111111111111111,
             "#46039f"
            ],
            [
             0.2222222222222222,
             "#7201a8"
            ],
            [
             0.3333333333333333,
             "#9c179e"
            ],
            [
             0.4444444444444444,
             "#bd3786"
            ],
            [
             0.5555555555555556,
             "#d8576b"
            ],
            [
             0.6666666666666666,
             "#ed7953"
            ],
            [
             0.7777777777777778,
             "#fb9f3a"
            ],
            [
             0.8888888888888888,
             "#fdca26"
            ],
            [
             1,
             "#f0f921"
            ]
           ]
          },
          "colorway": [
           "#636efa",
           "#EF553B",
           "#00cc96",
           "#ab63fa",
           "#FFA15A",
           "#19d3f3",
           "#FF6692",
           "#B6E880",
           "#FF97FF",
           "#FECB52"
          ],
          "font": {
           "color": "#2a3f5f"
          },
          "geo": {
           "bgcolor": "white",
           "lakecolor": "white",
           "landcolor": "#E5ECF6",
           "showlakes": true,
           "showland": true,
           "subunitcolor": "white"
          },
          "hoverlabel": {
           "align": "left"
          },
          "hovermode": "closest",
          "mapbox": {
           "style": "light"
          },
          "paper_bgcolor": "white",
          "plot_bgcolor": "#E5ECF6",
          "polar": {
           "angularaxis": {
            "gridcolor": "white",
            "linecolor": "white",
            "ticks": ""
           },
           "bgcolor": "#E5ECF6",
           "radialaxis": {
            "gridcolor": "white",
            "linecolor": "white",
            "ticks": ""
           }
          },
          "scene": {
           "xaxis": {
            "backgroundcolor": "#E5ECF6",
            "gridcolor": "white",
            "gridwidth": 2,
            "linecolor": "white",
            "showbackground": true,
            "ticks": "",
            "zerolinecolor": "white"
           },
           "yaxis": {
            "backgroundcolor": "#E5ECF6",
            "gridcolor": "white",
            "gridwidth": 2,
            "linecolor": "white",
            "showbackground": true,
            "ticks": "",
            "zerolinecolor": "white"
           },
           "zaxis": {
            "backgroundcolor": "#E5ECF6",
            "gridcolor": "white",
            "gridwidth": 2,
            "linecolor": "white",
            "showbackground": true,
            "ticks": "",
            "zerolinecolor": "white"
           }
          },
          "shapedefaults": {
           "line": {
            "color": "#2a3f5f"
           }
          },
          "ternary": {
           "aaxis": {
            "gridcolor": "white",
            "linecolor": "white",
            "ticks": ""
           },
           "baxis": {
            "gridcolor": "white",
            "linecolor": "white",
            "ticks": ""
           },
           "bgcolor": "#E5ECF6",
           "caxis": {
            "gridcolor": "white",
            "linecolor": "white",
            "ticks": ""
           }
          },
          "title": {
           "x": 0.05
          },
          "xaxis": {
           "automargin": true,
           "gridcolor": "white",
           "linecolor": "white",
           "ticks": "",
           "title": {
            "standoff": 15
           },
           "zerolinecolor": "white",
           "zerolinewidth": 2
          },
          "yaxis": {
           "automargin": true,
           "gridcolor": "white",
           "linecolor": "white",
           "ticks": "",
           "title": {
            "standoff": 15
           },
           "zerolinecolor": "white",
           "zerolinewidth": 2
          }
         }
        },
        "title": {
         "text": "Education Levels of Business Owners in the US"
        }
       }
      }
     },
     "metadata": {},
     "output_type": "display_data"
    }
   ],
   "source": [
    "#only getting the totals section instead of ethnicity\n",
    "totalRespondants = filter['OWNER_RACE_LABEL'] == 'All owners of respondent firms'\n",
    "newdf = filter[totalRespondants]\n",
    "print(newdf)\n",
    "newdf\n",
    "\n",
    "newdf['OWNPDEMP'] = newdf['OWNPDEMP'].map(lambda x: int(x))\n",
    "# newdf.info()\n",
    "\n",
    "# newdf =filter.groupby(\"OWNCHAR_LABEL\").agg('sum')['OWNPDEMP']\n",
    "# type(newdf)\n",
    "# newdf\n",
    "# print(newdf)\n",
    "\n",
    "# xvalues = []\n",
    "# yvalues = []\n",
    "\n",
    "# for i,v in newdf.items():\n",
    "#     xvalues.append(i)\n",
    "#     yvalues.append(v)\n",
    "    \n",
    "    \n",
    "\n",
    "\n",
    "\n",
    "\n",
    "#removing the weird education reporting such as total and item not reported\n",
    "# import plotly.express as px\n",
    "newdf = newdf[newdf['OWNCHAR_LABEL'] != 'Total reporting']\n",
    "newdf = newdf[newdf['OWNCHAR_LABEL'] != 'Item not reported']\n",
    "\n",
    "\n",
    "#plot the total as bar\n",
    "fig = px.bar(newdf.sort_values(by='OWNPDEMP',ascending=False),x='OWNCHAR_LABEL',y='OWNPDEMP',text_auto = '.2s',title=\"Education Levels of Business Owners in the US\",\n",
    "             labels ={\"OWNCHAR_LABEL\":\"Education Level\",\n",
    "                    \"OWNPDEMP\":\"Number of Business Owners In US\"})\n",
    "\n",
    "fig.show()\n",
    "\n",
    "#same thing but as treemap\n",
    "fig = px.treemap(newdf, path=['OWNCHAR_LABEL'], values='OWNPDEMP',title=\"Education Levels of Business Owners in the US\",\n",
    "                color='OWNPDEMP',names='OWNPDEMP',labels = { \"OWNPDEMP\":\"Number of Business Owners In US\"})\n",
    "fig.show()\n",
    "\n",
    "\n",
    "\n",
    "\n",
    "\n",
    "\n",
    "\n",
    "# ethnicityTable = EDUCdf_US['OWNER_RACE_LABEL'].drop_duplicates()\n",
    "# ethnicityTable\n",
    "\n",
    "# def seperate_by_race(ethnicityTable,df):\n",
    "#     mylist = []\n",
    "#     for value in ethnicityTable:\n",
    "#         filter = df[\"OWNER_RACE_LABEL\"] == value\n",
    "#         tempdf = df[filter]\n",
    "#         mylist.append(tempdf)\n",
    "        \n",
    "\n",
    "        \n",
    "\n",
    "\n",
    "\n",
    "    \n",
    "# filter = filter['OWNCHAR_LABEL'].map(lambda x:x == 'Associate degree')\n",
    "\n",
    "# print(filter)\n",
    "# filter.groupby('NAME').agg('count')['OWNCHAR_LABEL']\n",
    "# s= filter['OWNCHAR_LABEL'].value_counts()\n",
    "# s\n"
   ]
  },
  {
   "cell_type": "code",
   "execution_count": 48,
   "metadata": {},
   "outputs": [
    {
     "data": {
      "application/vnd.plotly.v1+json": {
       "config": {
        "plotlyServerURL": "https://plot.ly"
       },
       "data": [
        {
         "alignmentgroup": "True",
         "hovertemplate": "OWNCHAR_LABEL=Less than high school graduate<br>STATES=%{x}<br>Number of Business Owners In US=%{y}<extra></extra>",
         "legendgroup": "Less than high school graduate",
         "marker": {
          "color": "#636efa",
          "pattern": {
           "shape": ""
          }
         },
         "name": "Less than high school graduate",
         "offsetgroup": "Less than high school graduate",
         "orientation": "v",
         "showlegend": true,
         "textposition": "auto",
         "type": "bar",
         "x": [
          "Mississippi",
          "Missouri",
          "Montana",
          "Nebraska",
          "Nevada",
          "New Hampshire",
          "New Jersey",
          "New Mexico",
          "New York",
          "North Carolina",
          "North Dakota",
          "Ohio",
          "Oklahoma",
          "Oregon",
          "Pennsylvania",
          "Rhode Island",
          "South Carolina",
          "South Dakota",
          "Tennessee",
          "Texas",
          "Vermont",
          "Utah",
          "Virginia",
          "Washington",
          "West Virginia",
          "Wisconsin",
          "Wyoming",
          "Alabama",
          "Alaska",
          "Arizona",
          "Arkansas",
          "California",
          "Colorado",
          "Delaware",
          "District of Columbia",
          "Connecticut",
          "Florida",
          "Georgia",
          "Idaho",
          "Hawaii",
          "Illinois",
          "Indiana",
          "Iowa",
          "Kansas",
          "Kentucky",
          "Louisiana",
          "Maine",
          "Maryland",
          "Massachusetts",
          "Michigan",
          "Minnesota"
         ],
         "xaxis": "x",
         "y": [
          877,
          2278,
          525,
          342,
          674,
          596,
          3276,
          659,
          8559,
          2607,
          132,
          2683,
          1181,
          2210,
          5446,
          279,
          1794,
          382,
          1837,
          9063,
          257,
          1483,
          3144,
          2791,
          328,
          1473,
          133,
          1403,
          319,
          1724,
          870,
          16563,
          2070,
          227,
          0,
          1025,
          7288,
          2065,
          1366,
          406,
          4398,
          1729,
          1116,
          1167,
          955,
          1408,
          581,
          2442,
          1932,
          3424,
          1855
         ],
         "yaxis": "y"
        },
        {
         "alignmentgroup": "True",
         "hovertemplate": "OWNCHAR_LABEL=High school graduate - diploma or GED<br>STATES=%{x}<br>Number of Business Owners In US=%{y}<extra></extra>",
         "legendgroup": "High school graduate - diploma or GED",
         "marker": {
          "color": "#EF553B",
          "pattern": {
           "shape": ""
          }
         },
         "name": "High school graduate - diploma or GED",
         "offsetgroup": "High school graduate - diploma or GED",
         "orientation": "v",
         "showlegend": true,
         "textposition": "auto",
         "type": "bar",
         "x": [
          "Mississippi",
          "Missouri",
          "Montana",
          "Nebraska",
          "Nevada",
          "New Hampshire",
          "New Jersey",
          "New Mexico",
          "New York",
          "North Carolina",
          "North Dakota",
          "Ohio",
          "Oklahoma",
          "Oregon",
          "Pennsylvania",
          "Rhode Island",
          "South Carolina",
          "South Dakota",
          "Tennessee",
          "Texas",
          "Vermont",
          "Utah",
          "Virginia",
          "Washington",
          "West Virginia",
          "Wisconsin",
          "Wyoming",
          "Alabama",
          "Alaska",
          "Arizona",
          "Arkansas",
          "California",
          "Colorado",
          "Delaware",
          "District of Columbia",
          "Connecticut",
          "Florida",
          "Georgia",
          "Idaho",
          "Hawaii",
          "Illinois",
          "Indiana",
          "Iowa",
          "Kansas",
          "Kentucky",
          "Louisiana",
          "Maine",
          "Maryland",
          "Massachusetts",
          "Michigan",
          "Minnesota"
         ],
         "xaxis": "x",
         "y": [
          5443,
          17210,
          6084,
          7273,
          5782,
          3955,
          23207,
          4028,
          51898,
          25037,
          2382,
          30892,
          9457,
          15467,
          37255,
          2226,
          9574,
          3745,
          13231,
          44743,
          2622,
          8727,
          19013,
          21709,
          4639,
          21631,
          3264,
          8836,
          1744,
          12096,
          8119,
          82508,
          16159,
          1904,
          665,
          7421,
          55410,
          19489,
          6232,
          2679,
          32725,
          21126,
          12038,
          8022,
          10715,
          10446,
          5178,
          12762,
          16774,
          28364,
          16992
         ],
         "yaxis": "y"
        },
        {
         "alignmentgroup": "True",
         "hovertemplate": "OWNCHAR_LABEL=Technical, trade, or vocational school<br>STATES=%{x}<br>Number of Business Owners In US=%{y}<extra></extra>",
         "legendgroup": "Technical, trade, or vocational school",
         "marker": {
          "color": "#00cc96",
          "pattern": {
           "shape": ""
          }
         },
         "name": "Technical, trade, or vocational school",
         "offsetgroup": "Technical, trade, or vocational school",
         "orientation": "v",
         "showlegend": true,
         "textposition": "auto",
         "type": "bar",
         "x": [
          "Mississippi",
          "Missouri",
          "Montana",
          "Nebraska",
          "Nevada",
          "New Hampshire",
          "New Jersey",
          "New Mexico",
          "New York",
          "North Carolina",
          "North Dakota",
          "Ohio",
          "Oklahoma",
          "Oregon",
          "Pennsylvania",
          "Rhode Island",
          "South Carolina",
          "South Dakota",
          "Tennessee",
          "Texas",
          "Vermont",
          "Utah",
          "Virginia",
          "Washington",
          "West Virginia",
          "Wisconsin",
          "Wyoming",
          "Alabama",
          "Alaska",
          "Arizona",
          "Arkansas",
          "California",
          "Colorado",
          "Delaware",
          "District of Columbia",
          "Connecticut",
          "Florida",
          "Georgia",
          "Idaho",
          "Hawaii",
          "Illinois",
          "Indiana",
          "Iowa",
          "Kansas",
          "Kentucky",
          "Louisiana",
          "Maine",
          "Maryland",
          "Massachusetts",
          "Michigan",
          "Minnesota"
         ],
         "xaxis": "x",
         "y": [
          1194,
          4818,
          1460,
          3235,
          1053,
          720,
          5994,
          996,
          9819,
          6750,
          1246,
          7837,
          1722,
          4750,
          12270,
          580,
          2624,
          2186,
          3162,
          11805,
          627,
          2725,
          4451,
          7512,
          601,
          12648,
          493,
          2399,
          561,
          4299,
          1700,
          20250,
          4990,
          589,
          0,
          2772,
          17851,
          6272,
          1785,
          814,
          8598,
          5322,
          4505,
          2542,
          2728,
          2193,
          1426,
          2971,
          4588,
          5953,
          12275
         ],
         "yaxis": "y"
        },
        {
         "alignmentgroup": "True",
         "hovertemplate": "OWNCHAR_LABEL=Some college, but no degree<br>STATES=%{x}<br>Number of Business Owners In US=%{y}<extra></extra>",
         "legendgroup": "Some college, but no degree",
         "marker": {
          "color": "#ab63fa",
          "pattern": {
           "shape": ""
          }
         },
         "name": "Some college, but no degree",
         "offsetgroup": "Some college, but no degree",
         "orientation": "v",
         "showlegend": true,
         "textposition": "auto",
         "type": "bar",
         "x": [
          "Mississippi",
          "Missouri",
          "Montana",
          "Nebraska",
          "Nevada",
          "New Hampshire",
          "New Jersey",
          "New Mexico",
          "New York",
          "North Carolina",
          "North Dakota",
          "Ohio",
          "Oklahoma",
          "Oregon",
          "Pennsylvania",
          "Rhode Island",
          "South Carolina",
          "South Dakota",
          "Tennessee",
          "Texas",
          "Vermont",
          "Utah",
          "Virginia",
          "Washington",
          "West Virginia",
          "Wisconsin",
          "Wyoming",
          "Alabama",
          "Alaska",
          "Arizona",
          "Arkansas",
          "California",
          "Colorado",
          "Delaware",
          "District of Columbia",
          "Connecticut",
          "Florida",
          "Georgia",
          "Idaho",
          "Hawaii",
          "Illinois",
          "Indiana",
          "Iowa",
          "Kansas",
          "Kentucky",
          "Louisiana",
          "Maine",
          "Maryland",
          "Massachusetts",
          "Michigan",
          "Minnesota"
         ],
         "xaxis": "x",
         "y": [
          3749,
          12185,
          4781,
          5670,
          5314,
          2116,
          13325,
          4119,
          30747,
          17022,
          2198,
          18229,
          8421,
          11944,
          16730,
          1562,
          7008,
          2631,
          9533,
          47814,
          1065,
          10664,
          12608,
          18092,
          2002,
          10259,
          1771,
          6197,
          2023,
          13667,
          5343,
          79898,
          14584,
          1429,
          418,
          4558,
          44760,
          14980,
          5111,
          1606,
          22533,
          11808,
          6442,
          5888,
          6947,
          7599,
          2877,
          10054,
          10143,
          19706,
          11828
         ],
         "yaxis": "y"
        },
        {
         "alignmentgroup": "True",
         "hovertemplate": "OWNCHAR_LABEL=Associate degree<br>STATES=%{x}<br>Number of Business Owners In US=%{y}<extra></extra>",
         "legendgroup": "Associate degree",
         "marker": {
          "color": "#FFA15A",
          "pattern": {
           "shape": ""
          }
         },
         "name": "Associate degree",
         "offsetgroup": "Associate degree",
         "orientation": "v",
         "showlegend": true,
         "textposition": "auto",
         "type": "bar",
         "x": [
          "Mississippi",
          "Missouri",
          "Montana",
          "Nebraska",
          "Nevada",
          "New Hampshire",
          "New Jersey",
          "New Mexico",
          "New York",
          "North Carolina",
          "North Dakota",
          "Ohio",
          "Oklahoma",
          "Oregon",
          "Pennsylvania",
          "Rhode Island",
          "South Carolina",
          "South Dakota",
          "Tennessee",
          "Texas",
          "Vermont",
          "Utah",
          "Virginia",
          "Washington",
          "West Virginia",
          "Wisconsin",
          "Wyoming",
          "Alabama",
          "Alaska",
          "Arizona",
          "Arkansas",
          "California",
          "Colorado",
          "Delaware",
          "District of Columbia",
          "Connecticut",
          "Florida",
          "Georgia",
          "Idaho",
          "Hawaii",
          "Illinois",
          "Indiana",
          "Iowa",
          "Kansas",
          "Kentucky",
          "Louisiana",
          "Maine",
          "Maryland",
          "Massachusetts",
          "Michigan",
          "Minnesota"
         ],
         "xaxis": "x",
         "y": [
          1725,
          5019,
          1252,
          2352,
          1631,
          1428,
          5468,
          1239,
          16190,
          8602,
          1171,
          6787,
          1826,
          4323,
          7896,
          791,
          3196,
          1254,
          2747,
          12527,
          997,
          3070,
          4940,
          7437,
          862,
          5689,
          792,
          2078,
          422,
          3648,
          1689,
          26449,
          4649,
          596,
          0,
          2460,
          21336,
          4594,
          1793,
          896,
          8695,
          5381,
          4074,
          2369,
          2447,
          1690,
          1709,
          3307,
          4833,
          8232,
          5841
         ],
         "yaxis": "y"
        },
        {
         "alignmentgroup": "True",
         "hovertemplate": "OWNCHAR_LABEL=Bachelor's degree<br>STATES=%{x}<br>Number of Business Owners In US=%{y}<extra></extra>",
         "legendgroup": "Bachelor's degree",
         "marker": {
          "color": "#19d3f3",
          "pattern": {
           "shape": ""
          }
         },
         "name": "Bachelor's degree",
         "offsetgroup": "Bachelor's degree",
         "orientation": "v",
         "showlegend": true,
         "textposition": "auto",
         "type": "bar",
         "x": [
          "Mississippi",
          "Missouri",
          "Montana",
          "Nebraska",
          "Nevada",
          "New Hampshire",
          "New Jersey",
          "New Mexico",
          "New York",
          "North Carolina",
          "North Dakota",
          "Ohio",
          "Oklahoma",
          "Oregon",
          "Pennsylvania",
          "Rhode Island",
          "South Carolina",
          "South Dakota",
          "Tennessee",
          "Texas",
          "Vermont",
          "Utah",
          "Virginia",
          "Washington",
          "West Virginia",
          "Wisconsin",
          "Wyoming",
          "Alabama",
          "Alaska",
          "Arizona",
          "Arkansas",
          "California",
          "Colorado",
          "Delaware",
          "District of Columbia",
          "Connecticut",
          "Florida",
          "Georgia",
          "Idaho",
          "Hawaii",
          "Illinois",
          "Indiana",
          "Iowa",
          "Kansas",
          "Kentucky",
          "Louisiana",
          "Maine",
          "Maryland",
          "Massachusetts",
          "Michigan",
          "Minnesota"
         ],
         "xaxis": "x",
         "y": [
          6399,
          24499,
          6655,
          10336,
          8629,
          5704,
          39004,
          5784,
          79452,
          42339,
          5084,
          39956,
          14061,
          19297,
          47485,
          3308,
          16998,
          3967,
          21553,
          95444,
          3541,
          12422,
          31983,
          31930,
          4827,
          24303,
          2850,
          15228,
          2406,
          21784,
          9852,
          175196,
          36300,
          3241,
          2497,
          12656,
          84370,
          37685,
          8336,
          4004,
          55075,
          22878,
          13265,
          13456,
          14333,
          15090,
          5817,
          20937,
          26116,
          32899,
          27009
         ],
         "yaxis": "y"
        },
        {
         "alignmentgroup": "True",
         "hovertemplate": "OWNCHAR_LABEL=Master's degree<br>STATES=%{x}<br>Number of Business Owners In US=%{y}<extra></extra>",
         "legendgroup": "Master's degree",
         "marker": {
          "color": "#FF6692",
          "pattern": {
           "shape": ""
          }
         },
         "name": "Master's degree",
         "offsetgroup": "Master's degree",
         "orientation": "v",
         "showlegend": true,
         "textposition": "auto",
         "type": "bar",
         "x": [
          "Mississippi",
          "Missouri",
          "Montana",
          "Nebraska",
          "Nevada",
          "New Hampshire",
          "New Jersey",
          "New Mexico",
          "New York",
          "North Carolina",
          "North Dakota",
          "Ohio",
          "Oklahoma",
          "Oregon",
          "Pennsylvania",
          "Rhode Island",
          "South Carolina",
          "South Dakota",
          "Tennessee",
          "Texas",
          "Vermont",
          "Utah",
          "Virginia",
          "Washington",
          "West Virginia",
          "Wisconsin",
          "Wyoming",
          "Alabama",
          "Alaska",
          "Arizona",
          "Arkansas",
          "California",
          "Colorado",
          "Delaware",
          "District of Columbia",
          "Connecticut",
          "Florida",
          "Georgia",
          "Idaho",
          "Hawaii",
          "Illinois",
          "Indiana",
          "Iowa",
          "Kansas",
          "Kentucky",
          "Louisiana",
          "Maine",
          "Maryland",
          "Massachusetts",
          "Michigan",
          "Minnesota"
         ],
         "xaxis": "x",
         "y": [
          1695,
          6630,
          1884,
          2085,
          2089,
          1929,
          12922,
          2281,
          27805,
          11153,
          544,
          9614,
          3888,
          5038,
          13795,
          994,
          3853,
          676,
          6287,
          29530,
          738,
          3544,
          13399,
          10052,
          1091,
          6205,
          1088,
          3258,
          510,
          6630,
          2288,
          54749,
          13133,
          1140,
          1046,
          4858,
          29566,
          12485,
          2487,
          1315,
          17262,
          6332,
          2385,
          3197,
          4003,
          3632,
          1844,
          8634,
          10344,
          8285,
          6991
         ],
         "yaxis": "y"
        },
        {
         "alignmentgroup": "True",
         "hovertemplate": "OWNCHAR_LABEL=Doctorate degree<br>STATES=%{x}<br>Number of Business Owners In US=%{y}<extra></extra>",
         "legendgroup": "Doctorate degree",
         "marker": {
          "color": "#B6E880",
          "pattern": {
           "shape": ""
          }
         },
         "name": "Doctorate degree",
         "offsetgroup": "Doctorate degree",
         "orientation": "v",
         "showlegend": true,
         "textposition": "auto",
         "type": "bar",
         "x": [
          "Mississippi",
          "Missouri",
          "Montana",
          "Nebraska",
          "Nevada",
          "New Hampshire",
          "New Jersey",
          "New Mexico",
          "New York",
          "North Carolina",
          "North Dakota",
          "Ohio",
          "Oklahoma",
          "Oregon",
          "Pennsylvania",
          "Rhode Island",
          "South Carolina",
          "South Dakota",
          "Tennessee",
          "Texas",
          "Vermont",
          "Utah",
          "Virginia",
          "Washington",
          "West Virginia",
          "Wisconsin",
          "Wyoming",
          "Alabama",
          "Alaska",
          "Arizona",
          "Arkansas",
          "California",
          "Colorado",
          "Delaware",
          "District of Columbia",
          "Connecticut",
          "Florida",
          "Georgia",
          "Idaho",
          "Hawaii",
          "Illinois",
          "Indiana",
          "Iowa",
          "Kansas",
          "Kentucky",
          "Louisiana",
          "Maine",
          "Maryland",
          "Massachusetts",
          "Michigan",
          "Minnesota"
         ],
         "xaxis": "x",
         "y": [
          438,
          1786,
          173,
          618,
          575,
          418,
          2294,
          521,
          4354,
          2461,
          186,
          1905,
          993,
          1749,
          2283,
          178,
          1133,
          470,
          710,
          5529,
          193,
          1165,
          2142,
          2094,
          170,
          1057,
          168,
          1341,
          220,
          1363,
          665,
          12653,
          1825,
          123,
          125,
          719,
          5854,
          2074,
          289,
          221,
          2971,
          1370,
          784,
          551,
          924,
          543,
          231,
          1786,
          2121,
          2656,
          1240
         ],
         "yaxis": "y"
        },
        {
         "alignmentgroup": "True",
         "hovertemplate": "OWNCHAR_LABEL=Professional degree beyond a bachelor's degree<br>STATES=%{x}<br>Number of Business Owners In US=%{y}<extra></extra>",
         "legendgroup": "Professional degree beyond a bachelor's degree",
         "marker": {
          "color": "#FF97FF",
          "pattern": {
           "shape": ""
          }
         },
         "name": "Professional degree beyond a bachelor's degree",
         "offsetgroup": "Professional degree beyond a bachelor's degree",
         "orientation": "v",
         "showlegend": true,
         "textposition": "auto",
         "type": "bar",
         "x": [
          "Mississippi",
          "Missouri",
          "Montana",
          "Nebraska",
          "Nevada",
          "New Hampshire",
          "New Jersey",
          "New Mexico",
          "New York",
          "North Carolina",
          "North Dakota",
          "Ohio",
          "Oklahoma",
          "Oregon",
          "Pennsylvania",
          "Rhode Island",
          "South Carolina",
          "South Dakota",
          "Tennessee",
          "Texas",
          "Vermont",
          "Utah",
          "Virginia",
          "Washington",
          "West Virginia",
          "Wisconsin",
          "Wyoming",
          "Alabama",
          "Alaska",
          "Arizona",
          "Arkansas",
          "California",
          "Colorado",
          "Delaware",
          "District of Columbia",
          "Connecticut",
          "Florida",
          "Georgia",
          "Idaho",
          "Hawaii",
          "Illinois",
          "Indiana",
          "Iowa",
          "Kansas",
          "Kentucky",
          "Louisiana",
          "Maine",
          "Maryland",
          "Massachusetts",
          "Michigan",
          "Minnesota"
         ],
         "xaxis": "x",
         "y": [
          3513,
          7004,
          2076,
          3565,
          4240,
          1557,
          15987,
          2545,
          32667,
          13329,
          1427,
          15731,
          5732,
          6812,
          17674,
          1281,
          5594,
          996,
          7002,
          35296,
          918,
          4087,
          11602,
          11049,
          1940,
          7152,
          1033,
          5959,
          1056,
          8973,
          3769,
          66664,
          10364,
          1489,
          1628,
          6190,
          34069,
          13795,
          2742,
          2076,
          20378,
          7811,
          3471,
          4768,
          6879,
          7293,
          1850,
          8799,
          9611,
          11239,
          6514
         ],
         "yaxis": "y"
        }
       ],
       "layout": {
        "barmode": "relative",
        "legend": {
         "title": {
          "text": "OWNCHAR_LABEL"
         },
         "tracegroupgap": 0
        },
        "template": {
         "data": {
          "bar": [
           {
            "error_x": {
             "color": "#2a3f5f"
            },
            "error_y": {
             "color": "#2a3f5f"
            },
            "marker": {
             "line": {
              "color": "#E5ECF6",
              "width": 0.5
             },
             "pattern": {
              "fillmode": "overlay",
              "size": 10,
              "solidity": 0.2
             }
            },
            "type": "bar"
           }
          ],
          "barpolar": [
           {
            "marker": {
             "line": {
              "color": "#E5ECF6",
              "width": 0.5
             },
             "pattern": {
              "fillmode": "overlay",
              "size": 10,
              "solidity": 0.2
             }
            },
            "type": "barpolar"
           }
          ],
          "carpet": [
           {
            "aaxis": {
             "endlinecolor": "#2a3f5f",
             "gridcolor": "white",
             "linecolor": "white",
             "minorgridcolor": "white",
             "startlinecolor": "#2a3f5f"
            },
            "baxis": {
             "endlinecolor": "#2a3f5f",
             "gridcolor": "white",
             "linecolor": "white",
             "minorgridcolor": "white",
             "startlinecolor": "#2a3f5f"
            },
            "type": "carpet"
           }
          ],
          "choropleth": [
           {
            "colorbar": {
             "outlinewidth": 0,
             "ticks": ""
            },
            "type": "choropleth"
           }
          ],
          "contour": [
           {
            "colorbar": {
             "outlinewidth": 0,
             "ticks": ""
            },
            "colorscale": [
             [
              0,
              "#0d0887"
             ],
             [
              0.1111111111111111,
              "#46039f"
             ],
             [
              0.2222222222222222,
              "#7201a8"
             ],
             [
              0.3333333333333333,
              "#9c179e"
             ],
             [
              0.4444444444444444,
              "#bd3786"
             ],
             [
              0.5555555555555556,
              "#d8576b"
             ],
             [
              0.6666666666666666,
              "#ed7953"
             ],
             [
              0.7777777777777778,
              "#fb9f3a"
             ],
             [
              0.8888888888888888,
              "#fdca26"
             ],
             [
              1,
              "#f0f921"
             ]
            ],
            "type": "contour"
           }
          ],
          "contourcarpet": [
           {
            "colorbar": {
             "outlinewidth": 0,
             "ticks": ""
            },
            "type": "contourcarpet"
           }
          ],
          "heatmap": [
           {
            "colorbar": {
             "outlinewidth": 0,
             "ticks": ""
            },
            "colorscale": [
             [
              0,
              "#0d0887"
             ],
             [
              0.1111111111111111,
              "#46039f"
             ],
             [
              0.2222222222222222,
              "#7201a8"
             ],
             [
              0.3333333333333333,
              "#9c179e"
             ],
             [
              0.4444444444444444,
              "#bd3786"
             ],
             [
              0.5555555555555556,
              "#d8576b"
             ],
             [
              0.6666666666666666,
              "#ed7953"
             ],
             [
              0.7777777777777778,
              "#fb9f3a"
             ],
             [
              0.8888888888888888,
              "#fdca26"
             ],
             [
              1,
              "#f0f921"
             ]
            ],
            "type": "heatmap"
           }
          ],
          "heatmapgl": [
           {
            "colorbar": {
             "outlinewidth": 0,
             "ticks": ""
            },
            "colorscale": [
             [
              0,
              "#0d0887"
             ],
             [
              0.1111111111111111,
              "#46039f"
             ],
             [
              0.2222222222222222,
              "#7201a8"
             ],
             [
              0.3333333333333333,
              "#9c179e"
             ],
             [
              0.4444444444444444,
              "#bd3786"
             ],
             [
              0.5555555555555556,
              "#d8576b"
             ],
             [
              0.6666666666666666,
              "#ed7953"
             ],
             [
              0.7777777777777778,
              "#fb9f3a"
             ],
             [
              0.8888888888888888,
              "#fdca26"
             ],
             [
              1,
              "#f0f921"
             ]
            ],
            "type": "heatmapgl"
           }
          ],
          "histogram": [
           {
            "marker": {
             "pattern": {
              "fillmode": "overlay",
              "size": 10,
              "solidity": 0.2
             }
            },
            "type": "histogram"
           }
          ],
          "histogram2d": [
           {
            "colorbar": {
             "outlinewidth": 0,
             "ticks": ""
            },
            "colorscale": [
             [
              0,
              "#0d0887"
             ],
             [
              0.1111111111111111,
              "#46039f"
             ],
             [
              0.2222222222222222,
              "#7201a8"
             ],
             [
              0.3333333333333333,
              "#9c179e"
             ],
             [
              0.4444444444444444,
              "#bd3786"
             ],
             [
              0.5555555555555556,
              "#d8576b"
             ],
             [
              0.6666666666666666,
              "#ed7953"
             ],
             [
              0.7777777777777778,
              "#fb9f3a"
             ],
             [
              0.8888888888888888,
              "#fdca26"
             ],
             [
              1,
              "#f0f921"
             ]
            ],
            "type": "histogram2d"
           }
          ],
          "histogram2dcontour": [
           {
            "colorbar": {
             "outlinewidth": 0,
             "ticks": ""
            },
            "colorscale": [
             [
              0,
              "#0d0887"
             ],
             [
              0.1111111111111111,
              "#46039f"
             ],
             [
              0.2222222222222222,
              "#7201a8"
             ],
             [
              0.3333333333333333,
              "#9c179e"
             ],
             [
              0.4444444444444444,
              "#bd3786"
             ],
             [
              0.5555555555555556,
              "#d8576b"
             ],
             [
              0.6666666666666666,
              "#ed7953"
             ],
             [
              0.7777777777777778,
              "#fb9f3a"
             ],
             [
              0.8888888888888888,
              "#fdca26"
             ],
             [
              1,
              "#f0f921"
             ]
            ],
            "type": "histogram2dcontour"
           }
          ],
          "mesh3d": [
           {
            "colorbar": {
             "outlinewidth": 0,
             "ticks": ""
            },
            "type": "mesh3d"
           }
          ],
          "parcoords": [
           {
            "line": {
             "colorbar": {
              "outlinewidth": 0,
              "ticks": ""
             }
            },
            "type": "parcoords"
           }
          ],
          "pie": [
           {
            "automargin": true,
            "type": "pie"
           }
          ],
          "scatter": [
           {
            "fillpattern": {
             "fillmode": "overlay",
             "size": 10,
             "solidity": 0.2
            },
            "type": "scatter"
           }
          ],
          "scatter3d": [
           {
            "line": {
             "colorbar": {
              "outlinewidth": 0,
              "ticks": ""
             }
            },
            "marker": {
             "colorbar": {
              "outlinewidth": 0,
              "ticks": ""
             }
            },
            "type": "scatter3d"
           }
          ],
          "scattercarpet": [
           {
            "marker": {
             "colorbar": {
              "outlinewidth": 0,
              "ticks": ""
             }
            },
            "type": "scattercarpet"
           }
          ],
          "scattergeo": [
           {
            "marker": {
             "colorbar": {
              "outlinewidth": 0,
              "ticks": ""
             }
            },
            "type": "scattergeo"
           }
          ],
          "scattergl": [
           {
            "marker": {
             "colorbar": {
              "outlinewidth": 0,
              "ticks": ""
             }
            },
            "type": "scattergl"
           }
          ],
          "scattermapbox": [
           {
            "marker": {
             "colorbar": {
              "outlinewidth": 0,
              "ticks": ""
             }
            },
            "type": "scattermapbox"
           }
          ],
          "scatterpolar": [
           {
            "marker": {
             "colorbar": {
              "outlinewidth": 0,
              "ticks": ""
             }
            },
            "type": "scatterpolar"
           }
          ],
          "scatterpolargl": [
           {
            "marker": {
             "colorbar": {
              "outlinewidth": 0,
              "ticks": ""
             }
            },
            "type": "scatterpolargl"
           }
          ],
          "scatterternary": [
           {
            "marker": {
             "colorbar": {
              "outlinewidth": 0,
              "ticks": ""
             }
            },
            "type": "scatterternary"
           }
          ],
          "surface": [
           {
            "colorbar": {
             "outlinewidth": 0,
             "ticks": ""
            },
            "colorscale": [
             [
              0,
              "#0d0887"
             ],
             [
              0.1111111111111111,
              "#46039f"
             ],
             [
              0.2222222222222222,
              "#7201a8"
             ],
             [
              0.3333333333333333,
              "#9c179e"
             ],
             [
              0.4444444444444444,
              "#bd3786"
             ],
             [
              0.5555555555555556,
              "#d8576b"
             ],
             [
              0.6666666666666666,
              "#ed7953"
             ],
             [
              0.7777777777777778,
              "#fb9f3a"
             ],
             [
              0.8888888888888888,
              "#fdca26"
             ],
             [
              1,
              "#f0f921"
             ]
            ],
            "type": "surface"
           }
          ],
          "table": [
           {
            "cells": {
             "fill": {
              "color": "#EBF0F8"
             },
             "line": {
              "color": "white"
             }
            },
            "header": {
             "fill": {
              "color": "#C8D4E3"
             },
             "line": {
              "color": "white"
             }
            },
            "type": "table"
           }
          ]
         },
         "layout": {
          "annotationdefaults": {
           "arrowcolor": "#2a3f5f",
           "arrowhead": 0,
           "arrowwidth": 1
          },
          "autotypenumbers": "strict",
          "coloraxis": {
           "colorbar": {
            "outlinewidth": 0,
            "ticks": ""
           }
          },
          "colorscale": {
           "diverging": [
            [
             0,
             "#8e0152"
            ],
            [
             0.1,
             "#c51b7d"
            ],
            [
             0.2,
             "#de77ae"
            ],
            [
             0.3,
             "#f1b6da"
            ],
            [
             0.4,
             "#fde0ef"
            ],
            [
             0.5,
             "#f7f7f7"
            ],
            [
             0.6,
             "#e6f5d0"
            ],
            [
             0.7,
             "#b8e186"
            ],
            [
             0.8,
             "#7fbc41"
            ],
            [
             0.9,
             "#4d9221"
            ],
            [
             1,
             "#276419"
            ]
           ],
           "sequential": [
            [
             0,
             "#0d0887"
            ],
            [
             0.1111111111111111,
             "#46039f"
            ],
            [
             0.2222222222222222,
             "#7201a8"
            ],
            [
             0.3333333333333333,
             "#9c179e"
            ],
            [
             0.4444444444444444,
             "#bd3786"
            ],
            [
             0.5555555555555556,
             "#d8576b"
            ],
            [
             0.6666666666666666,
             "#ed7953"
            ],
            [
             0.7777777777777778,
             "#fb9f3a"
            ],
            [
             0.8888888888888888,
             "#fdca26"
            ],
            [
             1,
             "#f0f921"
            ]
           ],
           "sequentialminus": [
            [
             0,
             "#0d0887"
            ],
            [
             0.1111111111111111,
             "#46039f"
            ],
            [
             0.2222222222222222,
             "#7201a8"
            ],
            [
             0.3333333333333333,
             "#9c179e"
            ],
            [
             0.4444444444444444,
             "#bd3786"
            ],
            [
             0.5555555555555556,
             "#d8576b"
            ],
            [
             0.6666666666666666,
             "#ed7953"
            ],
            [
             0.7777777777777778,
             "#fb9f3a"
            ],
            [
             0.8888888888888888,
             "#fdca26"
            ],
            [
             1,
             "#f0f921"
            ]
           ]
          },
          "colorway": [
           "#636efa",
           "#EF553B",
           "#00cc96",
           "#ab63fa",
           "#FFA15A",
           "#19d3f3",
           "#FF6692",
           "#B6E880",
           "#FF97FF",
           "#FECB52"
          ],
          "font": {
           "color": "#2a3f5f"
          },
          "geo": {
           "bgcolor": "white",
           "lakecolor": "white",
           "landcolor": "#E5ECF6",
           "showlakes": true,
           "showland": true,
           "subunitcolor": "white"
          },
          "hoverlabel": {
           "align": "left"
          },
          "hovermode": "closest",
          "mapbox": {
           "style": "light"
          },
          "paper_bgcolor": "white",
          "plot_bgcolor": "#E5ECF6",
          "polar": {
           "angularaxis": {
            "gridcolor": "white",
            "linecolor": "white",
            "ticks": ""
           },
           "bgcolor": "#E5ECF6",
           "radialaxis": {
            "gridcolor": "white",
            "linecolor": "white",
            "ticks": ""
           }
          },
          "scene": {
           "xaxis": {
            "backgroundcolor": "#E5ECF6",
            "gridcolor": "white",
            "gridwidth": 2,
            "linecolor": "white",
            "showbackground": true,
            "ticks": "",
            "zerolinecolor": "white"
           },
           "yaxis": {
            "backgroundcolor": "#E5ECF6",
            "gridcolor": "white",
            "gridwidth": 2,
            "linecolor": "white",
            "showbackground": true,
            "ticks": "",
            "zerolinecolor": "white"
           },
           "zaxis": {
            "backgroundcolor": "#E5ECF6",
            "gridcolor": "white",
            "gridwidth": 2,
            "linecolor": "white",
            "showbackground": true,
            "ticks": "",
            "zerolinecolor": "white"
           }
          },
          "shapedefaults": {
           "line": {
            "color": "#2a3f5f"
           }
          },
          "ternary": {
           "aaxis": {
            "gridcolor": "white",
            "linecolor": "white",
            "ticks": ""
           },
           "baxis": {
            "gridcolor": "white",
            "linecolor": "white",
            "ticks": ""
           },
           "bgcolor": "#E5ECF6",
           "caxis": {
            "gridcolor": "white",
            "linecolor": "white",
            "ticks": ""
           }
          },
          "title": {
           "x": 0.05
          },
          "xaxis": {
           "automargin": true,
           "gridcolor": "white",
           "linecolor": "white",
           "ticks": "",
           "title": {
            "standoff": 15
           },
           "zerolinecolor": "white",
           "zerolinewidth": 2
          },
          "yaxis": {
           "automargin": true,
           "gridcolor": "white",
           "linecolor": "white",
           "ticks": "",
           "title": {
            "standoff": 15
           },
           "zerolinecolor": "white",
           "zerolinewidth": 2
          }
         }
        },
        "title": {
         "text": "Education Levels of Business Owners across US States"
        },
        "xaxis": {
         "anchor": "y",
         "domain": [
          0,
          1
         ],
         "title": {
          "text": "STATES"
         }
        },
        "yaxis": {
         "anchor": "x",
         "domain": [
          0,
          1
         ],
         "title": {
          "text": "Number of Business Owners In US"
         }
        }
       }
      }
     },
     "metadata": {},
     "output_type": "display_data"
    }
   ],
   "source": [
    "\n",
    "# print(EDUCdf)\n",
    "\n",
    "filter = EDUCdf_States[['NAME','OWNER_RACE_LABEL','OWNCHAR_LABEL','OWNPDEMP']]\n",
    "\n",
    "\n",
    "totalRespondants = filter['OWNER_RACE_LABEL'] == 'All owners of respondent firms'\n",
    "newdf2 = filter[totalRespondants]\n",
    "newdf2 = newdf2[newdf2['OWNCHAR_LABEL'] != 'Total reporting']\n",
    "newdf2 = newdf2[newdf2['OWNCHAR_LABEL'] != 'Item not reported']\n",
    "newdf2['OWNPDEMP'] = newdf2['OWNPDEMP'].astype('int64')\n",
    "\n",
    "newdf2\n",
    "fig = px.bar(newdf2, x=\"NAME\", y=\"OWNPDEMP\", color=\"OWNCHAR_LABEL\", title=\"Education Levels of Business Owners across US States\",\n",
    "               labels ={\"NAME\":\"STATES\",\n",
    "                    \"OWNPDEMP\":\"Number of Business Owners In US\"})\n",
    "fig.show()\n",
    "\n",
    "# newdf2.groupby(['NAME','OWNCHAR_LABEL']).agg('sum')['OWNPDEMP']\n",
    "# newdf2\n",
    "# myfilter = filter['OWNCHAR_LABEL'] == 'Associate degree'\n",
    "\n",
    "# filter[myfilter]\n",
    "    \n",
    "\n",
    "# type(filter)\n",
    "# filter\n",
    "# print(filter)\n",
    "# s=filter.groupby('NAME').agg('count')['OWNCHAR_LABEL']\n",
    "# s= filter['OWNCHAR_LABEL'].value_counts()\n",
    "\n"
   ]
  },
  {
   "cell_type": "code",
   "execution_count": null,
   "metadata": {},
   "outputs": [],
   "source": []
  }
 ],
 "metadata": {
  "kernelspec": {
   "display_name": "base",
   "language": "python",
   "name": "python3"
  },
  "language_info": {
   "codemirror_mode": {
    "name": "ipython",
    "version": 3
   },
   "file_extension": ".py",
   "mimetype": "text/x-python",
   "name": "python",
   "nbconvert_exporter": "python",
   "pygments_lexer": "ipython3",
   "version": "3.8.16"
  },
  "orig_nbformat": 4
 },
 "nbformat": 4,
 "nbformat_minor": 2
}
