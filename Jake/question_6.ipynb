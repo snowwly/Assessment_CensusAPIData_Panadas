{
 "cells": [
  {
   "attachments": {},
   "cell_type": "markdown",
   "metadata": {},
   "source": [
    "## Question 6: How has the number of employees changed over time?"
   ]
  },
  {
   "attachments": {},
   "cell_type": "markdown",
   "metadata": {},
   "source": [
    "**Note: Little transformation was done as the extracted data was already very clean and  easy to manipulate for the visualizations**"
   ]
  },
  {
   "cell_type": "code",
   "execution_count": 1,
   "metadata": {},
   "outputs": [],
   "source": [
    "import requests\n",
    "import pandas as pd\n",
    "import numpy as np\n",
    "import matplotlib.pyplot as plt"
   ]
  },
  {
   "attachments": {},
   "cell_type": "markdown",
   "metadata": {},
   "source": [
    "### Extract"
   ]
  },
  {
   "attachments": {},
   "cell_type": "markdown",
   "metadata": {},
   "source": [
    "Data was extracted from the [Annual Business Survey (ABS) APIs](https://www.census.gov/data/developers/data-sets/abs.html)."
   ]
  },
  {
   "cell_type": "code",
   "execution_count": 2,
   "metadata": {},
   "outputs": [],
   "source": [
    "url = 'https://api.census.gov/data/2017/abscs?get=NAICS2017,NAICS2017_LABEL,EMP&for=us:*'\n",
    "url2 = 'https://api.census.gov/data/2018/abscs?get=NAICS2017,NAICS2017_LABEL,EMP&for=us:*'\n",
    "url3 = 'https://api.census.gov/data/2019/abscs?get=NAICS2017,NAICS2017_LABEL,EMP&for=us:*'\n",
    "url4 = 'https://api.census.gov/data/2020/abscs?get=NAICS2017,NAICS2017_LABEL,EMP&for=us:*'"
   ]
  },
  {
   "cell_type": "code",
   "execution_count": 3,
   "metadata": {},
   "outputs": [],
   "source": [
    "response = requests.get(url)\n",
    "response2 = requests.get(url2)\n",
    "response3 = requests.get(url3)\n",
    "response4 = requests.get(url4)"
   ]
  },
  {
   "cell_type": "code",
   "execution_count": 4,
   "metadata": {},
   "outputs": [],
   "source": [
    "data = response.json()\n",
    "data2 = response2.json()\n",
    "data3 = response3.json()\n",
    "data4 = response4.json()\n",
    "\n",
    "columns = data[0]\n",
    "columns2 = data2[0]\n",
    "columns3 = data3[0]\n",
    "columns4 = data4[0]\n",
    "\n",
    "# 4 Different Data Frames were generated\n",
    "df_2017 = pd.DataFrame(data[1:], columns = columns)\n",
    "df_2018 = pd.DataFrame(data2[1:], columns = columns2)\n",
    "df_2019 = pd.DataFrame(data3[1:], columns = columns3)\n",
    "df_2020 = pd.DataFrame(data4[1:], columns = columns4)"
   ]
  },
  {
   "attachments": {},
   "cell_type": "markdown",
   "metadata": {},
   "source": [
    "### Transform"
   ]
  },
  {
   "attachments": {},
   "cell_type": "markdown",
   "metadata": {},
   "source": [
    "Columns were filtered and added."
   ]
  },
  {
   "cell_type": "code",
   "execution_count": 5,
   "metadata": {},
   "outputs": [],
   "source": [
    "df_2017 = df_2017[df_2017['NAICS2017'] == '44-45']\n",
    "df_2017['Year'] = '2017'\n",
    "df_2018 = df_2018[df_2018['NAICS2017'] == '44-45']\n",
    "df_2018['Year'] = '2018'\n",
    "df_2019 = df_2019[df_2019['NAICS2017'] == '44-45']\n",
    "df_2019['Year'] = '2019'\n",
    "df_2020 = df_2020[df_2020['NAICS2017'] == '44-45']\n",
    "df_2020['Year'] = '2020'"
   ]
  },
  {
   "attachments": {},
   "cell_type": "markdown",
   "metadata": {},
   "source": [
    "All 4 Data Frames were concated together to form one Data Frame."
   ]
  },
  {
   "cell_type": "code",
   "execution_count": 6,
   "metadata": {},
   "outputs": [],
   "source": [
    "c = pd.concat([df_2017,df_2018,df_2019, df_2020])"
   ]
  },
  {
   "cell_type": "code",
   "execution_count": 7,
   "metadata": {},
   "outputs": [
    {
     "data": {
      "text/html": [
       "<div>\n",
       "<style scoped>\n",
       "    .dataframe tbody tr th:only-of-type {\n",
       "        vertical-align: middle;\n",
       "    }\n",
       "\n",
       "    .dataframe tbody tr th {\n",
       "        vertical-align: top;\n",
       "    }\n",
       "\n",
       "    .dataframe thead th {\n",
       "        text-align: right;\n",
       "    }\n",
       "</style>\n",
       "<table border=\"1\" class=\"dataframe\">\n",
       "  <thead>\n",
       "    <tr style=\"text-align: right;\">\n",
       "      <th></th>\n",
       "      <th>NAICS2017</th>\n",
       "      <th>NAICS2017_LABEL</th>\n",
       "      <th>EMP</th>\n",
       "      <th>us</th>\n",
       "      <th>Year</th>\n",
       "    </tr>\n",
       "  </thead>\n",
       "  <tbody>\n",
       "    <tr>\n",
       "      <th>796</th>\n",
       "      <td>44-45</td>\n",
       "      <td>Retail trade</td>\n",
       "      <td>15981504</td>\n",
       "      <td>1</td>\n",
       "      <td>2017</td>\n",
       "    </tr>\n",
       "    <tr>\n",
       "      <th>6</th>\n",
       "      <td>44-45</td>\n",
       "      <td>Retail trade</td>\n",
       "      <td>15875876</td>\n",
       "      <td>1</td>\n",
       "      <td>2018</td>\n",
       "    </tr>\n",
       "    <tr>\n",
       "      <th>41</th>\n",
       "      <td>44-45</td>\n",
       "      <td>Retail trade</td>\n",
       "      <td>15743993</td>\n",
       "      <td>1</td>\n",
       "      <td>2019</td>\n",
       "    </tr>\n",
       "    <tr>\n",
       "      <th>158</th>\n",
       "      <td>44-45</td>\n",
       "      <td>Retail trade</td>\n",
       "      <td>15918206</td>\n",
       "      <td>1</td>\n",
       "      <td>2020</td>\n",
       "    </tr>\n",
       "  </tbody>\n",
       "</table>\n",
       "</div>"
      ],
      "text/plain": [
       "    NAICS2017 NAICS2017_LABEL       EMP us  Year\n",
       "796     44-45    Retail trade  15981504  1  2017\n",
       "6       44-45    Retail trade  15875876  1  2018\n",
       "41      44-45    Retail trade  15743993  1  2019\n",
       "158     44-45    Retail trade  15918206  1  2020"
      ]
     },
     "execution_count": 7,
     "metadata": {},
     "output_type": "execute_result"
    }
   ],
   "source": [
    "c"
   ]
  },
  {
   "attachments": {},
   "cell_type": "markdown",
   "metadata": {},
   "source": [
    "Columns were renamed for easier identification when generating visualization."
   ]
  },
  {
   "cell_type": "code",
   "execution_count": 8,
   "metadata": {},
   "outputs": [],
   "source": [
    "c.rename(columns = { 'NAICS2017' : 'Industry Code',\n",
    "                     'NAICS2017_LABEL' : 'Industry Name',\n",
    "                     'EMP' : 'Number of Employees',\n",
    "                    },\n",
    "                        inplace = True)"
   ]
  },
  {
   "attachments": {},
   "cell_type": "markdown",
   "metadata": {},
   "source": [
    "The column's data type was changed."
   ]
  },
  {
   "cell_type": "code",
   "execution_count": 9,
   "metadata": {},
   "outputs": [],
   "source": [
    "convert_dict = {\n",
    "                    'Number of Employees' : np.int64\n",
    "                }\n",
    "\n",
    "c = c.astype(convert_dict)"
   ]
  },
  {
   "attachments": {},
   "cell_type": "markdown",
   "metadata": {},
   "source": [
    "Divided the 'Number of Employees' column by 1 Billion for better understanding in the visualization."
   ]
  },
  {
   "cell_type": "code",
   "execution_count": 23,
   "metadata": {},
   "outputs": [],
   "source": [
    "c['Number of Employees (1 Billion)'] = c['Number of Employees'] / 1000000"
   ]
  },
  {
   "cell_type": "code",
   "execution_count": 24,
   "metadata": {},
   "outputs": [
    {
     "data": {
      "text/html": [
       "<div>\n",
       "<style scoped>\n",
       "    .dataframe tbody tr th:only-of-type {\n",
       "        vertical-align: middle;\n",
       "    }\n",
       "\n",
       "    .dataframe tbody tr th {\n",
       "        vertical-align: top;\n",
       "    }\n",
       "\n",
       "    .dataframe thead th {\n",
       "        text-align: right;\n",
       "    }\n",
       "</style>\n",
       "<table border=\"1\" class=\"dataframe\">\n",
       "  <thead>\n",
       "    <tr style=\"text-align: right;\">\n",
       "      <th></th>\n",
       "      <th>Industry Code</th>\n",
       "      <th>Industry Name</th>\n",
       "      <th>Number of Employees</th>\n",
       "      <th>us</th>\n",
       "      <th>Year</th>\n",
       "      <th>Number of Employees (1 Billion)</th>\n",
       "    </tr>\n",
       "  </thead>\n",
       "  <tbody>\n",
       "    <tr>\n",
       "      <th>796</th>\n",
       "      <td>44-45</td>\n",
       "      <td>Retail trade</td>\n",
       "      <td>15981504</td>\n",
       "      <td>1</td>\n",
       "      <td>2017</td>\n",
       "      <td>15.981504</td>\n",
       "    </tr>\n",
       "    <tr>\n",
       "      <th>6</th>\n",
       "      <td>44-45</td>\n",
       "      <td>Retail trade</td>\n",
       "      <td>15875876</td>\n",
       "      <td>1</td>\n",
       "      <td>2018</td>\n",
       "      <td>15.875876</td>\n",
       "    </tr>\n",
       "    <tr>\n",
       "      <th>41</th>\n",
       "      <td>44-45</td>\n",
       "      <td>Retail trade</td>\n",
       "      <td>15743993</td>\n",
       "      <td>1</td>\n",
       "      <td>2019</td>\n",
       "      <td>15.743993</td>\n",
       "    </tr>\n",
       "    <tr>\n",
       "      <th>158</th>\n",
       "      <td>44-45</td>\n",
       "      <td>Retail trade</td>\n",
       "      <td>15918206</td>\n",
       "      <td>1</td>\n",
       "      <td>2020</td>\n",
       "      <td>15.918206</td>\n",
       "    </tr>\n",
       "  </tbody>\n",
       "</table>\n",
       "</div>"
      ],
      "text/plain": [
       "    Industry Code Industry Name  Number of Employees us  Year  \\\n",
       "796         44-45  Retail trade             15981504  1  2017   \n",
       "6           44-45  Retail trade             15875876  1  2018   \n",
       "41          44-45  Retail trade             15743993  1  2019   \n",
       "158         44-45  Retail trade             15918206  1  2020   \n",
       "\n",
       "     Number of Employees (1 Billion)  \n",
       "796                        15.981504  \n",
       "6                          15.875876  \n",
       "41                         15.743993  \n",
       "158                        15.918206  "
      ]
     },
     "execution_count": 24,
     "metadata": {},
     "output_type": "execute_result"
    }
   ],
   "source": [
    "c"
   ]
  },
  {
   "cell_type": "code",
   "execution_count": 27,
   "metadata": {},
   "outputs": [
    {
     "name": "stdout",
     "output_type": "stream",
     "text": [
      "<class 'pandas.core.frame.DataFrame'>\n",
      "Int64Index: 4 entries, 796 to 158\n",
      "Data columns (total 6 columns):\n",
      " #   Column                           Non-Null Count  Dtype  \n",
      "---  ------                           --------------  -----  \n",
      " 0   Industry Code                    4 non-null      object \n",
      " 1   Industry Name                    4 non-null      object \n",
      " 2   Number of Employees              4 non-null      int64  \n",
      " 3   us                               4 non-null      object \n",
      " 4   Year                             4 non-null      object \n",
      " 5   Number of Employees (1 Billion)  4 non-null      float64\n",
      "dtypes: float64(1), int64(1), object(4)\n",
      "memory usage: 224.0+ bytes\n"
     ]
    }
   ],
   "source": [
    "c.info()"
   ]
  },
  {
   "attachments": {},
   "cell_type": "markdown",
   "metadata": {},
   "source": [
    "### Load"
   ]
  },
  {
   "cell_type": "code",
   "execution_count": 26,
   "metadata": {},
   "outputs": [
    {
     "data": {
      "image/png": "[encoded data removed]",
      "text/plain": [
       "<Figure size 640x480 with 1 Axes>"
      ]
     },
     "metadata": {},
     "output_type": "display_data"
    }
   ],
   "source": [
    "plt.plot(c['Year'], c['Number of Employees (1 Billion)'])\n",
    "plt.title('Number of Employees over Time in Retail Trade')\n",
    "plt.xlabel('Year')\n",
    "plt.ylabel('Number of Employees (1 Billion)')\n",
    "plt.show()"
   ]
  }
 ],
 "metadata": {
  "kernelspec": {
   "display_name": "base",
   "language": "python",
   "name": "python3"
  },
  "language_info": {
   "codemirror_mode": {
    "name": "ipython",
    "version": 3
   },
   "file_extension": ".py",
   "mimetype": "text/x-python",
   "name": "python",
   "nbconvert_exporter": "python",
   "pygments_lexer": "ipython3",
   "version": "3.9.13"
  },
  "orig_nbformat": 4
 },
 "nbformat": 4,
 "nbformat_minor": 2
}
